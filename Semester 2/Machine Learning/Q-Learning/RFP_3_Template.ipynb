{
 "cells": [
  {
   "cell_type": "markdown",
   "id": "fdb73e9d",
   "metadata": {},
   "source": [
    "# RFP: Maze Solvers\n",
    "\n",
    "## Project Overview\n",
    "You are invited to submit a proposal that answers the following question:\n",
    "\n",
    "### What path will your elf take?\n",
    "\n",
    "*Please submit your proposal by **2/11/25 at 11:59 PM**.*"
   ]
  },
  {
   "cell_type": "markdown",
   "id": "d88b6a60",
   "metadata": {},
   "source": [
    "## Required Proposal Components\n",
    "\n",
    "### 1. Data Description\n",
    "In the code cell below, use [Gymnasium](https://gymnasium.farama.org/) to set up a [Frozen Lake maze](https://gymnasium.farama.org/environments/toy_text/frozen_lake/) for your project. When you are done with the set up, describe the reward system you plan on using.\n",
    "\n",
    "*Note, a level 5 maze is at least 10 x 10 cells large and contains at least five lake cells.*"
   ]
  },
  {
   "cell_type": "code",
   "execution_count": 22,
   "id": "8744bf04",
   "metadata": {},
   "outputs": [],
   "source": [
    "import gymnasium as gym\n",
    "import time\n",
    "import random as rand\n",
    "from gymnasium.envs.toy_text.frozen_lake import generate_random_map"
   ]
  },
  {
   "cell_type": "code",
   "execution_count": 41,
   "id": "34314a12",
   "metadata": {},
   "outputs": [],
   "source": [
    "# Make maze\n",
    "size = 10\n",
    "\n",
    "custom_map = generate_random_map(size=size, p=.8)\n",
    "env = gym.make(\"FrozenLake-v1\", render_mode=\"human\", desc=custom_map, is_slippery=False)\n",
    "\n",
    "obs,info = env.reset()\n",
    "\n",
    "env.render()"
   ]
  },
  {
   "cell_type": "code",
   "execution_count": null,
   "id": "f1424d62",
   "metadata": {},
   "outputs": [],
   "source": []
  },
  {
   "cell_type": "code",
   "execution_count": 44,
   "id": "98f9f37e",
   "metadata": {},
   "outputs": [],
   "source": [
    "env.close()"
   ]
  },
  {
   "cell_type": "markdown",
   "id": "c38ed9f9",
   "metadata": {},
   "source": [
    "#### Describe your reward system here."
   ]
  },
  {
   "cell_type": "markdown",
   "id": "67f80b3f",
   "metadata": {},
   "source": [
    "### 2. Training Your Model\n",
    "In the cell seen below, write the code you need to train a Q-Learning model. Display your final Q-table once you are done training your model.\n",
    "\n",
    "*Note, level 5 work uses only the standard Python library and Pandas to train your Q-Learning model. A level 4 uses external libraries like Baseline3.*"
   ]
  },
  {
   "cell_type": "code",
   "execution_count": 49,
   "id": "d92a9c29",
   "metadata": {},
   "outputs": [
    {
     "data": {
      "text/plain": [
       "{0: {'Left': 0.0, 'Right': 0.0, 'Up': 0.0, 'Down': 0.0},\n",
       " 1: {'Left': 0.0, 'Right': 0.0, 'Up': 0.0, 'Down': 0.0},\n",
       " 2: {'Left': 0.0, 'Right': 0.0, 'Up': 0.0, 'Down': 0.0},\n",
       " 3: {'Left': 0.0, 'Right': 0.0, 'Up': 0.0, 'Down': 0.0},\n",
       " 4: {'Left': 0.0, 'Right': 0.0, 'Up': 0.0, 'Down': 0.0},\n",
       " 5: {'Left': 0.0, 'Right': 0.0, 'Up': 0.0, 'Down': 0.0},\n",
       " 6: {'Left': 0.0, 'Right': 0.0, 'Up': 0.0, 'Down': 0.0},\n",
       " 7: {'Left': 0.0, 'Right': 0.0, 'Up': 0.0, 'Down': 0.0},\n",
       " 8: {'Left': 0.0, 'Right': 0.0, 'Up': 0.0, 'Down': 0.0},\n",
       " 9: {'Left': 0.0, 'Right': 0.0, 'Up': 0.0, 'Down': 0.0},\n",
       " 10: {'Left': 0.0, 'Right': 0.0, 'Up': 0.0, 'Down': 0.0},\n",
       " 11: {'Left': 0.0, 'Right': 0.0, 'Up': 0.0, 'Down': 0.0},\n",
       " 12: {'Left': 0.0, 'Right': 0.0, 'Up': 0.0, 'Down': 0.0},\n",
       " 13: {'Left': 0.0, 'Right': 0.0, 'Up': 0.0, 'Down': 0.0},\n",
       " 14: {'Left': 0.0, 'Right': 0.0, 'Up': 0.0, 'Down': 0.0},\n",
       " 15: {'Left': 0.0, 'Right': 0.0, 'Up': 0.0, 'Down': 0.0},\n",
       " 16: {'Left': 0.0, 'Right': 0.0, 'Up': 0.0, 'Down': 0.0},\n",
       " 17: {'Left': 0.0, 'Right': 0.0, 'Up': 0.0, 'Down': 0.0},\n",
       " 18: {'Left': 0.0, 'Right': 0.0, 'Up': 0.0, 'Down': 0.0},\n",
       " 19: {'Left': 0.0, 'Right': 0.0, 'Up': 0.0, 'Down': 0.0},\n",
       " 20: {'Left': 0.0, 'Right': 0.0, 'Up': 0.0, 'Down': 0.0},\n",
       " 21: {'Left': 0.0, 'Right': 0.0, 'Up': 0.0, 'Down': 0.0},\n",
       " 22: {'Left': 0.0, 'Right': 0.0, 'Up': 0.0, 'Down': 0.0},\n",
       " 23: {'Left': 0.0, 'Right': 0.0, 'Up': 0.0, 'Down': 0.0},\n",
       " 24: {'Left': 0.0, 'Right': 0.0, 'Up': 0.0, 'Down': 0.0},\n",
       " 25: {'Left': 0.0, 'Right': 0.0, 'Up': 0.0, 'Down': 0.0},\n",
       " 26: {'Left': 0.0, 'Right': 0.0, 'Up': 0.0, 'Down': 0.0},\n",
       " 27: {'Left': 0.0, 'Right': 0.0, 'Up': 0.0, 'Down': 0.0},\n",
       " 28: {'Left': 0.0, 'Right': 0.0, 'Up': 0.0, 'Down': 0.0},\n",
       " 29: {'Left': 0.0, 'Right': 0.0, 'Up': 0.0, 'Down': 0.0},\n",
       " 30: {'Left': 0.0, 'Right': 0.0, 'Up': 0.0, 'Down': 0.0},\n",
       " 31: {'Left': 0.0, 'Right': 0.0, 'Up': 0.0, 'Down': 0.0},\n",
       " 32: {'Left': 0.0, 'Right': 0.0, 'Up': 0.0, 'Down': 0.0},\n",
       " 33: {'Left': 0.0, 'Right': 0.0, 'Up': 0.0, 'Down': 0.0},\n",
       " 34: {'Left': 0.0, 'Right': 0.0, 'Up': 0.0, 'Down': 0.0},\n",
       " 35: {'Left': 0.0, 'Right': 0.0, 'Up': 0.0, 'Down': 0.0},\n",
       " 36: {'Left': 0.0, 'Right': 0.0, 'Up': 0.0, 'Down': 0.0},\n",
       " 37: {'Left': 0.0, 'Right': 0.0, 'Up': 0.0, 'Down': 0.0},\n",
       " 38: {'Left': 0.0, 'Right': 0.0, 'Up': 0.0, 'Down': 0.0},\n",
       " 39: {'Left': 0.0, 'Right': 0.0, 'Up': 0.0, 'Down': 0.0},\n",
       " 40: {'Left': 0.0, 'Right': 0.0, 'Up': 0.0, 'Down': 0.0},\n",
       " 41: {'Left': 0.0, 'Right': 0.0, 'Up': 0.0, 'Down': 0.0},\n",
       " 42: {'Left': 0.0, 'Right': 0.0, 'Up': 0.0, 'Down': 0.0},\n",
       " 43: {'Left': 0.0, 'Right': 0.0, 'Up': 0.0, 'Down': 0.0},\n",
       " 44: {'Left': 0.0, 'Right': 0.0, 'Up': 0.0, 'Down': 0.0},\n",
       " 45: {'Left': 0.0, 'Right': 0.0, 'Up': 0.0, 'Down': 0.0},\n",
       " 46: {'Left': 0.0, 'Right': 0.0, 'Up': 0.0, 'Down': 0.0},\n",
       " 47: {'Left': 0.0, 'Right': 0.0, 'Up': 0.0, 'Down': 0.0},\n",
       " 48: {'Left': 0.0, 'Right': 0.0, 'Up': 0.0, 'Down': 0.0},\n",
       " 49: {'Left': 0.0, 'Right': 0.0, 'Up': 0.0, 'Down': 0.0},\n",
       " 50: {'Left': 0.0, 'Right': 0.0, 'Up': 0.0, 'Down': 0.0},\n",
       " 51: {'Left': 0.0, 'Right': 0.0, 'Up': 0.0, 'Down': 0.0},\n",
       " 52: {'Left': 0.0, 'Right': 0.0, 'Up': 0.0, 'Down': 0.0},\n",
       " 53: {'Left': 0.0, 'Right': 0.0, 'Up': 0.0, 'Down': 0.0},\n",
       " 54: {'Left': 0.0, 'Right': 0.0, 'Up': 0.0, 'Down': 0.0},\n",
       " 55: {'Left': 0.0, 'Right': 0.0, 'Up': 0.0, 'Down': 0.0},\n",
       " 56: {'Left': 0.0, 'Right': 0.0, 'Up': 0.0, 'Down': 0.0},\n",
       " 57: {'Left': 0.0, 'Right': 0.0, 'Up': 0.0, 'Down': 0.0},\n",
       " 58: {'Left': 0.0, 'Right': 0.0, 'Up': 0.0, 'Down': 0.0},\n",
       " 59: {'Left': 0.0, 'Right': 0.0, 'Up': 0.0, 'Down': 0.0},\n",
       " 60: {'Left': 0.0, 'Right': 0.0, 'Up': 0.0, 'Down': 0.0},\n",
       " 61: {'Left': 0.0, 'Right': 0.0, 'Up': 0.0, 'Down': 0.0},\n",
       " 62: {'Left': 0.0, 'Right': 0.0, 'Up': 0.0, 'Down': 0.0},\n",
       " 63: {'Left': 0.0, 'Right': 0.0, 'Up': 0.0, 'Down': 0.0},\n",
       " 64: {'Left': 0.0, 'Right': 0.0, 'Up': 0.0, 'Down': 0.0},\n",
       " 65: {'Left': 0.0, 'Right': 0.0, 'Up': 0.0, 'Down': 0.0},\n",
       " 66: {'Left': 0.0, 'Right': 0.0, 'Up': 0.0, 'Down': 0.0},\n",
       " 67: {'Left': 0.0, 'Right': 0.0, 'Up': 0.0, 'Down': 0.0},\n",
       " 68: {'Left': 0.0, 'Right': 0.0, 'Up': 0.0, 'Down': 0.0},\n",
       " 69: {'Left': 0.0, 'Right': 0.0, 'Up': 0.0, 'Down': 0.0},\n",
       " 70: {'Left': 0.0, 'Right': 0.0, 'Up': 0.0, 'Down': 0.0},\n",
       " 71: {'Left': 0.0, 'Right': 0.0, 'Up': 0.0, 'Down': 0.0},\n",
       " 72: {'Left': 0.0, 'Right': 0.0, 'Up': 0.0, 'Down': 0.0},\n",
       " 73: {'Left': 0.0, 'Right': 0.0, 'Up': 0.0, 'Down': 0.0},\n",
       " 74: {'Left': 0.0, 'Right': 0.0, 'Up': 0.0, 'Down': 0.0},\n",
       " 75: {'Left': 0.0, 'Right': 0.0, 'Up': 0.0, 'Down': 0.0},\n",
       " 76: {'Left': 0.0, 'Right': 0.0, 'Up': 0.0, 'Down': 0.0},\n",
       " 77: {'Left': 0.0, 'Right': 0.0, 'Up': 0.0, 'Down': 0.0},\n",
       " 78: {'Left': 0.0, 'Right': 0.0, 'Up': 0.0, 'Down': 0.0},\n",
       " 79: {'Left': 0.0, 'Right': 0.0, 'Up': 0.0, 'Down': 0.0},\n",
       " 80: {'Left': 0.0, 'Right': 0.0, 'Up': 0.0, 'Down': 0.0},\n",
       " 81: {'Left': 0.0, 'Right': 0.0, 'Up': 0.0, 'Down': 0.0},\n",
       " 82: {'Left': 0.0, 'Right': 0.0, 'Up': 0.0, 'Down': 0.0},\n",
       " 83: {'Left': 0.0, 'Right': 0.0, 'Up': 0.0, 'Down': 0.0},\n",
       " 84: {'Left': 0.0, 'Right': 0.0, 'Up': 0.0, 'Down': 0.0},\n",
       " 85: {'Left': 0.0, 'Right': 0.0, 'Up': 0.0, 'Down': 0.0},\n",
       " 86: {'Left': 0.0, 'Right': 0.0, 'Up': 0.0, 'Down': 0.0},\n",
       " 87: {'Left': 0.0, 'Right': 0.0, 'Up': 0.0, 'Down': 0.0},\n",
       " 88: {'Left': 0.0, 'Right': 0.0, 'Up': 0.0, 'Down': 0.0},\n",
       " 89: {'Left': 0.0, 'Right': 0.0, 'Up': 0.0, 'Down': 0.0},\n",
       " 90: {'Left': 0.0, 'Right': 0.0, 'Up': 0.0, 'Down': 0.0},\n",
       " 91: {'Left': 0.0, 'Right': 0.0, 'Up': 0.0, 'Down': 0.0},\n",
       " 92: {'Left': 0.0, 'Right': 0.0, 'Up': 0.0, 'Down': 0.0},\n",
       " 93: {'Left': 0.0, 'Right': 0.0, 'Up': 0.0, 'Down': 0.0},\n",
       " 94: {'Left': 0.0, 'Right': 0.0, 'Up': 0.0, 'Down': 0.0},\n",
       " 95: {'Left': 0.0, 'Right': 0.0, 'Up': 0.0, 'Down': 0.0},\n",
       " 96: {'Left': 0.0, 'Right': 0.0, 'Up': 0.0, 'Down': 0.0},\n",
       " 97: {'Left': 0.0, 'Right': 0.0, 'Up': 0.0, 'Down': 0.0},\n",
       " 98: {'Left': 0.0, 'Right': 0.0, 'Up': 0.0, 'Down': 0.0},\n",
       " 99: {'Left': 0.0, 'Right': 0.0, 'Up': 0.0, 'Down': 0.0}}"
      ]
     },
     "execution_count": 49,
     "metadata": {},
     "output_type": "execute_result"
    }
   ],
   "source": [
    "# Train model here.\n",
    "rewards = {\n",
    "    \"Step\": -1,\n",
    "    \"Hole\": -15,\n",
    "    \"Treasure\": 15\n",
    "}\n",
    "\n",
    "# Actions: 0 is Left, 1 is Down, 2 is Right, 3 is Up\n",
    "actions = {\n",
    "    'Left' : 0,\n",
    "    'Right': 2,\n",
    "    'Up': 3,\n",
    "    'Down': 1\n",
    "}\n",
    "\n",
    "learning_rate = .5\n",
    "discount = .5\n",
    "\n",
    "# Bellman Equation: (1-alpha) * q(s, a) + alpha(R + gamma(max(q(s', a'))))\n",
    "\n",
    "qtable = {row: {direction: 0.0 for direction in list(actions.keys())} for row in range(100)} # Row: Tile; Column: Move Direction\n",
    "\n",
    "qtable"
   ]
  },
  {
   "cell_type": "code",
   "execution_count": null,
   "id": "73e62305",
   "metadata": {},
   "outputs": [
    {
     "name": "stdout",
     "output_type": "stream",
     "text": [
      "Action: 0, New State: 0, Reward: 0.0, Done: False\n",
      "Action: 3, New State: 0, Reward: 0.0, Done: False\n",
      "Action: 2, New State: 1, Reward: 0.0, Done: False\n",
      "Action: 0, New State: 0, Reward: 0.0, Done: False\n",
      "Action: 1, New State: 10, Reward: 0.0, Done: False\n",
      "Action: 3, New State: 0, Reward: 0.0, Done: False\n",
      "Action: 2, New State: 1, Reward: 0.0, Done: False\n",
      "Action: 0, New State: 0, Reward: 0.0, Done: False\n",
      "Action: 2, New State: 1, Reward: 0.0, Done: False\n",
      "Action: 2, New State: 2, Reward: 0.0, Done: False\n",
      "Action: 3, New State: 2, Reward: 0.0, Done: False\n",
      "Action: 0, New State: 1, Reward: 0.0, Done: False\n",
      "Action: 2, New State: 2, Reward: 0.0, Done: False\n",
      "Action: 1, New State: 12, Reward: 0.0, Done: False\n",
      "Action: 0, New State: 11, Reward: 0.0, Done: False\n",
      "Action: 0, New State: 10, Reward: 0.0, Done: False\n",
      "Action: 3, New State: 0, Reward: 0.0, Done: False\n",
      "Action: 1, New State: 10, Reward: 0.0, Done: False\n",
      "Action: 1, New State: 20, Reward: 0.0, Done: False\n",
      "Action: 1, New State: 30, Reward: 0.0, Done: False\n",
      "Action: 1, New State: 40, Reward: 0.0, Done: False\n",
      "Action: 1, New State: 50, Reward: 0.0, Done: True\n",
      "Action: 3, New State: 0, Reward: 0.0, Done: False\n",
      "Action: 0, New State: 0, Reward: 0.0, Done: False\n",
      "Action: 0, New State: 0, Reward: 0.0, Done: False\n",
      "Action: 0, New State: 0, Reward: 0.0, Done: False\n",
      "Action: 3, New State: 0, Reward: 0.0, Done: False\n",
      "Action: 0, New State: 0, Reward: 0.0, Done: False\n",
      "Action: 0, New State: 0, Reward: 0.0, Done: False\n",
      "Action: 3, New State: 0, Reward: 0.0, Done: False\n",
      "Action: 2, New State: 1, Reward: 0.0, Done: False\n",
      "Action: 1, New State: 11, Reward: 0.0, Done: False\n",
      "Action: 0, New State: 10, Reward: 0.0, Done: False\n",
      "Action: 3, New State: 0, Reward: 0.0, Done: False\n",
      "Action: 1, New State: 10, Reward: 0.0, Done: False\n",
      "Action: 3, New State: 0, Reward: 0.0, Done: False\n",
      "Action: 0, New State: 0, Reward: 0.0, Done: False\n",
      "Action: 1, New State: 10, Reward: 0.0, Done: False\n",
      "Action: 1, New State: 20, Reward: 0.0, Done: False\n",
      "Action: 0, New State: 20, Reward: 0.0, Done: False\n",
      "Action: 3, New State: 10, Reward: 0.0, Done: False\n",
      "Action: 0, New State: 10, Reward: 0.0, Done: False\n",
      "Action: 3, New State: 0, Reward: 0.0, Done: False\n",
      "Action: 0, New State: 0, Reward: 0.0, Done: False\n",
      "Action: 0, New State: 0, Reward: 0.0, Done: False\n",
      "Action: 3, New State: 0, Reward: 0.0, Done: False\n",
      "Action: 3, New State: 0, Reward: 0.0, Done: False\n",
      "Action: 2, New State: 1, Reward: 0.0, Done: False\n"
     ]
    },
    {
     "ename": "KeyboardInterrupt",
     "evalue": "",
     "output_type": "error",
     "traceback": [
      "\u001b[1;31m---------------------------------------------------------------------------\u001b[0m",
      "\u001b[1;31mKeyboardInterrupt\u001b[0m                         Traceback (most recent call last)",
      "Cell \u001b[1;32mIn[43], line 6\u001b[0m\n\u001b[0;32m      4\u001b[0m action_name, action_value \u001b[38;5;241m=\u001b[39m rand\u001b[38;5;241m.\u001b[39mchoice(\u001b[38;5;28mlist\u001b[39m(actions\u001b[38;5;241m.\u001b[39mitems()))\n\u001b[0;32m      5\u001b[0m obs, reward, done, truncated, info \u001b[38;5;241m=\u001b[39m env\u001b[38;5;241m.\u001b[39mstep(action_value)\n\u001b[1;32m----> 6\u001b[0m \u001b[43menv\u001b[49m\u001b[38;5;241;43m.\u001b[39;49m\u001b[43mrender\u001b[49m\u001b[43m(\u001b[49m\u001b[43m)\u001b[49m\n\u001b[0;32m      8\u001b[0m \u001b[38;5;28mprint\u001b[39m(\u001b[38;5;124mf\u001b[39m\u001b[38;5;124m\"\u001b[39m\u001b[38;5;124mAction: \u001b[39m\u001b[38;5;132;01m{\u001b[39;00maction_value\u001b[38;5;132;01m}\u001b[39;00m\u001b[38;5;124m, New State: \u001b[39m\u001b[38;5;132;01m{\u001b[39;00mobs\u001b[38;5;132;01m}\u001b[39;00m\u001b[38;5;124m, Reward: \u001b[39m\u001b[38;5;132;01m{\u001b[39;00mreward\u001b[38;5;132;01m}\u001b[39;00m\u001b[38;5;124m, Done: \u001b[39m\u001b[38;5;132;01m{\u001b[39;00mdone\u001b[38;5;132;01m}\u001b[39;00m\u001b[38;5;124m\"\u001b[39m)\n\u001b[0;32m     10\u001b[0m \u001b[38;5;28;01mif\u001b[39;00m done:\n",
      "File \u001b[1;32mc:\\Users\\zmorrato\\AppData\\Local\\Programs\\Python\\Python313\\Lib\\site-packages\\gymnasium\\core.py:332\u001b[0m, in \u001b[0;36mWrapper.render\u001b[1;34m(self)\u001b[0m\n\u001b[0;32m    330\u001b[0m \u001b[38;5;28;01mdef\u001b[39;00m \u001b[38;5;21mrender\u001b[39m(\u001b[38;5;28mself\u001b[39m) \u001b[38;5;241m-\u001b[39m\u001b[38;5;241m>\u001b[39m RenderFrame \u001b[38;5;241m|\u001b[39m \u001b[38;5;28mlist\u001b[39m[RenderFrame] \u001b[38;5;241m|\u001b[39m \u001b[38;5;28;01mNone\u001b[39;00m:\n\u001b[0;32m    331\u001b[0m \u001b[38;5;250m    \u001b[39m\u001b[38;5;124;03m\"\"\"Uses the :meth:`render` of the :attr:`env` that can be overwritten to change the returned data.\"\"\"\u001b[39;00m\n\u001b[1;32m--> 332\u001b[0m     \u001b[38;5;28;01mreturn\u001b[39;00m \u001b[38;5;28;43mself\u001b[39;49m\u001b[38;5;241;43m.\u001b[39;49m\u001b[43menv\u001b[49m\u001b[38;5;241;43m.\u001b[39;49m\u001b[43mrender\u001b[49m\u001b[43m(\u001b[49m\u001b[43m)\u001b[49m\n",
      "File \u001b[1;32mc:\\Users\\zmorrato\\AppData\\Local\\Programs\\Python\\Python313\\Lib\\site-packages\\gymnasium\\wrappers\\common.py:409\u001b[0m, in \u001b[0;36mOrderEnforcing.render\u001b[1;34m(self)\u001b[0m\n\u001b[0;32m    404\u001b[0m \u001b[38;5;28;01mif\u001b[39;00m \u001b[38;5;129;01mnot\u001b[39;00m \u001b[38;5;28mself\u001b[39m\u001b[38;5;241m.\u001b[39m_disable_render_order_enforcing \u001b[38;5;129;01mand\u001b[39;00m \u001b[38;5;129;01mnot\u001b[39;00m \u001b[38;5;28mself\u001b[39m\u001b[38;5;241m.\u001b[39m_has_reset:\n\u001b[0;32m    405\u001b[0m     \u001b[38;5;28;01mraise\u001b[39;00m ResetNeeded(\n\u001b[0;32m    406\u001b[0m         \u001b[38;5;124m\"\u001b[39m\u001b[38;5;124mCannot call `env.render()` before calling `env.reset()`, if this is an intended action, \u001b[39m\u001b[38;5;124m\"\u001b[39m\n\u001b[0;32m    407\u001b[0m         \u001b[38;5;124m\"\u001b[39m\u001b[38;5;124mset `disable_render_order_enforcing=True` on the OrderEnforcer wrapper.\u001b[39m\u001b[38;5;124m\"\u001b[39m\n\u001b[0;32m    408\u001b[0m     )\n\u001b[1;32m--> 409\u001b[0m \u001b[38;5;28;01mreturn\u001b[39;00m \u001b[38;5;28;43msuper\u001b[39;49m\u001b[43m(\u001b[49m\u001b[43m)\u001b[49m\u001b[38;5;241;43m.\u001b[39;49m\u001b[43mrender\u001b[49m\u001b[43m(\u001b[49m\u001b[43m)\u001b[49m\n",
      "File \u001b[1;32mc:\\Users\\zmorrato\\AppData\\Local\\Programs\\Python\\Python313\\Lib\\site-packages\\gymnasium\\core.py:332\u001b[0m, in \u001b[0;36mWrapper.render\u001b[1;34m(self)\u001b[0m\n\u001b[0;32m    330\u001b[0m \u001b[38;5;28;01mdef\u001b[39;00m \u001b[38;5;21mrender\u001b[39m(\u001b[38;5;28mself\u001b[39m) \u001b[38;5;241m-\u001b[39m\u001b[38;5;241m>\u001b[39m RenderFrame \u001b[38;5;241m|\u001b[39m \u001b[38;5;28mlist\u001b[39m[RenderFrame] \u001b[38;5;241m|\u001b[39m \u001b[38;5;28;01mNone\u001b[39;00m:\n\u001b[0;32m    331\u001b[0m \u001b[38;5;250m    \u001b[39m\u001b[38;5;124;03m\"\"\"Uses the :meth:`render` of the :attr:`env` that can be overwritten to change the returned data.\"\"\"\u001b[39;00m\n\u001b[1;32m--> 332\u001b[0m     \u001b[38;5;28;01mreturn\u001b[39;00m \u001b[38;5;28;43mself\u001b[39;49m\u001b[38;5;241;43m.\u001b[39;49m\u001b[43menv\u001b[49m\u001b[38;5;241;43m.\u001b[39;49m\u001b[43mrender\u001b[49m\u001b[43m(\u001b[49m\u001b[43m)\u001b[49m\n",
      "File \u001b[1;32mc:\\Users\\zmorrato\\AppData\\Local\\Programs\\Python\\Python313\\Lib\\site-packages\\gymnasium\\wrappers\\common.py:303\u001b[0m, in \u001b[0;36mPassiveEnvChecker.render\u001b[1;34m(self)\u001b[0m\n\u001b[0;32m    301\u001b[0m     \u001b[38;5;28;01mreturn\u001b[39;00m env_render_passive_checker(\u001b[38;5;28mself\u001b[39m\u001b[38;5;241m.\u001b[39menv)\n\u001b[0;32m    302\u001b[0m \u001b[38;5;28;01melse\u001b[39;00m:\n\u001b[1;32m--> 303\u001b[0m     \u001b[38;5;28;01mreturn\u001b[39;00m \u001b[38;5;28;43mself\u001b[39;49m\u001b[38;5;241;43m.\u001b[39;49m\u001b[43menv\u001b[49m\u001b[38;5;241;43m.\u001b[39;49m\u001b[43mrender\u001b[49m\u001b[43m(\u001b[49m\u001b[43m)\u001b[49m\n",
      "File \u001b[1;32mc:\\Users\\zmorrato\\AppData\\Local\\Programs\\Python\\Python313\\Lib\\site-packages\\gymnasium\\envs\\toy_text\\frozen_lake.py:339\u001b[0m, in \u001b[0;36mFrozenLakeEnv.render\u001b[1;34m(self)\u001b[0m\n\u001b[0;32m    337\u001b[0m     \u001b[38;5;28;01mreturn\u001b[39;00m \u001b[38;5;28mself\u001b[39m\u001b[38;5;241m.\u001b[39m_render_text()\n\u001b[0;32m    338\u001b[0m \u001b[38;5;28;01melse\u001b[39;00m:  \u001b[38;5;66;03m# self.render_mode in {\"human\", \"rgb_array\"}:\u001b[39;00m\n\u001b[1;32m--> 339\u001b[0m     \u001b[38;5;28;01mreturn\u001b[39;00m \u001b[38;5;28;43mself\u001b[39;49m\u001b[38;5;241;43m.\u001b[39;49m\u001b[43m_render_gui\u001b[49m\u001b[43m(\u001b[49m\u001b[38;5;28;43mself\u001b[39;49m\u001b[38;5;241;43m.\u001b[39;49m\u001b[43mrender_mode\u001b[49m\u001b[43m)\u001b[49m\n",
      "File \u001b[1;32mc:\\Users\\zmorrato\\AppData\\Local\\Programs\\Python\\Python313\\Lib\\site-packages\\gymnasium\\envs\\toy_text\\frozen_lake.py:433\u001b[0m, in \u001b[0;36mFrozenLakeEnv._render_gui\u001b[1;34m(self, mode)\u001b[0m\n\u001b[0;32m    431\u001b[0m     pygame\u001b[38;5;241m.\u001b[39mevent\u001b[38;5;241m.\u001b[39mpump()\n\u001b[0;32m    432\u001b[0m     pygame\u001b[38;5;241m.\u001b[39mdisplay\u001b[38;5;241m.\u001b[39mupdate()\n\u001b[1;32m--> 433\u001b[0m     \u001b[38;5;28;43mself\u001b[39;49m\u001b[38;5;241;43m.\u001b[39;49m\u001b[43mclock\u001b[49m\u001b[38;5;241;43m.\u001b[39;49m\u001b[43mtick\u001b[49m\u001b[43m(\u001b[49m\u001b[38;5;28;43mself\u001b[39;49m\u001b[38;5;241;43m.\u001b[39;49m\u001b[43mmetadata\u001b[49m\u001b[43m[\u001b[49m\u001b[38;5;124;43m\"\u001b[39;49m\u001b[38;5;124;43mrender_fps\u001b[39;49m\u001b[38;5;124;43m\"\u001b[39;49m\u001b[43m]\u001b[49m\u001b[43m)\u001b[49m\n\u001b[0;32m    434\u001b[0m \u001b[38;5;28;01melif\u001b[39;00m mode \u001b[38;5;241m==\u001b[39m \u001b[38;5;124m\"\u001b[39m\u001b[38;5;124mrgb_array\u001b[39m\u001b[38;5;124m\"\u001b[39m:\n\u001b[0;32m    435\u001b[0m     \u001b[38;5;28;01mreturn\u001b[39;00m np\u001b[38;5;241m.\u001b[39mtranspose(\n\u001b[0;32m    436\u001b[0m         np\u001b[38;5;241m.\u001b[39marray(pygame\u001b[38;5;241m.\u001b[39msurfarray\u001b[38;5;241m.\u001b[39mpixels3d(\u001b[38;5;28mself\u001b[39m\u001b[38;5;241m.\u001b[39mwindow_surface)), axes\u001b[38;5;241m=\u001b[39m(\u001b[38;5;241m1\u001b[39m, \u001b[38;5;241m0\u001b[39m, \u001b[38;5;241m2\u001b[39m)\n\u001b[0;32m    437\u001b[0m     )\n",
      "\u001b[1;31mKeyboardInterrupt\u001b[0m: "
     ]
    }
   ],
   "source": [
    "for _ in range(300):\n",
    "    time.sleep(.25)\n",
    "    \n",
    "    action_name, action_value = rand.choice(list(actions.items()))\n",
    "    obs, reward, done, truncated, info = env.step(action_value)\n",
    "    env.render()\n",
    "\n",
    "    print(f\"Action: {action_value}, New State: {obs}, Reward: {reward}, Done: {done}\")\n",
    "\n",
    "    \n",
    "\n",
    "    if done:\n",
    "        env.reset()\n",
    "\n",
    "\n",
    "# Don't forget to display your final Q table!"
   ]
  },
  {
   "cell_type": "markdown",
   "id": "3b912364",
   "metadata": {},
   "source": [
    "### 3. Testing Your Model\n",
    "In the cell seen below, write the code you need to test your Q-Learning model for **1000 episodes**. It is important to test your model for 1000 episodes so that we are all able to compare our results.\n",
    "\n",
    "*Note, level 5 testing uses both a success rate and an average steps taken metric to evaluate your model. Level 4 uses one or the other.*"
   ]
  },
  {
   "cell_type": "code",
   "execution_count": null,
   "id": "e30cf1dd",
   "metadata": {},
   "outputs": [],
   "source": [
    "# Test model here."
   ]
  },
  {
   "cell_type": "markdown",
   "id": "78e7e09e",
   "metadata": {},
   "source": [
    "### 4. Final Answer\n",
    "In the first cell below, describe the path your elf takes to get to the gift. *Note, a level 5 answer includes a gif of the path your elf takes in order to reach the gift.*\n",
    "\n",
    "In the second cell seen below, describe how well your Q-Learning model performed. Make sure that you explicitly name the **learning rate**, **the discount factor**, and the **reward system** that you used when training your final model. *Note, a level 5 description describes the model's performance using two types of quantitative evidence.*"
   ]
  },
  {
   "cell_type": "markdown",
   "id": "9b6eef8e",
   "metadata": {},
   "source": [
    "![example image](https://gymnasium.farama.org/_images/frozen_lake.gif)"
   ]
  },
  {
   "cell_type": "markdown",
   "id": "54fdae15",
   "metadata": {},
   "source": [
    "#### Describe the path your elf takes here."
   ]
  },
  {
   "cell_type": "markdown",
   "id": "6b8f66ed",
   "metadata": {},
   "source": [
    "#### Describe how well your Q-Learning model performed here."
   ]
  }
 ],
 "metadata": {
  "kernelspec": {
   "display_name": "Python 3",
   "language": "python",
   "name": "python3"
  },
  "language_info": {
   "codemirror_mode": {
    "name": "ipython",
    "version": 3
   },
   "file_extension": ".py",
   "mimetype": "text/x-python",
   "name": "python",
   "nbconvert_exporter": "python",
   "pygments_lexer": "ipython3",
   "version": "3.13.0"
  }
 },
 "nbformat": 4,
 "nbformat_minor": 5
}
