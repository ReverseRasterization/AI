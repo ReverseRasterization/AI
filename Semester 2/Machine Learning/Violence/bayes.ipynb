{
 "cells": [
  {
   "cell_type": "markdown",
   "metadata": {},
   "source": [
    "Dependencies"
   ]
  },
  {
   "cell_type": "code",
   "execution_count": 135,
   "metadata": {},
   "outputs": [],
   "source": [
    "import pandas as pd\n",
    "from sklearn.metrics import accuracy_score, precision_score, recall_score, f1_score\n",
    "import re\n",
    "\n",
    "data = pd.read_csv('diffusion_db_unaltered.csv')\n",
    "nsfw_words = pd.read_csv('nsfw_words.csv')\n",
    "sfw_words = pd.read_csv('sfw_words.csv')"
   ]
  },
  {
   "cell_type": "markdown",
   "metadata": {},
   "source": [
    "This cell handles preliminary variables such as p(NSFW) and p(SFW) which determine the probability a prompt is nsfw or sfw using the image_nsfw score"
   ]
  },
  {
   "cell_type": "code",
   "execution_count": null,
   "metadata": {},
   "outputs": [
    {
     "name": "stdout",
     "output_type": "stream",
     "text": [
      "379\n",
      "91189\n",
      "0.0850015\n",
      "0.9149985\n"
     ]
    }
   ],
   "source": [
    "prompt_count = len(data)\n",
    "nsfw_count = len(data[data['image_nsfw'] >= .5])\n",
    "sfw_count = len(data[data['image_nsfw'] < .5])\n",
    "\n",
    "p_nsfw = nsfw_count / prompt_count\n",
    "p_sfw = sfw_count / prompt_count"
   ]
  },
  {
   "cell_type": "code",
   "execution_count": null,
   "metadata": {},
   "outputs": [],
   "source": [
    "commonwords = [\n",
    "    \"the\", \"a\", \"an\", \"is\", \"are\", \"and\", \"to\", \"in\", \"that\", \"have\", \"has\", \n",
    "    \"with\", \"this\", \"these\", \"those\", \"it\", \"for\", \"on\", \"be\", \"was\", \"were\", \n",
    "    \"can\", \"will\", \"would\", \"should\", \"may\", \"might\", \"do\", \"does\", \"did\", \"of\", \"its\", \"their\"\n",
    "]"
   ]
  },
  {
   "cell_type": "code",
   "execution_count": 133,
   "metadata": {},
   "outputs": [],
   "source": [
    "def cleanPrompt(prompt):\n",
    "    prompt_list = prompt.lower().split(' ')\n",
    "    prompt_list = [word for word in prompt_list if word not in commonwords]\n",
    "    prompt = ' '.join(prompt_list)\n",
    "    return re.sub(r'[^a-zA-Z0-9 ]', '', prompt)\n",
    "\n",
    "\n",
    "\n",
    "def classifyMessage(message, alpha):\n",
    "    safe = p_sfw\n",
    "    unsafe = p_nsfw\n",
    "    \n",
    "    # This sections gets the p(word|N) and p(word|S) for each word in the message.\n",
    "    word_probs_nsfw = {}\n",
    "    word_probs_sfw = {}\n",
    "\n",
    "    for word in message.split():\n",
    "        if word not in word_probs_nsfw.keys():\n",
    "            word_probs_nsfw[word] = [alpha, 1] # First index is the probability, the second index is the amount of times that the word appears in the prompt\n",
    "            word_probs_sfw[word] = [alpha, 1]\n",
    "\n",
    "            # check if word is in nsfw_words dataframe\n",
    "            if word in nsfw_words.values:\n",
    "                word_probs_nsfw[word] = [(nsfw_words[nsfw_words['word'] == word]['count'].values[0]) / len(nsfw_words), 1]\n",
    "            else:\n",
    "                word_probs_nsfw[word] = [alpha / len(nsfw_words), 1]\n",
    "\n",
    "            if word in sfw_words.values:\n",
    "                word_probs_sfw[word] = [(sfw_words[sfw_words['word'] == word]['count'].values[0])  / len(sfw_words), 1]\n",
    "            else:\n",
    "                word_probs_sfw[word] = [alpha / len(sfw_words), 1]\n",
    "        else:\n",
    "            word_probs_nsfw[word][1]+=1\n",
    "            word_probs_sfw[word][1]+=1\n",
    "\n",
    "    for word in word_probs_nsfw.keys():\n",
    "        # multiply safe and unsafe probabilities by the word probabilities but each probability is to the exponent of the amount of occurances\n",
    "        safe *= word_probs_sfw[word][0] ** word_probs_sfw[word][1]\n",
    "        unsafe *= word_probs_nsfw[word][0] ** word_probs_nsfw[word][1]\n",
    "\n",
    "    # for word, score in word_probs_nsfw.items():\n",
    "    #     print(f\"{word}: {score[0]}\")\n",
    "\n",
    "    # print(\"\\nSAFE FOR WORK WORDS:\")\n",
    "\n",
    "    # for word, score in word_probs_sfw.items():\n",
    "    #     print(f\"{word}: {score[0]}\")\n",
    "\n",
    "    if safe > unsafe:\n",
    "        return \"SFW\"\n",
    "    else:\n",
    "        return \"NSFW\"\n",
    "\n"
   ]
  },
  {
   "cell_type": "code",
   "execution_count": 129,
   "metadata": {},
   "outputs": [],
   "source": [
    "examples = pd.read_csv('examples.csv')['Prompt']\n",
    "\n",
    "results = {\n",
    "    \"Prompt\": [],\n",
    "    \"Results\": []\n",
    "}\n",
    "\n",
    "for example in examples:\n",
    "    result = classifyMessage(cleanPrompt(example), 1)\n",
    "    results['Prompt'].append(example)\n",
    "    if result == \"SFW\":\n",
    "        results['Results'].append(1)\n",
    "    else:\n",
    "        results['Results'].append(0)\n",
    "\n",
    "results = pd.DataFrame(results)\n",
    "results.to_csv('results.csv', index=False)"
   ]
  },
  {
   "cell_type": "code",
   "execution_count": 138,
   "metadata": {},
   "outputs": [
    {
     "name": "stdout",
     "output_type": "stream",
     "text": [
      "CSV file 'image_generator_prompts.csv' created successfully.\n"
     ]
    }
   ],
   "source": [
    "import csv\n",
    "import random\n",
    "\n",
    "# Safe for Work (SFW) prompts\n",
    "sfw_prompts = [\n",
    "    \"A peaceful beach at sunset with gentle waves\", \"A child flying a kite on a windy day\", \"A colorful hot air balloon floating over a mountain range\",\n",
    "    \"A cozy living room with a crackling fireplace\", \"A person riding a bicycle through a city park\", \"A beautiful sunrise over the ocean horizon\",\n",
    "    \"A scenic view of a forest trail covered in autumn leaves\", \"A cute cat sleeping peacefully on a soft couch\", \"A family having a picnic in a green meadow\",\n",
    "    \"A large, bright sunflower field in full bloom\", \"A dog happily running through a field of daisies\", \"A young couple walking hand-in-hand down a beach\",\n",
    "    \"A peaceful lake with a rowboat floating in the middle\", \"A mountain cabin surrounded by snow in winter\", \"A group of friends gathered around a campfire\",\n",
    "    \"A person playing the piano in a dimly lit room\", \"A woman practicing yoga in a serene garden\", \"A mother reading a bedtime story to her child\",\n",
    "    \"A rainbow stretching across the sky after a storm\", \"A squirrel gathering acorns in a forest\", \"A fresh cup of coffee sitting on a kitchen table\",\n",
    "    \"A child playing with a toy train set\", \"A man riding a horse across a grassy field\", \"A person taking a photograph of a beautiful flower\",\n",
    "    \"A bright autumn day with leaves falling from the trees\", \"A cozy winter night with a blanket and hot cocoa\", \"A couple stargazing on a clear night\",\n",
    "    \"A close-up of a red rose in full bloom\", \"A person playing chess in the park\", \"A grandmother knitting a scarf in her rocking chair\",\n",
    "    \"A group of people volunteering at a food bank\", \"A man painting a picture on a canvas\", \"A woman dancing in a sunflower field\",\n",
    "    \"A quiet street lined with old brick houses\", \"A baby smiling in a high chair\", \"A peaceful town square with a fountain\", \"A person walking a dog through the neighborhood\",\n",
    "    \"A bicycle leaning against a tree in a park\", \"A farmer harvesting crops on a bright morning\", \"A little girl riding her scooter around the block\",\n",
    "    \"A scenic waterfall in a lush jungle\", \"A boy flying a paper plane through a field\", \"A woman baking cookies in the kitchen\", \"A group of kids playing soccer in the park\"\n",
    "]\n",
    "\n",
    "# Not Safe for Work (NSFW) prompts for Image Generation (Violence, sexual content, mature themes, etc.)\n",
    "nsfw_prompts = [\n",
    "    \"A chaotic street brawl with people throwing punches\", \"A person in a fight with blood splattering around\", \"A provocative pin-up model posing on a bed\", \n",
    "    \"A dark alley with shady characters exchanging goods\", \"A masked figure holding a weapon in a threatening stance\", \"A gruesome crime scene with bloodied objects\", \n",
    "    \"A seductive figure in a red dress with an intense look\", \"A person bound with ropes in a dark room\", \"A close-up of a knife with blood dripping off of it\", \n",
    "    \"A violent car crash with fire and smoke\", \"A woman tied up in chains, with a distressed look\", \"A provocative dancer in a dimly lit club\", \n",
    "    \"A shattered window with someone escaping\", \"A dramatic scene of a person running from an explosion\", \"A stormy night with thunder and lightning striking a building\", \n",
    "    \"A person threatening another with a gun\", \"An ominous figure standing in a dark corner of a room\", \"A person with a blood-stained shirt holding a baseball bat\", \n",
    "    \"A night club scene with flashing lights and people dancing provocatively\", \"A dark figure standing with a silhouette of a weapon\", \"A passionate kiss between two people in an intimate setting\",\n",
    "    \"A car chase through a city with explosions in the background\", \"A broken doll lying in an abandoned house\", \"A bruised woman in a hospital bed with tears in her eyes\", \n",
    "    \"A pair of handcuffs on a wooden chair in a dark room\", \"A scene from a horror movie with a ghostly figure\", \"A pair of eyes peeking through the blinds in the dark\",\n",
    "    \"A man being chased by a monster in a dark alley\", \"A zombie with blood dripping from its mouth\", \"A hand reaching out of a grave in a dark cemetery\", \n",
    "    \"A woman with a fierce expression holding a whip\", \"A dark scene of a battle between superheroes\", \"A blood-soaked floor in a crime scene\", \n",
    "    \"A creepy figure with glowing red eyes standing in the distance\", \"A silhouette of a person holding a chainsaw in a field\", \"A dark figure lurking in an abandoned house\",\n",
    "    \"A person sneaking through a forest with a knife in hand\", \"A biker gang standing around their motorcycles in a dark parking lot\", \"A vampire with sharp fangs staring into the camera\",\n",
    "    \"A woman in a leather outfit holding a whip in a BDSM scene\", \"A violent gang fight in an alley with people holding weapons\", \"A seductive couple in an intimate, dark room\", \n",
    "    \"A person wearing a mask and holding a bloody machete\", \"A haunted mansion with windows shattered by force\", \"A close-up of a hand holding a gun pointed directly at the camera\",\n",
    "    \"A bloody handprint on the wall of an abandoned house\", \"A violent storm tearing apart a city skyline\", \"A person covered in tattoos in a darkened alley\", \n",
    "    \"A demon with fiery red eyes and smoke surrounding it\", \"A close-up of a man’s face showing rage with clenched fists\", \"A dramatic scene of a person holding a broken mirror in their hand\"\n",
    "]\n",
    "\n",
    "# Combine both lists and label them\n",
    "prompts = []\n",
    "for prompt in sfw_prompts:\n",
    "    prompts.append([prompt, \"SFW\"])\n",
    "for prompt in nsfw_prompts:\n",
    "    prompts.append([prompt, \"NSFW\"])\n",
    "\n",
    "# Shuffle the list to randomize order\n",
    "random.shuffle(prompts)\n",
    "\n",
    "# Write to CSV\n",
    "with open('image_generator_prompts.csv', 'w', newline='', encoding='utf-8') as file:\n",
    "    writer = csv.writer(file)\n",
    "    writer.writerow([\"Prompt\", \"Label\"])  # Write the header\n",
    "    writer.writerows(prompts)  # Write the data\n",
    "\n",
    "print(\"CSV file 'image_generator_prompts.csv' created successfully.\")\n"
   ]
  },
  {
   "cell_type": "code",
   "execution_count": 137,
   "metadata": {},
   "outputs": [
    {
     "name": "stdout",
     "output_type": "stream",
     "text": [
      "Accuracy: 0.8181818181818182\n",
      "Precision: 0.8055555555555556\n",
      "Recall: 0.8529411764705882\n",
      "F1 Score: 0.8285714285714286\n"
     ]
    }
   ],
   "source": [
    "prompts = pd.read_csv('prompts.csv')\n",
    "\n",
    "# Assuming you have a dataset with actual labels for comparison:\n",
    "# X_test - List of messages (prompts)\n",
    "# y_test - True labels for the messages (either 'SFW' or 'NSFW')\n",
    "\n",
    "X_test = prompts['Prompt'].tolist()  # List of prompts (messages)\n",
    "y_test = prompts['Label'].tolist()   # List of true labels (SFW or NSFW)\n",
    "\n",
    "# Predict the results using your Naïve Bayes model\n",
    "y_pred = [classifyMessage(cleanPrompt(message), alpha=1.0) for message in X_test]\n",
    "\n",
    "# Evaluate performance:\n",
    "accuracy = accuracy_score(y_test, y_pred)\n",
    "precision = precision_score(y_test, y_pred, pos_label='NSFW')  # Positive class = 'NSFW'\n",
    "recall = recall_score(y_test, y_pred, pos_label='NSFW')\n",
    "f1 = f1_score(y_test, y_pred, pos_label='NSFW')\n",
    "\n",
    "# Print the results\n",
    "print(f\"Accuracy: {accuracy}\")\n",
    "print(f\"Precision: {precision}\")\n",
    "print(f\"Recall: {recall}\")\n",
    "print(f\"F1 Score: {f1}\")\n"
   ]
  }
 ],
 "metadata": {
  "kernelspec": {
   "display_name": "Python 3",
   "language": "python",
   "name": "python3"
  },
  "language_info": {
   "codemirror_mode": {
    "name": "ipython",
    "version": 3
   },
   "file_extension": ".py",
   "mimetype": "text/x-python",
   "name": "python",
   "nbconvert_exporter": "python",
   "pygments_lexer": "ipython3",
   "version": "3.13.0"
  }
 },
 "nbformat": 4,
 "nbformat_minor": 2
}
