{
 "cells": [
  {
   "cell_type": "code",
   "execution_count": null,
   "metadata": {
    "vscode": {
     "languageId": "plaintext"
    }
   },
   "outputs": [],
   "source": [
    "import pandas as pd\n",
    "\n",
    "data = {\n",
    "    \"Index\": [165, 333, 22, 228, 303, 123, 350, 308, 447],\n",
    "    \"Weight\": [64.328165, 68.373080, 64.591600, 54.893075, 50.900107, 67.967282, 58.576392, 54.617873, 61.594877],\n",
    "    \"Height\": [170.042020, 176.549045, 170.062838, 163.719892, 160.858543, 175.987273, 169.496276, 163.227800, 167.433894]\n",
    "}\n",
    "\n",
    "df = pd.DataFrame(data).set_index(\"Index\")\n",
    "\n",
    "print(df)\n"
   ]
  }
 ],
 "metadata": {
  "language_info": {
   "name": "python"
  }
 },
 "nbformat": 4,
 "nbformat_minor": 2
}
