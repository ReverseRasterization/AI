{
 "cells": [
  {
   "cell_type": "code",
   "execution_count": 24,
   "metadata": {},
   "outputs": [],
   "source": [
    "import requests\n",
    "import pandas as pd\n",
    "import json\n",
    "#from bs4 import BeautifulSoup\n",
    "\n",
    "api_key = 'Mh8Ye5F3C4FEGHWfpgE9VovwBgFcJvso2XODVSur'\n"
   ]
  },
  {
   "cell_type": "code",
   "execution_count": 32,
   "metadata": {},
   "outputs": [
    {
     "data": {
      "text/plain": [
       "{'metadata': {'page': 0, 'total': 0, 'per_page': 20}, 'results': []}"
      ]
     },
     "execution_count": 32,
     "metadata": {},
     "output_type": "execute_result"
    }
   ],
   "source": [
    "schools = requests.get(url=f'https://api.data.gov/ed/collegescorecard/v1/schools?api_key={api_key}&school.state=CO&programs.cip_4_digit.title=Computer%20Science&school.degrees_awarded.predominant=3')\n",
    "json.loads(schools.text)"
   ]
  }
 ],
 "metadata": {
  "kernelspec": {
   "display_name": "Python 3",
   "language": "python",
   "name": "python3"
  },
  "language_info": {
   "codemirror_mode": {
    "name": "ipython",
    "version": 3
   },
   "file_extension": ".py",
   "mimetype": "text/x-python",
   "name": "python",
   "nbconvert_exporter": "python",
   "pygments_lexer": "ipython3",
   "version": "3.13.0"
  }
 },
 "nbformat": 4,
 "nbformat_minor": 2
}
