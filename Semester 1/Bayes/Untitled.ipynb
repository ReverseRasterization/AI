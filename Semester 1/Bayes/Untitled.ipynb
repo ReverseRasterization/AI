{
 "cells": [
  {
   "cell_type": "markdown",
   "id": "b0bb9664",
   "metadata": {},
   "source": [
    "I would first get all the samples of my data via webscraping wikipedia, using this, I would calculate my probabilities and use them in bayes theroem."
   ]
  },
  {
   "cell_type": "code",
   "execution_count": 6,
   "id": "4b25bccc",
   "metadata": {},
   "outputs": [],
   "source": [
    "import requests\n",
    "import pandas as pd\n",
    "from bs4 import BeautifulSoup"
   ]
  },
  {
   "cell_type": "code",
   "execution_count": 7,
   "id": "0211a992",
   "metadata": {},
   "outputs": [],
   "source": [
    "# Get all winners\n",
    "# Scrapes the list of nobel laureates and filters out all the links\n",
    "# Then gets rid of reference items\n",
    "\n",
    "winnersList = []\n",
    "\n",
    "html = requests.get('https://en.wikipedia.org/wiki/List_of_Nobel_laureates')\n",
    "\n",
    "if html.status_code == 200:\n",
    "    soup = BeautifulSoup(html.text, 'html.parser')\n",
    "    \n",
    "    urls = [a['href'] for a in soup.find_all('a', href=True)] # Winners: 210-1230\n",
    "    urls = urls[210:1231]\n",
    "    \n",
    "    i=0\n",
    "    for row in urls:\n",
    "        if row[0] == '#':\n",
    "            del urls[i]\n",
    "        i+=1\n",
    "    \n",
    "    winnersList = urls\n",
    "else:\n",
    "    print(\"Failed to get Nobel Laureates\")"
   ]
  },
  {
   "cell_type": "code",
   "execution_count": 8,
   "id": "172350a3",
   "metadata": {},
   "outputs": [
    {
     "name": "stderr",
     "output_type": "stream",
     "text": [
      "C:\\Users\\zmorrato\\AppData\\Local\\Temp\\ipykernel_26412\\3563713887.py:21: DeprecationWarning: The 'text' argument to find()-type methods is deprecated. Use 'string' instead.\n",
      "  alma_mater_row = soup.find('th', text=lambda x: x and \"Alma\" in x)\n"
     ]
    },
    {
     "name": "stdout",
     "output_type": "stream",
     "text": [
      "[ DEBUG ] - Progress: 0.09881422924901186%\n"
     ]
    },
    {
     "name": "stderr",
     "output_type": "stream",
     "text": [
      "C:\\Users\\zmorrato\\AppData\\Local\\Temp\\ipykernel_26412\\3563713887.py:21: DeprecationWarning: The 'text' argument to find()-type methods is deprecated. Use 'string' instead.\n",
      "  alma_mater_row = soup.find('th', text=lambda x: x and \"Alma\" in x)\n"
     ]
    },
    {
     "name": "stdout",
     "output_type": "stream",
     "text": [
      "[ DEBUG ] - Progress: 0.1976284584980237%\n"
     ]
    },
    {
     "name": "stderr",
     "output_type": "stream",
     "text": [
      "C:\\Users\\zmorrato\\AppData\\Local\\Temp\\ipykernel_26412\\3563713887.py:21: DeprecationWarning: The 'text' argument to find()-type methods is deprecated. Use 'string' instead.\n",
      "  alma_mater_row = soup.find('th', text=lambda x: x and \"Alma\" in x)\n"
     ]
    },
    {
     "name": "stdout",
     "output_type": "stream",
     "text": [
      "[ DEBUG ] - Alma mater row not found for /wiki/Emil_von_Behring\n",
      "[ DEBUG ] - Progress: 0.2964426877470355%\n"
     ]
    },
    {
     "name": "stderr",
     "output_type": "stream",
     "text": [
      "C:\\Users\\zmorrato\\AppData\\Local\\Temp\\ipykernel_26412\\3563713887.py:21: DeprecationWarning: The 'text' argument to find()-type methods is deprecated. Use 'string' instead.\n",
      "  alma_mater_row = soup.find('th', text=lambda x: x and \"Alma\" in x)\n"
     ]
    },
    {
     "name": "stdout",
     "output_type": "stream",
     "text": [
      "[ DEBUG ] - Alma mater row not found for /wiki/Sully_Prudhomme\n",
      "[ DEBUG ] - Progress: 0.3952569169960474%\n"
     ]
    },
    {
     "name": "stderr",
     "output_type": "stream",
     "text": [
      "C:\\Users\\zmorrato\\AppData\\Local\\Temp\\ipykernel_26412\\3563713887.py:21: DeprecationWarning: The 'text' argument to find()-type methods is deprecated. Use 'string' instead.\n",
      "  alma_mater_row = soup.find('th', text=lambda x: x and \"Alma\" in x)\n"
     ]
    },
    {
     "name": "stdout",
     "output_type": "stream",
     "text": [
      "[ DEBUG ] - Alma mater row not found for /wiki/Henry_Dunant\n",
      "[ DEBUG ] - Progress: 0.4940711462450593%\n"
     ]
    },
    {
     "name": "stderr",
     "output_type": "stream",
     "text": [
      "C:\\Users\\zmorrato\\AppData\\Local\\Temp\\ipykernel_26412\\3563713887.py:21: DeprecationWarning: The 'text' argument to find()-type methods is deprecated. Use 'string' instead.\n",
      "  alma_mater_row = soup.find('th', text=lambda x: x and \"Alma\" in x)\n"
     ]
    },
    {
     "name": "stdout",
     "output_type": "stream",
     "text": [
      "[ DEBUG ] - Alma mater row not found for /wiki/Fr%C3%A9d%C3%A9ric_Passy\n",
      "[ DEBUG ] - Progress: 0.592885375494071%\n"
     ]
    },
    {
     "name": "stderr",
     "output_type": "stream",
     "text": [
      "C:\\Users\\zmorrato\\AppData\\Local\\Temp\\ipykernel_26412\\3563713887.py:21: DeprecationWarning: The 'text' argument to find()-type methods is deprecated. Use 'string' instead.\n",
      "  alma_mater_row = soup.find('th', text=lambda x: x and \"Alma\" in x)\n"
     ]
    },
    {
     "name": "stdout",
     "output_type": "stream",
     "text": [
      "[ DEBUG ] - Progress: 0.691699604743083%\n"
     ]
    },
    {
     "name": "stderr",
     "output_type": "stream",
     "text": [
      "C:\\Users\\zmorrato\\AppData\\Local\\Temp\\ipykernel_26412\\3563713887.py:21: DeprecationWarning: The 'text' argument to find()-type methods is deprecated. Use 'string' instead.\n",
      "  alma_mater_row = soup.find('th', text=lambda x: x and \"Alma\" in x)\n"
     ]
    },
    {
     "name": "stdout",
     "output_type": "stream",
     "text": [
      "[ DEBUG ] - Progress: 0.7905138339920948%\n"
     ]
    },
    {
     "name": "stderr",
     "output_type": "stream",
     "text": [
      "C:\\Users\\zmorrato\\AppData\\Local\\Temp\\ipykernel_26412\\3563713887.py:21: DeprecationWarning: The 'text' argument to find()-type methods is deprecated. Use 'string' instead.\n",
      "  alma_mater_row = soup.find('th', text=lambda x: x and \"Alma\" in x)\n"
     ]
    },
    {
     "name": "stdout",
     "output_type": "stream",
     "text": [
      "[ DEBUG ] - Progress: 0.8893280632411068%\n"
     ]
    },
    {
     "name": "stderr",
     "output_type": "stream",
     "text": [
      "C:\\Users\\zmorrato\\AppData\\Local\\Temp\\ipykernel_26412\\3563713887.py:21: DeprecationWarning: The 'text' argument to find()-type methods is deprecated. Use 'string' instead.\n",
      "  alma_mater_row = soup.find('th', text=lambda x: x and \"Alma\" in x)\n"
     ]
    },
    {
     "name": "stdout",
     "output_type": "stream",
     "text": [
      "[ DEBUG ] - Progress: 0.9881422924901186%\n"
     ]
    },
    {
     "name": "stderr",
     "output_type": "stream",
     "text": [
      "C:\\Users\\zmorrato\\AppData\\Local\\Temp\\ipykernel_26412\\3563713887.py:21: DeprecationWarning: The 'text' argument to find()-type methods is deprecated. Use 'string' instead.\n",
      "  alma_mater_row = soup.find('th', text=lambda x: x and \"Alma\" in x)\n"
     ]
    },
    {
     "name": "stdout",
     "output_type": "stream",
     "text": [
      "[ DEBUG ] - Alma mater row not found for /wiki/Theodor_Mommsen\n",
      "[ DEBUG ] - Progress: 1.0869565217391304%\n"
     ]
    },
    {
     "name": "stderr",
     "output_type": "stream",
     "text": [
      "C:\\Users\\zmorrato\\AppData\\Local\\Temp\\ipykernel_26412\\3563713887.py:21: DeprecationWarning: The 'text' argument to find()-type methods is deprecated. Use 'string' instead.\n",
      "  alma_mater_row = soup.find('th', text=lambda x: x and \"Alma\" in x)\n"
     ]
    },
    {
     "name": "stdout",
     "output_type": "stream",
     "text": [
      "[ DEBUG ] - Alma mater row not found for /wiki/%C3%89lie_Ducommun\n",
      "[ DEBUG ] - Progress: 1.185770750988142%\n"
     ]
    },
    {
     "name": "stderr",
     "output_type": "stream",
     "text": [
      "C:\\Users\\zmorrato\\AppData\\Local\\Temp\\ipykernel_26412\\3563713887.py:21: DeprecationWarning: The 'text' argument to find()-type methods is deprecated. Use 'string' instead.\n",
      "  alma_mater_row = soup.find('th', text=lambda x: x and \"Alma\" in x)\n"
     ]
    },
    {
     "name": "stdout",
     "output_type": "stream",
     "text": [
      "[ DEBUG ] - Alma mater row not found for /wiki/Charles_Albert_Gobat\n",
      "[ DEBUG ] - Progress: 1.2845849802371543%\n"
     ]
    },
    {
     "name": "stderr",
     "output_type": "stream",
     "text": [
      "C:\\Users\\zmorrato\\AppData\\Local\\Temp\\ipykernel_26412\\3563713887.py:21: DeprecationWarning: The 'text' argument to find()-type methods is deprecated. Use 'string' instead.\n",
      "  alma_mater_row = soup.find('th', text=lambda x: x and \"Alma\" in x)\n"
     ]
    },
    {
     "name": "stdout",
     "output_type": "stream",
     "text": [
      "[ DEBUG ] - Progress: 1.383399209486166%\n"
     ]
    },
    {
     "name": "stderr",
     "output_type": "stream",
     "text": [
      "C:\\Users\\zmorrato\\AppData\\Local\\Temp\\ipykernel_26412\\3563713887.py:21: DeprecationWarning: The 'text' argument to find()-type methods is deprecated. Use 'string' instead.\n",
      "  alma_mater_row = soup.find('th', text=lambda x: x and \"Alma\" in x)\n"
     ]
    },
    {
     "name": "stdout",
     "output_type": "stream",
     "text": [
      "[ DEBUG ] - Progress: 1.4822134387351777%\n"
     ]
    },
    {
     "name": "stderr",
     "output_type": "stream",
     "text": [
      "C:\\Users\\zmorrato\\AppData\\Local\\Temp\\ipykernel_26412\\3563713887.py:21: DeprecationWarning: The 'text' argument to find()-type methods is deprecated. Use 'string' instead.\n",
      "  alma_mater_row = soup.find('th', text=lambda x: x and \"Alma\" in x)\n"
     ]
    },
    {
     "name": "stdout",
     "output_type": "stream",
     "text": [
      "[ DEBUG ] - Progress: 1.5810276679841897%\n"
     ]
    },
    {
     "name": "stderr",
     "output_type": "stream",
     "text": [
      "C:\\Users\\zmorrato\\AppData\\Local\\Temp\\ipykernel_26412\\3563713887.py:21: DeprecationWarning: The 'text' argument to find()-type methods is deprecated. Use 'string' instead.\n",
      "  alma_mater_row = soup.find('th', text=lambda x: x and \"Alma\" in x)\n"
     ]
    },
    {
     "name": "stdout",
     "output_type": "stream",
     "text": [
      "[ DEBUG ] - Progress: 1.6798418972332017%\n"
     ]
    },
    {
     "name": "stderr",
     "output_type": "stream",
     "text": [
      "C:\\Users\\zmorrato\\AppData\\Local\\Temp\\ipykernel_26412\\3563713887.py:21: DeprecationWarning: The 'text' argument to find()-type methods is deprecated. Use 'string' instead.\n",
      "  alma_mater_row = soup.find('th', text=lambda x: x and \"Alma\" in x)\n"
     ]
    },
    {
     "name": "stdout",
     "output_type": "stream",
     "text": [
      "[ DEBUG ] - Progress: 1.7786561264822136%\n"
     ]
    },
    {
     "name": "stderr",
     "output_type": "stream",
     "text": [
      "C:\\Users\\zmorrato\\AppData\\Local\\Temp\\ipykernel_26412\\3563713887.py:21: DeprecationWarning: The 'text' argument to find()-type methods is deprecated. Use 'string' instead.\n",
      "  alma_mater_row = soup.find('th', text=lambda x: x and \"Alma\" in x)\n"
     ]
    },
    {
     "name": "stdout",
     "output_type": "stream",
     "text": [
      "[ DEBUG ] - Alma mater row not found for /wiki/Bj%C3%B8rnstjerne_Bj%C3%B8rnson\n",
      "[ DEBUG ] - Progress: 1.8774703557312251%\n"
     ]
    },
    {
     "name": "stderr",
     "output_type": "stream",
     "text": [
      "C:\\Users\\zmorrato\\AppData\\Local\\Temp\\ipykernel_26412\\3563713887.py:21: DeprecationWarning: The 'text' argument to find()-type methods is deprecated. Use 'string' instead.\n",
      "  alma_mater_row = soup.find('th', text=lambda x: x and \"Alma\" in x)\n"
     ]
    },
    {
     "name": "stdout",
     "output_type": "stream",
     "text": [
      "[ DEBUG ] - Alma mater row not found for /wiki/Randal_Cremer\n",
      "[ DEBUG ] - Progress: 1.9762845849802373%\n"
     ]
    },
    {
     "name": "stderr",
     "output_type": "stream",
     "text": [
      "C:\\Users\\zmorrato\\AppData\\Local\\Temp\\ipykernel_26412\\3563713887.py:21: DeprecationWarning: The 'text' argument to find()-type methods is deprecated. Use 'string' instead.\n",
      "  alma_mater_row = soup.find('th', text=lambda x: x and \"Alma\" in x)\n"
     ]
    },
    {
     "name": "stdout",
     "output_type": "stream",
     "text": [
      "[ DEBUG ] - Progress: 2.075098814229249%\n"
     ]
    },
    {
     "name": "stderr",
     "output_type": "stream",
     "text": [
      "C:\\Users\\zmorrato\\AppData\\Local\\Temp\\ipykernel_26412\\3563713887.py:21: DeprecationWarning: The 'text' argument to find()-type methods is deprecated. Use 'string' instead.\n",
      "  alma_mater_row = soup.find('th', text=lambda x: x and \"Alma\" in x)\n"
     ]
    },
    {
     "name": "stdout",
     "output_type": "stream",
     "text": [
      "[ DEBUG ] - Progress: 2.1739130434782608%\n"
     ]
    },
    {
     "name": "stderr",
     "output_type": "stream",
     "text": [
      "C:\\Users\\zmorrato\\AppData\\Local\\Temp\\ipykernel_26412\\3563713887.py:21: DeprecationWarning: The 'text' argument to find()-type methods is deprecated. Use 'string' instead.\n",
      "  alma_mater_row = soup.find('th', text=lambda x: x and \"Alma\" in x)\n"
     ]
    },
    {
     "name": "stdout",
     "output_type": "stream",
     "text": [
      "[ DEBUG ] - Progress: 2.272727272727273%\n"
     ]
    },
    {
     "name": "stderr",
     "output_type": "stream",
     "text": [
      "C:\\Users\\zmorrato\\AppData\\Local\\Temp\\ipykernel_26412\\3563713887.py:21: DeprecationWarning: The 'text' argument to find()-type methods is deprecated. Use 'string' instead.\n",
      "  alma_mater_row = soup.find('th', text=lambda x: x and \"Alma\" in x)\n"
     ]
    },
    {
     "name": "stdout",
     "output_type": "stream",
     "text": [
      "[ DEBUG ] - Progress: 2.371541501976284%\n"
     ]
    },
    {
     "name": "stderr",
     "output_type": "stream",
     "text": [
      "C:\\Users\\zmorrato\\AppData\\Local\\Temp\\ipykernel_26412\\3563713887.py:21: DeprecationWarning: The 'text' argument to find()-type methods is deprecated. Use 'string' instead.\n",
      "  alma_mater_row = soup.find('th', text=lambda x: x and \"Alma\" in x)\n"
     ]
    },
    {
     "name": "stdout",
     "output_type": "stream",
     "text": [
      "[ DEBUG ] - Alma mater row not found for /wiki/Jos%C3%A9_Echegaray\n",
      "[ DEBUG ] - Progress: 2.4703557312252964%\n"
     ]
    },
    {
     "name": "stderr",
     "output_type": "stream",
     "text": [
      "C:\\Users\\zmorrato\\AppData\\Local\\Temp\\ipykernel_26412\\3563713887.py:21: DeprecationWarning: The 'text' argument to find()-type methods is deprecated. Use 'string' instead.\n",
      "  alma_mater_row = soup.find('th', text=lambda x: x and \"Alma\" in x)\n"
     ]
    },
    {
     "name": "stdout",
     "output_type": "stream",
     "text": [
      "[ DEBUG ] - Alma mater row not found for /wiki/Institut_de_Droit_International\n",
      "[ DEBUG ] - Progress: 2.5691699604743086%\n"
     ]
    },
    {
     "name": "stderr",
     "output_type": "stream",
     "text": [
      "C:\\Users\\zmorrato\\AppData\\Local\\Temp\\ipykernel_26412\\3563713887.py:21: DeprecationWarning: The 'text' argument to find()-type methods is deprecated. Use 'string' instead.\n",
      "  alma_mater_row = soup.find('th', text=lambda x: x and \"Alma\" in x)\n"
     ]
    },
    {
     "name": "stdout",
     "output_type": "stream",
     "text": [
      "[ DEBUG ] - Progress: 2.66798418972332%\n"
     ]
    },
    {
     "name": "stderr",
     "output_type": "stream",
     "text": [
      "C:\\Users\\zmorrato\\AppData\\Local\\Temp\\ipykernel_26412\\3563713887.py:21: DeprecationWarning: The 'text' argument to find()-type methods is deprecated. Use 'string' instead.\n",
      "  alma_mater_row = soup.find('th', text=lambda x: x and \"Alma\" in x)\n"
     ]
    },
    {
     "name": "stdout",
     "output_type": "stream",
     "text": [
      "[ DEBUG ] - Progress: 2.766798418972332%\n"
     ]
    },
    {
     "name": "stderr",
     "output_type": "stream",
     "text": [
      "C:\\Users\\zmorrato\\AppData\\Local\\Temp\\ipykernel_26412\\3563713887.py:21: DeprecationWarning: The 'text' argument to find()-type methods is deprecated. Use 'string' instead.\n",
      "  alma_mater_row = soup.find('th', text=lambda x: x and \"Alma\" in x)\n"
     ]
    },
    {
     "name": "stdout",
     "output_type": "stream",
     "text": [
      "[ DEBUG ] - Alma mater row not found for /wiki/Robert_Koch\n",
      "[ DEBUG ] - Progress: 2.8656126482213438%\n"
     ]
    },
    {
     "name": "stderr",
     "output_type": "stream",
     "text": [
      "C:\\Users\\zmorrato\\AppData\\Local\\Temp\\ipykernel_26412\\3563713887.py:21: DeprecationWarning: The 'text' argument to find()-type methods is deprecated. Use 'string' instead.\n",
      "  alma_mater_row = soup.find('th', text=lambda x: x and \"Alma\" in x)\n"
     ]
    },
    {
     "name": "stdout",
     "output_type": "stream",
     "text": [
      "[ DEBUG ] - Alma mater row not found for /wiki/Henryk_Sienkiewicz\n",
      "[ DEBUG ] - Progress: 2.9644268774703555%\n"
     ]
    },
    {
     "name": "stderr",
     "output_type": "stream",
     "text": [
      "C:\\Users\\zmorrato\\AppData\\Local\\Temp\\ipykernel_26412\\3563713887.py:21: DeprecationWarning: The 'text' argument to find()-type methods is deprecated. Use 'string' instead.\n",
      "  alma_mater_row = soup.find('th', text=lambda x: x and \"Alma\" in x)\n"
     ]
    },
    {
     "name": "stdout",
     "output_type": "stream",
     "text": [
      "[ DEBUG ] - Alma mater row not found for /wiki/Bertha_von_Suttner\n",
      "[ DEBUG ] - Progress: 3.0632411067193677%\n"
     ]
    },
    {
     "name": "stderr",
     "output_type": "stream",
     "text": [
      "C:\\Users\\zmorrato\\AppData\\Local\\Temp\\ipykernel_26412\\3563713887.py:21: DeprecationWarning: The 'text' argument to find()-type methods is deprecated. Use 'string' instead.\n",
      "  alma_mater_row = soup.find('th', text=lambda x: x and \"Alma\" in x)\n"
     ]
    },
    {
     "name": "stdout",
     "output_type": "stream",
     "text": [
      "[ DEBUG ] - Progress: 3.1620553359683794%\n"
     ]
    },
    {
     "name": "stderr",
     "output_type": "stream",
     "text": [
      "C:\\Users\\zmorrato\\AppData\\Local\\Temp\\ipykernel_26412\\3563713887.py:21: DeprecationWarning: The 'text' argument to find()-type methods is deprecated. Use 'string' instead.\n",
      "  alma_mater_row = soup.find('th', text=lambda x: x and \"Alma\" in x)\n"
     ]
    },
    {
     "name": "stdout",
     "output_type": "stream",
     "text": [
      "[ DEBUG ] - Alma mater row not found for /wiki/Henri_Moissan\n",
      "[ DEBUG ] - Progress: 3.260869565217391%\n"
     ]
    },
    {
     "name": "stderr",
     "output_type": "stream",
     "text": [
      "C:\\Users\\zmorrato\\AppData\\Local\\Temp\\ipykernel_26412\\3563713887.py:21: DeprecationWarning: The 'text' argument to find()-type methods is deprecated. Use 'string' instead.\n",
      "  alma_mater_row = soup.find('th', text=lambda x: x and \"Alma\" in x)\n"
     ]
    },
    {
     "name": "stdout",
     "output_type": "stream",
     "text": [
      "[ DEBUG ] - Progress: 3.3596837944664033%\n"
     ]
    },
    {
     "name": "stderr",
     "output_type": "stream",
     "text": [
      "C:\\Users\\zmorrato\\AppData\\Local\\Temp\\ipykernel_26412\\3563713887.py:21: DeprecationWarning: The 'text' argument to find()-type methods is deprecated. Use 'string' instead.\n",
      "  alma_mater_row = soup.find('th', text=lambda x: x and \"Alma\" in x)\n"
     ]
    },
    {
     "name": "stdout",
     "output_type": "stream",
     "text": [
      "[ DEBUG ] - Alma mater row not found for /wiki/Santiago_Ram%C3%B3n_y_Cajal\n",
      "[ DEBUG ] - Progress: 3.458498023715415%\n"
     ]
    },
    {
     "name": "stderr",
     "output_type": "stream",
     "text": [
      "C:\\Users\\zmorrato\\AppData\\Local\\Temp\\ipykernel_26412\\3563713887.py:21: DeprecationWarning: The 'text' argument to find()-type methods is deprecated. Use 'string' instead.\n",
      "  alma_mater_row = soup.find('th', text=lambda x: x and \"Alma\" in x)\n"
     ]
    },
    {
     "name": "stdout",
     "output_type": "stream",
     "text": [
      "[ DEBUG ] - Alma mater row not found for /wiki/Giosu%C3%A8_Carducci\n",
      "[ DEBUG ] - Progress: 3.557312252964427%\n"
     ]
    },
    {
     "name": "stderr",
     "output_type": "stream",
     "text": [
      "C:\\Users\\zmorrato\\AppData\\Local\\Temp\\ipykernel_26412\\3563713887.py:21: DeprecationWarning: The 'text' argument to find()-type methods is deprecated. Use 'string' instead.\n",
      "  alma_mater_row = soup.find('th', text=lambda x: x and \"Alma\" in x)\n"
     ]
    },
    {
     "name": "stdout",
     "output_type": "stream",
     "text": [
      "[ DEBUG ] - Progress: 3.6561264822134385%\n"
     ]
    },
    {
     "name": "stderr",
     "output_type": "stream",
     "text": [
      "C:\\Users\\zmorrato\\AppData\\Local\\Temp\\ipykernel_26412\\3563713887.py:21: DeprecationWarning: The 'text' argument to find()-type methods is deprecated. Use 'string' instead.\n",
      "  alma_mater_row = soup.find('th', text=lambda x: x and \"Alma\" in x)\n"
     ]
    },
    {
     "name": "stdout",
     "output_type": "stream",
     "text": [
      "[ DEBUG ] - Progress: 3.7549407114624502%\n"
     ]
    },
    {
     "name": "stderr",
     "output_type": "stream",
     "text": [
      "C:\\Users\\zmorrato\\AppData\\Local\\Temp\\ipykernel_26412\\3563713887.py:21: DeprecationWarning: The 'text' argument to find()-type methods is deprecated. Use 'string' instead.\n",
      "  alma_mater_row = soup.find('th', text=lambda x: x and \"Alma\" in x)\n"
     ]
    },
    {
     "name": "stdout",
     "output_type": "stream",
     "text": [
      "[ DEBUG ] - Progress: 3.8537549407114624%\n"
     ]
    },
    {
     "name": "stderr",
     "output_type": "stream",
     "text": [
      "C:\\Users\\zmorrato\\AppData\\Local\\Temp\\ipykernel_26412\\3563713887.py:21: DeprecationWarning: The 'text' argument to find()-type methods is deprecated. Use 'string' instead.\n",
      "  alma_mater_row = soup.find('th', text=lambda x: x and \"Alma\" in x)\n"
     ]
    },
    {
     "name": "stdout",
     "output_type": "stream",
     "text": [
      "[ DEBUG ] - Progress: 3.9525691699604746%\n"
     ]
    },
    {
     "name": "stderr",
     "output_type": "stream",
     "text": [
      "C:\\Users\\zmorrato\\AppData\\Local\\Temp\\ipykernel_26412\\3563713887.py:21: DeprecationWarning: The 'text' argument to find()-type methods is deprecated. Use 'string' instead.\n",
      "  alma_mater_row = soup.find('th', text=lambda x: x and \"Alma\" in x)\n"
     ]
    },
    {
     "name": "stdout",
     "output_type": "stream",
     "text": [
      "[ DEBUG ] - Alma mater row not found for /wiki/Rudyard_Kipling\n",
      "[ DEBUG ] - Progress: 4.051383399209486%\n"
     ]
    },
    {
     "name": "stderr",
     "output_type": "stream",
     "text": [
      "C:\\Users\\zmorrato\\AppData\\Local\\Temp\\ipykernel_26412\\3563713887.py:21: DeprecationWarning: The 'text' argument to find()-type methods is deprecated. Use 'string' instead.\n",
      "  alma_mater_row = soup.find('th', text=lambda x: x and \"Alma\" in x)\n"
     ]
    },
    {
     "name": "stdout",
     "output_type": "stream",
     "text": [
      "[ DEBUG ] - Alma mater row not found for /wiki/Ernesto_Teodoro_Moneta\n",
      "[ DEBUG ] - Progress: 4.150197628458498%\n"
     ]
    },
    {
     "name": "stderr",
     "output_type": "stream",
     "text": [
      "C:\\Users\\zmorrato\\AppData\\Local\\Temp\\ipykernel_26412\\3563713887.py:21: DeprecationWarning: The 'text' argument to find()-type methods is deprecated. Use 'string' instead.\n",
      "  alma_mater_row = soup.find('th', text=lambda x: x and \"Alma\" in x)\n"
     ]
    },
    {
     "name": "stdout",
     "output_type": "stream",
     "text": [
      "[ DEBUG ] - Alma mater row not found for /wiki/Louis_Renault_(jurist)\n",
      "[ DEBUG ] - Progress: 4.24901185770751%\n"
     ]
    },
    {
     "name": "stderr",
     "output_type": "stream",
     "text": [
      "C:\\Users\\zmorrato\\AppData\\Local\\Temp\\ipykernel_26412\\3563713887.py:21: DeprecationWarning: The 'text' argument to find()-type methods is deprecated. Use 'string' instead.\n",
      "  alma_mater_row = soup.find('th', text=lambda x: x and \"Alma\" in x)\n"
     ]
    },
    {
     "name": "stdout",
     "output_type": "stream",
     "text": [
      "[ DEBUG ] - Progress: 4.3478260869565215%\n"
     ]
    },
    {
     "name": "stderr",
     "output_type": "stream",
     "text": [
      "C:\\Users\\zmorrato\\AppData\\Local\\Temp\\ipykernel_26412\\3563713887.py:21: DeprecationWarning: The 'text' argument to find()-type methods is deprecated. Use 'string' instead.\n",
      "  alma_mater_row = soup.find('th', text=lambda x: x and \"Alma\" in x)\n"
     ]
    },
    {
     "name": "stdout",
     "output_type": "stream",
     "text": [
      "[ DEBUG ] - Progress: 4.446640316205533%\n"
     ]
    },
    {
     "name": "stderr",
     "output_type": "stream",
     "text": [
      "C:\\Users\\zmorrato\\AppData\\Local\\Temp\\ipykernel_26412\\3563713887.py:21: DeprecationWarning: The 'text' argument to find()-type methods is deprecated. Use 'string' instead.\n",
      "  alma_mater_row = soup.find('th', text=lambda x: x and \"Alma\" in x)\n"
     ]
    },
    {
     "name": "stdout",
     "output_type": "stream",
     "text": [
      "[ DEBUG ] - Progress: 4.545454545454546%\n"
     ]
    },
    {
     "name": "stderr",
     "output_type": "stream",
     "text": [
      "C:\\Users\\zmorrato\\AppData\\Local\\Temp\\ipykernel_26412\\3563713887.py:21: DeprecationWarning: The 'text' argument to find()-type methods is deprecated. Use 'string' instead.\n",
      "  alma_mater_row = soup.find('th', text=lambda x: x and \"Alma\" in x)\n"
     ]
    },
    {
     "name": "stdout",
     "output_type": "stream",
     "text": [
      "[ DEBUG ] - Alma mater row not found for /wiki/Paul_Ehrlich\n",
      "[ DEBUG ] - Progress: 4.644268774703558%\n"
     ]
    },
    {
     "name": "stderr",
     "output_type": "stream",
     "text": [
      "C:\\Users\\zmorrato\\AppData\\Local\\Temp\\ipykernel_26412\\3563713887.py:21: DeprecationWarning: The 'text' argument to find()-type methods is deprecated. Use 'string' instead.\n",
      "  alma_mater_row = soup.find('th', text=lambda x: x and \"Alma\" in x)\n"
     ]
    },
    {
     "name": "stdout",
     "output_type": "stream",
     "text": [
      "[ DEBUG ] - Progress: 4.743083003952568%\n"
     ]
    },
    {
     "name": "stderr",
     "output_type": "stream",
     "text": [
      "C:\\Users\\zmorrato\\AppData\\Local\\Temp\\ipykernel_26412\\3563713887.py:21: DeprecationWarning: The 'text' argument to find()-type methods is deprecated. Use 'string' instead.\n",
      "  alma_mater_row = soup.find('th', text=lambda x: x and \"Alma\" in x)\n"
     ]
    },
    {
     "name": "stdout",
     "output_type": "stream",
     "text": [
      "[ DEBUG ] - Alma mater row not found for /wiki/Klas_Pontus_Arnoldson\n",
      "[ DEBUG ] - Progress: 4.841897233201581%\n"
     ]
    },
    {
     "name": "stderr",
     "output_type": "stream",
     "text": [
      "C:\\Users\\zmorrato\\AppData\\Local\\Temp\\ipykernel_26412\\3563713887.py:21: DeprecationWarning: The 'text' argument to find()-type methods is deprecated. Use 'string' instead.\n",
      "  alma_mater_row = soup.find('th', text=lambda x: x and \"Alma\" in x)\n"
     ]
    },
    {
     "name": "stdout",
     "output_type": "stream",
     "text": [
      "[ DEBUG ] - Alma mater row not found for /wiki/Fredrik_Bajer\n",
      "[ DEBUG ] - Progress: 4.940711462450593%\n"
     ]
    },
    {
     "name": "stderr",
     "output_type": "stream",
     "text": [
      "C:\\Users\\zmorrato\\AppData\\Local\\Temp\\ipykernel_26412\\3563713887.py:21: DeprecationWarning: The 'text' argument to find()-type methods is deprecated. Use 'string' instead.\n",
      "  alma_mater_row = soup.find('th', text=lambda x: x and \"Alma\" in x)\n"
     ]
    },
    {
     "name": "stdout",
     "output_type": "stream",
     "text": [
      "[ DEBUG ] - Progress: 5.0395256916996045%\n"
     ]
    },
    {
     "name": "stderr",
     "output_type": "stream",
     "text": [
      "C:\\Users\\zmorrato\\AppData\\Local\\Temp\\ipykernel_26412\\3563713887.py:21: DeprecationWarning: The 'text' argument to find()-type methods is deprecated. Use 'string' instead.\n",
      "  alma_mater_row = soup.find('th', text=lambda x: x and \"Alma\" in x)\n"
     ]
    },
    {
     "name": "stdout",
     "output_type": "stream",
     "text": [
      "[ DEBUG ] - Progress: 5.138339920948617%\n"
     ]
    },
    {
     "name": "stderr",
     "output_type": "stream",
     "text": [
      "C:\\Users\\zmorrato\\AppData\\Local\\Temp\\ipykernel_26412\\3563713887.py:21: DeprecationWarning: The 'text' argument to find()-type methods is deprecated. Use 'string' instead.\n",
      "  alma_mater_row = soup.find('th', text=lambda x: x and \"Alma\" in x)\n"
     ]
    },
    {
     "name": "stdout",
     "output_type": "stream",
     "text": [
      "[ DEBUG ] - Progress: 5.237154150197629%\n"
     ]
    },
    {
     "name": "stderr",
     "output_type": "stream",
     "text": [
      "C:\\Users\\zmorrato\\AppData\\Local\\Temp\\ipykernel_26412\\3563713887.py:21: DeprecationWarning: The 'text' argument to find()-type methods is deprecated. Use 'string' instead.\n",
      "  alma_mater_row = soup.find('th', text=lambda x: x and \"Alma\" in x)\n"
     ]
    },
    {
     "name": "stdout",
     "output_type": "stream",
     "text": [
      "[ DEBUG ] - Alma mater row not found for /wiki/Emil_Theodor_Kocher\n",
      "[ DEBUG ] - Progress: 5.33596837944664%\n"
     ]
    },
    {
     "name": "stderr",
     "output_type": "stream",
     "text": [
      "C:\\Users\\zmorrato\\AppData\\Local\\Temp\\ipykernel_26412\\3563713887.py:21: DeprecationWarning: The 'text' argument to find()-type methods is deprecated. Use 'string' instead.\n",
      "  alma_mater_row = soup.find('th', text=lambda x: x and \"Alma\" in x)\n"
     ]
    },
    {
     "name": "stdout",
     "output_type": "stream",
     "text": [
      "[ DEBUG ] - Alma mater row not found for /wiki/Selma_Lagerl%C3%B6f\n",
      "[ DEBUG ] - Progress: 5.434782608695652%\n"
     ]
    },
    {
     "name": "stderr",
     "output_type": "stream",
     "text": [
      "C:\\Users\\zmorrato\\AppData\\Local\\Temp\\ipykernel_26412\\3563713887.py:21: DeprecationWarning: The 'text' argument to find()-type methods is deprecated. Use 'string' instead.\n",
      "  alma_mater_row = soup.find('th', text=lambda x: x and \"Alma\" in x)\n"
     ]
    },
    {
     "name": "stdout",
     "output_type": "stream",
     "text": [
      "[ DEBUG ] - Progress: 5.533596837944664%\n"
     ]
    },
    {
     "name": "stderr",
     "output_type": "stream",
     "text": [
      "C:\\Users\\zmorrato\\AppData\\Local\\Temp\\ipykernel_26412\\3563713887.py:21: DeprecationWarning: The 'text' argument to find()-type methods is deprecated. Use 'string' instead.\n",
      "  alma_mater_row = soup.find('th', text=lambda x: x and \"Alma\" in x)\n"
     ]
    },
    {
     "name": "stdout",
     "output_type": "stream",
     "text": [
      "[ DEBUG ] - Alma mater row not found for /wiki/Paul_Henri_Balluet_d%27Estournelles_de_Constant\n",
      "[ DEBUG ] - Progress: 5.632411067193676%\n"
     ]
    },
    {
     "name": "stderr",
     "output_type": "stream",
     "text": [
      "C:\\Users\\zmorrato\\AppData\\Local\\Temp\\ipykernel_26412\\3563713887.py:21: DeprecationWarning: The 'text' argument to find()-type methods is deprecated. Use 'string' instead.\n",
      "  alma_mater_row = soup.find('th', text=lambda x: x and \"Alma\" in x)\n"
     ]
    },
    {
     "name": "stdout",
     "output_type": "stream",
     "text": [
      "[ DEBUG ] - Progress: 5.7312252964426875%\n"
     ]
    },
    {
     "name": "stderr",
     "output_type": "stream",
     "text": [
      "C:\\Users\\zmorrato\\AppData\\Local\\Temp\\ipykernel_26412\\3563713887.py:21: DeprecationWarning: The 'text' argument to find()-type methods is deprecated. Use 'string' instead.\n",
      "  alma_mater_row = soup.find('th', text=lambda x: x and \"Alma\" in x)\n"
     ]
    },
    {
     "name": "stdout",
     "output_type": "stream",
     "text": [
      "[ DEBUG ] - Progress: 5.8300395256917%\n"
     ]
    },
    {
     "name": "stderr",
     "output_type": "stream",
     "text": [
      "C:\\Users\\zmorrato\\AppData\\Local\\Temp\\ipykernel_26412\\3563713887.py:21: DeprecationWarning: The 'text' argument to find()-type methods is deprecated. Use 'string' instead.\n",
      "  alma_mater_row = soup.find('th', text=lambda x: x and \"Alma\" in x)\n"
     ]
    },
    {
     "name": "stdout",
     "output_type": "stream",
     "text": [
      "[ DEBUG ] - Progress: 5.928853754940711%\n"
     ]
    },
    {
     "name": "stderr",
     "output_type": "stream",
     "text": [
      "C:\\Users\\zmorrato\\AppData\\Local\\Temp\\ipykernel_26412\\3563713887.py:21: DeprecationWarning: The 'text' argument to find()-type methods is deprecated. Use 'string' instead.\n",
      "  alma_mater_row = soup.find('th', text=lambda x: x and \"Alma\" in x)\n"
     ]
    },
    {
     "name": "stdout",
     "output_type": "stream",
     "text": [
      "[ DEBUG ] - Alma mater row not found for /wiki/Paul_Heyse\n",
      "[ DEBUG ] - Progress: 6.027667984189724%\n"
     ]
    },
    {
     "name": "stderr",
     "output_type": "stream",
     "text": [
      "C:\\Users\\zmorrato\\AppData\\Local\\Temp\\ipykernel_26412\\3563713887.py:21: DeprecationWarning: The 'text' argument to find()-type methods is deprecated. Use 'string' instead.\n",
      "  alma_mater_row = soup.find('th', text=lambda x: x and \"Alma\" in x)\n"
     ]
    },
    {
     "name": "stdout",
     "output_type": "stream",
     "text": [
      "[ DEBUG ] - Alma mater row not found for /wiki/International_Peace_Bureau\n",
      "[ DEBUG ] - Progress: 6.126482213438735%\n"
     ]
    },
    {
     "name": "stderr",
     "output_type": "stream",
     "text": [
      "C:\\Users\\zmorrato\\AppData\\Local\\Temp\\ipykernel_26412\\3563713887.py:21: DeprecationWarning: The 'text' argument to find()-type methods is deprecated. Use 'string' instead.\n",
      "  alma_mater_row = soup.find('th', text=lambda x: x and \"Alma\" in x)\n"
     ]
    },
    {
     "name": "stdout",
     "output_type": "stream",
     "text": [
      "[ DEBUG ] - Progress: 6.225296442687747%\n"
     ]
    },
    {
     "name": "stderr",
     "output_type": "stream",
     "text": [
      "C:\\Users\\zmorrato\\AppData\\Local\\Temp\\ipykernel_26412\\3563713887.py:21: DeprecationWarning: The 'text' argument to find()-type methods is deprecated. Use 'string' instead.\n",
      "  alma_mater_row = soup.find('th', text=lambda x: x and \"Alma\" in x)\n"
     ]
    },
    {
     "name": "stdout",
     "output_type": "stream",
     "text": [
      "[ DEBUG ] - Progress: 6.324110671936759%\n"
     ]
    },
    {
     "name": "stderr",
     "output_type": "stream",
     "text": [
      "C:\\Users\\zmorrato\\AppData\\Local\\Temp\\ipykernel_26412\\3563713887.py:21: DeprecationWarning: The 'text' argument to find()-type methods is deprecated. Use 'string' instead.\n",
      "  alma_mater_row = soup.find('th', text=lambda x: x and \"Alma\" in x)\n"
     ]
    },
    {
     "name": "stdout",
     "output_type": "stream",
     "text": [
      "[ DEBUG ] - Alma mater row not found for /wiki/Allvar_Gullstrand\n",
      "[ DEBUG ] - Progress: 6.422924901185771%\n"
     ]
    },
    {
     "name": "stderr",
     "output_type": "stream",
     "text": [
      "C:\\Users\\zmorrato\\AppData\\Local\\Temp\\ipykernel_26412\\3563713887.py:21: DeprecationWarning: The 'text' argument to find()-type methods is deprecated. Use 'string' instead.\n",
      "  alma_mater_row = soup.find('th', text=lambda x: x and \"Alma\" in x)\n"
     ]
    },
    {
     "name": "stdout",
     "output_type": "stream",
     "text": [
      "[ DEBUG ] - Progress: 6.521739130434782%\n"
     ]
    },
    {
     "name": "stderr",
     "output_type": "stream",
     "text": [
      "C:\\Users\\zmorrato\\AppData\\Local\\Temp\\ipykernel_26412\\3563713887.py:21: DeprecationWarning: The 'text' argument to find()-type methods is deprecated. Use 'string' instead.\n",
      "  alma_mater_row = soup.find('th', text=lambda x: x and \"Alma\" in x)\n"
     ]
    },
    {
     "name": "stdout",
     "output_type": "stream",
     "text": [
      "[ DEBUG ] - Progress: 6.620553359683795%\n"
     ]
    },
    {
     "name": "stderr",
     "output_type": "stream",
     "text": [
      "C:\\Users\\zmorrato\\AppData\\Local\\Temp\\ipykernel_26412\\3563713887.py:21: DeprecationWarning: The 'text' argument to find()-type methods is deprecated. Use 'string' instead.\n",
      "  alma_mater_row = soup.find('th', text=lambda x: x and \"Alma\" in x)\n"
     ]
    },
    {
     "name": "stdout",
     "output_type": "stream",
     "text": [
      "[ DEBUG ] - Alma mater row not found for /wiki/Alfred_Hermann_Fried\n",
      "[ DEBUG ] - Progress: 6.719367588932807%\n"
     ]
    },
    {
     "name": "stderr",
     "output_type": "stream",
     "text": [
      "C:\\Users\\zmorrato\\AppData\\Local\\Temp\\ipykernel_26412\\3563713887.py:21: DeprecationWarning: The 'text' argument to find()-type methods is deprecated. Use 'string' instead.\n",
      "  alma_mater_row = soup.find('th', text=lambda x: x and \"Alma\" in x)\n"
     ]
    },
    {
     "name": "stdout",
     "output_type": "stream",
     "text": [
      "[ DEBUG ] - Progress: 6.8181818181818175%\n"
     ]
    },
    {
     "name": "stderr",
     "output_type": "stream",
     "text": [
      "C:\\Users\\zmorrato\\AppData\\Local\\Temp\\ipykernel_26412\\3563713887.py:21: DeprecationWarning: The 'text' argument to find()-type methods is deprecated. Use 'string' instead.\n",
      "  alma_mater_row = soup.find('th', text=lambda x: x and \"Alma\" in x)\n"
     ]
    },
    {
     "name": "stdout",
     "output_type": "stream",
     "text": [
      "[ DEBUG ] - Progress: 6.91699604743083%\n"
     ]
    },
    {
     "name": "stderr",
     "output_type": "stream",
     "text": [
      "C:\\Users\\zmorrato\\AppData\\Local\\Temp\\ipykernel_26412\\3563713887.py:21: DeprecationWarning: The 'text' argument to find()-type methods is deprecated. Use 'string' instead.\n",
      "  alma_mater_row = soup.find('th', text=lambda x: x and \"Alma\" in x)\n"
     ]
    },
    {
     "name": "stdout",
     "output_type": "stream",
     "text": [
      "[ DEBUG ] - Progress: 7.015810276679842%\n"
     ]
    },
    {
     "name": "stderr",
     "output_type": "stream",
     "text": [
      "C:\\Users\\zmorrato\\AppData\\Local\\Temp\\ipykernel_26412\\3563713887.py:21: DeprecationWarning: The 'text' argument to find()-type methods is deprecated. Use 'string' instead.\n",
      "  alma_mater_row = soup.find('th', text=lambda x: x and \"Alma\" in x)\n"
     ]
    },
    {
     "name": "stdout",
     "output_type": "stream",
     "text": [
      "[ DEBUG ] - Alma mater row not found for /wiki/Alexis_Carrel\n",
      "[ DEBUG ] - Progress: 7.114624505928854%\n"
     ]
    },
    {
     "name": "stderr",
     "output_type": "stream",
     "text": [
      "C:\\Users\\zmorrato\\AppData\\Local\\Temp\\ipykernel_26412\\3563713887.py:21: DeprecationWarning: The 'text' argument to find()-type methods is deprecated. Use 'string' instead.\n",
      "  alma_mater_row = soup.find('th', text=lambda x: x and \"Alma\" in x)\n"
     ]
    },
    {
     "name": "stdout",
     "output_type": "stream",
     "text": [
      "[ DEBUG ] - Alma mater row not found for /wiki/Gerhart_Hauptmann\n",
      "[ DEBUG ] - Progress: 7.213438735177865%\n"
     ]
    },
    {
     "name": "stderr",
     "output_type": "stream",
     "text": [
      "C:\\Users\\zmorrato\\AppData\\Local\\Temp\\ipykernel_26412\\3563713887.py:21: DeprecationWarning: The 'text' argument to find()-type methods is deprecated. Use 'string' instead.\n",
      "  alma_mater_row = soup.find('th', text=lambda x: x and \"Alma\" in x)\n"
     ]
    },
    {
     "name": "stdout",
     "output_type": "stream",
     "text": [
      "[ DEBUG ] - Alma mater row not found for /wiki/Elihu_Root\n",
      "[ DEBUG ] - Progress: 7.312252964426877%\n"
     ]
    },
    {
     "name": "stderr",
     "output_type": "stream",
     "text": [
      "C:\\Users\\zmorrato\\AppData\\Local\\Temp\\ipykernel_26412\\3563713887.py:21: DeprecationWarning: The 'text' argument to find()-type methods is deprecated. Use 'string' instead.\n",
      "  alma_mater_row = soup.find('th', text=lambda x: x and \"Alma\" in x)\n"
     ]
    },
    {
     "name": "stdout",
     "output_type": "stream",
     "text": [
      "[ DEBUG ] - Progress: 7.41106719367589%\n"
     ]
    },
    {
     "name": "stderr",
     "output_type": "stream",
     "text": [
      "C:\\Users\\zmorrato\\AppData\\Local\\Temp\\ipykernel_26412\\3563713887.py:21: DeprecationWarning: The 'text' argument to find()-type methods is deprecated. Use 'string' instead.\n",
      "  alma_mater_row = soup.find('th', text=lambda x: x and \"Alma\" in x)\n"
     ]
    },
    {
     "name": "stdout",
     "output_type": "stream",
     "text": [
      "[ DEBUG ] - Progress: 7.5098814229249005%\n"
     ]
    },
    {
     "name": "stderr",
     "output_type": "stream",
     "text": [
      "C:\\Users\\zmorrato\\AppData\\Local\\Temp\\ipykernel_26412\\3563713887.py:21: DeprecationWarning: The 'text' argument to find()-type methods is deprecated. Use 'string' instead.\n",
      "  alma_mater_row = soup.find('th', text=lambda x: x and \"Alma\" in x)\n"
     ]
    },
    {
     "name": "stdout",
     "output_type": "stream",
     "text": [
      "[ DEBUG ] - Progress: 7.608695652173914%\n"
     ]
    },
    {
     "name": "stderr",
     "output_type": "stream",
     "text": [
      "C:\\Users\\zmorrato\\AppData\\Local\\Temp\\ipykernel_26412\\3563713887.py:21: DeprecationWarning: The 'text' argument to find()-type methods is deprecated. Use 'string' instead.\n",
      "  alma_mater_row = soup.find('th', text=lambda x: x and \"Alma\" in x)\n"
     ]
    },
    {
     "name": "stdout",
     "output_type": "stream",
     "text": [
      "[ DEBUG ] - Alma mater row not found for /wiki/Rabindranath_Tagore\n",
      "[ DEBUG ] - Progress: 7.707509881422925%\n"
     ]
    },
    {
     "name": "stderr",
     "output_type": "stream",
     "text": [
      "C:\\Users\\zmorrato\\AppData\\Local\\Temp\\ipykernel_26412\\3563713887.py:21: DeprecationWarning: The 'text' argument to find()-type methods is deprecated. Use 'string' instead.\n",
      "  alma_mater_row = soup.find('th', text=lambda x: x and \"Alma\" in x)\n"
     ]
    },
    {
     "name": "stdout",
     "output_type": "stream",
     "text": [
      "[ DEBUG ] - Alma mater row not found for /wiki/Henri_La_Fontaine\n",
      "[ DEBUG ] - Progress: 7.806324110671936%\n"
     ]
    },
    {
     "name": "stderr",
     "output_type": "stream",
     "text": [
      "C:\\Users\\zmorrato\\AppData\\Local\\Temp\\ipykernel_26412\\3563713887.py:21: DeprecationWarning: The 'text' argument to find()-type methods is deprecated. Use 'string' instead.\n",
      "  alma_mater_row = soup.find('th', text=lambda x: x and \"Alma\" in x)\n"
     ]
    },
    {
     "name": "stdout",
     "output_type": "stream",
     "text": [
      "[ DEBUG ] - Progress: 7.905138339920949%\n"
     ]
    },
    {
     "name": "stderr",
     "output_type": "stream",
     "text": [
      "C:\\Users\\zmorrato\\AppData\\Local\\Temp\\ipykernel_26412\\3563713887.py:21: DeprecationWarning: The 'text' argument to find()-type methods is deprecated. Use 'string' instead.\n",
      "  alma_mater_row = soup.find('th', text=lambda x: x and \"Alma\" in x)\n"
     ]
    },
    {
     "name": "stdout",
     "output_type": "stream",
     "text": [
      "[ DEBUG ] - Alma mater row not found for /wiki/Theodore_William_Richards\n",
      "[ DEBUG ] - Progress: 8.003952569169961%\n"
     ]
    },
    {
     "name": "stderr",
     "output_type": "stream",
     "text": [
      "C:\\Users\\zmorrato\\AppData\\Local\\Temp\\ipykernel_26412\\3563713887.py:21: DeprecationWarning: The 'text' argument to find()-type methods is deprecated. Use 'string' instead.\n",
      "  alma_mater_row = soup.find('th', text=lambda x: x and \"Alma\" in x)\n"
     ]
    },
    {
     "name": "stdout",
     "output_type": "stream",
     "text": [
      "[ DEBUG ] - Progress: 8.102766798418973%\n"
     ]
    },
    {
     "name": "stderr",
     "output_type": "stream",
     "text": [
      "C:\\Users\\zmorrato\\AppData\\Local\\Temp\\ipykernel_26412\\3563713887.py:21: DeprecationWarning: The 'text' argument to find()-type methods is deprecated. Use 'string' instead.\n",
      "  alma_mater_row = soup.find('th', text=lambda x: x and \"Alma\" in x)\n"
     ]
    },
    {
     "name": "stdout",
     "output_type": "stream",
     "text": [
      "[ DEBUG ] - Alma mater row not found for /wiki/William_Henry_Bragg\n",
      "[ DEBUG ] - Progress: 8.201581027667984%\n"
     ]
    },
    {
     "name": "stderr",
     "output_type": "stream",
     "text": [
      "C:\\Users\\zmorrato\\AppData\\Local\\Temp\\ipykernel_26412\\3563713887.py:21: DeprecationWarning: The 'text' argument to find()-type methods is deprecated. Use 'string' instead.\n",
      "  alma_mater_row = soup.find('th', text=lambda x: x and \"Alma\" in x)\n"
     ]
    },
    {
     "name": "stdout",
     "output_type": "stream",
     "text": [
      "[ DEBUG ] - Progress: 8.300395256916996%\n"
     ]
    },
    {
     "name": "stderr",
     "output_type": "stream",
     "text": [
      "C:\\Users\\zmorrato\\AppData\\Local\\Temp\\ipykernel_26412\\3563713887.py:21: DeprecationWarning: The 'text' argument to find()-type methods is deprecated. Use 'string' instead.\n",
      "  alma_mater_row = soup.find('th', text=lambda x: x and \"Alma\" in x)\n"
     ]
    },
    {
     "name": "stdout",
     "output_type": "stream",
     "text": [
      "[ DEBUG ] - Progress: 8.399209486166008%\n"
     ]
    },
    {
     "name": "stderr",
     "output_type": "stream",
     "text": [
      "C:\\Users\\zmorrato\\AppData\\Local\\Temp\\ipykernel_26412\\3563713887.py:21: DeprecationWarning: The 'text' argument to find()-type methods is deprecated. Use 'string' instead.\n",
      "  alma_mater_row = soup.find('th', text=lambda x: x and \"Alma\" in x)\n"
     ]
    },
    {
     "name": "stdout",
     "output_type": "stream",
     "text": [
      "[ DEBUG ] - Alma mater row not found for /wiki/Romain_Rolland\n",
      "[ DEBUG ] - Progress: 8.49802371541502%\n"
     ]
    },
    {
     "name": "stderr",
     "output_type": "stream",
     "text": [
      "C:\\Users\\zmorrato\\AppData\\Local\\Temp\\ipykernel_26412\\3563713887.py:21: DeprecationWarning: The 'text' argument to find()-type methods is deprecated. Use 'string' instead.\n",
      "  alma_mater_row = soup.find('th', text=lambda x: x and \"Alma\" in x)\n"
     ]
    },
    {
     "name": "stdout",
     "output_type": "stream",
     "text": [
      "[ DEBUG ] - Alma mater row not found for /wiki/Verner_von_Heidenstam\n",
      "[ DEBUG ] - Progress: 8.596837944664031%\n"
     ]
    },
    {
     "name": "stderr",
     "output_type": "stream",
     "text": [
      "C:\\Users\\zmorrato\\AppData\\Local\\Temp\\ipykernel_26412\\3563713887.py:21: DeprecationWarning: The 'text' argument to find()-type methods is deprecated. Use 'string' instead.\n",
      "  alma_mater_row = soup.find('th', text=lambda x: x and \"Alma\" in x)\n"
     ]
    },
    {
     "name": "stdout",
     "output_type": "stream",
     "text": [
      "[ DEBUG ] - Progress: 8.695652173913043%\n"
     ]
    },
    {
     "name": "stderr",
     "output_type": "stream",
     "text": [
      "C:\\Users\\zmorrato\\AppData\\Local\\Temp\\ipykernel_26412\\3563713887.py:21: DeprecationWarning: The 'text' argument to find()-type methods is deprecated. Use 'string' instead.\n",
      "  alma_mater_row = soup.find('th', text=lambda x: x and \"Alma\" in x)\n"
     ]
    },
    {
     "name": "stdout",
     "output_type": "stream",
     "text": [
      "[ DEBUG ] - Alma mater row not found for /wiki/Karl_Adolph_Gjellerup\n",
      "[ DEBUG ] - Progress: 8.794466403162057%\n"
     ]
    },
    {
     "name": "stderr",
     "output_type": "stream",
     "text": [
      "C:\\Users\\zmorrato\\AppData\\Local\\Temp\\ipykernel_26412\\3563713887.py:21: DeprecationWarning: The 'text' argument to find()-type methods is deprecated. Use 'string' instead.\n",
      "  alma_mater_row = soup.find('th', text=lambda x: x and \"Alma\" in x)\n"
     ]
    },
    {
     "name": "stdout",
     "output_type": "stream",
     "text": [
      "[ DEBUG ] - Alma mater row not found for /wiki/Henrik_Pontoppidan\n",
      "[ DEBUG ] - Progress: 8.893280632411066%\n"
     ]
    },
    {
     "name": "stderr",
     "output_type": "stream",
     "text": [
      "C:\\Users\\zmorrato\\AppData\\Local\\Temp\\ipykernel_26412\\3563713887.py:21: DeprecationWarning: The 'text' argument to find()-type methods is deprecated. Use 'string' instead.\n",
      "  alma_mater_row = soup.find('th', text=lambda x: x and \"Alma\" in x)\n"
     ]
    },
    {
     "name": "stdout",
     "output_type": "stream",
     "text": [
      "[ DEBUG ] - Alma mater row not found for /wiki/International_Committee_of_the_Red_Cross\n",
      "[ DEBUG ] - Progress: 8.992094861660078%\n"
     ]
    },
    {
     "name": "stderr",
     "output_type": "stream",
     "text": [
      "C:\\Users\\zmorrato\\AppData\\Local\\Temp\\ipykernel_26412\\3563713887.py:21: DeprecationWarning: The 'text' argument to find()-type methods is deprecated. Use 'string' instead.\n",
      "  alma_mater_row = soup.find('th', text=lambda x: x and \"Alma\" in x)\n"
     ]
    },
    {
     "name": "stdout",
     "output_type": "stream",
     "text": [
      "[ DEBUG ] - Alma mater row not found for /wiki/Max_Planck\n",
      "[ DEBUG ] - Progress: 9.090909090909092%\n"
     ]
    },
    {
     "name": "stderr",
     "output_type": "stream",
     "text": [
      "C:\\Users\\zmorrato\\AppData\\Local\\Temp\\ipykernel_26412\\3563713887.py:21: DeprecationWarning: The 'text' argument to find()-type methods is deprecated. Use 'string' instead.\n",
      "  alma_mater_row = soup.find('th', text=lambda x: x and \"Alma\" in x)\n"
     ]
    },
    {
     "name": "stdout",
     "output_type": "stream",
     "text": [
      "[ DEBUG ] - Progress: 9.189723320158102%\n"
     ]
    },
    {
     "name": "stderr",
     "output_type": "stream",
     "text": [
      "C:\\Users\\zmorrato\\AppData\\Local\\Temp\\ipykernel_26412\\3563713887.py:21: DeprecationWarning: The 'text' argument to find()-type methods is deprecated. Use 'string' instead.\n",
      "  alma_mater_row = soup.find('th', text=lambda x: x and \"Alma\" in x)\n"
     ]
    },
    {
     "name": "stdout",
     "output_type": "stream",
     "text": [
      "[ DEBUG ] - Progress: 9.288537549407115%\n"
     ]
    },
    {
     "name": "stderr",
     "output_type": "stream",
     "text": [
      "C:\\Users\\zmorrato\\AppData\\Local\\Temp\\ipykernel_26412\\3563713887.py:21: DeprecationWarning: The 'text' argument to find()-type methods is deprecated. Use 'string' instead.\n",
      "  alma_mater_row = soup.find('th', text=lambda x: x and \"Alma\" in x)\n"
     ]
    },
    {
     "name": "stdout",
     "output_type": "stream",
     "text": [
      "[ DEBUG ] - Progress: 9.387351778656127%\n"
     ]
    },
    {
     "name": "stderr",
     "output_type": "stream",
     "text": [
      "C:\\Users\\zmorrato\\AppData\\Local\\Temp\\ipykernel_26412\\3563713887.py:21: DeprecationWarning: The 'text' argument to find()-type methods is deprecated. Use 'string' instead.\n",
      "  alma_mater_row = soup.find('th', text=lambda x: x and \"Alma\" in x)\n"
     ]
    },
    {
     "name": "stdout",
     "output_type": "stream",
     "text": [
      "[ DEBUG ] - Alma mater row not found for /wiki/Carl_Spitteler\n",
      "[ DEBUG ] - Progress: 9.486166007905137%\n"
     ]
    },
    {
     "name": "stderr",
     "output_type": "stream",
     "text": [
      "C:\\Users\\zmorrato\\AppData\\Local\\Temp\\ipykernel_26412\\3563713887.py:21: DeprecationWarning: The 'text' argument to find()-type methods is deprecated. Use 'string' instead.\n",
      "  alma_mater_row = soup.find('th', text=lambda x: x and \"Alma\" in x)\n"
     ]
    },
    {
     "name": "stdout",
     "output_type": "stream",
     "text": [
      "[ DEBUG ] - Progress: 9.58498023715415%\n"
     ]
    },
    {
     "name": "stderr",
     "output_type": "stream",
     "text": [
      "C:\\Users\\zmorrato\\AppData\\Local\\Temp\\ipykernel_26412\\3563713887.py:21: DeprecationWarning: The 'text' argument to find()-type methods is deprecated. Use 'string' instead.\n",
      "  alma_mater_row = soup.find('th', text=lambda x: x and \"Alma\" in x)\n"
     ]
    },
    {
     "name": "stdout",
     "output_type": "stream",
     "text": [
      "[ DEBUG ] - Progress: 9.683794466403162%\n"
     ]
    },
    {
     "name": "stderr",
     "output_type": "stream",
     "text": [
      "C:\\Users\\zmorrato\\AppData\\Local\\Temp\\ipykernel_26412\\3563713887.py:21: DeprecationWarning: The 'text' argument to find()-type methods is deprecated. Use 'string' instead.\n",
      "  alma_mater_row = soup.find('th', text=lambda x: x and \"Alma\" in x)\n"
     ]
    },
    {
     "name": "stdout",
     "output_type": "stream",
     "text": [
      "[ DEBUG ] - Progress: 9.782608695652174%\n"
     ]
    },
    {
     "name": "stderr",
     "output_type": "stream",
     "text": [
      "C:\\Users\\zmorrato\\AppData\\Local\\Temp\\ipykernel_26412\\3563713887.py:21: DeprecationWarning: The 'text' argument to find()-type methods is deprecated. Use 'string' instead.\n",
      "  alma_mater_row = soup.find('th', text=lambda x: x and \"Alma\" in x)\n"
     ]
    },
    {
     "name": "stdout",
     "output_type": "stream",
     "text": [
      "[ DEBUG ] - Progress: 9.881422924901186%\n"
     ]
    },
    {
     "name": "stderr",
     "output_type": "stream",
     "text": [
      "C:\\Users\\zmorrato\\AppData\\Local\\Temp\\ipykernel_26412\\3563713887.py:21: DeprecationWarning: The 'text' argument to find()-type methods is deprecated. Use 'string' instead.\n",
      "  alma_mater_row = soup.find('th', text=lambda x: x and \"Alma\" in x)\n"
     ]
    },
    {
     "name": "stdout",
     "output_type": "stream",
     "text": [
      "[ DEBUG ] - Alma mater row not found for /wiki/Knut_Hamsun\n",
      "[ DEBUG ] - Progress: 9.980237154150199%\n"
     ]
    },
    {
     "name": "stderr",
     "output_type": "stream",
     "text": [
      "C:\\Users\\zmorrato\\AppData\\Local\\Temp\\ipykernel_26412\\3563713887.py:21: DeprecationWarning: The 'text' argument to find()-type methods is deprecated. Use 'string' instead.\n",
      "  alma_mater_row = soup.find('th', text=lambda x: x and \"Alma\" in x)\n"
     ]
    },
    {
     "name": "stdout",
     "output_type": "stream",
     "text": [
      "[ DEBUG ] - Progress: 10.079051383399209%\n"
     ]
    },
    {
     "name": "stderr",
     "output_type": "stream",
     "text": [
      "C:\\Users\\zmorrato\\AppData\\Local\\Temp\\ipykernel_26412\\3563713887.py:21: DeprecationWarning: The 'text' argument to find()-type methods is deprecated. Use 'string' instead.\n",
      "  alma_mater_row = soup.find('th', text=lambda x: x and \"Alma\" in x)\n"
     ]
    },
    {
     "name": "stdout",
     "output_type": "stream",
     "text": [
      "[ DEBUG ] - Alma mater row not found for /wiki/Albert_Einstein\n",
      "[ DEBUG ] - Progress: 10.17786561264822%\n"
     ]
    },
    {
     "name": "stderr",
     "output_type": "stream",
     "text": [
      "C:\\Users\\zmorrato\\AppData\\Local\\Temp\\ipykernel_26412\\3563713887.py:21: DeprecationWarning: The 'text' argument to find()-type methods is deprecated. Use 'string' instead.\n",
      "  alma_mater_row = soup.find('th', text=lambda x: x and \"Alma\" in x)\n"
     ]
    },
    {
     "name": "stdout",
     "output_type": "stream",
     "text": [
      "[ DEBUG ] - Progress: 10.276679841897234%\n"
     ]
    },
    {
     "name": "stderr",
     "output_type": "stream",
     "text": [
      "C:\\Users\\zmorrato\\AppData\\Local\\Temp\\ipykernel_26412\\3563713887.py:21: DeprecationWarning: The 'text' argument to find()-type methods is deprecated. Use 'string' instead.\n",
      "  alma_mater_row = soup.find('th', text=lambda x: x and \"Alma\" in x)\n"
     ]
    },
    {
     "name": "stdout",
     "output_type": "stream",
     "text": [
      "[ DEBUG ] - Alma mater row not found for /wiki/Anatole_France\n",
      "[ DEBUG ] - Progress: 10.375494071146244%\n"
     ]
    },
    {
     "name": "stderr",
     "output_type": "stream",
     "text": [
      "C:\\Users\\zmorrato\\AppData\\Local\\Temp\\ipykernel_26412\\3563713887.py:21: DeprecationWarning: The 'text' argument to find()-type methods is deprecated. Use 'string' instead.\n",
      "  alma_mater_row = soup.find('th', text=lambda x: x and \"Alma\" in x)\n"
     ]
    },
    {
     "name": "stdout",
     "output_type": "stream",
     "text": [
      "[ DEBUG ] - Alma mater row not found for /wiki/Hjalmar_Branting\n",
      "[ DEBUG ] - Progress: 10.474308300395258%\n"
     ]
    },
    {
     "name": "stderr",
     "output_type": "stream",
     "text": [
      "C:\\Users\\zmorrato\\AppData\\Local\\Temp\\ipykernel_26412\\3563713887.py:21: DeprecationWarning: The 'text' argument to find()-type methods is deprecated. Use 'string' instead.\n",
      "  alma_mater_row = soup.find('th', text=lambda x: x and \"Alma\" in x)\n"
     ]
    },
    {
     "name": "stdout",
     "output_type": "stream",
     "text": [
      "[ DEBUG ] - Alma mater row not found for /wiki/Christian_Lous_Lange\n",
      "[ DEBUG ] - Progress: 10.57312252964427%\n"
     ]
    },
    {
     "name": "stderr",
     "output_type": "stream",
     "text": [
      "C:\\Users\\zmorrato\\AppData\\Local\\Temp\\ipykernel_26412\\3563713887.py:21: DeprecationWarning: The 'text' argument to find()-type methods is deprecated. Use 'string' instead.\n",
      "  alma_mater_row = soup.find('th', text=lambda x: x and \"Alma\" in x)\n"
     ]
    },
    {
     "name": "stdout",
     "output_type": "stream",
     "text": [
      "[ DEBUG ] - Progress: 10.67193675889328%\n"
     ]
    },
    {
     "name": "stderr",
     "output_type": "stream",
     "text": [
      "C:\\Users\\zmorrato\\AppData\\Local\\Temp\\ipykernel_26412\\3563713887.py:21: DeprecationWarning: The 'text' argument to find()-type methods is deprecated. Use 'string' instead.\n",
      "  alma_mater_row = soup.find('th', text=lambda x: x and \"Alma\" in x)\n"
     ]
    },
    {
     "name": "stdout",
     "output_type": "stream",
     "text": [
      "[ DEBUG ] - Progress: 10.770750988142293%\n"
     ]
    },
    {
     "name": "stderr",
     "output_type": "stream",
     "text": [
      "C:\\Users\\zmorrato\\AppData\\Local\\Temp\\ipykernel_26412\\3563713887.py:21: DeprecationWarning: The 'text' argument to find()-type methods is deprecated. Use 'string' instead.\n",
      "  alma_mater_row = soup.find('th', text=lambda x: x and \"Alma\" in x)\n"
     ]
    },
    {
     "name": "stdout",
     "output_type": "stream",
     "text": [
      "[ DEBUG ] - Alma mater row not found for /wiki/Archibald_Hill\n",
      "[ DEBUG ] - Progress: 10.869565217391305%\n"
     ]
    },
    {
     "name": "stderr",
     "output_type": "stream",
     "text": [
      "C:\\Users\\zmorrato\\AppData\\Local\\Temp\\ipykernel_26412\\3563713887.py:21: DeprecationWarning: The 'text' argument to find()-type methods is deprecated. Use 'string' instead.\n",
      "  alma_mater_row = soup.find('th', text=lambda x: x and \"Alma\" in x)\n"
     ]
    },
    {
     "name": "stdout",
     "output_type": "stream",
     "text": [
      "[ DEBUG ] - Progress: 10.968379446640316%\n"
     ]
    },
    {
     "name": "stderr",
     "output_type": "stream",
     "text": [
      "C:\\Users\\zmorrato\\AppData\\Local\\Temp\\ipykernel_26412\\3563713887.py:21: DeprecationWarning: The 'text' argument to find()-type methods is deprecated. Use 'string' instead.\n",
      "  alma_mater_row = soup.find('th', text=lambda x: x and \"Alma\" in x)\n"
     ]
    },
    {
     "name": "stdout",
     "output_type": "stream",
     "text": [
      "[ DEBUG ] - Alma mater row not found for /wiki/Jacinto_Benavente\n",
      "[ DEBUG ] - Progress: 11.067193675889328%\n"
     ]
    },
    {
     "name": "stderr",
     "output_type": "stream",
     "text": [
      "C:\\Users\\zmorrato\\AppData\\Local\\Temp\\ipykernel_26412\\3563713887.py:21: DeprecationWarning: The 'text' argument to find()-type methods is deprecated. Use 'string' instead.\n",
      "  alma_mater_row = soup.find('th', text=lambda x: x and \"Alma\" in x)\n"
     ]
    },
    {
     "name": "stdout",
     "output_type": "stream",
     "text": [
      "[ DEBUG ] - Alma mater row not found for /wiki/Fridtjof_Nansen\n",
      "[ DEBUG ] - Progress: 11.16600790513834%\n"
     ]
    },
    {
     "name": "stderr",
     "output_type": "stream",
     "text": [
      "C:\\Users\\zmorrato\\AppData\\Local\\Temp\\ipykernel_26412\\3563713887.py:21: DeprecationWarning: The 'text' argument to find()-type methods is deprecated. Use 'string' instead.\n",
      "  alma_mater_row = soup.find('th', text=lambda x: x and \"Alma\" in x)\n"
     ]
    },
    {
     "name": "stdout",
     "output_type": "stream",
     "text": [
      "[ DEBUG ] - Progress: 11.264822134387352%\n"
     ]
    },
    {
     "name": "stderr",
     "output_type": "stream",
     "text": [
      "C:\\Users\\zmorrato\\AppData\\Local\\Temp\\ipykernel_26412\\3563713887.py:21: DeprecationWarning: The 'text' argument to find()-type methods is deprecated. Use 'string' instead.\n",
      "  alma_mater_row = soup.find('th', text=lambda x: x and \"Alma\" in x)\n"
     ]
    },
    {
     "name": "stdout",
     "output_type": "stream",
     "text": [
      "[ DEBUG ] - Progress: 11.363636363636363%\n"
     ]
    },
    {
     "name": "stderr",
     "output_type": "stream",
     "text": [
      "C:\\Users\\zmorrato\\AppData\\Local\\Temp\\ipykernel_26412\\3563713887.py:21: DeprecationWarning: The 'text' argument to find()-type methods is deprecated. Use 'string' instead.\n",
      "  alma_mater_row = soup.find('th', text=lambda x: x and \"Alma\" in x)\n"
     ]
    },
    {
     "name": "stdout",
     "output_type": "stream",
     "text": [
      "[ DEBUG ] - Alma mater row not found for /wiki/Frederick_Banting\n",
      "[ DEBUG ] - Progress: 11.462450592885375%\n"
     ]
    },
    {
     "name": "stderr",
     "output_type": "stream",
     "text": [
      "C:\\Users\\zmorrato\\AppData\\Local\\Temp\\ipykernel_26412\\3563713887.py:21: DeprecationWarning: The 'text' argument to find()-type methods is deprecated. Use 'string' instead.\n",
      "  alma_mater_row = soup.find('th', text=lambda x: x and \"Alma\" in x)\n"
     ]
    },
    {
     "name": "stdout",
     "output_type": "stream",
     "text": [
      "[ DEBUG ] - Progress: 11.561264822134387%\n"
     ]
    },
    {
     "name": "stderr",
     "output_type": "stream",
     "text": [
      "C:\\Users\\zmorrato\\AppData\\Local\\Temp\\ipykernel_26412\\3563713887.py:21: DeprecationWarning: The 'text' argument to find()-type methods is deprecated. Use 'string' instead.\n",
      "  alma_mater_row = soup.find('th', text=lambda x: x and \"Alma\" in x)\n"
     ]
    },
    {
     "name": "stdout",
     "output_type": "stream",
     "text": [
      "[ DEBUG ] - Alma mater row not found for /wiki/W._B._Yeats\n",
      "[ DEBUG ] - Progress: 11.6600790513834%\n"
     ]
    },
    {
     "name": "stderr",
     "output_type": "stream",
     "text": [
      "C:\\Users\\zmorrato\\AppData\\Local\\Temp\\ipykernel_26412\\3563713887.py:21: DeprecationWarning: The 'text' argument to find()-type methods is deprecated. Use 'string' instead.\n",
      "  alma_mater_row = soup.find('th', text=lambda x: x and \"Alma\" in x)\n"
     ]
    },
    {
     "name": "stdout",
     "output_type": "stream",
     "text": [
      "[ DEBUG ] - Progress: 11.758893280632412%\n"
     ]
    },
    {
     "name": "stderr",
     "output_type": "stream",
     "text": [
      "C:\\Users\\zmorrato\\AppData\\Local\\Temp\\ipykernel_26412\\3563713887.py:21: DeprecationWarning: The 'text' argument to find()-type methods is deprecated. Use 'string' instead.\n",
      "  alma_mater_row = soup.find('th', text=lambda x: x and \"Alma\" in x)\n"
     ]
    },
    {
     "name": "stdout",
     "output_type": "stream",
     "text": [
      "[ DEBUG ] - Progress: 11.857707509881422%\n"
     ]
    },
    {
     "name": "stderr",
     "output_type": "stream",
     "text": [
      "C:\\Users\\zmorrato\\AppData\\Local\\Temp\\ipykernel_26412\\3563713887.py:21: DeprecationWarning: The 'text' argument to find()-type methods is deprecated. Use 'string' instead.\n",
      "  alma_mater_row = soup.find('th', text=lambda x: x and \"Alma\" in x)\n"
     ]
    },
    {
     "name": "stdout",
     "output_type": "stream",
     "text": [
      "[ DEBUG ] - Alma mater row not found for /wiki/W%C5%82adys%C5%82aw_Reymont\n",
      "[ DEBUG ] - Progress: 11.956521739130435%\n"
     ]
    },
    {
     "name": "stderr",
     "output_type": "stream",
     "text": [
      "C:\\Users\\zmorrato\\AppData\\Local\\Temp\\ipykernel_26412\\3563713887.py:21: DeprecationWarning: The 'text' argument to find()-type methods is deprecated. Use 'string' instead.\n",
      "  alma_mater_row = soup.find('th', text=lambda x: x and \"Alma\" in x)\n"
     ]
    },
    {
     "name": "stdout",
     "output_type": "stream",
     "text": [
      "[ DEBUG ] - Progress: 12.055335968379447%\n"
     ]
    },
    {
     "name": "stderr",
     "output_type": "stream",
     "text": [
      "C:\\Users\\zmorrato\\AppData\\Local\\Temp\\ipykernel_26412\\3563713887.py:21: DeprecationWarning: The 'text' argument to find()-type methods is deprecated. Use 'string' instead.\n",
      "  alma_mater_row = soup.find('th', text=lambda x: x and \"Alma\" in x)\n"
     ]
    },
    {
     "name": "stdout",
     "output_type": "stream",
     "text": [
      "[ DEBUG ] - Progress: 12.154150197628459%\n"
     ]
    },
    {
     "name": "stderr",
     "output_type": "stream",
     "text": [
      "C:\\Users\\zmorrato\\AppData\\Local\\Temp\\ipykernel_26412\\3563713887.py:21: DeprecationWarning: The 'text' argument to find()-type methods is deprecated. Use 'string' instead.\n",
      "  alma_mater_row = soup.find('th', text=lambda x: x and \"Alma\" in x)\n"
     ]
    },
    {
     "name": "stdout",
     "output_type": "stream",
     "text": [
      "[ DEBUG ] - Progress: 12.25296442687747%\n"
     ]
    },
    {
     "name": "stderr",
     "output_type": "stream",
     "text": [
      "C:\\Users\\zmorrato\\AppData\\Local\\Temp\\ipykernel_26412\\3563713887.py:21: DeprecationWarning: The 'text' argument to find()-type methods is deprecated. Use 'string' instead.\n",
      "  alma_mater_row = soup.find('th', text=lambda x: x and \"Alma\" in x)\n"
     ]
    },
    {
     "name": "stdout",
     "output_type": "stream",
     "text": [
      "[ DEBUG ] - Alma mater row not found for /wiki/George_Bernard_Shaw\n",
      "[ DEBUG ] - Progress: 12.351778656126482%\n"
     ]
    },
    {
     "name": "stderr",
     "output_type": "stream",
     "text": [
      "C:\\Users\\zmorrato\\AppData\\Local\\Temp\\ipykernel_26412\\3563713887.py:21: DeprecationWarning: The 'text' argument to find()-type methods is deprecated. Use 'string' instead.\n",
      "  alma_mater_row = soup.find('th', text=lambda x: x and \"Alma\" in x)\n"
     ]
    },
    {
     "name": "stdout",
     "output_type": "stream",
     "text": [
      "[ DEBUG ] - Progress: 12.450592885375494%\n"
     ]
    },
    {
     "name": "stderr",
     "output_type": "stream",
     "text": [
      "C:\\Users\\zmorrato\\AppData\\Local\\Temp\\ipykernel_26412\\3563713887.py:21: DeprecationWarning: The 'text' argument to find()-type methods is deprecated. Use 'string' instead.\n",
      "  alma_mater_row = soup.find('th', text=lambda x: x and \"Alma\" in x)\n"
     ]
    },
    {
     "name": "stdout",
     "output_type": "stream",
     "text": [
      "[ DEBUG ] - Alma mater row not found for /wiki/Charles_G._Dawes\n",
      "[ DEBUG ] - Progress: 12.549407114624506%\n"
     ]
    },
    {
     "name": "stderr",
     "output_type": "stream",
     "text": [
      "C:\\Users\\zmorrato\\AppData\\Local\\Temp\\ipykernel_26412\\3563713887.py:21: DeprecationWarning: The 'text' argument to find()-type methods is deprecated. Use 'string' instead.\n",
      "  alma_mater_row = soup.find('th', text=lambda x: x and \"Alma\" in x)\n"
     ]
    },
    {
     "name": "stdout",
     "output_type": "stream",
     "text": [
      "[ DEBUG ] - Progress: 12.648221343873518%\n"
     ]
    },
    {
     "name": "stderr",
     "output_type": "stream",
     "text": [
      "C:\\Users\\zmorrato\\AppData\\Local\\Temp\\ipykernel_26412\\3563713887.py:21: DeprecationWarning: The 'text' argument to find()-type methods is deprecated. Use 'string' instead.\n",
      "  alma_mater_row = soup.find('th', text=lambda x: x and \"Alma\" in x)\n"
     ]
    },
    {
     "name": "stdout",
     "output_type": "stream",
     "text": [
      "[ DEBUG ] - Progress: 12.747035573122531%\n"
     ]
    },
    {
     "name": "stderr",
     "output_type": "stream",
     "text": [
      "C:\\Users\\zmorrato\\AppData\\Local\\Temp\\ipykernel_26412\\3563713887.py:21: DeprecationWarning: The 'text' argument to find()-type methods is deprecated. Use 'string' instead.\n",
      "  alma_mater_row = soup.find('th', text=lambda x: x and \"Alma\" in x)\n"
     ]
    },
    {
     "name": "stdout",
     "output_type": "stream",
     "text": [
      "[ DEBUG ] - Progress: 12.845849802371543%\n"
     ]
    },
    {
     "name": "stderr",
     "output_type": "stream",
     "text": [
      "C:\\Users\\zmorrato\\AppData\\Local\\Temp\\ipykernel_26412\\3563713887.py:21: DeprecationWarning: The 'text' argument to find()-type methods is deprecated. Use 'string' instead.\n",
      "  alma_mater_row = soup.find('th', text=lambda x: x and \"Alma\" in x)\n"
     ]
    },
    {
     "name": "stdout",
     "output_type": "stream",
     "text": [
      "[ DEBUG ] - Alma mater row not found for /wiki/Grazia_Deledda\n",
      "[ DEBUG ] - Progress: 12.944664031620553%\n"
     ]
    },
    {
     "name": "stderr",
     "output_type": "stream",
     "text": [
      "C:\\Users\\zmorrato\\AppData\\Local\\Temp\\ipykernel_26412\\3563713887.py:21: DeprecationWarning: The 'text' argument to find()-type methods is deprecated. Use 'string' instead.\n",
      "  alma_mater_row = soup.find('th', text=lambda x: x and \"Alma\" in x)\n"
     ]
    },
    {
     "name": "stdout",
     "output_type": "stream",
     "text": [
      "[ DEBUG ] - Alma mater row not found for /wiki/Aristide_Briand\n",
      "[ DEBUG ] - Progress: 13.043478260869565%\n"
     ]
    },
    {
     "name": "stderr",
     "output_type": "stream",
     "text": [
      "C:\\Users\\zmorrato\\AppData\\Local\\Temp\\ipykernel_26412\\3563713887.py:21: DeprecationWarning: The 'text' argument to find()-type methods is deprecated. Use 'string' instead.\n",
      "  alma_mater_row = soup.find('th', text=lambda x: x and \"Alma\" in x)\n"
     ]
    },
    {
     "name": "stdout",
     "output_type": "stream",
     "text": [
      "[ DEBUG ] - Alma mater row not found for /wiki/Gustav_Stresemann\n",
      "[ DEBUG ] - Progress: 13.142292490118576%\n"
     ]
    },
    {
     "name": "stderr",
     "output_type": "stream",
     "text": [
      "C:\\Users\\zmorrato\\AppData\\Local\\Temp\\ipykernel_26412\\3563713887.py:21: DeprecationWarning: The 'text' argument to find()-type methods is deprecated. Use 'string' instead.\n",
      "  alma_mater_row = soup.find('th', text=lambda x: x and \"Alma\" in x)\n"
     ]
    },
    {
     "name": "stdout",
     "output_type": "stream",
     "text": [
      "[ DEBUG ] - Alma mater row not found for /wiki/Arthur_Compton\n",
      "[ DEBUG ] - Progress: 13.24110671936759%\n"
     ]
    },
    {
     "name": "stderr",
     "output_type": "stream",
     "text": [
      "C:\\Users\\zmorrato\\AppData\\Local\\Temp\\ipykernel_26412\\3563713887.py:21: DeprecationWarning: The 'text' argument to find()-type methods is deprecated. Use 'string' instead.\n",
      "  alma_mater_row = soup.find('th', text=lambda x: x and \"Alma\" in x)\n"
     ]
    },
    {
     "name": "stdout",
     "output_type": "stream",
     "text": [
      "[ DEBUG ] - Progress: 13.339920948616601%\n"
     ]
    },
    {
     "name": "stderr",
     "output_type": "stream",
     "text": [
      "C:\\Users\\zmorrato\\AppData\\Local\\Temp\\ipykernel_26412\\3563713887.py:21: DeprecationWarning: The 'text' argument to find()-type methods is deprecated. Use 'string' instead.\n",
      "  alma_mater_row = soup.find('th', text=lambda x: x and \"Alma\" in x)\n"
     ]
    },
    {
     "name": "stdout",
     "output_type": "stream",
     "text": [
      "[ DEBUG ] - Progress: 13.438735177865613%\n"
     ]
    },
    {
     "name": "stderr",
     "output_type": "stream",
     "text": [
      "C:\\Users\\zmorrato\\AppData\\Local\\Temp\\ipykernel_26412\\3563713887.py:21: DeprecationWarning: The 'text' argument to find()-type methods is deprecated. Use 'string' instead.\n",
      "  alma_mater_row = soup.find('th', text=lambda x: x and \"Alma\" in x)\n"
     ]
    },
    {
     "name": "stdout",
     "output_type": "stream",
     "text": [
      "[ DEBUG ] - Progress: 13.537549407114625%\n"
     ]
    },
    {
     "name": "stderr",
     "output_type": "stream",
     "text": [
      "C:\\Users\\zmorrato\\AppData\\Local\\Temp\\ipykernel_26412\\3563713887.py:21: DeprecationWarning: The 'text' argument to find()-type methods is deprecated. Use 'string' instead.\n",
      "  alma_mater_row = soup.find('th', text=lambda x: x and \"Alma\" in x)\n"
     ]
    },
    {
     "name": "stdout",
     "output_type": "stream",
     "text": [
      "[ DEBUG ] - Progress: 13.636363636363635%\n"
     ]
    },
    {
     "name": "stderr",
     "output_type": "stream",
     "text": [
      "C:\\Users\\zmorrato\\AppData\\Local\\Temp\\ipykernel_26412\\3563713887.py:21: DeprecationWarning: The 'text' argument to find()-type methods is deprecated. Use 'string' instead.\n",
      "  alma_mater_row = soup.find('th', text=lambda x: x and \"Alma\" in x)\n"
     ]
    },
    {
     "name": "stdout",
     "output_type": "stream",
     "text": [
      "[ DEBUG ] - Alma mater row not found for /wiki/Ferdinand_Buisson\n",
      "[ DEBUG ] - Progress: 13.73517786561265%\n"
     ]
    },
    {
     "name": "stderr",
     "output_type": "stream",
     "text": [
      "C:\\Users\\zmorrato\\AppData\\Local\\Temp\\ipykernel_26412\\3563713887.py:21: DeprecationWarning: The 'text' argument to find()-type methods is deprecated. Use 'string' instead.\n",
      "  alma_mater_row = soup.find('th', text=lambda x: x and \"Alma\" in x)\n"
     ]
    },
    {
     "name": "stdout",
     "output_type": "stream",
     "text": [
      "[ DEBUG ] - Alma mater row not found for /wiki/Ludwig_Quidde\n",
      "[ DEBUG ] - Progress: 13.83399209486166%\n"
     ]
    },
    {
     "name": "stderr",
     "output_type": "stream",
     "text": [
      "C:\\Users\\zmorrato\\AppData\\Local\\Temp\\ipykernel_26412\\3563713887.py:21: DeprecationWarning: The 'text' argument to find()-type methods is deprecated. Use 'string' instead.\n",
      "  alma_mater_row = soup.find('th', text=lambda x: x and \"Alma\" in x)\n"
     ]
    },
    {
     "name": "stdout",
     "output_type": "stream",
     "text": [
      "[ DEBUG ] - Progress: 13.932806324110672%\n"
     ]
    },
    {
     "name": "stderr",
     "output_type": "stream",
     "text": [
      "C:\\Users\\zmorrato\\AppData\\Local\\Temp\\ipykernel_26412\\3563713887.py:21: DeprecationWarning: The 'text' argument to find()-type methods is deprecated. Use 'string' instead.\n",
      "  alma_mater_row = soup.find('th', text=lambda x: x and \"Alma\" in x)\n"
     ]
    },
    {
     "name": "stdout",
     "output_type": "stream",
     "text": [
      "[ DEBUG ] - Alma mater row not found for /wiki/Adolf_Windaus\n",
      "[ DEBUG ] - Progress: 14.031620553359684%\n"
     ]
    },
    {
     "name": "stderr",
     "output_type": "stream",
     "text": [
      "C:\\Users\\zmorrato\\AppData\\Local\\Temp\\ipykernel_26412\\3563713887.py:21: DeprecationWarning: The 'text' argument to find()-type methods is deprecated. Use 'string' instead.\n",
      "  alma_mater_row = soup.find('th', text=lambda x: x and \"Alma\" in x)\n"
     ]
    },
    {
     "name": "stdout",
     "output_type": "stream",
     "text": [
      "[ DEBUG ] - Progress: 14.130434782608695%\n"
     ]
    },
    {
     "name": "stderr",
     "output_type": "stream",
     "text": [
      "C:\\Users\\zmorrato\\AppData\\Local\\Temp\\ipykernel_26412\\3563713887.py:21: DeprecationWarning: The 'text' argument to find()-type methods is deprecated. Use 'string' instead.\n",
      "  alma_mater_row = soup.find('th', text=lambda x: x and \"Alma\" in x)\n"
     ]
    },
    {
     "name": "stdout",
     "output_type": "stream",
     "text": [
      "[ DEBUG ] - Alma mater row not found for /wiki/Sigrid_Undset\n",
      "[ DEBUG ] - Progress: 14.229249011857709%\n"
     ]
    },
    {
     "name": "stderr",
     "output_type": "stream",
     "text": [
      "C:\\Users\\zmorrato\\AppData\\Local\\Temp\\ipykernel_26412\\3563713887.py:21: DeprecationWarning: The 'text' argument to find()-type methods is deprecated. Use 'string' instead.\n",
      "  alma_mater_row = soup.find('th', text=lambda x: x and \"Alma\" in x)\n"
     ]
    },
    {
     "name": "stdout",
     "output_type": "stream",
     "text": [
      "[ DEBUG ] - Progress: 14.32806324110672%\n"
     ]
    },
    {
     "name": "stderr",
     "output_type": "stream",
     "text": [
      "C:\\Users\\zmorrato\\AppData\\Local\\Temp\\ipykernel_26412\\3563713887.py:21: DeprecationWarning: The 'text' argument to find()-type methods is deprecated. Use 'string' instead.\n",
      "  alma_mater_row = soup.find('th', text=lambda x: x and \"Alma\" in x)\n"
     ]
    },
    {
     "name": "stdout",
     "output_type": "stream",
     "text": [
      "[ DEBUG ] - Progress: 14.42687747035573%\n"
     ]
    },
    {
     "name": "stderr",
     "output_type": "stream",
     "text": [
      "C:\\Users\\zmorrato\\AppData\\Local\\Temp\\ipykernel_26412\\3563713887.py:21: DeprecationWarning: The 'text' argument to find()-type methods is deprecated. Use 'string' instead.\n",
      "  alma_mater_row = soup.find('th', text=lambda x: x and \"Alma\" in x)\n"
     ]
    },
    {
     "name": "stdout",
     "output_type": "stream",
     "text": [
      "[ DEBUG ] - Progress: 14.525691699604742%\n"
     ]
    },
    {
     "name": "stderr",
     "output_type": "stream",
     "text": [
      "C:\\Users\\zmorrato\\AppData\\Local\\Temp\\ipykernel_26412\\3563713887.py:21: DeprecationWarning: The 'text' argument to find()-type methods is deprecated. Use 'string' instead.\n",
      "  alma_mater_row = soup.find('th', text=lambda x: x and \"Alma\" in x)\n"
     ]
    },
    {
     "name": "stdout",
     "output_type": "stream",
     "text": [
      "[ DEBUG ] - Alma mater row not found for /wiki/Christiaan_Eijkman\n",
      "[ DEBUG ] - Progress: 14.624505928853754%\n"
     ]
    },
    {
     "name": "stderr",
     "output_type": "stream",
     "text": [
      "C:\\Users\\zmorrato\\AppData\\Local\\Temp\\ipykernel_26412\\3563713887.py:21: DeprecationWarning: The 'text' argument to find()-type methods is deprecated. Use 'string' instead.\n",
      "  alma_mater_row = soup.find('th', text=lambda x: x and \"Alma\" in x)\n"
     ]
    },
    {
     "name": "stdout",
     "output_type": "stream",
     "text": [
      "[ DEBUG ] - Progress: 14.723320158102768%\n"
     ]
    },
    {
     "name": "stderr",
     "output_type": "stream",
     "text": [
      "C:\\Users\\zmorrato\\AppData\\Local\\Temp\\ipykernel_26412\\3563713887.py:21: DeprecationWarning: The 'text' argument to find()-type methods is deprecated. Use 'string' instead.\n",
      "  alma_mater_row = soup.find('th', text=lambda x: x and \"Alma\" in x)\n"
     ]
    },
    {
     "name": "stdout",
     "output_type": "stream",
     "text": [
      "[ DEBUG ] - Progress: 14.82213438735178%\n"
     ]
    },
    {
     "name": "stderr",
     "output_type": "stream",
     "text": [
      "C:\\Users\\zmorrato\\AppData\\Local\\Temp\\ipykernel_26412\\3563713887.py:21: DeprecationWarning: The 'text' argument to find()-type methods is deprecated. Use 'string' instead.\n",
      "  alma_mater_row = soup.find('th', text=lambda x: x and \"Alma\" in x)\n"
     ]
    },
    {
     "name": "stdout",
     "output_type": "stream",
     "text": [
      "[ DEBUG ] - Alma mater row not found for /wiki/Frank_B._Kellogg\n",
      "[ DEBUG ] - Progress: 14.920948616600791%\n"
     ]
    },
    {
     "name": "stderr",
     "output_type": "stream",
     "text": [
      "C:\\Users\\zmorrato\\AppData\\Local\\Temp\\ipykernel_26412\\3563713887.py:21: DeprecationWarning: The 'text' argument to find()-type methods is deprecated. Use 'string' instead.\n",
      "  alma_mater_row = soup.find('th', text=lambda x: x and \"Alma\" in x)\n"
     ]
    },
    {
     "name": "stdout",
     "output_type": "stream",
     "text": [
      "[ DEBUG ] - Progress: 15.019762845849801%\n"
     ]
    },
    {
     "name": "stderr",
     "output_type": "stream",
     "text": [
      "C:\\Users\\zmorrato\\AppData\\Local\\Temp\\ipykernel_26412\\3563713887.py:21: DeprecationWarning: The 'text' argument to find()-type methods is deprecated. Use 'string' instead.\n",
      "  alma_mater_row = soup.find('th', text=lambda x: x and \"Alma\" in x)\n"
     ]
    },
    {
     "name": "stdout",
     "output_type": "stream",
     "text": [
      "[ DEBUG ] - Progress: 15.118577075098813%\n"
     ]
    },
    {
     "name": "stderr",
     "output_type": "stream",
     "text": [
      "C:\\Users\\zmorrato\\AppData\\Local\\Temp\\ipykernel_26412\\3563713887.py:21: DeprecationWarning: The 'text' argument to find()-type methods is deprecated. Use 'string' instead.\n",
      "  alma_mater_row = soup.find('th', text=lambda x: x and \"Alma\" in x)\n"
     ]
    },
    {
     "name": "stdout",
     "output_type": "stream",
     "text": [
      "[ DEBUG ] - Progress: 15.217391304347828%\n"
     ]
    },
    {
     "name": "stderr",
     "output_type": "stream",
     "text": [
      "C:\\Users\\zmorrato\\AppData\\Local\\Temp\\ipykernel_26412\\3563713887.py:21: DeprecationWarning: The 'text' argument to find()-type methods is deprecated. Use 'string' instead.\n",
      "  alma_mater_row = soup.find('th', text=lambda x: x and \"Alma\" in x)\n"
     ]
    },
    {
     "name": "stdout",
     "output_type": "stream",
     "text": [
      "[ DEBUG ] - Alma mater row not found for /wiki/Sinclair_Lewis\n",
      "[ DEBUG ] - Progress: 15.316205533596838%\n"
     ]
    },
    {
     "name": "stderr",
     "output_type": "stream",
     "text": [
      "C:\\Users\\zmorrato\\AppData\\Local\\Temp\\ipykernel_26412\\3563713887.py:21: DeprecationWarning: The 'text' argument to find()-type methods is deprecated. Use 'string' instead.\n",
      "  alma_mater_row = soup.find('th', text=lambda x: x and \"Alma\" in x)\n"
     ]
    },
    {
     "name": "stdout",
     "output_type": "stream",
     "text": [
      "[ DEBUG ] - Progress: 15.41501976284585%\n"
     ]
    },
    {
     "name": "stderr",
     "output_type": "stream",
     "text": [
      "C:\\Users\\zmorrato\\AppData\\Local\\Temp\\ipykernel_26412\\3563713887.py:21: DeprecationWarning: The 'text' argument to find()-type methods is deprecated. Use 'string' instead.\n",
      "  alma_mater_row = soup.find('th', text=lambda x: x and \"Alma\" in x)\n"
     ]
    },
    {
     "name": "stdout",
     "output_type": "stream",
     "text": [
      "[ DEBUG ] - Alma mater row not found for /wiki/Carl_Bosch\n",
      "[ DEBUG ] - Progress: 15.513833992094861%\n"
     ]
    },
    {
     "name": "stderr",
     "output_type": "stream",
     "text": [
      "C:\\Users\\zmorrato\\AppData\\Local\\Temp\\ipykernel_26412\\3563713887.py:21: DeprecationWarning: The 'text' argument to find()-type methods is deprecated. Use 'string' instead.\n",
      "  alma_mater_row = soup.find('th', text=lambda x: x and \"Alma\" in x)\n"
     ]
    },
    {
     "name": "stdout",
     "output_type": "stream",
     "text": [
      "[ DEBUG ] - Progress: 15.612648221343871%\n"
     ]
    },
    {
     "name": "stderr",
     "output_type": "stream",
     "text": [
      "C:\\Users\\zmorrato\\AppData\\Local\\Temp\\ipykernel_26412\\3563713887.py:21: DeprecationWarning: The 'text' argument to find()-type methods is deprecated. Use 'string' instead.\n",
      "  alma_mater_row = soup.find('th', text=lambda x: x and \"Alma\" in x)\n"
     ]
    },
    {
     "name": "stdout",
     "output_type": "stream",
     "text": [
      "[ DEBUG ] - Progress: 15.711462450592887%\n"
     ]
    },
    {
     "name": "stderr",
     "output_type": "stream",
     "text": [
      "C:\\Users\\zmorrato\\AppData\\Local\\Temp\\ipykernel_26412\\3563713887.py:21: DeprecationWarning: The 'text' argument to find()-type methods is deprecated. Use 'string' instead.\n",
      "  alma_mater_row = soup.find('th', text=lambda x: x and \"Alma\" in x)\n"
     ]
    },
    {
     "name": "stdout",
     "output_type": "stream",
     "text": [
      "[ DEBUG ] - Alma mater row not found for /wiki/Erik_Axel_Karlfeldt\n",
      "[ DEBUG ] - Progress: 15.810276679841898%\n"
     ]
    },
    {
     "name": "stderr",
     "output_type": "stream",
     "text": [
      "C:\\Users\\zmorrato\\AppData\\Local\\Temp\\ipykernel_26412\\3563713887.py:21: DeprecationWarning: The 'text' argument to find()-type methods is deprecated. Use 'string' instead.\n",
      "  alma_mater_row = soup.find('th', text=lambda x: x and \"Alma\" in x)\n"
     ]
    },
    {
     "name": "stdout",
     "output_type": "stream",
     "text": [
      "[ DEBUG ] - Alma mater row not found for /wiki/Jane_Addams\n",
      "[ DEBUG ] - Progress: 15.909090909090908%\n"
     ]
    },
    {
     "name": "stderr",
     "output_type": "stream",
     "text": [
      "C:\\Users\\zmorrato\\AppData\\Local\\Temp\\ipykernel_26412\\3563713887.py:21: DeprecationWarning: The 'text' argument to find()-type methods is deprecated. Use 'string' instead.\n",
      "  alma_mater_row = soup.find('th', text=lambda x: x and \"Alma\" in x)\n"
     ]
    },
    {
     "name": "stdout",
     "output_type": "stream",
     "text": [
      "[ DEBUG ] - Alma mater row not found for /wiki/Nicholas_Murray_Butler\n",
      "[ DEBUG ] - Progress: 16.007905138339922%\n"
     ]
    },
    {
     "name": "stderr",
     "output_type": "stream",
     "text": [
      "C:\\Users\\zmorrato\\AppData\\Local\\Temp\\ipykernel_26412\\3563713887.py:21: DeprecationWarning: The 'text' argument to find()-type methods is deprecated. Use 'string' instead.\n",
      "  alma_mater_row = soup.find('th', text=lambda x: x and \"Alma\" in x)\n"
     ]
    },
    {
     "name": "stdout",
     "output_type": "stream",
     "text": [
      "[ DEBUG ] - Progress: 16.106719367588934%\n"
     ]
    },
    {
     "name": "stderr",
     "output_type": "stream",
     "text": [
      "C:\\Users\\zmorrato\\AppData\\Local\\Temp\\ipykernel_26412\\3563713887.py:21: DeprecationWarning: The 'text' argument to find()-type methods is deprecated. Use 'string' instead.\n",
      "  alma_mater_row = soup.find('th', text=lambda x: x and \"Alma\" in x)\n"
     ]
    },
    {
     "name": "stdout",
     "output_type": "stream",
     "text": [
      "[ DEBUG ] - Progress: 16.205533596837945%\n"
     ]
    },
    {
     "name": "stderr",
     "output_type": "stream",
     "text": [
      "C:\\Users\\zmorrato\\AppData\\Local\\Temp\\ipykernel_26412\\3563713887.py:21: DeprecationWarning: The 'text' argument to find()-type methods is deprecated. Use 'string' instead.\n",
      "  alma_mater_row = soup.find('th', text=lambda x: x and \"Alma\" in x)\n"
     ]
    },
    {
     "name": "stdout",
     "output_type": "stream",
     "text": [
      "[ DEBUG ] - Progress: 16.304347826086957%\n"
     ]
    },
    {
     "name": "stderr",
     "output_type": "stream",
     "text": [
      "C:\\Users\\zmorrato\\AppData\\Local\\Temp\\ipykernel_26412\\3563713887.py:21: DeprecationWarning: The 'text' argument to find()-type methods is deprecated. Use 'string' instead.\n",
      "  alma_mater_row = soup.find('th', text=lambda x: x and \"Alma\" in x)\n"
     ]
    },
    {
     "name": "stdout",
     "output_type": "stream",
     "text": [
      "[ DEBUG ] - Progress: 16.40316205533597%\n"
     ]
    },
    {
     "name": "stderr",
     "output_type": "stream",
     "text": [
      "C:\\Users\\zmorrato\\AppData\\Local\\Temp\\ipykernel_26412\\3563713887.py:21: DeprecationWarning: The 'text' argument to find()-type methods is deprecated. Use 'string' instead.\n",
      "  alma_mater_row = soup.find('th', text=lambda x: x and \"Alma\" in x)\n"
     ]
    },
    {
     "name": "stdout",
     "output_type": "stream",
     "text": [
      "[ DEBUG ] - Alma mater row not found for /wiki/John_Galsworthy\n",
      "[ DEBUG ] - Progress: 16.50197628458498%\n"
     ]
    },
    {
     "name": "stderr",
     "output_type": "stream",
     "text": [
      "C:\\Users\\zmorrato\\AppData\\Local\\Temp\\ipykernel_26412\\3563713887.py:21: DeprecationWarning: The 'text' argument to find()-type methods is deprecated. Use 'string' instead.\n",
      "  alma_mater_row = soup.find('th', text=lambda x: x and \"Alma\" in x)\n"
     ]
    },
    {
     "name": "stdout",
     "output_type": "stream",
     "text": [
      "[ DEBUG ] - Progress: 16.600790513833992%\n"
     ]
    },
    {
     "name": "stderr",
     "output_type": "stream",
     "text": [
      "C:\\Users\\zmorrato\\AppData\\Local\\Temp\\ipykernel_26412\\3563713887.py:21: DeprecationWarning: The 'text' argument to find()-type methods is deprecated. Use 'string' instead.\n",
      "  alma_mater_row = soup.find('th', text=lambda x: x and \"Alma\" in x)\n"
     ]
    },
    {
     "name": "stdout",
     "output_type": "stream",
     "text": [
      "[ DEBUG ] - Progress: 16.699604743083004%\n"
     ]
    },
    {
     "name": "stderr",
     "output_type": "stream",
     "text": [
      "C:\\Users\\zmorrato\\AppData\\Local\\Temp\\ipykernel_26412\\3563713887.py:21: DeprecationWarning: The 'text' argument to find()-type methods is deprecated. Use 'string' instead.\n",
      "  alma_mater_row = soup.find('th', text=lambda x: x and \"Alma\" in x)\n"
     ]
    },
    {
     "name": "stdout",
     "output_type": "stream",
     "text": [
      "[ DEBUG ] - Progress: 16.798418972332016%\n"
     ]
    },
    {
     "name": "stderr",
     "output_type": "stream",
     "text": [
      "C:\\Users\\zmorrato\\AppData\\Local\\Temp\\ipykernel_26412\\3563713887.py:21: DeprecationWarning: The 'text' argument to find()-type methods is deprecated. Use 'string' instead.\n",
      "  alma_mater_row = soup.find('th', text=lambda x: x and \"Alma\" in x)\n"
     ]
    },
    {
     "name": "stdout",
     "output_type": "stream",
     "text": [
      "[ DEBUG ] - Alma mater row not found for /wiki/Ivan_Bunin\n",
      "[ DEBUG ] - Progress: 16.897233201581027%\n"
     ]
    },
    {
     "name": "stderr",
     "output_type": "stream",
     "text": [
      "C:\\Users\\zmorrato\\AppData\\Local\\Temp\\ipykernel_26412\\3563713887.py:21: DeprecationWarning: The 'text' argument to find()-type methods is deprecated. Use 'string' instead.\n",
      "  alma_mater_row = soup.find('th', text=lambda x: x and \"Alma\" in x)\n"
     ]
    },
    {
     "name": "stdout",
     "output_type": "stream",
     "text": [
      "[ DEBUG ] - Alma mater row not found for /wiki/Norman_Angell\n",
      "[ DEBUG ] - Progress: 16.99604743083004%\n"
     ]
    },
    {
     "name": "stderr",
     "output_type": "stream",
     "text": [
      "C:\\Users\\zmorrato\\AppData\\Local\\Temp\\ipykernel_26412\\3563713887.py:21: DeprecationWarning: The 'text' argument to find()-type methods is deprecated. Use 'string' instead.\n",
      "  alma_mater_row = soup.find('th', text=lambda x: x and \"Alma\" in x)\n"
     ]
    },
    {
     "name": "stdout",
     "output_type": "stream",
     "text": [
      "[ DEBUG ] - Progress: 17.094861660079054%\n"
     ]
    },
    {
     "name": "stderr",
     "output_type": "stream",
     "text": [
      "C:\\Users\\zmorrato\\AppData\\Local\\Temp\\ipykernel_26412\\3563713887.py:21: DeprecationWarning: The 'text' argument to find()-type methods is deprecated. Use 'string' instead.\n",
      "  alma_mater_row = soup.find('th', text=lambda x: x and \"Alma\" in x)\n"
     ]
    },
    {
     "name": "stdout",
     "output_type": "stream",
     "text": [
      "[ DEBUG ] - Progress: 17.193675889328063%\n"
     ]
    },
    {
     "name": "stderr",
     "output_type": "stream",
     "text": [
      "C:\\Users\\zmorrato\\AppData\\Local\\Temp\\ipykernel_26412\\3563713887.py:21: DeprecationWarning: The 'text' argument to find()-type methods is deprecated. Use 'string' instead.\n",
      "  alma_mater_row = soup.find('th', text=lambda x: x and \"Alma\" in x)\n"
     ]
    },
    {
     "name": "stdout",
     "output_type": "stream",
     "text": [
      "[ DEBUG ] - Progress: 17.292490118577074%\n"
     ]
    },
    {
     "name": "stderr",
     "output_type": "stream",
     "text": [
      "C:\\Users\\zmorrato\\AppData\\Local\\Temp\\ipykernel_26412\\3563713887.py:21: DeprecationWarning: The 'text' argument to find()-type methods is deprecated. Use 'string' instead.\n",
      "  alma_mater_row = soup.find('th', text=lambda x: x and \"Alma\" in x)\n"
     ]
    },
    {
     "name": "stdout",
     "output_type": "stream",
     "text": [
      "[ DEBUG ] - Alma mater row not found for /wiki/William_P._Murphy\n",
      "[ DEBUG ] - Progress: 17.391304347826086%\n"
     ]
    },
    {
     "name": "stderr",
     "output_type": "stream",
     "text": [
      "C:\\Users\\zmorrato\\AppData\\Local\\Temp\\ipykernel_26412\\3563713887.py:21: DeprecationWarning: The 'text' argument to find()-type methods is deprecated. Use 'string' instead.\n",
      "  alma_mater_row = soup.find('th', text=lambda x: x and \"Alma\" in x)\n"
     ]
    },
    {
     "name": "stdout",
     "output_type": "stream",
     "text": [
      "[ DEBUG ] - Progress: 17.490118577075098%\n"
     ]
    },
    {
     "name": "stderr",
     "output_type": "stream",
     "text": [
      "C:\\Users\\zmorrato\\AppData\\Local\\Temp\\ipykernel_26412\\3563713887.py:21: DeprecationWarning: The 'text' argument to find()-type methods is deprecated. Use 'string' instead.\n",
      "  alma_mater_row = soup.find('th', text=lambda x: x and \"Alma\" in x)\n"
     ]
    },
    {
     "name": "stdout",
     "output_type": "stream",
     "text": [
      "[ DEBUG ] - Alma mater row not found for /wiki/Arthur_Henderson\n",
      "[ DEBUG ] - Progress: 17.588932806324113%\n"
     ]
    },
    {
     "name": "stderr",
     "output_type": "stream",
     "text": [
      "C:\\Users\\zmorrato\\AppData\\Local\\Temp\\ipykernel_26412\\3563713887.py:21: DeprecationWarning: The 'text' argument to find()-type methods is deprecated. Use 'string' instead.\n",
      "  alma_mater_row = soup.find('th', text=lambda x: x and \"Alma\" in x)\n"
     ]
    },
    {
     "name": "stdout",
     "output_type": "stream",
     "text": [
      "[ DEBUG ] - Alma mater row not found for /wiki/James_Chadwick\n",
      "[ DEBUG ] - Progress: 17.687747035573125%\n"
     ]
    },
    {
     "name": "stderr",
     "output_type": "stream",
     "text": [
      "C:\\Users\\zmorrato\\AppData\\Local\\Temp\\ipykernel_26412\\3563713887.py:21: DeprecationWarning: The 'text' argument to find()-type methods is deprecated. Use 'string' instead.\n",
      "  alma_mater_row = soup.find('th', text=lambda x: x and \"Alma\" in x)\n"
     ]
    },
    {
     "name": "stdout",
     "output_type": "stream",
     "text": [
      "[ DEBUG ] - Progress: 17.786561264822133%\n"
     ]
    },
    {
     "name": "stderr",
     "output_type": "stream",
     "text": [
      "C:\\Users\\zmorrato\\AppData\\Local\\Temp\\ipykernel_26412\\3563713887.py:21: DeprecationWarning: The 'text' argument to find()-type methods is deprecated. Use 'string' instead.\n",
      "  alma_mater_row = soup.find('th', text=lambda x: x and \"Alma\" in x)\n"
     ]
    },
    {
     "name": "stdout",
     "output_type": "stream",
     "text": [
      "[ DEBUG ] - Progress: 17.885375494071145%\n"
     ]
    },
    {
     "name": "stderr",
     "output_type": "stream",
     "text": [
      "C:\\Users\\zmorrato\\AppData\\Local\\Temp\\ipykernel_26412\\3563713887.py:21: DeprecationWarning: The 'text' argument to find()-type methods is deprecated. Use 'string' instead.\n",
      "  alma_mater_row = soup.find('th', text=lambda x: x and \"Alma\" in x)\n"
     ]
    },
    {
     "name": "stdout",
     "output_type": "stream",
     "text": [
      "[ DEBUG ] - Alma mater row not found for /wiki/Hans_Spemann\n",
      "[ DEBUG ] - Progress: 17.984189723320156%\n"
     ]
    },
    {
     "name": "stderr",
     "output_type": "stream",
     "text": [
      "C:\\Users\\zmorrato\\AppData\\Local\\Temp\\ipykernel_26412\\3563713887.py:21: DeprecationWarning: The 'text' argument to find()-type methods is deprecated. Use 'string' instead.\n",
      "  alma_mater_row = soup.find('th', text=lambda x: x and \"Alma\" in x)\n"
     ]
    },
    {
     "name": "stdout",
     "output_type": "stream",
     "text": [
      "[ DEBUG ] - Alma mater row not found for /wiki/Carl_von_Ossietzky\n",
      "[ DEBUG ] - Progress: 18.08300395256917%\n"
     ]
    },
    {
     "name": "stderr",
     "output_type": "stream",
     "text": [
      "C:\\Users\\zmorrato\\AppData\\Local\\Temp\\ipykernel_26412\\3563713887.py:21: DeprecationWarning: The 'text' argument to find()-type methods is deprecated. Use 'string' instead.\n",
      "  alma_mater_row = soup.find('th', text=lambda x: x and \"Alma\" in x)\n"
     ]
    },
    {
     "name": "stdout",
     "output_type": "stream",
     "text": [
      "[ DEBUG ] - Progress: 18.181818181818183%\n"
     ]
    },
    {
     "name": "stderr",
     "output_type": "stream",
     "text": [
      "C:\\Users\\zmorrato\\AppData\\Local\\Temp\\ipykernel_26412\\3563713887.py:21: DeprecationWarning: The 'text' argument to find()-type methods is deprecated. Use 'string' instead.\n",
      "  alma_mater_row = soup.find('th', text=lambda x: x and \"Alma\" in x)\n"
     ]
    },
    {
     "name": "stdout",
     "output_type": "stream",
     "text": [
      "[ DEBUG ] - Progress: 18.280632411067195%\n"
     ]
    },
    {
     "name": "stderr",
     "output_type": "stream",
     "text": [
      "C:\\Users\\zmorrato\\AppData\\Local\\Temp\\ipykernel_26412\\3563713887.py:21: DeprecationWarning: The 'text' argument to find()-type methods is deprecated. Use 'string' instead.\n",
      "  alma_mater_row = soup.find('th', text=lambda x: x and \"Alma\" in x)\n"
     ]
    },
    {
     "name": "stdout",
     "output_type": "stream",
     "text": [
      "[ DEBUG ] - Progress: 18.379446640316203%\n"
     ]
    },
    {
     "name": "stderr",
     "output_type": "stream",
     "text": [
      "C:\\Users\\zmorrato\\AppData\\Local\\Temp\\ipykernel_26412\\3563713887.py:21: DeprecationWarning: The 'text' argument to find()-type methods is deprecated. Use 'string' instead.\n",
      "  alma_mater_row = soup.find('th', text=lambda x: x and \"Alma\" in x)\n"
     ]
    },
    {
     "name": "stdout",
     "output_type": "stream",
     "text": [
      "[ DEBUG ] - Progress: 18.478260869565215%\n"
     ]
    },
    {
     "name": "stderr",
     "output_type": "stream",
     "text": [
      "C:\\Users\\zmorrato\\AppData\\Local\\Temp\\ipykernel_26412\\3563713887.py:21: DeprecationWarning: The 'text' argument to find()-type methods is deprecated. Use 'string' instead.\n",
      "  alma_mater_row = soup.find('th', text=lambda x: x and \"Alma\" in x)\n"
     ]
    },
    {
     "name": "stdout",
     "output_type": "stream",
     "text": [
      "[ DEBUG ] - Progress: 18.57707509881423%\n"
     ]
    },
    {
     "name": "stderr",
     "output_type": "stream",
     "text": [
      "C:\\Users\\zmorrato\\AppData\\Local\\Temp\\ipykernel_26412\\3563713887.py:21: DeprecationWarning: The 'text' argument to find()-type methods is deprecated. Use 'string' instead.\n",
      "  alma_mater_row = soup.find('th', text=lambda x: x and \"Alma\" in x)\n"
     ]
    },
    {
     "name": "stdout",
     "output_type": "stream",
     "text": [
      "[ DEBUG ] - Alma mater row not found for /wiki/Eugene_O%27Neill\n",
      "[ DEBUG ] - Progress: 18.675889328063242%\n"
     ]
    },
    {
     "name": "stderr",
     "output_type": "stream",
     "text": [
      "C:\\Users\\zmorrato\\AppData\\Local\\Temp\\ipykernel_26412\\3563713887.py:21: DeprecationWarning: The 'text' argument to find()-type methods is deprecated. Use 'string' instead.\n",
      "  alma_mater_row = soup.find('th', text=lambda x: x and \"Alma\" in x)\n"
     ]
    },
    {
     "name": "stdout",
     "output_type": "stream",
     "text": [
      "[ DEBUG ] - Alma mater row not found for /wiki/Carlos_Saavedra_Lamas\n",
      "[ DEBUG ] - Progress: 18.774703557312254%\n"
     ]
    },
    {
     "name": "stderr",
     "output_type": "stream",
     "text": [
      "C:\\Users\\zmorrato\\AppData\\Local\\Temp\\ipykernel_26412\\3563713887.py:21: DeprecationWarning: The 'text' argument to find()-type methods is deprecated. Use 'string' instead.\n",
      "  alma_mater_row = soup.find('th', text=lambda x: x and \"Alma\" in x)\n"
     ]
    },
    {
     "name": "stdout",
     "output_type": "stream",
     "text": [
      "[ DEBUG ] - Progress: 18.873517786561266%\n"
     ]
    },
    {
     "name": "stderr",
     "output_type": "stream",
     "text": [
      "C:\\Users\\zmorrato\\AppData\\Local\\Temp\\ipykernel_26412\\3563713887.py:21: DeprecationWarning: The 'text' argument to find()-type methods is deprecated. Use 'string' instead.\n",
      "  alma_mater_row = soup.find('th', text=lambda x: x and \"Alma\" in x)\n"
     ]
    },
    {
     "name": "stdout",
     "output_type": "stream",
     "text": [
      "[ DEBUG ] - Progress: 18.972332015810274%\n"
     ]
    },
    {
     "name": "stderr",
     "output_type": "stream",
     "text": [
      "C:\\Users\\zmorrato\\AppData\\Local\\Temp\\ipykernel_26412\\3563713887.py:21: DeprecationWarning: The 'text' argument to find()-type methods is deprecated. Use 'string' instead.\n",
      "  alma_mater_row = soup.find('th', text=lambda x: x and \"Alma\" in x)\n"
     ]
    },
    {
     "name": "stdout",
     "output_type": "stream",
     "text": [
      "[ DEBUG ] - Progress: 19.07114624505929%\n"
     ]
    },
    {
     "name": "stderr",
     "output_type": "stream",
     "text": [
      "C:\\Users\\zmorrato\\AppData\\Local\\Temp\\ipykernel_26412\\3563713887.py:21: DeprecationWarning: The 'text' argument to find()-type methods is deprecated. Use 'string' instead.\n",
      "  alma_mater_row = soup.find('th', text=lambda x: x and \"Alma\" in x)\n"
     ]
    },
    {
     "name": "stdout",
     "output_type": "stream",
     "text": [
      "[ DEBUG ] - Progress: 19.1699604743083%\n"
     ]
    },
    {
     "name": "stderr",
     "output_type": "stream",
     "text": [
      "C:\\Users\\zmorrato\\AppData\\Local\\Temp\\ipykernel_26412\\3563713887.py:21: DeprecationWarning: The 'text' argument to find()-type methods is deprecated. Use 'string' instead.\n",
      "  alma_mater_row = soup.find('th', text=lambda x: x and \"Alma\" in x)\n"
     ]
    },
    {
     "name": "stdout",
     "output_type": "stream",
     "text": [
      "[ DEBUG ] - Progress: 19.268774703557312%\n"
     ]
    },
    {
     "name": "stderr",
     "output_type": "stream",
     "text": [
      "C:\\Users\\zmorrato\\AppData\\Local\\Temp\\ipykernel_26412\\3563713887.py:21: DeprecationWarning: The 'text' argument to find()-type methods is deprecated. Use 'string' instead.\n",
      "  alma_mater_row = soup.find('th', text=lambda x: x and \"Alma\" in x)\n"
     ]
    },
    {
     "name": "stdout",
     "output_type": "stream",
     "text": [
      "[ DEBUG ] - Alma mater row not found for /wiki/Roger_Martin_du_Gard\n",
      "[ DEBUG ] - Progress: 19.367588932806324%\n"
     ]
    },
    {
     "name": "stderr",
     "output_type": "stream",
     "text": [
      "C:\\Users\\zmorrato\\AppData\\Local\\Temp\\ipykernel_26412\\3563713887.py:21: DeprecationWarning: The 'text' argument to find()-type methods is deprecated. Use 'string' instead.\n",
      "  alma_mater_row = soup.find('th', text=lambda x: x and \"Alma\" in x)\n"
     ]
    },
    {
     "name": "stdout",
     "output_type": "stream",
     "text": [
      "[ DEBUG ] - Alma mater row not found for /wiki/Robert_Cecil,_1st_Viscount_Cecil_of_Chelwood\n",
      "[ DEBUG ] - Progress: 19.466403162055336%\n"
     ]
    },
    {
     "name": "stderr",
     "output_type": "stream",
     "text": [
      "C:\\Users\\zmorrato\\AppData\\Local\\Temp\\ipykernel_26412\\3563713887.py:21: DeprecationWarning: The 'text' argument to find()-type methods is deprecated. Use 'string' instead.\n",
      "  alma_mater_row = soup.find('th', text=lambda x: x and \"Alma\" in x)\n"
     ]
    },
    {
     "name": "stdout",
     "output_type": "stream",
     "text": [
      "[ DEBUG ] - Progress: 19.565217391304348%\n"
     ]
    },
    {
     "name": "stderr",
     "output_type": "stream",
     "text": [
      "C:\\Users\\zmorrato\\AppData\\Local\\Temp\\ipykernel_26412\\3563713887.py:21: DeprecationWarning: The 'text' argument to find()-type methods is deprecated. Use 'string' instead.\n",
      "  alma_mater_row = soup.find('th', text=lambda x: x and \"Alma\" in x)\n"
     ]
    },
    {
     "name": "stdout",
     "output_type": "stream",
     "text": [
      "[ DEBUG ] - Progress: 19.66403162055336%\n"
     ]
    },
    {
     "name": "stderr",
     "output_type": "stream",
     "text": [
      "C:\\Users\\zmorrato\\AppData\\Local\\Temp\\ipykernel_26412\\3563713887.py:21: DeprecationWarning: The 'text' argument to find()-type methods is deprecated. Use 'string' instead.\n",
      "  alma_mater_row = soup.find('th', text=lambda x: x and \"Alma\" in x)\n"
     ]
    },
    {
     "name": "stdout",
     "output_type": "stream",
     "text": [
      "[ DEBUG ] - Progress: 19.76284584980237%\n"
     ]
    },
    {
     "name": "stderr",
     "output_type": "stream",
     "text": [
      "C:\\Users\\zmorrato\\AppData\\Local\\Temp\\ipykernel_26412\\3563713887.py:21: DeprecationWarning: The 'text' argument to find()-type methods is deprecated. Use 'string' instead.\n",
      "  alma_mater_row = soup.find('th', text=lambda x: x and \"Alma\" in x)\n"
     ]
    },
    {
     "name": "stdout",
     "output_type": "stream",
     "text": [
      "[ DEBUG ] - Alma mater row not found for /wiki/Pearl_S._Buck\n",
      "[ DEBUG ] - Progress: 19.861660079051383%\n"
     ]
    },
    {
     "name": "stderr",
     "output_type": "stream",
     "text": [
      "C:\\Users\\zmorrato\\AppData\\Local\\Temp\\ipykernel_26412\\3563713887.py:21: DeprecationWarning: The 'text' argument to find()-type methods is deprecated. Use 'string' instead.\n",
      "  alma_mater_row = soup.find('th', text=lambda x: x and \"Alma\" in x)\n"
     ]
    },
    {
     "name": "stdout",
     "output_type": "stream",
     "text": [
      "[ DEBUG ] - Alma mater row not found for /wiki/Nansen_International_Office_for_Refugees\n",
      "[ DEBUG ] - Progress: 19.960474308300398%\n"
     ]
    },
    {
     "name": "stderr",
     "output_type": "stream",
     "text": [
      "C:\\Users\\zmorrato\\AppData\\Local\\Temp\\ipykernel_26412\\3563713887.py:21: DeprecationWarning: The 'text' argument to find()-type methods is deprecated. Use 'string' instead.\n",
      "  alma_mater_row = soup.find('th', text=lambda x: x and \"Alma\" in x)\n"
     ]
    },
    {
     "name": "stdout",
     "output_type": "stream",
     "text": [
      "[ DEBUG ] - Alma mater row not found for /wiki/Ernest_Lawrence\n",
      "[ DEBUG ] - Progress: 20.059288537549406%\n"
     ]
    },
    {
     "name": "stderr",
     "output_type": "stream",
     "text": [
      "C:\\Users\\zmorrato\\AppData\\Local\\Temp\\ipykernel_26412\\3563713887.py:21: DeprecationWarning: The 'text' argument to find()-type methods is deprecated. Use 'string' instead.\n",
      "  alma_mater_row = soup.find('th', text=lambda x: x and \"Alma\" in x)\n"
     ]
    },
    {
     "name": "stdout",
     "output_type": "stream",
     "text": [
      "[ DEBUG ] - Alma mater row not found for /wiki/Adolf_Butenandt\n",
      "[ DEBUG ] - Progress: 20.158102766798418%\n"
     ]
    },
    {
     "name": "stderr",
     "output_type": "stream",
     "text": [
      "C:\\Users\\zmorrato\\AppData\\Local\\Temp\\ipykernel_26412\\3563713887.py:21: DeprecationWarning: The 'text' argument to find()-type methods is deprecated. Use 'string' instead.\n",
      "  alma_mater_row = soup.find('th', text=lambda x: x and \"Alma\" in x)\n"
     ]
    },
    {
     "name": "stdout",
     "output_type": "stream",
     "text": [
      "[ DEBUG ] - Progress: 20.25691699604743%\n"
     ]
    },
    {
     "name": "stderr",
     "output_type": "stream",
     "text": [
      "C:\\Users\\zmorrato\\AppData\\Local\\Temp\\ipykernel_26412\\3563713887.py:21: DeprecationWarning: The 'text' argument to find()-type methods is deprecated. Use 'string' instead.\n",
      "  alma_mater_row = soup.find('th', text=lambda x: x and \"Alma\" in x)\n"
     ]
    },
    {
     "name": "stdout",
     "output_type": "stream",
     "text": [
      "[ DEBUG ] - Progress: 20.35573122529644%\n"
     ]
    },
    {
     "name": "stderr",
     "output_type": "stream",
     "text": [
      "C:\\Users\\zmorrato\\AppData\\Local\\Temp\\ipykernel_26412\\3563713887.py:21: DeprecationWarning: The 'text' argument to find()-type methods is deprecated. Use 'string' instead.\n",
      "  alma_mater_row = soup.find('th', text=lambda x: x and \"Alma\" in x)\n"
     ]
    },
    {
     "name": "stdout",
     "output_type": "stream",
     "text": [
      "[ DEBUG ] - Alma mater row not found for /wiki/Frans_Eemil_Sillanp%C3%A4%C3%A4\n",
      "[ DEBUG ] - Progress: 20.454545454545457%\n"
     ]
    },
    {
     "name": "stderr",
     "output_type": "stream",
     "text": [
      "C:\\Users\\zmorrato\\AppData\\Local\\Temp\\ipykernel_26412\\3563713887.py:21: DeprecationWarning: The 'text' argument to find()-type methods is deprecated. Use 'string' instead.\n",
      "  alma_mater_row = soup.find('th', text=lambda x: x and \"Alma\" in x)\n"
     ]
    },
    {
     "name": "stdout",
     "output_type": "stream",
     "text": [
      "[ DEBUG ] - Progress: 20.55335968379447%\n"
     ]
    },
    {
     "name": "stderr",
     "output_type": "stream",
     "text": [
      "C:\\Users\\zmorrato\\AppData\\Local\\Temp\\ipykernel_26412\\3563713887.py:21: DeprecationWarning: The 'text' argument to find()-type methods is deprecated. Use 'string' instead.\n",
      "  alma_mater_row = soup.find('th', text=lambda x: x and \"Alma\" in x)\n"
     ]
    },
    {
     "name": "stdout",
     "output_type": "stream",
     "text": [
      "[ DEBUG ] - Alma mater row not found for /wiki/George_de_Hevesy\n",
      "[ DEBUG ] - Progress: 20.652173913043477%\n"
     ]
    },
    {
     "name": "stderr",
     "output_type": "stream",
     "text": [
      "C:\\Users\\zmorrato\\AppData\\Local\\Temp\\ipykernel_26412\\3563713887.py:21: DeprecationWarning: The 'text' argument to find()-type methods is deprecated. Use 'string' instead.\n",
      "  alma_mater_row = soup.find('th', text=lambda x: x and \"Alma\" in x)\n"
     ]
    },
    {
     "name": "stdout",
     "output_type": "stream",
     "text": [
      "[ DEBUG ] - Alma mater row not found for /wiki/Henrik_Dam\n",
      "[ DEBUG ] - Progress: 20.75098814229249%\n"
     ]
    },
    {
     "name": "stderr",
     "output_type": "stream",
     "text": [
      "C:\\Users\\zmorrato\\AppData\\Local\\Temp\\ipykernel_26412\\3563713887.py:21: DeprecationWarning: The 'text' argument to find()-type methods is deprecated. Use 'string' instead.\n",
      "  alma_mater_row = soup.find('th', text=lambda x: x and \"Alma\" in x)\n"
     ]
    },
    {
     "name": "stdout",
     "output_type": "stream",
     "text": [
      "[ DEBUG ] - Progress: 20.8498023715415%\n"
     ]
    },
    {
     "name": "stderr",
     "output_type": "stream",
     "text": [
      "C:\\Users\\zmorrato\\AppData\\Local\\Temp\\ipykernel_26412\\3563713887.py:21: DeprecationWarning: The 'text' argument to find()-type methods is deprecated. Use 'string' instead.\n",
      "  alma_mater_row = soup.find('th', text=lambda x: x and \"Alma\" in x)\n"
     ]
    },
    {
     "name": "stdout",
     "output_type": "stream",
     "text": [
      "[ DEBUG ] - Alma mater row not found for /wiki/Isidor_Isaac_Rabi\n",
      "[ DEBUG ] - Progress: 20.948616600790515%\n"
     ]
    },
    {
     "name": "stderr",
     "output_type": "stream",
     "text": [
      "C:\\Users\\zmorrato\\AppData\\Local\\Temp\\ipykernel_26412\\3563713887.py:21: DeprecationWarning: The 'text' argument to find()-type methods is deprecated. Use 'string' instead.\n",
      "  alma_mater_row = soup.find('th', text=lambda x: x and \"Alma\" in x)\n"
     ]
    },
    {
     "name": "stdout",
     "output_type": "stream",
     "text": [
      "[ DEBUG ] - Progress: 21.047430830039527%\n"
     ]
    },
    {
     "name": "stderr",
     "output_type": "stream",
     "text": [
      "C:\\Users\\zmorrato\\AppData\\Local\\Temp\\ipykernel_26412\\3563713887.py:21: DeprecationWarning: The 'text' argument to find()-type methods is deprecated. Use 'string' instead.\n",
      "  alma_mater_row = soup.find('th', text=lambda x: x and \"Alma\" in x)\n"
     ]
    },
    {
     "name": "stdout",
     "output_type": "stream",
     "text": [
      "[ DEBUG ] - Progress: 21.14624505928854%\n"
     ]
    },
    {
     "name": "stderr",
     "output_type": "stream",
     "text": [
      "C:\\Users\\zmorrato\\AppData\\Local\\Temp\\ipykernel_26412\\3563713887.py:21: DeprecationWarning: The 'text' argument to find()-type methods is deprecated. Use 'string' instead.\n",
      "  alma_mater_row = soup.find('th', text=lambda x: x and \"Alma\" in x)\n"
     ]
    },
    {
     "name": "stdout",
     "output_type": "stream",
     "text": [
      "[ DEBUG ] - Progress: 21.245059288537547%\n"
     ]
    },
    {
     "name": "stderr",
     "output_type": "stream",
     "text": [
      "C:\\Users\\zmorrato\\AppData\\Local\\Temp\\ipykernel_26412\\3563713887.py:21: DeprecationWarning: The 'text' argument to find()-type methods is deprecated. Use 'string' instead.\n",
      "  alma_mater_row = soup.find('th', text=lambda x: x and \"Alma\" in x)\n"
     ]
    },
    {
     "name": "stdout",
     "output_type": "stream",
     "text": [
      "[ DEBUG ] - Alma mater row not found for /wiki/Johannes_V._Jensen\n",
      "[ DEBUG ] - Progress: 21.34387351778656%\n"
     ]
    },
    {
     "name": "stderr",
     "output_type": "stream",
     "text": [
      "C:\\Users\\zmorrato\\AppData\\Local\\Temp\\ipykernel_26412\\3563713887.py:21: DeprecationWarning: The 'text' argument to find()-type methods is deprecated. Use 'string' instead.\n",
      "  alma_mater_row = soup.find('th', text=lambda x: x and \"Alma\" in x)\n"
     ]
    },
    {
     "name": "stdout",
     "output_type": "stream",
     "text": [
      "[ DEBUG ] - Alma mater row not found for /wiki/International_Committee_of_the_Red_Cross\n",
      "[ DEBUG ] - Progress: 21.442687747035574%\n"
     ]
    },
    {
     "name": "stderr",
     "output_type": "stream",
     "text": [
      "C:\\Users\\zmorrato\\AppData\\Local\\Temp\\ipykernel_26412\\3563713887.py:21: DeprecationWarning: The 'text' argument to find()-type methods is deprecated. Use 'string' instead.\n",
      "  alma_mater_row = soup.find('th', text=lambda x: x and \"Alma\" in x)\n"
     ]
    },
    {
     "name": "stdout",
     "output_type": "stream",
     "text": [
      "[ DEBUG ] - Progress: 21.541501976284586%\n"
     ]
    },
    {
     "name": "stderr",
     "output_type": "stream",
     "text": [
      "C:\\Users\\zmorrato\\AppData\\Local\\Temp\\ipykernel_26412\\3563713887.py:21: DeprecationWarning: The 'text' argument to find()-type methods is deprecated. Use 'string' instead.\n",
      "  alma_mater_row = soup.find('th', text=lambda x: x and \"Alma\" in x)\n"
     ]
    },
    {
     "name": "stdout",
     "output_type": "stream",
     "text": [
      "[ DEBUG ] - Progress: 21.640316205533598%\n"
     ]
    },
    {
     "name": "stderr",
     "output_type": "stream",
     "text": [
      "C:\\Users\\zmorrato\\AppData\\Local\\Temp\\ipykernel_26412\\3563713887.py:21: DeprecationWarning: The 'text' argument to find()-type methods is deprecated. Use 'string' instead.\n",
      "  alma_mater_row = soup.find('th', text=lambda x: x and \"Alma\" in x)\n"
     ]
    },
    {
     "name": "stdout",
     "output_type": "stream",
     "text": [
      "[ DEBUG ] - Progress: 21.73913043478261%\n"
     ]
    },
    {
     "name": "stderr",
     "output_type": "stream",
     "text": [
      "C:\\Users\\zmorrato\\AppData\\Local\\Temp\\ipykernel_26412\\3563713887.py:21: DeprecationWarning: The 'text' argument to find()-type methods is deprecated. Use 'string' instead.\n",
      "  alma_mater_row = soup.find('th', text=lambda x: x and \"Alma\" in x)\n"
     ]
    },
    {
     "name": "stdout",
     "output_type": "stream",
     "text": [
      "[ DEBUG ] - Progress: 21.83794466403162%\n"
     ]
    },
    {
     "name": "stderr",
     "output_type": "stream",
     "text": [
      "C:\\Users\\zmorrato\\AppData\\Local\\Temp\\ipykernel_26412\\3563713887.py:21: DeprecationWarning: The 'text' argument to find()-type methods is deprecated. Use 'string' instead.\n",
      "  alma_mater_row = soup.find('th', text=lambda x: x and \"Alma\" in x)\n"
     ]
    },
    {
     "name": "stdout",
     "output_type": "stream",
     "text": [
      "[ DEBUG ] - Progress: 21.936758893280633%\n"
     ]
    },
    {
     "name": "stderr",
     "output_type": "stream",
     "text": [
      "C:\\Users\\zmorrato\\AppData\\Local\\Temp\\ipykernel_26412\\3563713887.py:21: DeprecationWarning: The 'text' argument to find()-type methods is deprecated. Use 'string' instead.\n",
      "  alma_mater_row = soup.find('th', text=lambda x: x and \"Alma\" in x)\n"
     ]
    },
    {
     "name": "stdout",
     "output_type": "stream",
     "text": [
      "[ DEBUG ] - Alma mater row not found for /wiki/Gabriela_Mistral\n",
      "[ DEBUG ] - Progress: 22.035573122529645%\n"
     ]
    },
    {
     "name": "stderr",
     "output_type": "stream",
     "text": [
      "C:\\Users\\zmorrato\\AppData\\Local\\Temp\\ipykernel_26412\\3563713887.py:21: DeprecationWarning: The 'text' argument to find()-type methods is deprecated. Use 'string' instead.\n",
      "  alma_mater_row = soup.find('th', text=lambda x: x and \"Alma\" in x)\n"
     ]
    },
    {
     "name": "stdout",
     "output_type": "stream",
     "text": [
      "[ DEBUG ] - Alma mater row not found for /wiki/Cordell_Hull\n",
      "[ DEBUG ] - Progress: 22.134387351778656%\n"
     ]
    },
    {
     "name": "stderr",
     "output_type": "stream",
     "text": [
      "C:\\Users\\zmorrato\\AppData\\Local\\Temp\\ipykernel_26412\\3563713887.py:21: DeprecationWarning: The 'text' argument to find()-type methods is deprecated. Use 'string' instead.\n",
      "  alma_mater_row = soup.find('th', text=lambda x: x and \"Alma\" in x)\n"
     ]
    },
    {
     "name": "stdout",
     "output_type": "stream",
     "text": [
      "[ DEBUG ] - Progress: 22.233201581027668%\n"
     ]
    },
    {
     "name": "stderr",
     "output_type": "stream",
     "text": [
      "C:\\Users\\zmorrato\\AppData\\Local\\Temp\\ipykernel_26412\\3563713887.py:21: DeprecationWarning: The 'text' argument to find()-type methods is deprecated. Use 'string' instead.\n",
      "  alma_mater_row = soup.find('th', text=lambda x: x and \"Alma\" in x)\n"
     ]
    },
    {
     "name": "stdout",
     "output_type": "stream",
     "text": [
      "[ DEBUG ] - Progress: 22.33201581027668%\n"
     ]
    },
    {
     "name": "stderr",
     "output_type": "stream",
     "text": [
      "C:\\Users\\zmorrato\\AppData\\Local\\Temp\\ipykernel_26412\\3563713887.py:21: DeprecationWarning: The 'text' argument to find()-type methods is deprecated. Use 'string' instead.\n",
      "  alma_mater_row = soup.find('th', text=lambda x: x and \"Alma\" in x)\n"
     ]
    },
    {
     "name": "stdout",
     "output_type": "stream",
     "text": [
      "[ DEBUG ] - Progress: 22.43083003952569%\n"
     ]
    },
    {
     "name": "stderr",
     "output_type": "stream",
     "text": [
      "C:\\Users\\zmorrato\\AppData\\Local\\Temp\\ipykernel_26412\\3563713887.py:21: DeprecationWarning: The 'text' argument to find()-type methods is deprecated. Use 'string' instead.\n",
      "  alma_mater_row = soup.find('th', text=lambda x: x and \"Alma\" in x)\n"
     ]
    },
    {
     "name": "stdout",
     "output_type": "stream",
     "text": [
      "[ DEBUG ] - Progress: 22.529644268774703%\n"
     ]
    },
    {
     "name": "stderr",
     "output_type": "stream",
     "text": [
      "C:\\Users\\zmorrato\\AppData\\Local\\Temp\\ipykernel_26412\\3563713887.py:21: DeprecationWarning: The 'text' argument to find()-type methods is deprecated. Use 'string' instead.\n",
      "  alma_mater_row = soup.find('th', text=lambda x: x and \"Alma\" in x)\n"
     ]
    },
    {
     "name": "stdout",
     "output_type": "stream",
     "text": [
      "[ DEBUG ] - Progress: 22.628458498023715%\n"
     ]
    },
    {
     "name": "stderr",
     "output_type": "stream",
     "text": [
      "C:\\Users\\zmorrato\\AppData\\Local\\Temp\\ipykernel_26412\\3563713887.py:21: DeprecationWarning: The 'text' argument to find()-type methods is deprecated. Use 'string' instead.\n",
      "  alma_mater_row = soup.find('th', text=lambda x: x and \"Alma\" in x)\n"
     ]
    },
    {
     "name": "stdout",
     "output_type": "stream",
     "text": [
      "[ DEBUG ] - Alma mater row not found for /wiki/Hermann_Hesse\n",
      "[ DEBUG ] - Progress: 22.727272727272727%\n"
     ]
    },
    {
     "name": "stderr",
     "output_type": "stream",
     "text": [
      "C:\\Users\\zmorrato\\AppData\\Local\\Temp\\ipykernel_26412\\3563713887.py:21: DeprecationWarning: The 'text' argument to find()-type methods is deprecated. Use 'string' instead.\n",
      "  alma_mater_row = soup.find('th', text=lambda x: x and \"Alma\" in x)\n"
     ]
    },
    {
     "name": "stdout",
     "output_type": "stream",
     "text": [
      "[ DEBUG ] - Alma mater row not found for /wiki/Emily_Greene_Balch\n",
      "[ DEBUG ] - Progress: 22.82608695652174%\n"
     ]
    },
    {
     "name": "stderr",
     "output_type": "stream",
     "text": [
      "C:\\Users\\zmorrato\\AppData\\Local\\Temp\\ipykernel_26412\\3563713887.py:21: DeprecationWarning: The 'text' argument to find()-type methods is deprecated. Use 'string' instead.\n",
      "  alma_mater_row = soup.find('th', text=lambda x: x and \"Alma\" in x)\n"
     ]
    },
    {
     "name": "stdout",
     "output_type": "stream",
     "text": [
      "[ DEBUG ] - Progress: 22.92490118577075%\n"
     ]
    },
    {
     "name": "stderr",
     "output_type": "stream",
     "text": [
      "C:\\Users\\zmorrato\\AppData\\Local\\Temp\\ipykernel_26412\\3563713887.py:21: DeprecationWarning: The 'text' argument to find()-type methods is deprecated. Use 'string' instead.\n",
      "  alma_mater_row = soup.find('th', text=lambda x: x and \"Alma\" in x)\n"
     ]
    },
    {
     "name": "stdout",
     "output_type": "stream",
     "text": [
      "[ DEBUG ] - Progress: 23.023715415019762%\n"
     ]
    },
    {
     "name": "stderr",
     "output_type": "stream",
     "text": [
      "C:\\Users\\zmorrato\\AppData\\Local\\Temp\\ipykernel_26412\\3563713887.py:21: DeprecationWarning: The 'text' argument to find()-type methods is deprecated. Use 'string' instead.\n",
      "  alma_mater_row = soup.find('th', text=lambda x: x and \"Alma\" in x)\n"
     ]
    },
    {
     "name": "stdout",
     "output_type": "stream",
     "text": [
      "[ DEBUG ] - Progress: 23.122529644268774%\n"
     ]
    },
    {
     "name": "stderr",
     "output_type": "stream",
     "text": [
      "C:\\Users\\zmorrato\\AppData\\Local\\Temp\\ipykernel_26412\\3563713887.py:21: DeprecationWarning: The 'text' argument to find()-type methods is deprecated. Use 'string' instead.\n",
      "  alma_mater_row = soup.find('th', text=lambda x: x and \"Alma\" in x)\n"
     ]
    },
    {
     "name": "stdout",
     "output_type": "stream",
     "text": [
      "[ DEBUG ] - Progress: 23.221343873517785%\n"
     ]
    },
    {
     "name": "stderr",
     "output_type": "stream",
     "text": [
      "C:\\Users\\zmorrato\\AppData\\Local\\Temp\\ipykernel_26412\\3563713887.py:21: DeprecationWarning: The 'text' argument to find()-type methods is deprecated. Use 'string' instead.\n",
      "  alma_mater_row = soup.find('th', text=lambda x: x and \"Alma\" in x)\n"
     ]
    },
    {
     "name": "stdout",
     "output_type": "stream",
     "text": [
      "[ DEBUG ] - Progress: 23.3201581027668%\n"
     ]
    },
    {
     "name": "stderr",
     "output_type": "stream",
     "text": [
      "C:\\Users\\zmorrato\\AppData\\Local\\Temp\\ipykernel_26412\\3563713887.py:21: DeprecationWarning: The 'text' argument to find()-type methods is deprecated. Use 'string' instead.\n",
      "  alma_mater_row = soup.find('th', text=lambda x: x and \"Alma\" in x)\n"
     ]
    },
    {
     "name": "stdout",
     "output_type": "stream",
     "text": [
      "[ DEBUG ] - Alma mater row not found for /wiki/Bernardo_Houssay\n",
      "[ DEBUG ] - Progress: 23.418972332015812%\n"
     ]
    },
    {
     "name": "stderr",
     "output_type": "stream",
     "text": [
      "C:\\Users\\zmorrato\\AppData\\Local\\Temp\\ipykernel_26412\\3563713887.py:21: DeprecationWarning: The 'text' argument to find()-type methods is deprecated. Use 'string' instead.\n",
      "  alma_mater_row = soup.find('th', text=lambda x: x and \"Alma\" in x)\n"
     ]
    },
    {
     "name": "stdout",
     "output_type": "stream",
     "text": [
      "[ DEBUG ] - Alma mater row not found for /wiki/Andr%C3%A9_Gide\n",
      "[ DEBUG ] - Progress: 23.517786561264824%\n"
     ]
    },
    {
     "name": "stderr",
     "output_type": "stream",
     "text": [
      "C:\\Users\\zmorrato\\AppData\\Local\\Temp\\ipykernel_26412\\3563713887.py:21: DeprecationWarning: The 'text' argument to find()-type methods is deprecated. Use 'string' instead.\n",
      "  alma_mater_row = soup.find('th', text=lambda x: x and \"Alma\" in x)\n"
     ]
    },
    {
     "name": "stdout",
     "output_type": "stream",
     "text": [
      "[ DEBUG ] - Alma mater row not found for /wiki/Quaker_Peace_and_Social_Witness\n",
      "[ DEBUG ] - Progress: 23.616600790513832%\n"
     ]
    },
    {
     "name": "stderr",
     "output_type": "stream",
     "text": [
      "C:\\Users\\zmorrato\\AppData\\Local\\Temp\\ipykernel_26412\\3563713887.py:21: DeprecationWarning: The 'text' argument to find()-type methods is deprecated. Use 'string' instead.\n",
      "  alma_mater_row = soup.find('th', text=lambda x: x and \"Alma\" in x)\n"
     ]
    },
    {
     "name": "stdout",
     "output_type": "stream",
     "text": [
      "[ DEBUG ] - Alma mater row not found for /wiki/American_Friends_Service_Committee\n",
      "[ DEBUG ] - Progress: 23.715415019762844%\n"
     ]
    },
    {
     "name": "stderr",
     "output_type": "stream",
     "text": [
      "C:\\Users\\zmorrato\\AppData\\Local\\Temp\\ipykernel_26412\\3563713887.py:21: DeprecationWarning: The 'text' argument to find()-type methods is deprecated. Use 'string' instead.\n",
      "  alma_mater_row = soup.find('th', text=lambda x: x and \"Alma\" in x)\n"
     ]
    },
    {
     "name": "stdout",
     "output_type": "stream",
     "text": [
      "[ DEBUG ] - Progress: 23.81422924901186%\n"
     ]
    },
    {
     "name": "stderr",
     "output_type": "stream",
     "text": [
      "C:\\Users\\zmorrato\\AppData\\Local\\Temp\\ipykernel_26412\\3563713887.py:21: DeprecationWarning: The 'text' argument to find()-type methods is deprecated. Use 'string' instead.\n",
      "  alma_mater_row = soup.find('th', text=lambda x: x and \"Alma\" in x)\n"
     ]
    },
    {
     "name": "stdout",
     "output_type": "stream",
     "text": [
      "[ DEBUG ] - Progress: 23.91304347826087%\n"
     ]
    },
    {
     "name": "stderr",
     "output_type": "stream",
     "text": [
      "C:\\Users\\zmorrato\\AppData\\Local\\Temp\\ipykernel_26412\\3563713887.py:21: DeprecationWarning: The 'text' argument to find()-type methods is deprecated. Use 'string' instead.\n",
      "  alma_mater_row = soup.find('th', text=lambda x: x and \"Alma\" in x)\n"
     ]
    },
    {
     "name": "stdout",
     "output_type": "stream",
     "text": [
      "[ DEBUG ] - Progress: 24.011857707509883%\n"
     ]
    },
    {
     "name": "stderr",
     "output_type": "stream",
     "text": [
      "C:\\Users\\zmorrato\\AppData\\Local\\Temp\\ipykernel_26412\\3563713887.py:21: DeprecationWarning: The 'text' argument to find()-type methods is deprecated. Use 'string' instead.\n",
      "  alma_mater_row = soup.find('th', text=lambda x: x and \"Alma\" in x)\n"
     ]
    },
    {
     "name": "stdout",
     "output_type": "stream",
     "text": [
      "[ DEBUG ] - Alma mater row not found for /wiki/T._S._Eliot\n",
      "[ DEBUG ] - Progress: 24.110671936758894%\n"
     ]
    },
    {
     "name": "stderr",
     "output_type": "stream",
     "text": [
      "C:\\Users\\zmorrato\\AppData\\Local\\Temp\\ipykernel_26412\\3563713887.py:21: DeprecationWarning: The 'text' argument to find()-type methods is deprecated. Use 'string' instead.\n",
      "  alma_mater_row = soup.find('th', text=lambda x: x and \"Alma\" in x)\n"
     ]
    },
    {
     "name": "stdout",
     "output_type": "stream",
     "text": [
      "[ DEBUG ] - Progress: 24.209486166007903%\n"
     ]
    },
    {
     "name": "stderr",
     "output_type": "stream",
     "text": [
      "C:\\Users\\zmorrato\\AppData\\Local\\Temp\\ipykernel_26412\\3563713887.py:21: DeprecationWarning: The 'text' argument to find()-type methods is deprecated. Use 'string' instead.\n",
      "  alma_mater_row = soup.find('th', text=lambda x: x and \"Alma\" in x)\n"
     ]
    },
    {
     "name": "stdout",
     "output_type": "stream",
     "text": [
      "[ DEBUG ] - Progress: 24.308300395256918%\n"
     ]
    },
    {
     "name": "stderr",
     "output_type": "stream",
     "text": [
      "C:\\Users\\zmorrato\\AppData\\Local\\Temp\\ipykernel_26412\\3563713887.py:21: DeprecationWarning: The 'text' argument to find()-type methods is deprecated. Use 'string' instead.\n",
      "  alma_mater_row = soup.find('th', text=lambda x: x and \"Alma\" in x)\n"
     ]
    },
    {
     "name": "stdout",
     "output_type": "stream",
     "text": [
      "[ DEBUG ] - Progress: 24.40711462450593%\n"
     ]
    },
    {
     "name": "stderr",
     "output_type": "stream",
     "text": [
      "C:\\Users\\zmorrato\\AppData\\Local\\Temp\\ipykernel_26412\\3563713887.py:21: DeprecationWarning: The 'text' argument to find()-type methods is deprecated. Use 'string' instead.\n",
      "  alma_mater_row = soup.find('th', text=lambda x: x and \"Alma\" in x)\n"
     ]
    },
    {
     "name": "stdout",
     "output_type": "stream",
     "text": [
      "[ DEBUG ] - Progress: 24.50592885375494%\n"
     ]
    },
    {
     "name": "stderr",
     "output_type": "stream",
     "text": [
      "C:\\Users\\zmorrato\\AppData\\Local\\Temp\\ipykernel_26412\\3563713887.py:21: DeprecationWarning: The 'text' argument to find()-type methods is deprecated. Use 'string' instead.\n",
      "  alma_mater_row = soup.find('th', text=lambda x: x and \"Alma\" in x)\n"
     ]
    },
    {
     "name": "stdout",
     "output_type": "stream",
     "text": [
      "[ DEBUG ] - Alma mater row not found for /wiki/William_Faulkner\n",
      "[ DEBUG ] - Progress: 24.604743083003953%\n"
     ]
    },
    {
     "name": "stderr",
     "output_type": "stream",
     "text": [
      "C:\\Users\\zmorrato\\AppData\\Local\\Temp\\ipykernel_26412\\3563713887.py:21: DeprecationWarning: The 'text' argument to find()-type methods is deprecated. Use 'string' instead.\n",
      "  alma_mater_row = soup.find('th', text=lambda x: x and \"Alma\" in x)\n"
     ]
    },
    {
     "name": "stdout",
     "output_type": "stream",
     "text": [
      "[ DEBUG ] - Progress: 24.703557312252965%\n"
     ]
    },
    {
     "name": "stderr",
     "output_type": "stream",
     "text": [
      "C:\\Users\\zmorrato\\AppData\\Local\\Temp\\ipykernel_26412\\3563713887.py:21: DeprecationWarning: The 'text' argument to find()-type methods is deprecated. Use 'string' instead.\n",
      "  alma_mater_row = soup.find('th', text=lambda x: x and \"Alma\" in x)\n"
     ]
    },
    {
     "name": "stdout",
     "output_type": "stream",
     "text": [
      "[ DEBUG ] - Progress: 24.802371541501977%\n"
     ]
    },
    {
     "name": "stderr",
     "output_type": "stream",
     "text": [
      "C:\\Users\\zmorrato\\AppData\\Local\\Temp\\ipykernel_26412\\3563713887.py:21: DeprecationWarning: The 'text' argument to find()-type methods is deprecated. Use 'string' instead.\n",
      "  alma_mater_row = soup.find('th', text=lambda x: x and \"Alma\" in x)\n"
     ]
    },
    {
     "name": "stdout",
     "output_type": "stream",
     "text": [
      "[ DEBUG ] - Progress: 24.90118577075099%\n"
     ]
    },
    {
     "name": "stderr",
     "output_type": "stream",
     "text": [
      "C:\\Users\\zmorrato\\AppData\\Local\\Temp\\ipykernel_26412\\3563713887.py:21: DeprecationWarning: The 'text' argument to find()-type methods is deprecated. Use 'string' instead.\n",
      "  alma_mater_row = soup.find('th', text=lambda x: x and \"Alma\" in x)\n"
     ]
    },
    {
     "name": "stdout",
     "output_type": "stream",
     "text": [
      "[ DEBUG ] - Progress: 25.0%\n"
     ]
    },
    {
     "name": "stderr",
     "output_type": "stream",
     "text": [
      "C:\\Users\\zmorrato\\AppData\\Local\\Temp\\ipykernel_26412\\3563713887.py:21: DeprecationWarning: The 'text' argument to find()-type methods is deprecated. Use 'string' instead.\n",
      "  alma_mater_row = soup.find('th', text=lambda x: x and \"Alma\" in x)\n"
     ]
    },
    {
     "name": "stdout",
     "output_type": "stream",
     "text": [
      "[ DEBUG ] - Progress: 25.09881422924901%\n"
     ]
    },
    {
     "name": "stderr",
     "output_type": "stream",
     "text": [
      "C:\\Users\\zmorrato\\AppData\\Local\\Temp\\ipykernel_26412\\3563713887.py:21: DeprecationWarning: The 'text' argument to find()-type methods is deprecated. Use 'string' instead.\n",
      "  alma_mater_row = soup.find('th', text=lambda x: x and \"Alma\" in x)\n"
     ]
    },
    {
     "name": "stdout",
     "output_type": "stream",
     "text": [
      "[ DEBUG ] - Progress: 25.197628458498023%\n"
     ]
    },
    {
     "name": "stderr",
     "output_type": "stream",
     "text": [
      "C:\\Users\\zmorrato\\AppData\\Local\\Temp\\ipykernel_26412\\3563713887.py:21: DeprecationWarning: The 'text' argument to find()-type methods is deprecated. Use 'string' instead.\n",
      "  alma_mater_row = soup.find('th', text=lambda x: x and \"Alma\" in x)\n"
     ]
    },
    {
     "name": "stdout",
     "output_type": "stream",
     "text": [
      "[ DEBUG ] - Alma mater row not found for /wiki/Tadeus_Reichstein\n",
      "[ DEBUG ] - Progress: 25.296442687747035%\n"
     ]
    },
    {
     "name": "stderr",
     "output_type": "stream",
     "text": [
      "C:\\Users\\zmorrato\\AppData\\Local\\Temp\\ipykernel_26412\\3563713887.py:21: DeprecationWarning: The 'text' argument to find()-type methods is deprecated. Use 'string' instead.\n",
      "  alma_mater_row = soup.find('th', text=lambda x: x and \"Alma\" in x)\n"
     ]
    },
    {
     "name": "stdout",
     "output_type": "stream",
     "text": [
      "[ DEBUG ] - Alma mater row not found for /wiki/Bertrand_Russell\n",
      "[ DEBUG ] - Progress: 25.395256916996047%\n"
     ]
    },
    {
     "name": "stderr",
     "output_type": "stream",
     "text": [
      "C:\\Users\\zmorrato\\AppData\\Local\\Temp\\ipykernel_26412\\3563713887.py:21: DeprecationWarning: The 'text' argument to find()-type methods is deprecated. Use 'string' instead.\n",
      "  alma_mater_row = soup.find('th', text=lambda x: x and \"Alma\" in x)\n"
     ]
    },
    {
     "name": "stdout",
     "output_type": "stream",
     "text": [
      "[ DEBUG ] - Alma mater row not found for /wiki/Ralph_Bunche\n",
      "[ DEBUG ] - Progress: 25.494071146245062%\n"
     ]
    },
    {
     "name": "stderr",
     "output_type": "stream",
     "text": [
      "C:\\Users\\zmorrato\\AppData\\Local\\Temp\\ipykernel_26412\\3563713887.py:21: DeprecationWarning: The 'text' argument to find()-type methods is deprecated. Use 'string' instead.\n",
      "  alma_mater_row = soup.find('th', text=lambda x: x and \"Alma\" in x)\n"
     ]
    },
    {
     "name": "stdout",
     "output_type": "stream",
     "text": [
      "[ DEBUG ] - Progress: 25.592885375494074%\n"
     ]
    },
    {
     "name": "stderr",
     "output_type": "stream",
     "text": [
      "C:\\Users\\zmorrato\\AppData\\Local\\Temp\\ipykernel_26412\\3563713887.py:21: DeprecationWarning: The 'text' argument to find()-type methods is deprecated. Use 'string' instead.\n",
      "  alma_mater_row = soup.find('th', text=lambda x: x and \"Alma\" in x)\n"
     ]
    },
    {
     "name": "stdout",
     "output_type": "stream",
     "text": [
      "[ DEBUG ] - Progress: 25.691699604743086%\n"
     ]
    },
    {
     "name": "stderr",
     "output_type": "stream",
     "text": [
      "C:\\Users\\zmorrato\\AppData\\Local\\Temp\\ipykernel_26412\\3563713887.py:21: DeprecationWarning: The 'text' argument to find()-type methods is deprecated. Use 'string' instead.\n",
      "  alma_mater_row = soup.find('th', text=lambda x: x and \"Alma\" in x)\n"
     ]
    },
    {
     "name": "stdout",
     "output_type": "stream",
     "text": [
      "[ DEBUG ] - Alma mater row not found for /wiki/Edwin_McMillan\n",
      "[ DEBUG ] - Progress: 25.790513833992097%\n"
     ]
    },
    {
     "name": "stderr",
     "output_type": "stream",
     "text": [
      "C:\\Users\\zmorrato\\AppData\\Local\\Temp\\ipykernel_26412\\3563713887.py:21: DeprecationWarning: The 'text' argument to find()-type methods is deprecated. Use 'string' instead.\n",
      "  alma_mater_row = soup.find('th', text=lambda x: x and \"Alma\" in x)\n"
     ]
    },
    {
     "name": "stdout",
     "output_type": "stream",
     "text": [
      "[ DEBUG ] - Alma mater row not found for /wiki/Glenn_T._Seaborg\n",
      "[ DEBUG ] - Progress: 25.889328063241106%\n"
     ]
    },
    {
     "name": "stderr",
     "output_type": "stream",
     "text": [
      "C:\\Users\\zmorrato\\AppData\\Local\\Temp\\ipykernel_26412\\3563713887.py:21: DeprecationWarning: The 'text' argument to find()-type methods is deprecated. Use 'string' instead.\n",
      "  alma_mater_row = soup.find('th', text=lambda x: x and \"Alma\" in x)\n"
     ]
    },
    {
     "name": "stdout",
     "output_type": "stream",
     "text": [
      "[ DEBUG ] - Progress: 25.988142292490117%\n"
     ]
    },
    {
     "name": "stderr",
     "output_type": "stream",
     "text": [
      "C:\\Users\\zmorrato\\AppData\\Local\\Temp\\ipykernel_26412\\3563713887.py:21: DeprecationWarning: The 'text' argument to find()-type methods is deprecated. Use 'string' instead.\n",
      "  alma_mater_row = soup.find('th', text=lambda x: x and \"Alma\" in x)\n"
     ]
    },
    {
     "name": "stdout",
     "output_type": "stream",
     "text": [
      "[ DEBUG ] - Alma mater row not found for /wiki/P%C3%A4r_Lagerkvist\n",
      "[ DEBUG ] - Progress: 26.08695652173913%\n"
     ]
    },
    {
     "name": "stderr",
     "output_type": "stream",
     "text": [
      "C:\\Users\\zmorrato\\AppData\\Local\\Temp\\ipykernel_26412\\3563713887.py:21: DeprecationWarning: The 'text' argument to find()-type methods is deprecated. Use 'string' instead.\n",
      "  alma_mater_row = soup.find('th', text=lambda x: x and \"Alma\" in x)\n"
     ]
    },
    {
     "name": "stdout",
     "output_type": "stream",
     "text": [
      "[ DEBUG ] - Alma mater row not found for /wiki/L%C3%A9on_Jouhaux\n",
      "[ DEBUG ] - Progress: 26.18577075098814%\n"
     ]
    },
    {
     "name": "stderr",
     "output_type": "stream",
     "text": [
      "C:\\Users\\zmorrato\\AppData\\Local\\Temp\\ipykernel_26412\\3563713887.py:21: DeprecationWarning: The 'text' argument to find()-type methods is deprecated. Use 'string' instead.\n",
      "  alma_mater_row = soup.find('th', text=lambda x: x and \"Alma\" in x)\n"
     ]
    },
    {
     "name": "stdout",
     "output_type": "stream",
     "text": [
      "[ DEBUG ] - Progress: 26.284584980237153%\n"
     ]
    },
    {
     "name": "stderr",
     "output_type": "stream",
     "text": [
      "C:\\Users\\zmorrato\\AppData\\Local\\Temp\\ipykernel_26412\\3563713887.py:21: DeprecationWarning: The 'text' argument to find()-type methods is deprecated. Use 'string' instead.\n",
      "  alma_mater_row = soup.find('th', text=lambda x: x and \"Alma\" in x)\n"
     ]
    },
    {
     "name": "stdout",
     "output_type": "stream",
     "text": [
      "[ DEBUG ] - Progress: 26.383399209486164%\n"
     ]
    },
    {
     "name": "stderr",
     "output_type": "stream",
     "text": [
      "C:\\Users\\zmorrato\\AppData\\Local\\Temp\\ipykernel_26412\\3563713887.py:21: DeprecationWarning: The 'text' argument to find()-type methods is deprecated. Use 'string' instead.\n",
      "  alma_mater_row = soup.find('th', text=lambda x: x and \"Alma\" in x)\n"
     ]
    },
    {
     "name": "stdout",
     "output_type": "stream",
     "text": [
      "[ DEBUG ] - Progress: 26.48221343873518%\n"
     ]
    },
    {
     "name": "stderr",
     "output_type": "stream",
     "text": [
      "C:\\Users\\zmorrato\\AppData\\Local\\Temp\\ipykernel_26412\\3563713887.py:21: DeprecationWarning: The 'text' argument to find()-type methods is deprecated. Use 'string' instead.\n",
      "  alma_mater_row = soup.find('th', text=lambda x: x and \"Alma\" in x)\n"
     ]
    },
    {
     "name": "stdout",
     "output_type": "stream",
     "text": [
      "[ DEBUG ] - Progress: 26.58102766798419%\n"
     ]
    },
    {
     "name": "stderr",
     "output_type": "stream",
     "text": [
      "C:\\Users\\zmorrato\\AppData\\Local\\Temp\\ipykernel_26412\\3563713887.py:21: DeprecationWarning: The 'text' argument to find()-type methods is deprecated. Use 'string' instead.\n",
      "  alma_mater_row = soup.find('th', text=lambda x: x and \"Alma\" in x)\n"
     ]
    },
    {
     "name": "stdout",
     "output_type": "stream",
     "text": [
      "[ DEBUG ] - Progress: 26.679841897233203%\n"
     ]
    },
    {
     "name": "stderr",
     "output_type": "stream",
     "text": [
      "C:\\Users\\zmorrato\\AppData\\Local\\Temp\\ipykernel_26412\\3563713887.py:21: DeprecationWarning: The 'text' argument to find()-type methods is deprecated. Use 'string' instead.\n",
      "  alma_mater_row = soup.find('th', text=lambda x: x and \"Alma\" in x)\n"
     ]
    },
    {
     "name": "stdout",
     "output_type": "stream",
     "text": [
      "[ DEBUG ] - Alma mater row not found for /wiki/Fran%C3%A7ois_Mauriac\n",
      "[ DEBUG ] - Progress: 26.778656126482215%\n"
     ]
    },
    {
     "name": "stderr",
     "output_type": "stream",
     "text": [
      "C:\\Users\\zmorrato\\AppData\\Local\\Temp\\ipykernel_26412\\3563713887.py:21: DeprecationWarning: The 'text' argument to find()-type methods is deprecated. Use 'string' instead.\n",
      "  alma_mater_row = soup.find('th', text=lambda x: x and \"Alma\" in x)\n"
     ]
    },
    {
     "name": "stdout",
     "output_type": "stream",
     "text": [
      "[ DEBUG ] - Progress: 26.877470355731226%\n"
     ]
    },
    {
     "name": "stderr",
     "output_type": "stream",
     "text": [
      "C:\\Users\\zmorrato\\AppData\\Local\\Temp\\ipykernel_26412\\3563713887.py:21: DeprecationWarning: The 'text' argument to find()-type methods is deprecated. Use 'string' instead.\n",
      "  alma_mater_row = soup.find('th', text=lambda x: x and \"Alma\" in x)\n"
     ]
    },
    {
     "name": "stdout",
     "output_type": "stream",
     "text": [
      "[ DEBUG ] - Progress: 26.976284584980238%\n"
     ]
    },
    {
     "name": "stderr",
     "output_type": "stream",
     "text": [
      "C:\\Users\\zmorrato\\AppData\\Local\\Temp\\ipykernel_26412\\3563713887.py:21: DeprecationWarning: The 'text' argument to find()-type methods is deprecated. Use 'string' instead.\n",
      "  alma_mater_row = soup.find('th', text=lambda x: x and \"Alma\" in x)\n"
     ]
    },
    {
     "name": "stdout",
     "output_type": "stream",
     "text": [
      "[ DEBUG ] - Progress: 27.07509881422925%\n"
     ]
    },
    {
     "name": "stderr",
     "output_type": "stream",
     "text": [
      "C:\\Users\\zmorrato\\AppData\\Local\\Temp\\ipykernel_26412\\3563713887.py:21: DeprecationWarning: The 'text' argument to find()-type methods is deprecated. Use 'string' instead.\n",
      "  alma_mater_row = soup.find('th', text=lambda x: x and \"Alma\" in x)\n"
     ]
    },
    {
     "name": "stdout",
     "output_type": "stream",
     "text": [
      "[ DEBUG ] - Progress: 27.173913043478258%\n"
     ]
    },
    {
     "name": "stderr",
     "output_type": "stream",
     "text": [
      "C:\\Users\\zmorrato\\AppData\\Local\\Temp\\ipykernel_26412\\3563713887.py:21: DeprecationWarning: The 'text' argument to find()-type methods is deprecated. Use 'string' instead.\n",
      "  alma_mater_row = soup.find('th', text=lambda x: x and \"Alma\" in x)\n"
     ]
    },
    {
     "name": "stdout",
     "output_type": "stream",
     "text": [
      "[ DEBUG ] - Progress: 27.27272727272727%\n"
     ]
    },
    {
     "name": "stderr",
     "output_type": "stream",
     "text": [
      "C:\\Users\\zmorrato\\AppData\\Local\\Temp\\ipykernel_26412\\3563713887.py:21: DeprecationWarning: The 'text' argument to find()-type methods is deprecated. Use 'string' instead.\n",
      "  alma_mater_row = soup.find('th', text=lambda x: x and \"Alma\" in x)\n"
     ]
    },
    {
     "name": "stdout",
     "output_type": "stream",
     "text": [
      "[ DEBUG ] - Alma mater row not found for /wiki/Winston_Churchill\n",
      "[ DEBUG ] - Progress: 27.37154150197628%\n"
     ]
    },
    {
     "name": "stderr",
     "output_type": "stream",
     "text": [
      "C:\\Users\\zmorrato\\AppData\\Local\\Temp\\ipykernel_26412\\3563713887.py:21: DeprecationWarning: The 'text' argument to find()-type methods is deprecated. Use 'string' instead.\n",
      "  alma_mater_row = soup.find('th', text=lambda x: x and \"Alma\" in x)\n"
     ]
    },
    {
     "name": "stdout",
     "output_type": "stream",
     "text": [
      "[ DEBUG ] - Alma mater row not found for /wiki/George_Marshall\n",
      "[ DEBUG ] - Progress: 27.4703557312253%\n"
     ]
    },
    {
     "name": "stderr",
     "output_type": "stream",
     "text": [
      "C:\\Users\\zmorrato\\AppData\\Local\\Temp\\ipykernel_26412\\3563713887.py:21: DeprecationWarning: The 'text' argument to find()-type methods is deprecated. Use 'string' instead.\n",
      "  alma_mater_row = soup.find('th', text=lambda x: x and \"Alma\" in x)\n"
     ]
    },
    {
     "name": "stdout",
     "output_type": "stream",
     "text": [
      "[ DEBUG ] - Progress: 27.56916996047431%\n"
     ]
    },
    {
     "name": "stderr",
     "output_type": "stream",
     "text": [
      "C:\\Users\\zmorrato\\AppData\\Local\\Temp\\ipykernel_26412\\3563713887.py:21: DeprecationWarning: The 'text' argument to find()-type methods is deprecated. Use 'string' instead.\n",
      "  alma_mater_row = soup.find('th', text=lambda x: x and \"Alma\" in x)\n"
     ]
    },
    {
     "name": "stdout",
     "output_type": "stream",
     "text": [
      "[ DEBUG ] - Progress: 27.66798418972332%\n"
     ]
    },
    {
     "name": "stderr",
     "output_type": "stream",
     "text": [
      "C:\\Users\\zmorrato\\AppData\\Local\\Temp\\ipykernel_26412\\3563713887.py:21: DeprecationWarning: The 'text' argument to find()-type methods is deprecated. Use 'string' instead.\n",
      "  alma_mater_row = soup.find('th', text=lambda x: x and \"Alma\" in x)\n"
     ]
    },
    {
     "name": "stdout",
     "output_type": "stream",
     "text": [
      "[ DEBUG ] - Alma mater row not found for /wiki/Linus_Pauling\n",
      "[ DEBUG ] - Progress: 27.766798418972332%\n"
     ]
    },
    {
     "name": "stderr",
     "output_type": "stream",
     "text": [
      "C:\\Users\\zmorrato\\AppData\\Local\\Temp\\ipykernel_26412\\3563713887.py:21: DeprecationWarning: The 'text' argument to find()-type methods is deprecated. Use 'string' instead.\n",
      "  alma_mater_row = soup.find('th', text=lambda x: x and \"Alma\" in x)\n"
     ]
    },
    {
     "name": "stdout",
     "output_type": "stream",
     "text": [
      "[ DEBUG ] - Progress: 27.865612648221344%\n"
     ]
    },
    {
     "name": "stderr",
     "output_type": "stream",
     "text": [
      "C:\\Users\\zmorrato\\AppData\\Local\\Temp\\ipykernel_26412\\3563713887.py:21: DeprecationWarning: The 'text' argument to find()-type methods is deprecated. Use 'string' instead.\n",
      "  alma_mater_row = soup.find('th', text=lambda x: x and \"Alma\" in x)\n"
     ]
    },
    {
     "name": "stdout",
     "output_type": "stream",
     "text": [
      "[ DEBUG ] - Progress: 27.964426877470355%\n"
     ]
    },
    {
     "name": "stderr",
     "output_type": "stream",
     "text": [
      "C:\\Users\\zmorrato\\AppData\\Local\\Temp\\ipykernel_26412\\3563713887.py:21: DeprecationWarning: The 'text' argument to find()-type methods is deprecated. Use 'string' instead.\n",
      "  alma_mater_row = soup.find('th', text=lambda x: x and \"Alma\" in x)\n"
     ]
    },
    {
     "name": "stdout",
     "output_type": "stream",
     "text": [
      "[ DEBUG ] - Progress: 28.063241106719367%\n"
     ]
    },
    {
     "name": "stderr",
     "output_type": "stream",
     "text": [
      "C:\\Users\\zmorrato\\AppData\\Local\\Temp\\ipykernel_26412\\3563713887.py:21: DeprecationWarning: The 'text' argument to find()-type methods is deprecated. Use 'string' instead.\n",
      "  alma_mater_row = soup.find('th', text=lambda x: x and \"Alma\" in x)\n"
     ]
    },
    {
     "name": "stdout",
     "output_type": "stream",
     "text": [
      "[ DEBUG ] - Alma mater row not found for /wiki/Ernest_Hemingway\n",
      "[ DEBUG ] - Progress: 28.16205533596838%\n"
     ]
    },
    {
     "name": "stderr",
     "output_type": "stream",
     "text": [
      "C:\\Users\\zmorrato\\AppData\\Local\\Temp\\ipykernel_26412\\3563713887.py:21: DeprecationWarning: The 'text' argument to find()-type methods is deprecated. Use 'string' instead.\n",
      "  alma_mater_row = soup.find('th', text=lambda x: x and \"Alma\" in x)\n"
     ]
    },
    {
     "name": "stdout",
     "output_type": "stream",
     "text": [
      "[ DEBUG ] - Alma mater row not found for /wiki/United_Nations_High_Commissioner_for_Refugees\n",
      "[ DEBUG ] - Progress: 28.26086956521739%\n"
     ]
    },
    {
     "name": "stderr",
     "output_type": "stream",
     "text": [
      "C:\\Users\\zmorrato\\AppData\\Local\\Temp\\ipykernel_26412\\3563713887.py:21: DeprecationWarning: The 'text' argument to find()-type methods is deprecated. Use 'string' instead.\n",
      "  alma_mater_row = soup.find('th', text=lambda x: x and \"Alma\" in x)\n"
     ]
    },
    {
     "name": "stdout",
     "output_type": "stream",
     "text": [
      "[ DEBUG ] - Progress: 28.3596837944664%\n"
     ]
    },
    {
     "name": "stderr",
     "output_type": "stream",
     "text": [
      "C:\\Users\\zmorrato\\AppData\\Local\\Temp\\ipykernel_26412\\3563713887.py:21: DeprecationWarning: The 'text' argument to find()-type methods is deprecated. Use 'string' instead.\n",
      "  alma_mater_row = soup.find('th', text=lambda x: x and \"Alma\" in x)\n"
     ]
    },
    {
     "name": "stdout",
     "output_type": "stream",
     "text": [
      "[ DEBUG ] - Progress: 28.458498023715418%\n"
     ]
    },
    {
     "name": "stderr",
     "output_type": "stream",
     "text": [
      "C:\\Users\\zmorrato\\AppData\\Local\\Temp\\ipykernel_26412\\3563713887.py:21: DeprecationWarning: The 'text' argument to find()-type methods is deprecated. Use 'string' instead.\n",
      "  alma_mater_row = soup.find('th', text=lambda x: x and \"Alma\" in x)\n"
     ]
    },
    {
     "name": "stdout",
     "output_type": "stream",
     "text": [
      "[ DEBUG ] - Progress: 28.55731225296443%\n"
     ]
    },
    {
     "name": "stderr",
     "output_type": "stream",
     "text": [
      "C:\\Users\\zmorrato\\AppData\\Local\\Temp\\ipykernel_26412\\3563713887.py:21: DeprecationWarning: The 'text' argument to find()-type methods is deprecated. Use 'string' instead.\n",
      "  alma_mater_row = soup.find('th', text=lambda x: x and \"Alma\" in x)\n"
     ]
    },
    {
     "name": "stdout",
     "output_type": "stream",
     "text": [
      "[ DEBUG ] - Alma mater row not found for /wiki/Hugo_Theorell\n",
      "[ DEBUG ] - Progress: 28.65612648221344%\n"
     ]
    },
    {
     "name": "stderr",
     "output_type": "stream",
     "text": [
      "C:\\Users\\zmorrato\\AppData\\Local\\Temp\\ipykernel_26412\\3563713887.py:21: DeprecationWarning: The 'text' argument to find()-type methods is deprecated. Use 'string' instead.\n",
      "  alma_mater_row = soup.find('th', text=lambda x: x and \"Alma\" in x)\n"
     ]
    },
    {
     "name": "stdout",
     "output_type": "stream",
     "text": [
      "[ DEBUG ] - Alma mater row not found for /wiki/Halld%C3%B3r_Laxness\n",
      "[ DEBUG ] - Progress: 28.754940711462453%\n"
     ]
    },
    {
     "name": "stderr",
     "output_type": "stream",
     "text": [
      "C:\\Users\\zmorrato\\AppData\\Local\\Temp\\ipykernel_26412\\3563713887.py:21: DeprecationWarning: The 'text' argument to find()-type methods is deprecated. Use 'string' instead.\n",
      "  alma_mater_row = soup.find('th', text=lambda x: x and \"Alma\" in x)\n"
     ]
    },
    {
     "name": "stdout",
     "output_type": "stream",
     "text": [
      "[ DEBUG ] - Progress: 28.85375494071146%\n"
     ]
    },
    {
     "name": "stderr",
     "output_type": "stream",
     "text": [
      "C:\\Users\\zmorrato\\AppData\\Local\\Temp\\ipykernel_26412\\3563713887.py:21: DeprecationWarning: The 'text' argument to find()-type methods is deprecated. Use 'string' instead.\n",
      "  alma_mater_row = soup.find('th', text=lambda x: x and \"Alma\" in x)\n"
     ]
    },
    {
     "name": "stdout",
     "output_type": "stream",
     "text": [
      "[ DEBUG ] - Progress: 28.952569169960473%\n"
     ]
    },
    {
     "name": "stderr",
     "output_type": "stream",
     "text": [
      "C:\\Users\\zmorrato\\AppData\\Local\\Temp\\ipykernel_26412\\3563713887.py:21: DeprecationWarning: The 'text' argument to find()-type methods is deprecated. Use 'string' instead.\n",
      "  alma_mater_row = soup.find('th', text=lambda x: x and \"Alma\" in x)\n"
     ]
    },
    {
     "name": "stdout",
     "output_type": "stream",
     "text": [
      "[ DEBUG ] - Progress: 29.051383399209485%\n"
     ]
    },
    {
     "name": "stderr",
     "output_type": "stream",
     "text": [
      "C:\\Users\\zmorrato\\AppData\\Local\\Temp\\ipykernel_26412\\3563713887.py:21: DeprecationWarning: The 'text' argument to find()-type methods is deprecated. Use 'string' instead.\n",
      "  alma_mater_row = soup.find('th', text=lambda x: x and \"Alma\" in x)\n"
     ]
    },
    {
     "name": "stdout",
     "output_type": "stream",
     "text": [
      "[ DEBUG ] - Progress: 29.150197628458496%\n"
     ]
    },
    {
     "name": "stderr",
     "output_type": "stream",
     "text": [
      "C:\\Users\\zmorrato\\AppData\\Local\\Temp\\ipykernel_26412\\3563713887.py:21: DeprecationWarning: The 'text' argument to find()-type methods is deprecated. Use 'string' instead.\n",
      "  alma_mater_row = soup.find('th', text=lambda x: x and \"Alma\" in x)\n"
     ]
    },
    {
     "name": "stdout",
     "output_type": "stream",
     "text": [
      "[ DEBUG ] - Alma mater row not found for /wiki/Nikolay_Semyonov\n",
      "[ DEBUG ] - Progress: 29.249011857707508%\n"
     ]
    },
    {
     "name": "stderr",
     "output_type": "stream",
     "text": [
      "C:\\Users\\zmorrato\\AppData\\Local\\Temp\\ipykernel_26412\\3563713887.py:21: DeprecationWarning: The 'text' argument to find()-type methods is deprecated. Use 'string' instead.\n",
      "  alma_mater_row = soup.find('th', text=lambda x: x and \"Alma\" in x)\n"
     ]
    },
    {
     "name": "stdout",
     "output_type": "stream",
     "text": [
      "[ DEBUG ] - Progress: 29.347826086956523%\n"
     ]
    },
    {
     "name": "stderr",
     "output_type": "stream",
     "text": [
      "C:\\Users\\zmorrato\\AppData\\Local\\Temp\\ipykernel_26412\\3563713887.py:21: DeprecationWarning: The 'text' argument to find()-type methods is deprecated. Use 'string' instead.\n",
      "  alma_mater_row = soup.find('th', text=lambda x: x and \"Alma\" in x)\n"
     ]
    },
    {
     "name": "stdout",
     "output_type": "stream",
     "text": [
      "[ DEBUG ] - Progress: 29.446640316205535%\n"
     ]
    },
    {
     "name": "stderr",
     "output_type": "stream",
     "text": [
      "C:\\Users\\zmorrato\\AppData\\Local\\Temp\\ipykernel_26412\\3563713887.py:21: DeprecationWarning: The 'text' argument to find()-type methods is deprecated. Use 'string' instead.\n",
      "  alma_mater_row = soup.find('th', text=lambda x: x and \"Alma\" in x)\n"
     ]
    },
    {
     "name": "stdout",
     "output_type": "stream",
     "text": [
      "[ DEBUG ] - Progress: 29.545454545454547%\n"
     ]
    },
    {
     "name": "stderr",
     "output_type": "stream",
     "text": [
      "C:\\Users\\zmorrato\\AppData\\Local\\Temp\\ipykernel_26412\\3563713887.py:21: DeprecationWarning: The 'text' argument to find()-type methods is deprecated. Use 'string' instead.\n",
      "  alma_mater_row = soup.find('th', text=lambda x: x and \"Alma\" in x)\n"
     ]
    },
    {
     "name": "stdout",
     "output_type": "stream",
     "text": [
      "[ DEBUG ] - Alma mater row not found for /wiki/Juan_Ram%C3%B3n_Jim%C3%A9nez\n",
      "[ DEBUG ] - Progress: 29.64426877470356%\n"
     ]
    },
    {
     "name": "stderr",
     "output_type": "stream",
     "text": [
      "C:\\Users\\zmorrato\\AppData\\Local\\Temp\\ipykernel_26412\\3563713887.py:21: DeprecationWarning: The 'text' argument to find()-type methods is deprecated. Use 'string' instead.\n",
      "  alma_mater_row = soup.find('th', text=lambda x: x and \"Alma\" in x)\n"
     ]
    },
    {
     "name": "stdout",
     "output_type": "stream",
     "text": [
      "[ DEBUG ] - Progress: 29.74308300395257%\n"
     ]
    },
    {
     "name": "stderr",
     "output_type": "stream",
     "text": [
      "C:\\Users\\zmorrato\\AppData\\Local\\Temp\\ipykernel_26412\\3563713887.py:21: DeprecationWarning: The 'text' argument to find()-type methods is deprecated. Use 'string' instead.\n",
      "  alma_mater_row = soup.find('th', text=lambda x: x and \"Alma\" in x)\n"
     ]
    },
    {
     "name": "stdout",
     "output_type": "stream",
     "text": [
      "[ DEBUG ] - Progress: 29.841897233201582%\n"
     ]
    },
    {
     "name": "stderr",
     "output_type": "stream",
     "text": [
      "C:\\Users\\zmorrato\\AppData\\Local\\Temp\\ipykernel_26412\\3563713887.py:21: DeprecationWarning: The 'text' argument to find()-type methods is deprecated. Use 'string' instead.\n",
      "  alma_mater_row = soup.find('th', text=lambda x: x and \"Alma\" in x)\n"
     ]
    },
    {
     "name": "stdout",
     "output_type": "stream",
     "text": [
      "[ DEBUG ] - Progress: 29.940711462450594%\n"
     ]
    },
    {
     "name": "stderr",
     "output_type": "stream",
     "text": [
      "C:\\Users\\zmorrato\\AppData\\Local\\Temp\\ipykernel_26412\\3563713887.py:21: DeprecationWarning: The 'text' argument to find()-type methods is deprecated. Use 'string' instead.\n",
      "  alma_mater_row = soup.find('th', text=lambda x: x and \"Alma\" in x)\n"
     ]
    },
    {
     "name": "stdout",
     "output_type": "stream",
     "text": [
      "[ DEBUG ] - Alma mater row not found for /wiki/Daniel_Bovet\n",
      "[ DEBUG ] - Progress: 30.039525691699602%\n"
     ]
    },
    {
     "name": "stderr",
     "output_type": "stream",
     "text": [
      "C:\\Users\\zmorrato\\AppData\\Local\\Temp\\ipykernel_26412\\3563713887.py:21: DeprecationWarning: The 'text' argument to find()-type methods is deprecated. Use 'string' instead.\n",
      "  alma_mater_row = soup.find('th', text=lambda x: x and \"Alma\" in x)\n"
     ]
    },
    {
     "name": "stdout",
     "output_type": "stream",
     "text": [
      "[ DEBUG ] - Progress: 30.138339920948614%\n"
     ]
    },
    {
     "name": "stderr",
     "output_type": "stream",
     "text": [
      "C:\\Users\\zmorrato\\AppData\\Local\\Temp\\ipykernel_26412\\3563713887.py:21: DeprecationWarning: The 'text' argument to find()-type methods is deprecated. Use 'string' instead.\n",
      "  alma_mater_row = soup.find('th', text=lambda x: x and \"Alma\" in x)\n"
     ]
    },
    {
     "name": "stdout",
     "output_type": "stream",
     "text": [
      "[ DEBUG ] - Alma mater row not found for /wiki/Lester_B._Pearson\n",
      "[ DEBUG ] - Progress: 30.237154150197625%\n"
     ]
    },
    {
     "name": "stderr",
     "output_type": "stream",
     "text": [
      "C:\\Users\\zmorrato\\AppData\\Local\\Temp\\ipykernel_26412\\3563713887.py:21: DeprecationWarning: The 'text' argument to find()-type methods is deprecated. Use 'string' instead.\n",
      "  alma_mater_row = soup.find('th', text=lambda x: x and \"Alma\" in x)\n"
     ]
    },
    {
     "name": "stdout",
     "output_type": "stream",
     "text": [
      "[ DEBUG ] - Progress: 30.335968379446644%\n"
     ]
    },
    {
     "name": "stderr",
     "output_type": "stream",
     "text": [
      "C:\\Users\\zmorrato\\AppData\\Local\\Temp\\ipykernel_26412\\3563713887.py:21: DeprecationWarning: The 'text' argument to find()-type methods is deprecated. Use 'string' instead.\n",
      "  alma_mater_row = soup.find('th', text=lambda x: x and \"Alma\" in x)\n"
     ]
    },
    {
     "name": "stdout",
     "output_type": "stream",
     "text": [
      "[ DEBUG ] - Progress: 30.434782608695656%\n"
     ]
    },
    {
     "name": "stderr",
     "output_type": "stream",
     "text": [
      "C:\\Users\\zmorrato\\AppData\\Local\\Temp\\ipykernel_26412\\3563713887.py:21: DeprecationWarning: The 'text' argument to find()-type methods is deprecated. Use 'string' instead.\n",
      "  alma_mater_row = soup.find('th', text=lambda x: x and \"Alma\" in x)\n"
     ]
    },
    {
     "name": "stdout",
     "output_type": "stream",
     "text": [
      "[ DEBUG ] - Progress: 30.533596837944664%\n"
     ]
    },
    {
     "name": "stderr",
     "output_type": "stream",
     "text": [
      "C:\\Users\\zmorrato\\AppData\\Local\\Temp\\ipykernel_26412\\3563713887.py:21: DeprecationWarning: The 'text' argument to find()-type methods is deprecated. Use 'string' instead.\n",
      "  alma_mater_row = soup.find('th', text=lambda x: x and \"Alma\" in x)\n"
     ]
    },
    {
     "name": "stdout",
     "output_type": "stream",
     "text": [
      "[ DEBUG ] - Progress: 30.632411067193676%\n"
     ]
    },
    {
     "name": "stderr",
     "output_type": "stream",
     "text": [
      "C:\\Users\\zmorrato\\AppData\\Local\\Temp\\ipykernel_26412\\3563713887.py:21: DeprecationWarning: The 'text' argument to find()-type methods is deprecated. Use 'string' instead.\n",
      "  alma_mater_row = soup.find('th', text=lambda x: x and \"Alma\" in x)\n"
     ]
    },
    {
     "name": "stdout",
     "output_type": "stream",
     "text": [
      "[ DEBUG ] - Progress: 30.731225296442688%\n"
     ]
    },
    {
     "name": "stderr",
     "output_type": "stream",
     "text": [
      "C:\\Users\\zmorrato\\AppData\\Local\\Temp\\ipykernel_26412\\3563713887.py:21: DeprecationWarning: The 'text' argument to find()-type methods is deprecated. Use 'string' instead.\n",
      "  alma_mater_row = soup.find('th', text=lambda x: x and \"Alma\" in x)\n"
     ]
    },
    {
     "name": "stdout",
     "output_type": "stream",
     "text": [
      "[ DEBUG ] - Progress: 30.8300395256917%\n"
     ]
    },
    {
     "name": "stderr",
     "output_type": "stream",
     "text": [
      "C:\\Users\\zmorrato\\AppData\\Local\\Temp\\ipykernel_26412\\3563713887.py:21: DeprecationWarning: The 'text' argument to find()-type methods is deprecated. Use 'string' instead.\n",
      "  alma_mater_row = soup.find('th', text=lambda x: x and \"Alma\" in x)\n"
     ]
    },
    {
     "name": "stdout",
     "output_type": "stream",
     "text": [
      "[ DEBUG ] - Progress: 30.92885375494071%\n"
     ]
    },
    {
     "name": "stderr",
     "output_type": "stream",
     "text": [
      "C:\\Users\\zmorrato\\AppData\\Local\\Temp\\ipykernel_26412\\3563713887.py:21: DeprecationWarning: The 'text' argument to find()-type methods is deprecated. Use 'string' instead.\n",
      "  alma_mater_row = soup.find('th', text=lambda x: x and \"Alma\" in x)\n"
     ]
    },
    {
     "name": "stdout",
     "output_type": "stream",
     "text": [
      "[ DEBUG ] - Alma mater row not found for /wiki/Boris_Pasternak\n",
      "[ DEBUG ] - Progress: 31.027667984189723%\n"
     ]
    },
    {
     "name": "stderr",
     "output_type": "stream",
     "text": [
      "C:\\Users\\zmorrato\\AppData\\Local\\Temp\\ipykernel_26412\\3563713887.py:21: DeprecationWarning: The 'text' argument to find()-type methods is deprecated. Use 'string' instead.\n",
      "  alma_mater_row = soup.find('th', text=lambda x: x and \"Alma\" in x)\n"
     ]
    },
    {
     "name": "stdout",
     "output_type": "stream",
     "text": [
      "[ DEBUG ] - Progress: 31.126482213438734%\n"
     ]
    },
    {
     "name": "stderr",
     "output_type": "stream",
     "text": [
      "C:\\Users\\zmorrato\\AppData\\Local\\Temp\\ipykernel_26412\\3563713887.py:21: DeprecationWarning: The 'text' argument to find()-type methods is deprecated. Use 'string' instead.\n",
      "  alma_mater_row = soup.find('th', text=lambda x: x and \"Alma\" in x)\n"
     ]
    },
    {
     "name": "stdout",
     "output_type": "stream",
     "text": [
      "[ DEBUG ] - Progress: 31.225296442687743%\n"
     ]
    },
    {
     "name": "stderr",
     "output_type": "stream",
     "text": [
      "C:\\Users\\zmorrato\\AppData\\Local\\Temp\\ipykernel_26412\\3563713887.py:21: DeprecationWarning: The 'text' argument to find()-type methods is deprecated. Use 'string' instead.\n",
      "  alma_mater_row = soup.find('th', text=lambda x: x and \"Alma\" in x)\n"
     ]
    },
    {
     "name": "stdout",
     "output_type": "stream",
     "text": [
      "[ DEBUG ] - Progress: 31.32411067193676%\n"
     ]
    },
    {
     "name": "stderr",
     "output_type": "stream",
     "text": [
      "C:\\Users\\zmorrato\\AppData\\Local\\Temp\\ipykernel_26412\\3563713887.py:21: DeprecationWarning: The 'text' argument to find()-type methods is deprecated. Use 'string' instead.\n",
      "  alma_mater_row = soup.find('th', text=lambda x: x and \"Alma\" in x)\n"
     ]
    },
    {
     "name": "stdout",
     "output_type": "stream",
     "text": [
      "[ DEBUG ] - Progress: 31.422924901185773%\n"
     ]
    },
    {
     "name": "stderr",
     "output_type": "stream",
     "text": [
      "C:\\Users\\zmorrato\\AppData\\Local\\Temp\\ipykernel_26412\\3563713887.py:21: DeprecationWarning: The 'text' argument to find()-type methods is deprecated. Use 'string' instead.\n",
      "  alma_mater_row = soup.find('th', text=lambda x: x and \"Alma\" in x)\n"
     ]
    },
    {
     "name": "stdout",
     "output_type": "stream",
     "text": [
      "[ DEBUG ] - Progress: 31.521739130434785%\n"
     ]
    },
    {
     "name": "stderr",
     "output_type": "stream",
     "text": [
      "C:\\Users\\zmorrato\\AppData\\Local\\Temp\\ipykernel_26412\\3563713887.py:21: DeprecationWarning: The 'text' argument to find()-type methods is deprecated. Use 'string' instead.\n",
      "  alma_mater_row = soup.find('th', text=lambda x: x and \"Alma\" in x)\n"
     ]
    },
    {
     "name": "stdout",
     "output_type": "stream",
     "text": [
      "[ DEBUG ] - Alma mater row not found for /wiki/Severo_Ochoa\n",
      "[ DEBUG ] - Progress: 31.620553359683797%\n"
     ]
    },
    {
     "name": "stderr",
     "output_type": "stream",
     "text": [
      "C:\\Users\\zmorrato\\AppData\\Local\\Temp\\ipykernel_26412\\3563713887.py:21: DeprecationWarning: The 'text' argument to find()-type methods is deprecated. Use 'string' instead.\n",
      "  alma_mater_row = soup.find('th', text=lambda x: x and \"Alma\" in x)\n"
     ]
    },
    {
     "name": "stdout",
     "output_type": "stream",
     "text": [
      "[ DEBUG ] - Alma mater row not found for /wiki/Salvatore_Quasimodo\n",
      "[ DEBUG ] - Progress: 31.719367588932805%\n"
     ]
    },
    {
     "name": "stderr",
     "output_type": "stream",
     "text": [
      "C:\\Users\\zmorrato\\AppData\\Local\\Temp\\ipykernel_26412\\3563713887.py:21: DeprecationWarning: The 'text' argument to find()-type methods is deprecated. Use 'string' instead.\n",
      "  alma_mater_row = soup.find('th', text=lambda x: x and \"Alma\" in x)\n"
     ]
    },
    {
     "name": "stdout",
     "output_type": "stream",
     "text": [
      "[ DEBUG ] - Progress: 31.818181818181817%\n"
     ]
    },
    {
     "name": "stderr",
     "output_type": "stream",
     "text": [
      "C:\\Users\\zmorrato\\AppData\\Local\\Temp\\ipykernel_26412\\3563713887.py:21: DeprecationWarning: The 'text' argument to find()-type methods is deprecated. Use 'string' instead.\n",
      "  alma_mater_row = soup.find('th', text=lambda x: x and \"Alma\" in x)\n"
     ]
    },
    {
     "name": "stdout",
     "output_type": "stream",
     "text": [
      "[ DEBUG ] - Progress: 31.91699604743083%\n"
     ]
    },
    {
     "name": "stderr",
     "output_type": "stream",
     "text": [
      "C:\\Users\\zmorrato\\AppData\\Local\\Temp\\ipykernel_26412\\3563713887.py:21: DeprecationWarning: The 'text' argument to find()-type methods is deprecated. Use 'string' instead.\n",
      "  alma_mater_row = soup.find('th', text=lambda x: x and \"Alma\" in x)\n"
     ]
    },
    {
     "name": "stdout",
     "output_type": "stream",
     "text": [
      "[ DEBUG ] - Alma mater row not found for /wiki/Willard_Libby\n",
      "[ DEBUG ] - Progress: 32.015810276679844%\n"
     ]
    },
    {
     "name": "stderr",
     "output_type": "stream",
     "text": [
      "C:\\Users\\zmorrato\\AppData\\Local\\Temp\\ipykernel_26412\\3563713887.py:21: DeprecationWarning: The 'text' argument to find()-type methods is deprecated. Use 'string' instead.\n",
      "  alma_mater_row = soup.find('th', text=lambda x: x and \"Alma\" in x)\n"
     ]
    },
    {
     "name": "stdout",
     "output_type": "stream",
     "text": [
      "[ DEBUG ] - Progress: 32.11462450592885%\n"
     ]
    },
    {
     "name": "stderr",
     "output_type": "stream",
     "text": [
      "C:\\Users\\zmorrato\\AppData\\Local\\Temp\\ipykernel_26412\\3563713887.py:21: DeprecationWarning: The 'text' argument to find()-type methods is deprecated. Use 'string' instead.\n",
      "  alma_mater_row = soup.find('th', text=lambda x: x and \"Alma\" in x)\n"
     ]
    },
    {
     "name": "stdout",
     "output_type": "stream",
     "text": [
      "[ DEBUG ] - Alma mater row not found for /wiki/Peter_Medawar\n",
      "[ DEBUG ] - Progress: 32.21343873517787%\n"
     ]
    },
    {
     "name": "stderr",
     "output_type": "stream",
     "text": [
      "C:\\Users\\zmorrato\\AppData\\Local\\Temp\\ipykernel_26412\\3563713887.py:21: DeprecationWarning: The 'text' argument to find()-type methods is deprecated. Use 'string' instead.\n",
      "  alma_mater_row = soup.find('th', text=lambda x: x and \"Alma\" in x)\n"
     ]
    },
    {
     "name": "stdout",
     "output_type": "stream",
     "text": [
      "[ DEBUG ] - Progress: 32.31225296442688%\n"
     ]
    },
    {
     "name": "stderr",
     "output_type": "stream",
     "text": [
      "C:\\Users\\zmorrato\\AppData\\Local\\Temp\\ipykernel_26412\\3563713887.py:21: DeprecationWarning: The 'text' argument to find()-type methods is deprecated. Use 'string' instead.\n",
      "  alma_mater_row = soup.find('th', text=lambda x: x and \"Alma\" in x)\n"
     ]
    },
    {
     "name": "stdout",
     "output_type": "stream",
     "text": [
      "[ DEBUG ] - Progress: 32.41106719367589%\n"
     ]
    },
    {
     "name": "stderr",
     "output_type": "stream",
     "text": [
      "C:\\Users\\zmorrato\\AppData\\Local\\Temp\\ipykernel_26412\\3563713887.py:21: DeprecationWarning: The 'text' argument to find()-type methods is deprecated. Use 'string' instead.\n",
      "  alma_mater_row = soup.find('th', text=lambda x: x and \"Alma\" in x)\n"
     ]
    },
    {
     "name": "stdout",
     "output_type": "stream",
     "text": [
      "[ DEBUG ] - Progress: 32.509881422924906%\n"
     ]
    },
    {
     "name": "stderr",
     "output_type": "stream",
     "text": [
      "C:\\Users\\zmorrato\\AppData\\Local\\Temp\\ipykernel_26412\\3563713887.py:21: DeprecationWarning: The 'text' argument to find()-type methods is deprecated. Use 'string' instead.\n",
      "  alma_mater_row = soup.find('th', text=lambda x: x and \"Alma\" in x)\n"
     ]
    },
    {
     "name": "stdout",
     "output_type": "stream",
     "text": [
      "[ DEBUG ] - Progress: 32.608695652173914%\n"
     ]
    },
    {
     "name": "stderr",
     "output_type": "stream",
     "text": [
      "C:\\Users\\zmorrato\\AppData\\Local\\Temp\\ipykernel_26412\\3563713887.py:21: DeprecationWarning: The 'text' argument to find()-type methods is deprecated. Use 'string' instead.\n",
      "  alma_mater_row = soup.find('th', text=lambda x: x and \"Alma\" in x)\n"
     ]
    },
    {
     "name": "stdout",
     "output_type": "stream",
     "text": [
      "[ DEBUG ] - Progress: 32.70750988142292%\n"
     ]
    },
    {
     "name": "stderr",
     "output_type": "stream",
     "text": [
      "C:\\Users\\zmorrato\\AppData\\Local\\Temp\\ipykernel_26412\\3563713887.py:21: DeprecationWarning: The 'text' argument to find()-type methods is deprecated. Use 'string' instead.\n",
      "  alma_mater_row = soup.find('th', text=lambda x: x and \"Alma\" in x)\n"
     ]
    },
    {
     "name": "stdout",
     "output_type": "stream",
     "text": [
      "[ DEBUG ] - Alma mater row not found for /wiki/Georg_von_B%C3%A9k%C3%A9sy\n",
      "[ DEBUG ] - Progress: 32.80632411067194%\n"
     ]
    },
    {
     "name": "stderr",
     "output_type": "stream",
     "text": [
      "C:\\Users\\zmorrato\\AppData\\Local\\Temp\\ipykernel_26412\\3563713887.py:21: DeprecationWarning: The 'text' argument to find()-type methods is deprecated. Use 'string' instead.\n",
      "  alma_mater_row = soup.find('th', text=lambda x: x and \"Alma\" in x)\n"
     ]
    },
    {
     "name": "stdout",
     "output_type": "stream",
     "text": [
      "[ DEBUG ] - Progress: 32.905138339920946%\n"
     ]
    },
    {
     "name": "stderr",
     "output_type": "stream",
     "text": [
      "C:\\Users\\zmorrato\\AppData\\Local\\Temp\\ipykernel_26412\\3563713887.py:21: DeprecationWarning: The 'text' argument to find()-type methods is deprecated. Use 'string' instead.\n",
      "  alma_mater_row = soup.find('th', text=lambda x: x and \"Alma\" in x)\n"
     ]
    },
    {
     "name": "stdout",
     "output_type": "stream",
     "text": [
      "[ DEBUG ] - Progress: 33.00395256916996%\n"
     ]
    },
    {
     "name": "stderr",
     "output_type": "stream",
     "text": [
      "C:\\Users\\zmorrato\\AppData\\Local\\Temp\\ipykernel_26412\\3563713887.py:21: DeprecationWarning: The 'text' argument to find()-type methods is deprecated. Use 'string' instead.\n",
      "  alma_mater_row = soup.find('th', text=lambda x: x and \"Alma\" in x)\n"
     ]
    },
    {
     "name": "stdout",
     "output_type": "stream",
     "text": [
      "[ DEBUG ] - Progress: 33.10276679841897%\n"
     ]
    },
    {
     "name": "stderr",
     "output_type": "stream",
     "text": [
      "C:\\Users\\zmorrato\\AppData\\Local\\Temp\\ipykernel_26412\\3563713887.py:21: DeprecationWarning: The 'text' argument to find()-type methods is deprecated. Use 'string' instead.\n",
      "  alma_mater_row = soup.find('th', text=lambda x: x and \"Alma\" in x)\n"
     ]
    },
    {
     "name": "stdout",
     "output_type": "stream",
     "text": [
      "[ DEBUG ] - Progress: 33.201581027667984%\n"
     ]
    },
    {
     "name": "stderr",
     "output_type": "stream",
     "text": [
      "C:\\Users\\zmorrato\\AppData\\Local\\Temp\\ipykernel_26412\\3563713887.py:21: DeprecationWarning: The 'text' argument to find()-type methods is deprecated. Use 'string' instead.\n",
      "  alma_mater_row = soup.find('th', text=lambda x: x and \"Alma\" in x)\n"
     ]
    },
    {
     "name": "stdout",
     "output_type": "stream",
     "text": [
      "[ DEBUG ] - Progress: 33.300395256917%\n"
     ]
    },
    {
     "name": "stderr",
     "output_type": "stream",
     "text": [
      "C:\\Users\\zmorrato\\AppData\\Local\\Temp\\ipykernel_26412\\3563713887.py:21: DeprecationWarning: The 'text' argument to find()-type methods is deprecated. Use 'string' instead.\n",
      "  alma_mater_row = soup.find('th', text=lambda x: x and \"Alma\" in x)\n"
     ]
    },
    {
     "name": "stdout",
     "output_type": "stream",
     "text": [
      "[ DEBUG ] - Progress: 33.39920948616601%\n"
     ]
    },
    {
     "name": "stderr",
     "output_type": "stream",
     "text": [
      "C:\\Users\\zmorrato\\AppData\\Local\\Temp\\ipykernel_26412\\3563713887.py:21: DeprecationWarning: The 'text' argument to find()-type methods is deprecated. Use 'string' instead.\n",
      "  alma_mater_row = soup.find('th', text=lambda x: x and \"Alma\" in x)\n"
     ]
    },
    {
     "name": "stdout",
     "output_type": "stream",
     "text": [
      "[ DEBUG ] - Progress: 33.49802371541502%\n"
     ]
    },
    {
     "name": "stderr",
     "output_type": "stream",
     "text": [
      "C:\\Users\\zmorrato\\AppData\\Local\\Temp\\ipykernel_26412\\3563713887.py:21: DeprecationWarning: The 'text' argument to find()-type methods is deprecated. Use 'string' instead.\n",
      "  alma_mater_row = soup.find('th', text=lambda x: x and \"Alma\" in x)\n"
     ]
    },
    {
     "name": "stdout",
     "output_type": "stream",
     "text": [
      "[ DEBUG ] - Progress: 33.59683794466403%\n"
     ]
    },
    {
     "name": "stderr",
     "output_type": "stream",
     "text": [
      "C:\\Users\\zmorrato\\AppData\\Local\\Temp\\ipykernel_26412\\3563713887.py:21: DeprecationWarning: The 'text' argument to find()-type methods is deprecated. Use 'string' instead.\n",
      "  alma_mater_row = soup.find('th', text=lambda x: x and \"Alma\" in x)\n"
     ]
    },
    {
     "name": "stdout",
     "output_type": "stream",
     "text": [
      "[ DEBUG ] - Alma mater row not found for /wiki/John_Steinbeck\n",
      "[ DEBUG ] - Progress: 33.69565217391305%\n"
     ]
    },
    {
     "name": "stderr",
     "output_type": "stream",
     "text": [
      "C:\\Users\\zmorrato\\AppData\\Local\\Temp\\ipykernel_26412\\3563713887.py:21: DeprecationWarning: The 'text' argument to find()-type methods is deprecated. Use 'string' instead.\n",
      "  alma_mater_row = soup.find('th', text=lambda x: x and \"Alma\" in x)\n"
     ]
    },
    {
     "name": "stdout",
     "output_type": "stream",
     "text": [
      "[ DEBUG ] - Alma mater row not found for /wiki/Linus_Pauling\n",
      "[ DEBUG ] - Progress: 33.794466403162055%\n"
     ]
    },
    {
     "name": "stderr",
     "output_type": "stream",
     "text": [
      "C:\\Users\\zmorrato\\AppData\\Local\\Temp\\ipykernel_26412\\3563713887.py:21: DeprecationWarning: The 'text' argument to find()-type methods is deprecated. Use 'string' instead.\n",
      "  alma_mater_row = soup.find('th', text=lambda x: x and \"Alma\" in x)\n"
     ]
    },
    {
     "name": "stdout",
     "output_type": "stream",
     "text": [
      "[ DEBUG ] - Progress: 33.89328063241106%\n"
     ]
    },
    {
     "name": "stderr",
     "output_type": "stream",
     "text": [
      "C:\\Users\\zmorrato\\AppData\\Local\\Temp\\ipykernel_26412\\3563713887.py:21: DeprecationWarning: The 'text' argument to find()-type methods is deprecated. Use 'string' instead.\n",
      "  alma_mater_row = soup.find('th', text=lambda x: x and \"Alma\" in x)\n"
     ]
    },
    {
     "name": "stdout",
     "output_type": "stream",
     "text": [
      "[ DEBUG ] - Progress: 33.99209486166008%\n"
     ]
    },
    {
     "name": "stderr",
     "output_type": "stream",
     "text": [
      "C:\\Users\\zmorrato\\AppData\\Local\\Temp\\ipykernel_26412\\3563713887.py:21: DeprecationWarning: The 'text' argument to find()-type methods is deprecated. Use 'string' instead.\n",
      "  alma_mater_row = soup.find('th', text=lambda x: x and \"Alma\" in x)\n"
     ]
    },
    {
     "name": "stdout",
     "output_type": "stream",
     "text": [
      "[ DEBUG ] - Progress: 34.090909090909086%\n"
     ]
    },
    {
     "name": "stderr",
     "output_type": "stream",
     "text": [
      "C:\\Users\\zmorrato\\AppData\\Local\\Temp\\ipykernel_26412\\3563713887.py:21: DeprecationWarning: The 'text' argument to find()-type methods is deprecated. Use 'string' instead.\n",
      "  alma_mater_row = soup.find('th', text=lambda x: x and \"Alma\" in x)\n"
     ]
    },
    {
     "name": "stdout",
     "output_type": "stream",
     "text": [
      "[ DEBUG ] - Progress: 34.18972332015811%\n"
     ]
    },
    {
     "name": "stderr",
     "output_type": "stream",
     "text": [
      "C:\\Users\\zmorrato\\AppData\\Local\\Temp\\ipykernel_26412\\3563713887.py:21: DeprecationWarning: The 'text' argument to find()-type methods is deprecated. Use 'string' instead.\n",
      "  alma_mater_row = soup.find('th', text=lambda x: x and \"Alma\" in x)\n"
     ]
    },
    {
     "name": "stdout",
     "output_type": "stream",
     "text": [
      "[ DEBUG ] - Progress: 34.28853754940712%\n"
     ]
    },
    {
     "name": "stderr",
     "output_type": "stream",
     "text": [
      "C:\\Users\\zmorrato\\AppData\\Local\\Temp\\ipykernel_26412\\3563713887.py:21: DeprecationWarning: The 'text' argument to find()-type methods is deprecated. Use 'string' instead.\n",
      "  alma_mater_row = soup.find('th', text=lambda x: x and \"Alma\" in x)\n"
     ]
    },
    {
     "name": "stdout",
     "output_type": "stream",
     "text": [
      "[ DEBUG ] - Progress: 34.387351778656125%\n"
     ]
    },
    {
     "name": "stderr",
     "output_type": "stream",
     "text": [
      "C:\\Users\\zmorrato\\AppData\\Local\\Temp\\ipykernel_26412\\3563713887.py:21: DeprecationWarning: The 'text' argument to find()-type methods is deprecated. Use 'string' instead.\n",
      "  alma_mater_row = soup.find('th', text=lambda x: x and \"Alma\" in x)\n"
     ]
    },
    {
     "name": "stdout",
     "output_type": "stream",
     "text": [
      "[ DEBUG ] - Progress: 34.48616600790514%\n"
     ]
    },
    {
     "name": "stderr",
     "output_type": "stream",
     "text": [
      "C:\\Users\\zmorrato\\AppData\\Local\\Temp\\ipykernel_26412\\3563713887.py:21: DeprecationWarning: The 'text' argument to find()-type methods is deprecated. Use 'string' instead.\n",
      "  alma_mater_row = soup.find('th', text=lambda x: x and \"Alma\" in x)\n"
     ]
    },
    {
     "name": "stdout",
     "output_type": "stream",
     "text": [
      "[ DEBUG ] - Progress: 34.58498023715415%\n"
     ]
    },
    {
     "name": "stderr",
     "output_type": "stream",
     "text": [
      "C:\\Users\\zmorrato\\AppData\\Local\\Temp\\ipykernel_26412\\3563713887.py:21: DeprecationWarning: The 'text' argument to find()-type methods is deprecated. Use 'string' instead.\n",
      "  alma_mater_row = soup.find('th', text=lambda x: x and \"Alma\" in x)\n"
     ]
    },
    {
     "name": "stdout",
     "output_type": "stream",
     "text": [
      "[ DEBUG ] - Progress: 34.683794466403164%\n"
     ]
    },
    {
     "name": "stderr",
     "output_type": "stream",
     "text": [
      "C:\\Users\\zmorrato\\AppData\\Local\\Temp\\ipykernel_26412\\3563713887.py:21: DeprecationWarning: The 'text' argument to find()-type methods is deprecated. Use 'string' instead.\n",
      "  alma_mater_row = soup.find('th', text=lambda x: x and \"Alma\" in x)\n"
     ]
    },
    {
     "name": "stdout",
     "output_type": "stream",
     "text": [
      "[ DEBUG ] - Alma mater row not found for /wiki/International_Committee_of_the_Red_Cross\n",
      "[ DEBUG ] - Progress: 34.78260869565217%\n"
     ]
    },
    {
     "name": "stderr",
     "output_type": "stream",
     "text": [
      "C:\\Users\\zmorrato\\AppData\\Local\\Temp\\ipykernel_26412\\3563713887.py:21: DeprecationWarning: The 'text' argument to find()-type methods is deprecated. Use 'string' instead.\n",
      "  alma_mater_row = soup.find('th', text=lambda x: x and \"Alma\" in x)\n"
     ]
    },
    {
     "name": "stdout",
     "output_type": "stream",
     "text": [
      "[ DEBUG ] - Alma mater row not found for /wiki/International_Federation_of_Red_Cross_and_Red_Crescent_Societies\n",
      "[ DEBUG ] - Progress: 34.88142292490119%\n"
     ]
    },
    {
     "name": "stderr",
     "output_type": "stream",
     "text": [
      "C:\\Users\\zmorrato\\AppData\\Local\\Temp\\ipykernel_26412\\3563713887.py:21: DeprecationWarning: The 'text' argument to find()-type methods is deprecated. Use 'string' instead.\n",
      "  alma_mater_row = soup.find('th', text=lambda x: x and \"Alma\" in x)\n"
     ]
    },
    {
     "name": "stdout",
     "output_type": "stream",
     "text": [
      "[ DEBUG ] - Progress: 34.980237154150196%\n"
     ]
    },
    {
     "name": "stderr",
     "output_type": "stream",
     "text": [
      "C:\\Users\\zmorrato\\AppData\\Local\\Temp\\ipykernel_26412\\3563713887.py:21: DeprecationWarning: The 'text' argument to find()-type methods is deprecated. Use 'string' instead.\n",
      "  alma_mater_row = soup.find('th', text=lambda x: x and \"Alma\" in x)\n"
     ]
    },
    {
     "name": "stdout",
     "output_type": "stream",
     "text": [
      "[ DEBUG ] - Progress: 35.079051383399204%\n"
     ]
    },
    {
     "name": "stderr",
     "output_type": "stream",
     "text": [
      "C:\\Users\\zmorrato\\AppData\\Local\\Temp\\ipykernel_26412\\3563713887.py:21: DeprecationWarning: The 'text' argument to find()-type methods is deprecated. Use 'string' instead.\n",
      "  alma_mater_row = soup.find('th', text=lambda x: x and \"Alma\" in x)\n"
     ]
    },
    {
     "name": "stdout",
     "output_type": "stream",
     "text": [
      "[ DEBUG ] - Alma mater row not found for /wiki/Alexander_Prokhorov\n",
      "[ DEBUG ] - Progress: 35.177865612648226%\n"
     ]
    },
    {
     "name": "stderr",
     "output_type": "stream",
     "text": [
      "C:\\Users\\zmorrato\\AppData\\Local\\Temp\\ipykernel_26412\\3563713887.py:21: DeprecationWarning: The 'text' argument to find()-type methods is deprecated. Use 'string' instead.\n",
      "  alma_mater_row = soup.find('th', text=lambda x: x and \"Alma\" in x)\n"
     ]
    },
    {
     "name": "stdout",
     "output_type": "stream",
     "text": [
      "[ DEBUG ] - Progress: 35.276679841897234%\n"
     ]
    },
    {
     "name": "stderr",
     "output_type": "stream",
     "text": [
      "C:\\Users\\zmorrato\\AppData\\Local\\Temp\\ipykernel_26412\\3563713887.py:21: DeprecationWarning: The 'text' argument to find()-type methods is deprecated. Use 'string' instead.\n",
      "  alma_mater_row = soup.find('th', text=lambda x: x and \"Alma\" in x)\n"
     ]
    },
    {
     "name": "stdout",
     "output_type": "stream",
     "text": [
      "[ DEBUG ] - Alma mater row not found for /wiki/Konrad_Emil_Bloch\n",
      "[ DEBUG ] - Progress: 35.37549407114625%\n"
     ]
    },
    {
     "name": "stderr",
     "output_type": "stream",
     "text": [
      "C:\\Users\\zmorrato\\AppData\\Local\\Temp\\ipykernel_26412\\3563713887.py:21: DeprecationWarning: The 'text' argument to find()-type methods is deprecated. Use 'string' instead.\n",
      "  alma_mater_row = soup.find('th', text=lambda x: x and \"Alma\" in x)\n"
     ]
    },
    {
     "name": "stdout",
     "output_type": "stream",
     "text": [
      "[ DEBUG ] - Alma mater row not found for /wiki/Feodor_Lynen\n",
      "[ DEBUG ] - Progress: 35.47430830039526%\n"
     ]
    },
    {
     "name": "stderr",
     "output_type": "stream",
     "text": [
      "C:\\Users\\zmorrato\\AppData\\Local\\Temp\\ipykernel_26412\\3563713887.py:21: DeprecationWarning: The 'text' argument to find()-type methods is deprecated. Use 'string' instead.\n",
      "  alma_mater_row = soup.find('th', text=lambda x: x and \"Alma\" in x)\n"
     ]
    },
    {
     "name": "stdout",
     "output_type": "stream",
     "text": [
      "[ DEBUG ] - Alma mater row not found for /wiki/Jean-Paul_Sartre\n",
      "[ DEBUG ] - Progress: 35.573122529644266%\n"
     ]
    },
    {
     "name": "stderr",
     "output_type": "stream",
     "text": [
      "C:\\Users\\zmorrato\\AppData\\Local\\Temp\\ipykernel_26412\\3563713887.py:21: DeprecationWarning: The 'text' argument to find()-type methods is deprecated. Use 'string' instead.\n",
      "  alma_mater_row = soup.find('th', text=lambda x: x and \"Alma\" in x)\n"
     ]
    },
    {
     "name": "stdout",
     "output_type": "stream",
     "text": [
      "[ DEBUG ] - Alma mater row not found for /wiki/Martin_Luther_King_Jr.\n",
      "[ DEBUG ] - Progress: 35.67193675889328%\n"
     ]
    },
    {
     "name": "stderr",
     "output_type": "stream",
     "text": [
      "C:\\Users\\zmorrato\\AppData\\Local\\Temp\\ipykernel_26412\\3563713887.py:21: DeprecationWarning: The 'text' argument to find()-type methods is deprecated. Use 'string' instead.\n",
      "  alma_mater_row = soup.find('th', text=lambda x: x and \"Alma\" in x)\n"
     ]
    },
    {
     "name": "stdout",
     "output_type": "stream",
     "text": [
      "[ DEBUG ] - Progress: 35.77075098814229%\n"
     ]
    },
    {
     "name": "stderr",
     "output_type": "stream",
     "text": [
      "C:\\Users\\zmorrato\\AppData\\Local\\Temp\\ipykernel_26412\\3563713887.py:21: DeprecationWarning: The 'text' argument to find()-type methods is deprecated. Use 'string' instead.\n",
      "  alma_mater_row = soup.find('th', text=lambda x: x and \"Alma\" in x)\n"
     ]
    },
    {
     "name": "stdout",
     "output_type": "stream",
     "text": [
      "[ DEBUG ] - Progress: 35.869565217391305%\n"
     ]
    },
    {
     "name": "stderr",
     "output_type": "stream",
     "text": [
      "C:\\Users\\zmorrato\\AppData\\Local\\Temp\\ipykernel_26412\\3563713887.py:21: DeprecationWarning: The 'text' argument to find()-type methods is deprecated. Use 'string' instead.\n",
      "  alma_mater_row = soup.find('th', text=lambda x: x and \"Alma\" in x)\n"
     ]
    },
    {
     "name": "stdout",
     "output_type": "stream",
     "text": [
      "[ DEBUG ] - Alma mater row not found for /wiki/Richard_Feynman\n",
      "[ DEBUG ] - Progress: 35.96837944664031%\n"
     ]
    },
    {
     "name": "stderr",
     "output_type": "stream",
     "text": [
      "C:\\Users\\zmorrato\\AppData\\Local\\Temp\\ipykernel_26412\\3563713887.py:21: DeprecationWarning: The 'text' argument to find()-type methods is deprecated. Use 'string' instead.\n",
      "  alma_mater_row = soup.find('th', text=lambda x: x and \"Alma\" in x)\n"
     ]
    },
    {
     "name": "stdout",
     "output_type": "stream",
     "text": [
      "[ DEBUG ] - Progress: 36.06719367588933%\n"
     ]
    },
    {
     "name": "stderr",
     "output_type": "stream",
     "text": [
      "C:\\Users\\zmorrato\\AppData\\Local\\Temp\\ipykernel_26412\\3563713887.py:21: DeprecationWarning: The 'text' argument to find()-type methods is deprecated. Use 'string' instead.\n",
      "  alma_mater_row = soup.find('th', text=lambda x: x and \"Alma\" in x)\n"
     ]
    },
    {
     "name": "stdout",
     "output_type": "stream",
     "text": [
      "[ DEBUG ] - Progress: 36.16600790513834%\n"
     ]
    },
    {
     "name": "stderr",
     "output_type": "stream",
     "text": [
      "C:\\Users\\zmorrato\\AppData\\Local\\Temp\\ipykernel_26412\\3563713887.py:21: DeprecationWarning: The 'text' argument to find()-type methods is deprecated. Use 'string' instead.\n",
      "  alma_mater_row = soup.find('th', text=lambda x: x and \"Alma\" in x)\n"
     ]
    },
    {
     "name": "stdout",
     "output_type": "stream",
     "text": [
      "[ DEBUG ] - Progress: 36.26482213438735%\n"
     ]
    },
    {
     "name": "stderr",
     "output_type": "stream",
     "text": [
      "C:\\Users\\zmorrato\\AppData\\Local\\Temp\\ipykernel_26412\\3563713887.py:21: DeprecationWarning: The 'text' argument to find()-type methods is deprecated. Use 'string' instead.\n",
      "  alma_mater_row = soup.find('th', text=lambda x: x and \"Alma\" in x)\n"
     ]
    },
    {
     "name": "stdout",
     "output_type": "stream",
     "text": [
      "[ DEBUG ] - Alma mater row not found for /wiki/Jacques_Monod\n",
      "[ DEBUG ] - Progress: 36.36363636363637%\n"
     ]
    },
    {
     "name": "stderr",
     "output_type": "stream",
     "text": [
      "C:\\Users\\zmorrato\\AppData\\Local\\Temp\\ipykernel_26412\\3563713887.py:21: DeprecationWarning: The 'text' argument to find()-type methods is deprecated. Use 'string' instead.\n",
      "  alma_mater_row = soup.find('th', text=lambda x: x and \"Alma\" in x)\n"
     ]
    },
    {
     "name": "stdout",
     "output_type": "stream",
     "text": [
      "[ DEBUG ] - Alma mater row not found for /wiki/Mikhail_Sholokhov\n",
      "[ DEBUG ] - Progress: 36.462450592885375%\n"
     ]
    },
    {
     "name": "stderr",
     "output_type": "stream",
     "text": [
      "C:\\Users\\zmorrato\\AppData\\Local\\Temp\\ipykernel_26412\\3563713887.py:21: DeprecationWarning: The 'text' argument to find()-type methods is deprecated. Use 'string' instead.\n",
      "  alma_mater_row = soup.find('th', text=lambda x: x and \"Alma\" in x)\n"
     ]
    },
    {
     "name": "stdout",
     "output_type": "stream",
     "text": [
      "[ DEBUG ] - Alma mater row not found for /wiki/UNICEF\n",
      "[ DEBUG ] - Progress: 36.56126482213439%\n"
     ]
    },
    {
     "name": "stderr",
     "output_type": "stream",
     "text": [
      "C:\\Users\\zmorrato\\AppData\\Local\\Temp\\ipykernel_26412\\3563713887.py:21: DeprecationWarning: The 'text' argument to find()-type methods is deprecated. Use 'string' instead.\n",
      "  alma_mater_row = soup.find('th', text=lambda x: x and \"Alma\" in x)\n"
     ]
    },
    {
     "name": "stdout",
     "output_type": "stream",
     "text": [
      "[ DEBUG ] - Progress: 36.6600790513834%\n"
     ]
    },
    {
     "name": "stderr",
     "output_type": "stream",
     "text": [
      "C:\\Users\\zmorrato\\AppData\\Local\\Temp\\ipykernel_26412\\3563713887.py:21: DeprecationWarning: The 'text' argument to find()-type methods is deprecated. Use 'string' instead.\n",
      "  alma_mater_row = soup.find('th', text=lambda x: x and \"Alma\" in x)\n"
     ]
    },
    {
     "name": "stdout",
     "output_type": "stream",
     "text": [
      "[ DEBUG ] - Progress: 36.75889328063241%\n"
     ]
    },
    {
     "name": "stderr",
     "output_type": "stream",
     "text": [
      "C:\\Users\\zmorrato\\AppData\\Local\\Temp\\ipykernel_26412\\3563713887.py:21: DeprecationWarning: The 'text' argument to find()-type methods is deprecated. Use 'string' instead.\n",
      "  alma_mater_row = soup.find('th', text=lambda x: x and \"Alma\" in x)\n"
     ]
    },
    {
     "name": "stdout",
     "output_type": "stream",
     "text": [
      "[ DEBUG ] - Progress: 36.85770750988142%\n"
     ]
    },
    {
     "name": "stderr",
     "output_type": "stream",
     "text": [
      "C:\\Users\\zmorrato\\AppData\\Local\\Temp\\ipykernel_26412\\3563713887.py:21: DeprecationWarning: The 'text' argument to find()-type methods is deprecated. Use 'string' instead.\n",
      "  alma_mater_row = soup.find('th', text=lambda x: x and \"Alma\" in x)\n"
     ]
    },
    {
     "name": "stdout",
     "output_type": "stream",
     "text": [
      "[ DEBUG ] - Progress: 36.95652173913043%\n"
     ]
    },
    {
     "name": "stderr",
     "output_type": "stream",
     "text": [
      "C:\\Users\\zmorrato\\AppData\\Local\\Temp\\ipykernel_26412\\3563713887.py:21: DeprecationWarning: The 'text' argument to find()-type methods is deprecated. Use 'string' instead.\n",
      "  alma_mater_row = soup.find('th', text=lambda x: x and \"Alma\" in x)\n"
     ]
    },
    {
     "name": "stdout",
     "output_type": "stream",
     "text": [
      "[ DEBUG ] - Alma mater row not found for /wiki/Shmuel_Yosef_Agnon\n",
      "[ DEBUG ] - Progress: 37.05533596837945%\n"
     ]
    },
    {
     "name": "stderr",
     "output_type": "stream",
     "text": [
      "C:\\Users\\zmorrato\\AppData\\Local\\Temp\\ipykernel_26412\\3563713887.py:21: DeprecationWarning: The 'text' argument to find()-type methods is deprecated. Use 'string' instead.\n",
      "  alma_mater_row = soup.find('th', text=lambda x: x and \"Alma\" in x)\n"
     ]
    },
    {
     "name": "stdout",
     "output_type": "stream",
     "text": [
      "[ DEBUG ] - Alma mater row not found for /wiki/Nelly_Sachs\n",
      "[ DEBUG ] - Progress: 37.15415019762846%\n"
     ]
    },
    {
     "name": "stderr",
     "output_type": "stream",
     "text": [
      "C:\\Users\\zmorrato\\AppData\\Local\\Temp\\ipykernel_26412\\3563713887.py:21: DeprecationWarning: The 'text' argument to find()-type methods is deprecated. Use 'string' instead.\n",
      "  alma_mater_row = soup.find('th', text=lambda x: x and \"Alma\" in x)\n"
     ]
    },
    {
     "name": "stdout",
     "output_type": "stream",
     "text": [
      "[ DEBUG ] - Progress: 37.25296442687747%\n"
     ]
    },
    {
     "name": "stderr",
     "output_type": "stream",
     "text": [
      "C:\\Users\\zmorrato\\AppData\\Local\\Temp\\ipykernel_26412\\3563713887.py:21: DeprecationWarning: The 'text' argument to find()-type methods is deprecated. Use 'string' instead.\n",
      "  alma_mater_row = soup.find('th', text=lambda x: x and \"Alma\" in x)\n"
     ]
    },
    {
     "name": "stdout",
     "output_type": "stream",
     "text": [
      "[ DEBUG ] - Progress: 37.351778656126484%\n"
     ]
    },
    {
     "name": "stderr",
     "output_type": "stream",
     "text": [
      "C:\\Users\\zmorrato\\AppData\\Local\\Temp\\ipykernel_26412\\3563713887.py:21: DeprecationWarning: The 'text' argument to find()-type methods is deprecated. Use 'string' instead.\n",
      "  alma_mater_row = soup.find('th', text=lambda x: x and \"Alma\" in x)\n"
     ]
    },
    {
     "name": "stdout",
     "output_type": "stream",
     "text": [
      "[ DEBUG ] - Progress: 37.45059288537549%\n"
     ]
    },
    {
     "name": "stderr",
     "output_type": "stream",
     "text": [
      "C:\\Users\\zmorrato\\AppData\\Local\\Temp\\ipykernel_26412\\3563713887.py:21: DeprecationWarning: The 'text' argument to find()-type methods is deprecated. Use 'string' instead.\n",
      "  alma_mater_row = soup.find('th', text=lambda x: x and \"Alma\" in x)\n"
     ]
    },
    {
     "name": "stdout",
     "output_type": "stream",
     "text": [
      "[ DEBUG ] - Progress: 37.54940711462451%\n"
     ]
    },
    {
     "name": "stderr",
     "output_type": "stream",
     "text": [
      "C:\\Users\\zmorrato\\AppData\\Local\\Temp\\ipykernel_26412\\3563713887.py:21: DeprecationWarning: The 'text' argument to find()-type methods is deprecated. Use 'string' instead.\n",
      "  alma_mater_row = soup.find('th', text=lambda x: x and \"Alma\" in x)\n"
     ]
    },
    {
     "name": "stdout",
     "output_type": "stream",
     "text": [
      "[ DEBUG ] - Progress: 37.648221343873516%\n"
     ]
    },
    {
     "name": "stderr",
     "output_type": "stream",
     "text": [
      "C:\\Users\\zmorrato\\AppData\\Local\\Temp\\ipykernel_26412\\3563713887.py:21: DeprecationWarning: The 'text' argument to find()-type methods is deprecated. Use 'string' instead.\n",
      "  alma_mater_row = soup.find('th', text=lambda x: x and \"Alma\" in x)\n"
     ]
    },
    {
     "name": "stdout",
     "output_type": "stream",
     "text": [
      "[ DEBUG ] - Progress: 37.74703557312253%\n"
     ]
    },
    {
     "name": "stderr",
     "output_type": "stream",
     "text": [
      "C:\\Users\\zmorrato\\AppData\\Local\\Temp\\ipykernel_26412\\3563713887.py:21: DeprecationWarning: The 'text' argument to find()-type methods is deprecated. Use 'string' instead.\n",
      "  alma_mater_row = soup.find('th', text=lambda x: x and \"Alma\" in x)\n"
     ]
    },
    {
     "name": "stdout",
     "output_type": "stream",
     "text": [
      "[ DEBUG ] - Progress: 37.84584980237154%\n"
     ]
    },
    {
     "name": "stderr",
     "output_type": "stream",
     "text": [
      "C:\\Users\\zmorrato\\AppData\\Local\\Temp\\ipykernel_26412\\3563713887.py:21: DeprecationWarning: The 'text' argument to find()-type methods is deprecated. Use 'string' instead.\n",
      "  alma_mater_row = soup.find('th', text=lambda x: x and \"Alma\" in x)\n"
     ]
    },
    {
     "name": "stdout",
     "output_type": "stream",
     "text": [
      "[ DEBUG ] - Alma mater row not found for /wiki/Miguel_%C3%81ngel_Asturias\n",
      "[ DEBUG ] - Progress: 37.94466403162055%\n"
     ]
    },
    {
     "name": "stderr",
     "output_type": "stream",
     "text": [
      "C:\\Users\\zmorrato\\AppData\\Local\\Temp\\ipykernel_26412\\3563713887.py:21: DeprecationWarning: The 'text' argument to find()-type methods is deprecated. Use 'string' instead.\n",
      "  alma_mater_row = soup.find('th', text=lambda x: x and \"Alma\" in x)\n"
     ]
    },
    {
     "name": "stdout",
     "output_type": "stream",
     "text": [
      "[ DEBUG ] - Alma mater row not found for /wiki/Luis_Walter_Alvarez\n",
      "[ DEBUG ] - Progress: 38.04347826086957%\n"
     ]
    },
    {
     "name": "stderr",
     "output_type": "stream",
     "text": [
      "C:\\Users\\zmorrato\\AppData\\Local\\Temp\\ipykernel_26412\\3563713887.py:21: DeprecationWarning: The 'text' argument to find()-type methods is deprecated. Use 'string' instead.\n",
      "  alma_mater_row = soup.find('th', text=lambda x: x and \"Alma\" in x)\n"
     ]
    },
    {
     "name": "stdout",
     "output_type": "stream",
     "text": [
      "[ DEBUG ] - Progress: 38.14229249011858%\n"
     ]
    },
    {
     "name": "stderr",
     "output_type": "stream",
     "text": [
      "C:\\Users\\zmorrato\\AppData\\Local\\Temp\\ipykernel_26412\\3563713887.py:21: DeprecationWarning: The 'text' argument to find()-type methods is deprecated. Use 'string' instead.\n",
      "  alma_mater_row = soup.find('th', text=lambda x: x and \"Alma\" in x)\n"
     ]
    },
    {
     "name": "stdout",
     "output_type": "stream",
     "text": [
      "[ DEBUG ] - Progress: 38.24110671936759%\n"
     ]
    },
    {
     "name": "stderr",
     "output_type": "stream",
     "text": [
      "C:\\Users\\zmorrato\\AppData\\Local\\Temp\\ipykernel_26412\\3563713887.py:21: DeprecationWarning: The 'text' argument to find()-type methods is deprecated. Use 'string' instead.\n",
      "  alma_mater_row = soup.find('th', text=lambda x: x and \"Alma\" in x)\n"
     ]
    },
    {
     "name": "stdout",
     "output_type": "stream",
     "text": [
      "[ DEBUG ] - Progress: 38.3399209486166%\n"
     ]
    },
    {
     "name": "stderr",
     "output_type": "stream",
     "text": [
      "C:\\Users\\zmorrato\\AppData\\Local\\Temp\\ipykernel_26412\\3563713887.py:21: DeprecationWarning: The 'text' argument to find()-type methods is deprecated. Use 'string' instead.\n",
      "  alma_mater_row = soup.find('th', text=lambda x: x and \"Alma\" in x)\n"
     ]
    },
    {
     "name": "stdout",
     "output_type": "stream",
     "text": [
      "[ DEBUG ] - Progress: 38.43873517786561%\n"
     ]
    },
    {
     "name": "stderr",
     "output_type": "stream",
     "text": [
      "C:\\Users\\zmorrato\\AppData\\Local\\Temp\\ipykernel_26412\\3563713887.py:21: DeprecationWarning: The 'text' argument to find()-type methods is deprecated. Use 'string' instead.\n",
      "  alma_mater_row = soup.find('th', text=lambda x: x and \"Alma\" in x)\n"
     ]
    },
    {
     "name": "stdout",
     "output_type": "stream",
     "text": [
      "[ DEBUG ] - Progress: 38.537549407114625%\n"
     ]
    },
    {
     "name": "stderr",
     "output_type": "stream",
     "text": [
      "C:\\Users\\zmorrato\\AppData\\Local\\Temp\\ipykernel_26412\\3563713887.py:21: DeprecationWarning: The 'text' argument to find()-type methods is deprecated. Use 'string' instead.\n",
      "  alma_mater_row = soup.find('th', text=lambda x: x and \"Alma\" in x)\n"
     ]
    },
    {
     "name": "stdout",
     "output_type": "stream",
     "text": [
      "[ DEBUG ] - Alma mater row not found for /wiki/Ren%C3%A9_Cassin\n",
      "[ DEBUG ] - Progress: 38.63636363636363%\n"
     ]
    },
    {
     "name": "stderr",
     "output_type": "stream",
     "text": [
      "C:\\Users\\zmorrato\\AppData\\Local\\Temp\\ipykernel_26412\\3563713887.py:21: DeprecationWarning: The 'text' argument to find()-type methods is deprecated. Use 'string' instead.\n",
      "  alma_mater_row = soup.find('th', text=lambda x: x and \"Alma\" in x)\n"
     ]
    },
    {
     "name": "stdout",
     "output_type": "stream",
     "text": [
      "[ DEBUG ] - Progress: 38.73517786561265%\n"
     ]
    },
    {
     "name": "stderr",
     "output_type": "stream",
     "text": [
      "C:\\Users\\zmorrato\\AppData\\Local\\Temp\\ipykernel_26412\\3563713887.py:21: DeprecationWarning: The 'text' argument to find()-type methods is deprecated. Use 'string' instead.\n",
      "  alma_mater_row = soup.find('th', text=lambda x: x and \"Alma\" in x)\n"
     ]
    },
    {
     "name": "stdout",
     "output_type": "stream",
     "text": [
      "[ DEBUG ] - Progress: 38.83399209486166%\n"
     ]
    },
    {
     "name": "stderr",
     "output_type": "stream",
     "text": [
      "C:\\Users\\zmorrato\\AppData\\Local\\Temp\\ipykernel_26412\\3563713887.py:21: DeprecationWarning: The 'text' argument to find()-type methods is deprecated. Use 'string' instead.\n",
      "  alma_mater_row = soup.find('th', text=lambda x: x and \"Alma\" in x)\n"
     ]
    },
    {
     "name": "stdout",
     "output_type": "stream",
     "text": [
      "[ DEBUG ] - Progress: 38.93280632411067%\n"
     ]
    },
    {
     "name": "stderr",
     "output_type": "stream",
     "text": [
      "C:\\Users\\zmorrato\\AppData\\Local\\Temp\\ipykernel_26412\\3563713887.py:21: DeprecationWarning: The 'text' argument to find()-type methods is deprecated. Use 'string' instead.\n",
      "  alma_mater_row = soup.find('th', text=lambda x: x and \"Alma\" in x)\n"
     ]
    },
    {
     "name": "stdout",
     "output_type": "stream",
     "text": [
      "[ DEBUG ] - Progress: 39.03162055335969%\n"
     ]
    },
    {
     "name": "stderr",
     "output_type": "stream",
     "text": [
      "C:\\Users\\zmorrato\\AppData\\Local\\Temp\\ipykernel_26412\\3563713887.py:21: DeprecationWarning: The 'text' argument to find()-type methods is deprecated. Use 'string' instead.\n",
      "  alma_mater_row = soup.find('th', text=lambda x: x and \"Alma\" in x)\n"
     ]
    },
    {
     "name": "stdout",
     "output_type": "stream",
     "text": [
      "[ DEBUG ] - Progress: 39.130434782608695%\n"
     ]
    },
    {
     "name": "stderr",
     "output_type": "stream",
     "text": [
      "C:\\Users\\zmorrato\\AppData\\Local\\Temp\\ipykernel_26412\\3563713887.py:21: DeprecationWarning: The 'text' argument to find()-type methods is deprecated. Use 'string' instead.\n",
      "  alma_mater_row = soup.find('th', text=lambda x: x and \"Alma\" in x)\n"
     ]
    },
    {
     "name": "stdout",
     "output_type": "stream",
     "text": [
      "[ DEBUG ] - Progress: 39.22924901185771%\n"
     ]
    },
    {
     "name": "stderr",
     "output_type": "stream",
     "text": [
      "C:\\Users\\zmorrato\\AppData\\Local\\Temp\\ipykernel_26412\\3563713887.py:21: DeprecationWarning: The 'text' argument to find()-type methods is deprecated. Use 'string' instead.\n",
      "  alma_mater_row = soup.find('th', text=lambda x: x and \"Alma\" in x)\n"
     ]
    },
    {
     "name": "stdout",
     "output_type": "stream",
     "text": [
      "[ DEBUG ] - Alma mater row not found for /wiki/Samuel_Beckett\n",
      "[ DEBUG ] - Progress: 39.32806324110672%\n"
     ]
    },
    {
     "name": "stderr",
     "output_type": "stream",
     "text": [
      "C:\\Users\\zmorrato\\AppData\\Local\\Temp\\ipykernel_26412\\3563713887.py:21: DeprecationWarning: The 'text' argument to find()-type methods is deprecated. Use 'string' instead.\n",
      "  alma_mater_row = soup.find('th', text=lambda x: x and \"Alma\" in x)\n"
     ]
    },
    {
     "name": "stdout",
     "output_type": "stream",
     "text": [
      "[ DEBUG ] - Alma mater row not found for /wiki/International_Labour_Organization\n",
      "[ DEBUG ] - Progress: 39.426877470355734%\n"
     ]
    },
    {
     "name": "stderr",
     "output_type": "stream",
     "text": [
      "C:\\Users\\zmorrato\\AppData\\Local\\Temp\\ipykernel_26412\\3563713887.py:21: DeprecationWarning: The 'text' argument to find()-type methods is deprecated. Use 'string' instead.\n",
      "  alma_mater_row = soup.find('th', text=lambda x: x and \"Alma\" in x)\n"
     ]
    },
    {
     "name": "stdout",
     "output_type": "stream",
     "text": [
      "[ DEBUG ] - Progress: 39.52569169960474%\n"
     ]
    },
    {
     "name": "stderr",
     "output_type": "stream",
     "text": [
      "C:\\Users\\zmorrato\\AppData\\Local\\Temp\\ipykernel_26412\\3563713887.py:21: DeprecationWarning: The 'text' argument to find()-type methods is deprecated. Use 'string' instead.\n",
      "  alma_mater_row = soup.find('th', text=lambda x: x and \"Alma\" in x)\n"
     ]
    },
    {
     "name": "stdout",
     "output_type": "stream",
     "text": [
      "[ DEBUG ] - Progress: 39.62450592885375%\n"
     ]
    },
    {
     "name": "stderr",
     "output_type": "stream",
     "text": [
      "C:\\Users\\zmorrato\\AppData\\Local\\Temp\\ipykernel_26412\\3563713887.py:21: DeprecationWarning: The 'text' argument to find()-type methods is deprecated. Use 'string' instead.\n",
      "  alma_mater_row = soup.find('th', text=lambda x: x and \"Alma\" in x)\n"
     ]
    },
    {
     "name": "stdout",
     "output_type": "stream",
     "text": [
      "[ DEBUG ] - Progress: 39.723320158102766%\n"
     ]
    },
    {
     "name": "stderr",
     "output_type": "stream",
     "text": [
      "C:\\Users\\zmorrato\\AppData\\Local\\Temp\\ipykernel_26412\\3563713887.py:21: DeprecationWarning: The 'text' argument to find()-type methods is deprecated. Use 'string' instead.\n",
      "  alma_mater_row = soup.find('th', text=lambda x: x and \"Alma\" in x)\n"
     ]
    },
    {
     "name": "stdout",
     "output_type": "stream",
     "text": [
      "[ DEBUG ] - Progress: 39.822134387351774%\n"
     ]
    },
    {
     "name": "stderr",
     "output_type": "stream",
     "text": [
      "C:\\Users\\zmorrato\\AppData\\Local\\Temp\\ipykernel_26412\\3563713887.py:21: DeprecationWarning: The 'text' argument to find()-type methods is deprecated. Use 'string' instead.\n",
      "  alma_mater_row = soup.find('th', text=lambda x: x and \"Alma\" in x)\n"
     ]
    },
    {
     "name": "stdout",
     "output_type": "stream",
     "text": [
      "[ DEBUG ] - Progress: 39.920948616600796%\n"
     ]
    },
    {
     "name": "stderr",
     "output_type": "stream",
     "text": [
      "C:\\Users\\zmorrato\\AppData\\Local\\Temp\\ipykernel_26412\\3563713887.py:21: DeprecationWarning: The 'text' argument to find()-type methods is deprecated. Use 'string' instead.\n",
      "  alma_mater_row = soup.find('th', text=lambda x: x and \"Alma\" in x)\n"
     ]
    },
    {
     "name": "stdout",
     "output_type": "stream",
     "text": [
      "[ DEBUG ] - Progress: 40.019762845849804%\n"
     ]
    },
    {
     "name": "stderr",
     "output_type": "stream",
     "text": [
      "C:\\Users\\zmorrato\\AppData\\Local\\Temp\\ipykernel_26412\\3563713887.py:21: DeprecationWarning: The 'text' argument to find()-type methods is deprecated. Use 'string' instead.\n",
      "  alma_mater_row = soup.find('th', text=lambda x: x and \"Alma\" in x)\n"
     ]
    },
    {
     "name": "stdout",
     "output_type": "stream",
     "text": [
      "[ DEBUG ] - Progress: 40.11857707509881%\n"
     ]
    },
    {
     "name": "stderr",
     "output_type": "stream",
     "text": [
      "C:\\Users\\zmorrato\\AppData\\Local\\Temp\\ipykernel_26412\\3563713887.py:21: DeprecationWarning: The 'text' argument to find()-type methods is deprecated. Use 'string' instead.\n",
      "  alma_mater_row = soup.find('th', text=lambda x: x and \"Alma\" in x)\n"
     ]
    },
    {
     "name": "stdout",
     "output_type": "stream",
     "text": [
      "[ DEBUG ] - Progress: 40.21739130434783%\n"
     ]
    },
    {
     "name": "stderr",
     "output_type": "stream",
     "text": [
      "C:\\Users\\zmorrato\\AppData\\Local\\Temp\\ipykernel_26412\\3563713887.py:21: DeprecationWarning: The 'text' argument to find()-type methods is deprecated. Use 'string' instead.\n",
      "  alma_mater_row = soup.find('th', text=lambda x: x and \"Alma\" in x)\n"
     ]
    },
    {
     "name": "stdout",
     "output_type": "stream",
     "text": [
      "[ DEBUG ] - Progress: 40.316205533596836%\n"
     ]
    },
    {
     "name": "stderr",
     "output_type": "stream",
     "text": [
      "C:\\Users\\zmorrato\\AppData\\Local\\Temp\\ipykernel_26412\\3563713887.py:21: DeprecationWarning: The 'text' argument to find()-type methods is deprecated. Use 'string' instead.\n",
      "  alma_mater_row = soup.find('th', text=lambda x: x and \"Alma\" in x)\n"
     ]
    },
    {
     "name": "stdout",
     "output_type": "stream",
     "text": [
      "[ DEBUG ] - Progress: 40.41501976284585%\n"
     ]
    },
    {
     "name": "stderr",
     "output_type": "stream",
     "text": [
      "C:\\Users\\zmorrato\\AppData\\Local\\Temp\\ipykernel_26412\\3563713887.py:21: DeprecationWarning: The 'text' argument to find()-type methods is deprecated. Use 'string' instead.\n",
      "  alma_mater_row = soup.find('th', text=lambda x: x and \"Alma\" in x)\n"
     ]
    },
    {
     "name": "stdout",
     "output_type": "stream",
     "text": [
      "[ DEBUG ] - Alma mater row not found for /wiki/Paul_Samuelson\n",
      "[ DEBUG ] - Progress: 40.51383399209486%\n"
     ]
    },
    {
     "name": "stderr",
     "output_type": "stream",
     "text": [
      "C:\\Users\\zmorrato\\AppData\\Local\\Temp\\ipykernel_26412\\3563713887.py:21: DeprecationWarning: The 'text' argument to find()-type methods is deprecated. Use 'string' instead.\n",
      "  alma_mater_row = soup.find('th', text=lambda x: x and \"Alma\" in x)\n"
     ]
    },
    {
     "name": "stdout",
     "output_type": "stream",
     "text": [
      "[ DEBUG ] - Progress: 40.612648221343875%\n"
     ]
    },
    {
     "name": "stderr",
     "output_type": "stream",
     "text": [
      "C:\\Users\\zmorrato\\AppData\\Local\\Temp\\ipykernel_26412\\3563713887.py:21: DeprecationWarning: The 'text' argument to find()-type methods is deprecated. Use 'string' instead.\n",
      "  alma_mater_row = soup.find('th', text=lambda x: x and \"Alma\" in x)\n"
     ]
    },
    {
     "name": "stdout",
     "output_type": "stream",
     "text": [
      "[ DEBUG ] - Progress: 40.71146245059288%\n"
     ]
    },
    {
     "name": "stderr",
     "output_type": "stream",
     "text": [
      "C:\\Users\\zmorrato\\AppData\\Local\\Temp\\ipykernel_26412\\3563713887.py:21: DeprecationWarning: The 'text' argument to find()-type methods is deprecated. Use 'string' instead.\n",
      "  alma_mater_row = soup.find('th', text=lambda x: x and \"Alma\" in x)\n"
     ]
    },
    {
     "name": "stdout",
     "output_type": "stream",
     "text": [
      "[ DEBUG ] - Progress: 40.81027667984189%\n"
     ]
    },
    {
     "name": "stderr",
     "output_type": "stream",
     "text": [
      "C:\\Users\\zmorrato\\AppData\\Local\\Temp\\ipykernel_26412\\3563713887.py:21: DeprecationWarning: The 'text' argument to find()-type methods is deprecated. Use 'string' instead.\n",
      "  alma_mater_row = soup.find('th', text=lambda x: x and \"Alma\" in x)\n"
     ]
    },
    {
     "name": "stdout",
     "output_type": "stream",
     "text": [
      "[ DEBUG ] - Alma mater row not found for /wiki/Pablo_Neruda\n",
      "[ DEBUG ] - Progress: 40.909090909090914%\n"
     ]
    },
    {
     "name": "stderr",
     "output_type": "stream",
     "text": [
      "C:\\Users\\zmorrato\\AppData\\Local\\Temp\\ipykernel_26412\\3563713887.py:21: DeprecationWarning: The 'text' argument to find()-type methods is deprecated. Use 'string' instead.\n",
      "  alma_mater_row = soup.find('th', text=lambda x: x and \"Alma\" in x)\n"
     ]
    },
    {
     "name": "stdout",
     "output_type": "stream",
     "text": [
      "[ DEBUG ] - Alma mater row not found for /wiki/Willy_Brandt\n",
      "[ DEBUG ] - Progress: 41.00790513833992%\n"
     ]
    },
    {
     "name": "stderr",
     "output_type": "stream",
     "text": [
      "C:\\Users\\zmorrato\\AppData\\Local\\Temp\\ipykernel_26412\\3563713887.py:21: DeprecationWarning: The 'text' argument to find()-type methods is deprecated. Use 'string' instead.\n",
      "  alma_mater_row = soup.find('th', text=lambda x: x and \"Alma\" in x)\n"
     ]
    },
    {
     "name": "stdout",
     "output_type": "stream",
     "text": [
      "[ DEBUG ] - Alma mater row not found for /wiki/Simon_Kuznets\n",
      "[ DEBUG ] - Progress: 41.10671936758894%\n"
     ]
    },
    {
     "name": "stderr",
     "output_type": "stream",
     "text": [
      "C:\\Users\\zmorrato\\AppData\\Local\\Temp\\ipykernel_26412\\3563713887.py:21: DeprecationWarning: The 'text' argument to find()-type methods is deprecated. Use 'string' instead.\n",
      "  alma_mater_row = soup.find('th', text=lambda x: x and \"Alma\" in x)\n"
     ]
    },
    {
     "name": "stdout",
     "output_type": "stream",
     "text": [
      "[ DEBUG ] - Progress: 41.205533596837945%\n"
     ]
    },
    {
     "name": "stderr",
     "output_type": "stream",
     "text": [
      "C:\\Users\\zmorrato\\AppData\\Local\\Temp\\ipykernel_26412\\3563713887.py:21: DeprecationWarning: The 'text' argument to find()-type methods is deprecated. Use 'string' instead.\n",
      "  alma_mater_row = soup.find('th', text=lambda x: x and \"Alma\" in x)\n"
     ]
    },
    {
     "name": "stdout",
     "output_type": "stream",
     "text": [
      "[ DEBUG ] - Progress: 41.30434782608695%\n"
     ]
    },
    {
     "name": "stderr",
     "output_type": "stream",
     "text": [
      "C:\\Users\\zmorrato\\AppData\\Local\\Temp\\ipykernel_26412\\3563713887.py:21: DeprecationWarning: The 'text' argument to find()-type methods is deprecated. Use 'string' instead.\n",
      "  alma_mater_row = soup.find('th', text=lambda x: x and \"Alma\" in x)\n"
     ]
    },
    {
     "name": "stdout",
     "output_type": "stream",
     "text": [
      "[ DEBUG ] - Progress: 41.40316205533597%\n"
     ]
    },
    {
     "name": "stderr",
     "output_type": "stream",
     "text": [
      "C:\\Users\\zmorrato\\AppData\\Local\\Temp\\ipykernel_26412\\3563713887.py:21: DeprecationWarning: The 'text' argument to find()-type methods is deprecated. Use 'string' instead.\n",
      "  alma_mater_row = soup.find('th', text=lambda x: x and \"Alma\" in x)\n"
     ]
    },
    {
     "name": "stdout",
     "output_type": "stream",
     "text": [
      "[ DEBUG ] - Progress: 41.50197628458498%\n"
     ]
    },
    {
     "name": "stderr",
     "output_type": "stream",
     "text": [
      "C:\\Users\\zmorrato\\AppData\\Local\\Temp\\ipykernel_26412\\3563713887.py:21: DeprecationWarning: The 'text' argument to find()-type methods is deprecated. Use 'string' instead.\n",
      "  alma_mater_row = soup.find('th', text=lambda x: x and \"Alma\" in x)\n"
     ]
    },
    {
     "name": "stdout",
     "output_type": "stream",
     "text": [
      "[ DEBUG ] - Progress: 41.60079051383399%\n"
     ]
    },
    {
     "name": "stderr",
     "output_type": "stream",
     "text": [
      "C:\\Users\\zmorrato\\AppData\\Local\\Temp\\ipykernel_26412\\3563713887.py:21: DeprecationWarning: The 'text' argument to find()-type methods is deprecated. Use 'string' instead.\n",
      "  alma_mater_row = soup.find('th', text=lambda x: x and \"Alma\" in x)\n"
     ]
    },
    {
     "name": "stdout",
     "output_type": "stream",
     "text": [
      "[ DEBUG ] - Alma mater row not found for /wiki/William_Howard_Stein\n",
      "[ DEBUG ] - Progress: 41.699604743083%\n"
     ]
    },
    {
     "name": "stderr",
     "output_type": "stream",
     "text": [
      "C:\\Users\\zmorrato\\AppData\\Local\\Temp\\ipykernel_26412\\3563713887.py:21: DeprecationWarning: The 'text' argument to find()-type methods is deprecated. Use 'string' instead.\n",
      "  alma_mater_row = soup.find('th', text=lambda x: x and \"Alma\" in x)\n"
     ]
    },
    {
     "name": "stdout",
     "output_type": "stream",
     "text": [
      "[ DEBUG ] - Alma mater row not found for /wiki/Gerald_Edelman\n",
      "[ DEBUG ] - Progress: 41.798418972332016%\n"
     ]
    },
    {
     "name": "stderr",
     "output_type": "stream",
     "text": [
      "C:\\Users\\zmorrato\\AppData\\Local\\Temp\\ipykernel_26412\\3563713887.py:21: DeprecationWarning: The 'text' argument to find()-type methods is deprecated. Use 'string' instead.\n",
      "  alma_mater_row = soup.find('th', text=lambda x: x and \"Alma\" in x)\n"
     ]
    },
    {
     "name": "stdout",
     "output_type": "stream",
     "text": [
      "[ DEBUG ] - Progress: 41.89723320158103%\n"
     ]
    },
    {
     "name": "stderr",
     "output_type": "stream",
     "text": [
      "C:\\Users\\zmorrato\\AppData\\Local\\Temp\\ipykernel_26412\\3563713887.py:21: DeprecationWarning: The 'text' argument to find()-type methods is deprecated. Use 'string' instead.\n",
      "  alma_mater_row = soup.find('th', text=lambda x: x and \"Alma\" in x)\n"
     ]
    },
    {
     "name": "stdout",
     "output_type": "stream",
     "text": [
      "[ DEBUG ] - Alma mater row not found for /wiki/Heinrich_B%C3%B6ll\n",
      "[ DEBUG ] - Progress: 41.99604743083004%\n"
     ]
    },
    {
     "name": "stderr",
     "output_type": "stream",
     "text": [
      "C:\\Users\\zmorrato\\AppData\\Local\\Temp\\ipykernel_26412\\3563713887.py:21: DeprecationWarning: The 'text' argument to find()-type methods is deprecated. Use 'string' instead.\n",
      "  alma_mater_row = soup.find('th', text=lambda x: x and \"Alma\" in x)\n"
     ]
    },
    {
     "name": "stdout",
     "output_type": "stream",
     "text": [
      "[ DEBUG ] - Alma mater row not found for /wiki/John_Hicks\n",
      "[ DEBUG ] - Progress: 42.094861660079054%\n"
     ]
    },
    {
     "name": "stderr",
     "output_type": "stream",
     "text": [
      "C:\\Users\\zmorrato\\AppData\\Local\\Temp\\ipykernel_26412\\3563713887.py:21: DeprecationWarning: The 'text' argument to find()-type methods is deprecated. Use 'string' instead.\n",
      "  alma_mater_row = soup.find('th', text=lambda x: x and \"Alma\" in x)\n"
     ]
    },
    {
     "name": "stdout",
     "output_type": "stream",
     "text": [
      "[ DEBUG ] - Alma mater row not found for /wiki/Kenneth_Arrow\n",
      "[ DEBUG ] - Progress: 42.19367588932806%\n"
     ]
    },
    {
     "name": "stderr",
     "output_type": "stream",
     "text": [
      "C:\\Users\\zmorrato\\AppData\\Local\\Temp\\ipykernel_26412\\3563713887.py:21: DeprecationWarning: The 'text' argument to find()-type methods is deprecated. Use 'string' instead.\n",
      "  alma_mater_row = soup.find('th', text=lambda x: x and \"Alma\" in x)\n"
     ]
    },
    {
     "name": "stdout",
     "output_type": "stream",
     "text": [
      "[ DEBUG ] - Progress: 42.29249011857708%\n"
     ]
    },
    {
     "name": "stderr",
     "output_type": "stream",
     "text": [
      "C:\\Users\\zmorrato\\AppData\\Local\\Temp\\ipykernel_26412\\3563713887.py:21: DeprecationWarning: The 'text' argument to find()-type methods is deprecated. Use 'string' instead.\n",
      "  alma_mater_row = soup.find('th', text=lambda x: x and \"Alma\" in x)\n"
     ]
    },
    {
     "name": "stdout",
     "output_type": "stream",
     "text": [
      "[ DEBUG ] - Progress: 42.391304347826086%\n"
     ]
    },
    {
     "name": "stderr",
     "output_type": "stream",
     "text": [
      "C:\\Users\\zmorrato\\AppData\\Local\\Temp\\ipykernel_26412\\3563713887.py:21: DeprecationWarning: The 'text' argument to find()-type methods is deprecated. Use 'string' instead.\n",
      "  alma_mater_row = soup.find('th', text=lambda x: x and \"Alma\" in x)\n"
     ]
    },
    {
     "name": "stdout",
     "output_type": "stream",
     "text": [
      "[ DEBUG ] - Progress: 42.490118577075094%\n"
     ]
    },
    {
     "name": "stderr",
     "output_type": "stream",
     "text": [
      "C:\\Users\\zmorrato\\AppData\\Local\\Temp\\ipykernel_26412\\3563713887.py:21: DeprecationWarning: The 'text' argument to find()-type methods is deprecated. Use 'string' instead.\n",
      "  alma_mater_row = soup.find('th', text=lambda x: x and \"Alma\" in x)\n"
     ]
    },
    {
     "name": "stdout",
     "output_type": "stream",
     "text": [
      "[ DEBUG ] - Progress: 42.58893280632411%\n"
     ]
    },
    {
     "name": "stderr",
     "output_type": "stream",
     "text": [
      "C:\\Users\\zmorrato\\AppData\\Local\\Temp\\ipykernel_26412\\3563713887.py:21: DeprecationWarning: The 'text' argument to find()-type methods is deprecated. Use 'string' instead.\n",
      "  alma_mater_row = soup.find('th', text=lambda x: x and \"Alma\" in x)\n"
     ]
    },
    {
     "name": "stdout",
     "output_type": "stream",
     "text": [
      "[ DEBUG ] - Progress: 42.68774703557312%\n"
     ]
    },
    {
     "name": "stderr",
     "output_type": "stream",
     "text": [
      "C:\\Users\\zmorrato\\AppData\\Local\\Temp\\ipykernel_26412\\3563713887.py:21: DeprecationWarning: The 'text' argument to find()-type methods is deprecated. Use 'string' instead.\n",
      "  alma_mater_row = soup.find('th', text=lambda x: x and \"Alma\" in x)\n"
     ]
    },
    {
     "name": "stdout",
     "output_type": "stream",
     "text": [
      "[ DEBUG ] - Alma mater row not found for /wiki/Karl_von_Frisch\n",
      "[ DEBUG ] - Progress: 42.78656126482213%\n"
     ]
    },
    {
     "name": "stderr",
     "output_type": "stream",
     "text": [
      "C:\\Users\\zmorrato\\AppData\\Local\\Temp\\ipykernel_26412\\3563713887.py:21: DeprecationWarning: The 'text' argument to find()-type methods is deprecated. Use 'string' instead.\n",
      "  alma_mater_row = soup.find('th', text=lambda x: x and \"Alma\" in x)\n"
     ]
    },
    {
     "name": "stdout",
     "output_type": "stream",
     "text": [
      "[ DEBUG ] - Progress: 42.88537549407115%\n"
     ]
    },
    {
     "name": "stderr",
     "output_type": "stream",
     "text": [
      "C:\\Users\\zmorrato\\AppData\\Local\\Temp\\ipykernel_26412\\3563713887.py:21: DeprecationWarning: The 'text' argument to find()-type methods is deprecated. Use 'string' instead.\n",
      "  alma_mater_row = soup.find('th', text=lambda x: x and \"Alma\" in x)\n"
     ]
    },
    {
     "name": "stdout",
     "output_type": "stream",
     "text": [
      "[ DEBUG ] - Progress: 42.984189723320156%\n"
     ]
    },
    {
     "name": "stderr",
     "output_type": "stream",
     "text": [
      "C:\\Users\\zmorrato\\AppData\\Local\\Temp\\ipykernel_26412\\3563713887.py:21: DeprecationWarning: The 'text' argument to find()-type methods is deprecated. Use 'string' instead.\n",
      "  alma_mater_row = soup.find('th', text=lambda x: x and \"Alma\" in x)\n"
     ]
    },
    {
     "name": "stdout",
     "output_type": "stream",
     "text": [
      "[ DEBUG ] - Alma mater row not found for /wiki/Patrick_White\n",
      "[ DEBUG ] - Progress: 43.08300395256917%\n"
     ]
    },
    {
     "name": "stderr",
     "output_type": "stream",
     "text": [
      "C:\\Users\\zmorrato\\AppData\\Local\\Temp\\ipykernel_26412\\3563713887.py:21: DeprecationWarning: The 'text' argument to find()-type methods is deprecated. Use 'string' instead.\n",
      "  alma_mater_row = soup.find('th', text=lambda x: x and \"Alma\" in x)\n"
     ]
    },
    {
     "name": "stdout",
     "output_type": "stream",
     "text": [
      "[ DEBUG ] - Alma mater row not found for /wiki/Henry_Kissinger\n",
      "[ DEBUG ] - Progress: 43.18181818181818%\n"
     ]
    },
    {
     "name": "stderr",
     "output_type": "stream",
     "text": [
      "C:\\Users\\zmorrato\\AppData\\Local\\Temp\\ipykernel_26412\\3563713887.py:21: DeprecationWarning: The 'text' argument to find()-type methods is deprecated. Use 'string' instead.\n",
      "  alma_mater_row = soup.find('th', text=lambda x: x and \"Alma\" in x)\n"
     ]
    },
    {
     "name": "stdout",
     "output_type": "stream",
     "text": [
      "[ DEBUG ] - Alma mater row not found for /wiki/L%C3%AA_%C4%90%E1%BB%A9c_Th%E1%BB%8D\n",
      "[ DEBUG ] - Progress: 43.280632411067195%\n"
     ]
    },
    {
     "name": "stderr",
     "output_type": "stream",
     "text": [
      "C:\\Users\\zmorrato\\AppData\\Local\\Temp\\ipykernel_26412\\3563713887.py:21: DeprecationWarning: The 'text' argument to find()-type methods is deprecated. Use 'string' instead.\n",
      "  alma_mater_row = soup.find('th', text=lambda x: x and \"Alma\" in x)\n"
     ]
    },
    {
     "name": "stdout",
     "output_type": "stream",
     "text": [
      "[ DEBUG ] - Progress: 43.3794466403162%\n"
     ]
    },
    {
     "name": "stderr",
     "output_type": "stream",
     "text": [
      "C:\\Users\\zmorrato\\AppData\\Local\\Temp\\ipykernel_26412\\3563713887.py:21: DeprecationWarning: The 'text' argument to find()-type methods is deprecated. Use 'string' instead.\n",
      "  alma_mater_row = soup.find('th', text=lambda x: x and \"Alma\" in x)\n"
     ]
    },
    {
     "name": "stdout",
     "output_type": "stream",
     "text": [
      "[ DEBUG ] - Progress: 43.47826086956522%\n"
     ]
    },
    {
     "name": "stderr",
     "output_type": "stream",
     "text": [
      "C:\\Users\\zmorrato\\AppData\\Local\\Temp\\ipykernel_26412\\3563713887.py:21: DeprecationWarning: The 'text' argument to find()-type methods is deprecated. Use 'string' instead.\n",
      "  alma_mater_row = soup.find('th', text=lambda x: x and \"Alma\" in x)\n"
     ]
    },
    {
     "name": "stdout",
     "output_type": "stream",
     "text": [
      "[ DEBUG ] - Progress: 43.57707509881423%\n"
     ]
    },
    {
     "name": "stderr",
     "output_type": "stream",
     "text": [
      "C:\\Users\\zmorrato\\AppData\\Local\\Temp\\ipykernel_26412\\3563713887.py:21: DeprecationWarning: The 'text' argument to find()-type methods is deprecated. Use 'string' instead.\n",
      "  alma_mater_row = soup.find('th', text=lambda x: x and \"Alma\" in x)\n"
     ]
    },
    {
     "name": "stdout",
     "output_type": "stream",
     "text": [
      "[ DEBUG ] - Progress: 43.67588932806324%\n"
     ]
    },
    {
     "name": "stderr",
     "output_type": "stream",
     "text": [
      "C:\\Users\\zmorrato\\AppData\\Local\\Temp\\ipykernel_26412\\3563713887.py:21: DeprecationWarning: The 'text' argument to find()-type methods is deprecated. Use 'string' instead.\n",
      "  alma_mater_row = soup.find('th', text=lambda x: x and \"Alma\" in x)\n"
     ]
    },
    {
     "name": "stdout",
     "output_type": "stream",
     "text": [
      "[ DEBUG ] - Progress: 43.77470355731226%\n"
     ]
    },
    {
     "name": "stderr",
     "output_type": "stream",
     "text": [
      "C:\\Users\\zmorrato\\AppData\\Local\\Temp\\ipykernel_26412\\3563713887.py:21: DeprecationWarning: The 'text' argument to find()-type methods is deprecated. Use 'string' instead.\n",
      "  alma_mater_row = soup.find('th', text=lambda x: x and \"Alma\" in x)\n"
     ]
    },
    {
     "name": "stdout",
     "output_type": "stream",
     "text": [
      "[ DEBUG ] - Alma mater row not found for /wiki/Christian_de_Duve\n",
      "[ DEBUG ] - Progress: 43.873517786561266%\n"
     ]
    },
    {
     "name": "stderr",
     "output_type": "stream",
     "text": [
      "C:\\Users\\zmorrato\\AppData\\Local\\Temp\\ipykernel_26412\\3563713887.py:21: DeprecationWarning: The 'text' argument to find()-type methods is deprecated. Use 'string' instead.\n",
      "  alma_mater_row = soup.find('th', text=lambda x: x and \"Alma\" in x)\n"
     ]
    },
    {
     "name": "stdout",
     "output_type": "stream",
     "text": [
      "[ DEBUG ] - Progress: 43.97233201581028%\n"
     ]
    },
    {
     "name": "stderr",
     "output_type": "stream",
     "text": [
      "C:\\Users\\zmorrato\\AppData\\Local\\Temp\\ipykernel_26412\\3563713887.py:21: DeprecationWarning: The 'text' argument to find()-type methods is deprecated. Use 'string' instead.\n",
      "  alma_mater_row = soup.find('th', text=lambda x: x and \"Alma\" in x)\n"
     ]
    },
    {
     "name": "stdout",
     "output_type": "stream",
     "text": [
      "[ DEBUG ] - Alma mater row not found for /wiki/Eyvind_Johnson\n",
      "[ DEBUG ] - Progress: 44.07114624505929%\n"
     ]
    },
    {
     "name": "stderr",
     "output_type": "stream",
     "text": [
      "C:\\Users\\zmorrato\\AppData\\Local\\Temp\\ipykernel_26412\\3563713887.py:21: DeprecationWarning: The 'text' argument to find()-type methods is deprecated. Use 'string' instead.\n",
      "  alma_mater_row = soup.find('th', text=lambda x: x and \"Alma\" in x)\n"
     ]
    },
    {
     "name": "stdout",
     "output_type": "stream",
     "text": [
      "[ DEBUG ] - Alma mater row not found for /wiki/Harry_Martinson\n",
      "[ DEBUG ] - Progress: 44.1699604743083%\n"
     ]
    },
    {
     "name": "stderr",
     "output_type": "stream",
     "text": [
      "C:\\Users\\zmorrato\\AppData\\Local\\Temp\\ipykernel_26412\\3563713887.py:21: DeprecationWarning: The 'text' argument to find()-type methods is deprecated. Use 'string' instead.\n",
      "  alma_mater_row = soup.find('th', text=lambda x: x and \"Alma\" in x)\n"
     ]
    },
    {
     "name": "stdout",
     "output_type": "stream",
     "text": [
      "[ DEBUG ] - Progress: 44.26877470355731%\n"
     ]
    },
    {
     "name": "stderr",
     "output_type": "stream",
     "text": [
      "C:\\Users\\zmorrato\\AppData\\Local\\Temp\\ipykernel_26412\\3563713887.py:21: DeprecationWarning: The 'text' argument to find()-type methods is deprecated. Use 'string' instead.\n",
      "  alma_mater_row = soup.find('th', text=lambda x: x and \"Alma\" in x)\n"
     ]
    },
    {
     "name": "stdout",
     "output_type": "stream",
     "text": [
      "[ DEBUG ] - Progress: 44.36758893280632%\n"
     ]
    },
    {
     "name": "stderr",
     "output_type": "stream",
     "text": [
      "C:\\Users\\zmorrato\\AppData\\Local\\Temp\\ipykernel_26412\\3563713887.py:21: DeprecationWarning: The 'text' argument to find()-type methods is deprecated. Use 'string' instead.\n",
      "  alma_mater_row = soup.find('th', text=lambda x: x and \"Alma\" in x)\n"
     ]
    },
    {
     "name": "stdout",
     "output_type": "stream",
     "text": [
      "[ DEBUG ] - Alma mater row not found for /wiki/Gunnar_Myrdal\n",
      "[ DEBUG ] - Progress: 44.466403162055336%\n"
     ]
    },
    {
     "name": "stderr",
     "output_type": "stream",
     "text": [
      "C:\\Users\\zmorrato\\AppData\\Local\\Temp\\ipykernel_26412\\3563713887.py:21: DeprecationWarning: The 'text' argument to find()-type methods is deprecated. Use 'string' instead.\n",
      "  alma_mater_row = soup.find('th', text=lambda x: x and \"Alma\" in x)\n"
     ]
    },
    {
     "name": "stdout",
     "output_type": "stream",
     "text": [
      "[ DEBUG ] - Alma mater row not found for /wiki/Friedrich_Hayek\n",
      "[ DEBUG ] - Progress: 44.565217391304344%\n"
     ]
    },
    {
     "name": "stderr",
     "output_type": "stream",
     "text": [
      "C:\\Users\\zmorrato\\AppData\\Local\\Temp\\ipykernel_26412\\3563713887.py:21: DeprecationWarning: The 'text' argument to find()-type methods is deprecated. Use 'string' instead.\n",
      "  alma_mater_row = soup.find('th', text=lambda x: x and \"Alma\" in x)\n"
     ]
    },
    {
     "name": "stdout",
     "output_type": "stream",
     "text": [
      "[ DEBUG ] - Progress: 44.66403162055336%\n"
     ]
    },
    {
     "name": "stderr",
     "output_type": "stream",
     "text": [
      "C:\\Users\\zmorrato\\AppData\\Local\\Temp\\ipykernel_26412\\3563713887.py:21: DeprecationWarning: The 'text' argument to find()-type methods is deprecated. Use 'string' instead.\n",
      "  alma_mater_row = soup.find('th', text=lambda x: x and \"Alma\" in x)\n"
     ]
    },
    {
     "name": "stdout",
     "output_type": "stream",
     "text": [
      "[ DEBUG ] - Progress: 44.762845849802375%\n"
     ]
    },
    {
     "name": "stderr",
     "output_type": "stream",
     "text": [
      "C:\\Users\\zmorrato\\AppData\\Local\\Temp\\ipykernel_26412\\3563713887.py:21: DeprecationWarning: The 'text' argument to find()-type methods is deprecated. Use 'string' instead.\n",
      "  alma_mater_row = soup.find('th', text=lambda x: x and \"Alma\" in x)\n"
     ]
    },
    {
     "name": "stdout",
     "output_type": "stream",
     "text": [
      "[ DEBUG ] - Alma mater row not found for /wiki/James_Rainwater\n",
      "[ DEBUG ] - Progress: 44.86166007905138%\n"
     ]
    },
    {
     "name": "stderr",
     "output_type": "stream",
     "text": [
      "C:\\Users\\zmorrato\\AppData\\Local\\Temp\\ipykernel_26412\\3563713887.py:21: DeprecationWarning: The 'text' argument to find()-type methods is deprecated. Use 'string' instead.\n",
      "  alma_mater_row = soup.find('th', text=lambda x: x and \"Alma\" in x)\n"
     ]
    },
    {
     "name": "stdout",
     "output_type": "stream",
     "text": [
      "[ DEBUG ] - Progress: 44.9604743083004%\n"
     ]
    },
    {
     "name": "stderr",
     "output_type": "stream",
     "text": [
      "C:\\Users\\zmorrato\\AppData\\Local\\Temp\\ipykernel_26412\\3563713887.py:21: DeprecationWarning: The 'text' argument to find()-type methods is deprecated. Use 'string' instead.\n",
      "  alma_mater_row = soup.find('th', text=lambda x: x and \"Alma\" in x)\n"
     ]
    },
    {
     "name": "stdout",
     "output_type": "stream",
     "text": [
      "[ DEBUG ] - Progress: 45.059288537549406%\n"
     ]
    },
    {
     "name": "stderr",
     "output_type": "stream",
     "text": [
      "C:\\Users\\zmorrato\\AppData\\Local\\Temp\\ipykernel_26412\\3563713887.py:21: DeprecationWarning: The 'text' argument to find()-type methods is deprecated. Use 'string' instead.\n",
      "  alma_mater_row = soup.find('th', text=lambda x: x and \"Alma\" in x)\n"
     ]
    },
    {
     "name": "stdout",
     "output_type": "stream",
     "text": [
      "[ DEBUG ] - Alma mater row not found for /wiki/David_Baltimore\n",
      "[ DEBUG ] - Progress: 45.15810276679842%\n"
     ]
    },
    {
     "name": "stderr",
     "output_type": "stream",
     "text": [
      "C:\\Users\\zmorrato\\AppData\\Local\\Temp\\ipykernel_26412\\3563713887.py:21: DeprecationWarning: The 'text' argument to find()-type methods is deprecated. Use 'string' instead.\n",
      "  alma_mater_row = soup.find('th', text=lambda x: x and \"Alma\" in x)\n"
     ]
    },
    {
     "name": "stdout",
     "output_type": "stream",
     "text": [
      "[ DEBUG ] - Progress: 45.25691699604743%\n"
     ]
    },
    {
     "name": "stderr",
     "output_type": "stream",
     "text": [
      "C:\\Users\\zmorrato\\AppData\\Local\\Temp\\ipykernel_26412\\3563713887.py:21: DeprecationWarning: The 'text' argument to find()-type methods is deprecated. Use 'string' instead.\n",
      "  alma_mater_row = soup.find('th', text=lambda x: x and \"Alma\" in x)\n"
     ]
    },
    {
     "name": "stdout",
     "output_type": "stream",
     "text": [
      "[ DEBUG ] - Progress: 45.355731225296445%\n"
     ]
    },
    {
     "name": "stderr",
     "output_type": "stream",
     "text": [
      "C:\\Users\\zmorrato\\AppData\\Local\\Temp\\ipykernel_26412\\3563713887.py:21: DeprecationWarning: The 'text' argument to find()-type methods is deprecated. Use 'string' instead.\n",
      "  alma_mater_row = soup.find('th', text=lambda x: x and \"Alma\" in x)\n"
     ]
    },
    {
     "name": "stdout",
     "output_type": "stream",
     "text": [
      "[ DEBUG ] - Alma mater row not found for /wiki/Eugenio_Montale\n",
      "[ DEBUG ] - Progress: 45.45454545454545%\n"
     ]
    },
    {
     "name": "stderr",
     "output_type": "stream",
     "text": [
      "C:\\Users\\zmorrato\\AppData\\Local\\Temp\\ipykernel_26412\\3563713887.py:21: DeprecationWarning: The 'text' argument to find()-type methods is deprecated. Use 'string' instead.\n",
      "  alma_mater_row = soup.find('th', text=lambda x: x and \"Alma\" in x)\n"
     ]
    },
    {
     "name": "stdout",
     "output_type": "stream",
     "text": [
      "[ DEBUG ] - Progress: 45.55335968379446%\n"
     ]
    },
    {
     "name": "stderr",
     "output_type": "stream",
     "text": [
      "C:\\Users\\zmorrato\\AppData\\Local\\Temp\\ipykernel_26412\\3563713887.py:21: DeprecationWarning: The 'text' argument to find()-type methods is deprecated. Use 'string' instead.\n",
      "  alma_mater_row = soup.find('th', text=lambda x: x and \"Alma\" in x)\n"
     ]
    },
    {
     "name": "stdout",
     "output_type": "stream",
     "text": [
      "[ DEBUG ] - Progress: 45.65217391304348%\n"
     ]
    },
    {
     "name": "stderr",
     "output_type": "stream",
     "text": [
      "C:\\Users\\zmorrato\\AppData\\Local\\Temp\\ipykernel_26412\\3563713887.py:21: DeprecationWarning: The 'text' argument to find()-type methods is deprecated. Use 'string' instead.\n",
      "  alma_mater_row = soup.find('th', text=lambda x: x and \"Alma\" in x)\n"
     ]
    },
    {
     "name": "stdout",
     "output_type": "stream",
     "text": [
      "[ DEBUG ] - Progress: 45.75098814229249%\n"
     ]
    },
    {
     "name": "stderr",
     "output_type": "stream",
     "text": [
      "C:\\Users\\zmorrato\\AppData\\Local\\Temp\\ipykernel_26412\\3563713887.py:21: DeprecationWarning: The 'text' argument to find()-type methods is deprecated. Use 'string' instead.\n",
      "  alma_mater_row = soup.find('th', text=lambda x: x and \"Alma\" in x)\n"
     ]
    },
    {
     "name": "stdout",
     "output_type": "stream",
     "text": [
      "[ DEBUG ] - Progress: 45.8498023715415%\n"
     ]
    },
    {
     "name": "stderr",
     "output_type": "stream",
     "text": [
      "C:\\Users\\zmorrato\\AppData\\Local\\Temp\\ipykernel_26412\\3563713887.py:21: DeprecationWarning: The 'text' argument to find()-type methods is deprecated. Use 'string' instead.\n",
      "  alma_mater_row = soup.find('th', text=lambda x: x and \"Alma\" in x)\n"
     ]
    },
    {
     "name": "stdout",
     "output_type": "stream",
     "text": [
      "[ DEBUG ] - Progress: 45.948616600790515%\n"
     ]
    },
    {
     "name": "stderr",
     "output_type": "stream",
     "text": [
      "C:\\Users\\zmorrato\\AppData\\Local\\Temp\\ipykernel_26412\\3563713887.py:21: DeprecationWarning: The 'text' argument to find()-type methods is deprecated. Use 'string' instead.\n",
      "  alma_mater_row = soup.find('th', text=lambda x: x and \"Alma\" in x)\n"
     ]
    },
    {
     "name": "stdout",
     "output_type": "stream",
     "text": [
      "[ DEBUG ] - Progress: 46.047430830039524%\n"
     ]
    },
    {
     "name": "stderr",
     "output_type": "stream",
     "text": [
      "C:\\Users\\zmorrato\\AppData\\Local\\Temp\\ipykernel_26412\\3563713887.py:21: DeprecationWarning: The 'text' argument to find()-type methods is deprecated. Use 'string' instead.\n",
      "  alma_mater_row = soup.find('th', text=lambda x: x and \"Alma\" in x)\n"
     ]
    },
    {
     "name": "stdout",
     "output_type": "stream",
     "text": [
      "[ DEBUG ] - Progress: 46.14624505928854%\n"
     ]
    },
    {
     "name": "stderr",
     "output_type": "stream",
     "text": [
      "C:\\Users\\zmorrato\\AppData\\Local\\Temp\\ipykernel_26412\\3563713887.py:21: DeprecationWarning: The 'text' argument to find()-type methods is deprecated. Use 'string' instead.\n",
      "  alma_mater_row = soup.find('th', text=lambda x: x and \"Alma\" in x)\n"
     ]
    },
    {
     "name": "stdout",
     "output_type": "stream",
     "text": [
      "[ DEBUG ] - Progress: 46.24505928853755%\n"
     ]
    },
    {
     "name": "stderr",
     "output_type": "stream",
     "text": [
      "C:\\Users\\zmorrato\\AppData\\Local\\Temp\\ipykernel_26412\\3563713887.py:21: DeprecationWarning: The 'text' argument to find()-type methods is deprecated. Use 'string' instead.\n",
      "  alma_mater_row = soup.find('th', text=lambda x: x and \"Alma\" in x)\n"
     ]
    },
    {
     "name": "stdout",
     "output_type": "stream",
     "text": [
      "[ DEBUG ] - Alma mater row not found for /wiki/Saul_Bellow\n",
      "[ DEBUG ] - Progress: 46.34387351778656%\n"
     ]
    },
    {
     "name": "stderr",
     "output_type": "stream",
     "text": [
      "C:\\Users\\zmorrato\\AppData\\Local\\Temp\\ipykernel_26412\\3563713887.py:21: DeprecationWarning: The 'text' argument to find()-type methods is deprecated. Use 'string' instead.\n",
      "  alma_mater_row = soup.find('th', text=lambda x: x and \"Alma\" in x)\n"
     ]
    },
    {
     "name": "stdout",
     "output_type": "stream",
     "text": [
      "[ DEBUG ] - Alma mater row not found for /wiki/Betty_Williams_(peace_activist)\n",
      "[ DEBUG ] - Progress: 46.44268774703557%\n"
     ]
    },
    {
     "name": "stderr",
     "output_type": "stream",
     "text": [
      "C:\\Users\\zmorrato\\AppData\\Local\\Temp\\ipykernel_26412\\3563713887.py:21: DeprecationWarning: The 'text' argument to find()-type methods is deprecated. Use 'string' instead.\n",
      "  alma_mater_row = soup.find('th', text=lambda x: x and \"Alma\" in x)\n"
     ]
    },
    {
     "name": "stdout",
     "output_type": "stream",
     "text": [
      "[ DEBUG ] - Progress: 46.541501976284586%\n"
     ]
    },
    {
     "name": "stderr",
     "output_type": "stream",
     "text": [
      "C:\\Users\\zmorrato\\AppData\\Local\\Temp\\ipykernel_26412\\3563713887.py:21: DeprecationWarning: The 'text' argument to find()-type methods is deprecated. Use 'string' instead.\n",
      "  alma_mater_row = soup.find('th', text=lambda x: x and \"Alma\" in x)\n"
     ]
    },
    {
     "name": "stdout",
     "output_type": "stream",
     "text": [
      "[ DEBUG ] - Alma mater row not found for /wiki/Milton_Friedman\n",
      "[ DEBUG ] - Progress: 46.6403162055336%\n"
     ]
    },
    {
     "name": "stderr",
     "output_type": "stream",
     "text": [
      "C:\\Users\\zmorrato\\AppData\\Local\\Temp\\ipykernel_26412\\3563713887.py:21: DeprecationWarning: The 'text' argument to find()-type methods is deprecated. Use 'string' instead.\n",
      "  alma_mater_row = soup.find('th', text=lambda x: x and \"Alma\" in x)\n"
     ]
    },
    {
     "name": "stdout",
     "output_type": "stream",
     "text": [
      "[ DEBUG ] - Progress: 46.73913043478261%\n"
     ]
    },
    {
     "name": "stderr",
     "output_type": "stream",
     "text": [
      "C:\\Users\\zmorrato\\AppData\\Local\\Temp\\ipykernel_26412\\3563713887.py:21: DeprecationWarning: The 'text' argument to find()-type methods is deprecated. Use 'string' instead.\n",
      "  alma_mater_row = soup.find('th', text=lambda x: x and \"Alma\" in x)\n"
     ]
    },
    {
     "name": "stdout",
     "output_type": "stream",
     "text": [
      "[ DEBUG ] - Progress: 46.837944664031625%\n"
     ]
    },
    {
     "name": "stderr",
     "output_type": "stream",
     "text": [
      "C:\\Users\\zmorrato\\AppData\\Local\\Temp\\ipykernel_26412\\3563713887.py:21: DeprecationWarning: The 'text' argument to find()-type methods is deprecated. Use 'string' instead.\n",
      "  alma_mater_row = soup.find('th', text=lambda x: x and \"Alma\" in x)\n"
     ]
    },
    {
     "name": "stdout",
     "output_type": "stream",
     "text": [
      "[ DEBUG ] - Progress: 46.93675889328063%\n"
     ]
    },
    {
     "name": "stderr",
     "output_type": "stream",
     "text": [
      "C:\\Users\\zmorrato\\AppData\\Local\\Temp\\ipykernel_26412\\3563713887.py:21: DeprecationWarning: The 'text' argument to find()-type methods is deprecated. Use 'string' instead.\n",
      "  alma_mater_row = soup.find('th', text=lambda x: x and \"Alma\" in x)\n"
     ]
    },
    {
     "name": "stdout",
     "output_type": "stream",
     "text": [
      "[ DEBUG ] - Progress: 47.03557312252965%\n"
     ]
    },
    {
     "name": "stderr",
     "output_type": "stream",
     "text": [
      "C:\\Users\\zmorrato\\AppData\\Local\\Temp\\ipykernel_26412\\3563713887.py:21: DeprecationWarning: The 'text' argument to find()-type methods is deprecated. Use 'string' instead.\n",
      "  alma_mater_row = soup.find('th', text=lambda x: x and \"Alma\" in x)\n"
     ]
    },
    {
     "name": "stdout",
     "output_type": "stream",
     "text": [
      "[ DEBUG ] - Progress: 47.134387351778656%\n"
     ]
    },
    {
     "name": "stderr",
     "output_type": "stream",
     "text": [
      "C:\\Users\\zmorrato\\AppData\\Local\\Temp\\ipykernel_26412\\3563713887.py:21: DeprecationWarning: The 'text' argument to find()-type methods is deprecated. Use 'string' instead.\n",
      "  alma_mater_row = soup.find('th', text=lambda x: x and \"Alma\" in x)\n"
     ]
    },
    {
     "name": "stdout",
     "output_type": "stream",
     "text": [
      "[ DEBUG ] - Alma mater row not found for /wiki/Andrew_Schally\n",
      "[ DEBUG ] - Progress: 47.233201581027664%\n"
     ]
    },
    {
     "name": "stderr",
     "output_type": "stream",
     "text": [
      "C:\\Users\\zmorrato\\AppData\\Local\\Temp\\ipykernel_26412\\3563713887.py:21: DeprecationWarning: The 'text' argument to find()-type methods is deprecated. Use 'string' instead.\n",
      "  alma_mater_row = soup.find('th', text=lambda x: x and \"Alma\" in x)\n"
     ]
    },
    {
     "name": "stdout",
     "output_type": "stream",
     "text": [
      "[ DEBUG ] - Progress: 47.33201581027668%\n"
     ]
    },
    {
     "name": "stderr",
     "output_type": "stream",
     "text": [
      "C:\\Users\\zmorrato\\AppData\\Local\\Temp\\ipykernel_26412\\3563713887.py:21: DeprecationWarning: The 'text' argument to find()-type methods is deprecated. Use 'string' instead.\n",
      "  alma_mater_row = soup.find('th', text=lambda x: x and \"Alma\" in x)\n"
     ]
    },
    {
     "name": "stdout",
     "output_type": "stream",
     "text": [
      "[ DEBUG ] - Alma mater row not found for /wiki/Vicente_Aleixandre\n",
      "[ DEBUG ] - Progress: 47.43083003952569%\n"
     ]
    },
    {
     "name": "stderr",
     "output_type": "stream",
     "text": [
      "C:\\Users\\zmorrato\\AppData\\Local\\Temp\\ipykernel_26412\\3563713887.py:21: DeprecationWarning: The 'text' argument to find()-type methods is deprecated. Use 'string' instead.\n",
      "  alma_mater_row = soup.find('th', text=lambda x: x and \"Alma\" in x)\n"
     ]
    },
    {
     "name": "stdout",
     "output_type": "stream",
     "text": [
      "[ DEBUG ] - Alma mater row not found for /wiki/Amnesty_International\n",
      "[ DEBUG ] - Progress: 47.5296442687747%\n"
     ]
    },
    {
     "name": "stderr",
     "output_type": "stream",
     "text": [
      "C:\\Users\\zmorrato\\AppData\\Local\\Temp\\ipykernel_26412\\3563713887.py:21: DeprecationWarning: The 'text' argument to find()-type methods is deprecated. Use 'string' instead.\n",
      "  alma_mater_row = soup.find('th', text=lambda x: x and \"Alma\" in x)\n"
     ]
    },
    {
     "name": "stdout",
     "output_type": "stream",
     "text": [
      "[ DEBUG ] - Progress: 47.62845849802372%\n"
     ]
    },
    {
     "name": "stderr",
     "output_type": "stream",
     "text": [
      "C:\\Users\\zmorrato\\AppData\\Local\\Temp\\ipykernel_26412\\3563713887.py:21: DeprecationWarning: The 'text' argument to find()-type methods is deprecated. Use 'string' instead.\n",
      "  alma_mater_row = soup.find('th', text=lambda x: x and \"Alma\" in x)\n"
     ]
    },
    {
     "name": "stdout",
     "output_type": "stream",
     "text": [
      "[ DEBUG ] - Alma mater row not found for /wiki/James_Meade\n",
      "[ DEBUG ] - Progress: 47.72727272727273%\n"
     ]
    },
    {
     "name": "stderr",
     "output_type": "stream",
     "text": [
      "C:\\Users\\zmorrato\\AppData\\Local\\Temp\\ipykernel_26412\\3563713887.py:21: DeprecationWarning: The 'text' argument to find()-type methods is deprecated. Use 'string' instead.\n",
      "  alma_mater_row = soup.find('th', text=lambda x: x and \"Alma\" in x)\n"
     ]
    },
    {
     "name": "stdout",
     "output_type": "stream",
     "text": [
      "[ DEBUG ] - Alma mater row not found for /wiki/Pyotr_Kapitsa\n",
      "[ DEBUG ] - Progress: 47.82608695652174%\n"
     ]
    },
    {
     "name": "stderr",
     "output_type": "stream",
     "text": [
      "C:\\Users\\zmorrato\\AppData\\Local\\Temp\\ipykernel_26412\\3563713887.py:21: DeprecationWarning: The 'text' argument to find()-type methods is deprecated. Use 'string' instead.\n",
      "  alma_mater_row = soup.find('th', text=lambda x: x and \"Alma\" in x)\n"
     ]
    },
    {
     "name": "stdout",
     "output_type": "stream",
     "text": [
      "[ DEBUG ] - Alma mater row not found for /wiki/Arno_Allan_Penzias\n",
      "[ DEBUG ] - Progress: 47.92490118577075%\n"
     ]
    },
    {
     "name": "stderr",
     "output_type": "stream",
     "text": [
      "C:\\Users\\zmorrato\\AppData\\Local\\Temp\\ipykernel_26412\\3563713887.py:21: DeprecationWarning: The 'text' argument to find()-type methods is deprecated. Use 'string' instead.\n",
      "  alma_mater_row = soup.find('th', text=lambda x: x and \"Alma\" in x)\n"
     ]
    },
    {
     "name": "stdout",
     "output_type": "stream",
     "text": [
      "[ DEBUG ] - Progress: 48.023715415019765%\n"
     ]
    },
    {
     "name": "stderr",
     "output_type": "stream",
     "text": [
      "C:\\Users\\zmorrato\\AppData\\Local\\Temp\\ipykernel_26412\\3563713887.py:21: DeprecationWarning: The 'text' argument to find()-type methods is deprecated. Use 'string' instead.\n",
      "  alma_mater_row = soup.find('th', text=lambda x: x and \"Alma\" in x)\n"
     ]
    },
    {
     "name": "stdout",
     "output_type": "stream",
     "text": [
      "[ DEBUG ] - Progress: 48.12252964426877%\n"
     ]
    },
    {
     "name": "stderr",
     "output_type": "stream",
     "text": [
      "C:\\Users\\zmorrato\\AppData\\Local\\Temp\\ipykernel_26412\\3563713887.py:21: DeprecationWarning: The 'text' argument to find()-type methods is deprecated. Use 'string' instead.\n",
      "  alma_mater_row = soup.find('th', text=lambda x: x and \"Alma\" in x)\n"
     ]
    },
    {
     "name": "stdout",
     "output_type": "stream",
     "text": [
      "[ DEBUG ] - Progress: 48.22134387351779%\n"
     ]
    },
    {
     "name": "stderr",
     "output_type": "stream",
     "text": [
      "C:\\Users\\zmorrato\\AppData\\Local\\Temp\\ipykernel_26412\\3563713887.py:21: DeprecationWarning: The 'text' argument to find()-type methods is deprecated. Use 'string' instead.\n",
      "  alma_mater_row = soup.find('th', text=lambda x: x and \"Alma\" in x)\n"
     ]
    },
    {
     "name": "stdout",
     "output_type": "stream",
     "text": [
      "[ DEBUG ] - Alma mater row not found for /wiki/Daniel_Nathans\n",
      "[ DEBUG ] - Progress: 48.3201581027668%\n"
     ]
    },
    {
     "name": "stderr",
     "output_type": "stream",
     "text": [
      "C:\\Users\\zmorrato\\AppData\\Local\\Temp\\ipykernel_26412\\3563713887.py:21: DeprecationWarning: The 'text' argument to find()-type methods is deprecated. Use 'string' instead.\n",
      "  alma_mater_row = soup.find('th', text=lambda x: x and \"Alma\" in x)\n"
     ]
    },
    {
     "name": "stdout",
     "output_type": "stream",
     "text": [
      "[ DEBUG ] - Progress: 48.418972332015805%\n"
     ]
    },
    {
     "name": "stderr",
     "output_type": "stream",
     "text": [
      "C:\\Users\\zmorrato\\AppData\\Local\\Temp\\ipykernel_26412\\3563713887.py:21: DeprecationWarning: The 'text' argument to find()-type methods is deprecated. Use 'string' instead.\n",
      "  alma_mater_row = soup.find('th', text=lambda x: x and \"Alma\" in x)\n"
     ]
    },
    {
     "name": "stdout",
     "output_type": "stream",
     "text": [
      "[ DEBUG ] - Alma mater row not found for /wiki/Isaac_Bashevis_Singer\n",
      "[ DEBUG ] - Progress: 48.51778656126482%\n"
     ]
    },
    {
     "name": "stderr",
     "output_type": "stream",
     "text": [
      "C:\\Users\\zmorrato\\AppData\\Local\\Temp\\ipykernel_26412\\3563713887.py:21: DeprecationWarning: The 'text' argument to find()-type methods is deprecated. Use 'string' instead.\n",
      "  alma_mater_row = soup.find('th', text=lambda x: x and \"Alma\" in x)\n"
     ]
    },
    {
     "name": "stdout",
     "output_type": "stream",
     "text": [
      "[ DEBUG ] - Progress: 48.616600790513836%\n"
     ]
    },
    {
     "name": "stderr",
     "output_type": "stream",
     "text": [
      "C:\\Users\\zmorrato\\AppData\\Local\\Temp\\ipykernel_26412\\3563713887.py:21: DeprecationWarning: The 'text' argument to find()-type methods is deprecated. Use 'string' instead.\n",
      "  alma_mater_row = soup.find('th', text=lambda x: x and \"Alma\" in x)\n"
     ]
    },
    {
     "name": "stdout",
     "output_type": "stream",
     "text": [
      "[ DEBUG ] - Progress: 48.71541501976285%\n"
     ]
    },
    {
     "name": "stderr",
     "output_type": "stream",
     "text": [
      "C:\\Users\\zmorrato\\AppData\\Local\\Temp\\ipykernel_26412\\3563713887.py:21: DeprecationWarning: The 'text' argument to find()-type methods is deprecated. Use 'string' instead.\n",
      "  alma_mater_row = soup.find('th', text=lambda x: x and \"Alma\" in x)\n"
     ]
    },
    {
     "name": "stdout",
     "output_type": "stream",
     "text": [
      "[ DEBUG ] - Alma mater row not found for /wiki/Herbert_A._Simon\n",
      "[ DEBUG ] - Progress: 48.81422924901186%\n"
     ]
    },
    {
     "name": "stderr",
     "output_type": "stream",
     "text": [
      "C:\\Users\\zmorrato\\AppData\\Local\\Temp\\ipykernel_26412\\3563713887.py:21: DeprecationWarning: The 'text' argument to find()-type methods is deprecated. Use 'string' instead.\n",
      "  alma_mater_row = soup.find('th', text=lambda x: x and \"Alma\" in x)\n"
     ]
    },
    {
     "name": "stdout",
     "output_type": "stream",
     "text": [
      "[ DEBUG ] - Progress: 48.91304347826087%\n"
     ]
    },
    {
     "name": "stderr",
     "output_type": "stream",
     "text": [
      "C:\\Users\\zmorrato\\AppData\\Local\\Temp\\ipykernel_26412\\3563713887.py:21: DeprecationWarning: The 'text' argument to find()-type methods is deprecated. Use 'string' instead.\n",
      "  alma_mater_row = soup.find('th', text=lambda x: x and \"Alma\" in x)\n"
     ]
    },
    {
     "name": "stdout",
     "output_type": "stream",
     "text": [
      "[ DEBUG ] - Progress: 49.01185770750988%\n"
     ]
    },
    {
     "name": "stderr",
     "output_type": "stream",
     "text": [
      "C:\\Users\\zmorrato\\AppData\\Local\\Temp\\ipykernel_26412\\3563713887.py:21: DeprecationWarning: The 'text' argument to find()-type methods is deprecated. Use 'string' instead.\n",
      "  alma_mater_row = soup.find('th', text=lambda x: x and \"Alma\" in x)\n"
     ]
    },
    {
     "name": "stdout",
     "output_type": "stream",
     "text": [
      "[ DEBUG ] - Alma mater row not found for /wiki/Steven_Weinberg\n",
      "[ DEBUG ] - Progress: 49.11067193675889%\n"
     ]
    },
    {
     "name": "stderr",
     "output_type": "stream",
     "text": [
      "C:\\Users\\zmorrato\\AppData\\Local\\Temp\\ipykernel_26412\\3563713887.py:21: DeprecationWarning: The 'text' argument to find()-type methods is deprecated. Use 'string' instead.\n",
      "  alma_mater_row = soup.find('th', text=lambda x: x and \"Alma\" in x)\n"
     ]
    },
    {
     "name": "stdout",
     "output_type": "stream",
     "text": [
      "[ DEBUG ] - Progress: 49.209486166007906%\n"
     ]
    },
    {
     "name": "stderr",
     "output_type": "stream",
     "text": [
      "C:\\Users\\zmorrato\\AppData\\Local\\Temp\\ipykernel_26412\\3563713887.py:21: DeprecationWarning: The 'text' argument to find()-type methods is deprecated. Use 'string' instead.\n",
      "  alma_mater_row = soup.find('th', text=lambda x: x and \"Alma\" in x)\n"
     ]
    },
    {
     "name": "stdout",
     "output_type": "stream",
     "text": [
      "[ DEBUG ] - Progress: 49.308300395256914%\n"
     ]
    },
    {
     "name": "stderr",
     "output_type": "stream",
     "text": [
      "C:\\Users\\zmorrato\\AppData\\Local\\Temp\\ipykernel_26412\\3563713887.py:21: DeprecationWarning: The 'text' argument to find()-type methods is deprecated. Use 'string' instead.\n",
      "  alma_mater_row = soup.find('th', text=lambda x: x and \"Alma\" in x)\n"
     ]
    },
    {
     "name": "stdout",
     "output_type": "stream",
     "text": [
      "[ DEBUG ] - Progress: 49.40711462450593%\n"
     ]
    },
    {
     "name": "stderr",
     "output_type": "stream",
     "text": [
      "C:\\Users\\zmorrato\\AppData\\Local\\Temp\\ipykernel_26412\\3563713887.py:21: DeprecationWarning: The 'text' argument to find()-type methods is deprecated. Use 'string' instead.\n",
      "  alma_mater_row = soup.find('th', text=lambda x: x and \"Alma\" in x)\n"
     ]
    },
    {
     "name": "stdout",
     "output_type": "stream",
     "text": [
      "[ DEBUG ] - Alma mater row not found for /wiki/Godfrey_Hounsfield\n",
      "[ DEBUG ] - Progress: 49.50592885375494%\n"
     ]
    },
    {
     "name": "stderr",
     "output_type": "stream",
     "text": [
      "C:\\Users\\zmorrato\\AppData\\Local\\Temp\\ipykernel_26412\\3563713887.py:21: DeprecationWarning: The 'text' argument to find()-type methods is deprecated. Use 'string' instead.\n",
      "  alma_mater_row = soup.find('th', text=lambda x: x and \"Alma\" in x)\n"
     ]
    },
    {
     "name": "stdout",
     "output_type": "stream",
     "text": [
      "[ DEBUG ] - Progress: 49.60474308300395%\n"
     ]
    },
    {
     "name": "stderr",
     "output_type": "stream",
     "text": [
      "C:\\Users\\zmorrato\\AppData\\Local\\Temp\\ipykernel_26412\\3563713887.py:21: DeprecationWarning: The 'text' argument to find()-type methods is deprecated. Use 'string' instead.\n",
      "  alma_mater_row = soup.find('th', text=lambda x: x and \"Alma\" in x)\n"
     ]
    },
    {
     "name": "stdout",
     "output_type": "stream",
     "text": [
      "[ DEBUG ] - Alma mater row not found for /wiki/Mother_Teresa\n",
      "[ DEBUG ] - Progress: 49.70355731225297%\n"
     ]
    },
    {
     "name": "stderr",
     "output_type": "stream",
     "text": [
      "C:\\Users\\zmorrato\\AppData\\Local\\Temp\\ipykernel_26412\\3563713887.py:21: DeprecationWarning: The 'text' argument to find()-type methods is deprecated. Use 'string' instead.\n",
      "  alma_mater_row = soup.find('th', text=lambda x: x and \"Alma\" in x)\n"
     ]
    },
    {
     "name": "stdout",
     "output_type": "stream",
     "text": [
      "[ DEBUG ] - Alma mater row not found for /wiki/Theodore_Schultz\n",
      "[ DEBUG ] - Progress: 49.80237154150198%\n"
     ]
    },
    {
     "name": "stderr",
     "output_type": "stream",
     "text": [
      "C:\\Users\\zmorrato\\AppData\\Local\\Temp\\ipykernel_26412\\3563713887.py:21: DeprecationWarning: The 'text' argument to find()-type methods is deprecated. Use 'string' instead.\n",
      "  alma_mater_row = soup.find('th', text=lambda x: x and \"Alma\" in x)\n"
     ]
    },
    {
     "name": "stdout",
     "output_type": "stream",
     "text": [
      "[ DEBUG ] - Progress: 49.90118577075099%\n"
     ]
    },
    {
     "name": "stderr",
     "output_type": "stream",
     "text": [
      "C:\\Users\\zmorrato\\AppData\\Local\\Temp\\ipykernel_26412\\3563713887.py:21: DeprecationWarning: The 'text' argument to find()-type methods is deprecated. Use 'string' instead.\n",
      "  alma_mater_row = soup.find('th', text=lambda x: x and \"Alma\" in x)\n"
     ]
    },
    {
     "name": "stdout",
     "output_type": "stream",
     "text": [
      "[ DEBUG ] - Progress: 50.0%\n"
     ]
    },
    {
     "name": "stderr",
     "output_type": "stream",
     "text": [
      "C:\\Users\\zmorrato\\AppData\\Local\\Temp\\ipykernel_26412\\3563713887.py:21: DeprecationWarning: The 'text' argument to find()-type methods is deprecated. Use 'string' instead.\n",
      "  alma_mater_row = soup.find('th', text=lambda x: x and \"Alma\" in x)\n"
     ]
    },
    {
     "name": "stdout",
     "output_type": "stream",
     "text": [
      "[ DEBUG ] - Alma mater row not found for /wiki/Val_Logsdon_Fitch\n",
      "[ DEBUG ] - Progress: 50.09881422924901%\n"
     ]
    },
    {
     "name": "stderr",
     "output_type": "stream",
     "text": [
      "C:\\Users\\zmorrato\\AppData\\Local\\Temp\\ipykernel_26412\\3563713887.py:21: DeprecationWarning: The 'text' argument to find()-type methods is deprecated. Use 'string' instead.\n",
      "  alma_mater_row = soup.find('th', text=lambda x: x and \"Alma\" in x)\n"
     ]
    },
    {
     "name": "stdout",
     "output_type": "stream",
     "text": [
      "[ DEBUG ] - Progress: 50.19762845849802%\n"
     ]
    },
    {
     "name": "stderr",
     "output_type": "stream",
     "text": [
      "C:\\Users\\zmorrato\\AppData\\Local\\Temp\\ipykernel_26412\\3563713887.py:21: DeprecationWarning: The 'text' argument to find()-type methods is deprecated. Use 'string' instead.\n",
      "  alma_mater_row = soup.find('th', text=lambda x: x and \"Alma\" in x)\n"
     ]
    },
    {
     "name": "stdout",
     "output_type": "stream",
     "text": [
      "[ DEBUG ] - Alma mater row not found for /wiki/Walter_Gilbert\n",
      "[ DEBUG ] - Progress: 50.29644268774703%\n"
     ]
    },
    {
     "name": "stderr",
     "output_type": "stream",
     "text": [
      "C:\\Users\\zmorrato\\AppData\\Local\\Temp\\ipykernel_26412\\3563713887.py:21: DeprecationWarning: The 'text' argument to find()-type methods is deprecated. Use 'string' instead.\n",
      "  alma_mater_row = soup.find('th', text=lambda x: x and \"Alma\" in x)\n"
     ]
    },
    {
     "name": "stdout",
     "output_type": "stream",
     "text": [
      "[ DEBUG ] - Progress: 50.39525691699605%\n"
     ]
    },
    {
     "name": "stderr",
     "output_type": "stream",
     "text": [
      "C:\\Users\\zmorrato\\AppData\\Local\\Temp\\ipykernel_26412\\3563713887.py:21: DeprecationWarning: The 'text' argument to find()-type methods is deprecated. Use 'string' instead.\n",
      "  alma_mater_row = soup.find('th', text=lambda x: x and \"Alma\" in x)\n"
     ]
    },
    {
     "name": "stdout",
     "output_type": "stream",
     "text": [
      "[ DEBUG ] - Progress: 50.494071146245055%\n"
     ]
    },
    {
     "name": "stderr",
     "output_type": "stream",
     "text": [
      "C:\\Users\\zmorrato\\AppData\\Local\\Temp\\ipykernel_26412\\3563713887.py:21: DeprecationWarning: The 'text' argument to find()-type methods is deprecated. Use 'string' instead.\n",
      "  alma_mater_row = soup.find('th', text=lambda x: x and \"Alma\" in x)\n"
     ]
    },
    {
     "name": "stdout",
     "output_type": "stream",
     "text": [
      "[ DEBUG ] - Progress: 50.59288537549407%\n"
     ]
    },
    {
     "name": "stderr",
     "output_type": "stream",
     "text": [
      "C:\\Users\\zmorrato\\AppData\\Local\\Temp\\ipykernel_26412\\3563713887.py:21: DeprecationWarning: The 'text' argument to find()-type methods is deprecated. Use 'string' instead.\n",
      "  alma_mater_row = soup.find('th', text=lambda x: x and \"Alma\" in x)\n"
     ]
    },
    {
     "name": "stdout",
     "output_type": "stream",
     "text": [
      "[ DEBUG ] - Progress: 50.69169960474308%\n"
     ]
    },
    {
     "name": "stderr",
     "output_type": "stream",
     "text": [
      "C:\\Users\\zmorrato\\AppData\\Local\\Temp\\ipykernel_26412\\3563713887.py:21: DeprecationWarning: The 'text' argument to find()-type methods is deprecated. Use 'string' instead.\n",
      "  alma_mater_row = soup.find('th', text=lambda x: x and \"Alma\" in x)\n"
     ]
    },
    {
     "name": "stdout",
     "output_type": "stream",
     "text": [
      "[ DEBUG ] - Alma mater row not found for /wiki/Czes%C5%82aw_Mi%C5%82osz\n",
      "[ DEBUG ] - Progress: 50.790513833992094%\n"
     ]
    },
    {
     "name": "stderr",
     "output_type": "stream",
     "text": [
      "C:\\Users\\zmorrato\\AppData\\Local\\Temp\\ipykernel_26412\\3563713887.py:21: DeprecationWarning: The 'text' argument to find()-type methods is deprecated. Use 'string' instead.\n",
      "  alma_mater_row = soup.find('th', text=lambda x: x and \"Alma\" in x)\n"
     ]
    },
    {
     "name": "stdout",
     "output_type": "stream",
     "text": [
      "[ DEBUG ] - Progress: 50.8893280632411%\n"
     ]
    },
    {
     "name": "stderr",
     "output_type": "stream",
     "text": [
      "C:\\Users\\zmorrato\\AppData\\Local\\Temp\\ipykernel_26412\\3563713887.py:21: DeprecationWarning: The 'text' argument to find()-type methods is deprecated. Use 'string' instead.\n",
      "  alma_mater_row = soup.find('th', text=lambda x: x and \"Alma\" in x)\n"
     ]
    },
    {
     "name": "stdout",
     "output_type": "stream",
     "text": [
      "[ DEBUG ] - Progress: 50.988142292490124%\n"
     ]
    },
    {
     "name": "stderr",
     "output_type": "stream",
     "text": [
      "C:\\Users\\zmorrato\\AppData\\Local\\Temp\\ipykernel_26412\\3563713887.py:21: DeprecationWarning: The 'text' argument to find()-type methods is deprecated. Use 'string' instead.\n",
      "  alma_mater_row = soup.find('th', text=lambda x: x and \"Alma\" in x)\n"
     ]
    },
    {
     "name": "stdout",
     "output_type": "stream",
     "text": [
      "[ DEBUG ] - Progress: 51.08695652173913%\n"
     ]
    },
    {
     "name": "stderr",
     "output_type": "stream",
     "text": [
      "C:\\Users\\zmorrato\\AppData\\Local\\Temp\\ipykernel_26412\\3563713887.py:21: DeprecationWarning: The 'text' argument to find()-type methods is deprecated. Use 'string' instead.\n",
      "  alma_mater_row = soup.find('th', text=lambda x: x and \"Alma\" in x)\n"
     ]
    },
    {
     "name": "stdout",
     "output_type": "stream",
     "text": [
      "[ DEBUG ] - Progress: 51.18577075098815%\n"
     ]
    },
    {
     "name": "stderr",
     "output_type": "stream",
     "text": [
      "C:\\Users\\zmorrato\\AppData\\Local\\Temp\\ipykernel_26412\\3563713887.py:21: DeprecationWarning: The 'text' argument to find()-type methods is deprecated. Use 'string' instead.\n",
      "  alma_mater_row = soup.find('th', text=lambda x: x and \"Alma\" in x)\n"
     ]
    },
    {
     "name": "stdout",
     "output_type": "stream",
     "text": [
      "[ DEBUG ] - Progress: 51.284584980237156%\n"
     ]
    },
    {
     "name": "stderr",
     "output_type": "stream",
     "text": [
      "C:\\Users\\zmorrato\\AppData\\Local\\Temp\\ipykernel_26412\\3563713887.py:21: DeprecationWarning: The 'text' argument to find()-type methods is deprecated. Use 'string' instead.\n",
      "  alma_mater_row = soup.find('th', text=lambda x: x and \"Alma\" in x)\n"
     ]
    },
    {
     "name": "stdout",
     "output_type": "stream",
     "text": [
      "[ DEBUG ] - Progress: 51.38339920948617%\n"
     ]
    },
    {
     "name": "stderr",
     "output_type": "stream",
     "text": [
      "C:\\Users\\zmorrato\\AppData\\Local\\Temp\\ipykernel_26412\\3563713887.py:21: DeprecationWarning: The 'text' argument to find()-type methods is deprecated. Use 'string' instead.\n",
      "  alma_mater_row = soup.find('th', text=lambda x: x and \"Alma\" in x)\n"
     ]
    },
    {
     "name": "stdout",
     "output_type": "stream",
     "text": [
      "[ DEBUG ] - Progress: 51.48221343873518%\n"
     ]
    },
    {
     "name": "stderr",
     "output_type": "stream",
     "text": [
      "C:\\Users\\zmorrato\\AppData\\Local\\Temp\\ipykernel_26412\\3563713887.py:21: DeprecationWarning: The 'text' argument to find()-type methods is deprecated. Use 'string' instead.\n",
      "  alma_mater_row = soup.find('th', text=lambda x: x and \"Alma\" in x)\n"
     ]
    },
    {
     "name": "stdout",
     "output_type": "stream",
     "text": [
      "[ DEBUG ] - Progress: 51.581027667984195%\n"
     ]
    },
    {
     "name": "stderr",
     "output_type": "stream",
     "text": [
      "C:\\Users\\zmorrato\\AppData\\Local\\Temp\\ipykernel_26412\\3563713887.py:21: DeprecationWarning: The 'text' argument to find()-type methods is deprecated. Use 'string' instead.\n",
      "  alma_mater_row = soup.find('th', text=lambda x: x and \"Alma\" in x)\n"
     ]
    },
    {
     "name": "stdout",
     "output_type": "stream",
     "text": [
      "[ DEBUG ] - Progress: 51.6798418972332%\n"
     ]
    },
    {
     "name": "stderr",
     "output_type": "stream",
     "text": [
      "C:\\Users\\zmorrato\\AppData\\Local\\Temp\\ipykernel_26412\\3563713887.py:21: DeprecationWarning: The 'text' argument to find()-type methods is deprecated. Use 'string' instead.\n",
      "  alma_mater_row = soup.find('th', text=lambda x: x and \"Alma\" in x)\n"
     ]
    },
    {
     "name": "stdout",
     "output_type": "stream",
     "text": [
      "[ DEBUG ] - Progress: 51.77865612648221%\n"
     ]
    },
    {
     "name": "stderr",
     "output_type": "stream",
     "text": [
      "C:\\Users\\zmorrato\\AppData\\Local\\Temp\\ipykernel_26412\\3563713887.py:21: DeprecationWarning: The 'text' argument to find()-type methods is deprecated. Use 'string' instead.\n",
      "  alma_mater_row = soup.find('th', text=lambda x: x and \"Alma\" in x)\n"
     ]
    },
    {
     "name": "stdout",
     "output_type": "stream",
     "text": [
      "[ DEBUG ] - Progress: 51.87747035573123%\n"
     ]
    },
    {
     "name": "stderr",
     "output_type": "stream",
     "text": [
      "C:\\Users\\zmorrato\\AppData\\Local\\Temp\\ipykernel_26412\\3563713887.py:21: DeprecationWarning: The 'text' argument to find()-type methods is deprecated. Use 'string' instead.\n",
      "  alma_mater_row = soup.find('th', text=lambda x: x and \"Alma\" in x)\n"
     ]
    },
    {
     "name": "stdout",
     "output_type": "stream",
     "text": [
      "[ DEBUG ] - Alma mater row not found for /wiki/United_Nations_High_Commissioner_for_Refugees\n",
      "[ DEBUG ] - Progress: 51.976284584980235%\n"
     ]
    },
    {
     "name": "stderr",
     "output_type": "stream",
     "text": [
      "C:\\Users\\zmorrato\\AppData\\Local\\Temp\\ipykernel_26412\\3563713887.py:21: DeprecationWarning: The 'text' argument to find()-type methods is deprecated. Use 'string' instead.\n",
      "  alma_mater_row = soup.find('th', text=lambda x: x and \"Alma\" in x)\n"
     ]
    },
    {
     "name": "stdout",
     "output_type": "stream",
     "text": [
      "[ DEBUG ] - Progress: 52.07509881422925%\n"
     ]
    },
    {
     "name": "stderr",
     "output_type": "stream",
     "text": [
      "C:\\Users\\zmorrato\\AppData\\Local\\Temp\\ipykernel_26412\\3563713887.py:21: DeprecationWarning: The 'text' argument to find()-type methods is deprecated. Use 'string' instead.\n",
      "  alma_mater_row = soup.find('th', text=lambda x: x and \"Alma\" in x)\n"
     ]
    },
    {
     "name": "stdout",
     "output_type": "stream",
     "text": [
      "[ DEBUG ] - Alma mater row not found for /wiki/Kenneth_G._Wilson\n",
      "[ DEBUG ] - Progress: 52.17391304347826%\n"
     ]
    },
    {
     "name": "stderr",
     "output_type": "stream",
     "text": [
      "C:\\Users\\zmorrato\\AppData\\Local\\Temp\\ipykernel_26412\\3563713887.py:21: DeprecationWarning: The 'text' argument to find()-type methods is deprecated. Use 'string' instead.\n",
      "  alma_mater_row = soup.find('th', text=lambda x: x and \"Alma\" in x)\n"
     ]
    },
    {
     "name": "stdout",
     "output_type": "stream",
     "text": [
      "[ DEBUG ] - Alma mater row not found for /wiki/Aaron_Klug\n",
      "[ DEBUG ] - Progress: 52.27272727272727%\n"
     ]
    },
    {
     "name": "stderr",
     "output_type": "stream",
     "text": [
      "C:\\Users\\zmorrato\\AppData\\Local\\Temp\\ipykernel_26412\\3563713887.py:21: DeprecationWarning: The 'text' argument to find()-type methods is deprecated. Use 'string' instead.\n",
      "  alma_mater_row = soup.find('th', text=lambda x: x and \"Alma\" in x)\n"
     ]
    },
    {
     "name": "stdout",
     "output_type": "stream",
     "text": [
      "[ DEBUG ] - Alma mater row not found for /wiki/Sune_Bergstr%C3%B6m\n",
      "[ DEBUG ] - Progress: 52.37154150197628%\n"
     ]
    },
    {
     "name": "stderr",
     "output_type": "stream",
     "text": [
      "C:\\Users\\zmorrato\\AppData\\Local\\Temp\\ipykernel_26412\\3563713887.py:21: DeprecationWarning: The 'text' argument to find()-type methods is deprecated. Use 'string' instead.\n",
      "  alma_mater_row = soup.find('th', text=lambda x: x and \"Alma\" in x)\n"
     ]
    },
    {
     "name": "stdout",
     "output_type": "stream",
     "text": [
      "[ DEBUG ] - Progress: 52.4703557312253%\n"
     ]
    },
    {
     "name": "stderr",
     "output_type": "stream",
     "text": [
      "C:\\Users\\zmorrato\\AppData\\Local\\Temp\\ipykernel_26412\\3563713887.py:21: DeprecationWarning: The 'text' argument to find()-type methods is deprecated. Use 'string' instead.\n",
      "  alma_mater_row = soup.find('th', text=lambda x: x and \"Alma\" in x)\n"
     ]
    },
    {
     "name": "stdout",
     "output_type": "stream",
     "text": [
      "[ DEBUG ] - Progress: 52.569169960474305%\n"
     ]
    },
    {
     "name": "stderr",
     "output_type": "stream",
     "text": [
      "C:\\Users\\zmorrato\\AppData\\Local\\Temp\\ipykernel_26412\\3563713887.py:21: DeprecationWarning: The 'text' argument to find()-type methods is deprecated. Use 'string' instead.\n",
      "  alma_mater_row = soup.find('th', text=lambda x: x and \"Alma\" in x)\n"
     ]
    },
    {
     "name": "stdout",
     "output_type": "stream",
     "text": [
      "[ DEBUG ] - Progress: 52.66798418972331%\n"
     ]
    },
    {
     "name": "stderr",
     "output_type": "stream",
     "text": [
      "C:\\Users\\zmorrato\\AppData\\Local\\Temp\\ipykernel_26412\\3563713887.py:21: DeprecationWarning: The 'text' argument to find()-type methods is deprecated. Use 'string' instead.\n",
      "  alma_mater_row = soup.find('th', text=lambda x: x and \"Alma\" in x)\n"
     ]
    },
    {
     "name": "stdout",
     "output_type": "stream",
     "text": [
      "[ DEBUG ] - Alma mater row not found for /wiki/Alva_Myrdal\n",
      "[ DEBUG ] - Progress: 52.76679841897233%\n"
     ]
    },
    {
     "name": "stderr",
     "output_type": "stream",
     "text": [
      "C:\\Users\\zmorrato\\AppData\\Local\\Temp\\ipykernel_26412\\3563713887.py:21: DeprecationWarning: The 'text' argument to find()-type methods is deprecated. Use 'string' instead.\n",
      "  alma_mater_row = soup.find('th', text=lambda x: x and \"Alma\" in x)\n"
     ]
    },
    {
     "name": "stdout",
     "output_type": "stream",
     "text": [
      "[ DEBUG ] - Progress: 52.86561264822134%\n"
     ]
    },
    {
     "name": "stderr",
     "output_type": "stream",
     "text": [
      "C:\\Users\\zmorrato\\AppData\\Local\\Temp\\ipykernel_26412\\3563713887.py:21: DeprecationWarning: The 'text' argument to find()-type methods is deprecated. Use 'string' instead.\n",
      "  alma_mater_row = soup.find('th', text=lambda x: x and \"Alma\" in x)\n"
     ]
    },
    {
     "name": "stdout",
     "output_type": "stream",
     "text": [
      "[ DEBUG ] - Alma mater row not found for /wiki/George_Stigler\n",
      "[ DEBUG ] - Progress: 52.96442687747036%\n"
     ]
    },
    {
     "name": "stderr",
     "output_type": "stream",
     "text": [
      "C:\\Users\\zmorrato\\AppData\\Local\\Temp\\ipykernel_26412\\3563713887.py:21: DeprecationWarning: The 'text' argument to find()-type methods is deprecated. Use 'string' instead.\n",
      "  alma_mater_row = soup.find('th', text=lambda x: x and \"Alma\" in x)\n"
     ]
    },
    {
     "name": "stdout",
     "output_type": "stream",
     "text": [
      "[ DEBUG ] - Progress: 53.063241106719374%\n"
     ]
    },
    {
     "name": "stderr",
     "output_type": "stream",
     "text": [
      "C:\\Users\\zmorrato\\AppData\\Local\\Temp\\ipykernel_26412\\3563713887.py:21: DeprecationWarning: The 'text' argument to find()-type methods is deprecated. Use 'string' instead.\n",
      "  alma_mater_row = soup.find('th', text=lambda x: x and \"Alma\" in x)\n"
     ]
    },
    {
     "name": "stdout",
     "output_type": "stream",
     "text": [
      "[ DEBUG ] - Progress: 53.16205533596838%\n"
     ]
    },
    {
     "name": "stderr",
     "output_type": "stream",
     "text": [
      "C:\\Users\\zmorrato\\AppData\\Local\\Temp\\ipykernel_26412\\3563713887.py:21: DeprecationWarning: The 'text' argument to find()-type methods is deprecated. Use 'string' instead.\n",
      "  alma_mater_row = soup.find('th', text=lambda x: x and \"Alma\" in x)\n"
     ]
    },
    {
     "name": "stdout",
     "output_type": "stream",
     "text": [
      "[ DEBUG ] - Progress: 53.2608695652174%\n"
     ]
    },
    {
     "name": "stderr",
     "output_type": "stream",
     "text": [
      "C:\\Users\\zmorrato\\AppData\\Local\\Temp\\ipykernel_26412\\3563713887.py:21: DeprecationWarning: The 'text' argument to find()-type methods is deprecated. Use 'string' instead.\n",
      "  alma_mater_row = soup.find('th', text=lambda x: x and \"Alma\" in x)\n"
     ]
    },
    {
     "name": "stdout",
     "output_type": "stream",
     "text": [
      "[ DEBUG ] - Progress: 53.359683794466406%\n"
     ]
    },
    {
     "name": "stderr",
     "output_type": "stream",
     "text": [
      "C:\\Users\\zmorrato\\AppData\\Local\\Temp\\ipykernel_26412\\3563713887.py:21: DeprecationWarning: The 'text' argument to find()-type methods is deprecated. Use 'string' instead.\n",
      "  alma_mater_row = soup.find('th', text=lambda x: x and \"Alma\" in x)\n"
     ]
    },
    {
     "name": "stdout",
     "output_type": "stream",
     "text": [
      "[ DEBUG ] - Progress: 53.458498023715414%\n"
     ]
    },
    {
     "name": "stderr",
     "output_type": "stream",
     "text": [
      "C:\\Users\\zmorrato\\AppData\\Local\\Temp\\ipykernel_26412\\3563713887.py:21: DeprecationWarning: The 'text' argument to find()-type methods is deprecated. Use 'string' instead.\n",
      "  alma_mater_row = soup.find('th', text=lambda x: x and \"Alma\" in x)\n"
     ]
    },
    {
     "name": "stdout",
     "output_type": "stream",
     "text": [
      "[ DEBUG ] - Alma mater row not found for /wiki/Lech_Wa%C5%82%C4%99sa\n",
      "[ DEBUG ] - Progress: 53.55731225296443%\n"
     ]
    },
    {
     "name": "stderr",
     "output_type": "stream",
     "text": [
      "C:\\Users\\zmorrato\\AppData\\Local\\Temp\\ipykernel_26412\\3563713887.py:21: DeprecationWarning: The 'text' argument to find()-type methods is deprecated. Use 'string' instead.\n",
      "  alma_mater_row = soup.find('th', text=lambda x: x and \"Alma\" in x)\n"
     ]
    },
    {
     "name": "stdout",
     "output_type": "stream",
     "text": [
      "[ DEBUG ] - Progress: 53.65612648221344%\n"
     ]
    },
    {
     "name": "stderr",
     "output_type": "stream",
     "text": [
      "C:\\Users\\zmorrato\\AppData\\Local\\Temp\\ipykernel_26412\\3563713887.py:21: DeprecationWarning: The 'text' argument to find()-type methods is deprecated. Use 'string' instead.\n",
      "  alma_mater_row = soup.find('th', text=lambda x: x and \"Alma\" in x)\n"
     ]
    },
    {
     "name": "stdout",
     "output_type": "stream",
     "text": [
      "[ DEBUG ] - Progress: 53.75494071146245%\n"
     ]
    },
    {
     "name": "stderr",
     "output_type": "stream",
     "text": [
      "C:\\Users\\zmorrato\\AppData\\Local\\Temp\\ipykernel_26412\\3563713887.py:21: DeprecationWarning: The 'text' argument to find()-type methods is deprecated. Use 'string' instead.\n",
      "  alma_mater_row = soup.find('th', text=lambda x: x and \"Alma\" in x)\n"
     ]
    },
    {
     "name": "stdout",
     "output_type": "stream",
     "text": [
      "[ DEBUG ] - Progress: 53.85375494071146%\n"
     ]
    },
    {
     "name": "stderr",
     "output_type": "stream",
     "text": [
      "C:\\Users\\zmorrato\\AppData\\Local\\Temp\\ipykernel_26412\\3563713887.py:21: DeprecationWarning: The 'text' argument to find()-type methods is deprecated. Use 'string' instead.\n",
      "  alma_mater_row = soup.find('th', text=lambda x: x and \"Alma\" in x)\n"
     ]
    },
    {
     "name": "stdout",
     "output_type": "stream",
     "text": [
      "[ DEBUG ] - Progress: 53.952569169960476%\n"
     ]
    },
    {
     "name": "stderr",
     "output_type": "stream",
     "text": [
      "C:\\Users\\zmorrato\\AppData\\Local\\Temp\\ipykernel_26412\\3563713887.py:21: DeprecationWarning: The 'text' argument to find()-type methods is deprecated. Use 'string' instead.\n",
      "  alma_mater_row = soup.find('th', text=lambda x: x and \"Alma\" in x)\n"
     ]
    },
    {
     "name": "stdout",
     "output_type": "stream",
     "text": [
      "[ DEBUG ] - Alma mater row not found for /wiki/Niels_Kaj_Jerne\n",
      "[ DEBUG ] - Progress: 54.051383399209485%\n"
     ]
    },
    {
     "name": "stderr",
     "output_type": "stream",
     "text": [
      "C:\\Users\\zmorrato\\AppData\\Local\\Temp\\ipykernel_26412\\3563713887.py:21: DeprecationWarning: The 'text' argument to find()-type methods is deprecated. Use 'string' instead.\n",
      "  alma_mater_row = soup.find('th', text=lambda x: x and \"Alma\" in x)\n"
     ]
    },
    {
     "name": "stdout",
     "output_type": "stream",
     "text": [
      "[ DEBUG ] - Alma mater row not found for /wiki/Georges_J._F._K%C3%B6hler\n",
      "[ DEBUG ] - Progress: 54.1501976284585%\n"
     ]
    },
    {
     "name": "stderr",
     "output_type": "stream",
     "text": [
      "C:\\Users\\zmorrato\\AppData\\Local\\Temp\\ipykernel_26412\\3563713887.py:21: DeprecationWarning: The 'text' argument to find()-type methods is deprecated. Use 'string' instead.\n",
      "  alma_mater_row = soup.find('th', text=lambda x: x and \"Alma\" in x)\n"
     ]
    },
    {
     "name": "stdout",
     "output_type": "stream",
     "text": [
      "[ DEBUG ] - Progress: 54.24901185770751%\n"
     ]
    },
    {
     "name": "stderr",
     "output_type": "stream",
     "text": [
      "C:\\Users\\zmorrato\\AppData\\Local\\Temp\\ipykernel_26412\\3563713887.py:21: DeprecationWarning: The 'text' argument to find()-type methods is deprecated. Use 'string' instead.\n",
      "  alma_mater_row = soup.find('th', text=lambda x: x and \"Alma\" in x)\n"
     ]
    },
    {
     "name": "stdout",
     "output_type": "stream",
     "text": [
      "[ DEBUG ] - Alma mater row not found for /wiki/Jaroslav_Seifert\n",
      "[ DEBUG ] - Progress: 54.347826086956516%\n"
     ]
    },
    {
     "name": "stderr",
     "output_type": "stream",
     "text": [
      "C:\\Users\\zmorrato\\AppData\\Local\\Temp\\ipykernel_26412\\3563713887.py:21: DeprecationWarning: The 'text' argument to find()-type methods is deprecated. Use 'string' instead.\n",
      "  alma_mater_row = soup.find('th', text=lambda x: x and \"Alma\" in x)\n"
     ]
    },
    {
     "name": "stdout",
     "output_type": "stream",
     "text": [
      "[ DEBUG ] - Alma mater row not found for /wiki/Desmond_Tutu\n",
      "[ DEBUG ] - Progress: 54.44664031620553%\n"
     ]
    },
    {
     "name": "stderr",
     "output_type": "stream",
     "text": [
      "C:\\Users\\zmorrato\\AppData\\Local\\Temp\\ipykernel_26412\\3563713887.py:21: DeprecationWarning: The 'text' argument to find()-type methods is deprecated. Use 'string' instead.\n",
      "  alma_mater_row = soup.find('th', text=lambda x: x and \"Alma\" in x)\n"
     ]
    },
    {
     "name": "stdout",
     "output_type": "stream",
     "text": [
      "[ DEBUG ] - Progress: 54.54545454545454%\n"
     ]
    },
    {
     "name": "stderr",
     "output_type": "stream",
     "text": [
      "C:\\Users\\zmorrato\\AppData\\Local\\Temp\\ipykernel_26412\\3563713887.py:21: DeprecationWarning: The 'text' argument to find()-type methods is deprecated. Use 'string' instead.\n",
      "  alma_mater_row = soup.find('th', text=lambda x: x and \"Alma\" in x)\n"
     ]
    },
    {
     "name": "stdout",
     "output_type": "stream",
     "text": [
      "[ DEBUG ] - Alma mater row not found for /wiki/Klaus_von_Klitzing\n",
      "[ DEBUG ] - Progress: 54.644268774703555%\n"
     ]
    },
    {
     "name": "stderr",
     "output_type": "stream",
     "text": [
      "C:\\Users\\zmorrato\\AppData\\Local\\Temp\\ipykernel_26412\\3563713887.py:21: DeprecationWarning: The 'text' argument to find()-type methods is deprecated. Use 'string' instead.\n",
      "  alma_mater_row = soup.find('th', text=lambda x: x and \"Alma\" in x)\n"
     ]
    },
    {
     "name": "stdout",
     "output_type": "stream",
     "text": [
      "[ DEBUG ] - Progress: 54.74308300395256%\n"
     ]
    },
    {
     "name": "stderr",
     "output_type": "stream",
     "text": [
      "C:\\Users\\zmorrato\\AppData\\Local\\Temp\\ipykernel_26412\\3563713887.py:21: DeprecationWarning: The 'text' argument to find()-type methods is deprecated. Use 'string' instead.\n",
      "  alma_mater_row = soup.find('th', text=lambda x: x and \"Alma\" in x)\n"
     ]
    },
    {
     "name": "stdout",
     "output_type": "stream",
     "text": [
      "[ DEBUG ] - Progress: 54.841897233201585%\n"
     ]
    },
    {
     "name": "stderr",
     "output_type": "stream",
     "text": [
      "C:\\Users\\zmorrato\\AppData\\Local\\Temp\\ipykernel_26412\\3563713887.py:21: DeprecationWarning: The 'text' argument to find()-type methods is deprecated. Use 'string' instead.\n",
      "  alma_mater_row = soup.find('th', text=lambda x: x and \"Alma\" in x)\n"
     ]
    },
    {
     "name": "stdout",
     "output_type": "stream",
     "text": [
      "[ DEBUG ] - Progress: 54.9407114624506%\n"
     ]
    },
    {
     "name": "stderr",
     "output_type": "stream",
     "text": [
      "C:\\Users\\zmorrato\\AppData\\Local\\Temp\\ipykernel_26412\\3563713887.py:21: DeprecationWarning: The 'text' argument to find()-type methods is deprecated. Use 'string' instead.\n",
      "  alma_mater_row = soup.find('th', text=lambda x: x and \"Alma\" in x)\n"
     ]
    },
    {
     "name": "stdout",
     "output_type": "stream",
     "text": [
      "[ DEBUG ] - Progress: 55.03952569169961%\n"
     ]
    },
    {
     "name": "stderr",
     "output_type": "stream",
     "text": [
      "C:\\Users\\zmorrato\\AppData\\Local\\Temp\\ipykernel_26412\\3563713887.py:21: DeprecationWarning: The 'text' argument to find()-type methods is deprecated. Use 'string' instead.\n",
      "  alma_mater_row = soup.find('th', text=lambda x: x and \"Alma\" in x)\n"
     ]
    },
    {
     "name": "stdout",
     "output_type": "stream",
     "text": [
      "[ DEBUG ] - Alma mater row not found for /wiki/Claude_Simon\n",
      "[ DEBUG ] - Progress: 55.13833992094862%\n"
     ]
    },
    {
     "name": "stderr",
     "output_type": "stream",
     "text": [
      "C:\\Users\\zmorrato\\AppData\\Local\\Temp\\ipykernel_26412\\3563713887.py:21: DeprecationWarning: The 'text' argument to find()-type methods is deprecated. Use 'string' instead.\n",
      "  alma_mater_row = soup.find('th', text=lambda x: x and \"Alma\" in x)\n"
     ]
    },
    {
     "name": "stdout",
     "output_type": "stream",
     "text": [
      "[ DEBUG ] - Alma mater row not found for /wiki/International_Physicians_for_the_Prevention_of_Nuclear_War\n",
      "[ DEBUG ] - Progress: 55.23715415019763%\n"
     ]
    },
    {
     "name": "stderr",
     "output_type": "stream",
     "text": [
      "C:\\Users\\zmorrato\\AppData\\Local\\Temp\\ipykernel_26412\\3563713887.py:21: DeprecationWarning: The 'text' argument to find()-type methods is deprecated. Use 'string' instead.\n",
      "  alma_mater_row = soup.find('th', text=lambda x: x and \"Alma\" in x)\n"
     ]
    },
    {
     "name": "stdout",
     "output_type": "stream",
     "text": [
      "[ DEBUG ] - Progress: 55.33596837944664%\n"
     ]
    },
    {
     "name": "stderr",
     "output_type": "stream",
     "text": [
      "C:\\Users\\zmorrato\\AppData\\Local\\Temp\\ipykernel_26412\\3563713887.py:21: DeprecationWarning: The 'text' argument to find()-type methods is deprecated. Use 'string' instead.\n",
      "  alma_mater_row = soup.find('th', text=lambda x: x and \"Alma\" in x)\n"
     ]
    },
    {
     "name": "stdout",
     "output_type": "stream",
     "text": [
      "[ DEBUG ] - Progress: 55.434782608695656%\n"
     ]
    },
    {
     "name": "stderr",
     "output_type": "stream",
     "text": [
      "C:\\Users\\zmorrato\\AppData\\Local\\Temp\\ipykernel_26412\\3563713887.py:21: DeprecationWarning: The 'text' argument to find()-type methods is deprecated. Use 'string' instead.\n",
      "  alma_mater_row = soup.find('th', text=lambda x: x and \"Alma\" in x)\n"
     ]
    },
    {
     "name": "stdout",
     "output_type": "stream",
     "text": [
      "[ DEBUG ] - Progress: 55.533596837944664%\n"
     ]
    },
    {
     "name": "stderr",
     "output_type": "stream",
     "text": [
      "C:\\Users\\zmorrato\\AppData\\Local\\Temp\\ipykernel_26412\\3563713887.py:21: DeprecationWarning: The 'text' argument to find()-type methods is deprecated. Use 'string' instead.\n",
      "  alma_mater_row = soup.find('th', text=lambda x: x and \"Alma\" in x)\n"
     ]
    },
    {
     "name": "stdout",
     "output_type": "stream",
     "text": [
      "[ DEBUG ] - Alma mater row not found for /wiki/Heinrich_Rohrer\n",
      "[ DEBUG ] - Progress: 55.63241106719368%\n"
     ]
    },
    {
     "name": "stderr",
     "output_type": "stream",
     "text": [
      "C:\\Users\\zmorrato\\AppData\\Local\\Temp\\ipykernel_26412\\3563713887.py:21: DeprecationWarning: The 'text' argument to find()-type methods is deprecated. Use 'string' instead.\n",
      "  alma_mater_row = soup.find('th', text=lambda x: x and \"Alma\" in x)\n"
     ]
    },
    {
     "name": "stdout",
     "output_type": "stream",
     "text": [
      "[ DEBUG ] - Progress: 55.73122529644269%\n"
     ]
    },
    {
     "name": "stderr",
     "output_type": "stream",
     "text": [
      "C:\\Users\\zmorrato\\AppData\\Local\\Temp\\ipykernel_26412\\3563713887.py:21: DeprecationWarning: The 'text' argument to find()-type methods is deprecated. Use 'string' instead.\n",
      "  alma_mater_row = soup.find('th', text=lambda x: x and \"Alma\" in x)\n"
     ]
    },
    {
     "name": "stdout",
     "output_type": "stream",
     "text": [
      "[ DEBUG ] - Alma mater row not found for /wiki/Yuan_T._Lee\n",
      "[ DEBUG ] - Progress: 55.8300395256917%\n"
     ]
    },
    {
     "name": "stderr",
     "output_type": "stream",
     "text": [
      "C:\\Users\\zmorrato\\AppData\\Local\\Temp\\ipykernel_26412\\3563713887.py:21: DeprecationWarning: The 'text' argument to find()-type methods is deprecated. Use 'string' instead.\n",
      "  alma_mater_row = soup.find('th', text=lambda x: x and \"Alma\" in x)\n"
     ]
    },
    {
     "name": "stdout",
     "output_type": "stream",
     "text": [
      "[ DEBUG ] - Progress: 55.92885375494071%\n"
     ]
    },
    {
     "name": "stderr",
     "output_type": "stream",
     "text": [
      "C:\\Users\\zmorrato\\AppData\\Local\\Temp\\ipykernel_26412\\3563713887.py:21: DeprecationWarning: The 'text' argument to find()-type methods is deprecated. Use 'string' instead.\n",
      "  alma_mater_row = soup.find('th', text=lambda x: x and \"Alma\" in x)\n"
     ]
    },
    {
     "name": "stdout",
     "output_type": "stream",
     "text": [
      "[ DEBUG ] - Alma mater row not found for /wiki/Stanley_Cohen_(biochemist)\n",
      "[ DEBUG ] - Progress: 56.02766798418972%\n"
     ]
    },
    {
     "name": "stderr",
     "output_type": "stream",
     "text": [
      "C:\\Users\\zmorrato\\AppData\\Local\\Temp\\ipykernel_26412\\3563713887.py:21: DeprecationWarning: The 'text' argument to find()-type methods is deprecated. Use 'string' instead.\n",
      "  alma_mater_row = soup.find('th', text=lambda x: x and \"Alma\" in x)\n"
     ]
    },
    {
     "name": "stdout",
     "output_type": "stream",
     "text": [
      "[ DEBUG ] - Progress: 56.126482213438734%\n"
     ]
    },
    {
     "name": "stderr",
     "output_type": "stream",
     "text": [
      "C:\\Users\\zmorrato\\AppData\\Local\\Temp\\ipykernel_26412\\3563713887.py:21: DeprecationWarning: The 'text' argument to find()-type methods is deprecated. Use 'string' instead.\n",
      "  alma_mater_row = soup.find('th', text=lambda x: x and \"Alma\" in x)\n"
     ]
    },
    {
     "name": "stdout",
     "output_type": "stream",
     "text": [
      "[ DEBUG ] - Progress: 56.22529644268774%\n"
     ]
    },
    {
     "name": "stderr",
     "output_type": "stream",
     "text": [
      "C:\\Users\\zmorrato\\AppData\\Local\\Temp\\ipykernel_26412\\3563713887.py:21: DeprecationWarning: The 'text' argument to find()-type methods is deprecated. Use 'string' instead.\n",
      "  alma_mater_row = soup.find('th', text=lambda x: x and \"Alma\" in x)\n"
     ]
    },
    {
     "name": "stdout",
     "output_type": "stream",
     "text": [
      "[ DEBUG ] - Progress: 56.32411067193676%\n"
     ]
    },
    {
     "name": "stderr",
     "output_type": "stream",
     "text": [
      "C:\\Users\\zmorrato\\AppData\\Local\\Temp\\ipykernel_26412\\3563713887.py:21: DeprecationWarning: The 'text' argument to find()-type methods is deprecated. Use 'string' instead.\n",
      "  alma_mater_row = soup.find('th', text=lambda x: x and \"Alma\" in x)\n"
     ]
    },
    {
     "name": "stdout",
     "output_type": "stream",
     "text": [
      "[ DEBUG ] - Alma mater row not found for /wiki/James_M._Buchanan\n",
      "[ DEBUG ] - Progress: 56.422924901185766%\n"
     ]
    },
    {
     "name": "stderr",
     "output_type": "stream",
     "text": [
      "C:\\Users\\zmorrato\\AppData\\Local\\Temp\\ipykernel_26412\\3563713887.py:21: DeprecationWarning: The 'text' argument to find()-type methods is deprecated. Use 'string' instead.\n",
      "  alma_mater_row = soup.find('th', text=lambda x: x and \"Alma\" in x)\n"
     ]
    },
    {
     "name": "stdout",
     "output_type": "stream",
     "text": [
      "[ DEBUG ] - Alma mater row not found for /wiki/Georg_Bednorz\n",
      "[ DEBUG ] - Progress: 56.52173913043478%\n"
     ]
    },
    {
     "name": "stderr",
     "output_type": "stream",
     "text": [
      "C:\\Users\\zmorrato\\AppData\\Local\\Temp\\ipykernel_26412\\3563713887.py:21: DeprecationWarning: The 'text' argument to find()-type methods is deprecated. Use 'string' instead.\n",
      "  alma_mater_row = soup.find('th', text=lambda x: x and \"Alma\" in x)\n"
     ]
    },
    {
     "name": "stdout",
     "output_type": "stream",
     "text": [
      "[ DEBUG ] - Progress: 56.62055335968379%\n"
     ]
    },
    {
     "name": "stderr",
     "output_type": "stream",
     "text": [
      "C:\\Users\\zmorrato\\AppData\\Local\\Temp\\ipykernel_26412\\3563713887.py:21: DeprecationWarning: The 'text' argument to find()-type methods is deprecated. Use 'string' instead.\n",
      "  alma_mater_row = soup.find('th', text=lambda x: x and \"Alma\" in x)\n"
     ]
    },
    {
     "name": "stdout",
     "output_type": "stream",
     "text": [
      "[ DEBUG ] - Progress: 56.7193675889328%\n"
     ]
    },
    {
     "name": "stderr",
     "output_type": "stream",
     "text": [
      "C:\\Users\\zmorrato\\AppData\\Local\\Temp\\ipykernel_26412\\3563713887.py:21: DeprecationWarning: The 'text' argument to find()-type methods is deprecated. Use 'string' instead.\n",
      "  alma_mater_row = soup.find('th', text=lambda x: x and \"Alma\" in x)\n"
     ]
    },
    {
     "name": "stdout",
     "output_type": "stream",
     "text": [
      "[ DEBUG ] - Progress: 56.81818181818182%\n"
     ]
    },
    {
     "name": "stderr",
     "output_type": "stream",
     "text": [
      "C:\\Users\\zmorrato\\AppData\\Local\\Temp\\ipykernel_26412\\3563713887.py:21: DeprecationWarning: The 'text' argument to find()-type methods is deprecated. Use 'string' instead.\n",
      "  alma_mater_row = soup.find('th', text=lambda x: x and \"Alma\" in x)\n"
     ]
    },
    {
     "name": "stdout",
     "output_type": "stream",
     "text": [
      "[ DEBUG ] - Progress: 56.916996047430835%\n"
     ]
    },
    {
     "name": "stderr",
     "output_type": "stream",
     "text": [
      "C:\\Users\\zmorrato\\AppData\\Local\\Temp\\ipykernel_26412\\3563713887.py:21: DeprecationWarning: The 'text' argument to find()-type methods is deprecated. Use 'string' instead.\n",
      "  alma_mater_row = soup.find('th', text=lambda x: x and \"Alma\" in x)\n"
     ]
    },
    {
     "name": "stdout",
     "output_type": "stream",
     "text": [
      "[ DEBUG ] - Progress: 57.015810276679844%\n"
     ]
    },
    {
     "name": "stderr",
     "output_type": "stream",
     "text": [
      "C:\\Users\\zmorrato\\AppData\\Local\\Temp\\ipykernel_26412\\3563713887.py:21: DeprecationWarning: The 'text' argument to find()-type methods is deprecated. Use 'string' instead.\n",
      "  alma_mater_row = soup.find('th', text=lambda x: x and \"Alma\" in x)\n"
     ]
    },
    {
     "name": "stdout",
     "output_type": "stream",
     "text": [
      "[ DEBUG ] - Alma mater row not found for /wiki/Joseph_Brodsky\n",
      "[ DEBUG ] - Progress: 57.11462450592886%\n"
     ]
    },
    {
     "name": "stderr",
     "output_type": "stream",
     "text": [
      "C:\\Users\\zmorrato\\AppData\\Local\\Temp\\ipykernel_26412\\3563713887.py:21: DeprecationWarning: The 'text' argument to find()-type methods is deprecated. Use 'string' instead.\n",
      "  alma_mater_row = soup.find('th', text=lambda x: x and \"Alma\" in x)\n"
     ]
    },
    {
     "name": "stdout",
     "output_type": "stream",
     "text": [
      "[ DEBUG ] - Progress: 57.21343873517787%\n"
     ]
    },
    {
     "name": "stderr",
     "output_type": "stream",
     "text": [
      "C:\\Users\\zmorrato\\AppData\\Local\\Temp\\ipykernel_26412\\3563713887.py:21: DeprecationWarning: The 'text' argument to find()-type methods is deprecated. Use 'string' instead.\n",
      "  alma_mater_row = soup.find('th', text=lambda x: x and \"Alma\" in x)\n"
     ]
    },
    {
     "name": "stdout",
     "output_type": "stream",
     "text": [
      "[ DEBUG ] - Alma mater row not found for /wiki/Robert_Solow\n",
      "[ DEBUG ] - Progress: 57.31225296442688%\n"
     ]
    },
    {
     "name": "stderr",
     "output_type": "stream",
     "text": [
      "C:\\Users\\zmorrato\\AppData\\Local\\Temp\\ipykernel_26412\\3563713887.py:21: DeprecationWarning: The 'text' argument to find()-type methods is deprecated. Use 'string' instead.\n",
      "  alma_mater_row = soup.find('th', text=lambda x: x and \"Alma\" in x)\n"
     ]
    },
    {
     "name": "stdout",
     "output_type": "stream",
     "text": [
      "[ DEBUG ] - Alma mater row not found for /wiki/Leon_M._Lederman\n",
      "[ DEBUG ] - Progress: 57.41106719367589%\n"
     ]
    },
    {
     "name": "stderr",
     "output_type": "stream",
     "text": [
      "C:\\Users\\zmorrato\\AppData\\Local\\Temp\\ipykernel_26412\\3563713887.py:21: DeprecationWarning: The 'text' argument to find()-type methods is deprecated. Use 'string' instead.\n",
      "  alma_mater_row = soup.find('th', text=lambda x: x and \"Alma\" in x)\n"
     ]
    },
    {
     "name": "stdout",
     "output_type": "stream",
     "text": [
      "[ DEBUG ] - Alma mater row not found for /wiki/Melvin_Schwartz\n",
      "[ DEBUG ] - Progress: 57.509881422924906%\n"
     ]
    },
    {
     "name": "stderr",
     "output_type": "stream",
     "text": [
      "C:\\Users\\zmorrato\\AppData\\Local\\Temp\\ipykernel_26412\\3563713887.py:21: DeprecationWarning: The 'text' argument to find()-type methods is deprecated. Use 'string' instead.\n",
      "  alma_mater_row = soup.find('th', text=lambda x: x and \"Alma\" in x)\n"
     ]
    },
    {
     "name": "stdout",
     "output_type": "stream",
     "text": [
      "[ DEBUG ] - Alma mater row not found for /wiki/Jack_Steinberger\n",
      "[ DEBUG ] - Progress: 57.608695652173914%\n"
     ]
    },
    {
     "name": "stderr",
     "output_type": "stream",
     "text": [
      "C:\\Users\\zmorrato\\AppData\\Local\\Temp\\ipykernel_26412\\3563713887.py:21: DeprecationWarning: The 'text' argument to find()-type methods is deprecated. Use 'string' instead.\n",
      "  alma_mater_row = soup.find('th', text=lambda x: x and \"Alma\" in x)\n"
     ]
    },
    {
     "name": "stdout",
     "output_type": "stream",
     "text": [
      "[ DEBUG ] - Progress: 57.70750988142292%\n"
     ]
    },
    {
     "name": "stderr",
     "output_type": "stream",
     "text": [
      "C:\\Users\\zmorrato\\AppData\\Local\\Temp\\ipykernel_26412\\3563713887.py:21: DeprecationWarning: The 'text' argument to find()-type methods is deprecated. Use 'string' instead.\n",
      "  alma_mater_row = soup.find('th', text=lambda x: x and \"Alma\" in x)\n"
     ]
    },
    {
     "name": "stdout",
     "output_type": "stream",
     "text": [
      "[ DEBUG ] - Progress: 57.80632411067194%\n"
     ]
    },
    {
     "name": "stderr",
     "output_type": "stream",
     "text": [
      "C:\\Users\\zmorrato\\AppData\\Local\\Temp\\ipykernel_26412\\3563713887.py:21: DeprecationWarning: The 'text' argument to find()-type methods is deprecated. Use 'string' instead.\n",
      "  alma_mater_row = soup.find('th', text=lambda x: x and \"Alma\" in x)\n"
     ]
    },
    {
     "name": "stdout",
     "output_type": "stream",
     "text": [
      "[ DEBUG ] - Progress: 57.905138339920946%\n"
     ]
    },
    {
     "name": "stderr",
     "output_type": "stream",
     "text": [
      "C:\\Users\\zmorrato\\AppData\\Local\\Temp\\ipykernel_26412\\3563713887.py:21: DeprecationWarning: The 'text' argument to find()-type methods is deprecated. Use 'string' instead.\n",
      "  alma_mater_row = soup.find('th', text=lambda x: x and \"Alma\" in x)\n"
     ]
    },
    {
     "name": "stdout",
     "output_type": "stream",
     "text": [
      "[ DEBUG ] - Progress: 58.00395256916996%\n"
     ]
    },
    {
     "name": "stderr",
     "output_type": "stream",
     "text": [
      "C:\\Users\\zmorrato\\AppData\\Local\\Temp\\ipykernel_26412\\3563713887.py:21: DeprecationWarning: The 'text' argument to find()-type methods is deprecated. Use 'string' instead.\n",
      "  alma_mater_row = soup.find('th', text=lambda x: x and \"Alma\" in x)\n"
     ]
    },
    {
     "name": "stdout",
     "output_type": "stream",
     "text": [
      "[ DEBUG ] - Progress: 58.10276679841897%\n"
     ]
    },
    {
     "name": "stderr",
     "output_type": "stream",
     "text": [
      "C:\\Users\\zmorrato\\AppData\\Local\\Temp\\ipykernel_26412\\3563713887.py:21: DeprecationWarning: The 'text' argument to find()-type methods is deprecated. Use 'string' instead.\n",
      "  alma_mater_row = soup.find('th', text=lambda x: x and \"Alma\" in x)\n"
     ]
    },
    {
     "name": "stdout",
     "output_type": "stream",
     "text": [
      "[ DEBUG ] - Progress: 58.201581027667984%\n"
     ]
    },
    {
     "name": "stderr",
     "output_type": "stream",
     "text": [
      "C:\\Users\\zmorrato\\AppData\\Local\\Temp\\ipykernel_26412\\3563713887.py:21: DeprecationWarning: The 'text' argument to find()-type methods is deprecated. Use 'string' instead.\n",
      "  alma_mater_row = soup.find('th', text=lambda x: x and \"Alma\" in x)\n"
     ]
    },
    {
     "name": "stdout",
     "output_type": "stream",
     "text": [
      "[ DEBUG ] - Alma mater row not found for /wiki/Naguib_Mahfouz\n",
      "[ DEBUG ] - Progress: 58.30039525691699%\n"
     ]
    },
    {
     "name": "stderr",
     "output_type": "stream",
     "text": [
      "C:\\Users\\zmorrato\\AppData\\Local\\Temp\\ipykernel_26412\\3563713887.py:21: DeprecationWarning: The 'text' argument to find()-type methods is deprecated. Use 'string' instead.\n",
      "  alma_mater_row = soup.find('th', text=lambda x: x and \"Alma\" in x)\n"
     ]
    },
    {
     "name": "stdout",
     "output_type": "stream",
     "text": [
      "[ DEBUG ] - Alma mater row not found for /wiki/United_Nations_peacekeeping\n",
      "[ DEBUG ] - Progress: 58.399209486166%\n"
     ]
    },
    {
     "name": "stderr",
     "output_type": "stream",
     "text": [
      "C:\\Users\\zmorrato\\AppData\\Local\\Temp\\ipykernel_26412\\3563713887.py:21: DeprecationWarning: The 'text' argument to find()-type methods is deprecated. Use 'string' instead.\n",
      "  alma_mater_row = soup.find('th', text=lambda x: x and \"Alma\" in x)\n"
     ]
    },
    {
     "name": "stdout",
     "output_type": "stream",
     "text": [
      "[ DEBUG ] - Progress: 58.498023715415016%\n"
     ]
    },
    {
     "name": "stderr",
     "output_type": "stream",
     "text": [
      "C:\\Users\\zmorrato\\AppData\\Local\\Temp\\ipykernel_26412\\3563713887.py:21: DeprecationWarning: The 'text' argument to find()-type methods is deprecated. Use 'string' instead.\n",
      "  alma_mater_row = soup.find('th', text=lambda x: x and \"Alma\" in x)\n"
     ]
    },
    {
     "name": "stdout",
     "output_type": "stream",
     "text": [
      "[ DEBUG ] - Alma mater row not found for /wiki/Norman_Ramsey_Jr.\n",
      "[ DEBUG ] - Progress: 58.596837944664024%\n"
     ]
    },
    {
     "name": "stderr",
     "output_type": "stream",
     "text": [
      "C:\\Users\\zmorrato\\AppData\\Local\\Temp\\ipykernel_26412\\3563713887.py:21: DeprecationWarning: The 'text' argument to find()-type methods is deprecated. Use 'string' instead.\n",
      "  alma_mater_row = soup.find('th', text=lambda x: x and \"Alma\" in x)\n"
     ]
    },
    {
     "name": "stdout",
     "output_type": "stream",
     "text": [
      "[ DEBUG ] - Progress: 58.69565217391305%\n"
     ]
    },
    {
     "name": "stderr",
     "output_type": "stream",
     "text": [
      "C:\\Users\\zmorrato\\AppData\\Local\\Temp\\ipykernel_26412\\3563713887.py:21: DeprecationWarning: The 'text' argument to find()-type methods is deprecated. Use 'string' instead.\n",
      "  alma_mater_row = soup.find('th', text=lambda x: x and \"Alma\" in x)\n"
     ]
    },
    {
     "name": "stdout",
     "output_type": "stream",
     "text": [
      "[ DEBUG ] - Progress: 58.79446640316206%\n"
     ]
    },
    {
     "name": "stderr",
     "output_type": "stream",
     "text": [
      "C:\\Users\\zmorrato\\AppData\\Local\\Temp\\ipykernel_26412\\3563713887.py:21: DeprecationWarning: The 'text' argument to find()-type methods is deprecated. Use 'string' instead.\n",
      "  alma_mater_row = soup.find('th', text=lambda x: x and \"Alma\" in x)\n"
     ]
    },
    {
     "name": "stdout",
     "output_type": "stream",
     "text": [
      "[ DEBUG ] - Progress: 58.89328063241107%\n"
     ]
    },
    {
     "name": "stderr",
     "output_type": "stream",
     "text": [
      "C:\\Users\\zmorrato\\AppData\\Local\\Temp\\ipykernel_26412\\3563713887.py:21: DeprecationWarning: The 'text' argument to find()-type methods is deprecated. Use 'string' instead.\n",
      "  alma_mater_row = soup.find('th', text=lambda x: x and \"Alma\" in x)\n"
     ]
    },
    {
     "name": "stdout",
     "output_type": "stream",
     "text": [
      "[ DEBUG ] - Progress: 58.992094861660085%\n"
     ]
    },
    {
     "name": "stderr",
     "output_type": "stream",
     "text": [
      "C:\\Users\\zmorrato\\AppData\\Local\\Temp\\ipykernel_26412\\3563713887.py:21: DeprecationWarning: The 'text' argument to find()-type methods is deprecated. Use 'string' instead.\n",
      "  alma_mater_row = soup.find('th', text=lambda x: x and \"Alma\" in x)\n"
     ]
    },
    {
     "name": "stdout",
     "output_type": "stream",
     "text": [
      "[ DEBUG ] - Progress: 59.09090909090909%\n"
     ]
    },
    {
     "name": "stderr",
     "output_type": "stream",
     "text": [
      "C:\\Users\\zmorrato\\AppData\\Local\\Temp\\ipykernel_26412\\3563713887.py:21: DeprecationWarning: The 'text' argument to find()-type methods is deprecated. Use 'string' instead.\n",
      "  alma_mater_row = soup.find('th', text=lambda x: x and \"Alma\" in x)\n"
     ]
    },
    {
     "name": "stdout",
     "output_type": "stream",
     "text": [
      "[ DEBUG ] - Progress: 59.18972332015811%\n"
     ]
    },
    {
     "name": "stderr",
     "output_type": "stream",
     "text": [
      "C:\\Users\\zmorrato\\AppData\\Local\\Temp\\ipykernel_26412\\3563713887.py:21: DeprecationWarning: The 'text' argument to find()-type methods is deprecated. Use 'string' instead.\n",
      "  alma_mater_row = soup.find('th', text=lambda x: x and \"Alma\" in x)\n"
     ]
    },
    {
     "name": "stdout",
     "output_type": "stream",
     "text": [
      "[ DEBUG ] - Alma mater row not found for /wiki/Camilo_Jos%C3%A9_Cela\n",
      "[ DEBUG ] - Progress: 59.28853754940712%\n"
     ]
    },
    {
     "name": "stderr",
     "output_type": "stream",
     "text": [
      "C:\\Users\\zmorrato\\AppData\\Local\\Temp\\ipykernel_26412\\3563713887.py:21: DeprecationWarning: The 'text' argument to find()-type methods is deprecated. Use 'string' instead.\n",
      "  alma_mater_row = soup.find('th', text=lambda x: x and \"Alma\" in x)\n"
     ]
    },
    {
     "name": "stdout",
     "output_type": "stream",
     "text": [
      "[ DEBUG ] - Alma mater row not found for /wiki/14th_Dalai_Lama\n",
      "[ DEBUG ] - Progress: 59.387351778656125%\n"
     ]
    },
    {
     "name": "stderr",
     "output_type": "stream",
     "text": [
      "C:\\Users\\zmorrato\\AppData\\Local\\Temp\\ipykernel_26412\\3563713887.py:21: DeprecationWarning: The 'text' argument to find()-type methods is deprecated. Use 'string' instead.\n",
      "  alma_mater_row = soup.find('th', text=lambda x: x and \"Alma\" in x)\n"
     ]
    },
    {
     "name": "stdout",
     "output_type": "stream",
     "text": [
      "[ DEBUG ] - Progress: 59.48616600790514%\n"
     ]
    },
    {
     "name": "stderr",
     "output_type": "stream",
     "text": [
      "C:\\Users\\zmorrato\\AppData\\Local\\Temp\\ipykernel_26412\\3563713887.py:21: DeprecationWarning: The 'text' argument to find()-type methods is deprecated. Use 'string' instead.\n",
      "  alma_mater_row = soup.find('th', text=lambda x: x and \"Alma\" in x)\n"
     ]
    },
    {
     "name": "stdout",
     "output_type": "stream",
     "text": [
      "[ DEBUG ] - Progress: 59.58498023715415%\n"
     ]
    },
    {
     "name": "stderr",
     "output_type": "stream",
     "text": [
      "C:\\Users\\zmorrato\\AppData\\Local\\Temp\\ipykernel_26412\\3563713887.py:21: DeprecationWarning: The 'text' argument to find()-type methods is deprecated. Use 'string' instead.\n",
      "  alma_mater_row = soup.find('th', text=lambda x: x and \"Alma\" in x)\n"
     ]
    },
    {
     "name": "stdout",
     "output_type": "stream",
     "text": [
      "[ DEBUG ] - Progress: 59.683794466403164%\n"
     ]
    },
    {
     "name": "stderr",
     "output_type": "stream",
     "text": [
      "C:\\Users\\zmorrato\\AppData\\Local\\Temp\\ipykernel_26412\\3563713887.py:21: DeprecationWarning: The 'text' argument to find()-type methods is deprecated. Use 'string' instead.\n",
      "  alma_mater_row = soup.find('th', text=lambda x: x and \"Alma\" in x)\n"
     ]
    },
    {
     "name": "stdout",
     "output_type": "stream",
     "text": [
      "[ DEBUG ] - Progress: 59.78260869565217%\n"
     ]
    },
    {
     "name": "stderr",
     "output_type": "stream",
     "text": [
      "C:\\Users\\zmorrato\\AppData\\Local\\Temp\\ipykernel_26412\\3563713887.py:21: DeprecationWarning: The 'text' argument to find()-type methods is deprecated. Use 'string' instead.\n",
      "  alma_mater_row = soup.find('th', text=lambda x: x and \"Alma\" in x)\n"
     ]
    },
    {
     "name": "stdout",
     "output_type": "stream",
     "text": [
      "[ DEBUG ] - Progress: 59.88142292490119%\n"
     ]
    },
    {
     "name": "stderr",
     "output_type": "stream",
     "text": [
      "C:\\Users\\zmorrato\\AppData\\Local\\Temp\\ipykernel_26412\\3563713887.py:21: DeprecationWarning: The 'text' argument to find()-type methods is deprecated. Use 'string' instead.\n",
      "  alma_mater_row = soup.find('th', text=lambda x: x and \"Alma\" in x)\n"
     ]
    },
    {
     "name": "stdout",
     "output_type": "stream",
     "text": [
      "[ DEBUG ] - Alma mater row not found for /wiki/Joseph_Murray\n",
      "[ DEBUG ] - Progress: 59.980237154150196%\n"
     ]
    },
    {
     "name": "stderr",
     "output_type": "stream",
     "text": [
      "C:\\Users\\zmorrato\\AppData\\Local\\Temp\\ipykernel_26412\\3563713887.py:21: DeprecationWarning: The 'text' argument to find()-type methods is deprecated. Use 'string' instead.\n",
      "  alma_mater_row = soup.find('th', text=lambda x: x and \"Alma\" in x)\n"
     ]
    },
    {
     "name": "stdout",
     "output_type": "stream",
     "text": [
      "[ DEBUG ] - Progress: 60.079051383399204%\n"
     ]
    },
    {
     "name": "stderr",
     "output_type": "stream",
     "text": [
      "C:\\Users\\zmorrato\\AppData\\Local\\Temp\\ipykernel_26412\\3563713887.py:21: DeprecationWarning: The 'text' argument to find()-type methods is deprecated. Use 'string' instead.\n",
      "  alma_mater_row = soup.find('th', text=lambda x: x and \"Alma\" in x)\n"
     ]
    },
    {
     "name": "stdout",
     "output_type": "stream",
     "text": [
      "[ DEBUG ] - Alma mater row not found for /wiki/Octavio_Paz\n",
      "[ DEBUG ] - Progress: 60.17786561264822%\n"
     ]
    },
    {
     "name": "stderr",
     "output_type": "stream",
     "text": [
      "C:\\Users\\zmorrato\\AppData\\Local\\Temp\\ipykernel_26412\\3563713887.py:21: DeprecationWarning: The 'text' argument to find()-type methods is deprecated. Use 'string' instead.\n",
      "  alma_mater_row = soup.find('th', text=lambda x: x and \"Alma\" in x)\n"
     ]
    },
    {
     "name": "stdout",
     "output_type": "stream",
     "text": [
      "[ DEBUG ] - Progress: 60.27667984189723%\n"
     ]
    },
    {
     "name": "stderr",
     "output_type": "stream",
     "text": [
      "C:\\Users\\zmorrato\\AppData\\Local\\Temp\\ipykernel_26412\\3563713887.py:21: DeprecationWarning: The 'text' argument to find()-type methods is deprecated. Use 'string' instead.\n",
      "  alma_mater_row = soup.find('th', text=lambda x: x and \"Alma\" in x)\n"
     ]
    },
    {
     "name": "stdout",
     "output_type": "stream",
     "text": [
      "[ DEBUG ] - Alma mater row not found for /wiki/Harry_Markowitz\n",
      "[ DEBUG ] - Progress: 60.37549407114624%\n"
     ]
    },
    {
     "name": "stderr",
     "output_type": "stream",
     "text": [
      "C:\\Users\\zmorrato\\AppData\\Local\\Temp\\ipykernel_26412\\3563713887.py:21: DeprecationWarning: The 'text' argument to find()-type methods is deprecated. Use 'string' instead.\n",
      "  alma_mater_row = soup.find('th', text=lambda x: x and \"Alma\" in x)\n"
     ]
    },
    {
     "name": "stdout",
     "output_type": "stream",
     "text": [
      "[ DEBUG ] - Alma mater row not found for /wiki/Merton_Miller\n",
      "[ DEBUG ] - Progress: 60.47430830039525%\n"
     ]
    },
    {
     "name": "stderr",
     "output_type": "stream",
     "text": [
      "C:\\Users\\zmorrato\\AppData\\Local\\Temp\\ipykernel_26412\\3563713887.py:21: DeprecationWarning: The 'text' argument to find()-type methods is deprecated. Use 'string' instead.\n",
      "  alma_mater_row = soup.find('th', text=lambda x: x and \"Alma\" in x)\n"
     ]
    },
    {
     "name": "stdout",
     "output_type": "stream",
     "text": [
      "[ DEBUG ] - Progress: 60.573122529644266%\n"
     ]
    },
    {
     "name": "stderr",
     "output_type": "stream",
     "text": [
      "C:\\Users\\zmorrato\\AppData\\Local\\Temp\\ipykernel_26412\\3563713887.py:21: DeprecationWarning: The 'text' argument to find()-type methods is deprecated. Use 'string' instead.\n",
      "  alma_mater_row = soup.find('th', text=lambda x: x and \"Alma\" in x)\n"
     ]
    },
    {
     "name": "stdout",
     "output_type": "stream",
     "text": [
      "[ DEBUG ] - Progress: 60.67193675889329%\n"
     ]
    },
    {
     "name": "stderr",
     "output_type": "stream",
     "text": [
      "C:\\Users\\zmorrato\\AppData\\Local\\Temp\\ipykernel_26412\\3563713887.py:21: DeprecationWarning: The 'text' argument to find()-type methods is deprecated. Use 'string' instead.\n",
      "  alma_mater_row = soup.find('th', text=lambda x: x and \"Alma\" in x)\n"
     ]
    },
    {
     "name": "stdout",
     "output_type": "stream",
     "text": [
      "[ DEBUG ] - Progress: 60.7707509881423%\n"
     ]
    },
    {
     "name": "stderr",
     "output_type": "stream",
     "text": [
      "C:\\Users\\zmorrato\\AppData\\Local\\Temp\\ipykernel_26412\\3563713887.py:21: DeprecationWarning: The 'text' argument to find()-type methods is deprecated. Use 'string' instead.\n",
      "  alma_mater_row = soup.find('th', text=lambda x: x and \"Alma\" in x)\n"
     ]
    },
    {
     "name": "stdout",
     "output_type": "stream",
     "text": [
      "[ DEBUG ] - Progress: 60.86956521739131%\n"
     ]
    },
    {
     "name": "stderr",
     "output_type": "stream",
     "text": [
      "C:\\Users\\zmorrato\\AppData\\Local\\Temp\\ipykernel_26412\\3563713887.py:21: DeprecationWarning: The 'text' argument to find()-type methods is deprecated. Use 'string' instead.\n",
      "  alma_mater_row = soup.find('th', text=lambda x: x and \"Alma\" in x)\n"
     ]
    },
    {
     "name": "stdout",
     "output_type": "stream",
     "text": [
      "[ DEBUG ] - Alma mater row not found for /wiki/Bert_Sakmann\n",
      "[ DEBUG ] - Progress: 60.96837944664032%\n"
     ]
    },
    {
     "name": "stderr",
     "output_type": "stream",
     "text": [
      "C:\\Users\\zmorrato\\AppData\\Local\\Temp\\ipykernel_26412\\3563713887.py:21: DeprecationWarning: The 'text' argument to find()-type methods is deprecated. Use 'string' instead.\n",
      "  alma_mater_row = soup.find('th', text=lambda x: x and \"Alma\" in x)\n"
     ]
    },
    {
     "name": "stdout",
     "output_type": "stream",
     "text": [
      "[ DEBUG ] - Alma mater row not found for /wiki/Nadine_Gordimer\n",
      "[ DEBUG ] - Progress: 61.06719367588933%\n"
     ]
    },
    {
     "name": "stderr",
     "output_type": "stream",
     "text": [
      "C:\\Users\\zmorrato\\AppData\\Local\\Temp\\ipykernel_26412\\3563713887.py:21: DeprecationWarning: The 'text' argument to find()-type methods is deprecated. Use 'string' instead.\n",
      "  alma_mater_row = soup.find('th', text=lambda x: x and \"Alma\" in x)\n"
     ]
    },
    {
     "name": "stdout",
     "output_type": "stream",
     "text": [
      "[ DEBUG ] - Alma mater row not found for /wiki/Aung_San_Suu_Kyi\n",
      "[ DEBUG ] - Progress: 61.16600790513834%\n"
     ]
    },
    {
     "name": "stderr",
     "output_type": "stream",
     "text": [
      "C:\\Users\\zmorrato\\AppData\\Local\\Temp\\ipykernel_26412\\3563713887.py:21: DeprecationWarning: The 'text' argument to find()-type methods is deprecated. Use 'string' instead.\n",
      "  alma_mater_row = soup.find('th', text=lambda x: x and \"Alma\" in x)\n"
     ]
    },
    {
     "name": "stdout",
     "output_type": "stream",
     "text": [
      "[ DEBUG ] - Alma mater row not found for /wiki/Ronald_Coase\n",
      "[ DEBUG ] - Progress: 61.26482213438735%\n"
     ]
    },
    {
     "name": "stderr",
     "output_type": "stream",
     "text": [
      "C:\\Users\\zmorrato\\AppData\\Local\\Temp\\ipykernel_26412\\3563713887.py:21: DeprecationWarning: The 'text' argument to find()-type methods is deprecated. Use 'string' instead.\n",
      "  alma_mater_row = soup.find('th', text=lambda x: x and \"Alma\" in x)\n"
     ]
    },
    {
     "name": "stdout",
     "output_type": "stream",
     "text": [
      "[ DEBUG ] - Progress: 61.36363636363637%\n"
     ]
    },
    {
     "name": "stderr",
     "output_type": "stream",
     "text": [
      "C:\\Users\\zmorrato\\AppData\\Local\\Temp\\ipykernel_26412\\3563713887.py:21: DeprecationWarning: The 'text' argument to find()-type methods is deprecated. Use 'string' instead.\n",
      "  alma_mater_row = soup.find('th', text=lambda x: x and \"Alma\" in x)\n"
     ]
    },
    {
     "name": "stdout",
     "output_type": "stream",
     "text": [
      "[ DEBUG ] - Progress: 61.462450592885375%\n"
     ]
    },
    {
     "name": "stderr",
     "output_type": "stream",
     "text": [
      "C:\\Users\\zmorrato\\AppData\\Local\\Temp\\ipykernel_26412\\3563713887.py:21: DeprecationWarning: The 'text' argument to find()-type methods is deprecated. Use 'string' instead.\n",
      "  alma_mater_row = soup.find('th', text=lambda x: x and \"Alma\" in x)\n"
     ]
    },
    {
     "name": "stdout",
     "output_type": "stream",
     "text": [
      "[ DEBUG ] - Progress: 61.56126482213439%\n"
     ]
    },
    {
     "name": "stderr",
     "output_type": "stream",
     "text": [
      "C:\\Users\\zmorrato\\AppData\\Local\\Temp\\ipykernel_26412\\3563713887.py:21: DeprecationWarning: The 'text' argument to find()-type methods is deprecated. Use 'string' instead.\n",
      "  alma_mater_row = soup.find('th', text=lambda x: x and \"Alma\" in x)\n"
     ]
    },
    {
     "name": "stdout",
     "output_type": "stream",
     "text": [
      "[ DEBUG ] - Progress: 61.6600790513834%\n"
     ]
    },
    {
     "name": "stderr",
     "output_type": "stream",
     "text": [
      "C:\\Users\\zmorrato\\AppData\\Local\\Temp\\ipykernel_26412\\3563713887.py:21: DeprecationWarning: The 'text' argument to find()-type methods is deprecated. Use 'string' instead.\n",
      "  alma_mater_row = soup.find('th', text=lambda x: x and \"Alma\" in x)\n"
     ]
    },
    {
     "name": "stdout",
     "output_type": "stream",
     "text": [
      "[ DEBUG ] - Alma mater row not found for /wiki/Derek_Walcott\n",
      "[ DEBUG ] - Progress: 61.75889328063241%\n"
     ]
    },
    {
     "name": "stderr",
     "output_type": "stream",
     "text": [
      "C:\\Users\\zmorrato\\AppData\\Local\\Temp\\ipykernel_26412\\3563713887.py:21: DeprecationWarning: The 'text' argument to find()-type methods is deprecated. Use 'string' instead.\n",
      "  alma_mater_row = soup.find('th', text=lambda x: x and \"Alma\" in x)\n"
     ]
    },
    {
     "name": "stdout",
     "output_type": "stream",
     "text": [
      "[ DEBUG ] - Alma mater row not found for /wiki/Rigoberta_Mench%C3%BA\n",
      "[ DEBUG ] - Progress: 61.85770750988142%\n"
     ]
    },
    {
     "name": "stderr",
     "output_type": "stream",
     "text": [
      "C:\\Users\\zmorrato\\AppData\\Local\\Temp\\ipykernel_26412\\3563713887.py:21: DeprecationWarning: The 'text' argument to find()-type methods is deprecated. Use 'string' instead.\n",
      "  alma_mater_row = soup.find('th', text=lambda x: x and \"Alma\" in x)\n"
     ]
    },
    {
     "name": "stdout",
     "output_type": "stream",
     "text": [
      "[ DEBUG ] - Alma mater row not found for /wiki/Gary_Becker\n",
      "[ DEBUG ] - Progress: 61.95652173913043%\n"
     ]
    },
    {
     "name": "stderr",
     "output_type": "stream",
     "text": [
      "C:\\Users\\zmorrato\\AppData\\Local\\Temp\\ipykernel_26412\\3563713887.py:21: DeprecationWarning: The 'text' argument to find()-type methods is deprecated. Use 'string' instead.\n",
      "  alma_mater_row = soup.find('th', text=lambda x: x and \"Alma\" in x)\n"
     ]
    },
    {
     "name": "stdout",
     "output_type": "stream",
     "text": [
      "[ DEBUG ] - Progress: 62.055335968379445%\n"
     ]
    },
    {
     "name": "stderr",
     "output_type": "stream",
     "text": [
      "C:\\Users\\zmorrato\\AppData\\Local\\Temp\\ipykernel_26412\\3563713887.py:21: DeprecationWarning: The 'text' argument to find()-type methods is deprecated. Use 'string' instead.\n",
      "  alma_mater_row = soup.find('th', text=lambda x: x and \"Alma\" in x)\n"
     ]
    },
    {
     "name": "stdout",
     "output_type": "stream",
     "text": [
      "[ DEBUG ] - Progress: 62.154150197628454%\n"
     ]
    },
    {
     "name": "stderr",
     "output_type": "stream",
     "text": [
      "C:\\Users\\zmorrato\\AppData\\Local\\Temp\\ipykernel_26412\\3563713887.py:21: DeprecationWarning: The 'text' argument to find()-type methods is deprecated. Use 'string' instead.\n",
      "  alma_mater_row = soup.find('th', text=lambda x: x and \"Alma\" in x)\n"
     ]
    },
    {
     "name": "stdout",
     "output_type": "stream",
     "text": [
      "[ DEBUG ] - Progress: 62.25296442687747%\n"
     ]
    },
    {
     "name": "stderr",
     "output_type": "stream",
     "text": [
      "C:\\Users\\zmorrato\\AppData\\Local\\Temp\\ipykernel_26412\\3563713887.py:21: DeprecationWarning: The 'text' argument to find()-type methods is deprecated. Use 'string' instead.\n",
      "  alma_mater_row = soup.find('th', text=lambda x: x and \"Alma\" in x)\n"
     ]
    },
    {
     "name": "stdout",
     "output_type": "stream",
     "text": [
      "[ DEBUG ] - Progress: 62.35177865612648%\n"
     ]
    },
    {
     "name": "stderr",
     "output_type": "stream",
     "text": [
      "C:\\Users\\zmorrato\\AppData\\Local\\Temp\\ipykernel_26412\\3563713887.py:21: DeprecationWarning: The 'text' argument to find()-type methods is deprecated. Use 'string' instead.\n",
      "  alma_mater_row = soup.find('th', text=lambda x: x and \"Alma\" in x)\n"
     ]
    },
    {
     "name": "stdout",
     "output_type": "stream",
     "text": [
      "[ DEBUG ] - Progress: 62.450592885375485%\n"
     ]
    },
    {
     "name": "stderr",
     "output_type": "stream",
     "text": [
      "C:\\Users\\zmorrato\\AppData\\Local\\Temp\\ipykernel_26412\\3563713887.py:21: DeprecationWarning: The 'text' argument to find()-type methods is deprecated. Use 'string' instead.\n",
      "  alma_mater_row = soup.find('th', text=lambda x: x and \"Alma\" in x)\n"
     ]
    },
    {
     "name": "stdout",
     "output_type": "stream",
     "text": [
      "[ DEBUG ] - Progress: 62.549407114624515%\n"
     ]
    },
    {
     "name": "stderr",
     "output_type": "stream",
     "text": [
      "C:\\Users\\zmorrato\\AppData\\Local\\Temp\\ipykernel_26412\\3563713887.py:21: DeprecationWarning: The 'text' argument to find()-type methods is deprecated. Use 'string' instead.\n",
      "  alma_mater_row = soup.find('th', text=lambda x: x and \"Alma\" in x)\n"
     ]
    },
    {
     "name": "stdout",
     "output_type": "stream",
     "text": [
      "[ DEBUG ] - Alma mater row not found for /wiki/Toni_Morrison\n",
      "[ DEBUG ] - Progress: 62.64822134387352%\n"
     ]
    },
    {
     "name": "stderr",
     "output_type": "stream",
     "text": [
      "C:\\Users\\zmorrato\\AppData\\Local\\Temp\\ipykernel_26412\\3563713887.py:21: DeprecationWarning: The 'text' argument to find()-type methods is deprecated. Use 'string' instead.\n",
      "  alma_mater_row = soup.find('th', text=lambda x: x and \"Alma\" in x)\n"
     ]
    },
    {
     "name": "stdout",
     "output_type": "stream",
     "text": [
      "[ DEBUG ] - Progress: 62.74703557312253%\n"
     ]
    },
    {
     "name": "stderr",
     "output_type": "stream",
     "text": [
      "C:\\Users\\zmorrato\\AppData\\Local\\Temp\\ipykernel_26412\\3563713887.py:21: DeprecationWarning: The 'text' argument to find()-type methods is deprecated. Use 'string' instead.\n",
      "  alma_mater_row = soup.find('th', text=lambda x: x and \"Alma\" in x)\n"
     ]
    },
    {
     "name": "stdout",
     "output_type": "stream",
     "text": [
      "[ DEBUG ] - Progress: 62.845849802371546%\n"
     ]
    },
    {
     "name": "stderr",
     "output_type": "stream",
     "text": [
      "C:\\Users\\zmorrato\\AppData\\Local\\Temp\\ipykernel_26412\\3563713887.py:21: DeprecationWarning: The 'text' argument to find()-type methods is deprecated. Use 'string' instead.\n",
      "  alma_mater_row = soup.find('th', text=lambda x: x and \"Alma\" in x)\n"
     ]
    },
    {
     "name": "stdout",
     "output_type": "stream",
     "text": [
      "[ DEBUG ] - Alma mater row not found for /wiki/Robert_Fogel\n",
      "[ DEBUG ] - Progress: 62.944664031620555%\n"
     ]
    },
    {
     "name": "stderr",
     "output_type": "stream",
     "text": [
      "C:\\Users\\zmorrato\\AppData\\Local\\Temp\\ipykernel_26412\\3563713887.py:21: DeprecationWarning: The 'text' argument to find()-type methods is deprecated. Use 'string' instead.\n",
      "  alma_mater_row = soup.find('th', text=lambda x: x and \"Alma\" in x)\n"
     ]
    },
    {
     "name": "stdout",
     "output_type": "stream",
     "text": [
      "[ DEBUG ] - Alma mater row not found for /wiki/Douglass_North\n",
      "[ DEBUG ] - Progress: 63.04347826086957%\n"
     ]
    },
    {
     "name": "stderr",
     "output_type": "stream",
     "text": [
      "C:\\Users\\zmorrato\\AppData\\Local\\Temp\\ipykernel_26412\\3563713887.py:21: DeprecationWarning: The 'text' argument to find()-type methods is deprecated. Use 'string' instead.\n",
      "  alma_mater_row = soup.find('th', text=lambda x: x and \"Alma\" in x)\n"
     ]
    },
    {
     "name": "stdout",
     "output_type": "stream",
     "text": [
      "[ DEBUG ] - Progress: 63.14229249011858%\n"
     ]
    },
    {
     "name": "stderr",
     "output_type": "stream",
     "text": [
      "C:\\Users\\zmorrato\\AppData\\Local\\Temp\\ipykernel_26412\\3563713887.py:21: DeprecationWarning: The 'text' argument to find()-type methods is deprecated. Use 'string' instead.\n",
      "  alma_mater_row = soup.find('th', text=lambda x: x and \"Alma\" in x)\n"
     ]
    },
    {
     "name": "stdout",
     "output_type": "stream",
     "text": [
      "[ DEBUG ] - Progress: 63.24110671936759%\n"
     ]
    },
    {
     "name": "stderr",
     "output_type": "stream",
     "text": [
      "C:\\Users\\zmorrato\\AppData\\Local\\Temp\\ipykernel_26412\\3563713887.py:21: DeprecationWarning: The 'text' argument to find()-type methods is deprecated. Use 'string' instead.\n",
      "  alma_mater_row = soup.find('th', text=lambda x: x and \"Alma\" in x)\n"
     ]
    },
    {
     "name": "stdout",
     "output_type": "stream",
     "text": [
      "[ DEBUG ] - Progress: 63.3399209486166%\n"
     ]
    },
    {
     "name": "stderr",
     "output_type": "stream",
     "text": [
      "C:\\Users\\zmorrato\\AppData\\Local\\Temp\\ipykernel_26412\\3563713887.py:21: DeprecationWarning: The 'text' argument to find()-type methods is deprecated. Use 'string' instead.\n",
      "  alma_mater_row = soup.find('th', text=lambda x: x and \"Alma\" in x)\n"
     ]
    },
    {
     "name": "stdout",
     "output_type": "stream",
     "text": [
      "[ DEBUG ] - Progress: 63.43873517786561%\n"
     ]
    },
    {
     "name": "stderr",
     "output_type": "stream",
     "text": [
      "C:\\Users\\zmorrato\\AppData\\Local\\Temp\\ipykernel_26412\\3563713887.py:21: DeprecationWarning: The 'text' argument to find()-type methods is deprecated. Use 'string' instead.\n",
      "  alma_mater_row = soup.find('th', text=lambda x: x and \"Alma\" in x)\n"
     ]
    },
    {
     "name": "stdout",
     "output_type": "stream",
     "text": [
      "[ DEBUG ] - Progress: 63.537549407114625%\n"
     ]
    },
    {
     "name": "stderr",
     "output_type": "stream",
     "text": [
      "C:\\Users\\zmorrato\\AppData\\Local\\Temp\\ipykernel_26412\\3563713887.py:21: DeprecationWarning: The 'text' argument to find()-type methods is deprecated. Use 'string' instead.\n",
      "  alma_mater_row = soup.find('th', text=lambda x: x and \"Alma\" in x)\n"
     ]
    },
    {
     "name": "stdout",
     "output_type": "stream",
     "text": [
      "[ DEBUG ] - Progress: 63.63636363636363%\n"
     ]
    },
    {
     "name": "stderr",
     "output_type": "stream",
     "text": [
      "C:\\Users\\zmorrato\\AppData\\Local\\Temp\\ipykernel_26412\\3563713887.py:21: DeprecationWarning: The 'text' argument to find()-type methods is deprecated. Use 'string' instead.\n",
      "  alma_mater_row = soup.find('th', text=lambda x: x and \"Alma\" in x)\n"
     ]
    },
    {
     "name": "stdout",
     "output_type": "stream",
     "text": [
      "[ DEBUG ] - Progress: 63.73517786561265%\n"
     ]
    },
    {
     "name": "stderr",
     "output_type": "stream",
     "text": [
      "C:\\Users\\zmorrato\\AppData\\Local\\Temp\\ipykernel_26412\\3563713887.py:21: DeprecationWarning: The 'text' argument to find()-type methods is deprecated. Use 'string' instead.\n",
      "  alma_mater_row = soup.find('th', text=lambda x: x and \"Alma\" in x)\n"
     ]
    },
    {
     "name": "stdout",
     "output_type": "stream",
     "text": [
      "[ DEBUG ] - Alma mater row not found for /wiki/Shimon_Peres\n",
      "[ DEBUG ] - Progress: 63.83399209486166%\n"
     ]
    },
    {
     "name": "stderr",
     "output_type": "stream",
     "text": [
      "C:\\Users\\zmorrato\\AppData\\Local\\Temp\\ipykernel_26412\\3563713887.py:21: DeprecationWarning: The 'text' argument to find()-type methods is deprecated. Use 'string' instead.\n",
      "  alma_mater_row = soup.find('th', text=lambda x: x and \"Alma\" in x)\n"
     ]
    },
    {
     "name": "stdout",
     "output_type": "stream",
     "text": [
      "[ DEBUG ] - Alma mater row not found for /wiki/Yitzhak_Rabin\n",
      "[ DEBUG ] - Progress: 63.93280632411067%\n"
     ]
    },
    {
     "name": "stderr",
     "output_type": "stream",
     "text": [
      "C:\\Users\\zmorrato\\AppData\\Local\\Temp\\ipykernel_26412\\3563713887.py:21: DeprecationWarning: The 'text' argument to find()-type methods is deprecated. Use 'string' instead.\n",
      "  alma_mater_row = soup.find('th', text=lambda x: x and \"Alma\" in x)\n"
     ]
    },
    {
     "name": "stdout",
     "output_type": "stream",
     "text": [
      "[ DEBUG ] - Progress: 64.03162055335969%\n"
     ]
    },
    {
     "name": "stderr",
     "output_type": "stream",
     "text": [
      "C:\\Users\\zmorrato\\AppData\\Local\\Temp\\ipykernel_26412\\3563713887.py:21: DeprecationWarning: The 'text' argument to find()-type methods is deprecated. Use 'string' instead.\n",
      "  alma_mater_row = soup.find('th', text=lambda x: x and \"Alma\" in x)\n"
     ]
    },
    {
     "name": "stdout",
     "output_type": "stream",
     "text": [
      "[ DEBUG ] - Alma mater row not found for /wiki/John_Forbes_Nash_Jr.\n",
      "[ DEBUG ] - Progress: 64.13043478260869%\n"
     ]
    },
    {
     "name": "stderr",
     "output_type": "stream",
     "text": [
      "C:\\Users\\zmorrato\\AppData\\Local\\Temp\\ipykernel_26412\\3563713887.py:21: DeprecationWarning: The 'text' argument to find()-type methods is deprecated. Use 'string' instead.\n",
      "  alma_mater_row = soup.find('th', text=lambda x: x and \"Alma\" in x)\n"
     ]
    },
    {
     "name": "stdout",
     "output_type": "stream",
     "text": [
      "[ DEBUG ] - Alma mater row not found for /wiki/Reinhard_Selten\n",
      "[ DEBUG ] - Progress: 64.2292490118577%\n"
     ]
    },
    {
     "name": "stderr",
     "output_type": "stream",
     "text": [
      "C:\\Users\\zmorrato\\AppData\\Local\\Temp\\ipykernel_26412\\3563713887.py:21: DeprecationWarning: The 'text' argument to find()-type methods is deprecated. Use 'string' instead.\n",
      "  alma_mater_row = soup.find('th', text=lambda x: x and \"Alma\" in x)\n"
     ]
    },
    {
     "name": "stdout",
     "output_type": "stream",
     "text": [
      "[ DEBUG ] - Progress: 64.32806324110672%\n"
     ]
    },
    {
     "name": "stderr",
     "output_type": "stream",
     "text": [
      "C:\\Users\\zmorrato\\AppData\\Local\\Temp\\ipykernel_26412\\3563713887.py:21: DeprecationWarning: The 'text' argument to find()-type methods is deprecated. Use 'string' instead.\n",
      "  alma_mater_row = soup.find('th', text=lambda x: x and \"Alma\" in x)\n"
     ]
    },
    {
     "name": "stdout",
     "output_type": "stream",
     "text": [
      "[ DEBUG ] - Progress: 64.42687747035573%\n"
     ]
    },
    {
     "name": "stderr",
     "output_type": "stream",
     "text": [
      "C:\\Users\\zmorrato\\AppData\\Local\\Temp\\ipykernel_26412\\3563713887.py:21: DeprecationWarning: The 'text' argument to find()-type methods is deprecated. Use 'string' instead.\n",
      "  alma_mater_row = soup.find('th', text=lambda x: x and \"Alma\" in x)\n"
     ]
    },
    {
     "name": "stdout",
     "output_type": "stream",
     "text": [
      "[ DEBUG ] - Progress: 64.52569169960475%\n"
     ]
    },
    {
     "name": "stderr",
     "output_type": "stream",
     "text": [
      "C:\\Users\\zmorrato\\AppData\\Local\\Temp\\ipykernel_26412\\3563713887.py:21: DeprecationWarning: The 'text' argument to find()-type methods is deprecated. Use 'string' instead.\n",
      "  alma_mater_row = soup.find('th', text=lambda x: x and \"Alma\" in x)\n"
     ]
    },
    {
     "name": "stdout",
     "output_type": "stream",
     "text": [
      "[ DEBUG ] - Alma mater row not found for /wiki/Mario_J._Molina\n",
      "[ DEBUG ] - Progress: 64.62450592885376%\n"
     ]
    },
    {
     "name": "stderr",
     "output_type": "stream",
     "text": [
      "C:\\Users\\zmorrato\\AppData\\Local\\Temp\\ipykernel_26412\\3563713887.py:21: DeprecationWarning: The 'text' argument to find()-type methods is deprecated. Use 'string' instead.\n",
      "  alma_mater_row = soup.find('th', text=lambda x: x and \"Alma\" in x)\n"
     ]
    },
    {
     "name": "stdout",
     "output_type": "stream",
     "text": [
      "[ DEBUG ] - Progress: 64.72332015810277%\n"
     ]
    },
    {
     "name": "stderr",
     "output_type": "stream",
     "text": [
      "C:\\Users\\zmorrato\\AppData\\Local\\Temp\\ipykernel_26412\\3563713887.py:21: DeprecationWarning: The 'text' argument to find()-type methods is deprecated. Use 'string' instead.\n",
      "  alma_mater_row = soup.find('th', text=lambda x: x and \"Alma\" in x)\n"
     ]
    },
    {
     "name": "stdout",
     "output_type": "stream",
     "text": [
      "[ DEBUG ] - Progress: 64.82213438735178%\n"
     ]
    },
    {
     "name": "stderr",
     "output_type": "stream",
     "text": [
      "C:\\Users\\zmorrato\\AppData\\Local\\Temp\\ipykernel_26412\\3563713887.py:21: DeprecationWarning: The 'text' argument to find()-type methods is deprecated. Use 'string' instead.\n",
      "  alma_mater_row = soup.find('th', text=lambda x: x and \"Alma\" in x)\n"
     ]
    },
    {
     "name": "stdout",
     "output_type": "stream",
     "text": [
      "[ DEBUG ] - Progress: 64.9209486166008%\n"
     ]
    },
    {
     "name": "stderr",
     "output_type": "stream",
     "text": [
      "C:\\Users\\zmorrato\\AppData\\Local\\Temp\\ipykernel_26412\\3563713887.py:21: DeprecationWarning: The 'text' argument to find()-type methods is deprecated. Use 'string' instead.\n",
      "  alma_mater_row = soup.find('th', text=lambda x: x and \"Alma\" in x)\n"
     ]
    },
    {
     "name": "stdout",
     "output_type": "stream",
     "text": [
      "[ DEBUG ] - Progress: 65.01976284584981%\n"
     ]
    },
    {
     "name": "stderr",
     "output_type": "stream",
     "text": [
      "C:\\Users\\zmorrato\\AppData\\Local\\Temp\\ipykernel_26412\\3563713887.py:21: DeprecationWarning: The 'text' argument to find()-type methods is deprecated. Use 'string' instead.\n",
      "  alma_mater_row = soup.find('th', text=lambda x: x and \"Alma\" in x)\n"
     ]
    },
    {
     "name": "stdout",
     "output_type": "stream",
     "text": [
      "[ DEBUG ] - Progress: 65.11857707509881%\n"
     ]
    },
    {
     "name": "stderr",
     "output_type": "stream",
     "text": [
      "C:\\Users\\zmorrato\\AppData\\Local\\Temp\\ipykernel_26412\\3563713887.py:21: DeprecationWarning: The 'text' argument to find()-type methods is deprecated. Use 'string' instead.\n",
      "  alma_mater_row = soup.find('th', text=lambda x: x and \"Alma\" in x)\n"
     ]
    },
    {
     "name": "stdout",
     "output_type": "stream",
     "text": [
      "[ DEBUG ] - Progress: 65.21739130434783%\n"
     ]
    },
    {
     "name": "stderr",
     "output_type": "stream",
     "text": [
      "C:\\Users\\zmorrato\\AppData\\Local\\Temp\\ipykernel_26412\\3563713887.py:21: DeprecationWarning: The 'text' argument to find()-type methods is deprecated. Use 'string' instead.\n",
      "  alma_mater_row = soup.find('th', text=lambda x: x and \"Alma\" in x)\n"
     ]
    },
    {
     "name": "stdout",
     "output_type": "stream",
     "text": [
      "[ DEBUG ] - Alma mater row not found for /wiki/Pugwash_Conferences_on_Science_and_World_Affairs\n",
      "[ DEBUG ] - Progress: 65.31620553359684%\n"
     ]
    },
    {
     "name": "stderr",
     "output_type": "stream",
     "text": [
      "C:\\Users\\zmorrato\\AppData\\Local\\Temp\\ipykernel_26412\\3563713887.py:21: DeprecationWarning: The 'text' argument to find()-type methods is deprecated. Use 'string' instead.\n",
      "  alma_mater_row = soup.find('th', text=lambda x: x and \"Alma\" in x)\n"
     ]
    },
    {
     "name": "stdout",
     "output_type": "stream",
     "text": [
      "[ DEBUG ] - Alma mater row not found for /wiki/Robert_Lucas_Jr.\n",
      "[ DEBUG ] - Progress: 65.41501976284584%\n"
     ]
    },
    {
     "name": "stderr",
     "output_type": "stream",
     "text": [
      "C:\\Users\\zmorrato\\AppData\\Local\\Temp\\ipykernel_26412\\3563713887.py:21: DeprecationWarning: The 'text' argument to find()-type methods is deprecated. Use 'string' instead.\n",
      "  alma_mater_row = soup.find('th', text=lambda x: x and \"Alma\" in x)\n"
     ]
    },
    {
     "name": "stdout",
     "output_type": "stream",
     "text": [
      "[ DEBUG ] - Alma mater row not found for /wiki/David_Lee_(physicist)\n",
      "[ DEBUG ] - Progress: 65.51383399209486%\n"
     ]
    },
    {
     "name": "stderr",
     "output_type": "stream",
     "text": [
      "C:\\Users\\zmorrato\\AppData\\Local\\Temp\\ipykernel_26412\\3563713887.py:21: DeprecationWarning: The 'text' argument to find()-type methods is deprecated. Use 'string' instead.\n",
      "  alma_mater_row = soup.find('th', text=lambda x: x and \"Alma\" in x)\n"
     ]
    },
    {
     "name": "stdout",
     "output_type": "stream",
     "text": [
      "[ DEBUG ] - Progress: 65.61264822134387%\n"
     ]
    },
    {
     "name": "stderr",
     "output_type": "stream",
     "text": [
      "C:\\Users\\zmorrato\\AppData\\Local\\Temp\\ipykernel_26412\\3563713887.py:21: DeprecationWarning: The 'text' argument to find()-type methods is deprecated. Use 'string' instead.\n",
      "  alma_mater_row = soup.find('th', text=lambda x: x and \"Alma\" in x)\n"
     ]
    },
    {
     "name": "stdout",
     "output_type": "stream",
     "text": [
      "[ DEBUG ] - Progress: 65.71146245059289%\n"
     ]
    },
    {
     "name": "stderr",
     "output_type": "stream",
     "text": [
      "C:\\Users\\zmorrato\\AppData\\Local\\Temp\\ipykernel_26412\\3563713887.py:21: DeprecationWarning: The 'text' argument to find()-type methods is deprecated. Use 'string' instead.\n",
      "  alma_mater_row = soup.find('th', text=lambda x: x and \"Alma\" in x)\n"
     ]
    },
    {
     "name": "stdout",
     "output_type": "stream",
     "text": [
      "[ DEBUG ] - Progress: 65.81027667984189%\n"
     ]
    },
    {
     "name": "stderr",
     "output_type": "stream",
     "text": [
      "C:\\Users\\zmorrato\\AppData\\Local\\Temp\\ipykernel_26412\\3563713887.py:21: DeprecationWarning: The 'text' argument to find()-type methods is deprecated. Use 'string' instead.\n",
      "  alma_mater_row = soup.find('th', text=lambda x: x and \"Alma\" in x)\n"
     ]
    },
    {
     "name": "stdout",
     "output_type": "stream",
     "text": [
      "[ DEBUG ] - Progress: 65.9090909090909%\n"
     ]
    },
    {
     "name": "stderr",
     "output_type": "stream",
     "text": [
      "C:\\Users\\zmorrato\\AppData\\Local\\Temp\\ipykernel_26412\\3563713887.py:21: DeprecationWarning: The 'text' argument to find()-type methods is deprecated. Use 'string' instead.\n",
      "  alma_mater_row = soup.find('th', text=lambda x: x and \"Alma\" in x)\n"
     ]
    },
    {
     "name": "stdout",
     "output_type": "stream",
     "text": [
      "[ DEBUG ] - Progress: 66.00790513833992%\n"
     ]
    },
    {
     "name": "stderr",
     "output_type": "stream",
     "text": [
      "C:\\Users\\zmorrato\\AppData\\Local\\Temp\\ipykernel_26412\\3563713887.py:21: DeprecationWarning: The 'text' argument to find()-type methods is deprecated. Use 'string' instead.\n",
      "  alma_mater_row = soup.find('th', text=lambda x: x and \"Alma\" in x)\n"
     ]
    },
    {
     "name": "stdout",
     "output_type": "stream",
     "text": [
      "[ DEBUG ] - Progress: 66.10671936758892%\n"
     ]
    },
    {
     "name": "stderr",
     "output_type": "stream",
     "text": [
      "C:\\Users\\zmorrato\\AppData\\Local\\Temp\\ipykernel_26412\\3563713887.py:21: DeprecationWarning: The 'text' argument to find()-type methods is deprecated. Use 'string' instead.\n",
      "  alma_mater_row = soup.find('th', text=lambda x: x and \"Alma\" in x)\n"
     ]
    },
    {
     "name": "stdout",
     "output_type": "stream",
     "text": [
      "[ DEBUG ] - Progress: 66.20553359683794%\n"
     ]
    },
    {
     "name": "stderr",
     "output_type": "stream",
     "text": [
      "C:\\Users\\zmorrato\\AppData\\Local\\Temp\\ipykernel_26412\\3563713887.py:21: DeprecationWarning: The 'text' argument to find()-type methods is deprecated. Use 'string' instead.\n",
      "  alma_mater_row = soup.find('th', text=lambda x: x and \"Alma\" in x)\n"
     ]
    },
    {
     "name": "stdout",
     "output_type": "stream",
     "text": [
      "[ DEBUG ] - Alma mater row not found for /wiki/Wis%C5%82awa_Szymborska\n",
      "[ DEBUG ] - Progress: 66.30434782608695%\n"
     ]
    },
    {
     "name": "stderr",
     "output_type": "stream",
     "text": [
      "C:\\Users\\zmorrato\\AppData\\Local\\Temp\\ipykernel_26412\\3563713887.py:21: DeprecationWarning: The 'text' argument to find()-type methods is deprecated. Use 'string' instead.\n",
      "  alma_mater_row = soup.find('th', text=lambda x: x and \"Alma\" in x)\n"
     ]
    },
    {
     "name": "stdout",
     "output_type": "stream",
     "text": [
      "[ DEBUG ] - Progress: 66.40316205533597%\n"
     ]
    },
    {
     "name": "stderr",
     "output_type": "stream",
     "text": [
      "C:\\Users\\zmorrato\\AppData\\Local\\Temp\\ipykernel_26412\\3563713887.py:21: DeprecationWarning: The 'text' argument to find()-type methods is deprecated. Use 'string' instead.\n",
      "  alma_mater_row = soup.find('th', text=lambda x: x and \"Alma\" in x)\n"
     ]
    },
    {
     "name": "stdout",
     "output_type": "stream",
     "text": [
      "[ DEBUG ] - Progress: 66.50197628458498%\n"
     ]
    },
    {
     "name": "stderr",
     "output_type": "stream",
     "text": [
      "C:\\Users\\zmorrato\\AppData\\Local\\Temp\\ipykernel_26412\\3563713887.py:21: DeprecationWarning: The 'text' argument to find()-type methods is deprecated. Use 'string' instead.\n",
      "  alma_mater_row = soup.find('th', text=lambda x: x and \"Alma\" in x)\n"
     ]
    },
    {
     "name": "stdout",
     "output_type": "stream",
     "text": [
      "[ DEBUG ] - Alma mater row not found for /wiki/James_Mirrlees\n",
      "[ DEBUG ] - Progress: 66.600790513834%\n"
     ]
    },
    {
     "name": "stderr",
     "output_type": "stream",
     "text": [
      "C:\\Users\\zmorrato\\AppData\\Local\\Temp\\ipykernel_26412\\3563713887.py:21: DeprecationWarning: The 'text' argument to find()-type methods is deprecated. Use 'string' instead.\n",
      "  alma_mater_row = soup.find('th', text=lambda x: x and \"Alma\" in x)\n"
     ]
    },
    {
     "name": "stdout",
     "output_type": "stream",
     "text": [
      "[ DEBUG ] - Alma mater row not found for /wiki/William_Vickrey\n",
      "[ DEBUG ] - Progress: 66.699604743083%\n"
     ]
    },
    {
     "name": "stderr",
     "output_type": "stream",
     "text": [
      "C:\\Users\\zmorrato\\AppData\\Local\\Temp\\ipykernel_26412\\3563713887.py:21: DeprecationWarning: The 'text' argument to find()-type methods is deprecated. Use 'string' instead.\n",
      "  alma_mater_row = soup.find('th', text=lambda x: x and \"Alma\" in x)\n"
     ]
    },
    {
     "name": "stdout",
     "output_type": "stream",
     "text": [
      "[ DEBUG ] - Alma mater row not found for /wiki/Steven_Chu\n",
      "[ DEBUG ] - Progress: 66.79841897233202%\n"
     ]
    },
    {
     "name": "stderr",
     "output_type": "stream",
     "text": [
      "C:\\Users\\zmorrato\\AppData\\Local\\Temp\\ipykernel_26412\\3563713887.py:21: DeprecationWarning: The 'text' argument to find()-type methods is deprecated. Use 'string' instead.\n",
      "  alma_mater_row = soup.find('th', text=lambda x: x and \"Alma\" in x)\n"
     ]
    },
    {
     "name": "stdout",
     "output_type": "stream",
     "text": [
      "[ DEBUG ] - Progress: 66.89723320158103%\n"
     ]
    },
    {
     "name": "stderr",
     "output_type": "stream",
     "text": [
      "C:\\Users\\zmorrato\\AppData\\Local\\Temp\\ipykernel_26412\\3563713887.py:21: DeprecationWarning: The 'text' argument to find()-type methods is deprecated. Use 'string' instead.\n",
      "  alma_mater_row = soup.find('th', text=lambda x: x and \"Alma\" in x)\n"
     ]
    },
    {
     "name": "stdout",
     "output_type": "stream",
     "text": [
      "[ DEBUG ] - Progress: 66.99604743083005%\n"
     ]
    },
    {
     "name": "stderr",
     "output_type": "stream",
     "text": [
      "C:\\Users\\zmorrato\\AppData\\Local\\Temp\\ipykernel_26412\\3563713887.py:21: DeprecationWarning: The 'text' argument to find()-type methods is deprecated. Use 'string' instead.\n",
      "  alma_mater_row = soup.find('th', text=lambda x: x and \"Alma\" in x)\n"
     ]
    },
    {
     "name": "stdout",
     "output_type": "stream",
     "text": [
      "[ DEBUG ] - Progress: 67.09486166007905%\n"
     ]
    },
    {
     "name": "stderr",
     "output_type": "stream",
     "text": [
      "C:\\Users\\zmorrato\\AppData\\Local\\Temp\\ipykernel_26412\\3563713887.py:21: DeprecationWarning: The 'text' argument to find()-type methods is deprecated. Use 'string' instead.\n",
      "  alma_mater_row = soup.find('th', text=lambda x: x and \"Alma\" in x)\n"
     ]
    },
    {
     "name": "stdout",
     "output_type": "stream",
     "text": [
      "[ DEBUG ] - Progress: 67.19367588932806%\n"
     ]
    },
    {
     "name": "stderr",
     "output_type": "stream",
     "text": [
      "C:\\Users\\zmorrato\\AppData\\Local\\Temp\\ipykernel_26412\\3563713887.py:21: DeprecationWarning: The 'text' argument to find()-type methods is deprecated. Use 'string' instead.\n",
      "  alma_mater_row = soup.find('th', text=lambda x: x and \"Alma\" in x)\n"
     ]
    },
    {
     "name": "stdout",
     "output_type": "stream",
     "text": [
      "[ DEBUG ] - Progress: 67.29249011857708%\n"
     ]
    },
    {
     "name": "stderr",
     "output_type": "stream",
     "text": [
      "C:\\Users\\zmorrato\\AppData\\Local\\Temp\\ipykernel_26412\\3563713887.py:21: DeprecationWarning: The 'text' argument to find()-type methods is deprecated. Use 'string' instead.\n",
      "  alma_mater_row = soup.find('th', text=lambda x: x and \"Alma\" in x)\n"
     ]
    },
    {
     "name": "stdout",
     "output_type": "stream",
     "text": [
      "[ DEBUG ] - Progress: 67.3913043478261%\n"
     ]
    },
    {
     "name": "stderr",
     "output_type": "stream",
     "text": [
      "C:\\Users\\zmorrato\\AppData\\Local\\Temp\\ipykernel_26412\\3563713887.py:21: DeprecationWarning: The 'text' argument to find()-type methods is deprecated. Use 'string' instead.\n",
      "  alma_mater_row = soup.find('th', text=lambda x: x and \"Alma\" in x)\n"
     ]
    },
    {
     "name": "stdout",
     "output_type": "stream",
     "text": [
      "[ DEBUG ] - Alma mater row not found for /wiki/Dario_Fo\n",
      "[ DEBUG ] - Progress: 67.4901185770751%\n"
     ]
    },
    {
     "name": "stderr",
     "output_type": "stream",
     "text": [
      "C:\\Users\\zmorrato\\AppData\\Local\\Temp\\ipykernel_26412\\3563713887.py:21: DeprecationWarning: The 'text' argument to find()-type methods is deprecated. Use 'string' instead.\n",
      "  alma_mater_row = soup.find('th', text=lambda x: x and \"Alma\" in x)\n"
     ]
    },
    {
     "name": "stdout",
     "output_type": "stream",
     "text": [
      "[ DEBUG ] - Alma mater row not found for /wiki/International_Campaign_to_Ban_Landmines\n",
      "[ DEBUG ] - Progress: 67.58893280632411%\n"
     ]
    },
    {
     "name": "stderr",
     "output_type": "stream",
     "text": [
      "C:\\Users\\zmorrato\\AppData\\Local\\Temp\\ipykernel_26412\\3563713887.py:21: DeprecationWarning: The 'text' argument to find()-type methods is deprecated. Use 'string' instead.\n",
      "  alma_mater_row = soup.find('th', text=lambda x: x and \"Alma\" in x)\n"
     ]
    },
    {
     "name": "stdout",
     "output_type": "stream",
     "text": [
      "[ DEBUG ] - Alma mater row not found for /wiki/Jody_Williams\n",
      "[ DEBUG ] - Progress: 67.68774703557312%\n"
     ]
    },
    {
     "name": "stderr",
     "output_type": "stream",
     "text": [
      "C:\\Users\\zmorrato\\AppData\\Local\\Temp\\ipykernel_26412\\3563713887.py:21: DeprecationWarning: The 'text' argument to find()-type methods is deprecated. Use 'string' instead.\n",
      "  alma_mater_row = soup.find('th', text=lambda x: x and \"Alma\" in x)\n"
     ]
    },
    {
     "name": "stdout",
     "output_type": "stream",
     "text": [
      "[ DEBUG ] - Progress: 67.78656126482213%\n"
     ]
    },
    {
     "name": "stderr",
     "output_type": "stream",
     "text": [
      "C:\\Users\\zmorrato\\AppData\\Local\\Temp\\ipykernel_26412\\3563713887.py:21: DeprecationWarning: The 'text' argument to find()-type methods is deprecated. Use 'string' instead.\n",
      "  alma_mater_row = soup.find('th', text=lambda x: x and \"Alma\" in x)\n"
     ]
    },
    {
     "name": "stdout",
     "output_type": "stream",
     "text": [
      "[ DEBUG ] - Progress: 67.88537549407114%\n"
     ]
    },
    {
     "name": "stderr",
     "output_type": "stream",
     "text": [
      "C:\\Users\\zmorrato\\AppData\\Local\\Temp\\ipykernel_26412\\3563713887.py:21: DeprecationWarning: The 'text' argument to find()-type methods is deprecated. Use 'string' instead.\n",
      "  alma_mater_row = soup.find('th', text=lambda x: x and \"Alma\" in x)\n"
     ]
    },
    {
     "name": "stdout",
     "output_type": "stream",
     "text": [
      "[ DEBUG ] - Progress: 67.98418972332016%\n"
     ]
    },
    {
     "name": "stderr",
     "output_type": "stream",
     "text": [
      "C:\\Users\\zmorrato\\AppData\\Local\\Temp\\ipykernel_26412\\3563713887.py:21: DeprecationWarning: The 'text' argument to find()-type methods is deprecated. Use 'string' instead.\n",
      "  alma_mater_row = soup.find('th', text=lambda x: x and \"Alma\" in x)\n"
     ]
    },
    {
     "name": "stdout",
     "output_type": "stream",
     "text": [
      "[ DEBUG ] - Progress: 68.08300395256917%\n"
     ]
    },
    {
     "name": "stderr",
     "output_type": "stream",
     "text": [
      "C:\\Users\\zmorrato\\AppData\\Local\\Temp\\ipykernel_26412\\3563713887.py:21: DeprecationWarning: The 'text' argument to find()-type methods is deprecated. Use 'string' instead.\n",
      "  alma_mater_row = soup.find('th', text=lambda x: x and \"Alma\" in x)\n"
     ]
    },
    {
     "name": "stdout",
     "output_type": "stream",
     "text": [
      "[ DEBUG ] - Progress: 68.18181818181817%\n"
     ]
    },
    {
     "name": "stderr",
     "output_type": "stream",
     "text": [
      "C:\\Users\\zmorrato\\AppData\\Local\\Temp\\ipykernel_26412\\3563713887.py:21: DeprecationWarning: The 'text' argument to find()-type methods is deprecated. Use 'string' instead.\n",
      "  alma_mater_row = soup.find('th', text=lambda x: x and \"Alma\" in x)\n"
     ]
    },
    {
     "name": "stdout",
     "output_type": "stream",
     "text": [
      "[ DEBUG ] - Progress: 68.2806324110672%\n"
     ]
    },
    {
     "name": "stderr",
     "output_type": "stream",
     "text": [
      "C:\\Users\\zmorrato\\AppData\\Local\\Temp\\ipykernel_26412\\3563713887.py:21: DeprecationWarning: The 'text' argument to find()-type methods is deprecated. Use 'string' instead.\n",
      "  alma_mater_row = soup.find('th', text=lambda x: x and \"Alma\" in x)\n"
     ]
    },
    {
     "name": "stdout",
     "output_type": "stream",
     "text": [
      "[ DEBUG ] - Progress: 68.37944664031622%\n"
     ]
    },
    {
     "name": "stderr",
     "output_type": "stream",
     "text": [
      "C:\\Users\\zmorrato\\AppData\\Local\\Temp\\ipykernel_26412\\3563713887.py:21: DeprecationWarning: The 'text' argument to find()-type methods is deprecated. Use 'string' instead.\n",
      "  alma_mater_row = soup.find('th', text=lambda x: x and \"Alma\" in x)\n"
     ]
    },
    {
     "name": "stdout",
     "output_type": "stream",
     "text": [
      "[ DEBUG ] - Progress: 68.47826086956522%\n"
     ]
    },
    {
     "name": "stderr",
     "output_type": "stream",
     "text": [
      "C:\\Users\\zmorrato\\AppData\\Local\\Temp\\ipykernel_26412\\3563713887.py:21: DeprecationWarning: The 'text' argument to find()-type methods is deprecated. Use 'string' instead.\n",
      "  alma_mater_row = soup.find('th', text=lambda x: x and \"Alma\" in x)\n"
     ]
    },
    {
     "name": "stdout",
     "output_type": "stream",
     "text": [
      "[ DEBUG ] - Progress: 68.57707509881423%\n"
     ]
    },
    {
     "name": "stderr",
     "output_type": "stream",
     "text": [
      "C:\\Users\\zmorrato\\AppData\\Local\\Temp\\ipykernel_26412\\3563713887.py:21: DeprecationWarning: The 'text' argument to find()-type methods is deprecated. Use 'string' instead.\n",
      "  alma_mater_row = soup.find('th', text=lambda x: x and \"Alma\" in x)\n"
     ]
    },
    {
     "name": "stdout",
     "output_type": "stream",
     "text": [
      "[ DEBUG ] - Alma mater row not found for /wiki/Ferid_Murad\n",
      "[ DEBUG ] - Progress: 68.67588932806325%\n"
     ]
    },
    {
     "name": "stderr",
     "output_type": "stream",
     "text": [
      "C:\\Users\\zmorrato\\AppData\\Local\\Temp\\ipykernel_26412\\3563713887.py:21: DeprecationWarning: The 'text' argument to find()-type methods is deprecated. Use 'string' instead.\n",
      "  alma_mater_row = soup.find('th', text=lambda x: x and \"Alma\" in x)\n"
     ]
    },
    {
     "name": "stdout",
     "output_type": "stream",
     "text": [
      "[ DEBUG ] - Alma mater row not found for /wiki/Jos%C3%A9_Saramago\n",
      "[ DEBUG ] - Progress: 68.77470355731225%\n"
     ]
    },
    {
     "name": "stderr",
     "output_type": "stream",
     "text": [
      "C:\\Users\\zmorrato\\AppData\\Local\\Temp\\ipykernel_26412\\3563713887.py:21: DeprecationWarning: The 'text' argument to find()-type methods is deprecated. Use 'string' instead.\n",
      "  alma_mater_row = soup.find('th', text=lambda x: x and \"Alma\" in x)\n"
     ]
    },
    {
     "name": "stdout",
     "output_type": "stream",
     "text": [
      "[ DEBUG ] - Progress: 68.87351778656127%\n"
     ]
    },
    {
     "name": "stderr",
     "output_type": "stream",
     "text": [
      "C:\\Users\\zmorrato\\AppData\\Local\\Temp\\ipykernel_26412\\3563713887.py:21: DeprecationWarning: The 'text' argument to find()-type methods is deprecated. Use 'string' instead.\n",
      "  alma_mater_row = soup.find('th', text=lambda x: x and \"Alma\" in x)\n"
     ]
    },
    {
     "name": "stdout",
     "output_type": "stream",
     "text": [
      "[ DEBUG ] - Progress: 68.97233201581028%\n"
     ]
    },
    {
     "name": "stderr",
     "output_type": "stream",
     "text": [
      "C:\\Users\\zmorrato\\AppData\\Local\\Temp\\ipykernel_26412\\3563713887.py:21: DeprecationWarning: The 'text' argument to find()-type methods is deprecated. Use 'string' instead.\n",
      "  alma_mater_row = soup.find('th', text=lambda x: x and \"Alma\" in x)\n"
     ]
    },
    {
     "name": "stdout",
     "output_type": "stream",
     "text": [
      "[ DEBUG ] - Progress: 69.0711462450593%\n"
     ]
    },
    {
     "name": "stderr",
     "output_type": "stream",
     "text": [
      "C:\\Users\\zmorrato\\AppData\\Local\\Temp\\ipykernel_26412\\3563713887.py:21: DeprecationWarning: The 'text' argument to find()-type methods is deprecated. Use 'string' instead.\n",
      "  alma_mater_row = soup.find('th', text=lambda x: x and \"Alma\" in x)\n"
     ]
    },
    {
     "name": "stdout",
     "output_type": "stream",
     "text": [
      "[ DEBUG ] - Progress: 69.1699604743083%\n"
     ]
    },
    {
     "name": "stderr",
     "output_type": "stream",
     "text": [
      "C:\\Users\\zmorrato\\AppData\\Local\\Temp\\ipykernel_26412\\3563713887.py:21: DeprecationWarning: The 'text' argument to find()-type methods is deprecated. Use 'string' instead.\n",
      "  alma_mater_row = soup.find('th', text=lambda x: x and \"Alma\" in x)\n"
     ]
    },
    {
     "name": "stdout",
     "output_type": "stream",
     "text": [
      "[ DEBUG ] - Progress: 69.26877470355731%\n"
     ]
    },
    {
     "name": "stderr",
     "output_type": "stream",
     "text": [
      "C:\\Users\\zmorrato\\AppData\\Local\\Temp\\ipykernel_26412\\3563713887.py:21: DeprecationWarning: The 'text' argument to find()-type methods is deprecated. Use 'string' instead.\n",
      "  alma_mater_row = soup.find('th', text=lambda x: x and \"Alma\" in x)\n"
     ]
    },
    {
     "name": "stdout",
     "output_type": "stream",
     "text": [
      "[ DEBUG ] - Progress: 69.36758893280633%\n"
     ]
    },
    {
     "name": "stderr",
     "output_type": "stream",
     "text": [
      "C:\\Users\\zmorrato\\AppData\\Local\\Temp\\ipykernel_26412\\3563713887.py:21: DeprecationWarning: The 'text' argument to find()-type methods is deprecated. Use 'string' instead.\n",
      "  alma_mater_row = soup.find('th', text=lambda x: x and \"Alma\" in x)\n"
     ]
    },
    {
     "name": "stdout",
     "output_type": "stream",
     "text": [
      "[ DEBUG ] - Progress: 69.46640316205533%\n"
     ]
    },
    {
     "name": "stderr",
     "output_type": "stream",
     "text": [
      "C:\\Users\\zmorrato\\AppData\\Local\\Temp\\ipykernel_26412\\3563713887.py:21: DeprecationWarning: The 'text' argument to find()-type methods is deprecated. Use 'string' instead.\n",
      "  alma_mater_row = soup.find('th', text=lambda x: x and \"Alma\" in x)\n"
     ]
    },
    {
     "name": "stdout",
     "output_type": "stream",
     "text": [
      "[ DEBUG ] - Alma mater row not found for /wiki/G%C3%BCnter_Grass\n",
      "[ DEBUG ] - Progress: 69.56521739130434%\n"
     ]
    },
    {
     "name": "stderr",
     "output_type": "stream",
     "text": [
      "C:\\Users\\zmorrato\\AppData\\Local\\Temp\\ipykernel_26412\\3563713887.py:21: DeprecationWarning: The 'text' argument to find()-type methods is deprecated. Use 'string' instead.\n",
      "  alma_mater_row = soup.find('th', text=lambda x: x and \"Alma\" in x)\n"
     ]
    },
    {
     "name": "stdout",
     "output_type": "stream",
     "text": [
      "[ DEBUG ] - Alma mater row not found for /wiki/M%C3%A9decins_Sans_Fronti%C3%A8res\n",
      "[ DEBUG ] - Progress: 69.66403162055336%\n"
     ]
    },
    {
     "name": "stderr",
     "output_type": "stream",
     "text": [
      "C:\\Users\\zmorrato\\AppData\\Local\\Temp\\ipykernel_26412\\3563713887.py:21: DeprecationWarning: The 'text' argument to find()-type methods is deprecated. Use 'string' instead.\n",
      "  alma_mater_row = soup.find('th', text=lambda x: x and \"Alma\" in x)\n"
     ]
    },
    {
     "name": "stdout",
     "output_type": "stream",
     "text": [
      "[ DEBUG ] - Progress: 69.76284584980237%\n"
     ]
    },
    {
     "name": "stderr",
     "output_type": "stream",
     "text": [
      "C:\\Users\\zmorrato\\AppData\\Local\\Temp\\ipykernel_26412\\3563713887.py:21: DeprecationWarning: The 'text' argument to find()-type methods is deprecated. Use 'string' instead.\n",
      "  alma_mater_row = soup.find('th', text=lambda x: x and \"Alma\" in x)\n"
     ]
    },
    {
     "name": "stdout",
     "output_type": "stream",
     "text": [
      "[ DEBUG ] - Progress: 69.86166007905138%\n"
     ]
    },
    {
     "name": "stderr",
     "output_type": "stream",
     "text": [
      "C:\\Users\\zmorrato\\AppData\\Local\\Temp\\ipykernel_26412\\3563713887.py:21: DeprecationWarning: The 'text' argument to find()-type methods is deprecated. Use 'string' instead.\n",
      "  alma_mater_row = soup.find('th', text=lambda x: x and \"Alma\" in x)\n"
     ]
    },
    {
     "name": "stdout",
     "output_type": "stream",
     "text": [
      "[ DEBUG ] - Alma mater row not found for /wiki/Zhores_Alferov\n",
      "[ DEBUG ] - Progress: 69.96047430830039%\n"
     ]
    },
    {
     "name": "stderr",
     "output_type": "stream",
     "text": [
      "C:\\Users\\zmorrato\\AppData\\Local\\Temp\\ipykernel_26412\\3563713887.py:21: DeprecationWarning: The 'text' argument to find()-type methods is deprecated. Use 'string' instead.\n",
      "  alma_mater_row = soup.find('th', text=lambda x: x and \"Alma\" in x)\n"
     ]
    },
    {
     "name": "stdout",
     "output_type": "stream",
     "text": [
      "[ DEBUG ] - Progress: 70.0592885375494%\n"
     ]
    },
    {
     "name": "stderr",
     "output_type": "stream",
     "text": [
      "C:\\Users\\zmorrato\\AppData\\Local\\Temp\\ipykernel_26412\\3563713887.py:21: DeprecationWarning: The 'text' argument to find()-type methods is deprecated. Use 'string' instead.\n",
      "  alma_mater_row = soup.find('th', text=lambda x: x and \"Alma\" in x)\n"
     ]
    },
    {
     "name": "stdout",
     "output_type": "stream",
     "text": [
      "[ DEBUG ] - Progress: 70.15810276679841%\n"
     ]
    },
    {
     "name": "stderr",
     "output_type": "stream",
     "text": [
      "C:\\Users\\zmorrato\\AppData\\Local\\Temp\\ipykernel_26412\\3563713887.py:21: DeprecationWarning: The 'text' argument to find()-type methods is deprecated. Use 'string' instead.\n",
      "  alma_mater_row = soup.find('th', text=lambda x: x and \"Alma\" in x)\n"
     ]
    },
    {
     "name": "stdout",
     "output_type": "stream",
     "text": [
      "[ DEBUG ] - Progress: 70.25691699604744%\n"
     ]
    },
    {
     "name": "stderr",
     "output_type": "stream",
     "text": [
      "C:\\Users\\zmorrato\\AppData\\Local\\Temp\\ipykernel_26412\\3563713887.py:21: DeprecationWarning: The 'text' argument to find()-type methods is deprecated. Use 'string' instead.\n",
      "  alma_mater_row = soup.find('th', text=lambda x: x and \"Alma\" in x)\n"
     ]
    },
    {
     "name": "stdout",
     "output_type": "stream",
     "text": [
      "[ DEBUG ] - Progress: 70.35573122529645%\n"
     ]
    },
    {
     "name": "stderr",
     "output_type": "stream",
     "text": [
      "C:\\Users\\zmorrato\\AppData\\Local\\Temp\\ipykernel_26412\\3563713887.py:21: DeprecationWarning: The 'text' argument to find()-type methods is deprecated. Use 'string' instead.\n",
      "  alma_mater_row = soup.find('th', text=lambda x: x and \"Alma\" in x)\n"
     ]
    },
    {
     "name": "stdout",
     "output_type": "stream",
     "text": [
      "[ DEBUG ] - Progress: 70.45454545454545%\n"
     ]
    },
    {
     "name": "stderr",
     "output_type": "stream",
     "text": [
      "C:\\Users\\zmorrato\\AppData\\Local\\Temp\\ipykernel_26412\\3563713887.py:21: DeprecationWarning: The 'text' argument to find()-type methods is deprecated. Use 'string' instead.\n",
      "  alma_mater_row = soup.find('th', text=lambda x: x and \"Alma\" in x)\n"
     ]
    },
    {
     "name": "stdout",
     "output_type": "stream",
     "text": [
      "[ DEBUG ] - Progress: 70.55335968379447%\n"
     ]
    },
    {
     "name": "stderr",
     "output_type": "stream",
     "text": [
      "C:\\Users\\zmorrato\\AppData\\Local\\Temp\\ipykernel_26412\\3563713887.py:21: DeprecationWarning: The 'text' argument to find()-type methods is deprecated. Use 'string' instead.\n",
      "  alma_mater_row = soup.find('th', text=lambda x: x and \"Alma\" in x)\n"
     ]
    },
    {
     "name": "stdout",
     "output_type": "stream",
     "text": [
      "[ DEBUG ] - Alma mater row not found for /wiki/Eric_Kandel\n",
      "[ DEBUG ] - Progress: 70.65217391304348%\n"
     ]
    },
    {
     "name": "stderr",
     "output_type": "stream",
     "text": [
      "C:\\Users\\zmorrato\\AppData\\Local\\Temp\\ipykernel_26412\\3563713887.py:21: DeprecationWarning: The 'text' argument to find()-type methods is deprecated. Use 'string' instead.\n",
      "  alma_mater_row = soup.find('th', text=lambda x: x and \"Alma\" in x)\n"
     ]
    },
    {
     "name": "stdout",
     "output_type": "stream",
     "text": [
      "[ DEBUG ] - Progress: 70.7509881422925%\n"
     ]
    },
    {
     "name": "stderr",
     "output_type": "stream",
     "text": [
      "C:\\Users\\zmorrato\\AppData\\Local\\Temp\\ipykernel_26412\\3563713887.py:21: DeprecationWarning: The 'text' argument to find()-type methods is deprecated. Use 'string' instead.\n",
      "  alma_mater_row = soup.find('th', text=lambda x: x and \"Alma\" in x)\n"
     ]
    },
    {
     "name": "stdout",
     "output_type": "stream",
     "text": [
      "[ DEBUG ] - Alma mater row not found for /wiki/Kim_Dae-jung\n",
      "[ DEBUG ] - Progress: 70.8498023715415%\n"
     ]
    },
    {
     "name": "stderr",
     "output_type": "stream",
     "text": [
      "C:\\Users\\zmorrato\\AppData\\Local\\Temp\\ipykernel_26412\\3563713887.py:21: DeprecationWarning: The 'text' argument to find()-type methods is deprecated. Use 'string' instead.\n",
      "  alma_mater_row = soup.find('th', text=lambda x: x and \"Alma\" in x)\n"
     ]
    },
    {
     "name": "stdout",
     "output_type": "stream",
     "text": [
      "[ DEBUG ] - Progress: 70.94861660079052%\n"
     ]
    },
    {
     "name": "stderr",
     "output_type": "stream",
     "text": [
      "C:\\Users\\zmorrato\\AppData\\Local\\Temp\\ipykernel_26412\\3563713887.py:21: DeprecationWarning: The 'text' argument to find()-type methods is deprecated. Use 'string' instead.\n",
      "  alma_mater_row = soup.find('th', text=lambda x: x and \"Alma\" in x)\n"
     ]
    },
    {
     "name": "stdout",
     "output_type": "stream",
     "text": [
      "[ DEBUG ] - Progress: 71.04743083003953%\n"
     ]
    },
    {
     "name": "stderr",
     "output_type": "stream",
     "text": [
      "C:\\Users\\zmorrato\\AppData\\Local\\Temp\\ipykernel_26412\\3563713887.py:21: DeprecationWarning: The 'text' argument to find()-type methods is deprecated. Use 'string' instead.\n",
      "  alma_mater_row = soup.find('th', text=lambda x: x and \"Alma\" in x)\n"
     ]
    },
    {
     "name": "stdout",
     "output_type": "stream",
     "text": [
      "[ DEBUG ] - Progress: 71.14624505928853%\n"
     ]
    },
    {
     "name": "stderr",
     "output_type": "stream",
     "text": [
      "C:\\Users\\zmorrato\\AppData\\Local\\Temp\\ipykernel_26412\\3563713887.py:21: DeprecationWarning: The 'text' argument to find()-type methods is deprecated. Use 'string' instead.\n",
      "  alma_mater_row = soup.find('th', text=lambda x: x and \"Alma\" in x)\n"
     ]
    },
    {
     "name": "stdout",
     "output_type": "stream",
     "text": [
      "[ DEBUG ] - Progress: 71.24505928853755%\n"
     ]
    },
    {
     "name": "stderr",
     "output_type": "stream",
     "text": [
      "C:\\Users\\zmorrato\\AppData\\Local\\Temp\\ipykernel_26412\\3563713887.py:21: DeprecationWarning: The 'text' argument to find()-type methods is deprecated. Use 'string' instead.\n",
      "  alma_mater_row = soup.find('th', text=lambda x: x and \"Alma\" in x)\n"
     ]
    },
    {
     "name": "stdout",
     "output_type": "stream",
     "text": [
      "[ DEBUG ] - Progress: 71.34387351778656%\n"
     ]
    },
    {
     "name": "stderr",
     "output_type": "stream",
     "text": [
      "C:\\Users\\zmorrato\\AppData\\Local\\Temp\\ipykernel_26412\\3563713887.py:21: DeprecationWarning: The 'text' argument to find()-type methods is deprecated. Use 'string' instead.\n",
      "  alma_mater_row = soup.find('th', text=lambda x: x and \"Alma\" in x)\n"
     ]
    },
    {
     "name": "stdout",
     "output_type": "stream",
     "text": [
      "[ DEBUG ] - Alma mater row not found for /wiki/William_Standish_Knowles\n",
      "[ DEBUG ] - Progress: 71.44268774703558%\n"
     ]
    },
    {
     "name": "stderr",
     "output_type": "stream",
     "text": [
      "C:\\Users\\zmorrato\\AppData\\Local\\Temp\\ipykernel_26412\\3563713887.py:21: DeprecationWarning: The 'text' argument to find()-type methods is deprecated. Use 'string' instead.\n",
      "  alma_mater_row = soup.find('th', text=lambda x: x and \"Alma\" in x)\n"
     ]
    },
    {
     "name": "stdout",
     "output_type": "stream",
     "text": [
      "[ DEBUG ] - Progress: 71.54150197628458%\n"
     ]
    },
    {
     "name": "stderr",
     "output_type": "stream",
     "text": [
      "C:\\Users\\zmorrato\\AppData\\Local\\Temp\\ipykernel_26412\\3563713887.py:21: DeprecationWarning: The 'text' argument to find()-type methods is deprecated. Use 'string' instead.\n",
      "  alma_mater_row = soup.find('th', text=lambda x: x and \"Alma\" in x)\n"
     ]
    },
    {
     "name": "stdout",
     "output_type": "stream",
     "text": [
      "[ DEBUG ] - Progress: 71.6403162055336%\n"
     ]
    },
    {
     "name": "stderr",
     "output_type": "stream",
     "text": [
      "C:\\Users\\zmorrato\\AppData\\Local\\Temp\\ipykernel_26412\\3563713887.py:21: DeprecationWarning: The 'text' argument to find()-type methods is deprecated. Use 'string' instead.\n",
      "  alma_mater_row = soup.find('th', text=lambda x: x and \"Alma\" in x)\n"
     ]
    },
    {
     "name": "stdout",
     "output_type": "stream",
     "text": [
      "[ DEBUG ] - Progress: 71.73913043478261%\n"
     ]
    },
    {
     "name": "stderr",
     "output_type": "stream",
     "text": [
      "C:\\Users\\zmorrato\\AppData\\Local\\Temp\\ipykernel_26412\\3563713887.py:21: DeprecationWarning: The 'text' argument to find()-type methods is deprecated. Use 'string' instead.\n",
      "  alma_mater_row = soup.find('th', text=lambda x: x and \"Alma\" in x)\n"
     ]
    },
    {
     "name": "stdout",
     "output_type": "stream",
     "text": [
      "[ DEBUG ] - Progress: 71.83794466403161%\n"
     ]
    },
    {
     "name": "stderr",
     "output_type": "stream",
     "text": [
      "C:\\Users\\zmorrato\\AppData\\Local\\Temp\\ipykernel_26412\\3563713887.py:21: DeprecationWarning: The 'text' argument to find()-type methods is deprecated. Use 'string' instead.\n",
      "  alma_mater_row = soup.find('th', text=lambda x: x and \"Alma\" in x)\n"
     ]
    },
    {
     "name": "stdout",
     "output_type": "stream",
     "text": [
      "[ DEBUG ] - Progress: 71.93675889328063%\n"
     ]
    },
    {
     "name": "stderr",
     "output_type": "stream",
     "text": [
      "C:\\Users\\zmorrato\\AppData\\Local\\Temp\\ipykernel_26412\\3563713887.py:21: DeprecationWarning: The 'text' argument to find()-type methods is deprecated. Use 'string' instead.\n",
      "  alma_mater_row = soup.find('th', text=lambda x: x and \"Alma\" in x)\n"
     ]
    },
    {
     "name": "stdout",
     "output_type": "stream",
     "text": [
      "[ DEBUG ] - Progress: 72.03557312252964%\n"
     ]
    },
    {
     "name": "stderr",
     "output_type": "stream",
     "text": [
      "C:\\Users\\zmorrato\\AppData\\Local\\Temp\\ipykernel_26412\\3563713887.py:21: DeprecationWarning: The 'text' argument to find()-type methods is deprecated. Use 'string' instead.\n",
      "  alma_mater_row = soup.find('th', text=lambda x: x and \"Alma\" in x)\n"
     ]
    },
    {
     "name": "stdout",
     "output_type": "stream",
     "text": [
      "[ DEBUG ] - Alma mater row not found for /wiki/United_Nations\n",
      "[ DEBUG ] - Progress: 72.13438735177866%\n"
     ]
    },
    {
     "name": "stderr",
     "output_type": "stream",
     "text": [
      "C:\\Users\\zmorrato\\AppData\\Local\\Temp\\ipykernel_26412\\3563713887.py:21: DeprecationWarning: The 'text' argument to find()-type methods is deprecated. Use 'string' instead.\n",
      "  alma_mater_row = soup.find('th', text=lambda x: x and \"Alma\" in x)\n"
     ]
    },
    {
     "name": "stdout",
     "output_type": "stream",
     "text": [
      "[ DEBUG ] - Alma mater row not found for /wiki/Kofi_Annan\n",
      "[ DEBUG ] - Progress: 72.23320158102767%\n"
     ]
    },
    {
     "name": "stderr",
     "output_type": "stream",
     "text": [
      "C:\\Users\\zmorrato\\AppData\\Local\\Temp\\ipykernel_26412\\3563713887.py:21: DeprecationWarning: The 'text' argument to find()-type methods is deprecated. Use 'string' instead.\n",
      "  alma_mater_row = soup.find('th', text=lambda x: x and \"Alma\" in x)\n"
     ]
    },
    {
     "name": "stdout",
     "output_type": "stream",
     "text": [
      "[ DEBUG ] - Alma mater row not found for /wiki/George_Akerlof\n",
      "[ DEBUG ] - Progress: 72.33201581027669%\n"
     ]
    },
    {
     "name": "stderr",
     "output_type": "stream",
     "text": [
      "C:\\Users\\zmorrato\\AppData\\Local\\Temp\\ipykernel_26412\\3563713887.py:21: DeprecationWarning: The 'text' argument to find()-type methods is deprecated. Use 'string' instead.\n",
      "  alma_mater_row = soup.find('th', text=lambda x: x and \"Alma\" in x)\n"
     ]
    },
    {
     "name": "stdout",
     "output_type": "stream",
     "text": [
      "[ DEBUG ] - Progress: 72.4308300395257%\n"
     ]
    },
    {
     "name": "stderr",
     "output_type": "stream",
     "text": [
      "C:\\Users\\zmorrato\\AppData\\Local\\Temp\\ipykernel_26412\\3563713887.py:21: DeprecationWarning: The 'text' argument to find()-type methods is deprecated. Use 'string' instead.\n",
      "  alma_mater_row = soup.find('th', text=lambda x: x and \"Alma\" in x)\n"
     ]
    },
    {
     "name": "stdout",
     "output_type": "stream",
     "text": [
      "[ DEBUG ] - Alma mater row not found for /wiki/Joseph_Stiglitz\n",
      "[ DEBUG ] - Progress: 72.5296442687747%\n"
     ]
    },
    {
     "name": "stderr",
     "output_type": "stream",
     "text": [
      "C:\\Users\\zmorrato\\AppData\\Local\\Temp\\ipykernel_26412\\3563713887.py:21: DeprecationWarning: The 'text' argument to find()-type methods is deprecated. Use 'string' instead.\n",
      "  alma_mater_row = soup.find('th', text=lambda x: x and \"Alma\" in x)\n"
     ]
    },
    {
     "name": "stdout",
     "output_type": "stream",
     "text": [
      "[ DEBUG ] - Progress: 72.62845849802372%\n"
     ]
    },
    {
     "name": "stderr",
     "output_type": "stream",
     "text": [
      "C:\\Users\\zmorrato\\AppData\\Local\\Temp\\ipykernel_26412\\3563713887.py:21: DeprecationWarning: The 'text' argument to find()-type methods is deprecated. Use 'string' instead.\n",
      "  alma_mater_row = soup.find('th', text=lambda x: x and \"Alma\" in x)\n"
     ]
    },
    {
     "name": "stdout",
     "output_type": "stream",
     "text": [
      "[ DEBUG ] - Progress: 72.72727272727273%\n"
     ]
    },
    {
     "name": "stderr",
     "output_type": "stream",
     "text": [
      "C:\\Users\\zmorrato\\AppData\\Local\\Temp\\ipykernel_26412\\3563713887.py:21: DeprecationWarning: The 'text' argument to find()-type methods is deprecated. Use 'string' instead.\n",
      "  alma_mater_row = soup.find('th', text=lambda x: x and \"Alma\" in x)\n"
     ]
    },
    {
     "name": "stdout",
     "output_type": "stream",
     "text": [
      "[ DEBUG ] - Progress: 72.82608695652173%\n"
     ]
    },
    {
     "name": "stderr",
     "output_type": "stream",
     "text": [
      "C:\\Users\\zmorrato\\AppData\\Local\\Temp\\ipykernel_26412\\3563713887.py:21: DeprecationWarning: The 'text' argument to find()-type methods is deprecated. Use 'string' instead.\n",
      "  alma_mater_row = soup.find('th', text=lambda x: x and \"Alma\" in x)\n"
     ]
    },
    {
     "name": "stdout",
     "output_type": "stream",
     "text": [
      "[ DEBUG ] - Progress: 72.92490118577075%\n"
     ]
    },
    {
     "name": "stderr",
     "output_type": "stream",
     "text": [
      "C:\\Users\\zmorrato\\AppData\\Local\\Temp\\ipykernel_26412\\3563713887.py:21: DeprecationWarning: The 'text' argument to find()-type methods is deprecated. Use 'string' instead.\n",
      "  alma_mater_row = soup.find('th', text=lambda x: x and \"Alma\" in x)\n"
     ]
    },
    {
     "name": "stdout",
     "output_type": "stream",
     "text": [
      "[ DEBUG ] - Progress: 73.02371541501977%\n"
     ]
    },
    {
     "name": "stderr",
     "output_type": "stream",
     "text": [
      "C:\\Users\\zmorrato\\AppData\\Local\\Temp\\ipykernel_26412\\3563713887.py:21: DeprecationWarning: The 'text' argument to find()-type methods is deprecated. Use 'string' instead.\n",
      "  alma_mater_row = soup.find('th', text=lambda x: x and \"Alma\" in x)\n"
     ]
    },
    {
     "name": "stdout",
     "output_type": "stream",
     "text": [
      "[ DEBUG ] - Progress: 73.12252964426878%\n"
     ]
    },
    {
     "name": "stderr",
     "output_type": "stream",
     "text": [
      "C:\\Users\\zmorrato\\AppData\\Local\\Temp\\ipykernel_26412\\3563713887.py:21: DeprecationWarning: The 'text' argument to find()-type methods is deprecated. Use 'string' instead.\n",
      "  alma_mater_row = soup.find('th', text=lambda x: x and \"Alma\" in x)\n"
     ]
    },
    {
     "name": "stdout",
     "output_type": "stream",
     "text": [
      "[ DEBUG ] - Progress: 73.22134387351778%\n"
     ]
    },
    {
     "name": "stderr",
     "output_type": "stream",
     "text": [
      "C:\\Users\\zmorrato\\AppData\\Local\\Temp\\ipykernel_26412\\3563713887.py:21: DeprecationWarning: The 'text' argument to find()-type methods is deprecated. Use 'string' instead.\n",
      "  alma_mater_row = soup.find('th', text=lambda x: x and \"Alma\" in x)\n"
     ]
    },
    {
     "name": "stdout",
     "output_type": "stream",
     "text": [
      "[ DEBUG ] - Progress: 73.3201581027668%\n"
     ]
    },
    {
     "name": "stderr",
     "output_type": "stream",
     "text": [
      "C:\\Users\\zmorrato\\AppData\\Local\\Temp\\ipykernel_26412\\3563713887.py:21: DeprecationWarning: The 'text' argument to find()-type methods is deprecated. Use 'string' instead.\n",
      "  alma_mater_row = soup.find('th', text=lambda x: x and \"Alma\" in x)\n"
     ]
    },
    {
     "name": "stdout",
     "output_type": "stream",
     "text": [
      "[ DEBUG ] - Progress: 73.41897233201581%\n"
     ]
    },
    {
     "name": "stderr",
     "output_type": "stream",
     "text": [
      "C:\\Users\\zmorrato\\AppData\\Local\\Temp\\ipykernel_26412\\3563713887.py:21: DeprecationWarning: The 'text' argument to find()-type methods is deprecated. Use 'string' instead.\n",
      "  alma_mater_row = soup.find('th', text=lambda x: x and \"Alma\" in x)\n"
     ]
    },
    {
     "name": "stdout",
     "output_type": "stream",
     "text": [
      "[ DEBUG ] - Alma mater row not found for /wiki/Imre_Kert%C3%A9sz\n",
      "[ DEBUG ] - Progress: 73.51778656126481%\n"
     ]
    },
    {
     "name": "stderr",
     "output_type": "stream",
     "text": [
      "C:\\Users\\zmorrato\\AppData\\Local\\Temp\\ipykernel_26412\\3563713887.py:21: DeprecationWarning: The 'text' argument to find()-type methods is deprecated. Use 'string' instead.\n",
      "  alma_mater_row = soup.find('th', text=lambda x: x and \"Alma\" in x)\n"
     ]
    },
    {
     "name": "stdout",
     "output_type": "stream",
     "text": [
      "[ DEBUG ] - Alma mater row not found for /wiki/Jimmy_Carter\n",
      "[ DEBUG ] - Progress: 73.61660079051383%\n"
     ]
    },
    {
     "name": "stderr",
     "output_type": "stream",
     "text": [
      "C:\\Users\\zmorrato\\AppData\\Local\\Temp\\ipykernel_26412\\3563713887.py:21: DeprecationWarning: The 'text' argument to find()-type methods is deprecated. Use 'string' instead.\n",
      "  alma_mater_row = soup.find('th', text=lambda x: x and \"Alma\" in x)\n"
     ]
    },
    {
     "name": "stdout",
     "output_type": "stream",
     "text": [
      "[ DEBUG ] - Alma mater row not found for /wiki/Daniel_Kahneman\n",
      "[ DEBUG ] - Progress: 73.71541501976284%\n"
     ]
    },
    {
     "name": "stderr",
     "output_type": "stream",
     "text": [
      "C:\\Users\\zmorrato\\AppData\\Local\\Temp\\ipykernel_26412\\3563713887.py:21: DeprecationWarning: The 'text' argument to find()-type methods is deprecated. Use 'string' instead.\n",
      "  alma_mater_row = soup.find('th', text=lambda x: x and \"Alma\" in x)\n"
     ]
    },
    {
     "name": "stdout",
     "output_type": "stream",
     "text": [
      "[ DEBUG ] - Alma mater row not found for /wiki/Vernon_L._Smith\n",
      "[ DEBUG ] - Progress: 73.81422924901186%\n"
     ]
    },
    {
     "name": "stderr",
     "output_type": "stream",
     "text": [
      "C:\\Users\\zmorrato\\AppData\\Local\\Temp\\ipykernel_26412\\3563713887.py:21: DeprecationWarning: The 'text' argument to find()-type methods is deprecated. Use 'string' instead.\n",
      "  alma_mater_row = soup.find('th', text=lambda x: x and \"Alma\" in x)\n"
     ]
    },
    {
     "name": "stdout",
     "output_type": "stream",
     "text": [
      "[ DEBUG ] - Progress: 73.91304347826086%\n"
     ]
    },
    {
     "name": "stderr",
     "output_type": "stream",
     "text": [
      "C:\\Users\\zmorrato\\AppData\\Local\\Temp\\ipykernel_26412\\3563713887.py:21: DeprecationWarning: The 'text' argument to find()-type methods is deprecated. Use 'string' instead.\n",
      "  alma_mater_row = soup.find('th', text=lambda x: x and \"Alma\" in x)\n"
     ]
    },
    {
     "name": "stdout",
     "output_type": "stream",
     "text": [
      "[ DEBUG ] - Progress: 74.01185770750988%\n"
     ]
    },
    {
     "name": "stderr",
     "output_type": "stream",
     "text": [
      "C:\\Users\\zmorrato\\AppData\\Local\\Temp\\ipykernel_26412\\3563713887.py:21: DeprecationWarning: The 'text' argument to find()-type methods is deprecated. Use 'string' instead.\n",
      "  alma_mater_row = soup.find('th', text=lambda x: x and \"Alma\" in x)\n"
     ]
    },
    {
     "name": "stdout",
     "output_type": "stream",
     "text": [
      "[ DEBUG ] - Progress: 74.1106719367589%\n"
     ]
    },
    {
     "name": "stderr",
     "output_type": "stream",
     "text": [
      "C:\\Users\\zmorrato\\AppData\\Local\\Temp\\ipykernel_26412\\3563713887.py:21: DeprecationWarning: The 'text' argument to find()-type methods is deprecated. Use 'string' instead.\n",
      "  alma_mater_row = soup.find('th', text=lambda x: x and \"Alma\" in x)\n"
     ]
    },
    {
     "name": "stdout",
     "output_type": "stream",
     "text": [
      "[ DEBUG ] - Progress: 74.2094861660079%\n"
     ]
    },
    {
     "name": "stderr",
     "output_type": "stream",
     "text": [
      "C:\\Users\\zmorrato\\AppData\\Local\\Temp\\ipykernel_26412\\3563713887.py:21: DeprecationWarning: The 'text' argument to find()-type methods is deprecated. Use 'string' instead.\n",
      "  alma_mater_row = soup.find('th', text=lambda x: x and \"Alma\" in x)\n"
     ]
    },
    {
     "name": "stdout",
     "output_type": "stream",
     "text": [
      "[ DEBUG ] - Progress: 74.30830039525692%\n"
     ]
    },
    {
     "name": "stderr",
     "output_type": "stream",
     "text": [
      "C:\\Users\\zmorrato\\AppData\\Local\\Temp\\ipykernel_26412\\3563713887.py:21: DeprecationWarning: The 'text' argument to find()-type methods is deprecated. Use 'string' instead.\n",
      "  alma_mater_row = soup.find('th', text=lambda x: x and \"Alma\" in x)\n"
     ]
    },
    {
     "name": "stdout",
     "output_type": "stream",
     "text": [
      "[ DEBUG ] - Progress: 74.40711462450594%\n"
     ]
    },
    {
     "name": "stderr",
     "output_type": "stream",
     "text": [
      "C:\\Users\\zmorrato\\AppData\\Local\\Temp\\ipykernel_26412\\3563713887.py:21: DeprecationWarning: The 'text' argument to find()-type methods is deprecated. Use 'string' instead.\n",
      "  alma_mater_row = soup.find('th', text=lambda x: x and \"Alma\" in x)\n"
     ]
    },
    {
     "name": "stdout",
     "output_type": "stream",
     "text": [
      "[ DEBUG ] - Progress: 74.50592885375494%\n"
     ]
    },
    {
     "name": "stderr",
     "output_type": "stream",
     "text": [
      "C:\\Users\\zmorrato\\AppData\\Local\\Temp\\ipykernel_26412\\3563713887.py:21: DeprecationWarning: The 'text' argument to find()-type methods is deprecated. Use 'string' instead.\n",
      "  alma_mater_row = soup.find('th', text=lambda x: x and \"Alma\" in x)\n"
     ]
    },
    {
     "name": "stdout",
     "output_type": "stream",
     "text": [
      "[ DEBUG ] - Alma mater row not found for /wiki/J._M._Coetzee\n",
      "[ DEBUG ] - Progress: 74.60474308300395%\n"
     ]
    },
    {
     "name": "stderr",
     "output_type": "stream",
     "text": [
      "C:\\Users\\zmorrato\\AppData\\Local\\Temp\\ipykernel_26412\\3563713887.py:21: DeprecationWarning: The 'text' argument to find()-type methods is deprecated. Use 'string' instead.\n",
      "  alma_mater_row = soup.find('th', text=lambda x: x and \"Alma\" in x)\n"
     ]
    },
    {
     "name": "stdout",
     "output_type": "stream",
     "text": [
      "[ DEBUG ] - Progress: 74.70355731225297%\n"
     ]
    },
    {
     "name": "stderr",
     "output_type": "stream",
     "text": [
      "C:\\Users\\zmorrato\\AppData\\Local\\Temp\\ipykernel_26412\\3563713887.py:21: DeprecationWarning: The 'text' argument to find()-type methods is deprecated. Use 'string' instead.\n",
      "  alma_mater_row = soup.find('th', text=lambda x: x and \"Alma\" in x)\n"
     ]
    },
    {
     "name": "stdout",
     "output_type": "stream",
     "text": [
      "[ DEBUG ] - Alma mater row not found for /wiki/Robert_F._Engle\n",
      "[ DEBUG ] - Progress: 74.80237154150198%\n"
     ]
    },
    {
     "name": "stderr",
     "output_type": "stream",
     "text": [
      "C:\\Users\\zmorrato\\AppData\\Local\\Temp\\ipykernel_26412\\3563713887.py:21: DeprecationWarning: The 'text' argument to find()-type methods is deprecated. Use 'string' instead.\n",
      "  alma_mater_row = soup.find('th', text=lambda x: x and \"Alma\" in x)\n"
     ]
    },
    {
     "name": "stdout",
     "output_type": "stream",
     "text": [
      "[ DEBUG ] - Alma mater row not found for /wiki/Clive_Granger\n",
      "[ DEBUG ] - Progress: 74.90118577075098%\n"
     ]
    },
    {
     "name": "stderr",
     "output_type": "stream",
     "text": [
      "C:\\Users\\zmorrato\\AppData\\Local\\Temp\\ipykernel_26412\\3563713887.py:21: DeprecationWarning: The 'text' argument to find()-type methods is deprecated. Use 'string' instead.\n",
      "  alma_mater_row = soup.find('th', text=lambda x: x and \"Alma\" in x)\n"
     ]
    },
    {
     "name": "stdout",
     "output_type": "stream",
     "text": [
      "[ DEBUG ] - Alma mater row not found for /wiki/David_Gross\n",
      "[ DEBUG ] - Progress: 75.0%\n"
     ]
    },
    {
     "name": "stderr",
     "output_type": "stream",
     "text": [
      "C:\\Users\\zmorrato\\AppData\\Local\\Temp\\ipykernel_26412\\3563713887.py:21: DeprecationWarning: The 'text' argument to find()-type methods is deprecated. Use 'string' instead.\n",
      "  alma_mater_row = soup.find('th', text=lambda x: x and \"Alma\" in x)\n"
     ]
    },
    {
     "name": "stdout",
     "output_type": "stream",
     "text": [
      "[ DEBUG ] - Progress: 75.09881422924902%\n"
     ]
    },
    {
     "name": "stderr",
     "output_type": "stream",
     "text": [
      "C:\\Users\\zmorrato\\AppData\\Local\\Temp\\ipykernel_26412\\3563713887.py:21: DeprecationWarning: The 'text' argument to find()-type methods is deprecated. Use 'string' instead.\n",
      "  alma_mater_row = soup.find('th', text=lambda x: x and \"Alma\" in x)\n"
     ]
    },
    {
     "name": "stdout",
     "output_type": "stream",
     "text": [
      "[ DEBUG ] - Alma mater row not found for /wiki/Frank_Wilczek\n",
      "[ DEBUG ] - Progress: 75.19762845849802%\n"
     ]
    },
    {
     "name": "stderr",
     "output_type": "stream",
     "text": [
      "C:\\Users\\zmorrato\\AppData\\Local\\Temp\\ipykernel_26412\\3563713887.py:21: DeprecationWarning: The 'text' argument to find()-type methods is deprecated. Use 'string' instead.\n",
      "  alma_mater_row = soup.find('th', text=lambda x: x and \"Alma\" in x)\n"
     ]
    },
    {
     "name": "stdout",
     "output_type": "stream",
     "text": [
      "[ DEBUG ] - Progress: 75.29644268774703%\n"
     ]
    },
    {
     "name": "stderr",
     "output_type": "stream",
     "text": [
      "C:\\Users\\zmorrato\\AppData\\Local\\Temp\\ipykernel_26412\\3563713887.py:21: DeprecationWarning: The 'text' argument to find()-type methods is deprecated. Use 'string' instead.\n",
      "  alma_mater_row = soup.find('th', text=lambda x: x and \"Alma\" in x)\n"
     ]
    },
    {
     "name": "stdout",
     "output_type": "stream",
     "text": [
      "[ DEBUG ] - Progress: 75.39525691699605%\n"
     ]
    },
    {
     "name": "stderr",
     "output_type": "stream",
     "text": [
      "C:\\Users\\zmorrato\\AppData\\Local\\Temp\\ipykernel_26412\\3563713887.py:21: DeprecationWarning: The 'text' argument to find()-type methods is deprecated. Use 'string' instead.\n",
      "  alma_mater_row = soup.find('th', text=lambda x: x and \"Alma\" in x)\n"
     ]
    },
    {
     "name": "stdout",
     "output_type": "stream",
     "text": [
      "[ DEBUG ] - Progress: 75.49407114624506%\n"
     ]
    },
    {
     "name": "stderr",
     "output_type": "stream",
     "text": [
      "C:\\Users\\zmorrato\\AppData\\Local\\Temp\\ipykernel_26412\\3563713887.py:21: DeprecationWarning: The 'text' argument to find()-type methods is deprecated. Use 'string' instead.\n",
      "  alma_mater_row = soup.find('th', text=lambda x: x and \"Alma\" in x)\n"
     ]
    },
    {
     "name": "stdout",
     "output_type": "stream",
     "text": [
      "[ DEBUG ] - Alma mater row not found for /wiki/Richard_Axel\n",
      "[ DEBUG ] - Progress: 75.59288537549406%\n"
     ]
    },
    {
     "name": "stderr",
     "output_type": "stream",
     "text": [
      "C:\\Users\\zmorrato\\AppData\\Local\\Temp\\ipykernel_26412\\3563713887.py:21: DeprecationWarning: The 'text' argument to find()-type methods is deprecated. Use 'string' instead.\n",
      "  alma_mater_row = soup.find('th', text=lambda x: x and \"Alma\" in x)\n"
     ]
    },
    {
     "name": "stdout",
     "output_type": "stream",
     "text": [
      "[ DEBUG ] - Progress: 75.69169960474308%\n"
     ]
    },
    {
     "name": "stderr",
     "output_type": "stream",
     "text": [
      "C:\\Users\\zmorrato\\AppData\\Local\\Temp\\ipykernel_26412\\3563713887.py:21: DeprecationWarning: The 'text' argument to find()-type methods is deprecated. Use 'string' instead.\n",
      "  alma_mater_row = soup.find('th', text=lambda x: x and \"Alma\" in x)\n"
     ]
    },
    {
     "name": "stdout",
     "output_type": "stream",
     "text": [
      "[ DEBUG ] - Alma mater row not found for /wiki/Elfriede_Jelinek\n",
      "[ DEBUG ] - Progress: 75.7905138339921%\n"
     ]
    },
    {
     "name": "stderr",
     "output_type": "stream",
     "text": [
      "C:\\Users\\zmorrato\\AppData\\Local\\Temp\\ipykernel_26412\\3563713887.py:21: DeprecationWarning: The 'text' argument to find()-type methods is deprecated. Use 'string' instead.\n",
      "  alma_mater_row = soup.find('th', text=lambda x: x and \"Alma\" in x)\n"
     ]
    },
    {
     "name": "stdout",
     "output_type": "stream",
     "text": [
      "[ DEBUG ] - Progress: 75.8893280632411%\n"
     ]
    },
    {
     "name": "stderr",
     "output_type": "stream",
     "text": [
      "C:\\Users\\zmorrato\\AppData\\Local\\Temp\\ipykernel_26412\\3563713887.py:21: DeprecationWarning: The 'text' argument to find()-type methods is deprecated. Use 'string' instead.\n",
      "  alma_mater_row = soup.find('th', text=lambda x: x and \"Alma\" in x)\n"
     ]
    },
    {
     "name": "stdout",
     "output_type": "stream",
     "text": [
      "[ DEBUG ] - Progress: 75.98814229249012%\n"
     ]
    },
    {
     "name": "stderr",
     "output_type": "stream",
     "text": [
      "C:\\Users\\zmorrato\\AppData\\Local\\Temp\\ipykernel_26412\\3563713887.py:21: DeprecationWarning: The 'text' argument to find()-type methods is deprecated. Use 'string' instead.\n",
      "  alma_mater_row = soup.find('th', text=lambda x: x and \"Alma\" in x)\n"
     ]
    },
    {
     "name": "stdout",
     "output_type": "stream",
     "text": [
      "[ DEBUG ] - Progress: 76.08695652173914%\n"
     ]
    },
    {
     "name": "stderr",
     "output_type": "stream",
     "text": [
      "C:\\Users\\zmorrato\\AppData\\Local\\Temp\\ipykernel_26412\\3563713887.py:21: DeprecationWarning: The 'text' argument to find()-type methods is deprecated. Use 'string' instead.\n",
      "  alma_mater_row = soup.find('th', text=lambda x: x and \"Alma\" in x)\n"
     ]
    },
    {
     "name": "stdout",
     "output_type": "stream",
     "text": [
      "[ DEBUG ] - Alma mater row not found for /wiki/Roy_J._Glauber\n",
      "[ DEBUG ] - Progress: 76.18577075098814%\n"
     ]
    },
    {
     "name": "stderr",
     "output_type": "stream",
     "text": [
      "C:\\Users\\zmorrato\\AppData\\Local\\Temp\\ipykernel_26412\\3563713887.py:21: DeprecationWarning: The 'text' argument to find()-type methods is deprecated. Use 'string' instead.\n",
      "  alma_mater_row = soup.find('th', text=lambda x: x and \"Alma\" in x)\n"
     ]
    },
    {
     "name": "stdout",
     "output_type": "stream",
     "text": [
      "[ DEBUG ] - Progress: 76.28458498023716%\n"
     ]
    },
    {
     "name": "stderr",
     "output_type": "stream",
     "text": [
      "C:\\Users\\zmorrato\\AppData\\Local\\Temp\\ipykernel_26412\\3563713887.py:21: DeprecationWarning: The 'text' argument to find()-type methods is deprecated. Use 'string' instead.\n",
      "  alma_mater_row = soup.find('th', text=lambda x: x and \"Alma\" in x)\n"
     ]
    },
    {
     "name": "stdout",
     "output_type": "stream",
     "text": [
      "[ DEBUG ] - Progress: 76.38339920948617%\n"
     ]
    },
    {
     "name": "stderr",
     "output_type": "stream",
     "text": [
      "C:\\Users\\zmorrato\\AppData\\Local\\Temp\\ipykernel_26412\\3563713887.py:21: DeprecationWarning: The 'text' argument to find()-type methods is deprecated. Use 'string' instead.\n",
      "  alma_mater_row = soup.find('th', text=lambda x: x and \"Alma\" in x)\n"
     ]
    },
    {
     "name": "stdout",
     "output_type": "stream",
     "text": [
      "[ DEBUG ] - Alma mater row not found for /wiki/Yves_Chauvin\n",
      "[ DEBUG ] - Progress: 76.48221343873519%\n"
     ]
    },
    {
     "name": "stderr",
     "output_type": "stream",
     "text": [
      "C:\\Users\\zmorrato\\AppData\\Local\\Temp\\ipykernel_26412\\3563713887.py:21: DeprecationWarning: The 'text' argument to find()-type methods is deprecated. Use 'string' instead.\n",
      "  alma_mater_row = soup.find('th', text=lambda x: x and \"Alma\" in x)\n"
     ]
    },
    {
     "name": "stdout",
     "output_type": "stream",
     "text": [
      "[ DEBUG ] - Alma mater row not found for /wiki/Robert_H._Grubbs\n",
      "[ DEBUG ] - Progress: 76.58102766798419%\n"
     ]
    },
    {
     "name": "stderr",
     "output_type": "stream",
     "text": [
      "C:\\Users\\zmorrato\\AppData\\Local\\Temp\\ipykernel_26412\\3563713887.py:21: DeprecationWarning: The 'text' argument to find()-type methods is deprecated. Use 'string' instead.\n",
      "  alma_mater_row = soup.find('th', text=lambda x: x and \"Alma\" in x)\n"
     ]
    },
    {
     "name": "stdout",
     "output_type": "stream",
     "text": [
      "[ DEBUG ] - Progress: 76.6798418972332%\n"
     ]
    },
    {
     "name": "stderr",
     "output_type": "stream",
     "text": [
      "C:\\Users\\zmorrato\\AppData\\Local\\Temp\\ipykernel_26412\\3563713887.py:21: DeprecationWarning: The 'text' argument to find()-type methods is deprecated. Use 'string' instead.\n",
      "  alma_mater_row = soup.find('th', text=lambda x: x and \"Alma\" in x)\n"
     ]
    },
    {
     "name": "stdout",
     "output_type": "stream",
     "text": [
      "[ DEBUG ] - Progress: 76.77865612648222%\n"
     ]
    },
    {
     "name": "stderr",
     "output_type": "stream",
     "text": [
      "C:\\Users\\zmorrato\\AppData\\Local\\Temp\\ipykernel_26412\\3563713887.py:21: DeprecationWarning: The 'text' argument to find()-type methods is deprecated. Use 'string' instead.\n",
      "  alma_mater_row = soup.find('th', text=lambda x: x and \"Alma\" in x)\n"
     ]
    },
    {
     "name": "stdout",
     "output_type": "stream",
     "text": [
      "[ DEBUG ] - Progress: 76.87747035573122%\n"
     ]
    },
    {
     "name": "stderr",
     "output_type": "stream",
     "text": [
      "C:\\Users\\zmorrato\\AppData\\Local\\Temp\\ipykernel_26412\\3563713887.py:21: DeprecationWarning: The 'text' argument to find()-type methods is deprecated. Use 'string' instead.\n",
      "  alma_mater_row = soup.find('th', text=lambda x: x and \"Alma\" in x)\n"
     ]
    },
    {
     "name": "stdout",
     "output_type": "stream",
     "text": [
      "[ DEBUG ] - Progress: 76.97628458498023%\n"
     ]
    },
    {
     "name": "stderr",
     "output_type": "stream",
     "text": [
      "C:\\Users\\zmorrato\\AppData\\Local\\Temp\\ipykernel_26412\\3563713887.py:21: DeprecationWarning: The 'text' argument to find()-type methods is deprecated. Use 'string' instead.\n",
      "  alma_mater_row = soup.find('th', text=lambda x: x and \"Alma\" in x)\n"
     ]
    },
    {
     "name": "stdout",
     "output_type": "stream",
     "text": [
      "[ DEBUG ] - Alma mater row not found for /wiki/International_Atomic_Energy_Agency\n",
      "[ DEBUG ] - Progress: 77.07509881422925%\n"
     ]
    },
    {
     "name": "stderr",
     "output_type": "stream",
     "text": [
      "C:\\Users\\zmorrato\\AppData\\Local\\Temp\\ipykernel_26412\\3563713887.py:21: DeprecationWarning: The 'text' argument to find()-type methods is deprecated. Use 'string' instead.\n",
      "  alma_mater_row = soup.find('th', text=lambda x: x and \"Alma\" in x)\n"
     ]
    },
    {
     "name": "stdout",
     "output_type": "stream",
     "text": [
      "[ DEBUG ] - Progress: 77.17391304347827%\n"
     ]
    },
    {
     "name": "stderr",
     "output_type": "stream",
     "text": [
      "C:\\Users\\zmorrato\\AppData\\Local\\Temp\\ipykernel_26412\\3563713887.py:21: DeprecationWarning: The 'text' argument to find()-type methods is deprecated. Use 'string' instead.\n",
      "  alma_mater_row = soup.find('th', text=lambda x: x and \"Alma\" in x)\n"
     ]
    },
    {
     "name": "stdout",
     "output_type": "stream",
     "text": [
      "[ DEBUG ] - Alma mater row not found for /wiki/Robert_Aumann\n",
      "[ DEBUG ] - Progress: 77.27272727272727%\n"
     ]
    },
    {
     "name": "stderr",
     "output_type": "stream",
     "text": [
      "C:\\Users\\zmorrato\\AppData\\Local\\Temp\\ipykernel_26412\\3563713887.py:21: DeprecationWarning: The 'text' argument to find()-type methods is deprecated. Use 'string' instead.\n",
      "  alma_mater_row = soup.find('th', text=lambda x: x and \"Alma\" in x)\n"
     ]
    },
    {
     "name": "stdout",
     "output_type": "stream",
     "text": [
      "[ DEBUG ] - Progress: 77.37154150197628%\n"
     ]
    },
    {
     "name": "stderr",
     "output_type": "stream",
     "text": [
      "C:\\Users\\zmorrato\\AppData\\Local\\Temp\\ipykernel_26412\\3563713887.py:21: DeprecationWarning: The 'text' argument to find()-type methods is deprecated. Use 'string' instead.\n",
      "  alma_mater_row = soup.find('th', text=lambda x: x and \"Alma\" in x)\n"
     ]
    },
    {
     "name": "stdout",
     "output_type": "stream",
     "text": [
      "[ DEBUG ] - Progress: 77.4703557312253%\n"
     ]
    },
    {
     "name": "stderr",
     "output_type": "stream",
     "text": [
      "C:\\Users\\zmorrato\\AppData\\Local\\Temp\\ipykernel_26412\\3563713887.py:21: DeprecationWarning: The 'text' argument to find()-type methods is deprecated. Use 'string' instead.\n",
      "  alma_mater_row = soup.find('th', text=lambda x: x and \"Alma\" in x)\n"
     ]
    },
    {
     "name": "stdout",
     "output_type": "stream",
     "text": [
      "[ DEBUG ] - Progress: 77.5691699604743%\n"
     ]
    },
    {
     "name": "stderr",
     "output_type": "stream",
     "text": [
      "C:\\Users\\zmorrato\\AppData\\Local\\Temp\\ipykernel_26412\\3563713887.py:21: DeprecationWarning: The 'text' argument to find()-type methods is deprecated. Use 'string' instead.\n",
      "  alma_mater_row = soup.find('th', text=lambda x: x and \"Alma\" in x)\n"
     ]
    },
    {
     "name": "stdout",
     "output_type": "stream",
     "text": [
      "[ DEBUG ] - Progress: 77.66798418972331%\n"
     ]
    },
    {
     "name": "stderr",
     "output_type": "stream",
     "text": [
      "C:\\Users\\zmorrato\\AppData\\Local\\Temp\\ipykernel_26412\\3563713887.py:21: DeprecationWarning: The 'text' argument to find()-type methods is deprecated. Use 'string' instead.\n",
      "  alma_mater_row = soup.find('th', text=lambda x: x and \"Alma\" in x)\n"
     ]
    },
    {
     "name": "stdout",
     "output_type": "stream",
     "text": [
      "[ DEBUG ] - Progress: 77.76679841897233%\n"
     ]
    },
    {
     "name": "stderr",
     "output_type": "stream",
     "text": [
      "C:\\Users\\zmorrato\\AppData\\Local\\Temp\\ipykernel_26412\\3563713887.py:21: DeprecationWarning: The 'text' argument to find()-type methods is deprecated. Use 'string' instead.\n",
      "  alma_mater_row = soup.find('th', text=lambda x: x and \"Alma\" in x)\n"
     ]
    },
    {
     "name": "stdout",
     "output_type": "stream",
     "text": [
      "[ DEBUG ] - Progress: 77.86561264822134%\n"
     ]
    },
    {
     "name": "stderr",
     "output_type": "stream",
     "text": [
      "C:\\Users\\zmorrato\\AppData\\Local\\Temp\\ipykernel_26412\\3563713887.py:21: DeprecationWarning: The 'text' argument to find()-type methods is deprecated. Use 'string' instead.\n",
      "  alma_mater_row = soup.find('th', text=lambda x: x and \"Alma\" in x)\n"
     ]
    },
    {
     "name": "stdout",
     "output_type": "stream",
     "text": [
      "[ DEBUG ] - Progress: 77.96442687747036%\n"
     ]
    },
    {
     "name": "stderr",
     "output_type": "stream",
     "text": [
      "C:\\Users\\zmorrato\\AppData\\Local\\Temp\\ipykernel_26412\\3563713887.py:21: DeprecationWarning: The 'text' argument to find()-type methods is deprecated. Use 'string' instead.\n",
      "  alma_mater_row = soup.find('th', text=lambda x: x and \"Alma\" in x)\n"
     ]
    },
    {
     "name": "stdout",
     "output_type": "stream",
     "text": [
      "[ DEBUG ] - Alma mater row not found for /wiki/Muhammad_Yunus\n",
      "[ DEBUG ] - Progress: 78.06324110671937%\n"
     ]
    },
    {
     "name": "stderr",
     "output_type": "stream",
     "text": [
      "C:\\Users\\zmorrato\\AppData\\Local\\Temp\\ipykernel_26412\\3563713887.py:21: DeprecationWarning: The 'text' argument to find()-type methods is deprecated. Use 'string' instead.\n",
      "  alma_mater_row = soup.find('th', text=lambda x: x and \"Alma\" in x)\n"
     ]
    },
    {
     "name": "stdout",
     "output_type": "stream",
     "text": [
      "[ DEBUG ] - Alma mater row not found for /wiki/Grameen_Bank\n",
      "[ DEBUG ] - Progress: 78.16205533596839%\n"
     ]
    },
    {
     "name": "stderr",
     "output_type": "stream",
     "text": [
      "C:\\Users\\zmorrato\\AppData\\Local\\Temp\\ipykernel_26412\\3563713887.py:21: DeprecationWarning: The 'text' argument to find()-type methods is deprecated. Use 'string' instead.\n",
      "  alma_mater_row = soup.find('th', text=lambda x: x and \"Alma\" in x)\n"
     ]
    },
    {
     "name": "stdout",
     "output_type": "stream",
     "text": [
      "[ DEBUG ] - Alma mater row not found for /wiki/Edmund_Phelps\n",
      "[ DEBUG ] - Progress: 78.26086956521739%\n"
     ]
    },
    {
     "name": "stderr",
     "output_type": "stream",
     "text": [
      "C:\\Users\\zmorrato\\AppData\\Local\\Temp\\ipykernel_26412\\3563713887.py:21: DeprecationWarning: The 'text' argument to find()-type methods is deprecated. Use 'string' instead.\n",
      "  alma_mater_row = soup.find('th', text=lambda x: x and \"Alma\" in x)\n"
     ]
    },
    {
     "name": "stdout",
     "output_type": "stream",
     "text": [
      "[ DEBUG ] - Progress: 78.3596837944664%\n"
     ]
    },
    {
     "name": "stderr",
     "output_type": "stream",
     "text": [
      "C:\\Users\\zmorrato\\AppData\\Local\\Temp\\ipykernel_26412\\3563713887.py:21: DeprecationWarning: The 'text' argument to find()-type methods is deprecated. Use 'string' instead.\n",
      "  alma_mater_row = soup.find('th', text=lambda x: x and \"Alma\" in x)\n"
     ]
    },
    {
     "name": "stdout",
     "output_type": "stream",
     "text": [
      "[ DEBUG ] - Progress: 78.45849802371542%\n"
     ]
    },
    {
     "name": "stderr",
     "output_type": "stream",
     "text": [
      "C:\\Users\\zmorrato\\AppData\\Local\\Temp\\ipykernel_26412\\3563713887.py:21: DeprecationWarning: The 'text' argument to find()-type methods is deprecated. Use 'string' instead.\n",
      "  alma_mater_row = soup.find('th', text=lambda x: x and \"Alma\" in x)\n"
     ]
    },
    {
     "name": "stdout",
     "output_type": "stream",
     "text": [
      "[ DEBUG ] - Progress: 78.55731225296442%\n"
     ]
    },
    {
     "name": "stderr",
     "output_type": "stream",
     "text": [
      "C:\\Users\\zmorrato\\AppData\\Local\\Temp\\ipykernel_26412\\3563713887.py:21: DeprecationWarning: The 'text' argument to find()-type methods is deprecated. Use 'string' instead.\n",
      "  alma_mater_row = soup.find('th', text=lambda x: x and \"Alma\" in x)\n"
     ]
    },
    {
     "name": "stdout",
     "output_type": "stream",
     "text": [
      "[ DEBUG ] - Progress: 78.65612648221344%\n"
     ]
    },
    {
     "name": "stderr",
     "output_type": "stream",
     "text": [
      "C:\\Users\\zmorrato\\AppData\\Local\\Temp\\ipykernel_26412\\3563713887.py:21: DeprecationWarning: The 'text' argument to find()-type methods is deprecated. Use 'string' instead.\n",
      "  alma_mater_row = soup.find('th', text=lambda x: x and \"Alma\" in x)\n"
     ]
    },
    {
     "name": "stdout",
     "output_type": "stream",
     "text": [
      "[ DEBUG ] - Alma mater row not found for /wiki/Martin_Evans\n",
      "[ DEBUG ] - Progress: 78.75494071146245%\n"
     ]
    },
    {
     "name": "stderr",
     "output_type": "stream",
     "text": [
      "C:\\Users\\zmorrato\\AppData\\Local\\Temp\\ipykernel_26412\\3563713887.py:21: DeprecationWarning: The 'text' argument to find()-type methods is deprecated. Use 'string' instead.\n",
      "  alma_mater_row = soup.find('th', text=lambda x: x and \"Alma\" in x)\n"
     ]
    },
    {
     "name": "stdout",
     "output_type": "stream",
     "text": [
      "[ DEBUG ] - Progress: 78.85375494071147%\n"
     ]
    },
    {
     "name": "stderr",
     "output_type": "stream",
     "text": [
      "C:\\Users\\zmorrato\\AppData\\Local\\Temp\\ipykernel_26412\\3563713887.py:21: DeprecationWarning: The 'text' argument to find()-type methods is deprecated. Use 'string' instead.\n",
      "  alma_mater_row = soup.find('th', text=lambda x: x and \"Alma\" in x)\n"
     ]
    },
    {
     "name": "stdout",
     "output_type": "stream",
     "text": [
      "[ DEBUG ] - Alma mater row not found for /wiki/Doris_Lessing\n",
      "[ DEBUG ] - Progress: 78.95256916996047%\n"
     ]
    },
    {
     "name": "stderr",
     "output_type": "stream",
     "text": [
      "C:\\Users\\zmorrato\\AppData\\Local\\Temp\\ipykernel_26412\\3563713887.py:21: DeprecationWarning: The 'text' argument to find()-type methods is deprecated. Use 'string' instead.\n",
      "  alma_mater_row = soup.find('th', text=lambda x: x and \"Alma\" in x)\n"
     ]
    },
    {
     "name": "stdout",
     "output_type": "stream",
     "text": [
      "[ DEBUG ] - Alma mater row not found for /wiki/Intergovernmental_Panel_on_Climate_Change\n",
      "[ DEBUG ] - Progress: 79.05138339920948%\n"
     ]
    },
    {
     "name": "stderr",
     "output_type": "stream",
     "text": [
      "C:\\Users\\zmorrato\\AppData\\Local\\Temp\\ipykernel_26412\\3563713887.py:21: DeprecationWarning: The 'text' argument to find()-type methods is deprecated. Use 'string' instead.\n",
      "  alma_mater_row = soup.find('th', text=lambda x: x and \"Alma\" in x)\n"
     ]
    },
    {
     "name": "stdout",
     "output_type": "stream",
     "text": [
      "[ DEBUG ] - Alma mater row not found for /wiki/Al_Gore\n",
      "[ DEBUG ] - Progress: 79.1501976284585%\n"
     ]
    },
    {
     "name": "stderr",
     "output_type": "stream",
     "text": [
      "C:\\Users\\zmorrato\\AppData\\Local\\Temp\\ipykernel_26412\\3563713887.py:21: DeprecationWarning: The 'text' argument to find()-type methods is deprecated. Use 'string' instead.\n",
      "  alma_mater_row = soup.find('th', text=lambda x: x and \"Alma\" in x)\n"
     ]
    },
    {
     "name": "stdout",
     "output_type": "stream",
     "text": [
      "[ DEBUG ] - Progress: 79.2490118577075%\n"
     ]
    },
    {
     "name": "stderr",
     "output_type": "stream",
     "text": [
      "C:\\Users\\zmorrato\\AppData\\Local\\Temp\\ipykernel_26412\\3563713887.py:21: DeprecationWarning: The 'text' argument to find()-type methods is deprecated. Use 'string' instead.\n",
      "  alma_mater_row = soup.find('th', text=lambda x: x and \"Alma\" in x)\n"
     ]
    },
    {
     "name": "stdout",
     "output_type": "stream",
     "text": [
      "[ DEBUG ] - Alma mater row not found for /wiki/Eric_Maskin\n",
      "[ DEBUG ] - Progress: 79.34782608695652%\n"
     ]
    },
    {
     "name": "stderr",
     "output_type": "stream",
     "text": [
      "C:\\Users\\zmorrato\\AppData\\Local\\Temp\\ipykernel_26412\\3563713887.py:21: DeprecationWarning: The 'text' argument to find()-type methods is deprecated. Use 'string' instead.\n",
      "  alma_mater_row = soup.find('th', text=lambda x: x and \"Alma\" in x)\n"
     ]
    },
    {
     "name": "stdout",
     "output_type": "stream",
     "text": [
      "[ DEBUG ] - Progress: 79.44664031620553%\n"
     ]
    },
    {
     "name": "stderr",
     "output_type": "stream",
     "text": [
      "C:\\Users\\zmorrato\\AppData\\Local\\Temp\\ipykernel_26412\\3563713887.py:21: DeprecationWarning: The 'text' argument to find()-type methods is deprecated. Use 'string' instead.\n",
      "  alma_mater_row = soup.find('th', text=lambda x: x and \"Alma\" in x)\n"
     ]
    },
    {
     "name": "stdout",
     "output_type": "stream",
     "text": [
      "[ DEBUG ] - Progress: 79.54545454545455%\n"
     ]
    },
    {
     "name": "stderr",
     "output_type": "stream",
     "text": [
      "C:\\Users\\zmorrato\\AppData\\Local\\Temp\\ipykernel_26412\\3563713887.py:21: DeprecationWarning: The 'text' argument to find()-type methods is deprecated. Use 'string' instead.\n",
      "  alma_mater_row = soup.find('th', text=lambda x: x and \"Alma\" in x)\n"
     ]
    },
    {
     "name": "stdout",
     "output_type": "stream",
     "text": [
      "[ DEBUG ] - Progress: 79.64426877470355%\n"
     ]
    },
    {
     "name": "stderr",
     "output_type": "stream",
     "text": [
      "C:\\Users\\zmorrato\\AppData\\Local\\Temp\\ipykernel_26412\\3563713887.py:21: DeprecationWarning: The 'text' argument to find()-type methods is deprecated. Use 'string' instead.\n",
      "  alma_mater_row = soup.find('th', text=lambda x: x and \"Alma\" in x)\n"
     ]
    },
    {
     "name": "stdout",
     "output_type": "stream",
     "text": [
      "[ DEBUG ] - Progress: 79.74308300395256%\n"
     ]
    },
    {
     "name": "stderr",
     "output_type": "stream",
     "text": [
      "C:\\Users\\zmorrato\\AppData\\Local\\Temp\\ipykernel_26412\\3563713887.py:21: DeprecationWarning: The 'text' argument to find()-type methods is deprecated. Use 'string' instead.\n",
      "  alma_mater_row = soup.find('th', text=lambda x: x and \"Alma\" in x)\n"
     ]
    },
    {
     "name": "stdout",
     "output_type": "stream",
     "text": [
      "[ DEBUG ] - Progress: 79.84189723320159%\n"
     ]
    },
    {
     "name": "stderr",
     "output_type": "stream",
     "text": [
      "C:\\Users\\zmorrato\\AppData\\Local\\Temp\\ipykernel_26412\\3563713887.py:21: DeprecationWarning: The 'text' argument to find()-type methods is deprecated. Use 'string' instead.\n",
      "  alma_mater_row = soup.find('th', text=lambda x: x and \"Alma\" in x)\n"
     ]
    },
    {
     "name": "stdout",
     "output_type": "stream",
     "text": [
      "[ DEBUG ] - Alma mater row not found for /wiki/Martin_Chalfie\n",
      "[ DEBUG ] - Progress: 79.9407114624506%\n"
     ]
    },
    {
     "name": "stderr",
     "output_type": "stream",
     "text": [
      "C:\\Users\\zmorrato\\AppData\\Local\\Temp\\ipykernel_26412\\3563713887.py:21: DeprecationWarning: The 'text' argument to find()-type methods is deprecated. Use 'string' instead.\n",
      "  alma_mater_row = soup.find('th', text=lambda x: x and \"Alma\" in x)\n"
     ]
    },
    {
     "name": "stdout",
     "output_type": "stream",
     "text": [
      "[ DEBUG ] - Alma mater row not found for /wiki/Roger_Y._Tsien\n",
      "[ DEBUG ] - Progress: 80.03952569169961%\n"
     ]
    },
    {
     "name": "stderr",
     "output_type": "stream",
     "text": [
      "C:\\Users\\zmorrato\\AppData\\Local\\Temp\\ipykernel_26412\\3563713887.py:21: DeprecationWarning: The 'text' argument to find()-type methods is deprecated. Use 'string' instead.\n",
      "  alma_mater_row = soup.find('th', text=lambda x: x and \"Alma\" in x)\n"
     ]
    },
    {
     "name": "stdout",
     "output_type": "stream",
     "text": [
      "[ DEBUG ] - Alma mater row not found for /wiki/Harald_zur_Hausen\n",
      "[ DEBUG ] - Progress: 80.13833992094862%\n"
     ]
    },
    {
     "name": "stderr",
     "output_type": "stream",
     "text": [
      "C:\\Users\\zmorrato\\AppData\\Local\\Temp\\ipykernel_26412\\3563713887.py:21: DeprecationWarning: The 'text' argument to find()-type methods is deprecated. Use 'string' instead.\n",
      "  alma_mater_row = soup.find('th', text=lambda x: x and \"Alma\" in x)\n"
     ]
    },
    {
     "name": "stdout",
     "output_type": "stream",
     "text": [
      "[ DEBUG ] - Progress: 80.23715415019763%\n"
     ]
    },
    {
     "name": "stderr",
     "output_type": "stream",
     "text": [
      "C:\\Users\\zmorrato\\AppData\\Local\\Temp\\ipykernel_26412\\3563713887.py:21: DeprecationWarning: The 'text' argument to find()-type methods is deprecated. Use 'string' instead.\n",
      "  alma_mater_row = soup.find('th', text=lambda x: x and \"Alma\" in x)\n"
     ]
    },
    {
     "name": "stdout",
     "output_type": "stream",
     "text": [
      "[ DEBUG ] - Progress: 80.33596837944664%\n"
     ]
    },
    {
     "name": "stderr",
     "output_type": "stream",
     "text": [
      "C:\\Users\\zmorrato\\AppData\\Local\\Temp\\ipykernel_26412\\3563713887.py:21: DeprecationWarning: The 'text' argument to find()-type methods is deprecated. Use 'string' instead.\n",
      "  alma_mater_row = soup.find('th', text=lambda x: x and \"Alma\" in x)\n"
     ]
    },
    {
     "name": "stdout",
     "output_type": "stream",
     "text": [
      "[ DEBUG ] - Alma mater row not found for /wiki/J._M._G._Le_Cl%C3%A9zio\n",
      "[ DEBUG ] - Progress: 80.43478260869566%\n"
     ]
    },
    {
     "name": "stderr",
     "output_type": "stream",
     "text": [
      "C:\\Users\\zmorrato\\AppData\\Local\\Temp\\ipykernel_26412\\3563713887.py:21: DeprecationWarning: The 'text' argument to find()-type methods is deprecated. Use 'string' instead.\n",
      "  alma_mater_row = soup.find('th', text=lambda x: x and \"Alma\" in x)\n"
     ]
    },
    {
     "name": "stdout",
     "output_type": "stream",
     "text": [
      "[ DEBUG ] - Progress: 80.53359683794467%\n"
     ]
    },
    {
     "name": "stderr",
     "output_type": "stream",
     "text": [
      "C:\\Users\\zmorrato\\AppData\\Local\\Temp\\ipykernel_26412\\3563713887.py:21: DeprecationWarning: The 'text' argument to find()-type methods is deprecated. Use 'string' instead.\n",
      "  alma_mater_row = soup.find('th', text=lambda x: x and \"Alma\" in x)\n"
     ]
    },
    {
     "name": "stdout",
     "output_type": "stream",
     "text": [
      "[ DEBUG ] - Alma mater row not found for /wiki/Paul_Krugman\n",
      "[ DEBUG ] - Progress: 80.63241106719367%\n"
     ]
    },
    {
     "name": "stderr",
     "output_type": "stream",
     "text": [
      "C:\\Users\\zmorrato\\AppData\\Local\\Temp\\ipykernel_26412\\3563713887.py:21: DeprecationWarning: The 'text' argument to find()-type methods is deprecated. Use 'string' instead.\n",
      "  alma_mater_row = soup.find('th', text=lambda x: x and \"Alma\" in x)\n"
     ]
    },
    {
     "name": "stdout",
     "output_type": "stream",
     "text": [
      "[ DEBUG ] - Progress: 80.73122529644269%\n"
     ]
    },
    {
     "name": "stderr",
     "output_type": "stream",
     "text": [
      "C:\\Users\\zmorrato\\AppData\\Local\\Temp\\ipykernel_26412\\3563713887.py:21: DeprecationWarning: The 'text' argument to find()-type methods is deprecated. Use 'string' instead.\n",
      "  alma_mater_row = soup.find('th', text=lambda x: x and \"Alma\" in x)\n"
     ]
    },
    {
     "name": "stdout",
     "output_type": "stream",
     "text": [
      "[ DEBUG ] - Progress: 80.8300395256917%\n"
     ]
    },
    {
     "name": "stderr",
     "output_type": "stream",
     "text": [
      "C:\\Users\\zmorrato\\AppData\\Local\\Temp\\ipykernel_26412\\3563713887.py:21: DeprecationWarning: The 'text' argument to find()-type methods is deprecated. Use 'string' instead.\n",
      "  alma_mater_row = soup.find('th', text=lambda x: x and \"Alma\" in x)\n"
     ]
    },
    {
     "name": "stdout",
     "output_type": "stream",
     "text": [
      "[ DEBUG ] - Progress: 80.9288537549407%\n"
     ]
    },
    {
     "name": "stderr",
     "output_type": "stream",
     "text": [
      "C:\\Users\\zmorrato\\AppData\\Local\\Temp\\ipykernel_26412\\3563713887.py:21: DeprecationWarning: The 'text' argument to find()-type methods is deprecated. Use 'string' instead.\n",
      "  alma_mater_row = soup.find('th', text=lambda x: x and \"Alma\" in x)\n"
     ]
    },
    {
     "name": "stdout",
     "output_type": "stream",
     "text": [
      "[ DEBUG ] - Progress: 81.02766798418972%\n"
     ]
    },
    {
     "name": "stderr",
     "output_type": "stream",
     "text": [
      "C:\\Users\\zmorrato\\AppData\\Local\\Temp\\ipykernel_26412\\3563713887.py:21: DeprecationWarning: The 'text' argument to find()-type methods is deprecated. Use 'string' instead.\n",
      "  alma_mater_row = soup.find('th', text=lambda x: x and \"Alma\" in x)\n"
     ]
    },
    {
     "name": "stdout",
     "output_type": "stream",
     "text": [
      "[ DEBUG ] - Progress: 81.12648221343873%\n"
     ]
    },
    {
     "name": "stderr",
     "output_type": "stream",
     "text": [
      "C:\\Users\\zmorrato\\AppData\\Local\\Temp\\ipykernel_26412\\3563713887.py:21: DeprecationWarning: The 'text' argument to find()-type methods is deprecated. Use 'string' instead.\n",
      "  alma_mater_row = soup.find('th', text=lambda x: x and \"Alma\" in x)\n"
     ]
    },
    {
     "name": "stdout",
     "output_type": "stream",
     "text": [
      "[ DEBUG ] - Progress: 81.22529644268775%\n"
     ]
    },
    {
     "name": "stderr",
     "output_type": "stream",
     "text": [
      "C:\\Users\\zmorrato\\AppData\\Local\\Temp\\ipykernel_26412\\3563713887.py:21: DeprecationWarning: The 'text' argument to find()-type methods is deprecated. Use 'string' instead.\n",
      "  alma_mater_row = soup.find('th', text=lambda x: x and \"Alma\" in x)\n"
     ]
    },
    {
     "name": "stdout",
     "output_type": "stream",
     "text": [
      "[ DEBUG ] - Progress: 81.32411067193675%\n"
     ]
    },
    {
     "name": "stderr",
     "output_type": "stream",
     "text": [
      "C:\\Users\\zmorrato\\AppData\\Local\\Temp\\ipykernel_26412\\3563713887.py:21: DeprecationWarning: The 'text' argument to find()-type methods is deprecated. Use 'string' instead.\n",
      "  alma_mater_row = soup.find('th', text=lambda x: x and \"Alma\" in x)\n"
     ]
    },
    {
     "name": "stdout",
     "output_type": "stream",
     "text": [
      "[ DEBUG ] - Alma mater row not found for /wiki/Carol_W._Greider\n",
      "[ DEBUG ] - Progress: 81.42292490118577%\n"
     ]
    },
    {
     "name": "stderr",
     "output_type": "stream",
     "text": [
      "C:\\Users\\zmorrato\\AppData\\Local\\Temp\\ipykernel_26412\\3563713887.py:21: DeprecationWarning: The 'text' argument to find()-type methods is deprecated. Use 'string' instead.\n",
      "  alma_mater_row = soup.find('th', text=lambda x: x and \"Alma\" in x)\n"
     ]
    },
    {
     "name": "stdout",
     "output_type": "stream",
     "text": [
      "[ DEBUG ] - Progress: 81.52173913043478%\n"
     ]
    },
    {
     "name": "stderr",
     "output_type": "stream",
     "text": [
      "C:\\Users\\zmorrato\\AppData\\Local\\Temp\\ipykernel_26412\\3563713887.py:21: DeprecationWarning: The 'text' argument to find()-type methods is deprecated. Use 'string' instead.\n",
      "  alma_mater_row = soup.find('th', text=lambda x: x and \"Alma\" in x)\n"
     ]
    },
    {
     "name": "stdout",
     "output_type": "stream",
     "text": [
      "[ DEBUG ] - Progress: 81.62055335968378%\n"
     ]
    },
    {
     "name": "stderr",
     "output_type": "stream",
     "text": [
      "C:\\Users\\zmorrato\\AppData\\Local\\Temp\\ipykernel_26412\\3563713887.py:21: DeprecationWarning: The 'text' argument to find()-type methods is deprecated. Use 'string' instead.\n",
      "  alma_mater_row = soup.find('th', text=lambda x: x and \"Alma\" in x)\n"
     ]
    },
    {
     "name": "stdout",
     "output_type": "stream",
     "text": [
      "[ DEBUG ] - Alma mater row not found for /wiki/Barack_Obama\n",
      "[ DEBUG ] - Progress: 81.7193675889328%\n"
     ]
    },
    {
     "name": "stderr",
     "output_type": "stream",
     "text": [
      "C:\\Users\\zmorrato\\AppData\\Local\\Temp\\ipykernel_26412\\3563713887.py:21: DeprecationWarning: The 'text' argument to find()-type methods is deprecated. Use 'string' instead.\n",
      "  alma_mater_row = soup.find('th', text=lambda x: x and \"Alma\" in x)\n"
     ]
    },
    {
     "name": "stdout",
     "output_type": "stream",
     "text": [
      "[ DEBUG ] - Alma mater row not found for /wiki/Elinor_Ostrom\n",
      "[ DEBUG ] - Progress: 81.81818181818183%\n"
     ]
    },
    {
     "name": "stderr",
     "output_type": "stream",
     "text": [
      "C:\\Users\\zmorrato\\AppData\\Local\\Temp\\ipykernel_26412\\3563713887.py:21: DeprecationWarning: The 'text' argument to find()-type methods is deprecated. Use 'string' instead.\n",
      "  alma_mater_row = soup.find('th', text=lambda x: x and \"Alma\" in x)\n"
     ]
    },
    {
     "name": "stdout",
     "output_type": "stream",
     "text": [
      "[ DEBUG ] - Alma mater row not found for /wiki/Oliver_E._Williamson\n",
      "[ DEBUG ] - Progress: 81.91699604743083%\n"
     ]
    },
    {
     "name": "stderr",
     "output_type": "stream",
     "text": [
      "C:\\Users\\zmorrato\\AppData\\Local\\Temp\\ipykernel_26412\\3563713887.py:21: DeprecationWarning: The 'text' argument to find()-type methods is deprecated. Use 'string' instead.\n",
      "  alma_mater_row = soup.find('th', text=lambda x: x and \"Alma\" in x)\n"
     ]
    },
    {
     "name": "stdout",
     "output_type": "stream",
     "text": [
      "[ DEBUG ] - Progress: 82.01581027667984%\n"
     ]
    },
    {
     "name": "stderr",
     "output_type": "stream",
     "text": [
      "C:\\Users\\zmorrato\\AppData\\Local\\Temp\\ipykernel_26412\\3563713887.py:21: DeprecationWarning: The 'text' argument to find()-type methods is deprecated. Use 'string' instead.\n",
      "  alma_mater_row = soup.find('th', text=lambda x: x and \"Alma\" in x)\n"
     ]
    },
    {
     "name": "stdout",
     "output_type": "stream",
     "text": [
      "[ DEBUG ] - Progress: 82.11462450592886%\n"
     ]
    },
    {
     "name": "stderr",
     "output_type": "stream",
     "text": [
      "C:\\Users\\zmorrato\\AppData\\Local\\Temp\\ipykernel_26412\\3563713887.py:21: DeprecationWarning: The 'text' argument to find()-type methods is deprecated. Use 'string' instead.\n",
      "  alma_mater_row = soup.find('th', text=lambda x: x and \"Alma\" in x)\n"
     ]
    },
    {
     "name": "stdout",
     "output_type": "stream",
     "text": [
      "[ DEBUG ] - Progress: 82.21343873517787%\n"
     ]
    },
    {
     "name": "stderr",
     "output_type": "stream",
     "text": [
      "C:\\Users\\zmorrato\\AppData\\Local\\Temp\\ipykernel_26412\\3563713887.py:21: DeprecationWarning: The 'text' argument to find()-type methods is deprecated. Use 'string' instead.\n",
      "  alma_mater_row = soup.find('th', text=lambda x: x and \"Alma\" in x)\n"
     ]
    },
    {
     "name": "stdout",
     "output_type": "stream",
     "text": [
      "[ DEBUG ] - Progress: 82.31225296442688%\n"
     ]
    },
    {
     "name": "stderr",
     "output_type": "stream",
     "text": [
      "C:\\Users\\zmorrato\\AppData\\Local\\Temp\\ipykernel_26412\\3563713887.py:21: DeprecationWarning: The 'text' argument to find()-type methods is deprecated. Use 'string' instead.\n",
      "  alma_mater_row = soup.find('th', text=lambda x: x and \"Alma\" in x)\n"
     ]
    },
    {
     "name": "stdout",
     "output_type": "stream",
     "text": [
      "[ DEBUG ] - Progress: 82.41106719367589%\n"
     ]
    },
    {
     "name": "stderr",
     "output_type": "stream",
     "text": [
      "C:\\Users\\zmorrato\\AppData\\Local\\Temp\\ipykernel_26412\\3563713887.py:21: DeprecationWarning: The 'text' argument to find()-type methods is deprecated. Use 'string' instead.\n",
      "  alma_mater_row = soup.find('th', text=lambda x: x and \"Alma\" in x)\n"
     ]
    },
    {
     "name": "stdout",
     "output_type": "stream",
     "text": [
      "[ DEBUG ] - Progress: 82.5098814229249%\n"
     ]
    },
    {
     "name": "stderr",
     "output_type": "stream",
     "text": [
      "C:\\Users\\zmorrato\\AppData\\Local\\Temp\\ipykernel_26412\\3563713887.py:21: DeprecationWarning: The 'text' argument to find()-type methods is deprecated. Use 'string' instead.\n",
      "  alma_mater_row = soup.find('th', text=lambda x: x and \"Alma\" in x)\n"
     ]
    },
    {
     "name": "stdout",
     "output_type": "stream",
     "text": [
      "[ DEBUG ] - Progress: 82.6086956521739%\n"
     ]
    },
    {
     "name": "stderr",
     "output_type": "stream",
     "text": [
      "C:\\Users\\zmorrato\\AppData\\Local\\Temp\\ipykernel_26412\\3563713887.py:21: DeprecationWarning: The 'text' argument to find()-type methods is deprecated. Use 'string' instead.\n",
      "  alma_mater_row = soup.find('th', text=lambda x: x and \"Alma\" in x)\n"
     ]
    },
    {
     "name": "stdout",
     "output_type": "stream",
     "text": [
      "[ DEBUG ] - Progress: 82.70750988142292%\n"
     ]
    },
    {
     "name": "stderr",
     "output_type": "stream",
     "text": [
      "C:\\Users\\zmorrato\\AppData\\Local\\Temp\\ipykernel_26412\\3563713887.py:21: DeprecationWarning: The 'text' argument to find()-type methods is deprecated. Use 'string' instead.\n",
      "  alma_mater_row = soup.find('th', text=lambda x: x and \"Alma\" in x)\n"
     ]
    },
    {
     "name": "stdout",
     "output_type": "stream",
     "text": [
      "[ DEBUG ] - Alma mater row not found for /wiki/Peter_Diamond\n",
      "[ DEBUG ] - Progress: 82.80632411067194%\n"
     ]
    },
    {
     "name": "stderr",
     "output_type": "stream",
     "text": [
      "C:\\Users\\zmorrato\\AppData\\Local\\Temp\\ipykernel_26412\\3563713887.py:21: DeprecationWarning: The 'text' argument to find()-type methods is deprecated. Use 'string' instead.\n",
      "  alma_mater_row = soup.find('th', text=lambda x: x and \"Alma\" in x)\n"
     ]
    },
    {
     "name": "stdout",
     "output_type": "stream",
     "text": [
      "[ DEBUG ] - Progress: 82.90513833992095%\n"
     ]
    },
    {
     "name": "stderr",
     "output_type": "stream",
     "text": [
      "C:\\Users\\zmorrato\\AppData\\Local\\Temp\\ipykernel_26412\\3563713887.py:21: DeprecationWarning: The 'text' argument to find()-type methods is deprecated. Use 'string' instead.\n",
      "  alma_mater_row = soup.find('th', text=lambda x: x and \"Alma\" in x)\n"
     ]
    },
    {
     "name": "stdout",
     "output_type": "stream",
     "text": [
      "[ DEBUG ] - Progress: 83.00395256916995%\n"
     ]
    },
    {
     "name": "stderr",
     "output_type": "stream",
     "text": [
      "C:\\Users\\zmorrato\\AppData\\Local\\Temp\\ipykernel_26412\\3563713887.py:21: DeprecationWarning: The 'text' argument to find()-type methods is deprecated. Use 'string' instead.\n",
      "  alma_mater_row = soup.find('th', text=lambda x: x and \"Alma\" in x)\n"
     ]
    },
    {
     "name": "stdout",
     "output_type": "stream",
     "text": [
      "[ DEBUG ] - Alma mater row not found for /wiki/Saul_Perlmutter\n",
      "[ DEBUG ] - Progress: 83.10276679841897%\n"
     ]
    },
    {
     "name": "stderr",
     "output_type": "stream",
     "text": [
      "C:\\Users\\zmorrato\\AppData\\Local\\Temp\\ipykernel_26412\\3563713887.py:21: DeprecationWarning: The 'text' argument to find()-type methods is deprecated. Use 'string' instead.\n",
      "  alma_mater_row = soup.find('th', text=lambda x: x and \"Alma\" in x)\n"
     ]
    },
    {
     "name": "stdout",
     "output_type": "stream",
     "text": [
      "[ DEBUG ] - Progress: 83.20158102766798%\n"
     ]
    },
    {
     "name": "stderr",
     "output_type": "stream",
     "text": [
      "C:\\Users\\zmorrato\\AppData\\Local\\Temp\\ipykernel_26412\\3563713887.py:21: DeprecationWarning: The 'text' argument to find()-type methods is deprecated. Use 'string' instead.\n",
      "  alma_mater_row = soup.find('th', text=lambda x: x and \"Alma\" in x)\n"
     ]
    },
    {
     "name": "stdout",
     "output_type": "stream",
     "text": [
      "[ DEBUG ] - Progress: 83.300395256917%\n"
     ]
    },
    {
     "name": "stderr",
     "output_type": "stream",
     "text": [
      "C:\\Users\\zmorrato\\AppData\\Local\\Temp\\ipykernel_26412\\3563713887.py:21: DeprecationWarning: The 'text' argument to find()-type methods is deprecated. Use 'string' instead.\n",
      "  alma_mater_row = soup.find('th', text=lambda x: x and \"Alma\" in x)\n"
     ]
    },
    {
     "name": "stdout",
     "output_type": "stream",
     "text": [
      "[ DEBUG ] - Progress: 83.399209486166%\n"
     ]
    },
    {
     "name": "stderr",
     "output_type": "stream",
     "text": [
      "C:\\Users\\zmorrato\\AppData\\Local\\Temp\\ipykernel_26412\\3563713887.py:21: DeprecationWarning: The 'text' argument to find()-type methods is deprecated. Use 'string' instead.\n",
      "  alma_mater_row = soup.find('th', text=lambda x: x and \"Alma\" in x)\n"
     ]
    },
    {
     "name": "stdout",
     "output_type": "stream",
     "text": [
      "[ DEBUG ] - Progress: 83.49802371541502%\n"
     ]
    },
    {
     "name": "stderr",
     "output_type": "stream",
     "text": [
      "C:\\Users\\zmorrato\\AppData\\Local\\Temp\\ipykernel_26412\\3563713887.py:21: DeprecationWarning: The 'text' argument to find()-type methods is deprecated. Use 'string' instead.\n",
      "  alma_mater_row = soup.find('th', text=lambda x: x and \"Alma\" in x)\n"
     ]
    },
    {
     "name": "stdout",
     "output_type": "stream",
     "text": [
      "[ DEBUG ] - Progress: 83.59683794466403%\n"
     ]
    },
    {
     "name": "stderr",
     "output_type": "stream",
     "text": [
      "C:\\Users\\zmorrato\\AppData\\Local\\Temp\\ipykernel_26412\\3563713887.py:21: DeprecationWarning: The 'text' argument to find()-type methods is deprecated. Use 'string' instead.\n",
      "  alma_mater_row = soup.find('th', text=lambda x: x and \"Alma\" in x)\n"
     ]
    },
    {
     "name": "stdout",
     "output_type": "stream",
     "text": [
      "[ DEBUG ] - Progress: 83.69565217391305%\n"
     ]
    },
    {
     "name": "stderr",
     "output_type": "stream",
     "text": [
      "C:\\Users\\zmorrato\\AppData\\Local\\Temp\\ipykernel_26412\\3563713887.py:21: DeprecationWarning: The 'text' argument to find()-type methods is deprecated. Use 'string' instead.\n",
      "  alma_mater_row = soup.find('th', text=lambda x: x and \"Alma\" in x)\n"
     ]
    },
    {
     "name": "stdout",
     "output_type": "stream",
     "text": [
      "[ DEBUG ] - Progress: 83.79446640316206%\n"
     ]
    },
    {
     "name": "stderr",
     "output_type": "stream",
     "text": [
      "C:\\Users\\zmorrato\\AppData\\Local\\Temp\\ipykernel_26412\\3563713887.py:21: DeprecationWarning: The 'text' argument to find()-type methods is deprecated. Use 'string' instead.\n",
      "  alma_mater_row = soup.find('th', text=lambda x: x and \"Alma\" in x)\n"
     ]
    },
    {
     "name": "stdout",
     "output_type": "stream",
     "text": [
      "[ DEBUG ] - Alma mater row not found for /wiki/Ellen_Johnson_Sirleaf\n",
      "[ DEBUG ] - Progress: 83.89328063241108%\n"
     ]
    },
    {
     "name": "stderr",
     "output_type": "stream",
     "text": [
      "C:\\Users\\zmorrato\\AppData\\Local\\Temp\\ipykernel_26412\\3563713887.py:21: DeprecationWarning: The 'text' argument to find()-type methods is deprecated. Use 'string' instead.\n",
      "  alma_mater_row = soup.find('th', text=lambda x: x and \"Alma\" in x)\n"
     ]
    },
    {
     "name": "stdout",
     "output_type": "stream",
     "text": [
      "[ DEBUG ] - Alma mater row not found for /wiki/Leymah_Gbowee\n",
      "[ DEBUG ] - Progress: 83.99209486166008%\n"
     ]
    },
    {
     "name": "stderr",
     "output_type": "stream",
     "text": [
      "C:\\Users\\zmorrato\\AppData\\Local\\Temp\\ipykernel_26412\\3563713887.py:21: DeprecationWarning: The 'text' argument to find()-type methods is deprecated. Use 'string' instead.\n",
      "  alma_mater_row = soup.find('th', text=lambda x: x and \"Alma\" in x)\n"
     ]
    },
    {
     "name": "stdout",
     "output_type": "stream",
     "text": [
      "[ DEBUG ] - Progress: 84.0909090909091%\n"
     ]
    },
    {
     "name": "stderr",
     "output_type": "stream",
     "text": [
      "C:\\Users\\zmorrato\\AppData\\Local\\Temp\\ipykernel_26412\\3563713887.py:21: DeprecationWarning: The 'text' argument to find()-type methods is deprecated. Use 'string' instead.\n",
      "  alma_mater_row = soup.find('th', text=lambda x: x and \"Alma\" in x)\n"
     ]
    },
    {
     "name": "stdout",
     "output_type": "stream",
     "text": [
      "[ DEBUG ] - Alma mater row not found for /wiki/Thomas_J._Sargent\n",
      "[ DEBUG ] - Progress: 84.18972332015811%\n"
     ]
    },
    {
     "name": "stderr",
     "output_type": "stream",
     "text": [
      "C:\\Users\\zmorrato\\AppData\\Local\\Temp\\ipykernel_26412\\3563713887.py:21: DeprecationWarning: The 'text' argument to find()-type methods is deprecated. Use 'string' instead.\n",
      "  alma_mater_row = soup.find('th', text=lambda x: x and \"Alma\" in x)\n"
     ]
    },
    {
     "name": "stdout",
     "output_type": "stream",
     "text": [
      "[ DEBUG ] - Alma mater row not found for /wiki/Christopher_A._Sims\n",
      "[ DEBUG ] - Progress: 84.28853754940711%\n"
     ]
    },
    {
     "name": "stderr",
     "output_type": "stream",
     "text": [
      "C:\\Users\\zmorrato\\AppData\\Local\\Temp\\ipykernel_26412\\3563713887.py:21: DeprecationWarning: The 'text' argument to find()-type methods is deprecated. Use 'string' instead.\n",
      "  alma_mater_row = soup.find('th', text=lambda x: x and \"Alma\" in x)\n"
     ]
    },
    {
     "name": "stdout",
     "output_type": "stream",
     "text": [
      "[ DEBUG ] - Progress: 84.38735177865613%\n"
     ]
    },
    {
     "name": "stderr",
     "output_type": "stream",
     "text": [
      "C:\\Users\\zmorrato\\AppData\\Local\\Temp\\ipykernel_26412\\3563713887.py:21: DeprecationWarning: The 'text' argument to find()-type methods is deprecated. Use 'string' instead.\n",
      "  alma_mater_row = soup.find('th', text=lambda x: x and \"Alma\" in x)\n"
     ]
    },
    {
     "name": "stdout",
     "output_type": "stream",
     "text": [
      "[ DEBUG ] - Progress: 84.48616600790514%\n"
     ]
    },
    {
     "name": "stderr",
     "output_type": "stream",
     "text": [
      "C:\\Users\\zmorrato\\AppData\\Local\\Temp\\ipykernel_26412\\3563713887.py:21: DeprecationWarning: The 'text' argument to find()-type methods is deprecated. Use 'string' instead.\n",
      "  alma_mater_row = soup.find('th', text=lambda x: x and \"Alma\" in x)\n"
     ]
    },
    {
     "name": "stdout",
     "output_type": "stream",
     "text": [
      "[ DEBUG ] - Progress: 84.58498023715416%\n"
     ]
    },
    {
     "name": "stderr",
     "output_type": "stream",
     "text": [
      "C:\\Users\\zmorrato\\AppData\\Local\\Temp\\ipykernel_26412\\3563713887.py:21: DeprecationWarning: The 'text' argument to find()-type methods is deprecated. Use 'string' instead.\n",
      "  alma_mater_row = soup.find('th', text=lambda x: x and \"Alma\" in x)\n"
     ]
    },
    {
     "name": "stdout",
     "output_type": "stream",
     "text": [
      "[ DEBUG ] - Progress: 84.68379446640316%\n"
     ]
    },
    {
     "name": "stderr",
     "output_type": "stream",
     "text": [
      "C:\\Users\\zmorrato\\AppData\\Local\\Temp\\ipykernel_26412\\3563713887.py:21: DeprecationWarning: The 'text' argument to find()-type methods is deprecated. Use 'string' instead.\n",
      "  alma_mater_row = soup.find('th', text=lambda x: x and \"Alma\" in x)\n"
     ]
    },
    {
     "name": "stdout",
     "output_type": "stream",
     "text": [
      "[ DEBUG ] - Progress: 84.78260869565217%\n"
     ]
    },
    {
     "name": "stderr",
     "output_type": "stream",
     "text": [
      "C:\\Users\\zmorrato\\AppData\\Local\\Temp\\ipykernel_26412\\3563713887.py:21: DeprecationWarning: The 'text' argument to find()-type methods is deprecated. Use 'string' instead.\n",
      "  alma_mater_row = soup.find('th', text=lambda x: x and \"Alma\" in x)\n"
     ]
    },
    {
     "name": "stdout",
     "output_type": "stream",
     "text": [
      "[ DEBUG ] - Progress: 84.88142292490119%\n"
     ]
    },
    {
     "name": "stderr",
     "output_type": "stream",
     "text": [
      "C:\\Users\\zmorrato\\AppData\\Local\\Temp\\ipykernel_26412\\3563713887.py:21: DeprecationWarning: The 'text' argument to find()-type methods is deprecated. Use 'string' instead.\n",
      "  alma_mater_row = soup.find('th', text=lambda x: x and \"Alma\" in x)\n"
     ]
    },
    {
     "name": "stdout",
     "output_type": "stream",
     "text": [
      "[ DEBUG ] - Alma mater row not found for /wiki/Mo_Yan\n",
      "[ DEBUG ] - Progress: 84.98023715415019%\n"
     ]
    },
    {
     "name": "stderr",
     "output_type": "stream",
     "text": [
      "C:\\Users\\zmorrato\\AppData\\Local\\Temp\\ipykernel_26412\\3563713887.py:21: DeprecationWarning: The 'text' argument to find()-type methods is deprecated. Use 'string' instead.\n",
      "  alma_mater_row = soup.find('th', text=lambda x: x and \"Alma\" in x)\n"
     ]
    },
    {
     "name": "stdout",
     "output_type": "stream",
     "text": [
      "[ DEBUG ] - Alma mater row not found for /wiki/European_Union\n",
      "[ DEBUG ] - Progress: 85.0790513833992%\n"
     ]
    },
    {
     "name": "stderr",
     "output_type": "stream",
     "text": [
      "C:\\Users\\zmorrato\\AppData\\Local\\Temp\\ipykernel_26412\\3563713887.py:21: DeprecationWarning: The 'text' argument to find()-type methods is deprecated. Use 'string' instead.\n",
      "  alma_mater_row = soup.find('th', text=lambda x: x and \"Alma\" in x)\n"
     ]
    },
    {
     "name": "stdout",
     "output_type": "stream",
     "text": [
      "[ DEBUG ] - Alma mater row not found for /wiki/Alvin_E._Roth\n",
      "[ DEBUG ] - Progress: 85.17786561264822%\n"
     ]
    },
    {
     "name": "stderr",
     "output_type": "stream",
     "text": [
      "C:\\Users\\zmorrato\\AppData\\Local\\Temp\\ipykernel_26412\\3563713887.py:21: DeprecationWarning: The 'text' argument to find()-type methods is deprecated. Use 'string' instead.\n",
      "  alma_mater_row = soup.find('th', text=lambda x: x and \"Alma\" in x)\n"
     ]
    },
    {
     "name": "stdout",
     "output_type": "stream",
     "text": [
      "[ DEBUG ] - Progress: 85.27667984189723%\n"
     ]
    },
    {
     "name": "stderr",
     "output_type": "stream",
     "text": [
      "C:\\Users\\zmorrato\\AppData\\Local\\Temp\\ipykernel_26412\\3563713887.py:21: DeprecationWarning: The 'text' argument to find()-type methods is deprecated. Use 'string' instead.\n",
      "  alma_mater_row = soup.find('th', text=lambda x: x and \"Alma\" in x)\n"
     ]
    },
    {
     "name": "stdout",
     "output_type": "stream",
     "text": [
      "[ DEBUG ] - Progress: 85.37549407114624%\n"
     ]
    },
    {
     "name": "stderr",
     "output_type": "stream",
     "text": [
      "C:\\Users\\zmorrato\\AppData\\Local\\Temp\\ipykernel_26412\\3563713887.py:21: DeprecationWarning: The 'text' argument to find()-type methods is deprecated. Use 'string' instead.\n",
      "  alma_mater_row = soup.find('th', text=lambda x: x and \"Alma\" in x)\n"
     ]
    },
    {
     "name": "stdout",
     "output_type": "stream",
     "text": [
      "[ DEBUG ] - Progress: 85.47430830039525%\n"
     ]
    },
    {
     "name": "stderr",
     "output_type": "stream",
     "text": [
      "C:\\Users\\zmorrato\\AppData\\Local\\Temp\\ipykernel_26412\\3563713887.py:21: DeprecationWarning: The 'text' argument to find()-type methods is deprecated. Use 'string' instead.\n",
      "  alma_mater_row = soup.find('th', text=lambda x: x and \"Alma\" in x)\n"
     ]
    },
    {
     "name": "stdout",
     "output_type": "stream",
     "text": [
      "[ DEBUG ] - Alma mater row not found for /wiki/Martin_Karplus\n",
      "[ DEBUG ] - Progress: 85.57312252964427%\n"
     ]
    },
    {
     "name": "stderr",
     "output_type": "stream",
     "text": [
      "C:\\Users\\zmorrato\\AppData\\Local\\Temp\\ipykernel_26412\\3563713887.py:21: DeprecationWarning: The 'text' argument to find()-type methods is deprecated. Use 'string' instead.\n",
      "  alma_mater_row = soup.find('th', text=lambda x: x and \"Alma\" in x)\n"
     ]
    },
    {
     "name": "stdout",
     "output_type": "stream",
     "text": [
      "[ DEBUG ] - Progress: 85.67193675889328%\n"
     ]
    },
    {
     "name": "stderr",
     "output_type": "stream",
     "text": [
      "C:\\Users\\zmorrato\\AppData\\Local\\Temp\\ipykernel_26412\\3563713887.py:21: DeprecationWarning: The 'text' argument to find()-type methods is deprecated. Use 'string' instead.\n",
      "  alma_mater_row = soup.find('th', text=lambda x: x and \"Alma\" in x)\n"
     ]
    },
    {
     "name": "stdout",
     "output_type": "stream",
     "text": [
      "[ DEBUG ] - Progress: 85.7707509881423%\n"
     ]
    },
    {
     "name": "stderr",
     "output_type": "stream",
     "text": [
      "C:\\Users\\zmorrato\\AppData\\Local\\Temp\\ipykernel_26412\\3563713887.py:21: DeprecationWarning: The 'text' argument to find()-type methods is deprecated. Use 'string' instead.\n",
      "  alma_mater_row = soup.find('th', text=lambda x: x and \"Alma\" in x)\n"
     ]
    },
    {
     "name": "stdout",
     "output_type": "stream",
     "text": [
      "[ DEBUG ] - Progress: 85.86956521739131%\n"
     ]
    },
    {
     "name": "stderr",
     "output_type": "stream",
     "text": [
      "C:\\Users\\zmorrato\\AppData\\Local\\Temp\\ipykernel_26412\\3563713887.py:21: DeprecationWarning: The 'text' argument to find()-type methods is deprecated. Use 'string' instead.\n",
      "  alma_mater_row = soup.find('th', text=lambda x: x and \"Alma\" in x)\n"
     ]
    },
    {
     "name": "stdout",
     "output_type": "stream",
     "text": [
      "[ DEBUG ] - Progress: 85.96837944664031%\n"
     ]
    },
    {
     "name": "stderr",
     "output_type": "stream",
     "text": [
      "C:\\Users\\zmorrato\\AppData\\Local\\Temp\\ipykernel_26412\\3563713887.py:21: DeprecationWarning: The 'text' argument to find()-type methods is deprecated. Use 'string' instead.\n",
      "  alma_mater_row = soup.find('th', text=lambda x: x and \"Alma\" in x)\n"
     ]
    },
    {
     "name": "stdout",
     "output_type": "stream",
     "text": [
      "[ DEBUG ] - Progress: 86.06719367588933%\n"
     ]
    },
    {
     "name": "stderr",
     "output_type": "stream",
     "text": [
      "C:\\Users\\zmorrato\\AppData\\Local\\Temp\\ipykernel_26412\\3563713887.py:21: DeprecationWarning: The 'text' argument to find()-type methods is deprecated. Use 'string' instead.\n",
      "  alma_mater_row = soup.find('th', text=lambda x: x and \"Alma\" in x)\n"
     ]
    },
    {
     "name": "stdout",
     "output_type": "stream",
     "text": [
      "[ DEBUG ] - Alma mater row not found for /wiki/Alice_Munro\n",
      "[ DEBUG ] - Progress: 86.16600790513834%\n"
     ]
    },
    {
     "name": "stderr",
     "output_type": "stream",
     "text": [
      "C:\\Users\\zmorrato\\AppData\\Local\\Temp\\ipykernel_26412\\3563713887.py:21: DeprecationWarning: The 'text' argument to find()-type methods is deprecated. Use 'string' instead.\n",
      "  alma_mater_row = soup.find('th', text=lambda x: x and \"Alma\" in x)\n"
     ]
    },
    {
     "name": "stdout",
     "output_type": "stream",
     "text": [
      "[ DEBUG ] - Alma mater row not found for /wiki/Organisation_for_the_Prohibition_of_Chemical_Weapons\n",
      "[ DEBUG ] - Progress: 86.26482213438736%\n"
     ]
    },
    {
     "name": "stderr",
     "output_type": "stream",
     "text": [
      "C:\\Users\\zmorrato\\AppData\\Local\\Temp\\ipykernel_26412\\3563713887.py:21: DeprecationWarning: The 'text' argument to find()-type methods is deprecated. Use 'string' instead.\n",
      "  alma_mater_row = soup.find('th', text=lambda x: x and \"Alma\" in x)\n"
     ]
    },
    {
     "name": "stdout",
     "output_type": "stream",
     "text": [
      "[ DEBUG ] - Alma mater row not found for /wiki/Eugene_Fama\n",
      "[ DEBUG ] - Progress: 86.36363636363636%\n"
     ]
    },
    {
     "name": "stderr",
     "output_type": "stream",
     "text": [
      "C:\\Users\\zmorrato\\AppData\\Local\\Temp\\ipykernel_26412\\3563713887.py:21: DeprecationWarning: The 'text' argument to find()-type methods is deprecated. Use 'string' instead.\n",
      "  alma_mater_row = soup.find('th', text=lambda x: x and \"Alma\" in x)\n"
     ]
    },
    {
     "name": "stdout",
     "output_type": "stream",
     "text": [
      "[ DEBUG ] - Progress: 86.46245059288538%\n"
     ]
    },
    {
     "name": "stderr",
     "output_type": "stream",
     "text": [
      "C:\\Users\\zmorrato\\AppData\\Local\\Temp\\ipykernel_26412\\3563713887.py:21: DeprecationWarning: The 'text' argument to find()-type methods is deprecated. Use 'string' instead.\n",
      "  alma_mater_row = soup.find('th', text=lambda x: x and \"Alma\" in x)\n"
     ]
    },
    {
     "name": "stdout",
     "output_type": "stream",
     "text": [
      "[ DEBUG ] - Progress: 86.56126482213439%\n"
     ]
    },
    {
     "name": "stderr",
     "output_type": "stream",
     "text": [
      "C:\\Users\\zmorrato\\AppData\\Local\\Temp\\ipykernel_26412\\3563713887.py:21: DeprecationWarning: The 'text' argument to find()-type methods is deprecated. Use 'string' instead.\n",
      "  alma_mater_row = soup.find('th', text=lambda x: x and \"Alma\" in x)\n"
     ]
    },
    {
     "name": "stdout",
     "output_type": "stream",
     "text": [
      "[ DEBUG ] - Progress: 86.6600790513834%\n"
     ]
    },
    {
     "name": "stderr",
     "output_type": "stream",
     "text": [
      "C:\\Users\\zmorrato\\AppData\\Local\\Temp\\ipykernel_26412\\3563713887.py:21: DeprecationWarning: The 'text' argument to find()-type methods is deprecated. Use 'string' instead.\n",
      "  alma_mater_row = soup.find('th', text=lambda x: x and \"Alma\" in x)\n"
     ]
    },
    {
     "name": "stdout",
     "output_type": "stream",
     "text": [
      "[ DEBUG ] - Progress: 86.7588932806324%\n"
     ]
    },
    {
     "name": "stderr",
     "output_type": "stream",
     "text": [
      "C:\\Users\\zmorrato\\AppData\\Local\\Temp\\ipykernel_26412\\3563713887.py:21: DeprecationWarning: The 'text' argument to find()-type methods is deprecated. Use 'string' instead.\n",
      "  alma_mater_row = soup.find('th', text=lambda x: x and \"Alma\" in x)\n"
     ]
    },
    {
     "name": "stdout",
     "output_type": "stream",
     "text": [
      "[ DEBUG ] - Progress: 86.85770750988142%\n"
     ]
    },
    {
     "name": "stderr",
     "output_type": "stream",
     "text": [
      "C:\\Users\\zmorrato\\AppData\\Local\\Temp\\ipykernel_26412\\3563713887.py:21: DeprecationWarning: The 'text' argument to find()-type methods is deprecated. Use 'string' instead.\n",
      "  alma_mater_row = soup.find('th', text=lambda x: x and \"Alma\" in x)\n"
     ]
    },
    {
     "name": "stdout",
     "output_type": "stream",
     "text": [
      "[ DEBUG ] - Progress: 86.95652173913044%\n"
     ]
    },
    {
     "name": "stderr",
     "output_type": "stream",
     "text": [
      "C:\\Users\\zmorrato\\AppData\\Local\\Temp\\ipykernel_26412\\3563713887.py:21: DeprecationWarning: The 'text' argument to find()-type methods is deprecated. Use 'string' instead.\n",
      "  alma_mater_row = soup.find('th', text=lambda x: x and \"Alma\" in x)\n"
     ]
    },
    {
     "name": "stdout",
     "output_type": "stream",
     "text": [
      "[ DEBUG ] - Progress: 87.05533596837944%\n"
     ]
    },
    {
     "name": "stderr",
     "output_type": "stream",
     "text": [
      "C:\\Users\\zmorrato\\AppData\\Local\\Temp\\ipykernel_26412\\3563713887.py:21: DeprecationWarning: The 'text' argument to find()-type methods is deprecated. Use 'string' instead.\n",
      "  alma_mater_row = soup.find('th', text=lambda x: x and \"Alma\" in x)\n"
     ]
    },
    {
     "name": "stdout",
     "output_type": "stream",
     "text": [
      "[ DEBUG ] - Progress: 87.15415019762845%\n"
     ]
    },
    {
     "name": "stderr",
     "output_type": "stream",
     "text": [
      "C:\\Users\\zmorrato\\AppData\\Local\\Temp\\ipykernel_26412\\3563713887.py:21: DeprecationWarning: The 'text' argument to find()-type methods is deprecated. Use 'string' instead.\n",
      "  alma_mater_row = soup.find('th', text=lambda x: x and \"Alma\" in x)\n"
     ]
    },
    {
     "name": "stdout",
     "output_type": "stream",
     "text": [
      "[ DEBUG ] - Progress: 87.25296442687747%\n"
     ]
    },
    {
     "name": "stderr",
     "output_type": "stream",
     "text": [
      "C:\\Users\\zmorrato\\AppData\\Local\\Temp\\ipykernel_26412\\3563713887.py:21: DeprecationWarning: The 'text' argument to find()-type methods is deprecated. Use 'string' instead.\n",
      "  alma_mater_row = soup.find('th', text=lambda x: x and \"Alma\" in x)\n"
     ]
    },
    {
     "name": "stdout",
     "output_type": "stream",
     "text": [
      "[ DEBUG ] - Progress: 87.35177865612648%\n"
     ]
    },
    {
     "name": "stderr",
     "output_type": "stream",
     "text": [
      "C:\\Users\\zmorrato\\AppData\\Local\\Temp\\ipykernel_26412\\3563713887.py:21: DeprecationWarning: The 'text' argument to find()-type methods is deprecated. Use 'string' instead.\n",
      "  alma_mater_row = soup.find('th', text=lambda x: x and \"Alma\" in x)\n"
     ]
    },
    {
     "name": "stdout",
     "output_type": "stream",
     "text": [
      "[ DEBUG ] - Progress: 87.45059288537549%\n"
     ]
    },
    {
     "name": "stderr",
     "output_type": "stream",
     "text": [
      "C:\\Users\\zmorrato\\AppData\\Local\\Temp\\ipykernel_26412\\3563713887.py:21: DeprecationWarning: The 'text' argument to find()-type methods is deprecated. Use 'string' instead.\n",
      "  alma_mater_row = soup.find('th', text=lambda x: x and \"Alma\" in x)\n"
     ]
    },
    {
     "name": "stdout",
     "output_type": "stream",
     "text": [
      "[ DEBUG ] - Alma mater row not found for /wiki/Patrick_Modiano\n",
      "[ DEBUG ] - Progress: 87.54940711462451%\n"
     ]
    },
    {
     "name": "stderr",
     "output_type": "stream",
     "text": [
      "C:\\Users\\zmorrato\\AppData\\Local\\Temp\\ipykernel_26412\\3563713887.py:21: DeprecationWarning: The 'text' argument to find()-type methods is deprecated. Use 'string' instead.\n",
      "  alma_mater_row = soup.find('th', text=lambda x: x and \"Alma\" in x)\n"
     ]
    },
    {
     "name": "stdout",
     "output_type": "stream",
     "text": [
      "[ DEBUG ] - Progress: 87.64822134387352%\n"
     ]
    },
    {
     "name": "stderr",
     "output_type": "stream",
     "text": [
      "C:\\Users\\zmorrato\\AppData\\Local\\Temp\\ipykernel_26412\\3563713887.py:21: DeprecationWarning: The 'text' argument to find()-type methods is deprecated. Use 'string' instead.\n",
      "  alma_mater_row = soup.find('th', text=lambda x: x and \"Alma\" in x)\n"
     ]
    },
    {
     "name": "stdout",
     "output_type": "stream",
     "text": [
      "[ DEBUG ] - Alma mater row not found for /wiki/Malala_Yousafzai\n",
      "[ DEBUG ] - Progress: 87.74703557312253%\n"
     ]
    },
    {
     "name": "stderr",
     "output_type": "stream",
     "text": [
      "C:\\Users\\zmorrato\\AppData\\Local\\Temp\\ipykernel_26412\\3563713887.py:21: DeprecationWarning: The 'text' argument to find()-type methods is deprecated. Use 'string' instead.\n",
      "  alma_mater_row = soup.find('th', text=lambda x: x and \"Alma\" in x)\n"
     ]
    },
    {
     "name": "stdout",
     "output_type": "stream",
     "text": [
      "[ DEBUG ] - Progress: 87.84584980237155%\n"
     ]
    },
    {
     "name": "stderr",
     "output_type": "stream",
     "text": [
      "C:\\Users\\zmorrato\\AppData\\Local\\Temp\\ipykernel_26412\\3563713887.py:21: DeprecationWarning: The 'text' argument to find()-type methods is deprecated. Use 'string' instead.\n",
      "  alma_mater_row = soup.find('th', text=lambda x: x and \"Alma\" in x)\n"
     ]
    },
    {
     "name": "stdout",
     "output_type": "stream",
     "text": [
      "[ DEBUG ] - Progress: 87.94466403162056%\n"
     ]
    },
    {
     "name": "stderr",
     "output_type": "stream",
     "text": [
      "C:\\Users\\zmorrato\\AppData\\Local\\Temp\\ipykernel_26412\\3563713887.py:21: DeprecationWarning: The 'text' argument to find()-type methods is deprecated. Use 'string' instead.\n",
      "  alma_mater_row = soup.find('th', text=lambda x: x and \"Alma\" in x)\n"
     ]
    },
    {
     "name": "stdout",
     "output_type": "stream",
     "text": [
      "[ DEBUG ] - Progress: 88.04347826086956%\n"
     ]
    },
    {
     "name": "stderr",
     "output_type": "stream",
     "text": [
      "C:\\Users\\zmorrato\\AppData\\Local\\Temp\\ipykernel_26412\\3563713887.py:21: DeprecationWarning: The 'text' argument to find()-type methods is deprecated. Use 'string' instead.\n",
      "  alma_mater_row = soup.find('th', text=lambda x: x and \"Alma\" in x)\n"
     ]
    },
    {
     "name": "stdout",
     "output_type": "stream",
     "text": [
      "[ DEBUG ] - Progress: 88.14229249011858%\n"
     ]
    },
    {
     "name": "stderr",
     "output_type": "stream",
     "text": [
      "C:\\Users\\zmorrato\\AppData\\Local\\Temp\\ipykernel_26412\\3563713887.py:21: DeprecationWarning: The 'text' argument to find()-type methods is deprecated. Use 'string' instead.\n",
      "  alma_mater_row = soup.find('th', text=lambda x: x and \"Alma\" in x)\n"
     ]
    },
    {
     "name": "stdout",
     "output_type": "stream",
     "text": [
      "[ DEBUG ] - Progress: 88.2411067193676%\n"
     ]
    },
    {
     "name": "stderr",
     "output_type": "stream",
     "text": [
      "C:\\Users\\zmorrato\\AppData\\Local\\Temp\\ipykernel_26412\\3563713887.py:21: DeprecationWarning: The 'text' argument to find()-type methods is deprecated. Use 'string' instead.\n",
      "  alma_mater_row = soup.find('th', text=lambda x: x and \"Alma\" in x)\n"
     ]
    },
    {
     "name": "stdout",
     "output_type": "stream",
     "text": [
      "[ DEBUG ] - Progress: 88.3399209486166%\n"
     ]
    },
    {
     "name": "stderr",
     "output_type": "stream",
     "text": [
      "C:\\Users\\zmorrato\\AppData\\Local\\Temp\\ipykernel_26412\\3563713887.py:21: DeprecationWarning: The 'text' argument to find()-type methods is deprecated. Use 'string' instead.\n",
      "  alma_mater_row = soup.find('th', text=lambda x: x and \"Alma\" in x)\n"
     ]
    },
    {
     "name": "stdout",
     "output_type": "stream",
     "text": [
      "[ DEBUG ] - Progress: 88.43873517786561%\n"
     ]
    },
    {
     "name": "stderr",
     "output_type": "stream",
     "text": [
      "C:\\Users\\zmorrato\\AppData\\Local\\Temp\\ipykernel_26412\\3563713887.py:21: DeprecationWarning: The 'text' argument to find()-type methods is deprecated. Use 'string' instead.\n",
      "  alma_mater_row = soup.find('th', text=lambda x: x and \"Alma\" in x)\n"
     ]
    },
    {
     "name": "stdout",
     "output_type": "stream",
     "text": [
      "[ DEBUG ] - Progress: 88.53754940711462%\n"
     ]
    },
    {
     "name": "stderr",
     "output_type": "stream",
     "text": [
      "C:\\Users\\zmorrato\\AppData\\Local\\Temp\\ipykernel_26412\\3563713887.py:21: DeprecationWarning: The 'text' argument to find()-type methods is deprecated. Use 'string' instead.\n",
      "  alma_mater_row = soup.find('th', text=lambda x: x and \"Alma\" in x)\n"
     ]
    },
    {
     "name": "stdout",
     "output_type": "stream",
     "text": [
      "[ DEBUG ] - Progress: 88.63636363636364%\n"
     ]
    },
    {
     "name": "stderr",
     "output_type": "stream",
     "text": [
      "C:\\Users\\zmorrato\\AppData\\Local\\Temp\\ipykernel_26412\\3563713887.py:21: DeprecationWarning: The 'text' argument to find()-type methods is deprecated. Use 'string' instead.\n",
      "  alma_mater_row = soup.find('th', text=lambda x: x and \"Alma\" in x)\n"
     ]
    },
    {
     "name": "stdout",
     "output_type": "stream",
     "text": [
      "[ DEBUG ] - Progress: 88.73517786561264%\n"
     ]
    },
    {
     "name": "stderr",
     "output_type": "stream",
     "text": [
      "C:\\Users\\zmorrato\\AppData\\Local\\Temp\\ipykernel_26412\\3563713887.py:21: DeprecationWarning: The 'text' argument to find()-type methods is deprecated. Use 'string' instead.\n",
      "  alma_mater_row = soup.find('th', text=lambda x: x and \"Alma\" in x)\n"
     ]
    },
    {
     "name": "stdout",
     "output_type": "stream",
     "text": [
      "[ DEBUG ] - Alma mater row not found for /wiki/Tunisian_National_Dialogue_Quartet\n",
      "[ DEBUG ] - Progress: 88.83399209486166%\n"
     ]
    },
    {
     "name": "stderr",
     "output_type": "stream",
     "text": [
      "C:\\Users\\zmorrato\\AppData\\Local\\Temp\\ipykernel_26412\\3563713887.py:21: DeprecationWarning: The 'text' argument to find()-type methods is deprecated. Use 'string' instead.\n",
      "  alma_mater_row = soup.find('th', text=lambda x: x and \"Alma\" in x)\n"
     ]
    },
    {
     "name": "stdout",
     "output_type": "stream",
     "text": [
      "[ DEBUG ] - Progress: 88.93280632411067%\n"
     ]
    },
    {
     "name": "stderr",
     "output_type": "stream",
     "text": [
      "C:\\Users\\zmorrato\\AppData\\Local\\Temp\\ipykernel_26412\\3563713887.py:21: DeprecationWarning: The 'text' argument to find()-type methods is deprecated. Use 'string' instead.\n",
      "  alma_mater_row = soup.find('th', text=lambda x: x and \"Alma\" in x)\n"
     ]
    },
    {
     "name": "stdout",
     "output_type": "stream",
     "text": [
      "[ DEBUG ] - Progress: 89.03162055335969%\n"
     ]
    },
    {
     "name": "stderr",
     "output_type": "stream",
     "text": [
      "C:\\Users\\zmorrato\\AppData\\Local\\Temp\\ipykernel_26412\\3563713887.py:21: DeprecationWarning: The 'text' argument to find()-type methods is deprecated. Use 'string' instead.\n",
      "  alma_mater_row = soup.find('th', text=lambda x: x and \"Alma\" in x)\n"
     ]
    },
    {
     "name": "stdout",
     "output_type": "stream",
     "text": [
      "[ DEBUG ] - Progress: 89.13043478260869%\n"
     ]
    },
    {
     "name": "stderr",
     "output_type": "stream",
     "text": [
      "C:\\Users\\zmorrato\\AppData\\Local\\Temp\\ipykernel_26412\\3563713887.py:21: DeprecationWarning: The 'text' argument to find()-type methods is deprecated. Use 'string' instead.\n",
      "  alma_mater_row = soup.find('th', text=lambda x: x and \"Alma\" in x)\n"
     ]
    },
    {
     "name": "stdout",
     "output_type": "stream",
     "text": [
      "[ DEBUG ] - Progress: 89.2292490118577%\n"
     ]
    },
    {
     "name": "stderr",
     "output_type": "stream",
     "text": [
      "C:\\Users\\zmorrato\\AppData\\Local\\Temp\\ipykernel_26412\\3563713887.py:21: DeprecationWarning: The 'text' argument to find()-type methods is deprecated. Use 'string' instead.\n",
      "  alma_mater_row = soup.find('th', text=lambda x: x and \"Alma\" in x)\n"
     ]
    },
    {
     "name": "stdout",
     "output_type": "stream",
     "text": [
      "[ DEBUG ] - Alma mater row not found for /wiki/Jean-Pierre_Sauvage\n",
      "[ DEBUG ] - Progress: 89.32806324110672%\n"
     ]
    },
    {
     "name": "stderr",
     "output_type": "stream",
     "text": [
      "C:\\Users\\zmorrato\\AppData\\Local\\Temp\\ipykernel_26412\\3563713887.py:21: DeprecationWarning: The 'text' argument to find()-type methods is deprecated. Use 'string' instead.\n",
      "  alma_mater_row = soup.find('th', text=lambda x: x and \"Alma\" in x)\n"
     ]
    },
    {
     "name": "stdout",
     "output_type": "stream",
     "text": [
      "[ DEBUG ] - Progress: 89.42687747035573%\n"
     ]
    },
    {
     "name": "stderr",
     "output_type": "stream",
     "text": [
      "C:\\Users\\zmorrato\\AppData\\Local\\Temp\\ipykernel_26412\\3563713887.py:21: DeprecationWarning: The 'text' argument to find()-type methods is deprecated. Use 'string' instead.\n",
      "  alma_mater_row = soup.find('th', text=lambda x: x and \"Alma\" in x)\n"
     ]
    },
    {
     "name": "stdout",
     "output_type": "stream",
     "text": [
      "[ DEBUG ] - Progress: 89.52569169960475%\n"
     ]
    },
    {
     "name": "stderr",
     "output_type": "stream",
     "text": [
      "C:\\Users\\zmorrato\\AppData\\Local\\Temp\\ipykernel_26412\\3563713887.py:21: DeprecationWarning: The 'text' argument to find()-type methods is deprecated. Use 'string' instead.\n",
      "  alma_mater_row = soup.find('th', text=lambda x: x and \"Alma\" in x)\n"
     ]
    },
    {
     "name": "stdout",
     "output_type": "stream",
     "text": [
      "[ DEBUG ] - Progress: 89.62450592885376%\n"
     ]
    },
    {
     "name": "stderr",
     "output_type": "stream",
     "text": [
      "C:\\Users\\zmorrato\\AppData\\Local\\Temp\\ipykernel_26412\\3563713887.py:21: DeprecationWarning: The 'text' argument to find()-type methods is deprecated. Use 'string' instead.\n",
      "  alma_mater_row = soup.find('th', text=lambda x: x and \"Alma\" in x)\n"
     ]
    },
    {
     "name": "stdout",
     "output_type": "stream",
     "text": [
      "[ DEBUG ] - Alma mater row not found for /wiki/Bob_Dylan\n",
      "[ DEBUG ] - Progress: 89.72332015810277%\n"
     ]
    },
    {
     "name": "stderr",
     "output_type": "stream",
     "text": [
      "C:\\Users\\zmorrato\\AppData\\Local\\Temp\\ipykernel_26412\\3563713887.py:21: DeprecationWarning: The 'text' argument to find()-type methods is deprecated. Use 'string' instead.\n",
      "  alma_mater_row = soup.find('th', text=lambda x: x and \"Alma\" in x)\n"
     ]
    },
    {
     "name": "stdout",
     "output_type": "stream",
     "text": [
      "[ DEBUG ] - Progress: 89.82213438735178%\n"
     ]
    },
    {
     "name": "stderr",
     "output_type": "stream",
     "text": [
      "C:\\Users\\zmorrato\\AppData\\Local\\Temp\\ipykernel_26412\\3563713887.py:21: DeprecationWarning: The 'text' argument to find()-type methods is deprecated. Use 'string' instead.\n",
      "  alma_mater_row = soup.find('th', text=lambda x: x and \"Alma\" in x)\n"
     ]
    },
    {
     "name": "stdout",
     "output_type": "stream",
     "text": [
      "[ DEBUG ] - Progress: 89.9209486166008%\n"
     ]
    },
    {
     "name": "stderr",
     "output_type": "stream",
     "text": [
      "C:\\Users\\zmorrato\\AppData\\Local\\Temp\\ipykernel_26412\\3563713887.py:21: DeprecationWarning: The 'text' argument to find()-type methods is deprecated. Use 'string' instead.\n",
      "  alma_mater_row = soup.find('th', text=lambda x: x and \"Alma\" in x)\n"
     ]
    },
    {
     "name": "stdout",
     "output_type": "stream",
     "text": [
      "[ DEBUG ] - Alma mater row not found for /wiki/Bengt_R._Holmstr%C3%B6m\n",
      "[ DEBUG ] - Progress: 90.01976284584981%\n"
     ]
    },
    {
     "name": "stderr",
     "output_type": "stream",
     "text": [
      "C:\\Users\\zmorrato\\AppData\\Local\\Temp\\ipykernel_26412\\3563713887.py:21: DeprecationWarning: The 'text' argument to find()-type methods is deprecated. Use 'string' instead.\n",
      "  alma_mater_row = soup.find('th', text=lambda x: x and \"Alma\" in x)\n"
     ]
    },
    {
     "name": "stdout",
     "output_type": "stream",
     "text": [
      "[ DEBUG ] - Alma mater row not found for /wiki/Rainer_Weiss\n",
      "[ DEBUG ] - Progress: 90.11857707509881%\n"
     ]
    },
    {
     "name": "stderr",
     "output_type": "stream",
     "text": [
      "C:\\Users\\zmorrato\\AppData\\Local\\Temp\\ipykernel_26412\\3563713887.py:21: DeprecationWarning: The 'text' argument to find()-type methods is deprecated. Use 'string' instead.\n",
      "  alma_mater_row = soup.find('th', text=lambda x: x and \"Alma\" in x)\n"
     ]
    },
    {
     "name": "stdout",
     "output_type": "stream",
     "text": [
      "[ DEBUG ] - Alma mater row not found for /wiki/Barry_Barish\n",
      "[ DEBUG ] - Progress: 90.21739130434783%\n"
     ]
    },
    {
     "name": "stderr",
     "output_type": "stream",
     "text": [
      "C:\\Users\\zmorrato\\AppData\\Local\\Temp\\ipykernel_26412\\3563713887.py:21: DeprecationWarning: The 'text' argument to find()-type methods is deprecated. Use 'string' instead.\n",
      "  alma_mater_row = soup.find('th', text=lambda x: x and \"Alma\" in x)\n"
     ]
    },
    {
     "name": "stdout",
     "output_type": "stream",
     "text": [
      "[ DEBUG ] - Alma mater row not found for /wiki/Kip_Thorne\n",
      "[ DEBUG ] - Progress: 90.31620553359684%\n"
     ]
    },
    {
     "name": "stderr",
     "output_type": "stream",
     "text": [
      "C:\\Users\\zmorrato\\AppData\\Local\\Temp\\ipykernel_26412\\3563713887.py:21: DeprecationWarning: The 'text' argument to find()-type methods is deprecated. Use 'string' instead.\n",
      "  alma_mater_row = soup.find('th', text=lambda x: x and \"Alma\" in x)\n"
     ]
    },
    {
     "name": "stdout",
     "output_type": "stream",
     "text": [
      "[ DEBUG ] - Alma mater row not found for /wiki/Jacques_Dubochet\n",
      "[ DEBUG ] - Progress: 90.41501976284584%\n"
     ]
    },
    {
     "name": "stderr",
     "output_type": "stream",
     "text": [
      "C:\\Users\\zmorrato\\AppData\\Local\\Temp\\ipykernel_26412\\3563713887.py:21: DeprecationWarning: The 'text' argument to find()-type methods is deprecated. Use 'string' instead.\n",
      "  alma_mater_row = soup.find('th', text=lambda x: x and \"Alma\" in x)\n"
     ]
    },
    {
     "name": "stdout",
     "output_type": "stream",
     "text": [
      "[ DEBUG ] - Alma mater row not found for /wiki/Joachim_Frank\n",
      "[ DEBUG ] - Progress: 90.51383399209486%\n"
     ]
    },
    {
     "name": "stderr",
     "output_type": "stream",
     "text": [
      "C:\\Users\\zmorrato\\AppData\\Local\\Temp\\ipykernel_26412\\3563713887.py:21: DeprecationWarning: The 'text' argument to find()-type methods is deprecated. Use 'string' instead.\n",
      "  alma_mater_row = soup.find('th', text=lambda x: x and \"Alma\" in x)\n"
     ]
    },
    {
     "name": "stdout",
     "output_type": "stream",
     "text": [
      "[ DEBUG ] - Progress: 90.61264822134387%\n"
     ]
    },
    {
     "name": "stderr",
     "output_type": "stream",
     "text": [
      "C:\\Users\\zmorrato\\AppData\\Local\\Temp\\ipykernel_26412\\3563713887.py:21: DeprecationWarning: The 'text' argument to find()-type methods is deprecated. Use 'string' instead.\n",
      "  alma_mater_row = soup.find('th', text=lambda x: x and \"Alma\" in x)\n"
     ]
    },
    {
     "name": "stdout",
     "output_type": "stream",
     "text": [
      "[ DEBUG ] - Alma mater row not found for /wiki/Jeffrey_C._Hall\n",
      "[ DEBUG ] - Progress: 90.71146245059289%\n"
     ]
    },
    {
     "name": "stderr",
     "output_type": "stream",
     "text": [
      "C:\\Users\\zmorrato\\AppData\\Local\\Temp\\ipykernel_26412\\3563713887.py:21: DeprecationWarning: The 'text' argument to find()-type methods is deprecated. Use 'string' instead.\n",
      "  alma_mater_row = soup.find('th', text=lambda x: x and \"Alma\" in x)\n"
     ]
    },
    {
     "name": "stdout",
     "output_type": "stream",
     "text": [
      "[ DEBUG ] - Progress: 90.81027667984189%\n"
     ]
    },
    {
     "name": "stderr",
     "output_type": "stream",
     "text": [
      "C:\\Users\\zmorrato\\AppData\\Local\\Temp\\ipykernel_26412\\3563713887.py:21: DeprecationWarning: The 'text' argument to find()-type methods is deprecated. Use 'string' instead.\n",
      "  alma_mater_row = soup.find('th', text=lambda x: x and \"Alma\" in x)\n"
     ]
    },
    {
     "name": "stdout",
     "output_type": "stream",
     "text": [
      "[ DEBUG ] - Alma mater row not found for /wiki/Michael_W._Young\n",
      "[ DEBUG ] - Progress: 90.9090909090909%\n"
     ]
    },
    {
     "name": "stderr",
     "output_type": "stream",
     "text": [
      "C:\\Users\\zmorrato\\AppData\\Local\\Temp\\ipykernel_26412\\3563713887.py:21: DeprecationWarning: The 'text' argument to find()-type methods is deprecated. Use 'string' instead.\n",
      "  alma_mater_row = soup.find('th', text=lambda x: x and \"Alma\" in x)\n"
     ]
    },
    {
     "name": "stdout",
     "output_type": "stream",
     "text": [
      "[ DEBUG ] - Alma mater row not found for /wiki/Kazuo_Ishiguro\n",
      "[ DEBUG ] - Progress: 91.00790513833992%\n"
     ]
    },
    {
     "name": "stderr",
     "output_type": "stream",
     "text": [
      "C:\\Users\\zmorrato\\AppData\\Local\\Temp\\ipykernel_26412\\3563713887.py:21: DeprecationWarning: The 'text' argument to find()-type methods is deprecated. Use 'string' instead.\n",
      "  alma_mater_row = soup.find('th', text=lambda x: x and \"Alma\" in x)\n"
     ]
    },
    {
     "name": "stdout",
     "output_type": "stream",
     "text": [
      "[ DEBUG ] - Alma mater row not found for /wiki/International_Campaign_to_Abolish_Nuclear_Weapons\n",
      "[ DEBUG ] - Progress: 91.10671936758892%\n"
     ]
    },
    {
     "name": "stderr",
     "output_type": "stream",
     "text": [
      "C:\\Users\\zmorrato\\AppData\\Local\\Temp\\ipykernel_26412\\3563713887.py:21: DeprecationWarning: The 'text' argument to find()-type methods is deprecated. Use 'string' instead.\n",
      "  alma_mater_row = soup.find('th', text=lambda x: x and \"Alma\" in x)\n"
     ]
    },
    {
     "name": "stdout",
     "output_type": "stream",
     "text": [
      "[ DEBUG ] - Alma mater row not found for /wiki/Richard_Thaler\n",
      "[ DEBUG ] - Progress: 91.20553359683794%\n"
     ]
    },
    {
     "name": "stderr",
     "output_type": "stream",
     "text": [
      "C:\\Users\\zmorrato\\AppData\\Local\\Temp\\ipykernel_26412\\3563713887.py:21: DeprecationWarning: The 'text' argument to find()-type methods is deprecated. Use 'string' instead.\n",
      "  alma_mater_row = soup.find('th', text=lambda x: x and \"Alma\" in x)\n"
     ]
    },
    {
     "name": "stdout",
     "output_type": "stream",
     "text": [
      "[ DEBUG ] - Alma mater row not found for /wiki/Arthur_Ashkin\n",
      "[ DEBUG ] - Progress: 91.30434782608695%\n"
     ]
    },
    {
     "name": "stderr",
     "output_type": "stream",
     "text": [
      "C:\\Users\\zmorrato\\AppData\\Local\\Temp\\ipykernel_26412\\3563713887.py:21: DeprecationWarning: The 'text' argument to find()-type methods is deprecated. Use 'string' instead.\n",
      "  alma_mater_row = soup.find('th', text=lambda x: x and \"Alma\" in x)\n"
     ]
    },
    {
     "name": "stdout",
     "output_type": "stream",
     "text": [
      "[ DEBUG ] - Alma mater row not found for /wiki/G%C3%A9rard_Mourou\n",
      "[ DEBUG ] - Progress: 91.40316205533597%\n"
     ]
    },
    {
     "name": "stderr",
     "output_type": "stream",
     "text": [
      "C:\\Users\\zmorrato\\AppData\\Local\\Temp\\ipykernel_26412\\3563713887.py:21: DeprecationWarning: The 'text' argument to find()-type methods is deprecated. Use 'string' instead.\n",
      "  alma_mater_row = soup.find('th', text=lambda x: x and \"Alma\" in x)\n"
     ]
    },
    {
     "name": "stdout",
     "output_type": "stream",
     "text": [
      "[ DEBUG ] - Progress: 91.50197628458498%\n"
     ]
    },
    {
     "name": "stderr",
     "output_type": "stream",
     "text": [
      "C:\\Users\\zmorrato\\AppData\\Local\\Temp\\ipykernel_26412\\3563713887.py:21: DeprecationWarning: The 'text' argument to find()-type methods is deprecated. Use 'string' instead.\n",
      "  alma_mater_row = soup.find('th', text=lambda x: x and \"Alma\" in x)\n"
     ]
    },
    {
     "name": "stdout",
     "output_type": "stream",
     "text": [
      "[ DEBUG ] - Alma mater row not found for /wiki/Frances_H._Arnold\n",
      "[ DEBUG ] - Progress: 91.600790513834%\n"
     ]
    },
    {
     "name": "stderr",
     "output_type": "stream",
     "text": [
      "C:\\Users\\zmorrato\\AppData\\Local\\Temp\\ipykernel_26412\\3563713887.py:21: DeprecationWarning: The 'text' argument to find()-type methods is deprecated. Use 'string' instead.\n",
      "  alma_mater_row = soup.find('th', text=lambda x: x and \"Alma\" in x)\n"
     ]
    },
    {
     "name": "stdout",
     "output_type": "stream",
     "text": [
      "[ DEBUG ] - Alma mater row not found for /wiki/George_Smith_(chemist)\n",
      "[ DEBUG ] - Progress: 91.699604743083%\n"
     ]
    },
    {
     "name": "stderr",
     "output_type": "stream",
     "text": [
      "C:\\Users\\zmorrato\\AppData\\Local\\Temp\\ipykernel_26412\\3563713887.py:21: DeprecationWarning: The 'text' argument to find()-type methods is deprecated. Use 'string' instead.\n",
      "  alma_mater_row = soup.find('th', text=lambda x: x and \"Alma\" in x)\n"
     ]
    },
    {
     "name": "stdout",
     "output_type": "stream",
     "text": [
      "[ DEBUG ] - Progress: 91.79841897233202%\n"
     ]
    },
    {
     "name": "stderr",
     "output_type": "stream",
     "text": [
      "C:\\Users\\zmorrato\\AppData\\Local\\Temp\\ipykernel_26412\\3563713887.py:21: DeprecationWarning: The 'text' argument to find()-type methods is deprecated. Use 'string' instead.\n",
      "  alma_mater_row = soup.find('th', text=lambda x: x and \"Alma\" in x)\n"
     ]
    },
    {
     "name": "stdout",
     "output_type": "stream",
     "text": [
      "[ DEBUG ] - Alma mater row not found for /wiki/James_P._Allison\n",
      "[ DEBUG ] - Progress: 91.89723320158103%\n"
     ]
    },
    {
     "name": "stderr",
     "output_type": "stream",
     "text": [
      "C:\\Users\\zmorrato\\AppData\\Local\\Temp\\ipykernel_26412\\3563713887.py:21: DeprecationWarning: The 'text' argument to find()-type methods is deprecated. Use 'string' instead.\n",
      "  alma_mater_row = soup.find('th', text=lambda x: x and \"Alma\" in x)\n"
     ]
    },
    {
     "name": "stdout",
     "output_type": "stream",
     "text": [
      "[ DEBUG ] - Alma mater row not found for /wiki/Tasuku_Honjo\n",
      "[ DEBUG ] - Progress: 91.99604743083005%\n"
     ]
    },
    {
     "name": "stderr",
     "output_type": "stream",
     "text": [
      "C:\\Users\\zmorrato\\AppData\\Local\\Temp\\ipykernel_26412\\3563713887.py:21: DeprecationWarning: The 'text' argument to find()-type methods is deprecated. Use 'string' instead.\n",
      "  alma_mater_row = soup.find('th', text=lambda x: x and \"Alma\" in x)\n"
     ]
    },
    {
     "name": "stdout",
     "output_type": "stream",
     "text": [
      "[ DEBUG ] - Alma mater row not found for /wiki/Olga_Tokarczuk\n",
      "[ DEBUG ] - Progress: 92.09486166007905%\n"
     ]
    },
    {
     "name": "stderr",
     "output_type": "stream",
     "text": [
      "C:\\Users\\zmorrato\\AppData\\Local\\Temp\\ipykernel_26412\\3563713887.py:21: DeprecationWarning: The 'text' argument to find()-type methods is deprecated. Use 'string' instead.\n",
      "  alma_mater_row = soup.find('th', text=lambda x: x and \"Alma\" in x)\n"
     ]
    },
    {
     "name": "stdout",
     "output_type": "stream",
     "text": [
      "[ DEBUG ] - Alma mater row not found for /wiki/Denis_Mukwege\n",
      "[ DEBUG ] - Progress: 92.19367588932806%\n"
     ]
    },
    {
     "name": "stderr",
     "output_type": "stream",
     "text": [
      "C:\\Users\\zmorrato\\AppData\\Local\\Temp\\ipykernel_26412\\3563713887.py:21: DeprecationWarning: The 'text' argument to find()-type methods is deprecated. Use 'string' instead.\n",
      "  alma_mater_row = soup.find('th', text=lambda x: x and \"Alma\" in x)\n"
     ]
    },
    {
     "name": "stdout",
     "output_type": "stream",
     "text": [
      "[ DEBUG ] - Alma mater row not found for /wiki/Nadia_Murad\n",
      "[ DEBUG ] - Progress: 92.29249011857708%\n"
     ]
    },
    {
     "name": "stderr",
     "output_type": "stream",
     "text": [
      "C:\\Users\\zmorrato\\AppData\\Local\\Temp\\ipykernel_26412\\3563713887.py:21: DeprecationWarning: The 'text' argument to find()-type methods is deprecated. Use 'string' instead.\n",
      "  alma_mater_row = soup.find('th', text=lambda x: x and \"Alma\" in x)\n"
     ]
    },
    {
     "name": "stdout",
     "output_type": "stream",
     "text": [
      "[ DEBUG ] - Alma mater row not found for /wiki/William_Nordhaus\n",
      "[ DEBUG ] - Progress: 92.3913043478261%\n"
     ]
    },
    {
     "name": "stderr",
     "output_type": "stream",
     "text": [
      "C:\\Users\\zmorrato\\AppData\\Local\\Temp\\ipykernel_26412\\3563713887.py:21: DeprecationWarning: The 'text' argument to find()-type methods is deprecated. Use 'string' instead.\n",
      "  alma_mater_row = soup.find('th', text=lambda x: x and \"Alma\" in x)\n"
     ]
    },
    {
     "name": "stdout",
     "output_type": "stream",
     "text": [
      "[ DEBUG ] - Alma mater row not found for /wiki/Paul_Romer\n",
      "[ DEBUG ] - Progress: 92.4901185770751%\n"
     ]
    },
    {
     "name": "stderr",
     "output_type": "stream",
     "text": [
      "C:\\Users\\zmorrato\\AppData\\Local\\Temp\\ipykernel_26412\\3563713887.py:21: DeprecationWarning: The 'text' argument to find()-type methods is deprecated. Use 'string' instead.\n",
      "  alma_mater_row = soup.find('th', text=lambda x: x and \"Alma\" in x)\n"
     ]
    },
    {
     "name": "stdout",
     "output_type": "stream",
     "text": [
      "[ DEBUG ] - Alma mater row not found for /wiki/Jim_Peebles\n",
      "[ DEBUG ] - Progress: 92.58893280632411%\n"
     ]
    },
    {
     "name": "stderr",
     "output_type": "stream",
     "text": [
      "C:\\Users\\zmorrato\\AppData\\Local\\Temp\\ipykernel_26412\\3563713887.py:21: DeprecationWarning: The 'text' argument to find()-type methods is deprecated. Use 'string' instead.\n",
      "  alma_mater_row = soup.find('th', text=lambda x: x and \"Alma\" in x)\n"
     ]
    },
    {
     "name": "stdout",
     "output_type": "stream",
     "text": [
      "[ DEBUG ] - Alma mater row not found for /wiki/Michel_Mayor\n",
      "[ DEBUG ] - Progress: 92.68774703557312%\n"
     ]
    },
    {
     "name": "stderr",
     "output_type": "stream",
     "text": [
      "C:\\Users\\zmorrato\\AppData\\Local\\Temp\\ipykernel_26412\\3563713887.py:21: DeprecationWarning: The 'text' argument to find()-type methods is deprecated. Use 'string' instead.\n",
      "  alma_mater_row = soup.find('th', text=lambda x: x and \"Alma\" in x)\n"
     ]
    },
    {
     "name": "stdout",
     "output_type": "stream",
     "text": [
      "[ DEBUG ] - Alma mater row not found for /wiki/Didier_Queloz\n",
      "[ DEBUG ] - Progress: 92.78656126482213%\n"
     ]
    },
    {
     "name": "stderr",
     "output_type": "stream",
     "text": [
      "C:\\Users\\zmorrato\\AppData\\Local\\Temp\\ipykernel_26412\\3563713887.py:21: DeprecationWarning: The 'text' argument to find()-type methods is deprecated. Use 'string' instead.\n",
      "  alma_mater_row = soup.find('th', text=lambda x: x and \"Alma\" in x)\n"
     ]
    },
    {
     "name": "stdout",
     "output_type": "stream",
     "text": [
      "[ DEBUG ] - Alma mater row not found for /wiki/John_B._Goodenough\n",
      "[ DEBUG ] - Progress: 92.88537549407114%\n"
     ]
    },
    {
     "name": "stderr",
     "output_type": "stream",
     "text": [
      "C:\\Users\\zmorrato\\AppData\\Local\\Temp\\ipykernel_26412\\3563713887.py:21: DeprecationWarning: The 'text' argument to find()-type methods is deprecated. Use 'string' instead.\n",
      "  alma_mater_row = soup.find('th', text=lambda x: x and \"Alma\" in x)\n"
     ]
    },
    {
     "name": "stdout",
     "output_type": "stream",
     "text": [
      "[ DEBUG ] - Progress: 92.98418972332016%\n"
     ]
    },
    {
     "name": "stderr",
     "output_type": "stream",
     "text": [
      "C:\\Users\\zmorrato\\AppData\\Local\\Temp\\ipykernel_26412\\3563713887.py:21: DeprecationWarning: The 'text' argument to find()-type methods is deprecated. Use 'string' instead.\n",
      "  alma_mater_row = soup.find('th', text=lambda x: x and \"Alma\" in x)\n"
     ]
    },
    {
     "name": "stdout",
     "output_type": "stream",
     "text": [
      "[ DEBUG ] - Alma mater row not found for /wiki/Akira_Yoshino\n",
      "[ DEBUG ] - Progress: 93.08300395256917%\n"
     ]
    },
    {
     "name": "stderr",
     "output_type": "stream",
     "text": [
      "C:\\Users\\zmorrato\\AppData\\Local\\Temp\\ipykernel_26412\\3563713887.py:21: DeprecationWarning: The 'text' argument to find()-type methods is deprecated. Use 'string' instead.\n",
      "  alma_mater_row = soup.find('th', text=lambda x: x and \"Alma\" in x)\n"
     ]
    },
    {
     "name": "stdout",
     "output_type": "stream",
     "text": [
      "[ DEBUG ] - Alma mater row not found for /wiki/William_Kaelin_Jr.\n",
      "[ DEBUG ] - Progress: 93.18181818181817%\n"
     ]
    },
    {
     "name": "stderr",
     "output_type": "stream",
     "text": [
      "C:\\Users\\zmorrato\\AppData\\Local\\Temp\\ipykernel_26412\\3563713887.py:21: DeprecationWarning: The 'text' argument to find()-type methods is deprecated. Use 'string' instead.\n",
      "  alma_mater_row = soup.find('th', text=lambda x: x and \"Alma\" in x)\n"
     ]
    },
    {
     "name": "stdout",
     "output_type": "stream",
     "text": [
      "[ DEBUG ] - Alma mater row not found for /wiki/Peter_J._Ratcliffe\n",
      "[ DEBUG ] - Progress: 93.2806324110672%\n"
     ]
    },
    {
     "name": "stderr",
     "output_type": "stream",
     "text": [
      "C:\\Users\\zmorrato\\AppData\\Local\\Temp\\ipykernel_26412\\3563713887.py:21: DeprecationWarning: The 'text' argument to find()-type methods is deprecated. Use 'string' instead.\n",
      "  alma_mater_row = soup.find('th', text=lambda x: x and \"Alma\" in x)\n"
     ]
    },
    {
     "name": "stdout",
     "output_type": "stream",
     "text": [
      "[ DEBUG ] - Alma mater row not found for /wiki/Gregg_L._Semenza\n",
      "[ DEBUG ] - Progress: 93.37944664031622%\n"
     ]
    },
    {
     "name": "stderr",
     "output_type": "stream",
     "text": [
      "C:\\Users\\zmorrato\\AppData\\Local\\Temp\\ipykernel_26412\\3563713887.py:21: DeprecationWarning: The 'text' argument to find()-type methods is deprecated. Use 'string' instead.\n",
      "  alma_mater_row = soup.find('th', text=lambda x: x and \"Alma\" in x)\n"
     ]
    },
    {
     "name": "stdout",
     "output_type": "stream",
     "text": [
      "[ DEBUG ] - Alma mater row not found for /wiki/Peter_Handke\n",
      "[ DEBUG ] - Progress: 93.47826086956522%\n"
     ]
    },
    {
     "name": "stderr",
     "output_type": "stream",
     "text": [
      "C:\\Users\\zmorrato\\AppData\\Local\\Temp\\ipykernel_26412\\3563713887.py:21: DeprecationWarning: The 'text' argument to find()-type methods is deprecated. Use 'string' instead.\n",
      "  alma_mater_row = soup.find('th', text=lambda x: x and \"Alma\" in x)\n"
     ]
    },
    {
     "name": "stdout",
     "output_type": "stream",
     "text": [
      "[ DEBUG ] - Alma mater row not found for /wiki/Abiy_Ahmed\n",
      "[ DEBUG ] - Progress: 93.57707509881423%\n"
     ]
    },
    {
     "name": "stderr",
     "output_type": "stream",
     "text": [
      "C:\\Users\\zmorrato\\AppData\\Local\\Temp\\ipykernel_26412\\3563713887.py:21: DeprecationWarning: The 'text' argument to find()-type methods is deprecated. Use 'string' instead.\n",
      "  alma_mater_row = soup.find('th', text=lambda x: x and \"Alma\" in x)\n"
     ]
    },
    {
     "name": "stdout",
     "output_type": "stream",
     "text": [
      "[ DEBUG ] - Progress: 93.67588932806325%\n"
     ]
    },
    {
     "name": "stderr",
     "output_type": "stream",
     "text": [
      "C:\\Users\\zmorrato\\AppData\\Local\\Temp\\ipykernel_26412\\3563713887.py:21: DeprecationWarning: The 'text' argument to find()-type methods is deprecated. Use 'string' instead.\n",
      "  alma_mater_row = soup.find('th', text=lambda x: x and \"Alma\" in x)\n"
     ]
    },
    {
     "name": "stdout",
     "output_type": "stream",
     "text": [
      "[ DEBUG ] - Alma mater row not found for /wiki/Esther_Duflo\n",
      "[ DEBUG ] - Progress: 93.77470355731225%\n"
     ]
    },
    {
     "name": "stderr",
     "output_type": "stream",
     "text": [
      "C:\\Users\\zmorrato\\AppData\\Local\\Temp\\ipykernel_26412\\3563713887.py:21: DeprecationWarning: The 'text' argument to find()-type methods is deprecated. Use 'string' instead.\n",
      "  alma_mater_row = soup.find('th', text=lambda x: x and \"Alma\" in x)\n"
     ]
    },
    {
     "name": "stdout",
     "output_type": "stream",
     "text": [
      "[ DEBUG ] - Progress: 93.87351778656127%\n"
     ]
    },
    {
     "name": "stderr",
     "output_type": "stream",
     "text": [
      "C:\\Users\\zmorrato\\AppData\\Local\\Temp\\ipykernel_26412\\3563713887.py:21: DeprecationWarning: The 'text' argument to find()-type methods is deprecated. Use 'string' instead.\n",
      "  alma_mater_row = soup.find('th', text=lambda x: x and \"Alma\" in x)\n"
     ]
    },
    {
     "name": "stdout",
     "output_type": "stream",
     "text": [
      "[ DEBUG ] - Alma mater row not found for /wiki/Roger_Penrose\n",
      "[ DEBUG ] - Progress: 93.97233201581028%\n"
     ]
    },
    {
     "name": "stderr",
     "output_type": "stream",
     "text": [
      "C:\\Users\\zmorrato\\AppData\\Local\\Temp\\ipykernel_26412\\3563713887.py:21: DeprecationWarning: The 'text' argument to find()-type methods is deprecated. Use 'string' instead.\n",
      "  alma_mater_row = soup.find('th', text=lambda x: x and \"Alma\" in x)\n"
     ]
    },
    {
     "name": "stdout",
     "output_type": "stream",
     "text": [
      "[ DEBUG ] - Alma mater row not found for /wiki/Reinhard_Genzel\n",
      "[ DEBUG ] - Progress: 94.0711462450593%\n"
     ]
    },
    {
     "name": "stderr",
     "output_type": "stream",
     "text": [
      "C:\\Users\\zmorrato\\AppData\\Local\\Temp\\ipykernel_26412\\3563713887.py:21: DeprecationWarning: The 'text' argument to find()-type methods is deprecated. Use 'string' instead.\n",
      "  alma_mater_row = soup.find('th', text=lambda x: x and \"Alma\" in x)\n"
     ]
    },
    {
     "name": "stdout",
     "output_type": "stream",
     "text": [
      "[ DEBUG ] - Alma mater row not found for /wiki/Andrea_M._Ghez\n",
      "[ DEBUG ] - Progress: 94.1699604743083%\n"
     ]
    },
    {
     "name": "stderr",
     "output_type": "stream",
     "text": [
      "C:\\Users\\zmorrato\\AppData\\Local\\Temp\\ipykernel_26412\\3563713887.py:21: DeprecationWarning: The 'text' argument to find()-type methods is deprecated. Use 'string' instead.\n",
      "  alma_mater_row = soup.find('th', text=lambda x: x and \"Alma\" in x)\n"
     ]
    },
    {
     "name": "stdout",
     "output_type": "stream",
     "text": [
      "[ DEBUG ] - Alma mater row not found for /wiki/Emmanuelle_Charpentier\n",
      "[ DEBUG ] - Progress: 94.26877470355731%\n"
     ]
    },
    {
     "name": "stderr",
     "output_type": "stream",
     "text": [
      "C:\\Users\\zmorrato\\AppData\\Local\\Temp\\ipykernel_26412\\3563713887.py:21: DeprecationWarning: The 'text' argument to find()-type methods is deprecated. Use 'string' instead.\n",
      "  alma_mater_row = soup.find('th', text=lambda x: x and \"Alma\" in x)\n"
     ]
    },
    {
     "name": "stdout",
     "output_type": "stream",
     "text": [
      "[ DEBUG ] - Alma mater row not found for /wiki/Jennifer_Doudna\n",
      "[ DEBUG ] - Progress: 94.36758893280633%\n"
     ]
    },
    {
     "name": "stderr",
     "output_type": "stream",
     "text": [
      "C:\\Users\\zmorrato\\AppData\\Local\\Temp\\ipykernel_26412\\3563713887.py:21: DeprecationWarning: The 'text' argument to find()-type methods is deprecated. Use 'string' instead.\n",
      "  alma_mater_row = soup.find('th', text=lambda x: x and \"Alma\" in x)\n"
     ]
    },
    {
     "name": "stdout",
     "output_type": "stream",
     "text": [
      "[ DEBUG ] - Alma mater row not found for /wiki/Harvey_J._Alter\n",
      "[ DEBUG ] - Progress: 94.46640316205533%\n"
     ]
    },
    {
     "name": "stderr",
     "output_type": "stream",
     "text": [
      "C:\\Users\\zmorrato\\AppData\\Local\\Temp\\ipykernel_26412\\3563713887.py:21: DeprecationWarning: The 'text' argument to find()-type methods is deprecated. Use 'string' instead.\n",
      "  alma_mater_row = soup.find('th', text=lambda x: x and \"Alma\" in x)\n"
     ]
    },
    {
     "name": "stdout",
     "output_type": "stream",
     "text": [
      "[ DEBUG ] - Progress: 94.56521739130434%\n"
     ]
    },
    {
     "name": "stderr",
     "output_type": "stream",
     "text": [
      "C:\\Users\\zmorrato\\AppData\\Local\\Temp\\ipykernel_26412\\3563713887.py:21: DeprecationWarning: The 'text' argument to find()-type methods is deprecated. Use 'string' instead.\n",
      "  alma_mater_row = soup.find('th', text=lambda x: x and \"Alma\" in x)\n"
     ]
    },
    {
     "name": "stdout",
     "output_type": "stream",
     "text": [
      "[ DEBUG ] - Progress: 94.66403162055336%\n"
     ]
    },
    {
     "name": "stderr",
     "output_type": "stream",
     "text": [
      "C:\\Users\\zmorrato\\AppData\\Local\\Temp\\ipykernel_26412\\3563713887.py:21: DeprecationWarning: The 'text' argument to find()-type methods is deprecated. Use 'string' instead.\n",
      "  alma_mater_row = soup.find('th', text=lambda x: x and \"Alma\" in x)\n"
     ]
    },
    {
     "name": "stdout",
     "output_type": "stream",
     "text": [
      "[ DEBUG ] - Alma mater row not found for /wiki/Louise_Gl%C3%BCck\n",
      "[ DEBUG ] - Progress: 94.76284584980237%\n"
     ]
    },
    {
     "name": "stderr",
     "output_type": "stream",
     "text": [
      "C:\\Users\\zmorrato\\AppData\\Local\\Temp\\ipykernel_26412\\3563713887.py:21: DeprecationWarning: The 'text' argument to find()-type methods is deprecated. Use 'string' instead.\n",
      "  alma_mater_row = soup.find('th', text=lambda x: x and \"Alma\" in x)\n"
     ]
    },
    {
     "name": "stdout",
     "output_type": "stream",
     "text": [
      "[ DEBUG ] - Alma mater row not found for /wiki/World_Food_Programme\n",
      "[ DEBUG ] - Progress: 94.86166007905138%\n"
     ]
    },
    {
     "name": "stderr",
     "output_type": "stream",
     "text": [
      "C:\\Users\\zmorrato\\AppData\\Local\\Temp\\ipykernel_26412\\3563713887.py:21: DeprecationWarning: The 'text' argument to find()-type methods is deprecated. Use 'string' instead.\n",
      "  alma_mater_row = soup.find('th', text=lambda x: x and \"Alma\" in x)\n"
     ]
    },
    {
     "name": "stdout",
     "output_type": "stream",
     "text": [
      "[ DEBUG ] - Alma mater row not found for /wiki/Paul_Milgrom\n",
      "[ DEBUG ] - Progress: 94.96047430830039%\n"
     ]
    },
    {
     "name": "stderr",
     "output_type": "stream",
     "text": [
      "C:\\Users\\zmorrato\\AppData\\Local\\Temp\\ipykernel_26412\\3563713887.py:21: DeprecationWarning: The 'text' argument to find()-type methods is deprecated. Use 'string' instead.\n",
      "  alma_mater_row = soup.find('th', text=lambda x: x and \"Alma\" in x)\n"
     ]
    },
    {
     "name": "stdout",
     "output_type": "stream",
     "text": [
      "[ DEBUG ] - Alma mater row not found for /wiki/Robert_B._Wilson\n",
      "[ DEBUG ] - Progress: 95.0592885375494%\n"
     ]
    },
    {
     "name": "stderr",
     "output_type": "stream",
     "text": [
      "C:\\Users\\zmorrato\\AppData\\Local\\Temp\\ipykernel_26412\\3563713887.py:21: DeprecationWarning: The 'text' argument to find()-type methods is deprecated. Use 'string' instead.\n",
      "  alma_mater_row = soup.find('th', text=lambda x: x and \"Alma\" in x)\n"
     ]
    },
    {
     "name": "stdout",
     "output_type": "stream",
     "text": [
      "[ DEBUG ] - Alma mater row not found for /wiki/Giorgio_Parisi\n",
      "[ DEBUG ] - Progress: 95.15810276679841%\n"
     ]
    },
    {
     "name": "stderr",
     "output_type": "stream",
     "text": [
      "C:\\Users\\zmorrato\\AppData\\Local\\Temp\\ipykernel_26412\\3563713887.py:21: DeprecationWarning: The 'text' argument to find()-type methods is deprecated. Use 'string' instead.\n",
      "  alma_mater_row = soup.find('th', text=lambda x: x and \"Alma\" in x)\n"
     ]
    },
    {
     "name": "stdout",
     "output_type": "stream",
     "text": [
      "[ DEBUG ] - Alma mater row not found for /wiki/Klaus_Hasselmann\n",
      "[ DEBUG ] - Progress: 95.25691699604744%\n"
     ]
    },
    {
     "name": "stderr",
     "output_type": "stream",
     "text": [
      "C:\\Users\\zmorrato\\AppData\\Local\\Temp\\ipykernel_26412\\3563713887.py:21: DeprecationWarning: The 'text' argument to find()-type methods is deprecated. Use 'string' instead.\n",
      "  alma_mater_row = soup.find('th', text=lambda x: x and \"Alma\" in x)\n"
     ]
    },
    {
     "name": "stdout",
     "output_type": "stream",
     "text": [
      "[ DEBUG ] - Alma mater row not found for /wiki/Syukuro_Manabe\n",
      "[ DEBUG ] - Progress: 95.35573122529645%\n"
     ]
    },
    {
     "name": "stderr",
     "output_type": "stream",
     "text": [
      "C:\\Users\\zmorrato\\AppData\\Local\\Temp\\ipykernel_26412\\3563713887.py:21: DeprecationWarning: The 'text' argument to find()-type methods is deprecated. Use 'string' instead.\n",
      "  alma_mater_row = soup.find('th', text=lambda x: x and \"Alma\" in x)\n"
     ]
    },
    {
     "name": "stdout",
     "output_type": "stream",
     "text": [
      "[ DEBUG ] - Alma mater row not found for /wiki/Benjamin_List\n",
      "[ DEBUG ] - Progress: 95.45454545454545%\n"
     ]
    },
    {
     "name": "stderr",
     "output_type": "stream",
     "text": [
      "C:\\Users\\zmorrato\\AppData\\Local\\Temp\\ipykernel_26412\\3563713887.py:21: DeprecationWarning: The 'text' argument to find()-type methods is deprecated. Use 'string' instead.\n",
      "  alma_mater_row = soup.find('th', text=lambda x: x and \"Alma\" in x)\n"
     ]
    },
    {
     "name": "stdout",
     "output_type": "stream",
     "text": [
      "[ DEBUG ] - Progress: 95.55335968379447%\n"
     ]
    },
    {
     "name": "stderr",
     "output_type": "stream",
     "text": [
      "C:\\Users\\zmorrato\\AppData\\Local\\Temp\\ipykernel_26412\\3563713887.py:21: DeprecationWarning: The 'text' argument to find()-type methods is deprecated. Use 'string' instead.\n",
      "  alma_mater_row = soup.find('th', text=lambda x: x and \"Alma\" in x)\n"
     ]
    },
    {
     "name": "stdout",
     "output_type": "stream",
     "text": [
      "[ DEBUG ] - Alma mater row not found for /wiki/David_Julius\n",
      "[ DEBUG ] - Progress: 95.65217391304348%\n"
     ]
    },
    {
     "name": "stderr",
     "output_type": "stream",
     "text": [
      "C:\\Users\\zmorrato\\AppData\\Local\\Temp\\ipykernel_26412\\3563713887.py:21: DeprecationWarning: The 'text' argument to find()-type methods is deprecated. Use 'string' instead.\n",
      "  alma_mater_row = soup.find('th', text=lambda x: x and \"Alma\" in x)\n"
     ]
    },
    {
     "name": "stdout",
     "output_type": "stream",
     "text": [
      "[ DEBUG ] - Alma mater row not found for /wiki/Ardem_Patapoutian\n",
      "[ DEBUG ] - Progress: 95.7509881422925%\n"
     ]
    },
    {
     "name": "stderr",
     "output_type": "stream",
     "text": [
      "C:\\Users\\zmorrato\\AppData\\Local\\Temp\\ipykernel_26412\\3563713887.py:21: DeprecationWarning: The 'text' argument to find()-type methods is deprecated. Use 'string' instead.\n",
      "  alma_mater_row = soup.find('th', text=lambda x: x and \"Alma\" in x)\n"
     ]
    },
    {
     "name": "stdout",
     "output_type": "stream",
     "text": [
      "[ DEBUG ] - Alma mater row not found for /wiki/Abdulrazak_Gurnah\n",
      "[ DEBUG ] - Progress: 95.8498023715415%\n"
     ]
    },
    {
     "name": "stderr",
     "output_type": "stream",
     "text": [
      "C:\\Users\\zmorrato\\AppData\\Local\\Temp\\ipykernel_26412\\3563713887.py:21: DeprecationWarning: The 'text' argument to find()-type methods is deprecated. Use 'string' instead.\n",
      "  alma_mater_row = soup.find('th', text=lambda x: x and \"Alma\" in x)\n"
     ]
    },
    {
     "name": "stdout",
     "output_type": "stream",
     "text": [
      "[ DEBUG ] - Alma mater row not found for /wiki/Maria_Ressa\n",
      "[ DEBUG ] - Progress: 95.94861660079052%\n"
     ]
    },
    {
     "name": "stderr",
     "output_type": "stream",
     "text": [
      "C:\\Users\\zmorrato\\AppData\\Local\\Temp\\ipykernel_26412\\3563713887.py:21: DeprecationWarning: The 'text' argument to find()-type methods is deprecated. Use 'string' instead.\n",
      "  alma_mater_row = soup.find('th', text=lambda x: x and \"Alma\" in x)\n"
     ]
    },
    {
     "name": "stdout",
     "output_type": "stream",
     "text": [
      "[ DEBUG ] - Alma mater row not found for /wiki/Dmitry_Muratov\n",
      "[ DEBUG ] - Progress: 96.04743083003953%\n"
     ]
    },
    {
     "name": "stderr",
     "output_type": "stream",
     "text": [
      "C:\\Users\\zmorrato\\AppData\\Local\\Temp\\ipykernel_26412\\3563713887.py:21: DeprecationWarning: The 'text' argument to find()-type methods is deprecated. Use 'string' instead.\n",
      "  alma_mater_row = soup.find('th', text=lambda x: x and \"Alma\" in x)\n"
     ]
    },
    {
     "name": "stdout",
     "output_type": "stream",
     "text": [
      "[ DEBUG ] - Alma mater row not found for /wiki/David_Card\n",
      "[ DEBUG ] - Progress: 96.14624505928853%\n"
     ]
    },
    {
     "name": "stderr",
     "output_type": "stream",
     "text": [
      "C:\\Users\\zmorrato\\AppData\\Local\\Temp\\ipykernel_26412\\3563713887.py:21: DeprecationWarning: The 'text' argument to find()-type methods is deprecated. Use 'string' instead.\n",
      "  alma_mater_row = soup.find('th', text=lambda x: x and \"Alma\" in x)\n"
     ]
    },
    {
     "name": "stdout",
     "output_type": "stream",
     "text": [
      "[ DEBUG ] - Alma mater row not found for /wiki/Joshua_Angrist\n",
      "[ DEBUG ] - Progress: 96.24505928853755%\n"
     ]
    },
    {
     "name": "stderr",
     "output_type": "stream",
     "text": [
      "C:\\Users\\zmorrato\\AppData\\Local\\Temp\\ipykernel_26412\\3563713887.py:21: DeprecationWarning: The 'text' argument to find()-type methods is deprecated. Use 'string' instead.\n",
      "  alma_mater_row = soup.find('th', text=lambda x: x and \"Alma\" in x)\n"
     ]
    },
    {
     "name": "stdout",
     "output_type": "stream",
     "text": [
      "[ DEBUG ] - Progress: 96.34387351778656%\n"
     ]
    },
    {
     "name": "stderr",
     "output_type": "stream",
     "text": [
      "C:\\Users\\zmorrato\\AppData\\Local\\Temp\\ipykernel_26412\\3563713887.py:21: DeprecationWarning: The 'text' argument to find()-type methods is deprecated. Use 'string' instead.\n",
      "  alma_mater_row = soup.find('th', text=lambda x: x and \"Alma\" in x)\n"
     ]
    },
    {
     "name": "stdout",
     "output_type": "stream",
     "text": [
      "[ DEBUG ] - Progress: 96.44268774703558%\n"
     ]
    },
    {
     "name": "stderr",
     "output_type": "stream",
     "text": [
      "C:\\Users\\zmorrato\\AppData\\Local\\Temp\\ipykernel_26412\\3563713887.py:21: DeprecationWarning: The 'text' argument to find()-type methods is deprecated. Use 'string' instead.\n",
      "  alma_mater_row = soup.find('th', text=lambda x: x and \"Alma\" in x)\n"
     ]
    },
    {
     "name": "stdout",
     "output_type": "stream",
     "text": [
      "[ DEBUG ] - Alma mater row not found for /wiki/John_Clauser\n",
      "[ DEBUG ] - Progress: 96.54150197628458%\n"
     ]
    },
    {
     "name": "stderr",
     "output_type": "stream",
     "text": [
      "C:\\Users\\zmorrato\\AppData\\Local\\Temp\\ipykernel_26412\\3563713887.py:21: DeprecationWarning: The 'text' argument to find()-type methods is deprecated. Use 'string' instead.\n",
      "  alma_mater_row = soup.find('th', text=lambda x: x and \"Alma\" in x)\n"
     ]
    },
    {
     "name": "stdout",
     "output_type": "stream",
     "text": [
      "[ DEBUG ] - Progress: 96.6403162055336%\n"
     ]
    },
    {
     "name": "stderr",
     "output_type": "stream",
     "text": [
      "C:\\Users\\zmorrato\\AppData\\Local\\Temp\\ipykernel_26412\\3563713887.py:21: DeprecationWarning: The 'text' argument to find()-type methods is deprecated. Use 'string' instead.\n",
      "  alma_mater_row = soup.find('th', text=lambda x: x and \"Alma\" in x)\n"
     ]
    },
    {
     "name": "stdout",
     "output_type": "stream",
     "text": [
      "[ DEBUG ] - Alma mater row not found for /wiki/Carolyn_Bertozzi\n",
      "[ DEBUG ] - Progress: 96.73913043478261%\n"
     ]
    },
    {
     "name": "stderr",
     "output_type": "stream",
     "text": [
      "C:\\Users\\zmorrato\\AppData\\Local\\Temp\\ipykernel_26412\\3563713887.py:21: DeprecationWarning: The 'text' argument to find()-type methods is deprecated. Use 'string' instead.\n",
      "  alma_mater_row = soup.find('th', text=lambda x: x and \"Alma\" in x)\n"
     ]
    },
    {
     "name": "stdout",
     "output_type": "stream",
     "text": [
      "[ DEBUG ] - Alma mater row not found for /wiki/Morten_P._Meldal\n",
      "[ DEBUG ] - Progress: 96.83794466403161%\n"
     ]
    },
    {
     "name": "stderr",
     "output_type": "stream",
     "text": [
      "C:\\Users\\zmorrato\\AppData\\Local\\Temp\\ipykernel_26412\\3563713887.py:21: DeprecationWarning: The 'text' argument to find()-type methods is deprecated. Use 'string' instead.\n",
      "  alma_mater_row = soup.find('th', text=lambda x: x and \"Alma\" in x)\n"
     ]
    },
    {
     "name": "stdout",
     "output_type": "stream",
     "text": [
      "[ DEBUG ] - Progress: 96.93675889328063%\n"
     ]
    },
    {
     "name": "stderr",
     "output_type": "stream",
     "text": [
      "C:\\Users\\zmorrato\\AppData\\Local\\Temp\\ipykernel_26412\\3563713887.py:21: DeprecationWarning: The 'text' argument to find()-type methods is deprecated. Use 'string' instead.\n",
      "  alma_mater_row = soup.find('th', text=lambda x: x and \"Alma\" in x)\n"
     ]
    },
    {
     "name": "stdout",
     "output_type": "stream",
     "text": [
      "[ DEBUG ] - Alma mater row not found for /wiki/Svante_P%C3%A4%C3%A4bo\n",
      "[ DEBUG ] - Progress: 97.03557312252964%\n"
     ]
    },
    {
     "name": "stderr",
     "output_type": "stream",
     "text": [
      "C:\\Users\\zmorrato\\AppData\\Local\\Temp\\ipykernel_26412\\3563713887.py:21: DeprecationWarning: The 'text' argument to find()-type methods is deprecated. Use 'string' instead.\n",
      "  alma_mater_row = soup.find('th', text=lambda x: x and \"Alma\" in x)\n"
     ]
    },
    {
     "name": "stdout",
     "output_type": "stream",
     "text": [
      "[ DEBUG ] - Alma mater row not found for /wiki/Annie_Ernaux\n",
      "[ DEBUG ] - Progress: 97.13438735177866%\n"
     ]
    },
    {
     "name": "stderr",
     "output_type": "stream",
     "text": [
      "C:\\Users\\zmorrato\\AppData\\Local\\Temp\\ipykernel_26412\\3563713887.py:21: DeprecationWarning: The 'text' argument to find()-type methods is deprecated. Use 'string' instead.\n",
      "  alma_mater_row = soup.find('th', text=lambda x: x and \"Alma\" in x)\n"
     ]
    },
    {
     "name": "stdout",
     "output_type": "stream",
     "text": [
      "[ DEBUG ] - Alma mater row not found for /wiki/Ales_Bialiatski\n",
      "[ DEBUG ] - Progress: 97.23320158102767%\n"
     ]
    },
    {
     "name": "stderr",
     "output_type": "stream",
     "text": [
      "C:\\Users\\zmorrato\\AppData\\Local\\Temp\\ipykernel_26412\\3563713887.py:21: DeprecationWarning: The 'text' argument to find()-type methods is deprecated. Use 'string' instead.\n",
      "  alma_mater_row = soup.find('th', text=lambda x: x and \"Alma\" in x)\n"
     ]
    },
    {
     "name": "stdout",
     "output_type": "stream",
     "text": [
      "[ DEBUG ] - Alma mater row not found for /wiki/Memorial_(society)\n",
      "[ DEBUG ] - Progress: 97.33201581027669%\n"
     ]
    },
    {
     "name": "stderr",
     "output_type": "stream",
     "text": [
      "C:\\Users\\zmorrato\\AppData\\Local\\Temp\\ipykernel_26412\\3563713887.py:21: DeprecationWarning: The 'text' argument to find()-type methods is deprecated. Use 'string' instead.\n",
      "  alma_mater_row = soup.find('th', text=lambda x: x and \"Alma\" in x)\n"
     ]
    },
    {
     "name": "stdout",
     "output_type": "stream",
     "text": [
      "[ DEBUG ] - Alma mater row not found for /wiki/Center_for_Civil_Liberties_(human_rights_organization)\n",
      "[ DEBUG ] - Progress: 97.4308300395257%\n"
     ]
    },
    {
     "name": "stderr",
     "output_type": "stream",
     "text": [
      "C:\\Users\\zmorrato\\AppData\\Local\\Temp\\ipykernel_26412\\3563713887.py:21: DeprecationWarning: The 'text' argument to find()-type methods is deprecated. Use 'string' instead.\n",
      "  alma_mater_row = soup.find('th', text=lambda x: x and \"Alma\" in x)\n"
     ]
    },
    {
     "name": "stdout",
     "output_type": "stream",
     "text": [
      "[ DEBUG ] - Alma mater row not found for /wiki/Ben_Bernanke\n",
      "[ DEBUG ] - Progress: 97.5296442687747%\n"
     ]
    },
    {
     "name": "stderr",
     "output_type": "stream",
     "text": [
      "C:\\Users\\zmorrato\\AppData\\Local\\Temp\\ipykernel_26412\\3563713887.py:21: DeprecationWarning: The 'text' argument to find()-type methods is deprecated. Use 'string' instead.\n",
      "  alma_mater_row = soup.find('th', text=lambda x: x and \"Alma\" in x)\n"
     ]
    },
    {
     "name": "stdout",
     "output_type": "stream",
     "text": [
      "[ DEBUG ] - Alma mater row not found for /wiki/Douglas_Diamond\n",
      "[ DEBUG ] - Progress: 97.62845849802372%\n"
     ]
    },
    {
     "name": "stderr",
     "output_type": "stream",
     "text": [
      "C:\\Users\\zmorrato\\AppData\\Local\\Temp\\ipykernel_26412\\3563713887.py:21: DeprecationWarning: The 'text' argument to find()-type methods is deprecated. Use 'string' instead.\n",
      "  alma_mater_row = soup.find('th', text=lambda x: x and \"Alma\" in x)\n"
     ]
    },
    {
     "name": "stdout",
     "output_type": "stream",
     "text": [
      "[ DEBUG ] - Alma mater row not found for /wiki/Philip_H._Dybvig\n",
      "[ DEBUG ] - Progress: 97.72727272727273%\n"
     ]
    },
    {
     "name": "stderr",
     "output_type": "stream",
     "text": [
      "C:\\Users\\zmorrato\\AppData\\Local\\Temp\\ipykernel_26412\\3563713887.py:21: DeprecationWarning: The 'text' argument to find()-type methods is deprecated. Use 'string' instead.\n",
      "  alma_mater_row = soup.find('th', text=lambda x: x and \"Alma\" in x)\n"
     ]
    },
    {
     "name": "stdout",
     "output_type": "stream",
     "text": [
      "[ DEBUG ] - Progress: 97.82608695652173%\n"
     ]
    },
    {
     "name": "stderr",
     "output_type": "stream",
     "text": [
      "C:\\Users\\zmorrato\\AppData\\Local\\Temp\\ipykernel_26412\\3563713887.py:21: DeprecationWarning: The 'text' argument to find()-type methods is deprecated. Use 'string' instead.\n",
      "  alma_mater_row = soup.find('th', text=lambda x: x and \"Alma\" in x)\n"
     ]
    },
    {
     "name": "stdout",
     "output_type": "stream",
     "text": [
      "[ DEBUG ] - Alma mater row not found for /wiki/Ferenc_Krausz\n",
      "[ DEBUG ] - Progress: 97.92490118577075%\n"
     ]
    },
    {
     "name": "stderr",
     "output_type": "stream",
     "text": [
      "C:\\Users\\zmorrato\\AppData\\Local\\Temp\\ipykernel_26412\\3563713887.py:21: DeprecationWarning: The 'text' argument to find()-type methods is deprecated. Use 'string' instead.\n",
      "  alma_mater_row = soup.find('th', text=lambda x: x and \"Alma\" in x)\n"
     ]
    },
    {
     "name": "stdout",
     "output_type": "stream",
     "text": [
      "[ DEBUG ] - Alma mater row not found for /wiki/Anne_L%27Huillier\n",
      "[ DEBUG ] - Progress: 98.02371541501977%\n"
     ]
    },
    {
     "name": "stderr",
     "output_type": "stream",
     "text": [
      "C:\\Users\\zmorrato\\AppData\\Local\\Temp\\ipykernel_26412\\3563713887.py:21: DeprecationWarning: The 'text' argument to find()-type methods is deprecated. Use 'string' instead.\n",
      "  alma_mater_row = soup.find('th', text=lambda x: x and \"Alma\" in x)\n"
     ]
    },
    {
     "name": "stdout",
     "output_type": "stream",
     "text": [
      "[ DEBUG ] - Alma mater row not found for /wiki/Moungi_Bawendi\n",
      "[ DEBUG ] - Progress: 98.12252964426878%\n"
     ]
    },
    {
     "name": "stderr",
     "output_type": "stream",
     "text": [
      "C:\\Users\\zmorrato\\AppData\\Local\\Temp\\ipykernel_26412\\3563713887.py:21: DeprecationWarning: The 'text' argument to find()-type methods is deprecated. Use 'string' instead.\n",
      "  alma_mater_row = soup.find('th', text=lambda x: x and \"Alma\" in x)\n"
     ]
    },
    {
     "name": "stdout",
     "output_type": "stream",
     "text": [
      "[ DEBUG ] - Alma mater row not found for /wiki/Louis_E._Brus\n",
      "[ DEBUG ] - Progress: 98.22134387351778%\n"
     ]
    },
    {
     "name": "stderr",
     "output_type": "stream",
     "text": [
      "C:\\Users\\zmorrato\\AppData\\Local\\Temp\\ipykernel_26412\\3563713887.py:21: DeprecationWarning: The 'text' argument to find()-type methods is deprecated. Use 'string' instead.\n",
      "  alma_mater_row = soup.find('th', text=lambda x: x and \"Alma\" in x)\n"
     ]
    },
    {
     "name": "stdout",
     "output_type": "stream",
     "text": [
      "[ DEBUG ] - Alma mater row not found for /wiki/Alexey_Ekimov\n",
      "[ DEBUG ] - Progress: 98.3201581027668%\n"
     ]
    },
    {
     "name": "stderr",
     "output_type": "stream",
     "text": [
      "C:\\Users\\zmorrato\\AppData\\Local\\Temp\\ipykernel_26412\\3563713887.py:21: DeprecationWarning: The 'text' argument to find()-type methods is deprecated. Use 'string' instead.\n",
      "  alma_mater_row = soup.find('th', text=lambda x: x and \"Alma\" in x)\n"
     ]
    },
    {
     "name": "stdout",
     "output_type": "stream",
     "text": [
      "[ DEBUG ] - Alma mater row not found for /wiki/Katalin_Karik%C3%B3\n",
      "[ DEBUG ] - Progress: 98.41897233201581%\n"
     ]
    },
    {
     "name": "stderr",
     "output_type": "stream",
     "text": [
      "C:\\Users\\zmorrato\\AppData\\Local\\Temp\\ipykernel_26412\\3563713887.py:21: DeprecationWarning: The 'text' argument to find()-type methods is deprecated. Use 'string' instead.\n",
      "  alma_mater_row = soup.find('th', text=lambda x: x and \"Alma\" in x)\n"
     ]
    },
    {
     "name": "stdout",
     "output_type": "stream",
     "text": [
      "[ DEBUG ] - Alma mater row not found for /wiki/Drew_Weissman\n",
      "[ DEBUG ] - Progress: 98.51778656126481%\n"
     ]
    },
    {
     "name": "stderr",
     "output_type": "stream",
     "text": [
      "C:\\Users\\zmorrato\\AppData\\Local\\Temp\\ipykernel_26412\\3563713887.py:21: DeprecationWarning: The 'text' argument to find()-type methods is deprecated. Use 'string' instead.\n",
      "  alma_mater_row = soup.find('th', text=lambda x: x and \"Alma\" in x)\n"
     ]
    },
    {
     "name": "stdout",
     "output_type": "stream",
     "text": [
      "[ DEBUG ] - Alma mater row not found for /wiki/Jon_Fosse\n",
      "[ DEBUG ] - Progress: 98.61660079051383%\n"
     ]
    },
    {
     "name": "stderr",
     "output_type": "stream",
     "text": [
      "C:\\Users\\zmorrato\\AppData\\Local\\Temp\\ipykernel_26412\\3563713887.py:21: DeprecationWarning: The 'text' argument to find()-type methods is deprecated. Use 'string' instead.\n",
      "  alma_mater_row = soup.find('th', text=lambda x: x and \"Alma\" in x)\n"
     ]
    },
    {
     "name": "stdout",
     "output_type": "stream",
     "text": [
      "[ DEBUG ] - Alma mater row not found for /wiki/Narges_Mohammadi\n",
      "[ DEBUG ] - Progress: 98.71541501976284%\n"
     ]
    },
    {
     "name": "stderr",
     "output_type": "stream",
     "text": [
      "C:\\Users\\zmorrato\\AppData\\Local\\Temp\\ipykernel_26412\\3563713887.py:21: DeprecationWarning: The 'text' argument to find()-type methods is deprecated. Use 'string' instead.\n",
      "  alma_mater_row = soup.find('th', text=lambda x: x and \"Alma\" in x)\n"
     ]
    },
    {
     "name": "stdout",
     "output_type": "stream",
     "text": [
      "[ DEBUG ] - Alma mater row not found for /wiki/Claudia_Goldin\n",
      "[ DEBUG ] - Progress: 98.81422924901186%\n"
     ]
    },
    {
     "name": "stderr",
     "output_type": "stream",
     "text": [
      "C:\\Users\\zmorrato\\AppData\\Local\\Temp\\ipykernel_26412\\3563713887.py:21: DeprecationWarning: The 'text' argument to find()-type methods is deprecated. Use 'string' instead.\n",
      "  alma_mater_row = soup.find('th', text=lambda x: x and \"Alma\" in x)\n"
     ]
    },
    {
     "name": "stdout",
     "output_type": "stream",
     "text": [
      "[ DEBUG ] - Alma mater row not found for /wiki/John_Hopfield\n",
      "[ DEBUG ] - Progress: 98.91304347826086%\n"
     ]
    },
    {
     "name": "stderr",
     "output_type": "stream",
     "text": [
      "C:\\Users\\zmorrato\\AppData\\Local\\Temp\\ipykernel_26412\\3563713887.py:21: DeprecationWarning: The 'text' argument to find()-type methods is deprecated. Use 'string' instead.\n",
      "  alma_mater_row = soup.find('th', text=lambda x: x and \"Alma\" in x)\n"
     ]
    },
    {
     "name": "stdout",
     "output_type": "stream",
     "text": [
      "[ DEBUG ] - Progress: 99.01185770750988%\n"
     ]
    },
    {
     "name": "stderr",
     "output_type": "stream",
     "text": [
      "C:\\Users\\zmorrato\\AppData\\Local\\Temp\\ipykernel_26412\\3563713887.py:21: DeprecationWarning: The 'text' argument to find()-type methods is deprecated. Use 'string' instead.\n",
      "  alma_mater_row = soup.find('th', text=lambda x: x and \"Alma\" in x)\n"
     ]
    },
    {
     "name": "stdout",
     "output_type": "stream",
     "text": [
      "[ DEBUG ] - Progress: 99.1106719367589%\n"
     ]
    },
    {
     "name": "stderr",
     "output_type": "stream",
     "text": [
      "C:\\Users\\zmorrato\\AppData\\Local\\Temp\\ipykernel_26412\\3563713887.py:21: DeprecationWarning: The 'text' argument to find()-type methods is deprecated. Use 'string' instead.\n",
      "  alma_mater_row = soup.find('th', text=lambda x: x and \"Alma\" in x)\n"
     ]
    },
    {
     "name": "stdout",
     "output_type": "stream",
     "text": [
      "[ DEBUG ] - Progress: 99.2094861660079%\n"
     ]
    },
    {
     "name": "stderr",
     "output_type": "stream",
     "text": [
      "C:\\Users\\zmorrato\\AppData\\Local\\Temp\\ipykernel_26412\\3563713887.py:21: DeprecationWarning: The 'text' argument to find()-type methods is deprecated. Use 'string' instead.\n",
      "  alma_mater_row = soup.find('th', text=lambda x: x and \"Alma\" in x)\n"
     ]
    },
    {
     "name": "stdout",
     "output_type": "stream",
     "text": [
      "[ DEBUG ] - Alma mater row not found for /wiki/John_M._Jumper\n",
      "[ DEBUG ] - Progress: 99.30830039525692%\n"
     ]
    },
    {
     "name": "stderr",
     "output_type": "stream",
     "text": [
      "C:\\Users\\zmorrato\\AppData\\Local\\Temp\\ipykernel_26412\\3563713887.py:21: DeprecationWarning: The 'text' argument to find()-type methods is deprecated. Use 'string' instead.\n",
      "  alma_mater_row = soup.find('th', text=lambda x: x and \"Alma\" in x)\n"
     ]
    },
    {
     "name": "stdout",
     "output_type": "stream",
     "text": [
      "[ DEBUG ] - Progress: 99.40711462450594%\n"
     ]
    },
    {
     "name": "stderr",
     "output_type": "stream",
     "text": [
      "C:\\Users\\zmorrato\\AppData\\Local\\Temp\\ipykernel_26412\\3563713887.py:21: DeprecationWarning: The 'text' argument to find()-type methods is deprecated. Use 'string' instead.\n",
      "  alma_mater_row = soup.find('th', text=lambda x: x and \"Alma\" in x)\n"
     ]
    },
    {
     "name": "stdout",
     "output_type": "stream",
     "text": [
      "[ DEBUG ] - Progress: 99.50592885375494%\n"
     ]
    },
    {
     "name": "stderr",
     "output_type": "stream",
     "text": [
      "C:\\Users\\zmorrato\\AppData\\Local\\Temp\\ipykernel_26412\\3563713887.py:21: DeprecationWarning: The 'text' argument to find()-type methods is deprecated. Use 'string' instead.\n",
      "  alma_mater_row = soup.find('th', text=lambda x: x and \"Alma\" in x)\n"
     ]
    },
    {
     "name": "stdout",
     "output_type": "stream",
     "text": [
      "[ DEBUG ] - Progress: 99.60474308300395%\n"
     ]
    },
    {
     "name": "stderr",
     "output_type": "stream",
     "text": [
      "C:\\Users\\zmorrato\\AppData\\Local\\Temp\\ipykernel_26412\\3563713887.py:21: DeprecationWarning: The 'text' argument to find()-type methods is deprecated. Use 'string' instead.\n",
      "  alma_mater_row = soup.find('th', text=lambda x: x and \"Alma\" in x)\n"
     ]
    },
    {
     "name": "stdout",
     "output_type": "stream",
     "text": [
      "[ DEBUG ] - Alma mater row not found for /wiki/Nihon_Hidankyo\n",
      "[ DEBUG ] - Progress: 99.70355731225297%\n"
     ]
    },
    {
     "name": "stderr",
     "output_type": "stream",
     "text": [
      "C:\\Users\\zmorrato\\AppData\\Local\\Temp\\ipykernel_26412\\3563713887.py:21: DeprecationWarning: The 'text' argument to find()-type methods is deprecated. Use 'string' instead.\n",
      "  alma_mater_row = soup.find('th', text=lambda x: x and \"Alma\" in x)\n"
     ]
    },
    {
     "name": "stdout",
     "output_type": "stream",
     "text": [
      "[ DEBUG ] - Alma mater row not found for /wiki/Daron_Acemoglu\n",
      "[ DEBUG ] - Progress: 99.80237154150198%\n"
     ]
    },
    {
     "name": "stderr",
     "output_type": "stream",
     "text": [
      "C:\\Users\\zmorrato\\AppData\\Local\\Temp\\ipykernel_26412\\3563713887.py:21: DeprecationWarning: The 'text' argument to find()-type methods is deprecated. Use 'string' instead.\n",
      "  alma_mater_row = soup.find('th', text=lambda x: x and \"Alma\" in x)\n"
     ]
    },
    {
     "name": "stdout",
     "output_type": "stream",
     "text": [
      "[ DEBUG ] - Alma mater row not found for /wiki/Simon_Johnson_(economist)\n",
      "[ DEBUG ] - Progress: 99.90118577075098%\n",
      "[ DEBUG ] - Alma mater row not found for /wiki/James_A._Robinson\n",
      "[ DEBUG ] - Progress: 100.0%\n",
      "{\"Laureate\":\"Wilhelm_R%C3%B6ntgen\",\"Alma Mater\":\"ETH Zurich || University of Zurich || PhD\"}\n",
      "{\"Laureate\":\"Jacobus_Henricus_van_%27t_Hoff\",\"Alma Mater\":\"Delft University of Technology || University of Leiden || University of Bonn || University of Paris || University of Utrecht\"}\n",
      "{\"Laureate\":\"Emil_von_Behring\",\"Alma Mater\":\"N\\/A\"}\n",
      "{\"Laureate\":\"Sully_Prudhomme\",\"Alma Mater\":\"N\\/A\"}\n",
      "{\"Laureate\":\"Henry_Dunant\",\"Alma Mater\":\"N\\/A\"}\n",
      "{\"Laureate\":\"Fr%C3%A9d%C3%A9ric_Passy\",\"Alma Mater\":\"N\\/A\"}\n",
      "{\"Laureate\":\"Hendrik_Lorentz\",\"Alma Mater\":\"University of Leiden\"}\n",
      "{\"Laureate\":\"Pieter_Zeeman\",\"Alma Mater\":\"University of Leiden\"}\n",
      "{\"Laureate\":\"Emil_Fischer\",\"Alma Mater\":\"University of Bonn || University of Strasbourg\"}\n",
      "{\"Laureate\":\"Ronald_Ross\",\"Alma Mater\":\"St Bartholomew's Hospital Medical College\"}\n",
      "{\"Laureate\":\"Theodor_Mommsen\",\"Alma Mater\":\"N\\/A\"}\n",
      "{\"Laureate\":\"%C3%89lie_Ducommun\",\"Alma Mater\":\"N\\/A\"}\n",
      "{\"Laureate\":\"Charles_Albert_Gobat\",\"Alma Mater\":\"N\\/A\"}\n",
      "{\"Laureate\":\"Henri_Becquerel\",\"Alma Mater\":\"\\u00c9cole Polytechnique || \\u00c9cole des Ponts et Chauss\\u00e9es\"}\n",
      "{\"Laureate\":\"Pierre_Curie\",\"Alma Mater\":\"University of Paris || DSc\"}\n",
      "{\"Laureate\":\"Marie_Curie\",\"Alma Mater\":\"University of Paris\"}\n",
      "{\"Laureate\":\"Svante_Arrhenius\",\"Alma Mater\":\"Uppsala University\"}\n",
      "{\"Laureate\":\"Niels_Ryberg_Finsen\",\"Alma Mater\":\"University of Copenhagen\"}\n",
      "{\"Laureate\":\"Bj%C3%B8rnstjerne_Bj%C3%B8rnson\",\"Alma Mater\":\"N\\/A\"}\n",
      "{\"Laureate\":\"Randal_Cremer\",\"Alma Mater\":\"N\\/A\"}\n",
      "{\"Laureate\":\"John_Strutt,_3rd_Baron_Rayleigh\",\"Alma Mater\":\"Trinity College, Cambridge || Harrow School || Eton College\"}\n",
      "{\"Laureate\":\"William_Ramsay\",\"Alma Mater\":\"Anderson's University || University of Strathclyde || [1] || University of T\\u00fcbingen\"}\n",
      "{\"Laureate\":\"Ivan_Pavlov\",\"Alma Mater\":\"Saint Petersburg University\"}\n",
      "{\"Laureate\":\"Fr%C3%A9d%C3%A9ric_Mistral\",\"Alma Mater\":\"Aix-Marseille University\"}\n",
      "{\"Laureate\":\"Jos%C3%A9_Echegaray\",\"Alma Mater\":\"N\\/A\"}\n",
      "{\"Laureate\":\"Institut_de_Droit_International\",\"Alma Mater\":\"N\\/A\"}\n",
      "{\"Laureate\":\"Philipp_Lenard\",\"Alma Mater\":\"University of Vienna || University of Budapest || university of Heidelberg\"}\n",
      "{\"Laureate\":\"Adolf_von_Baeyer\",\"Alma Mater\":\"University of Berlin\"}\n",
      "{\"Laureate\":\"Robert_Koch\",\"Alma Mater\":\"N\\/A\"}\n",
      "{\"Laureate\":\"Henryk_Sienkiewicz\",\"Alma Mater\":\"N\\/A\"}\n",
      "{\"Laureate\":\"Bertha_von_Suttner\",\"Alma Mater\":\"N\\/A\"}\n",
      "{\"Laureate\":\"J._J._Thomson\",\"Alma Mater\":\"Owens College || Trinity College, Cambridge || BA\"}\n",
      "{\"Laureate\":\"Henri_Moissan\",\"Alma Mater\":\"N\\/A\"}\n",
      "{\"Laureate\":\"Camillo_Golgi\",\"Alma Mater\":\"University of Pavia\"}\n",
      "{\"Laureate\":\"Santiago_Ram%C3%B3n_y_Cajal\",\"Alma Mater\":\"N\\/A\"}\n",
      "{\"Laureate\":\"Giosu%C3%A8_Carducci\",\"Alma Mater\":\"N\\/A\"}\n",
      "{\"Laureate\":\"Theodore_Roosevelt\",\"Alma Mater\":\"Harvard University || AB || Columbia University\"}\n",
      "{\"Laureate\":\"Albert_A._Michelson\",\"Alma Mater\":\"United States Naval Academy || University of Berlin\"}\n",
      "{\"Laureate\":\"Eduard_Buchner\",\"Alma Mater\":\"University of Munich\"}\n",
      "{\"Laureate\":\"Charles_Louis_Alphonse_Laveran\",\"Alma Mater\":\"University of Strasbourg\"}\n",
      "{\"Laureate\":\"Rudyard_Kipling\",\"Alma Mater\":\"N\\/A\"}\n",
      "{\"Laureate\":\"Ernesto_Teodoro_Moneta\",\"Alma Mater\":\"N\\/A\"}\n",
      "{\"Laureate\":\"Louis_Renault_(jurist)\",\"Alma Mater\":\"N\\/A\"}\n",
      "{\"Laureate\":\"Gabriel_Lippmann\",\"Alma Mater\":\"\\u00c9cole normale sup\\u00e9rieure || University of Heidelberg\"}\n",
      "{\"Laureate\":\"Ernest_Rutherford\",\"Alma Mater\":\"University of New Zealand || University of Cambridge || Cavendish Laboratory\"}\n",
      "{\"Laureate\":\"%C3%89lie_Metchnikoff\",\"Alma Mater\":\"Kharkov University || University of Giessen || University of G\\u00f6ttingen || University of Messina || [1] || University of Munich || University of Saint Petersburg\"}\n",
      "{\"Laureate\":\"Paul_Ehrlich\",\"Alma Mater\":\"N\\/A\"}\n",
      "{\"Laureate\":\"Rudolf_Christoph_Eucken\",\"Alma Mater\":\"G\\u00f6ttingen University || Berlin University\"}\n",
      "{\"Laureate\":\"Klas_Pontus_Arnoldson\",\"Alma Mater\":\"N\\/A\"}\n",
      "{\"Laureate\":\"Fredrik_Bajer\",\"Alma Mater\":\"N\\/A\"}\n",
      "{\"Laureate\":\"Karl_Ferdinand_Braun\",\"Alma Mater\":\"University of Marburg || University of Berlin || PhD\"}\n",
      "{\"Laureate\":\"Guglielmo_Marconi\",\"Alma Mater\":\"University of Bologna\"}\n",
      "{\"Laureate\":\"Wilhelm_Ostwald\",\"Alma Mater\":\"Imperial University of Dorpat\"}\n",
      "{\"Laureate\":\"Emil_Theodor_Kocher\",\"Alma Mater\":\"N\\/A\"}\n",
      "{\"Laureate\":\"Selma_Lagerl%C3%B6f\",\"Alma Mater\":\"N\\/A\"}\n",
      "{\"Laureate\":\"Auguste_Beernaert\",\"Alma Mater\":\"Catholic University of Leuven || Heidelberg University\"}\n",
      "{\"Laureate\":\"Paul_Henri_Balluet_d%27Estournelles_de_Constant\",\"Alma Mater\":\"N\\/A\"}\n",
      "{\"Laureate\":\"Johannes_Diderik_van_der_Waals\",\"Alma Mater\":\"University of Leiden\"}\n",
      "{\"Laureate\":\"Otto_Wallach\",\"Alma Mater\":\"University of G\\u00f6ttingen\"}\n",
      "{\"Laureate\":\"Albrecht_Kossel\",\"Alma Mater\":\"University of Strassburg || University of Rostock\"}\n",
      "{\"Laureate\":\"Paul_Heyse\",\"Alma Mater\":\"N\\/A\"}\n",
      "{\"Laureate\":\"International_Peace_Bureau\",\"Alma Mater\":\"N\\/A\"}\n",
      "{\"Laureate\":\"Wilhelm_Wien\",\"Alma Mater\":\"University of G\\u00f6ttingen || University of Berlin || PhD\"}\n",
      "{\"Laureate\":\"Marie_Curie\",\"Alma Mater\":\"University of Paris\"}\n",
      "{\"Laureate\":\"Allvar_Gullstrand\",\"Alma Mater\":\"N\\/A\"}\n",
      "{\"Laureate\":\"Maurice_Maeterlinck\",\"Alma Mater\":\"University of Ghent\"}\n",
      "{\"Laureate\":\"Tobias_Asser\",\"Alma Mater\":\"University of Amsterdam || Leiden University || PhD\"}\n",
      "{\"Laureate\":\"Alfred_Hermann_Fried\",\"Alma Mater\":\"N\\/A\"}\n",
      "{\"Laureate\":\"Gustaf_Dal%C3%A9n\",\"Alma Mater\":\"Chalmers University of Technology\"}\n",
      "{\"Laureate\":\"Victor_Grignard\",\"Alma Mater\":\"University of Lyon\"}\n",
      "{\"Laureate\":\"Paul_Sabatier_(chemist)\",\"Alma Mater\":\"Coll\\u00e8ge de France || \\u00c9cole Normale Sup\\u00e9rieure\"}\n",
      "{\"Laureate\":\"Alexis_Carrel\",\"Alma Mater\":\"N\\/A\"}\n",
      "{\"Laureate\":\"Gerhart_Hauptmann\",\"Alma Mater\":\"N\\/A\"}\n",
      "{\"Laureate\":\"Elihu_Root\",\"Alma Mater\":\"N\\/A\"}\n",
      "{\"Laureate\":\"Heike_Kamerlingh_Onnes\",\"Alma Mater\":\"University of Heidelberg || University of Groningen\"}\n",
      "{\"Laureate\":\"Alfred_Werner\",\"Alma Mater\":\"University of Zurich || ETH Zurich\"}\n",
      "{\"Laureate\":\"Charles_Richet\",\"Alma Mater\":\"University of Paris\"}\n",
      "{\"Laureate\":\"Rabindranath_Tagore\",\"Alma Mater\":\"N\\/A\"}\n",
      "{\"Laureate\":\"Henri_La_Fontaine\",\"Alma Mater\":\"N\\/A\"}\n",
      "{\"Laureate\":\"Max_von_Laue\",\"Alma Mater\":\"University of Stra\\u00dfburg || University of G\\u00f6ttingen || University of Munich || University of Berlin\"}\n",
      "{\"Laureate\":\"Theodore_William_Richards\",\"Alma Mater\":\"N\\/A\"}\n",
      "{\"Laureate\":\"Robert_B%C3%A1r%C3%A1ny\",\"Alma Mater\":\"University of Vienna || MD\"}\n",
      "{\"Laureate\":\"William_Henry_Bragg\",\"Alma Mater\":\"N\\/A\"}\n",
      "{\"Laureate\":\"Lawrence_Bragg\",\"Alma Mater\":\"University of Adelaide || Trinity College, Cambridge\"}\n",
      "{\"Laureate\":\"Richard_Willst%C3%A4tter\",\"Alma Mater\":\"University of Munich\"}\n",
      "{\"Laureate\":\"Romain_Rolland\",\"Alma Mater\":\"N\\/A\"}\n",
      "{\"Laureate\":\"Verner_von_Heidenstam\",\"Alma Mater\":\"N\\/A\"}\n",
      "{\"Laureate\":\"Charles_Glover_Barkla\",\"Alma Mater\":\"University College Liverpool || Trinity College, Cambridge || King's College, Cambridge\"}\n",
      "{\"Laureate\":\"Karl_Adolph_Gjellerup\",\"Alma Mater\":\"N\\/A\"}\n",
      "{\"Laureate\":\"Henrik_Pontoppidan\",\"Alma Mater\":\"N\\/A\"}\n",
      "{\"Laureate\":\"International_Committee_of_the_Red_Cross\",\"Alma Mater\":\"N\\/A\"}\n",
      "{\"Laureate\":\"Max_Planck\",\"Alma Mater\":\"N\\/A\"}\n",
      "{\"Laureate\":\"Fritz_Haber\",\"Alma Mater\":\"Heidelberg University || University of Berlin || Technische Universit\\u00e4t Berlin\"}\n",
      "{\"Laureate\":\"Johannes_Stark\",\"Alma Mater\":\"University of Munich || PhD\"}\n",
      "{\"Laureate\":\"Jules_Bordet\",\"Alma Mater\":\"Free University of Brussels\"}\n",
      "{\"Laureate\":\"Carl_Spitteler\",\"Alma Mater\":\"N\\/A\"}\n",
      "{\"Laureate\":\"Woodrow_Wilson\",\"Alma Mater\":\"Princeton University || AB || Johns Hopkins University || PhD\"}\n",
      "{\"Laureate\":\"Charles_%C3%89douard_Guillaume\",\"Alma Mater\":\"ETH Zurich\"}\n",
      "{\"Laureate\":\"Walther_Nernst\",\"Alma Mater\":\"University of Zurich || Friedrich Wilhelm University || University of Graz || Julius Maximilian University of W\\u00fcrzburg\"}\n",
      "{\"Laureate\":\"August_Krogh\",\"Alma Mater\":\"University of Copenhagen\"}\n",
      "{\"Laureate\":\"Knut_Hamsun\",\"Alma Mater\":\"N\\/A\"}\n",
      "{\"Laureate\":\"L%C3%A9on_Bourgeois\",\"Alma Mater\":\"Universit\\u00e9 de Paris\"}\n",
      "{\"Laureate\":\"Albert_Einstein\",\"Alma Mater\":\"N\\/A\"}\n",
      "{\"Laureate\":\"Frederick_Soddy\",\"Alma Mater\":\"University of Wales || Merton College, Oxford\"}\n",
      "{\"Laureate\":\"Anatole_France\",\"Alma Mater\":\"N\\/A\"}\n",
      "{\"Laureate\":\"Hjalmar_Branting\",\"Alma Mater\":\"N\\/A\"}\n",
      "{\"Laureate\":\"Christian_Lous_Lange\",\"Alma Mater\":\"N\\/A\"}\n",
      "{\"Laureate\":\"Niels_Bohr\",\"Alma Mater\":\"University of Copenhagen\"}\n",
      "{\"Laureate\":\"Francis_William_Aston\",\"Alma Mater\":\"Mason College || University of London || Trinity College, Cambridge\"}\n",
      "{\"Laureate\":\"Archibald_Hill\",\"Alma Mater\":\"N\\/A\"}\n",
      "{\"Laureate\":\"Otto_Fritz_Meyerhof\",\"Alma Mater\":\"University of Strasbourg || University of Heidelberg || University of Berlin\"}\n",
      "{\"Laureate\":\"Jacinto_Benavente\",\"Alma Mater\":\"N\\/A\"}\n",
      "{\"Laureate\":\"Fridtjof_Nansen\",\"Alma Mater\":\"N\\/A\"}\n",
      "{\"Laureate\":\"Robert_Andrews_Millikan\",\"Alma Mater\":\"Oberlin College || BA || Columbia University || PhD\"}\n",
      "{\"Laureate\":\"Fritz_Pregl\",\"Alma Mater\":\"University of Graz\"}\n",
      "{\"Laureate\":\"Frederick_Banting\",\"Alma Mater\":\"N\\/A\"}\n",
      "{\"Laureate\":\"John_Macleod_(physiologist)\",\"Alma Mater\":\"University of Aberdeen || University of Leipzig\"}\n",
      "{\"Laureate\":\"W._B._Yeats\",\"Alma Mater\":\"N\\/A\"}\n",
      "{\"Laureate\":\"Manne_Siegbahn\",\"Alma Mater\":\"University of Lund || PhD\"}\n",
      "{\"Laureate\":\"Willem_Einthoven\",\"Alma Mater\":\"University of Utrecht\"}\n",
      "{\"Laureate\":\"W%C5%82adys%C5%82aw_Reymont\",\"Alma Mater\":\"N\\/A\"}\n",
      "{\"Laureate\":\"James_Franck\",\"Alma Mater\":\"University of Heidelberg || University of Berlin\"}\n",
      "{\"Laureate\":\"Gustav_Ludwig_Hertz\",\"Alma Mater\":\"University of Berlin\"}\n",
      "{\"Laureate\":\"Richard_Adolf_Zsigmondy\",\"Alma Mater\":\"Technical University of Vienna || University of Munich\"}\n",
      "{\"Laureate\":\"George_Bernard_Shaw\",\"Alma Mater\":\"N\\/A\"}\n",
      "{\"Laureate\":\"Austen_Chamberlain\",\"Alma Mater\":\"Trinity College, Cambridge || Sciences Po || University of Berlin\"}\n",
      "{\"Laureate\":\"Charles_G._Dawes\",\"Alma Mater\":\"N\\/A\"}\n",
      "{\"Laureate\":\"Jean_Baptiste_Perrin\",\"Alma Mater\":\"\\u00c9cole Normale Sup\\u00e9rieure || University of Paris\"}\n",
      "{\"Laureate\":\"Theodor_Svedberg\",\"Alma Mater\":\"Uppsala University\"}\n",
      "{\"Laureate\":\"Johannes_Fibiger\",\"Alma Mater\":\"\"}\n",
      "{\"Laureate\":\"Grazia_Deledda\",\"Alma Mater\":\"N\\/A\"}\n",
      "{\"Laureate\":\"Aristide_Briand\",\"Alma Mater\":\"N\\/A\"}\n",
      "{\"Laureate\":\"Gustav_Stresemann\",\"Alma Mater\":\"N\\/A\"}\n",
      "{\"Laureate\":\"Arthur_Compton\",\"Alma Mater\":\"N\\/A\"}\n",
      "{\"Laureate\":\"Charles_Thomson_Rees_Wilson\",\"Alma Mater\":\"Owens College || Sidney Sussex College, Cambridge\"}\n",
      "{\"Laureate\":\"Heinrich_Otto_Wieland\",\"Alma Mater\":\"University of Munich\"}\n",
      "{\"Laureate\":\"Julius_Wagner-Jauregg\",\"Alma Mater\":\"University of Vienna\"}\n",
      "{\"Laureate\":\"Henri_Bergson\",\"Alma Mater\":\"\\u00c9cole Normale Sup\\u00e9rieure || University of Paris\"}\n",
      "{\"Laureate\":\"Ferdinand_Buisson\",\"Alma Mater\":\"N\\/A\"}\n",
      "{\"Laureate\":\"Ludwig_Quidde\",\"Alma Mater\":\"N\\/A\"}\n",
      "{\"Laureate\":\"Owen_Willans_Richardson\",\"Alma Mater\":\"Trinity College, Cambridge || University College London\"}\n",
      "{\"Laureate\":\"Adolf_Windaus\",\"Alma Mater\":\"N\\/A\"}\n",
      "{\"Laureate\":\"Charles_Nicolle\",\"Alma Mater\":\"University of Paris\"}\n",
      "{\"Laureate\":\"Sigrid_Undset\",\"Alma Mater\":\"N\\/A\"}\n",
      "{\"Laureate\":\"Louis_de_Broglie\",\"Alma Mater\":\"University of Paris || PhD\"}\n",
      "{\"Laureate\":\"Arthur_Harden\",\"Alma Mater\":\"University of Manchester || MSc || University of Erlangen || PhD\"}\n",
      "{\"Laureate\":\"Hans_von_Euler-Chelpin\",\"Alma Mater\":\"University of Berlin\"}\n",
      "{\"Laureate\":\"Christiaan_Eijkman\",\"Alma Mater\":\"N\\/A\"}\n",
      "{\"Laureate\":\"Frederick_Gowland_Hopkins\",\"Alma Mater\":\"Guy's Hospital\"}\n",
      "{\"Laureate\":\"Thomas_Mann\",\"Alma Mater\":\"University of Munich || Technical University of Munich\"}\n",
      "{\"Laureate\":\"Frank_B._Kellogg\",\"Alma Mater\":\"N\\/A\"}\n",
      "{\"Laureate\":\"C._V._Raman\",\"Alma Mater\":\"University of Madras || BA || MA\"}\n",
      "{\"Laureate\":\"Hans_Fischer\",\"Alma Mater\":\"University of Lausanne || University of Marburg\"}\n",
      "{\"Laureate\":\"Karl_Landsteiner\",\"Alma Mater\":\"University of Vienna || MD\"}\n",
      "{\"Laureate\":\"Sinclair_Lewis\",\"Alma Mater\":\"N\\/A\"}\n",
      "{\"Laureate\":\"Nathan_S%C3%B6derblom\",\"Alma Mater\":\"Uppsala University\"}\n",
      "{\"Laureate\":\"Carl_Bosch\",\"Alma Mater\":\"N\\/A\"}\n",
      "{\"Laureate\":\"Friedrich_Bergius\",\"Alma Mater\":\"University of Breslau || University of Leipzig\"}\n",
      "{\"Laureate\":\"Otto_Heinrich_Warburg\",\"Alma Mater\":\"University of Berlin || University of Heidelberg\"}\n",
      "{\"Laureate\":\"Erik_Axel_Karlfeldt\",\"Alma Mater\":\"N\\/A\"}\n",
      "{\"Laureate\":\"Jane_Addams\",\"Alma Mater\":\"N\\/A\"}\n",
      "{\"Laureate\":\"Nicholas_Murray_Butler\",\"Alma Mater\":\"N\\/A\"}\n",
      "{\"Laureate\":\"Werner_Heisenberg\",\"Alma Mater\":\"University of Munich || University of G\\u00f6ttingen\"}\n",
      "{\"Laureate\":\"Irving_Langmuir\",\"Alma Mater\":\"Columbia University || University of G\\u00f6ttingen\"}\n",
      "{\"Laureate\":\"Charles_Scott_Sherrington\",\"Alma Mater\":\"Ipswich School || Royal College of Surgeons of England || University of Cambridge\"}\n",
      "{\"Laureate\":\"Edgar_Adrian\",\"Alma Mater\":\"Trinity College, Cambridge || St Bartholomew's Hospital Medical College\"}\n",
      "{\"Laureate\":\"John_Galsworthy\",\"Alma Mater\":\"N\\/A\"}\n",
      "{\"Laureate\":\"Erwin_Schr%C3%B6dinger\",\"Alma Mater\":\"University of Vienna || PhD || Dr. habil.\"}\n",
      "{\"Laureate\":\"Paul_Dirac\",\"Alma Mater\":\"University of Bristol || BS || BA || University of Cambridge || PhD\"}\n",
      "{\"Laureate\":\"Thomas_Hunt_Morgan\",\"Alma Mater\":\"University of Kentucky || B.S. || Johns Hopkins University || Ph.D.\"}\n",
      "{\"Laureate\":\"Ivan_Bunin\",\"Alma Mater\":\"N\\/A\"}\n",
      "{\"Laureate\":\"Norman_Angell\",\"Alma Mater\":\"N\\/A\"}\n",
      "{\"Laureate\":\"Harold_Urey\",\"Alma Mater\":\"Earlham College || University of Montana || BSc || University of California, Berkeley || PhD\"}\n",
      "{\"Laureate\":\"George_Whipple\",\"Alma Mater\":\"Johns Hopkins School of Medicine || Yale University\"}\n",
      "{\"Laureate\":\"George_Minot\",\"Alma Mater\":\"Harvard University || BA || MD\"}\n",
      "{\"Laureate\":\"William_P._Murphy\",\"Alma Mater\":\"N\\/A\"}\n",
      "{\"Laureate\":\"Luigi_Pirandello\",\"Alma Mater\":\"University of Bonn\"}\n",
      "{\"Laureate\":\"Arthur_Henderson\",\"Alma Mater\":\"N\\/A\"}\n",
      "{\"Laureate\":\"James_Chadwick\",\"Alma Mater\":\"N\\/A\"}\n",
      "{\"Laureate\":\"Fr%C3%A9d%C3%A9ric_Joliot-Curie\",\"Alma Mater\":\"University of Paris\"}\n",
      "{\"Laureate\":\"Ir%C3%A8ne_Joliot-Curie\",\"Alma Mater\":\"University of Paris\"}\n",
      "{\"Laureate\":\"Hans_Spemann\",\"Alma Mater\":\"N\\/A\"}\n",
      "{\"Laureate\":\"Carl_von_Ossietzky\",\"Alma Mater\":\"N\\/A\"}\n",
      "{\"Laureate\":\"Victor_Francis_Hess\",\"Alma Mater\":\"University of Graz || University of Vienna || PhD\"}\n",
      "{\"Laureate\":\"Carl_David_Anderson\",\"Alma Mater\":\"California Institute of Technology || BS || PhD\"}\n",
      "{\"Laureate\":\"Peter_Debye\",\"Alma Mater\":\"RWTH Aachen || University of Munich\"}\n",
      "{\"Laureate\":\"Henry_Hallett_Dale\",\"Alma Mater\":\"University of Cambridge || St Bartholomew's Hospital || [2]\"}\n",
      "{\"Laureate\":\"Otto_Loewi\",\"Alma Mater\":\"University of Strasbourg\"}\n",
      "{\"Laureate\":\"Eugene_O%27Neill\",\"Alma Mater\":\"N\\/A\"}\n",
      "{\"Laureate\":\"Carlos_Saavedra_Lamas\",\"Alma Mater\":\"N\\/A\"}\n",
      "{\"Laureate\":\"Clinton_Davisson\",\"Alma Mater\":\"University of Chicago || Princeton University\"}\n",
      "{\"Laureate\":\"George_Paget_Thomson\",\"Alma Mater\":\"Trinity College, Cambridge\"}\n",
      "{\"Laureate\":\"Norman_Haworth\",\"Alma Mater\":\"University of Manchester || University of G\\u00f6ttingen\"}\n",
      "{\"Laureate\":\"Paul_Karrer\",\"Alma Mater\":\"Old Cantonal School Aarau || Matura || University of Zurich || PhD\"}\n",
      "{\"Laureate\":\"Albert_Szent-Gy%C3%B6rgyi\",\"Alma Mater\":\"Semmelweis University || University of Cambridge\"}\n",
      "{\"Laureate\":\"Roger_Martin_du_Gard\",\"Alma Mater\":\"N\\/A\"}\n",
      "{\"Laureate\":\"Robert_Cecil,_1st_Viscount_Cecil_of_Chelwood\",\"Alma Mater\":\"N\\/A\"}\n",
      "{\"Laureate\":\"Enrico_Fermi\",\"Alma Mater\":\"Scuola Normale Superiore di Pisa || laurea\"}\n",
      "{\"Laureate\":\"Richard_Kuhn\",\"Alma Mater\":\"University of Vienna || University of Munich\"}\n",
      "{\"Laureate\":\"Corneille_Heymans\",\"Alma Mater\":\"Ghent University\"}\n",
      "{\"Laureate\":\"Pearl_S._Buck\",\"Alma Mater\":\"N\\/A\"}\n",
      "{\"Laureate\":\"Nansen_International_Office_for_Refugees\",\"Alma Mater\":\"N\\/A\"}\n",
      "{\"Laureate\":\"Ernest_Lawrence\",\"Alma Mater\":\"N\\/A\"}\n",
      "{\"Laureate\":\"Adolf_Butenandt\",\"Alma Mater\":\"N\\/A\"}\n",
      "{\"Laureate\":\"Leopold_Ru%C5%BEi%C4%8Dka\",\"Alma Mater\":\"Technische Hochschule Karlsruhe\"}\n",
      "{\"Laureate\":\"Gerhard_Domagk\",\"Alma Mater\":\"University of Kiel\"}\n",
      "{\"Laureate\":\"Frans_Eemil_Sillanp%C3%A4%C3%A4\",\"Alma Mater\":\"N\\/A\"}\n",
      "{\"Laureate\":\"Otto_Stern\",\"Alma Mater\":\"University of Breslau || University of Frankfurt\"}\n",
      "{\"Laureate\":\"George_de_Hevesy\",\"Alma Mater\":\"N\\/A\"}\n",
      "{\"Laureate\":\"Henrik_Dam\",\"Alma Mater\":\"N\\/A\"}\n",
      "{\"Laureate\":\"Edward_Adelbert_Doisy\",\"Alma Mater\":\"University of Illinois at Urbana-Champaign || Harvard University\"}\n",
      "{\"Laureate\":\"Isidor_Isaac_Rabi\",\"Alma Mater\":\"N\\/A\"}\n",
      "{\"Laureate\":\"Otto_Hahn\",\"Alma Mater\":\"University of Marburg || University of Munich\"}\n",
      "{\"Laureate\":\"Joseph_Erlanger\",\"Alma Mater\":\"University of California, Berkeley || Johns Hopkins School of Medicine\"}\n",
      "{\"Laureate\":\"Herbert_Spencer_Gasser\",\"Alma Mater\":\"University of Wisconsin\\u2013Madison || Johns Hopkins School of Medicine\"}\n",
      "{\"Laureate\":\"Johannes_V._Jensen\",\"Alma Mater\":\"N\\/A\"}\n",
      "{\"Laureate\":\"International_Committee_of_the_Red_Cross\",\"Alma Mater\":\"N\\/A\"}\n",
      "{\"Laureate\":\"Wolfgang_Pauli\",\"Alma Mater\":\"University of Munich\"}\n",
      "{\"Laureate\":\"Artturi_Ilmari_Virtanen\",\"Alma Mater\":\"University of Helsinki\"}\n",
      "{\"Laureate\":\"Alexander_Fleming\",\"Alma Mater\":\"Royal Polytechnic Institution || St Mary's Hospital Medical School\"}\n",
      "{\"Laureate\":\"Ernst_Chain\",\"Alma Mater\":\"Friedrich Wilhelm University || Fitzwilliam College, Cambridge\"}\n",
      "{\"Laureate\":\"Howard_Florey\",\"Alma Mater\":\"University of Adelaide || Magdalen College, Oxford || Gonville and Caius College, Cambridge\"}\n",
      "{\"Laureate\":\"Gabriela_Mistral\",\"Alma Mater\":\"N\\/A\"}\n",
      "{\"Laureate\":\"Cordell_Hull\",\"Alma Mater\":\"N\\/A\"}\n",
      "{\"Laureate\":\"Percy_Williams_Bridgman\",\"Alma Mater\":\"Harvard University\"}\n",
      "{\"Laureate\":\"James_B._Sumner\",\"Alma Mater\":\"Harvard University\"}\n",
      "{\"Laureate\":\"John_Howard_Northrop\",\"Alma Mater\":\"Columbia University\"}\n",
      "{\"Laureate\":\"Wendell_Meredith_Stanley\",\"Alma Mater\":\"Earlham College || University of Illinois Urbana-Champaign\"}\n",
      "{\"Laureate\":\"Hermann_Joseph_Muller\",\"Alma Mater\":\"Columbia University\"}\n",
      "{\"Laureate\":\"Hermann_Hesse\",\"Alma Mater\":\"N\\/A\"}\n",
      "{\"Laureate\":\"Emily_Greene_Balch\",\"Alma Mater\":\"N\\/A\"}\n",
      "{\"Laureate\":\"John_Mott\",\"Alma Mater\":\"Upper Iowa University || [1] || Cornell University || B.A.\"}\n",
      "{\"Laureate\":\"Edward_Victor_Appleton\",\"Alma Mater\":\"St John's College, Cambridge\"}\n",
      "{\"Laureate\":\"Robert_Robinson_(organic_chemist)\",\"Alma Mater\":\"University of Manchester\"}\n",
      "{\"Laureate\":\"Carl_Ferdinand_Cori\",\"Alma Mater\":\"First Faculty of Medicine, Charles University in Prague\"}\n",
      "{\"Laureate\":\"Gerty_Cori\",\"Alma Mater\":\"Charles University\"}\n",
      "{\"Laureate\":\"Bernardo_Houssay\",\"Alma Mater\":\"N\\/A\"}\n",
      "{\"Laureate\":\"Andr%C3%A9_Gide\",\"Alma Mater\":\"N\\/A\"}\n",
      "{\"Laureate\":\"Quaker_Peace_and_Social_Witness\",\"Alma Mater\":\"N\\/A\"}\n",
      "{\"Laureate\":\"American_Friends_Service_Committee\",\"Alma Mater\":\"N\\/A\"}\n",
      "{\"Laureate\":\"Patrick_Blackett\",\"Alma Mater\":\"Osborne Naval College || University of Cambridge\"}\n",
      "{\"Laureate\":\"Arne_Tiselius\",\"Alma Mater\":\"University of Uppsala\"}\n",
      "{\"Laureate\":\"Paul_Hermann_M%C3%BCller\",\"Alma Mater\":\"Universit\\u00e4t Basel\"}\n",
      "{\"Laureate\":\"T._S._Eliot\",\"Alma Mater\":\"N\\/A\"}\n",
      "{\"Laureate\":\"Hideki_Yukawa\",\"Alma Mater\":\"Kyoto Imperial University || Osaka Imperial University\"}\n",
      "{\"Laureate\":\"William_Giauque\",\"Alma Mater\":\"University of California, Berkeley\"}\n",
      "{\"Laureate\":\"Walter_Rudolf_Hess\",\"Alma Mater\":\"University of Zurich || University of Kiel || University of Berlin\"}\n",
      "{\"Laureate\":\"Ant%C3%B3nio_Egas_Moniz\",\"Alma Mater\":\"University of Coimbra\"}\n",
      "{\"Laureate\":\"William_Faulkner\",\"Alma Mater\":\"N\\/A\"}\n",
      "{\"Laureate\":\"John_Boyd_Orr\",\"Alma Mater\":\"University of Glasgow\"}\n",
      "{\"Laureate\":\"C._F._Powell\",\"Alma Mater\":\"University of Cambridge || PhD\"}\n",
      "{\"Laureate\":\"Otto_Diels\",\"Alma Mater\":\"University of Berlin\"}\n",
      "{\"Laureate\":\"Kurt_Alder\",\"Alma Mater\":\"University of Berlin || University of Kiel\"}\n",
      "{\"Laureate\":\"Philip_Showalter_Hench\",\"Alma Mater\":\"Lafayette College || University of Pittsburgh\"}\n",
      "{\"Laureate\":\"Edward_Calvin_Kendall\",\"Alma Mater\":\"Columbia University\"}\n",
      "{\"Laureate\":\"Tadeus_Reichstein\",\"Alma Mater\":\"N\\/A\"}\n",
      "{\"Laureate\":\"Bertrand_Russell\",\"Alma Mater\":\"N\\/A\"}\n",
      "{\"Laureate\":\"Ralph_Bunche\",\"Alma Mater\":\"N\\/A\"}\n",
      "{\"Laureate\":\"John_Cockcroft\",\"Alma Mater\":\"Victoria University of Manchester || Manchester Municipal College of Technology || BSc || MSc || St. John's College, Cambridge || BA || PhD\"}\n",
      "{\"Laureate\":\"Ernest_Walton\",\"Alma Mater\":\"Trinity College Dublin || Trinity College, Cambridge || PhD\"}\n",
      "{\"Laureate\":\"Edwin_McMillan\",\"Alma Mater\":\"N\\/A\"}\n",
      "{\"Laureate\":\"Glenn_T._Seaborg\",\"Alma Mater\":\"N\\/A\"}\n",
      "{\"Laureate\":\"Max_Theiler\",\"Alma Mater\":\"University of Cape Town\"}\n",
      "{\"Laureate\":\"P%C3%A4r_Lagerkvist\",\"Alma Mater\":\"N\\/A\"}\n",
      "{\"Laureate\":\"L%C3%A9on_Jouhaux\",\"Alma Mater\":\"N\\/A\"}\n",
      "{\"Laureate\":\"Felix_Bloch\",\"Alma Mater\":\"ETH Z\\u00fcrich || University of Leipzig\"}\n",
      "{\"Laureate\":\"Edward_Mills_Purcell\",\"Alma Mater\":\"Purdue University || BSEE || Harvard University || MA || PhD\"}\n",
      "{\"Laureate\":\"Archer_Martin\",\"Alma Mater\":\"Peterhouse, Cambridge\"}\n",
      "{\"Laureate\":\"Richard_Laurence_Millington_Synge\",\"Alma Mater\":\"Winchester College || Trinity College, Cambridge\"}\n",
      "{\"Laureate\":\"Selman_Waksman\",\"Alma Mater\":\"Rutgers University || University of California, Berkeley\"}\n",
      "{\"Laureate\":\"Fran%C3%A7ois_Mauriac\",\"Alma Mater\":\"N\\/A\"}\n",
      "{\"Laureate\":\"Albert_Schweitzer\",\"Alma Mater\":\"University of Strasbourg\"}\n",
      "{\"Laureate\":\"Frits_Zernike\",\"Alma Mater\":\"University of Amsterdam\"}\n",
      "{\"Laureate\":\"Hermann_Staudinger\",\"Alma Mater\":\"Technische Universit\\u00e4t Darmstadt || University of Halle\"}\n",
      "{\"Laureate\":\"Hans_Adolf_Krebs\",\"Alma Mater\":\"University of G\\u00f6ttingen || University of Freiburg || University of Berlin || University of Hamburg\"}\n",
      "{\"Laureate\":\"Fritz_Albert_Lipmann\",\"Alma Mater\":\"University of K\\u00f6nigsberg || University of Berlin || University of Munich || Kaiser Wilhelm Institute for Biology\"}\n",
      "{\"Laureate\":\"Winston_Churchill\",\"Alma Mater\":\"N\\/A\"}\n",
      "{\"Laureate\":\"George_Marshall\",\"Alma Mater\":\"N\\/A\"}\n",
      "{\"Laureate\":\"Max_Born\",\"Alma Mater\":\"University of G\\u00f6ttingen\"}\n",
      "{\"Laureate\":\"Walther_Bothe\",\"Alma Mater\":\"University of Berlin\"}\n",
      "{\"Laureate\":\"Linus_Pauling\",\"Alma Mater\":\"N\\/A\"}\n",
      "{\"Laureate\":\"John_Franklin_Enders\",\"Alma Mater\":\"Yale University || Harvard University\"}\n",
      "{\"Laureate\":\"Frederick_Chapman_Robbins\",\"Alma Mater\":\"University of Missouri || Harvard University\"}\n",
      "{\"Laureate\":\"Thomas_Huckle_Weller\",\"Alma Mater\":\"University of Michigan || Harvard Medical School\"}\n",
      "{\"Laureate\":\"Ernest_Hemingway\",\"Alma Mater\":\"N\\/A\"}\n",
      "{\"Laureate\":\"United_Nations_High_Commissioner_for_Refugees\",\"Alma Mater\":\"N\\/A\"}\n",
      "{\"Laureate\":\"Willis_Lamb\",\"Alma Mater\":\"University of California, Berkeley\"}\n",
      "{\"Laureate\":\"Polykarp_Kusch\",\"Alma Mater\":\"University of Illinois || Case Western Reserve University\"}\n",
      "{\"Laureate\":\"Vincent_du_Vigneaud\",\"Alma Mater\":\"University of Illinois Urbana-Champaign || University of Rochester\"}\n",
      "{\"Laureate\":\"Hugo_Theorell\",\"Alma Mater\":\"N\\/A\"}\n",
      "{\"Laureate\":\"Halld%C3%B3r_Laxness\",\"Alma Mater\":\"N\\/A\"}\n",
      "{\"Laureate\":\"John_Bardeen\",\"Alma Mater\":\"University of Wisconsin\\u2013Madison || BS || MS || Princeton University || PhD\"}\n",
      "{\"Laureate\":\"Walter_Houser_Brattain\",\"Alma Mater\":\"Whitman College || University of Oregon || University of Minnesota\"}\n",
      "{\"Laureate\":\"William_Shockley\",\"Alma Mater\":\"California Institute of Technology || BS || Massachusetts Institute of Technology || PhD\"}\n",
      "{\"Laureate\":\"Cyril_Norman_Hinshelwood\",\"Alma Mater\":\"University of Oxford\"}\n",
      "{\"Laureate\":\"Nikolay_Semyonov\",\"Alma Mater\":\"N\\/A\"}\n",
      "{\"Laureate\":\"Andr%C3%A9_Fr%C3%A9d%C3%A9ric_Cournand\",\"Alma Mater\":\"University of Paris\"}\n",
      "{\"Laureate\":\"Werner_Forssmann\",\"Alma Mater\":\"University of Berlin\"}\n",
      "{\"Laureate\":\"Dickinson_W._Richards\",\"Alma Mater\":\"Yale University || BA || Columbia University || MA || MD\"}\n",
      "{\"Laureate\":\"Juan_Ram%C3%B3n_Jim%C3%A9nez\",\"Alma Mater\":\"N\\/A\"}\n",
      "{\"Laureate\":\"Yang_Chen-Ning\",\"Alma Mater\":\"National Southwestern Associated University || BS || Tsinghua University || MS || University of Chicago || PhD\"}\n",
      "{\"Laureate\":\"Tsung-Dao_Lee\",\"Alma Mater\":\"National Che Kiang University || National Southwestern Associated University || University of Chicago\"}\n",
      "{\"Laureate\":\"Alexander_R._Todd\",\"Alma Mater\":\"University of Glasgow || University of Frankfurt am Main || Oriel College, Oxford\"}\n",
      "{\"Laureate\":\"Daniel_Bovet\",\"Alma Mater\":\"N\\/A\"}\n",
      "{\"Laureate\":\"Albert_Camus\",\"Alma Mater\":\"University of Algiers\"}\n",
      "{\"Laureate\":\"Lester_B._Pearson\",\"Alma Mater\":\"N\\/A\"}\n",
      "{\"Laureate\":\"Pavel_Cherenkov\",\"Alma Mater\":\"Voronezh State University\"}\n",
      "{\"Laureate\":\"Ilya_Frank\",\"Alma Mater\":\"Moscow State University\"}\n",
      "{\"Laureate\":\"Igor_Tamm\",\"Alma Mater\":\"University of Edinburgh || Moscow State University\"}\n",
      "{\"Laureate\":\"Frederick_Sanger\",\"Alma Mater\":\"St John's College, Cambridge || BA || PhD\"}\n",
      "{\"Laureate\":\"George_Beadle\",\"Alma Mater\":\"University of Nebraska || BS || Cornell University || MS || PhD\"}\n",
      "{\"Laureate\":\"Edward_Tatum\",\"Alma Mater\":\"University of Chicago || University of Wisconsin\\u2013Madison\"}\n",
      "{\"Laureate\":\"Joshua_Lederberg\",\"Alma Mater\":\"Stuyvesant High School || Columbia University || Yale University\"}\n",
      "{\"Laureate\":\"Boris_Pasternak\",\"Alma Mater\":\"N\\/A\"}\n",
      "{\"Laureate\":\"Dominique_Pire\",\"Alma Mater\":\"Pontifical University of St. Thomas Aquinas (Angelicum) || Catholic University of Leuven\"}\n",
      "{\"Laureate\":\"Emilio_Segr%C3%A8\",\"Alma Mater\":\"Sapienza University of Rome\"}\n",
      "{\"Laureate\":\"Owen_Chamberlain\",\"Alma Mater\":\"Dartmouth College || University of California, Berkeley || University of Chicago\"}\n",
      "{\"Laureate\":\"Jaroslav_Heyrovsk%C3%BD\",\"Alma Mater\":\"Charles University || University College London\"}\n",
      "{\"Laureate\":\"Arthur_Kornberg\",\"Alma Mater\":\"City College of New York || University of Rochester\"}\n",
      "{\"Laureate\":\"Severo_Ochoa\",\"Alma Mater\":\"N\\/A\"}\n",
      "{\"Laureate\":\"Salvatore_Quasimodo\",\"Alma Mater\":\"N\\/A\"}\n",
      "{\"Laureate\":\"Philip_Noel-Baker\",\"Alma Mater\":\"Haverford College || King's College, Cambridge\"}\n",
      "{\"Laureate\":\"Donald_A._Glaser\",\"Alma Mater\":\"Case School of Applied Science || Case Western Reserve University || California Institute of Technology\"}\n",
      "{\"Laureate\":\"Willard_Libby\",\"Alma Mater\":\"N\\/A\"}\n",
      "{\"Laureate\":\"Macfarlane_Burnet\",\"Alma Mater\":\"University of Melbourne || University of London\"}\n",
      "{\"Laureate\":\"Peter_Medawar\",\"Alma Mater\":\"N\\/A\"}\n",
      "{\"Laureate\":\"Saint-John_Perse\",\"Alma Mater\":\"University of Bordeaux\"}\n",
      "{\"Laureate\":\"Albert_Lutuli\",\"Alma Mater\":\"Adams College\"}\n",
      "{\"Laureate\":\"Robert_Hofstadter\",\"Alma Mater\":\"City College of New York || BS || Princeton University || MS || PhD\"}\n",
      "{\"Laureate\":\"Rudolf_M%C3%B6ssbauer\",\"Alma Mater\":\"Technical University of Munich\"}\n",
      "{\"Laureate\":\"Melvin_Calvin\",\"Alma Mater\":\"Michigan College of Mining and Technology || University of Minnesota\"}\n",
      "{\"Laureate\":\"Georg_von_B%C3%A9k%C3%A9sy\",\"Alma Mater\":\"N\\/A\"}\n",
      "{\"Laureate\":\"Ivo_Andri%C4%87\",\"Alma Mater\":\"University of Zagreb || University of Vienna || Jagiellonian University || University of Graz\"}\n",
      "{\"Laureate\":\"Dag_Hammarskj%C3%B6ld\",\"Alma Mater\":\"Uppsala University || Stockholm University\"}\n",
      "{\"Laureate\":\"Lev_Landau\",\"Alma Mater\":\"Baku State University || Leningrad State University || diploma || Leningrad Physico-Technical Institute || D.Sc.\"}\n",
      "{\"Laureate\":\"Max_Perutz\",\"Alma Mater\":\"University of Vienna || University of Cambridge\"}\n",
      "{\"Laureate\":\"John_Kendrew\",\"Alma Mater\":\"University of Cambridge\"}\n",
      "{\"Laureate\":\"Francis_Crick\",\"Alma Mater\":\"University College London || University of London || University of Cambridge\"}\n",
      "{\"Laureate\":\"James_Watson\",\"Alma Mater\":\"University of Chicago || BS || Indiana University || PhD\"}\n",
      "{\"Laureate\":\"Maurice_Wilkins\",\"Alma Mater\":\"University of Cambridge || University of Birmingham\"}\n",
      "{\"Laureate\":\"John_Steinbeck\",\"Alma Mater\":\"N\\/A\"}\n",
      "{\"Laureate\":\"Linus_Pauling\",\"Alma Mater\":\"N\\/A\"}\n",
      "{\"Laureate\":\"Eugene_Wigner\",\"Alma Mater\":\"Budapest University of Technology and Economics || Technische Universit\\u00e4t Berlin\"}\n",
      "{\"Laureate\":\"Maria_Goeppert_Mayer\",\"Alma Mater\":\"University of G\\u00f6ttingen\"}\n",
      "{\"Laureate\":\"J._Hans_D._Jensen\",\"Alma Mater\":\"University of Hamburg\"}\n",
      "{\"Laureate\":\"Karl_Ziegler\",\"Alma Mater\":\"University of Marburg\"}\n",
      "{\"Laureate\":\"Giulio_Natta\",\"Alma Mater\":\"Politecnico di Milano\"}\n",
      "{\"Laureate\":\"John_Eccles_(neurophysiologist)\",\"Alma Mater\":\"University of Melbourne || MD || University of Oxford || DPhil\"}\n",
      "{\"Laureate\":\"Alan_Hodgkin\",\"Alma Mater\":\"University of Cambridge\"}\n",
      "{\"Laureate\":\"Andrew_Huxley\",\"Alma Mater\":\"University of Cambridge\"}\n",
      "{\"Laureate\":\"Giorgos_Seferis\",\"Alma Mater\":\"University of Paris\"}\n",
      "{\"Laureate\":\"International_Committee_of_the_Red_Cross\",\"Alma Mater\":\"N\\/A\"}\n",
      "{\"Laureate\":\"International_Federation_of_Red_Cross_and_Red_Crescent_Societies\",\"Alma Mater\":\"N\\/A\"}\n",
      "{\"Laureate\":\"Charles_H._Townes\",\"Alma Mater\":\"Furman University || BS || BA || Duke University || MA || California Institute of Technology || PhD\"}\n",
      "{\"Laureate\":\"Nikolay_Basov\",\"Alma Mater\":\"Moscow Engineering Physics Institute\"}\n",
      "{\"Laureate\":\"Alexander_Prokhorov\",\"Alma Mater\":\"N\\/A\"}\n",
      "{\"Laureate\":\"Dorothy_Hodgkin\",\"Alma Mater\":\"Somerville College, Oxford || BA || University of Cambridge || PhD\"}\n",
      "{\"Laureate\":\"Konrad_Emil_Bloch\",\"Alma Mater\":\"N\\/A\"}\n",
      "{\"Laureate\":\"Feodor_Lynen\",\"Alma Mater\":\"N\\/A\"}\n",
      "{\"Laureate\":\"Jean-Paul_Sartre\",\"Alma Mater\":\"N\\/A\"}\n",
      "{\"Laureate\":\"Martin_Luther_King_Jr.\",\"Alma Mater\":\"N\\/A\"}\n",
      "{\"Laureate\":\"Shin%27ichir%C5%8D_Tomonaga\",\"Alma Mater\":\"Kyoto Imperial University\"}\n",
      "{\"Laureate\":\"Julian_Schwinger\",\"Alma Mater\":\"City College of New York || Columbia University || BA || PhD\"}\n",
      "{\"Laureate\":\"Richard_Feynman\",\"Alma Mater\":\"N\\/A\"}\n",
      "{\"Laureate\":\"Robert_Burns_Woodward\",\"Alma Mater\":\"Massachusetts Institute of Technology || BS || PhD\"}\n",
      "{\"Laureate\":\"Fran%C3%A7ois_Jacob\",\"Alma Mater\":\"University of Paris\"}\n",
      "{\"Laureate\":\"Andr%C3%A9_Michel_Lwoff\",\"Alma Mater\":\"Pasteur Institute\"}\n",
      "{\"Laureate\":\"Jacques_Monod\",\"Alma Mater\":\"N\\/A\"}\n",
      "{\"Laureate\":\"Mikhail_Sholokhov\",\"Alma Mater\":\"N\\/A\"}\n",
      "{\"Laureate\":\"UNICEF\",\"Alma Mater\":\"N\\/A\"}\n",
      "{\"Laureate\":\"Alfred_Kastler\",\"Alma Mater\":\"\\u00c9cole Normale Sup\\u00e9rieure || University of Paris || [1]\"}\n",
      "{\"Laureate\":\"Robert_S._Mulliken\",\"Alma Mater\":\"MIT || University of Chicago\"}\n",
      "{\"Laureate\":\"Francis_Peyton_Rous\",\"Alma Mater\":\"Johns Hopkins University\"}\n",
      "{\"Laureate\":\"Charles_Brenton_Huggins\",\"Alma Mater\":\"Acadia University || Harvard University\"}\n",
      "{\"Laureate\":\"Shmuel_Yosef_Agnon\",\"Alma Mater\":\"N\\/A\"}\n",
      "{\"Laureate\":\"Nelly_Sachs\",\"Alma Mater\":\"N\\/A\"}\n",
      "{\"Laureate\":\"Hans_Bethe\",\"Alma Mater\":\"University of Frankfurt || University of Munich || PhD\"}\n",
      "{\"Laureate\":\"Manfred_Eigen\",\"Alma Mater\":\"University of G\\u00f6ttingen\"}\n",
      "{\"Laureate\":\"Ronald_George_Wreyford_Norrish\",\"Alma Mater\":\"University of Cambridge\"}\n",
      "{\"Laureate\":\"George_Porter\",\"Alma Mater\":\"University of Leeds || BSc || Emmanuel College, Cambridge || PhD\"}\n",
      "{\"Laureate\":\"Ragnar_Granit\",\"Alma Mater\":\"University of Helsinki\"}\n",
      "{\"Laureate\":\"Haldan_Keffer_Hartline\",\"Alma Mater\":\"Lafayette College || Johns Hopkins School of Medicine\"}\n",
      "{\"Laureate\":\"George_Wald\",\"Alma Mater\":\"New York University || Columbia University\"}\n",
      "{\"Laureate\":\"Miguel_%C3%81ngel_Asturias\",\"Alma Mater\":\"N\\/A\"}\n",
      "{\"Laureate\":\"Luis_Walter_Alvarez\",\"Alma Mater\":\"N\\/A\"}\n",
      "{\"Laureate\":\"Lars_Onsager\",\"Alma Mater\":\"Yale University || Norwegian University of Science and Technology\"}\n",
      "{\"Laureate\":\"Robert_W._Holley\",\"Alma Mater\":\"University of Illinois at Urbana\\u2013Champaign || Cornell University\"}\n",
      "{\"Laureate\":\"Har_Gobind_Khorana\",\"Alma Mater\":\"Government College, Lahore || Punjab University || BS || MS || University of Liverpool || PhD\"}\n",
      "{\"Laureate\":\"Marshall_Warren_Nirenberg\",\"Alma Mater\":\"University of Florida || University of Michigan\"}\n",
      "{\"Laureate\":\"Yasunari_Kawabata\",\"Alma Mater\":\"University of Tokyo\"}\n",
      "{\"Laureate\":\"Ren%C3%A9_Cassin\",\"Alma Mater\":\"N\\/A\"}\n",
      "{\"Laureate\":\"Murray_Gell-Mann\",\"Alma Mater\":\"Yale University || BS || Massachusetts Institute of Technology || PhD\"}\n",
      "{\"Laureate\":\"Derek_Barton\",\"Alma Mater\":\"Imperial College London\"}\n",
      "{\"Laureate\":\"Odd_Hassel\",\"Alma Mater\":\"University of Oslo\"}\n",
      "{\"Laureate\":\"Max_Delbr%C3%BCck\",\"Alma Mater\":\"University of G\\u00f6ttingen\"}\n",
      "{\"Laureate\":\"Alfred_Hershey\",\"Alma Mater\":\"Michigan State University\"}\n",
      "{\"Laureate\":\"Salvador_Luria\",\"Alma Mater\":\"University of Turin\"}\n",
      "{\"Laureate\":\"Samuel_Beckett\",\"Alma Mater\":\"N\\/A\"}\n",
      "{\"Laureate\":\"International_Labour_Organization\",\"Alma Mater\":\"N\\/A\"}\n",
      "{\"Laureate\":\"Ragnar_Frisch\",\"Alma Mater\":\"University of Oslo\"}\n",
      "{\"Laureate\":\"Jan_Tinbergen\",\"Alma Mater\":\"Leiden University\"}\n",
      "{\"Laureate\":\"Hannes_Alfv%C3%A9n\",\"Alma Mater\":\"University of Uppsala\"}\n",
      "{\"Laureate\":\"Louis_N%C3%A9el\",\"Alma Mater\":\"\\u00c9cole Normale Sup\\u00e9rieure || University of Paris || [4] || University of Strasbourg\"}\n",
      "{\"Laureate\":\"Luis_Federico_Leloir\",\"Alma Mater\":\"University of Buenos Aires\"}\n",
      "{\"Laureate\":\"Julius_Axelrod\",\"Alma Mater\":\"City College of New York || BS || New York University || MS || George Washington University || PhD\"}\n",
      "{\"Laureate\":\"Ulf_von_Euler\",\"Alma Mater\":\"Karolinska Institutet\"}\n",
      "{\"Laureate\":\"Bernard_Katz\",\"Alma Mater\":\"University of Leipzig\"}\n",
      "{\"Laureate\":\"Aleksandr_Solzhenitsyn\",\"Alma Mater\":\"Rostov State University\"}\n",
      "{\"Laureate\":\"Norman_Borlaug\",\"Alma Mater\":\"University of Minnesota || BS || MS || PhD\"}\n",
      "{\"Laureate\":\"Paul_Samuelson\",\"Alma Mater\":\"N\\/A\"}\n",
      "{\"Laureate\":\"Dennis_Gabor\",\"Alma Mater\":\"Technische Universit\\u00e4t Berlin || Technical University of Budapest\"}\n",
      "{\"Laureate\":\"Gerhard_Herzberg\",\"Alma Mater\":\"Technische Universit\\u00e4t Darmstadt\"}\n",
      "{\"Laureate\":\"Earl_Wilbur_Sutherland_Jr.\",\"Alma Mater\":\"Washington University in St. Louis || M.D || Washburn University || B.S\"}\n",
      "{\"Laureate\":\"Pablo_Neruda\",\"Alma Mater\":\"N\\/A\"}\n",
      "{\"Laureate\":\"Willy_Brandt\",\"Alma Mater\":\"N\\/A\"}\n",
      "{\"Laureate\":\"Simon_Kuznets\",\"Alma Mater\":\"N\\/A\"}\n",
      "{\"Laureate\":\"John_Bardeen\",\"Alma Mater\":\"University of Wisconsin\\u2013Madison || BS || MS || Princeton University || PhD\"}\n",
      "{\"Laureate\":\"Leon_Cooper\",\"Alma Mater\":\"Columbia University\"}\n",
      "{\"Laureate\":\"John_Robert_Schrieffer\",\"Alma Mater\":\"Massachusetts Institute of Technology || University of Illinois at Urbana\\u2013Champaign\"}\n",
      "{\"Laureate\":\"Christian_B._Anfinsen\",\"Alma Mater\":\"Swarthmore College || BA || University of Pennsylvania || MS || Harvard University || PhD\"}\n",
      "{\"Laureate\":\"Stanford_Moore\",\"Alma Mater\":\"Vanderbilt University || University of Wisconsin\\u2013Madison\"}\n",
      "{\"Laureate\":\"William_Howard_Stein\",\"Alma Mater\":\"N\\/A\"}\n",
      "{\"Laureate\":\"Gerald_Edelman\",\"Alma Mater\":\"N\\/A\"}\n",
      "{\"Laureate\":\"Rodney_Robert_Porter\",\"Alma Mater\":\"University of Liverpool || University of Cambridge\"}\n",
      "{\"Laureate\":\"Heinrich_B%C3%B6ll\",\"Alma Mater\":\"N\\/A\"}\n",
      "{\"Laureate\":\"John_Hicks\",\"Alma Mater\":\"N\\/A\"}\n",
      "{\"Laureate\":\"Kenneth_Arrow\",\"Alma Mater\":\"N\\/A\"}\n",
      "{\"Laureate\":\"Leo_Esaki\",\"Alma Mater\":\"Tokyo Imperial University\"}\n",
      "{\"Laureate\":\"Ivar_Giaever\",\"Alma Mater\":\"Norwegian University of Science and Technology || Rensselaer Polytechnic Institute\"}\n",
      "{\"Laureate\":\"Brian_Josephson\",\"Alma Mater\":\"Trinity College, Cambridge || MA || PhD\"}\n",
      "{\"Laureate\":\"Ernst_Otto_Fischer\",\"Alma Mater\":\"Technical University of Munich\"}\n",
      "{\"Laureate\":\"Geoffrey_Wilkinson\",\"Alma Mater\":\"Imperial College London\"}\n",
      "{\"Laureate\":\"Karl_von_Frisch\",\"Alma Mater\":\"N\\/A\"}\n",
      "{\"Laureate\":\"Konrad_Lorenz\",\"Alma Mater\":\"Columbia University || University of Vienna || MD\"}\n",
      "{\"Laureate\":\"Nikolaas_Tinbergen\",\"Alma Mater\":\"Leiden University\"}\n",
      "{\"Laureate\":\"Patrick_White\",\"Alma Mater\":\"N\\/A\"}\n",
      "{\"Laureate\":\"Henry_Kissinger\",\"Alma Mater\":\"N\\/A\"}\n",
      "{\"Laureate\":\"L%C3%AA_%C4%90%E1%BB%A9c_Th%E1%BB%8D\",\"Alma Mater\":\"N\\/A\"}\n",
      "{\"Laureate\":\"Wassily_Leontief\",\"Alma Mater\":\"University of Leningrad || MA || University of Berlin || PhD\"}\n",
      "{\"Laureate\":\"Martin_Ryle\",\"Alma Mater\":\"University of Oxford\"}\n",
      "{\"Laureate\":\"Antony_Hewish\",\"Alma Mater\":\"University of Cambridge\"}\n",
      "{\"Laureate\":\"Paul_Flory\",\"Alma Mater\":\"Manchester University (Indiana) || Ohio State University\"}\n",
      "{\"Laureate\":\"Albert_Claude\",\"Alma Mater\":\"University of Li\\u00e8ge\"}\n",
      "{\"Laureate\":\"Christian_de_Duve\",\"Alma Mater\":\"N\\/A\"}\n",
      "{\"Laureate\":\"George_Emil_Palade\",\"Alma Mater\":\"Carol Davila School of Medicine\"}\n",
      "{\"Laureate\":\"Eyvind_Johnson\",\"Alma Mater\":\"N\\/A\"}\n",
      "{\"Laureate\":\"Harry_Martinson\",\"Alma Mater\":\"N\\/A\"}\n",
      "{\"Laureate\":\"Se%C3%A1n_MacBride\",\"Alma Mater\":\"University College Dublin\"}\n",
      "{\"Laureate\":\"Eisaku_Sat%C5%8D\",\"Alma Mater\":\"Tokyo Imperial University\"}\n",
      "{\"Laureate\":\"Gunnar_Myrdal\",\"Alma Mater\":\"N\\/A\"}\n",
      "{\"Laureate\":\"Friedrich_Hayek\",\"Alma Mater\":\"N\\/A\"}\n",
      "{\"Laureate\":\"Aage_Bohr\",\"Alma Mater\":\"University of Copenhagen\"}\n",
      "{\"Laureate\":\"Ben_Roy_Mottelson\",\"Alma Mater\":\"Purdue University || BS || Harvard University || PhD\"}\n",
      "{\"Laureate\":\"James_Rainwater\",\"Alma Mater\":\"N\\/A\"}\n",
      "{\"Laureate\":\"John_Cornforth\",\"Alma Mater\":\"University of Sydney || BSc || St Catherine's College, Oxford || DPhil\"}\n",
      "{\"Laureate\":\"Vladimir_Prelog\",\"Alma Mater\":\"Czech Technical University in Prague\"}\n",
      "{\"Laureate\":\"David_Baltimore\",\"Alma Mater\":\"N\\/A\"}\n",
      "{\"Laureate\":\"Renato_Dulbecco\",\"Alma Mater\":\"University of Turin\"}\n",
      "{\"Laureate\":\"Howard_Martin_Temin\",\"Alma Mater\":\"Swarthmore College || California Institute of Technology\"}\n",
      "{\"Laureate\":\"Eugenio_Montale\",\"Alma Mater\":\"N\\/A\"}\n",
      "{\"Laureate\":\"Andrei_Sakharov\",\"Alma Mater\":\"Moscow State University || Lebedev Physical Institute\"}\n",
      "{\"Laureate\":\"Leonid_Kantorovich\",\"Alma Mater\":\"Leningrad State University\"}\n",
      "{\"Laureate\":\"Tjalling_Koopmans\",\"Alma Mater\":\"University of Utrecht || University of Leiden\"}\n",
      "{\"Laureate\":\"Burton_Richter\",\"Alma Mater\":\"MIT\"}\n",
      "{\"Laureate\":\"Samuel_C._C._Ting\",\"Alma Mater\":\"University of Michigan || BSE || PhD\"}\n",
      "{\"Laureate\":\"William_Lipscomb\",\"Alma Mater\":\"University of Kentucky || BS || California Institute of Technology || PhD\"}\n",
      "{\"Laureate\":\"Baruch_Samuel_Blumberg\",\"Alma Mater\":\"Union College, New York || BA || Balliol College || DPhil || Columbia University || MD\"}\n",
      "{\"Laureate\":\"Daniel_Carleton_Gajdusek\",\"Alma Mater\":\"University of Rochester || Harvard Medical School\"}\n",
      "{\"Laureate\":\"Saul_Bellow\",\"Alma Mater\":\"N\\/A\"}\n",
      "{\"Laureate\":\"Betty_Williams_(peace_activist)\",\"Alma Mater\":\"N\\/A\"}\n",
      "{\"Laureate\":\"Mairead_Maguire\",\"Alma Mater\":\"Trinity College Dublin\"}\n",
      "{\"Laureate\":\"Milton_Friedman\",\"Alma Mater\":\"N\\/A\"}\n",
      "{\"Laureate\":\"Philip_W._Anderson\",\"Alma Mater\":\"Harvard University || United States Naval Research Laboratory\"}\n",
      "{\"Laureate\":\"Nevill_Francis_Mott\",\"Alma Mater\":\"University of Cambridge\"}\n",
      "{\"Laureate\":\"John_Hasbrouck_Van_Vleck\",\"Alma Mater\":\"University of Wisconsin\\u2013Madison || Harvard University\"}\n",
      "{\"Laureate\":\"Ilya_Prigogine\",\"Alma Mater\":\"Free University of Brussels\"}\n",
      "{\"Laureate\":\"Roger_Guillemin\",\"Alma Mater\":\"Universit\\u00e9 de Montr\\u00e9al || Universit\\u00e9 de Bourgogne\"}\n",
      "{\"Laureate\":\"Andrew_Schally\",\"Alma Mater\":\"N\\/A\"}\n",
      "{\"Laureate\":\"Rosalyn_Sussman_Yalow\",\"Alma Mater\":\"Hunter College || University of Illinois at Urbana\\u2013Champaign\"}\n",
      "{\"Laureate\":\"Vicente_Aleixandre\",\"Alma Mater\":\"N\\/A\"}\n",
      "{\"Laureate\":\"Amnesty_International\",\"Alma Mater\":\"N\\/A\"}\n",
      "{\"Laureate\":\"Bertil_Ohlin\",\"Alma Mater\":\"Lund University || BA || Stockholm School of Economics || MSc || Harvard University || MA || Stockholm University || PhD\"}\n",
      "{\"Laureate\":\"James_Meade\",\"Alma Mater\":\"N\\/A\"}\n",
      "{\"Laureate\":\"Pyotr_Kapitsa\",\"Alma Mater\":\"N\\/A\"}\n",
      "{\"Laureate\":\"Arno_Allan_Penzias\",\"Alma Mater\":\"N\\/A\"}\n",
      "{\"Laureate\":\"Robert_Woodrow_Wilson\",\"Alma Mater\":\"Rice University || California Institute of Technology\"}\n",
      "{\"Laureate\":\"Peter_D._Mitchell\",\"Alma Mater\":\"University of Cambridge\"}\n",
      "{\"Laureate\":\"Werner_Arber\",\"Alma Mater\":\"Old Cantonal School Aarau || ETH Zurich\"}\n",
      "{\"Laureate\":\"Daniel_Nathans\",\"Alma Mater\":\"N\\/A\"}\n",
      "{\"Laureate\":\"Hamilton_O._Smith\",\"Alma Mater\":\"University of California, Berkeley || Johns Hopkins School of Medicine\"}\n",
      "{\"Laureate\":\"Isaac_Bashevis_Singer\",\"Alma Mater\":\"N\\/A\"}\n",
      "{\"Laureate\":\"Anwar_Sadat\",\"Alma Mater\":\"Egyptian Military Academy\"}\n",
      "{\"Laureate\":\"Menachem_Begin\",\"Alma Mater\":\"University of Warsaw\"}\n",
      "{\"Laureate\":\"Herbert_A._Simon\",\"Alma Mater\":\"N\\/A\"}\n",
      "{\"Laureate\":\"Sheldon_Glashow\",\"Alma Mater\":\"Cornell University || AB || Harvard University || PhD\"}\n",
      "{\"Laureate\":\"Abdus_Salam\",\"Alma Mater\":\"Government College University || BA || University of the Punjab || MA || St John's College, Cambridge || PhD\"}\n",
      "{\"Laureate\":\"Steven_Weinberg\",\"Alma Mater\":\"N\\/A\"}\n",
      "{\"Laureate\":\"Herbert_C._Brown\",\"Alma Mater\":\"University of Chicago\"}\n",
      "{\"Laureate\":\"Georg_Wittig\",\"Alma Mater\":\"University of Marburg\"}\n",
      "{\"Laureate\":\"Allan_McLeod_Cormack\",\"Alma Mater\":\"Rondebosch Boys' High School || University of Cape Town || St John's College, Cambridge\"}\n",
      "{\"Laureate\":\"Godfrey_Hounsfield\",\"Alma Mater\":\"N\\/A\"}\n",
      "{\"Laureate\":\"Odysseas_Elytis\",\"Alma Mater\":\"University of Athens || [1]\"}\n",
      "{\"Laureate\":\"Mother_Teresa\",\"Alma Mater\":\"N\\/A\"}\n",
      "{\"Laureate\":\"Theodore_Schultz\",\"Alma Mater\":\"N\\/A\"}\n",
      "{\"Laureate\":\"W._Arthur_Lewis\",\"Alma Mater\":\"London School of Economics\"}\n",
      "{\"Laureate\":\"James_Cronin\",\"Alma Mater\":\"Southern Methodist University || University of Chicago\"}\n",
      "{\"Laureate\":\"Val_Logsdon_Fitch\",\"Alma Mater\":\"N\\/A\"}\n",
      "{\"Laureate\":\"Paul_Berg\",\"Alma Mater\":\"Pennsylvania State University || Case Western Reserve University\"}\n",
      "{\"Laureate\":\"Walter_Gilbert\",\"Alma Mater\":\"N\\/A\"}\n",
      "{\"Laureate\":\"Frederick_Sanger\",\"Alma Mater\":\"St John's College, Cambridge || BA || PhD\"}\n",
      "{\"Laureate\":\"Baruj_Benacerraf\",\"Alma Mater\":\"Columbia University || Virginia Commonwealth University\"}\n",
      "{\"Laureate\":\"Jean_Dausset\",\"Alma Mater\":\"University of Paris\"}\n",
      "{\"Laureate\":\"George_Davis_Snell\",\"Alma Mater\":\"Dartmouth College || Harvard University\"}\n",
      "{\"Laureate\":\"Czes%C5%82aw_Mi%C5%82osz\",\"Alma Mater\":\"N\\/A\"}\n",
      "{\"Laureate\":\"Adolfo_P%C3%A9rez_Esquivel\",\"Alma Mater\":\"National University of La Plata\"}\n",
      "{\"Laureate\":\"Lawrence_Klein\",\"Alma Mater\":\"Massachusetts Institute of Technology || PhD || University of California, Berkeley || BA || Los Angeles City College || AA\"}\n",
      "{\"Laureate\":\"Nicolaas_Bloembergen\",\"Alma Mater\":\"Leiden University || Utrecht University\"}\n",
      "{\"Laureate\":\"Arthur_Leonard_Schawlow\",\"Alma Mater\":\"University of Toronto\"}\n",
      "{\"Laureate\":\"Kai_Siegbahn\",\"Alma Mater\":\"University of Stockholm\"}\n",
      "{\"Laureate\":\"Kenichi_Fukui\",\"Alma Mater\":\"Kyoto Imperial University\"}\n",
      "{\"Laureate\":\"Roald_Hoffmann\",\"Alma Mater\":\"Columbia University || Harvard University\"}\n",
      "{\"Laureate\":\"Roger_Wolcott_Sperry\",\"Alma Mater\":\"Oberlin College || BA || MA || University of Chicago || PhD\"}\n",
      "{\"Laureate\":\"David_H._Hubel\",\"Alma Mater\":\"McGill University\"}\n",
      "{\"Laureate\":\"Torsten_Wiesel\",\"Alma Mater\":\"Karolinska Institute\"}\n",
      "{\"Laureate\":\"Elias_Canetti\",\"Alma Mater\":\"University of Vienna || PhD\"}\n",
      "{\"Laureate\":\"United_Nations_High_Commissioner_for_Refugees\",\"Alma Mater\":\"N\\/A\"}\n",
      "{\"Laureate\":\"James_Tobin\",\"Alma Mater\":\"Harvard University\"}\n",
      "{\"Laureate\":\"Kenneth_G._Wilson\",\"Alma Mater\":\"N\\/A\"}\n",
      "{\"Laureate\":\"Aaron_Klug\",\"Alma Mater\":\"N\\/A\"}\n",
      "{\"Laureate\":\"Sune_Bergstr%C3%B6m\",\"Alma Mater\":\"N\\/A\"}\n",
      "{\"Laureate\":\"Bengt_I._Samuelsson\",\"Alma Mater\":\"Lund University\"}\n",
      "{\"Laureate\":\"John_Vane\",\"Alma Mater\":\"University of Birmingham || University of Oxford\"}\n",
      "{\"Laureate\":\"Gabriel_Garc%C3%ADa_M%C3%A1rquez\",\"Alma Mater\":\"National University of Colombia || University of Cartagena\"}\n",
      "{\"Laureate\":\"Alva_Myrdal\",\"Alma Mater\":\"N\\/A\"}\n",
      "{\"Laureate\":\"Alfonso_Garc%C3%ADa_Robles\",\"Alma Mater\":\"National Autonomous University of Mexico || LLB\"}\n",
      "{\"Laureate\":\"George_Stigler\",\"Alma Mater\":\"N\\/A\"}\n",
      "{\"Laureate\":\"Subrahmanyan_Chandrasekhar\",\"Alma Mater\":\"University of Madras || BSc || Trinity College, Cambridge || MSc || PhD\"}\n",
      "{\"Laureate\":\"William_Alfred_Fowler\",\"Alma Mater\":\"Ohio State University || Caltech\"}\n",
      "{\"Laureate\":\"Henry_Taube\",\"Alma Mater\":\"University of Saskatchewan || BSc || MSc || University of California, Berkeley || PhD\"}\n",
      "{\"Laureate\":\"Barbara_McClintock\",\"Alma Mater\":\"Cornell University || BS || MS\"}\n",
      "{\"Laureate\":\"William_Golding\",\"Alma Mater\":\"Brasenose College, Oxford\"}\n",
      "{\"Laureate\":\"Lech_Wa%C5%82%C4%99sa\",\"Alma Mater\":\"N\\/A\"}\n",
      "{\"Laureate\":\"G%C3%A9rard_Debreu\",\"Alma Mater\":\"\\u00c9cole Normale Sup\\u00e9rieure || University of Paris\"}\n",
      "{\"Laureate\":\"Carlo_Rubbia\",\"Alma Mater\":\"Scuola Normale Superiore di Pisa\"}\n",
      "{\"Laureate\":\"Simon_van_der_Meer\",\"Alma Mater\":\"Delft University of Technology\"}\n",
      "{\"Laureate\":\"Robert_Bruce_Merrifield\",\"Alma Mater\":\"UCLA\"}\n",
      "{\"Laureate\":\"Niels_Kaj_Jerne\",\"Alma Mater\":\"N\\/A\"}\n",
      "{\"Laureate\":\"Georges_J._F._K%C3%B6hler\",\"Alma Mater\":\"N\\/A\"}\n",
      "{\"Laureate\":\"C%C3%A9sar_Milstein\",\"Alma Mater\":\"University of Buenos Aires || University of Cambridge\"}\n",
      "{\"Laureate\":\"Jaroslav_Seifert\",\"Alma Mater\":\"N\\/A\"}\n",
      "{\"Laureate\":\"Desmond_Tutu\",\"Alma Mater\":\"N\\/A\"}\n",
      "{\"Laureate\":\"Richard_Stone\",\"Alma Mater\":\"Gonville and Caius College, Cambridge || King's College, Cambridge\"}\n",
      "{\"Laureate\":\"Klaus_von_Klitzing\",\"Alma Mater\":\"N\\/A\"}\n",
      "{\"Laureate\":\"Herbert_A._Hauptman\",\"Alma Mater\":\"City College of New York || BS || Columbia University || MA || University of Maryland, College Park\"}\n",
      "{\"Laureate\":\"Jerome_Karle\",\"Alma Mater\":\"City College of New York || Harvard University || University of Michigan\"}\n",
      "{\"Laureate\":\"Michael_Stuart_Brown\",\"Alma Mater\":\"University of Pennsylvania || University of Pennsylvania School of Medicine\"}\n",
      "{\"Laureate\":\"Joseph_L._Goldstein\",\"Alma Mater\":\"Washington and Lee University || University of Texas Southwestern Medical Center\"}\n",
      "{\"Laureate\":\"Claude_Simon\",\"Alma Mater\":\"N\\/A\"}\n",
      "{\"Laureate\":\"International_Physicians_for_the_Prevention_of_Nuclear_War\",\"Alma Mater\":\"N\\/A\"}\n",
      "{\"Laureate\":\"Franco_Modigliani\",\"Alma Mater\":\"The New School || PhD || Sapienza University of Rome || Laurea\"}\n",
      "{\"Laureate\":\"Ernst_Ruska\",\"Alma Mater\":\"Technische Universit\\u00e4t Berlin || Technical University of Munich\"}\n",
      "{\"Laureate\":\"Gerd_Binnig\",\"Alma Mater\":\"Goethe University Frankfurt\"}\n",
      "{\"Laureate\":\"Heinrich_Rohrer\",\"Alma Mater\":\"N\\/A\"}\n",
      "{\"Laureate\":\"Dudley_R._Herschbach\",\"Alma Mater\":\"Stanford University || BS || MS || Harvard University || MA || PhD\"}\n",
      "{\"Laureate\":\"Yuan_T._Lee\",\"Alma Mater\":\"N\\/A\"}\n",
      "{\"Laureate\":\"John_Polanyi\",\"Alma Mater\":\"University of Manchester\"}\n",
      "{\"Laureate\":\"Stanley_Cohen_(biochemist)\",\"Alma Mater\":\"N\\/A\"}\n",
      "{\"Laureate\":\"Rita_Levi-Montalcini\",\"Alma Mater\":\"University of Turin\"}\n",
      "{\"Laureate\":\"Wole_Soyinka\",\"Alma Mater\":\"Government College, Ibadan || Abeokuta Grammar School || University College, Ibadan || University of Leeds\"}\n",
      "{\"Laureate\":\"Elie_Wiesel\",\"Alma Mater\":\"University of Paris\"}\n",
      "{\"Laureate\":\"James_M._Buchanan\",\"Alma Mater\":\"N\\/A\"}\n",
      "{\"Laureate\":\"Georg_Bednorz\",\"Alma Mater\":\"N\\/A\"}\n",
      "{\"Laureate\":\"K._Alex_M%C3%BCller\",\"Alma Mater\":\"ETH Z\\u00fcrich\"}\n",
      "{\"Laureate\":\"Donald_J._Cram\",\"Alma Mater\":\"Rollins College || University of Nebraska || Harvard University\"}\n",
      "{\"Laureate\":\"Jean-Marie_Lehn\",\"Alma Mater\":\"University of Strasbourg\"}\n",
      "{\"Laureate\":\"Charles_J._Pedersen\",\"Alma Mater\":\"University of Dayton || Massachusetts Institute of Technology\"}\n",
      "{\"Laureate\":\"Susumu_Tonegawa\",\"Alma Mater\":\"Kyoto University || University of California, San Diego\"}\n",
      "{\"Laureate\":\"Joseph_Brodsky\",\"Alma Mater\":\"N\\/A\"}\n",
      "{\"Laureate\":\"%C3%93scar_Arias\",\"Alma Mater\":\"Boston University || University of Costa Rica || London School of Economics || University of Essex\"}\n",
      "{\"Laureate\":\"Robert_Solow\",\"Alma Mater\":\"N\\/A\"}\n",
      "{\"Laureate\":\"Leon_M._Lederman\",\"Alma Mater\":\"N\\/A\"}\n",
      "{\"Laureate\":\"Melvin_Schwartz\",\"Alma Mater\":\"N\\/A\"}\n",
      "{\"Laureate\":\"Jack_Steinberger\",\"Alma Mater\":\"N\\/A\"}\n",
      "{\"Laureate\":\"Johann_Deisenhofer\",\"Alma Mater\":\"Technical University of Munich || Max Planck Institute for Biochemistry || [2]\"}\n",
      "{\"Laureate\":\"Robert_Huber\",\"Alma Mater\":\"Technical University Munich\"}\n",
      "{\"Laureate\":\"Hartmut_Michel\",\"Alma Mater\":\"University of T\\u00fcbingen\"}\n",
      "{\"Laureate\":\"James_W._Black\",\"Alma Mater\":\"University of St Andrews\"}\n",
      "{\"Laureate\":\"Gertrude_B._Elion\",\"Alma Mater\":\"Hunter College || New York University\"}\n",
      "{\"Laureate\":\"George_H._Hitchings\",\"Alma Mater\":\"University of Washington || Harvard University\"}\n",
      "{\"Laureate\":\"Naguib_Mahfouz\",\"Alma Mater\":\"N\\/A\"}\n",
      "{\"Laureate\":\"United_Nations_peacekeeping\",\"Alma Mater\":\"N\\/A\"}\n",
      "{\"Laureate\":\"Maurice_Allais\",\"Alma Mater\":\"\\u00c9cole Polytechnique || \\u00c9cole Nationale Sup\\u00e9rieure des Mines de Paris || University of Paris\"}\n",
      "{\"Laureate\":\"Norman_Ramsey_Jr.\",\"Alma Mater\":\"N\\/A\"}\n",
      "{\"Laureate\":\"Hans_Georg_Dehmelt\",\"Alma Mater\":\"University of G\\u00f6ttingen\"}\n",
      "{\"Laureate\":\"Wolfgang_Paul\",\"Alma Mater\":\"Technical University of Munich || Technische Universit\\u00e4t Berlin || University of G\\u00f6ttingen\"}\n",
      "{\"Laureate\":\"Sidney_Altman\",\"Alma Mater\":\"MIT || University of Colorado at Boulder || Columbia University || Arizona State University\"}\n",
      "{\"Laureate\":\"Thomas_Cech\",\"Alma Mater\":\"Grinnell College || University of California, Berkeley\"}\n",
      "{\"Laureate\":\"J._Michael_Bishop\",\"Alma Mater\":\"Gettysburg College || Harvard University || MD\"}\n",
      "{\"Laureate\":\"Harold_E._Varmus\",\"Alma Mater\":\"Amherst College || BA || Harvard University || MA || Columbia University || MD\"}\n",
      "{\"Laureate\":\"Camilo_Jos%C3%A9_Cela\",\"Alma Mater\":\"N\\/A\"}\n",
      "{\"Laureate\":\"14th_Dalai_Lama\",\"Alma Mater\":\"N\\/A\"}\n",
      "{\"Laureate\":\"Trygve_Haavelmo\",\"Alma Mater\":\"University of Oslo\"}\n",
      "{\"Laureate\":\"Jerome_Isaac_Friedman\",\"Alma Mater\":\"University of Chicago\"}\n",
      "{\"Laureate\":\"Henry_Way_Kendall\",\"Alma Mater\":\"Amherst College || BA || Massachusetts Institute of Technology || PhD\"}\n",
      "{\"Laureate\":\"Richard_E._Taylor\",\"Alma Mater\":\"University of Alberta || BSc || MSc || Stanford University || PhD\"}\n",
      "{\"Laureate\":\"Elias_James_Corey\",\"Alma Mater\":\"Massachusetts Institute of Technology || BS || PhD\"}\n",
      "{\"Laureate\":\"Joseph_Murray\",\"Alma Mater\":\"N\\/A\"}\n",
      "{\"Laureate\":\"E._Donnall_Thomas\",\"Alma Mater\":\"University of Texas at Austin || BA || MA || Harvard University || MD\"}\n",
      "{\"Laureate\":\"Octavio_Paz\",\"Alma Mater\":\"N\\/A\"}\n",
      "{\"Laureate\":\"Mikhail_Gorbachev\",\"Alma Mater\":\"Moscow State University || LLB\"}\n",
      "{\"Laureate\":\"Harry_Markowitz\",\"Alma Mater\":\"N\\/A\"}\n",
      "{\"Laureate\":\"Merton_Miller\",\"Alma Mater\":\"N\\/A\"}\n",
      "{\"Laureate\":\"William_F._Sharpe\",\"Alma Mater\":\"University of California, Los Angeles || BA || MA || PhD\"}\n",
      "{\"Laureate\":\"Pierre-Gilles_de_Gennes\",\"Alma Mater\":\"\\u00c9cole Normale Sup\\u00e9rieure || Paris-Saclay University\"}\n",
      "{\"Laureate\":\"Richard_R._Ernst\",\"Alma Mater\":\"ETH Zurich\"}\n",
      "{\"Laureate\":\"Erwin_Neher\",\"Alma Mater\":\"Technical University of Munich || University of Wisconsin\\u2013Madison\"}\n",
      "{\"Laureate\":\"Bert_Sakmann\",\"Alma Mater\":\"N\\/A\"}\n",
      "{\"Laureate\":\"Nadine_Gordimer\",\"Alma Mater\":\"N\\/A\"}\n",
      "{\"Laureate\":\"Aung_San_Suu_Kyi\",\"Alma Mater\":\"N\\/A\"}\n",
      "{\"Laureate\":\"Ronald_Coase\",\"Alma Mater\":\"N\\/A\"}\n",
      "{\"Laureate\":\"Georges_Charpak\",\"Alma Mater\":\"\\u00c9cole des Mines || Coll\\u00e8ge de France\"}\n",
      "{\"Laureate\":\"Rudolph_A._Marcus\",\"Alma Mater\":\"McGill University\"}\n",
      "{\"Laureate\":\"Edmond_H._Fischer\",\"Alma Mater\":\"University of Geneva\"}\n",
      "{\"Laureate\":\"Edwin_G._Krebs\",\"Alma Mater\":\"University of Illinois Urbana\\u2013Champaign || B.S. || Washington University in St. Louis || M.D.\"}\n",
      "{\"Laureate\":\"Derek_Walcott\",\"Alma Mater\":\"N\\/A\"}\n",
      "{\"Laureate\":\"Rigoberta_Mench%C3%BA\",\"Alma Mater\":\"N\\/A\"}\n",
      "{\"Laureate\":\"Gary_Becker\",\"Alma Mater\":\"N\\/A\"}\n",
      "{\"Laureate\":\"Russell_Alan_Hulse\",\"Alma Mater\":\"Cooper Union || BS || UMass Amherst || PhD\"}\n",
      "{\"Laureate\":\"Joseph_Hooton_Taylor_Jr.\",\"Alma Mater\":\"Haverford College || Harvard University\"}\n",
      "{\"Laureate\":\"Kary_Mullis\",\"Alma Mater\":\"Georgia Institute of Technology || BS || University of California, Berkeley || PhD\"}\n",
      "{\"Laureate\":\"Michael_Smith_(chemist)\",\"Alma Mater\":\"University of Manchester\"}\n",
      "{\"Laureate\":\"Richard_J._Roberts\",\"Alma Mater\":\"University of Sheffield || BSc || PhD\"}\n",
      "{\"Laureate\":\"Phillip_Allen_Sharp\",\"Alma Mater\":\"Union College, Kentucky || BA || University of Illinois at Urbana\\u2013Champaign || PhD\"}\n",
      "{\"Laureate\":\"Toni_Morrison\",\"Alma Mater\":\"N\\/A\"}\n",
      "{\"Laureate\":\"Nelson_Mandela\",\"Alma Mater\":\"University of Fort Hare || University of London || University of South Africa || Witwatersrand University\"}\n",
      "{\"Laureate\":\"F._W._de_Klerk\",\"Alma Mater\":\"Potchefstroom University || BA || LLB\"}\n",
      "{\"Laureate\":\"Robert_Fogel\",\"Alma Mater\":\"N\\/A\"}\n",
      "{\"Laureate\":\"Douglass_North\",\"Alma Mater\":\"N\\/A\"}\n",
      "{\"Laureate\":\"Bertram_Brockhouse\",\"Alma Mater\":\"University of British Columbia || BA || University of Toronto || MA || PhD\"}\n",
      "{\"Laureate\":\"Clifford_Shull\",\"Alma Mater\":\"\"}\n",
      "{\"Laureate\":\"George_Andrew_Olah\",\"Alma Mater\":\"Budapest University of Technology and Economics\"}\n",
      "{\"Laureate\":\"Alfred_G._Gilman\",\"Alma Mater\":\"Yale University || Case Western Reserve University\"}\n",
      "{\"Laureate\":\"Martin_Rodbell\",\"Alma Mater\":\"Johns Hopkins University || University of Washington\"}\n",
      "{\"Laureate\":\"Kenzabur%C5%8D_%C5%8Ce\",\"Alma Mater\":\"University of Tokyo\"}\n",
      "{\"Laureate\":\"Yasser_Arafat\",\"Alma Mater\":\"University of King Fuad I\"}\n",
      "{\"Laureate\":\"Shimon_Peres\",\"Alma Mater\":\"N\\/A\"}\n",
      "{\"Laureate\":\"Yitzhak_Rabin\",\"Alma Mater\":\"N\\/A\"}\n",
      "{\"Laureate\":\"John_Harsanyi\",\"Alma Mater\":\"University of Lyon || University of Budapest || University of Sydney || Stanford University\"}\n",
      "{\"Laureate\":\"John_Forbes_Nash_Jr.\",\"Alma Mater\":\"N\\/A\"}\n",
      "{\"Laureate\":\"Reinhard_Selten\",\"Alma Mater\":\"N\\/A\"}\n",
      "{\"Laureate\":\"Martin_Lewis_Perl\",\"Alma Mater\":\"New York University Tandon School of Engineering || Columbia University\"}\n",
      "{\"Laureate\":\"Frederick_Reines\",\"Alma Mater\":\"New York University || Stevens Institute of Technology\"}\n",
      "{\"Laureate\":\"Paul_J._Crutzen\",\"Alma Mater\":\"\"}\n",
      "{\"Laureate\":\"Mario_J._Molina\",\"Alma Mater\":\"N\\/A\"}\n",
      "{\"Laureate\":\"F._Sherwood_Rowland\",\"Alma Mater\":\"Ohio Wesleyan University || University of Chicago\"}\n",
      "{\"Laureate\":\"Edward_B._Lewis\",\"Alma Mater\":\"University of Minnesota || California Institute of Technology\"}\n",
      "{\"Laureate\":\"Christiane_N%C3%BCsslein-Volhard\",\"Alma Mater\":\"Goethe University Frankfurt || University of T\\u00fcbingen\"}\n",
      "{\"Laureate\":\"Eric_F._Wieschaus\",\"Alma Mater\":\"University of Notre Dame || Yale University\"}\n",
      "{\"Laureate\":\"Seamus_Heaney\",\"Alma Mater\":\"Queen's University Belfast\"}\n",
      "{\"Laureate\":\"Joseph_Rotblat\",\"Alma Mater\":\"Free University of Poland || University of Warsaw || University of Liverpool || University of London\"}\n",
      "{\"Laureate\":\"Pugwash_Conferences_on_Science_and_World_Affairs\",\"Alma Mater\":\"N\\/A\"}\n",
      "{\"Laureate\":\"Robert_Lucas_Jr.\",\"Alma Mater\":\"N\\/A\"}\n",
      "{\"Laureate\":\"David_Lee_(physicist)\",\"Alma Mater\":\"N\\/A\"}\n",
      "{\"Laureate\":\"Douglas_Osheroff\",\"Alma Mater\":\"California Institute of Technology || B.S. || Cornell University || Ph.D.\"}\n",
      "{\"Laureate\":\"Robert_Coleman_Richardson\",\"Alma Mater\":\"Virginia Tech || B.S. || M.S. || Duke University || Ph.D.\"}\n",
      "{\"Laureate\":\"Robert_Curl\",\"Alma Mater\":\"Rice Institute || University of California, Berkeley\"}\n",
      "{\"Laureate\":\"Harry_Kroto\",\"Alma Mater\":\"University of Sheffield\"}\n",
      "{\"Laureate\":\"Richard_Smalley\",\"Alma Mater\":\"Hope College || University of Michigan || Princeton University\"}\n",
      "{\"Laureate\":\"Peter_C._Doherty\",\"Alma Mater\":\"University of Queensland || University of Edinburgh\"}\n",
      "{\"Laureate\":\"Rolf_M._Zinkernagel\",\"Alma Mater\":\"Australian National University || University of Basel\"}\n",
      "{\"Laureate\":\"Wis%C5%82awa_Szymborska\",\"Alma Mater\":\"N\\/A\"}\n",
      "{\"Laureate\":\"Carlos_Filipe_Ximenes_Belo\",\"Alma Mater\":\"Catholic University of Portugal || Salesian Pontifical University\"}\n",
      "{\"Laureate\":\"Jos%C3%A9_Ramos-Horta\",\"Alma Mater\":\"Antioch University || The Hague Academy of International Law || International Institute of Human Rights || Columbia University\"}\n",
      "{\"Laureate\":\"James_Mirrlees\",\"Alma Mater\":\"N\\/A\"}\n",
      "{\"Laureate\":\"William_Vickrey\",\"Alma Mater\":\"N\\/A\"}\n",
      "{\"Laureate\":\"Steven_Chu\",\"Alma Mater\":\"N\\/A\"}\n",
      "{\"Laureate\":\"Claude_Cohen-Tannoudji\",\"Alma Mater\":\"\\u00c9cole normale sup\\u00e9rieure || University of Paris\"}\n",
      "{\"Laureate\":\"William_Daniel_Phillips\",\"Alma Mater\":\"Juniata College || Massachusetts Institute of Technology\"}\n",
      "{\"Laureate\":\"Paul_D._Boyer\",\"Alma Mater\":\"Brigham Young University || University of Wisconsin\\u2013Madison\"}\n",
      "{\"Laureate\":\"John_E._Walker\",\"Alma Mater\":\"University of Oxford\"}\n",
      "{\"Laureate\":\"Jens_Christian_Skou\",\"Alma Mater\":\"University of Copenhagen\"}\n",
      "{\"Laureate\":\"Stanley_B._Prusiner\",\"Alma Mater\":\"University of Pennsylvania || BA || MD\"}\n",
      "{\"Laureate\":\"Dario_Fo\",\"Alma Mater\":\"N\\/A\"}\n",
      "{\"Laureate\":\"International_Campaign_to_Ban_Landmines\",\"Alma Mater\":\"N\\/A\"}\n",
      "{\"Laureate\":\"Jody_Williams\",\"Alma Mater\":\"N\\/A\"}\n",
      "{\"Laureate\":\"Robert_C._Merton\",\"Alma Mater\":\"Columbia University || California Institute of Technology || Massachusetts Institute of Technology\"}\n",
      "{\"Laureate\":\"Myron_Scholes\",\"Alma Mater\":\"McMaster University || BA || University of Chicago || MBA || PhD\"}\n",
      "{\"Laureate\":\"Robert_B._Laughlin\",\"Alma Mater\":\"MIT || University of California, Berkeley\"}\n",
      "{\"Laureate\":\"Horst_Ludwig_St%C3%B6rmer\",\"Alma Mater\":\"University of Stuttgart || Goethe University Frankfurt\"}\n",
      "{\"Laureate\":\"Daniel_C._Tsui\",\"Alma Mater\":\"University of Chicago || Augustana College\"}\n",
      "{\"Laureate\":\"Walter_Kohn\",\"Alma Mater\":\"University of Toronto || BA || MA || Harvard University || PhD\"}\n",
      "{\"Laureate\":\"John_Pople\",\"Alma Mater\":\"University of Cambridge\"}\n",
      "{\"Laureate\":\"Robert_F._Furchgott\",\"Alma Mater\":\"University of North Carolina at Chapel Hill || Northwestern University\"}\n",
      "{\"Laureate\":\"Louis_Ignarro\",\"Alma Mater\":\"Columbia University || University of Minnesota\"}\n",
      "{\"Laureate\":\"Ferid_Murad\",\"Alma Mater\":\"N\\/A\"}\n",
      "{\"Laureate\":\"Jos%C3%A9_Saramago\",\"Alma Mater\":\"N\\/A\"}\n",
      "{\"Laureate\":\"John_Hume\",\"Alma Mater\":\"St Patrick's College, Maynooth\"}\n",
      "{\"Laureate\":\"David_Trimble\",\"Alma Mater\":\"Queen's University Belfast || LLB\"}\n",
      "{\"Laureate\":\"Amartya_Sen\",\"Alma Mater\":\"Presidency College, Calcutta || Trinity College, Cambridge\"}\n",
      "{\"Laureate\":\"Gerard_%27t_Hooft\",\"Alma Mater\":\"Utrecht University\"}\n",
      "{\"Laureate\":\"Martinus_J._G._Veltman\",\"Alma Mater\":\"Utrecht University\"}\n",
      "{\"Laureate\":\"Ahmed_Zewail\",\"Alma Mater\":\"University of Alexandria || University of Pennsylvania\"}\n",
      "{\"Laureate\":\"G%C3%BCnter_Blobel\",\"Alma Mater\":\"University of Kiel || University of T\\u00fcbingen || University of Wisconsin\\u2013Madison\"}\n",
      "{\"Laureate\":\"G%C3%BCnter_Grass\",\"Alma Mater\":\"N\\/A\"}\n",
      "{\"Laureate\":\"M%C3%A9decins_Sans_Fronti%C3%A8res\",\"Alma Mater\":\"N\\/A\"}\n",
      "{\"Laureate\":\"Robert_Mundell\",\"Alma Mater\":\"University of British Columbia || University of Washington || London School of Economics || Massachusetts Institute of Technology\"}\n",
      "{\"Laureate\":\"Jack_Kilby\",\"Alma Mater\":\"University of Illinois Urbana-Champaign || University of Wisconsin\\u2013Madison\"}\n",
      "{\"Laureate\":\"Zhores_Alferov\",\"Alma Mater\":\"N\\/A\"}\n",
      "{\"Laureate\":\"Herbert_Kroemer\",\"Alma Mater\":\"University of Jena || University of G\\u00f6ttingen\"}\n",
      "{\"Laureate\":\"Alan_J._Heeger\",\"Alma Mater\":\"University of Nebraska || University of California, Berkeley\"}\n",
      "{\"Laureate\":\"Alan_MacDiarmid\",\"Alma Mater\":\"Victoria University of Wellington || University of Wisconsin\\u2013Madison || University of Cambridge\"}\n",
      "{\"Laureate\":\"Hideki_Shirakawa\",\"Alma Mater\":\"Tokyo Institute of Technology || Institute of Science Tokyo\"}\n",
      "{\"Laureate\":\"Arvid_Carlsson\",\"Alma Mater\":\"Lund University\"}\n",
      "{\"Laureate\":\"Paul_Greengard\",\"Alma Mater\":\"Hamilton College || Johns Hopkins University\"}\n",
      "{\"Laureate\":\"Eric_Kandel\",\"Alma Mater\":\"N\\/A\"}\n",
      "{\"Laureate\":\"Gao_Xingjian\",\"Alma Mater\":\"Beijing Foreign Studies University\"}\n",
      "{\"Laureate\":\"Kim_Dae-jung\",\"Alma Mater\":\"N\\/A\"}\n",
      "{\"Laureate\":\"James_Heckman\",\"Alma Mater\":\"Colorado College || BA || Princeton University || PhD\"}\n",
      "{\"Laureate\":\"Daniel_McFadden\",\"Alma Mater\":\"University of Minnesota\"}\n",
      "{\"Laureate\":\"Eric_Allin_Cornell\",\"Alma Mater\":\"Stanford University || BS || Massachusetts Institute of Technology || PhD\"}\n",
      "{\"Laureate\":\"Wolfgang_Ketterle\",\"Alma Mater\":\"University of Heidelberg || Technical University of Munich || University of Munich || Max Planck Institute of Quantum Optics\"}\n",
      "{\"Laureate\":\"Carl_Wieman\",\"Alma Mater\":\"MIT || Stanford University\"}\n",
      "{\"Laureate\":\"William_Standish_Knowles\",\"Alma Mater\":\"N\\/A\"}\n",
      "{\"Laureate\":\"Ry%C5%8Dji_Noyori\",\"Alma Mater\":\"Kyoto University\"}\n",
      "{\"Laureate\":\"Karl_Barry_Sharpless\",\"Alma Mater\":\"Dartmouth College || BA || Stanford University || MS || PhD\"}\n",
      "{\"Laureate\":\"Leland_H._Hartwell\",\"Alma Mater\":\"California Institute of Technology || Massachusetts Institute of Technology\"}\n",
      "{\"Laureate\":\"Tim_Hunt\",\"Alma Mater\":\"University of Cambridge\"}\n",
      "{\"Laureate\":\"Paul_Nurse\",\"Alma Mater\":\"University of Birmingham || University of East Anglia\"}\n",
      "{\"Laureate\":\"V._S._Naipaul\",\"Alma Mater\":\"University College, Oxford\"}\n",
      "{\"Laureate\":\"United_Nations\",\"Alma Mater\":\"N\\/A\"}\n",
      "{\"Laureate\":\"Kofi_Annan\",\"Alma Mater\":\"N\\/A\"}\n",
      "{\"Laureate\":\"George_Akerlof\",\"Alma Mater\":\"N\\/A\"}\n",
      "{\"Laureate\":\"Michael_Spence\",\"Alma Mater\":\"Harvard University || University of Oxford || Princeton University\"}\n",
      "{\"Laureate\":\"Joseph_Stiglitz\",\"Alma Mater\":\"N\\/A\"}\n",
      "{\"Laureate\":\"Riccardo_Giacconi\",\"Alma Mater\":\"University of Milan\"}\n",
      "{\"Laureate\":\"Raymond_Davis_Jr.\",\"Alma Mater\":\"University of Maryland || Yale University\"}\n",
      "{\"Laureate\":\"Masatoshi_Koshiba\",\"Alma Mater\":\"University of Tokyo || University of Rochester\"}\n",
      "{\"Laureate\":\"John_B._Fenn\",\"Alma Mater\":\"Berea College || AB || Yale University || PhD\"}\n",
      "{\"Laureate\":\"Koichi_Tanaka\",\"Alma Mater\":\"Tohoku University\"}\n",
      "{\"Laureate\":\"Kurt_W%C3%BCthrich\",\"Alma Mater\":\"Universit\\u00e4t Bern || Universit\\u00e4t Basel\"}\n",
      "{\"Laureate\":\"Sydney_Brenner\",\"Alma Mater\":\"University of the Witwatersrand || University of Oxford\"}\n",
      "{\"Laureate\":\"H._Robert_Horvitz\",\"Alma Mater\":\"Massachusetts Institute of Technology || BS || Harvard University || PhD\"}\n",
      "{\"Laureate\":\"John_Sulston\",\"Alma Mater\":\"University of Cambridge\"}\n",
      "{\"Laureate\":\"Imre_Kert%C3%A9sz\",\"Alma Mater\":\"N\\/A\"}\n",
      "{\"Laureate\":\"Jimmy_Carter\",\"Alma Mater\":\"N\\/A\"}\n",
      "{\"Laureate\":\"Daniel_Kahneman\",\"Alma Mater\":\"N\\/A\"}\n",
      "{\"Laureate\":\"Vernon_L._Smith\",\"Alma Mater\":\"N\\/A\"}\n",
      "{\"Laureate\":\"Alexei_Abrikosov_(physicist)\",\"Alma Mater\":\"Moscow State University || USSR Academy of Sciences\"}\n",
      "{\"Laureate\":\"Vitaly_Ginzburg\",\"Alma Mater\":\"Moscow State University || KN || DN\"}\n",
      "{\"Laureate\":\"Anthony_James_Leggett\",\"Alma Mater\":\"University of Oxford\"}\n",
      "{\"Laureate\":\"Peter_Agre\",\"Alma Mater\":\"Augsburg College || BA || Johns Hopkins University || MD\"}\n",
      "{\"Laureate\":\"Roderick_MacKinnon\",\"Alma Mater\":\"Brandeis University || BA || Tufts University || MD\"}\n",
      "{\"Laureate\":\"Paul_Lauterbur\",\"Alma Mater\":\"Case Western Reserve University || BS || University of Pittsburgh || PhD\"}\n",
      "{\"Laureate\":\"Peter_Mansfield\",\"Alma Mater\":\"Queen Mary College, University of London\"}\n",
      "{\"Laureate\":\"J._M._Coetzee\",\"Alma Mater\":\"N\\/A\"}\n",
      "{\"Laureate\":\"Shirin_Ebadi\",\"Alma Mater\":\"University of Tehran || [3]\"}\n",
      "{\"Laureate\":\"Robert_F._Engle\",\"Alma Mater\":\"N\\/A\"}\n",
      "{\"Laureate\":\"Clive_Granger\",\"Alma Mater\":\"N\\/A\"}\n",
      "{\"Laureate\":\"David_Gross\",\"Alma Mater\":\"N\\/A\"}\n",
      "{\"Laureate\":\"Hugh_David_Politzer\",\"Alma Mater\":\"University of Michigan || Harvard University\"}\n",
      "{\"Laureate\":\"Frank_Wilczek\",\"Alma Mater\":\"N\\/A\"}\n",
      "{\"Laureate\":\"Aaron_Ciechanover\",\"Alma Mater\":\"Hebrew University of Jerusalem || Technion \\u2013 Israel Institute of Technology\"}\n",
      "{\"Laureate\":\"Avram_Hershko\",\"Alma Mater\":\"Hebrew University of Jerusalem\"}\n",
      "{\"Laureate\":\"Irwin_Rose\",\"Alma Mater\":\"University of Chicago || NYU\"}\n",
      "{\"Laureate\":\"Richard_Axel\",\"Alma Mater\":\"N\\/A\"}\n",
      "{\"Laureate\":\"Linda_B._Buck\",\"Alma Mater\":\"University of Washington || University of Texas Southwestern Medical Center\"}\n",
      "{\"Laureate\":\"Elfriede_Jelinek\",\"Alma Mater\":\"N\\/A\"}\n",
      "{\"Laureate\":\"Wangari_Maathai\",\"Alma Mater\":\"University of Nairobi || PhD || University of Pittsburgh || MS || Benedictine College || BS || University of Giessen\"}\n",
      "{\"Laureate\":\"Finn_E._Kydland\",\"Alma Mater\":\"Norwegian School of Economics || Carnegie Mellon University\"}\n",
      "{\"Laureate\":\"Edward_C._Prescott\",\"Alma Mater\":\"Swarthmore College || Case Western Reserve University || Carnegie Mellon University\"}\n",
      "{\"Laureate\":\"Roy_J._Glauber\",\"Alma Mater\":\"N\\/A\"}\n",
      "{\"Laureate\":\"John_L._Hall\",\"Alma Mater\":\"Carnegie Institute of Technology\"}\n",
      "{\"Laureate\":\"Theodor_W._H%C3%A4nsch\",\"Alma Mater\":\"University of Heidelberg\"}\n",
      "{\"Laureate\":\"Yves_Chauvin\",\"Alma Mater\":\"N\\/A\"}\n",
      "{\"Laureate\":\"Robert_H._Grubbs\",\"Alma Mater\":\"N\\/A\"}\n",
      "{\"Laureate\":\"Richard_R._Schrock\",\"Alma Mater\":\"University of California, Riverside || Harvard University\"}\n",
      "{\"Laureate\":\"Barry_Marshall\",\"Alma Mater\":\"University of Western Australia || MBBS || [3]\"}\n",
      "{\"Laureate\":\"Robin_Warren\",\"Alma Mater\":\"University of Adelaide\"}\n",
      "{\"Laureate\":\"Harold_Pinter\",\"Alma Mater\":\"Royal Central School of Speech and Drama\"}\n",
      "{\"Laureate\":\"International_Atomic_Energy_Agency\",\"Alma Mater\":\"N\\/A\"}\n",
      "{\"Laureate\":\"Mohamed_ElBaradei\",\"Alma Mater\":\"Cairo University || Graduate Institute of International and Development Studies || New York University\"}\n",
      "{\"Laureate\":\"Robert_Aumann\",\"Alma Mater\":\"N\\/A\"}\n",
      "{\"Laureate\":\"Thomas_Schelling\",\"Alma Mater\":\"University of California, Berkeley || BA || Harvard University || PhD\"}\n",
      "{\"Laureate\":\"John_C._Mather\",\"Alma Mater\":\"Swarthmore College || University of California, Berkeley\"}\n",
      "{\"Laureate\":\"George_Smoot\",\"Alma Mater\":\"Massachusetts Institute of Technology\"}\n",
      "{\"Laureate\":\"Roger_D._Kornberg\",\"Alma Mater\":\"Harvard University || Stanford University\"}\n",
      "{\"Laureate\":\"Andrew_Fire\",\"Alma Mater\":\"University of California, Berkeley || Massachusetts Institute of Technology\"}\n",
      "{\"Laureate\":\"Craig_Mello\",\"Alma Mater\":\"Brown University || BS || Harvard University || PhD\"}\n",
      "{\"Laureate\":\"Orhan_Pamuk\",\"Alma Mater\":\"Istanbul University\"}\n",
      "{\"Laureate\":\"Muhammad_Yunus\",\"Alma Mater\":\"N\\/A\"}\n",
      "{\"Laureate\":\"Grameen_Bank\",\"Alma Mater\":\"N\\/A\"}\n",
      "{\"Laureate\":\"Edmund_Phelps\",\"Alma Mater\":\"N\\/A\"}\n",
      "{\"Laureate\":\"Albert_Fert\",\"Alma Mater\":\"\\u00c9cole normale sup\\u00e9rieure (Paris) || University of Paris\"}\n",
      "{\"Laureate\":\"Peter_Gr%C3%BCnberg\",\"Alma Mater\":\"Technische Universit\\u00e4t Darmstadt\"}\n",
      "{\"Laureate\":\"Gerhard_Ertl\",\"Alma Mater\":\"University of Stuttgart || Technical University of Munich\"}\n",
      "{\"Laureate\":\"Mario_Capecchi\",\"Alma Mater\":\"Antioch College || Harvard University\"}\n",
      "{\"Laureate\":\"Martin_Evans\",\"Alma Mater\":\"N\\/A\"}\n",
      "{\"Laureate\":\"Oliver_Smithies\",\"Alma Mater\":\"University of Oxford\"}\n",
      "{\"Laureate\":\"Doris_Lessing\",\"Alma Mater\":\"N\\/A\"}\n",
      "{\"Laureate\":\"Intergovernmental_Panel_on_Climate_Change\",\"Alma Mater\":\"N\\/A\"}\n",
      "{\"Laureate\":\"Al_Gore\",\"Alma Mater\":\"N\\/A\"}\n",
      "{\"Laureate\":\"Leonid_Hurwicz\",\"Alma Mater\":\"University of Warsaw || Graduate Institute of International Studies || London School of Economics\"}\n",
      "{\"Laureate\":\"Eric_Maskin\",\"Alma Mater\":\"N\\/A\"}\n",
      "{\"Laureate\":\"Roger_Myerson\",\"Alma Mater\":\"Harvard University || AB || SM || PhD\"}\n",
      "{\"Laureate\":\"Yoichiro_Nambu\",\"Alma Mater\":\"Tokyo Imperial University\"}\n",
      "{\"Laureate\":\"Makoto_Kobayashi_(physicist)\",\"Alma Mater\":\"Nagoya University\"}\n",
      "{\"Laureate\":\"Toshihide_Maskawa\",\"Alma Mater\":\"Nagoya University\"}\n",
      "{\"Laureate\":\"Osamu_Shimomura\",\"Alma Mater\":\"Nagasaki University || Nagoya University\"}\n",
      "{\"Laureate\":\"Martin_Chalfie\",\"Alma Mater\":\"N\\/A\"}\n",
      "{\"Laureate\":\"Roger_Y._Tsien\",\"Alma Mater\":\"N\\/A\"}\n",
      "{\"Laureate\":\"Harald_zur_Hausen\",\"Alma Mater\":\"N\\/A\"}\n",
      "{\"Laureate\":\"Fran%C3%A7oise_Barr%C3%A9-Sinoussi\",\"Alma Mater\":\"University of Paris\"}\n",
      "{\"Laureate\":\"Luc_Montagnier\",\"Alma Mater\":\"University of Poitiers || University of Paris\"}\n",
      "{\"Laureate\":\"J._M._G._Le_Cl%C3%A9zio\",\"Alma Mater\":\"N\\/A\"}\n",
      "{\"Laureate\":\"Martti_Ahtisaari\",\"Alma Mater\":\"University of Oulu\"}\n",
      "{\"Laureate\":\"Paul_Krugman\",\"Alma Mater\":\"N\\/A\"}\n",
      "{\"Laureate\":\"Charles_K._Kao\",\"Alma Mater\":\"University College London || [4] || University of London || [3] || Woolwich Polytechnic || citation needed\"}\n",
      "{\"Laureate\":\"Willard_Boyle\",\"Alma Mater\":\"McGill University\"}\n",
      "{\"Laureate\":\"George_E._Smith\",\"Alma Mater\":\"University of Chicago || University of Pennsylvania || [1]\"}\n",
      "{\"Laureate\":\"Venkatraman_Ramakrishnan\",\"Alma Mater\":\"Ohio University\"}\n",
      "{\"Laureate\":\"Thomas_A._Steitz\",\"Alma Mater\":\"Wauwatosa High School || Lawrence University || Harvard University\"}\n",
      "{\"Laureate\":\"Ada_Yonath\",\"Alma Mater\":\"Hebrew University of Jerusalem || Weizmann Institute of Science\"}\n",
      "{\"Laureate\":\"Elizabeth_Blackburn\",\"Alma Mater\":\"University of Melbourne || University of Cambridge\"}\n",
      "{\"Laureate\":\"Carol_W._Greider\",\"Alma Mater\":\"N\\/A\"}\n",
      "{\"Laureate\":\"Jack_W._Szostak\",\"Alma Mater\":\"McGill University || BSc || Cornell University || PhD\"}\n",
      "{\"Laureate\":\"Herta_M%C3%BCller\",\"Alma Mater\":\"West University of Timi\\u0219oara\"}\n",
      "{\"Laureate\":\"Barack_Obama\",\"Alma Mater\":\"N\\/A\"}\n",
      "{\"Laureate\":\"Elinor_Ostrom\",\"Alma Mater\":\"N\\/A\"}\n",
      "{\"Laureate\":\"Oliver_E._Williamson\",\"Alma Mater\":\"N\\/A\"}\n",
      "{\"Laureate\":\"Andre_Geim\",\"Alma Mater\":\"Moscow Institute of Physics and Technology\"}\n",
      "{\"Laureate\":\"Konstantin_Novoselov\",\"Alma Mater\":\"Moscow Institute of Physics and Technology || Radboud University of Nijmegen\"}\n",
      "{\"Laureate\":\"Richard_F._Heck\",\"Alma Mater\":\"UCLA || BS\"}\n",
      "{\"Laureate\":\"Ei-ichi_Negishi\",\"Alma Mater\":\"University of Tokyo || University of Pennsylvania\"}\n",
      "{\"Laureate\":\"Akira_Suzuki_(chemist)\",\"Alma Mater\":\"Hokkaid\\u014d University\"}\n",
      "{\"Laureate\":\"Robert_Edwards_(physiologist)\",\"Alma Mater\":\"Bangor University || BSc || University of Edinburgh || PhD\"}\n",
      "{\"Laureate\":\"Mario_Vargas_Llosa\",\"Alma Mater\":\"National University of San Marcos || Complutense University of Madrid\"}\n",
      "{\"Laureate\":\"Liu_Xiaobo\",\"Alma Mater\":\"Jilin University || BA || Beijing Normal University || MA || PhD\"}\n",
      "{\"Laureate\":\"Peter_Diamond\",\"Alma Mater\":\"N\\/A\"}\n",
      "{\"Laureate\":\"Dale_T._Mortensen\",\"Alma Mater\":\"Carnegie Mellon University || Willamette University\"}\n",
      "{\"Laureate\":\"Christopher_A._Pissarides\",\"Alma Mater\":\"London School of Economics || PhD || University of Essex || BSc || MSc\"}\n",
      "{\"Laureate\":\"Saul_Perlmutter\",\"Alma Mater\":\"N\\/A\"}\n",
      "{\"Laureate\":\"Adam_Riess\",\"Alma Mater\":\"Massachusetts Institute of Technology || Harvard University\"}\n",
      "{\"Laureate\":\"Brian_Schmidt\",\"Alma Mater\":\"University of Arizona || Harvard University\"}\n",
      "{\"Laureate\":\"Dan_Shechtman\",\"Alma Mater\":\"Technion\"}\n",
      "{\"Laureate\":\"Bruce_Beutler\",\"Alma Mater\":\"University of Chicago || University of California, San Diego\"}\n",
      "{\"Laureate\":\"Jules_A._Hoffmann\",\"Alma Mater\":\"University of Strasbourg\"}\n",
      "{\"Laureate\":\"Ralph_M._Steinman\",\"Alma Mater\":\"McGill University || Harvard University\"}\n",
      "{\"Laureate\":\"Tomas_Transtr%C3%B6mer\",\"Alma Mater\":\"Stockholm University\"}\n",
      "{\"Laureate\":\"Ellen_Johnson_Sirleaf\",\"Alma Mater\":\"N\\/A\"}\n",
      "{\"Laureate\":\"Leymah_Gbowee\",\"Alma Mater\":\"N\\/A\"}\n",
      "{\"Laureate\":\"Tawakel_Karman\",\"Alma Mater\":\"University of Massachusetts Lowell || [3] || Sanaa University\"}\n",
      "{\"Laureate\":\"Thomas_J._Sargent\",\"Alma Mater\":\"N\\/A\"}\n",
      "{\"Laureate\":\"Christopher_A._Sims\",\"Alma Mater\":\"N\\/A\"}\n",
      "{\"Laureate\":\"Serge_Haroche\",\"Alma Mater\":\"\\u00c9cole normale sup\\u00e9rieure\"}\n",
      "{\"Laureate\":\"David_J._Wineland\",\"Alma Mater\":\"University of California, Berkeley || Harvard University\"}\n",
      "{\"Laureate\":\"Brian_Kobilka\",\"Alma Mater\":\"University of Minnesota Duluth || Yale University\"}\n",
      "{\"Laureate\":\"Robert_Lefkowitz\",\"Alma Mater\":\"Columbia University\"}\n",
      "{\"Laureate\":\"John_Gurdon\",\"Alma Mater\":\"Eton College || Christ Church, Oxford\"}\n",
      "{\"Laureate\":\"Shinya_Yamanaka\",\"Alma Mater\":\"Kobe University || MD || Osaka City University || PhD\"}\n",
      "{\"Laureate\":\"Mo_Yan\",\"Alma Mater\":\"N\\/A\"}\n",
      "{\"Laureate\":\"European_Union\",\"Alma Mater\":\"N\\/A\"}\n",
      "{\"Laureate\":\"Alvin_E._Roth\",\"Alma Mater\":\"N\\/A\"}\n",
      "{\"Laureate\":\"Lloyd_Shapley\",\"Alma Mater\":\"Harvard University || BA || Princeton University || PhD\"}\n",
      "{\"Laureate\":\"Fran%C3%A7ois_Englert\",\"Alma Mater\":\"Free University of Brussels\"}\n",
      "{\"Laureate\":\"Peter_Higgs\",\"Alma Mater\":\"King's College London\"}\n",
      "{\"Laureate\":\"Martin_Karplus\",\"Alma Mater\":\"N\\/A\"}\n",
      "{\"Laureate\":\"Michael_Levitt_(biophysicist)\",\"Alma Mater\":\"King's College London || University of Cambridge\"}\n",
      "{\"Laureate\":\"Arieh_Warshel\",\"Alma Mater\":\"Technion \\u2013 Israel Institute of Technology || Weizmann Institute of Science || [1]\"}\n",
      "{\"Laureate\":\"James_Rothman\",\"Alma Mater\":\"Yale University || Harvard University\"}\n",
      "{\"Laureate\":\"Randy_W._Schekman\",\"Alma Mater\":\"University of California, Los Angeles || BA || Stanford University || PhD\"}\n",
      "{\"Laureate\":\"Thomas_C._S%C3%BCdhof\",\"Alma Mater\":\"RWTH Aachen University || University of G\\u00f6ttingen\"}\n",
      "{\"Laureate\":\"Alice_Munro\",\"Alma Mater\":\"N\\/A\"}\n",
      "{\"Laureate\":\"Organisation_for_the_Prohibition_of_Chemical_Weapons\",\"Alma Mater\":\"N\\/A\"}\n",
      "{\"Laureate\":\"Eugene_Fama\",\"Alma Mater\":\"N\\/A\"}\n",
      "{\"Laureate\":\"Lars_Peter_Hansen\",\"Alma Mater\":\"University of Minnesota || Utah State University\"}\n",
      "{\"Laureate\":\"Robert_Shiller\",\"Alma Mater\":\"Kalamazoo College || University of Michigan || BA || Massachusetts Institute of Technology || PhD\"}\n",
      "{\"Laureate\":\"Isamu_Akasaki\",\"Alma Mater\":\"Kyoto University || Nagoya University\"}\n",
      "{\"Laureate\":\"Hiroshi_Amano\",\"Alma Mater\":\"Nagoya University\"}\n",
      "{\"Laureate\":\"Shuji_Nakamura\",\"Alma Mater\":\"University of Tokushima\"}\n",
      "{\"Laureate\":\"Eric_Betzig\",\"Alma Mater\":\"California Institute of Technology || BS || Cornell University || MS || PhD\"}\n",
      "{\"Laureate\":\"Stefan_Hell\",\"Alma Mater\":\"Heidelberg University\"}\n",
      "{\"Laureate\":\"William_Moerner\",\"Alma Mater\":\"Washington University in St. Louis || Cornell University\"}\n",
      "{\"Laureate\":\"John_O%27Keefe_(neuroscientist)\",\"Alma Mater\":\"City College of New York || BA || McGill University || MA || PhD\"}\n",
      "{\"Laureate\":\"May-Britt_Moser\",\"Alma Mater\":\"University of Oslo\"}\n",
      "{\"Laureate\":\"Edvard_Moser\",\"Alma Mater\":\"University of Oslo\"}\n",
      "{\"Laureate\":\"Patrick_Modiano\",\"Alma Mater\":\"N\\/A\"}\n",
      "{\"Laureate\":\"Kailash_Satyarthi\",\"Alma Mater\":\"Barkatullah University || B.E. || M.E.\"}\n",
      "{\"Laureate\":\"Malala_Yousafzai\",\"Alma Mater\":\"N\\/A\"}\n",
      "{\"Laureate\":\"Jean_Tirole\",\"Alma Mater\":\"Massachusetts Institute of Technology || Paris Dauphine University || \\u00c9cole nationale des ponts et chauss\\u00e9es || \\u00c9cole Polytechnique\"}\n",
      "{\"Laureate\":\"Takaaki_Kajita\",\"Alma Mater\":\"Saitama University || BS || University of Tokyo || MS || PhD\"}\n",
      "{\"Laureate\":\"Arthur_B._McDonald\",\"Alma Mater\":\"Dalhousie University || California Institute of Technology\"}\n",
      "{\"Laureate\":\"Tomas_Lindahl\",\"Alma Mater\":\"Karolinska Institutet\"}\n",
      "{\"Laureate\":\"Paul_Modrich\",\"Alma Mater\":\"MIT || Stanford University\"}\n",
      "{\"Laureate\":\"Aziz_Sancar\",\"Alma Mater\":\"Istanbul University || MD || University of Texas at Dallas || PhD\"}\n",
      "{\"Laureate\":\"William_C._Campbell_(scientist)\",\"Alma Mater\":\"Trinity College Dublin || University of Wisconsin-Madison || PhD\"}\n",
      "{\"Laureate\":\"Satoshi_%C5%8Cmura\",\"Alma Mater\":\"University of Yamanashi || BS || Tokyo University of Science || MS || ScD || University of Tokyo || PhD\"}\n",
      "{\"Laureate\":\"Tu_Youyou\",\"Alma Mater\":\"Beijing Medical College || BMed || [note 2]\"}\n",
      "{\"Laureate\":\"Svetlana_Alexievich\",\"Alma Mater\":\"Belarusian State University\"}\n",
      "{\"Laureate\":\"Tunisian_National_Dialogue_Quartet\",\"Alma Mater\":\"N\\/A\"}\n",
      "{\"Laureate\":\"Angus_Deaton\",\"Alma Mater\":\"Fitzwilliam College, Cambridge\"}\n",
      "{\"Laureate\":\"David_J._Thouless\",\"Alma Mater\":\"University of Cambridge || Cornell University\"}\n",
      "{\"Laureate\":\"Duncan_Haldane\",\"Alma Mater\":\"University of Cambridge\"}\n",
      "{\"Laureate\":\"John_M._Kosterlitz\",\"Alma Mater\":\"University of Cambridge || University of Oxford\"}\n",
      "{\"Laureate\":\"Jean-Pierre_Sauvage\",\"Alma Mater\":\"N\\/A\"}\n",
      "{\"Laureate\":\"Fraser_Stoddart\",\"Alma Mater\":\"University of Edinburgh || BSc || PhD\"}\n",
      "{\"Laureate\":\"Ben_Feringa\",\"Alma Mater\":\"University of Groningen\"}\n",
      "{\"Laureate\":\"Yoshinori_Ohsumi\",\"Alma Mater\":\"University of Tokyo || BSc || DSc\"}\n",
      "{\"Laureate\":\"Bob_Dylan\",\"Alma Mater\":\"N\\/A\"}\n",
      "{\"Laureate\":\"Juan_Manuel_Santos\",\"Alma Mater\":\"University of Kansas || BA || London School of Economics || MSc || Harvard University || MPA\"}\n",
      "{\"Laureate\":\"Oliver_Hart_(economist)\",\"Alma Mater\":\"King's College, Cambridge || BA || University of Warwick || MA || Princeton University || PhD\"}\n",
      "{\"Laureate\":\"Bengt_R._Holmstr%C3%B6m\",\"Alma Mater\":\"N\\/A\"}\n",
      "{\"Laureate\":\"Rainer_Weiss\",\"Alma Mater\":\"N\\/A\"}\n",
      "{\"Laureate\":\"Barry_Barish\",\"Alma Mater\":\"N\\/A\"}\n",
      "{\"Laureate\":\"Kip_Thorne\",\"Alma Mater\":\"N\\/A\"}\n",
      "{\"Laureate\":\"Jacques_Dubochet\",\"Alma Mater\":\"N\\/A\"}\n",
      "{\"Laureate\":\"Joachim_Frank\",\"Alma Mater\":\"N\\/A\"}\n",
      "{\"Laureate\":\"Richard_Henderson_(biologist)\",\"Alma Mater\":\"University of Edinburgh || Corpus Christi College, Cambridge\"}\n",
      "{\"Laureate\":\"Jeffrey_C._Hall\",\"Alma Mater\":\"N\\/A\"}\n",
      "{\"Laureate\":\"Michael_Rosbash\",\"Alma Mater\":\"California Institute of Technology || B.S. || Massachusetts Institute of Technology || MS || PhD\"}\n",
      "{\"Laureate\":\"Michael_W._Young\",\"Alma Mater\":\"N\\/A\"}\n",
      "{\"Laureate\":\"Kazuo_Ishiguro\",\"Alma Mater\":\"N\\/A\"}\n",
      "{\"Laureate\":\"International_Campaign_to_Abolish_Nuclear_Weapons\",\"Alma Mater\":\"N\\/A\"}\n",
      "{\"Laureate\":\"Richard_Thaler\",\"Alma Mater\":\"N\\/A\"}\n",
      "{\"Laureate\":\"Arthur_Ashkin\",\"Alma Mater\":\"N\\/A\"}\n",
      "{\"Laureate\":\"G%C3%A9rard_Mourou\",\"Alma Mater\":\"N\\/A\"}\n",
      "{\"Laureate\":\"Donna_Strickland\",\"Alma Mater\":\"McMaster University || University of Rochester\"}\n",
      "{\"Laureate\":\"Frances_H._Arnold\",\"Alma Mater\":\"N\\/A\"}\n",
      "{\"Laureate\":\"George_Smith_(chemist)\",\"Alma Mater\":\"N\\/A\"}\n",
      "{\"Laureate\":\"Greg_Winter\",\"Alma Mater\":\"Trinity College, Cambridge || MA || PhD\"}\n",
      "{\"Laureate\":\"James_P._Allison\",\"Alma Mater\":\"N\\/A\"}\n",
      "{\"Laureate\":\"Tasuku_Honjo\",\"Alma Mater\":\"N\\/A\"}\n",
      "{\"Laureate\":\"Olga_Tokarczuk\",\"Alma Mater\":\"N\\/A\"}\n",
      "{\"Laureate\":\"Denis_Mukwege\",\"Alma Mater\":\"N\\/A\"}\n",
      "{\"Laureate\":\"Nadia_Murad\",\"Alma Mater\":\"N\\/A\"}\n",
      "{\"Laureate\":\"William_Nordhaus\",\"Alma Mater\":\"N\\/A\"}\n",
      "{\"Laureate\":\"Paul_Romer\",\"Alma Mater\":\"N\\/A\"}\n",
      "{\"Laureate\":\"Jim_Peebles\",\"Alma Mater\":\"N\\/A\"}\n",
      "{\"Laureate\":\"Michel_Mayor\",\"Alma Mater\":\"N\\/A\"}\n",
      "{\"Laureate\":\"Didier_Queloz\",\"Alma Mater\":\"N\\/A\"}\n",
      "{\"Laureate\":\"John_B._Goodenough\",\"Alma Mater\":\"N\\/A\"}\n",
      "{\"Laureate\":\"M._Stanley_Whittingham\",\"Alma Mater\":\"New College, Oxford || BA || MA || DPhil\"}\n",
      "{\"Laureate\":\"Akira_Yoshino\",\"Alma Mater\":\"N\\/A\"}\n",
      "{\"Laureate\":\"William_Kaelin_Jr.\",\"Alma Mater\":\"N\\/A\"}\n",
      "{\"Laureate\":\"Peter_J._Ratcliffe\",\"Alma Mater\":\"N\\/A\"}\n",
      "{\"Laureate\":\"Gregg_L._Semenza\",\"Alma Mater\":\"N\\/A\"}\n",
      "{\"Laureate\":\"Peter_Handke\",\"Alma Mater\":\"N\\/A\"}\n",
      "{\"Laureate\":\"Abiy_Ahmed\",\"Alma Mater\":\"N\\/A\"}\n",
      "{\"Laureate\":\"Abhijit_Banerjee\",\"Alma Mater\":\"Harvard University || Jawaharlal Nehru University || University of Calcutta\"}\n",
      "{\"Laureate\":\"Esther_Duflo\",\"Alma Mater\":\"N\\/A\"}\n",
      "{\"Laureate\":\"Michael_Kremer\",\"Alma Mater\":\"Harvard University\"}\n",
      "{\"Laureate\":\"Roger_Penrose\",\"Alma Mater\":\"N\\/A\"}\n",
      "{\"Laureate\":\"Reinhard_Genzel\",\"Alma Mater\":\"N\\/A\"}\n",
      "{\"Laureate\":\"Andrea_M._Ghez\",\"Alma Mater\":\"N\\/A\"}\n",
      "{\"Laureate\":\"Emmanuelle_Charpentier\",\"Alma Mater\":\"N\\/A\"}\n",
      "{\"Laureate\":\"Jennifer_Doudna\",\"Alma Mater\":\"N\\/A\"}\n",
      "{\"Laureate\":\"Harvey_J._Alter\",\"Alma Mater\":\"N\\/A\"}\n",
      "{\"Laureate\":\"Michael_Houghton_(virologist)\",\"Alma Mater\":\"University of East Anglia || BSc || King's College London || PhD\"}\n",
      "{\"Laureate\":\"Charles_M._Rice\",\"Alma Mater\":\"University of California, Davis || BS || California Institute of Technology || MS || PhD\"}\n",
      "{\"Laureate\":\"Louise_Gl%C3%BCck\",\"Alma Mater\":\"N\\/A\"}\n",
      "{\"Laureate\":\"World_Food_Programme\",\"Alma Mater\":\"N\\/A\"}\n",
      "{\"Laureate\":\"Paul_Milgrom\",\"Alma Mater\":\"N\\/A\"}\n",
      "{\"Laureate\":\"Robert_B._Wilson\",\"Alma Mater\":\"N\\/A\"}\n",
      "{\"Laureate\":\"Giorgio_Parisi\",\"Alma Mater\":\"N\\/A\"}\n",
      "{\"Laureate\":\"Klaus_Hasselmann\",\"Alma Mater\":\"N\\/A\"}\n",
      "{\"Laureate\":\"Syukuro_Manabe\",\"Alma Mater\":\"N\\/A\"}\n",
      "{\"Laureate\":\"Benjamin_List\",\"Alma Mater\":\"N\\/A\"}\n",
      "{\"Laureate\":\"David_MacMillan\",\"Alma Mater\":\"University of Glasgow || BSc || University of California, Irvine || MSc\"}\n",
      "{\"Laureate\":\"David_Julius\",\"Alma Mater\":\"N\\/A\"}\n",
      "{\"Laureate\":\"Ardem_Patapoutian\",\"Alma Mater\":\"N\\/A\"}\n",
      "{\"Laureate\":\"Abdulrazak_Gurnah\",\"Alma Mater\":\"N\\/A\"}\n",
      "{\"Laureate\":\"Maria_Ressa\",\"Alma Mater\":\"N\\/A\"}\n",
      "{\"Laureate\":\"Dmitry_Muratov\",\"Alma Mater\":\"N\\/A\"}\n",
      "{\"Laureate\":\"David_Card\",\"Alma Mater\":\"N\\/A\"}\n",
      "{\"Laureate\":\"Joshua_Angrist\",\"Alma Mater\":\"N\\/A\"}\n",
      "{\"Laureate\":\"Guido_Imbens\",\"Alma Mater\":\"Erasmus University || BA || University of Hull || MSc || Brown University || MA || PhD\"}\n",
      "{\"Laureate\":\"Alain_Aspect\",\"Alma Mater\":\"\\u00c9cole Normale Sup\\u00e9rieure de Cachan || Universit\\u00e9 d'Orsay\"}\n",
      "{\"Laureate\":\"John_Clauser\",\"Alma Mater\":\"N\\/A\"}\n",
      "{\"Laureate\":\"Anton_Zeilinger\",\"Alma Mater\":\"University of Vienna || TU Wien || Dr. habil.\"}\n",
      "{\"Laureate\":\"Carolyn_Bertozzi\",\"Alma Mater\":\"N\\/A\"}\n",
      "{\"Laureate\":\"Morten_P._Meldal\",\"Alma Mater\":\"N\\/A\"}\n",
      "{\"Laureate\":\"Karl_Barry_Sharpless\",\"Alma Mater\":\"Dartmouth College || BA || Stanford University || MS || PhD\"}\n",
      "{\"Laureate\":\"Svante_P%C3%A4%C3%A4bo\",\"Alma Mater\":\"N\\/A\"}\n",
      "{\"Laureate\":\"Annie_Ernaux\",\"Alma Mater\":\"N\\/A\"}\n",
      "{\"Laureate\":\"Ales_Bialiatski\",\"Alma Mater\":\"N\\/A\"}\n",
      "{\"Laureate\":\"Memorial_(society)\",\"Alma Mater\":\"N\\/A\"}\n",
      "{\"Laureate\":\"Center_for_Civil_Liberties_(human_rights_organization)\",\"Alma Mater\":\"N\\/A\"}\n",
      "{\"Laureate\":\"Ben_Bernanke\",\"Alma Mater\":\"N\\/A\"}\n",
      "{\"Laureate\":\"Douglas_Diamond\",\"Alma Mater\":\"N\\/A\"}\n",
      "{\"Laureate\":\"Philip_H._Dybvig\",\"Alma Mater\":\"N\\/A\"}\n",
      "{\"Laureate\":\"Pierre_Agostini\",\"Alma Mater\":\"Aix-Marseille University || BEd || MAS || PhD\"}\n",
      "{\"Laureate\":\"Ferenc_Krausz\",\"Alma Mater\":\"N\\/A\"}\n",
      "{\"Laureate\":\"Anne_L%27Huillier\",\"Alma Mater\":\"N\\/A\"}\n",
      "{\"Laureate\":\"Moungi_Bawendi\",\"Alma Mater\":\"N\\/A\"}\n",
      "{\"Laureate\":\"Louis_E._Brus\",\"Alma Mater\":\"N\\/A\"}\n",
      "{\"Laureate\":\"Alexey_Ekimov\",\"Alma Mater\":\"N\\/A\"}\n",
      "{\"Laureate\":\"Katalin_Karik%C3%B3\",\"Alma Mater\":\"N\\/A\"}\n",
      "{\"Laureate\":\"Drew_Weissman\",\"Alma Mater\":\"N\\/A\"}\n",
      "{\"Laureate\":\"Jon_Fosse\",\"Alma Mater\":\"N\\/A\"}\n",
      "{\"Laureate\":\"Narges_Mohammadi\",\"Alma Mater\":\"N\\/A\"}\n",
      "{\"Laureate\":\"Claudia_Goldin\",\"Alma Mater\":\"N\\/A\"}\n",
      "{\"Laureate\":\"John_Hopfield\",\"Alma Mater\":\"N\\/A\"}\n",
      "{\"Laureate\":\"Geoffrey_Hinton\",\"Alma Mater\":\"University of Cambridge || University of Edinburgh\"}\n",
      "{\"Laureate\":\"David_Baker_(biochemist)\",\"Alma Mater\":\"Harvard University || BA || University of California, Berkeley || PhD\"}\n",
      "{\"Laureate\":\"Demis_Hassabis\",\"Alma Mater\":\"University of Cambridge || MA || [5] || University College London || PhD\"}\n",
      "{\"Laureate\":\"John_M._Jumper\",\"Alma Mater\":\"N\\/A\"}\n",
      "{\"Laureate\":\"Victor_Ambros\",\"Alma Mater\":\"Massachusetts Institute of Technology || BS || PhD\"}\n",
      "{\"Laureate\":\"Gary_Ruvkun\",\"Alma Mater\":\"University of California, Berkeley || BA || Harvard University\"}\n",
      "{\"Laureate\":\"Han_Kang\",\"Alma Mater\":\"Yonsei University\"}\n",
      "{\"Laureate\":\"Nihon_Hidankyo\",\"Alma Mater\":\"N\\/A\"}\n",
      "{\"Laureate\":\"Daron_Acemoglu\",\"Alma Mater\":\"N\\/A\"}\n",
      "{\"Laureate\":\"Simon_Johnson_(economist)\",\"Alma Mater\":\"N\\/A\"}\n",
      "{\"Laureate\":\"James_A._Robinson\",\"Alma Mater\":\"N\\/A\"}\n",
      "\n"
     ]
    },
    {
     "name": "stderr",
     "output_type": "stream",
     "text": [
      "C:\\Users\\zmorrato\\AppData\\Local\\Temp\\ipykernel_26412\\3563713887.py:21: DeprecationWarning: The 'text' argument to find()-type methods is deprecated. Use 'string' instead.\n",
      "  alma_mater_row = soup.find('th', text=lambda x: x and \"Alma\" in x)\n"
     ]
    }
   ],
   "source": [
    "prefix = 'https://en.wikipedia.org'\n",
    "testUrls = ['/wiki/Richard_F._Heck', \n",
    "            '/wiki/Ei-ichi_Negishi', \n",
    "            '/wiki/Akira_Suzuki_(chemist)', \n",
    "            '/wiki/Robert_Edwards_(physiologist)', \n",
    "            '/wiki/Mario_Vargas_Llosa', \n",
    "            '/wiki/Liu_Xiaobo', \n",
    "            '/wiki/Peter_Diamond']\n",
    "universities = pd.DataFrame({\n",
    "    'Laureate': [],\n",
    "    'Alma Mater': []\n",
    "})\n",
    "\n",
    "def findColleges(biography):\n",
    "    html = requests.get(prefix+biography)\n",
    "    \n",
    "    if html.status_code == 200:\n",
    "        soup = BeautifulSoup(html.text, 'html.parser')\n",
    "\n",
    "        # Find the \"Alma mater\" row\n",
    "        alma_mater_row = soup.find('th', text=lambda x: x and \"Alma\" in x)\n",
    "\n",
    "        # Retrieve the corresponding data cell\n",
    "        if alma_mater_row:\n",
    "            alma_mater_data = alma_mater_row.find_next_sibling('td')\n",
    "            if alma_mater_data:\n",
    "                # Extract and clean the text\n",
    "                alma_mater_text = \" || \".join(a.get_text(strip=True) for a in alma_mater_data.find_all('a'))\n",
    "                return alma_mater_text\n",
    "            else:\n",
    "                print(f\"[ DEBUG ] - Alma mater data not found for {biography}\")\n",
    "        else:\n",
    "            print(f\"[ DEBUG ] - Alma mater row not found for {biography}\")   \n",
    "    else:\n",
    "        print(f\"[ ERROR ] - Failed to get {biography}\")\n",
    "        \n",
    "    return 'N/A'\n",
    "\n",
    "i = 1\n",
    "for bio in winnersList:\n",
    "    colleges = findColleges(bio)\n",
    "    newData = {\n",
    "        'Laureate': bio[6:len(bio)],\n",
    "        'Alma Mater': colleges\n",
    "    }\n",
    "    universities.loc[len(universities)] = newData\n",
    "    \n",
    "    print(f\"[ DEBUG ] - Progress: {(i/len(winnersList))*100}%\")\n",
    "    i+=1\n",
    "\n",
    "json_str = universities.to_json(orient='records', lines=True)\n",
    "print(json_str)"
   ]
  },
  {
   "cell_type": "code",
   "execution_count": 1,
   "id": "51f228f0",
   "metadata": {},
   "outputs": [
    {
     "ename": "NameError",
     "evalue": "name 'universities' is not defined",
     "output_type": "error",
     "traceback": [
      "\u001b[1;31m---------------------------------------------------------------------------\u001b[0m",
      "\u001b[1;31mNameError\u001b[0m                                 Traceback (most recent call last)",
      "Cell \u001b[1;32mIn[1], line 2\u001b[0m\n\u001b[0;32m      1\u001b[0m \u001b[38;5;66;03m# Check if \"Princeton\" is in the 'Alma Mater' column\u001b[39;00m\n\u001b[1;32m----> 2\u001b[0m mask \u001b[38;5;241m=\u001b[39m \u001b[43muniversities\u001b[49m[\u001b[38;5;124m'\u001b[39m\u001b[38;5;124mAlma Mater\u001b[39m\u001b[38;5;124m'\u001b[39m]\u001b[38;5;241m.\u001b[39mstr\u001b[38;5;241m.\u001b[39mcontains(\u001b[38;5;124m'\u001b[39m\u001b[38;5;124mPrinceton\u001b[39m\u001b[38;5;124m'\u001b[39m, na\u001b[38;5;241m=\u001b[39m\u001b[38;5;28;01mFalse\u001b[39;00m)\n\u001b[0;32m      4\u001b[0m \u001b[38;5;66;03m# Filter rows where the condition is true\u001b[39;00m\n\u001b[0;32m      5\u001b[0m filtered_universities \u001b[38;5;241m=\u001b[39m universities[mask]\n",
      "\u001b[1;31mNameError\u001b[0m: name 'universities' is not defined"
     ]
    }
   ],
   "source": [
    "# Check if \"Princeton\" is in the 'Alma Mater' column\n",
    "mask = universities['Alma Mater'].str.contains('Princeton', na=False)\n",
    "\n",
    "# Filter rows where the condition is true\n",
    "filtered_universities = universities[mask]\n",
    "\n",
    "filtered_universities"
   ]
  },
  {
   "cell_type": "code",
   "execution_count": null,
   "id": "194a83ec",
   "metadata": {},
   "outputs": [],
   "source": []
  }
 ],
 "metadata": {
  "kernelspec": {
   "display_name": "Python 3",
   "language": "python",
   "name": "python3"
  },
  "language_info": {
   "codemirror_mode": {
    "name": "ipython",
    "version": 3
   },
   "file_extension": ".py",
   "mimetype": "text/x-python",
   "name": "python",
   "nbconvert_exporter": "python",
   "pygments_lexer": "ipython3",
   "version": "3.13.0"
  }
 },
 "nbformat": 4,
 "nbformat_minor": 5
}
