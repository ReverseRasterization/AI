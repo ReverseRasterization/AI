{
 "cells": [
  {
   "cell_type": "code",
   "execution_count": 1,
   "id": "c704565c",
   "metadata": {},
   "outputs": [],
   "source": [
    "import pandas as pd\n",
    "import seaborn as sb\n",
    "\n",
    "english_movies = pd.read_json('english_movies.json')\n",
    "french_movies = pd.read_json('french_movies.json')"
   ]
  },
  {
   "cell_type": "code",
   "execution_count": 14,
   "id": "d3f05e1f",
   "metadata": {
    "collapsed": true
   },
   "outputs": [
    {
     "data": {
      "text/html": [
       "<div>\n",
       "<style scoped>\n",
       "    .dataframe tbody tr th:only-of-type {\n",
       "        vertical-align: middle;\n",
       "    }\n",
       "\n",
       "    .dataframe tbody tr th {\n",
       "        vertical-align: top;\n",
       "    }\n",
       "\n",
       "    .dataframe thead th {\n",
       "        text-align: right;\n",
       "    }\n",
       "</style>\n",
       "<table border=\"1\" class=\"dataframe\">\n",
       "  <thead>\n",
       "    <tr style=\"text-align: right;\">\n",
       "      <th></th>\n",
       "      <th>adult</th>\n",
       "      <th>backdrop_path</th>\n",
       "      <th>genre_ids</th>\n",
       "      <th>id</th>\n",
       "      <th>original_language</th>\n",
       "      <th>original_title</th>\n",
       "      <th>overview</th>\n",
       "      <th>popularity</th>\n",
       "      <th>poster_path</th>\n",
       "      <th>release_date</th>\n",
       "      <th>title</th>\n",
       "      <th>video</th>\n",
       "      <th>vote_average</th>\n",
       "      <th>vote_count</th>\n",
       "      <th>budget</th>\n",
       "      <th>revenue</th>\n",
       "    </tr>\n",
       "  </thead>\n",
       "  <tbody>\n",
       "    <tr>\n",
       "      <th>0</th>\n",
       "      <td>False</td>\n",
       "      <td>/zfbjgQE1uSd9wiPTX4VzsLi0rGG.jpg</td>\n",
       "      <td>18</td>\n",
       "      <td>278</td>\n",
       "      <td>en</td>\n",
       "      <td>The Shawshank Redemption</td>\n",
       "      <td>Imprisoned in the 1940s for the double murder ...</td>\n",
       "      <td>230.813</td>\n",
       "      <td>/9cqNxx0GxF0bflZmeSMuL5tnGzr.jpg</td>\n",
       "      <td>1994-09-23</td>\n",
       "      <td>The Shawshank Redemption</td>\n",
       "      <td>False</td>\n",
       "      <td>8.707</td>\n",
       "      <td>26988</td>\n",
       "      <td>25000000</td>\n",
       "      <td>28341469</td>\n",
       "    </tr>\n",
       "    <tr>\n",
       "      <th>1</th>\n",
       "      <td>False</td>\n",
       "      <td>/zfbjgQE1uSd9wiPTX4VzsLi0rGG.jpg</td>\n",
       "      <td>18</td>\n",
       "      <td>278</td>\n",
       "      <td>en</td>\n",
       "      <td>The Shawshank Redemption</td>\n",
       "      <td>Imprisoned in the 1940s for the double murder ...</td>\n",
       "      <td>230.813</td>\n",
       "      <td>/9cqNxx0GxF0bflZmeSMuL5tnGzr.jpg</td>\n",
       "      <td>1994-09-23</td>\n",
       "      <td>The Shawshank Redemption</td>\n",
       "      <td>False</td>\n",
       "      <td>8.707</td>\n",
       "      <td>26988</td>\n",
       "      <td>25000000</td>\n",
       "      <td>28341469</td>\n",
       "    </tr>\n",
       "    <tr>\n",
       "      <th>2</th>\n",
       "      <td>False</td>\n",
       "      <td>/zfbjgQE1uSd9wiPTX4VzsLi0rGG.jpg</td>\n",
       "      <td>80</td>\n",
       "      <td>278</td>\n",
       "      <td>en</td>\n",
       "      <td>The Shawshank Redemption</td>\n",
       "      <td>Imprisoned in the 1940s for the double murder ...</td>\n",
       "      <td>230.813</td>\n",
       "      <td>/9cqNxx0GxF0bflZmeSMuL5tnGzr.jpg</td>\n",
       "      <td>1994-09-23</td>\n",
       "      <td>The Shawshank Redemption</td>\n",
       "      <td>False</td>\n",
       "      <td>8.707</td>\n",
       "      <td>26988</td>\n",
       "      <td>25000000</td>\n",
       "      <td>28341469</td>\n",
       "    </tr>\n",
       "    <tr>\n",
       "      <th>3</th>\n",
       "      <td>False</td>\n",
       "      <td>/zfbjgQE1uSd9wiPTX4VzsLi0rGG.jpg</td>\n",
       "      <td>80</td>\n",
       "      <td>278</td>\n",
       "      <td>en</td>\n",
       "      <td>The Shawshank Redemption</td>\n",
       "      <td>Imprisoned in the 1940s for the double murder ...</td>\n",
       "      <td>230.813</td>\n",
       "      <td>/9cqNxx0GxF0bflZmeSMuL5tnGzr.jpg</td>\n",
       "      <td>1994-09-23</td>\n",
       "      <td>The Shawshank Redemption</td>\n",
       "      <td>False</td>\n",
       "      <td>8.707</td>\n",
       "      <td>26988</td>\n",
       "      <td>25000000</td>\n",
       "      <td>28341469</td>\n",
       "    </tr>\n",
       "    <tr>\n",
       "      <th>13</th>\n",
       "      <td>False</td>\n",
       "      <td>/tmU7GeKVybMWFButWEGl2M4GeiP.jpg</td>\n",
       "      <td>18</td>\n",
       "      <td>238</td>\n",
       "      <td>en</td>\n",
       "      <td>The Godfather</td>\n",
       "      <td>Spanning the years 1945 to 1955, a chronicle o...</td>\n",
       "      <td>195.477</td>\n",
       "      <td>/3bhkrj58Vtu7enYsRolD1fZdja1.jpg</td>\n",
       "      <td>1972-03-14</td>\n",
       "      <td>The Godfather</td>\n",
       "      <td>False</td>\n",
       "      <td>8.690</td>\n",
       "      <td>20496</td>\n",
       "      <td>6000000</td>\n",
       "      <td>245066411</td>\n",
       "    </tr>\n",
       "  </tbody>\n",
       "</table>\n",
       "</div>"
      ],
      "text/plain": [
       "    adult                     backdrop_path  genre_ids   id original_language  \\\n",
       "0   False  /zfbjgQE1uSd9wiPTX4VzsLi0rGG.jpg         18  278                en   \n",
       "1   False  /zfbjgQE1uSd9wiPTX4VzsLi0rGG.jpg         18  278                en   \n",
       "2   False  /zfbjgQE1uSd9wiPTX4VzsLi0rGG.jpg         80  278                en   \n",
       "3   False  /zfbjgQE1uSd9wiPTX4VzsLi0rGG.jpg         80  278                en   \n",
       "13  False  /tmU7GeKVybMWFButWEGl2M4GeiP.jpg         18  238                en   \n",
       "\n",
       "              original_title  \\\n",
       "0   The Shawshank Redemption   \n",
       "1   The Shawshank Redemption   \n",
       "2   The Shawshank Redemption   \n",
       "3   The Shawshank Redemption   \n",
       "13             The Godfather   \n",
       "\n",
       "                                             overview  popularity  \\\n",
       "0   Imprisoned in the 1940s for the double murder ...     230.813   \n",
       "1   Imprisoned in the 1940s for the double murder ...     230.813   \n",
       "2   Imprisoned in the 1940s for the double murder ...     230.813   \n",
       "3   Imprisoned in the 1940s for the double murder ...     230.813   \n",
       "13  Spanning the years 1945 to 1955, a chronicle o...     195.477   \n",
       "\n",
       "                         poster_path release_date                     title  \\\n",
       "0   /9cqNxx0GxF0bflZmeSMuL5tnGzr.jpg   1994-09-23  The Shawshank Redemption   \n",
       "1   /9cqNxx0GxF0bflZmeSMuL5tnGzr.jpg   1994-09-23  The Shawshank Redemption   \n",
       "2   /9cqNxx0GxF0bflZmeSMuL5tnGzr.jpg   1994-09-23  The Shawshank Redemption   \n",
       "3   /9cqNxx0GxF0bflZmeSMuL5tnGzr.jpg   1994-09-23  The Shawshank Redemption   \n",
       "13  /3bhkrj58Vtu7enYsRolD1fZdja1.jpg   1972-03-14             The Godfather   \n",
       "\n",
       "    video  vote_average  vote_count    budget    revenue  \n",
       "0   False         8.707       26988  25000000   28341469  \n",
       "1   False         8.707       26988  25000000   28341469  \n",
       "2   False         8.707       26988  25000000   28341469  \n",
       "3   False         8.707       26988  25000000   28341469  \n",
       "13  False         8.690       20496   6000000  245066411  "
      ]
     },
     "execution_count": 14,
     "metadata": {},
     "output_type": "execute_result"
    }
   ],
   "source": [
    "\n",
    "#english_movies = english_movies.drop([4,5,6,7,8,9,10,11,12])\n",
    "english_movies.head()"
   ]
  },
  {
   "cell_type": "code",
   "execution_count": 18,
   "id": "7e12f035",
   "metadata": {},
   "outputs": [],
   "source": [
    "#french_movies = french_movies.drop(french_movies[french_movies['popularity'] == 170.237].index)\n",
    "#french_movies = french_movies.drop(french_movies[french_movies['budget'] == french_movies['budget'].max()].index)"
   ]
  },
  {
   "cell_type": "code",
   "execution_count": 6,
   "id": "b355b296",
   "metadata": {
    "collapsed": true
   },
   "outputs": [
    {
     "data": {
      "text/html": [
       "<div>\n",
       "<style scoped>\n",
       "    .dataframe tbody tr th:only-of-type {\n",
       "        vertical-align: middle;\n",
       "    }\n",
       "\n",
       "    .dataframe tbody tr th {\n",
       "        vertical-align: top;\n",
       "    }\n",
       "\n",
       "    .dataframe thead th {\n",
       "        text-align: right;\n",
       "    }\n",
       "</style>\n",
       "<table border=\"1\" class=\"dataframe\">\n",
       "  <thead>\n",
       "    <tr style=\"text-align: right;\">\n",
       "      <th></th>\n",
       "      <th>adult</th>\n",
       "      <th>backdrop_path</th>\n",
       "      <th>genre_ids</th>\n",
       "      <th>id</th>\n",
       "      <th>original_language</th>\n",
       "      <th>original_title</th>\n",
       "      <th>overview</th>\n",
       "      <th>popularity</th>\n",
       "      <th>poster_path</th>\n",
       "      <th>release_date</th>\n",
       "      <th>title</th>\n",
       "      <th>video</th>\n",
       "      <th>vote_average</th>\n",
       "      <th>vote_count</th>\n",
       "      <th>budget</th>\n",
       "      <th>revenue</th>\n",
       "    </tr>\n",
       "  </thead>\n",
       "  <tbody>\n",
       "    <tr>\n",
       "      <th>4</th>\n",
       "      <td>False</td>\n",
       "      <td>/417tYZ4XUyJrtyZXj7HpvWf1E8f.jpg</td>\n",
       "      <td>16</td>\n",
       "      <td>1184918</td>\n",
       "      <td>en</td>\n",
       "      <td>The Wild Robot</td>\n",
       "      <td>After a shipwreck, an intelligent robot called...</td>\n",
       "      <td>6191.489</td>\n",
       "      <td>/wTnV3PCVW5O92JMrFvvrRcV39RU.jpg</td>\n",
       "      <td>2024-09-12</td>\n",
       "      <td>The Wild Robot</td>\n",
       "      <td>False</td>\n",
       "      <td>8.691</td>\n",
       "      <td>1145</td>\n",
       "      <td>78000000</td>\n",
       "      <td>196822000</td>\n",
       "    </tr>\n",
       "    <tr>\n",
       "      <th>5</th>\n",
       "      <td>False</td>\n",
       "      <td>/417tYZ4XUyJrtyZXj7HpvWf1E8f.jpg</td>\n",
       "      <td>16</td>\n",
       "      <td>1184918</td>\n",
       "      <td>en</td>\n",
       "      <td>The Wild Robot</td>\n",
       "      <td>After a shipwreck, an intelligent robot called...</td>\n",
       "      <td>6191.489</td>\n",
       "      <td>/wTnV3PCVW5O92JMrFvvrRcV39RU.jpg</td>\n",
       "      <td>2024-09-12</td>\n",
       "      <td>The Wild Robot</td>\n",
       "      <td>False</td>\n",
       "      <td>8.691</td>\n",
       "      <td>1145</td>\n",
       "      <td>78000000</td>\n",
       "      <td>196822000</td>\n",
       "    </tr>\n",
       "    <tr>\n",
       "      <th>6</th>\n",
       "      <td>False</td>\n",
       "      <td>/417tYZ4XUyJrtyZXj7HpvWf1E8f.jpg</td>\n",
       "      <td>16</td>\n",
       "      <td>1184918</td>\n",
       "      <td>en</td>\n",
       "      <td>The Wild Robot</td>\n",
       "      <td>After a shipwreck, an intelligent robot called...</td>\n",
       "      <td>6191.489</td>\n",
       "      <td>/wTnV3PCVW5O92JMrFvvrRcV39RU.jpg</td>\n",
       "      <td>2024-09-12</td>\n",
       "      <td>The Wild Robot</td>\n",
       "      <td>False</td>\n",
       "      <td>8.691</td>\n",
       "      <td>1145</td>\n",
       "      <td>78000000</td>\n",
       "      <td>196822000</td>\n",
       "    </tr>\n",
       "    <tr>\n",
       "      <th>7</th>\n",
       "      <td>False</td>\n",
       "      <td>/417tYZ4XUyJrtyZXj7HpvWf1E8f.jpg</td>\n",
       "      <td>878</td>\n",
       "      <td>1184918</td>\n",
       "      <td>en</td>\n",
       "      <td>The Wild Robot</td>\n",
       "      <td>After a shipwreck, an intelligent robot called...</td>\n",
       "      <td>6191.489</td>\n",
       "      <td>/wTnV3PCVW5O92JMrFvvrRcV39RU.jpg</td>\n",
       "      <td>2024-09-12</td>\n",
       "      <td>The Wild Robot</td>\n",
       "      <td>False</td>\n",
       "      <td>8.691</td>\n",
       "      <td>1145</td>\n",
       "      <td>78000000</td>\n",
       "      <td>196822000</td>\n",
       "    </tr>\n",
       "    <tr>\n",
       "      <th>8</th>\n",
       "      <td>False</td>\n",
       "      <td>/417tYZ4XUyJrtyZXj7HpvWf1E8f.jpg</td>\n",
       "      <td>878</td>\n",
       "      <td>1184918</td>\n",
       "      <td>en</td>\n",
       "      <td>The Wild Robot</td>\n",
       "      <td>After a shipwreck, an intelligent robot called...</td>\n",
       "      <td>6191.489</td>\n",
       "      <td>/wTnV3PCVW5O92JMrFvvrRcV39RU.jpg</td>\n",
       "      <td>2024-09-12</td>\n",
       "      <td>The Wild Robot</td>\n",
       "      <td>False</td>\n",
       "      <td>8.691</td>\n",
       "      <td>1145</td>\n",
       "      <td>78000000</td>\n",
       "      <td>196822000</td>\n",
       "    </tr>\n",
       "    <tr>\n",
       "      <th>9</th>\n",
       "      <td>False</td>\n",
       "      <td>/417tYZ4XUyJrtyZXj7HpvWf1E8f.jpg</td>\n",
       "      <td>878</td>\n",
       "      <td>1184918</td>\n",
       "      <td>en</td>\n",
       "      <td>The Wild Robot</td>\n",
       "      <td>After a shipwreck, an intelligent robot called...</td>\n",
       "      <td>6191.489</td>\n",
       "      <td>/wTnV3PCVW5O92JMrFvvrRcV39RU.jpg</td>\n",
       "      <td>2024-09-12</td>\n",
       "      <td>The Wild Robot</td>\n",
       "      <td>False</td>\n",
       "      <td>8.691</td>\n",
       "      <td>1145</td>\n",
       "      <td>78000000</td>\n",
       "      <td>196822000</td>\n",
       "    </tr>\n",
       "    <tr>\n",
       "      <th>10</th>\n",
       "      <td>False</td>\n",
       "      <td>/417tYZ4XUyJrtyZXj7HpvWf1E8f.jpg</td>\n",
       "      <td>10751</td>\n",
       "      <td>1184918</td>\n",
       "      <td>en</td>\n",
       "      <td>The Wild Robot</td>\n",
       "      <td>After a shipwreck, an intelligent robot called...</td>\n",
       "      <td>6191.489</td>\n",
       "      <td>/wTnV3PCVW5O92JMrFvvrRcV39RU.jpg</td>\n",
       "      <td>2024-09-12</td>\n",
       "      <td>The Wild Robot</td>\n",
       "      <td>False</td>\n",
       "      <td>8.691</td>\n",
       "      <td>1145</td>\n",
       "      <td>78000000</td>\n",
       "      <td>196822000</td>\n",
       "    </tr>\n",
       "    <tr>\n",
       "      <th>11</th>\n",
       "      <td>False</td>\n",
       "      <td>/417tYZ4XUyJrtyZXj7HpvWf1E8f.jpg</td>\n",
       "      <td>10751</td>\n",
       "      <td>1184918</td>\n",
       "      <td>en</td>\n",
       "      <td>The Wild Robot</td>\n",
       "      <td>After a shipwreck, an intelligent robot called...</td>\n",
       "      <td>6191.489</td>\n",
       "      <td>/wTnV3PCVW5O92JMrFvvrRcV39RU.jpg</td>\n",
       "      <td>2024-09-12</td>\n",
       "      <td>The Wild Robot</td>\n",
       "      <td>False</td>\n",
       "      <td>8.691</td>\n",
       "      <td>1145</td>\n",
       "      <td>78000000</td>\n",
       "      <td>196822000</td>\n",
       "    </tr>\n",
       "    <tr>\n",
       "      <th>12</th>\n",
       "      <td>False</td>\n",
       "      <td>/417tYZ4XUyJrtyZXj7HpvWf1E8f.jpg</td>\n",
       "      <td>10751</td>\n",
       "      <td>1184918</td>\n",
       "      <td>en</td>\n",
       "      <td>The Wild Robot</td>\n",
       "      <td>After a shipwreck, an intelligent robot called...</td>\n",
       "      <td>6191.489</td>\n",
       "      <td>/wTnV3PCVW5O92JMrFvvrRcV39RU.jpg</td>\n",
       "      <td>2024-09-12</td>\n",
       "      <td>The Wild Robot</td>\n",
       "      <td>False</td>\n",
       "      <td>8.691</td>\n",
       "      <td>1145</td>\n",
       "      <td>78000000</td>\n",
       "      <td>196822000</td>\n",
       "    </tr>\n",
       "  </tbody>\n",
       "</table>\n",
       "</div>"
      ],
      "text/plain": [
       "    adult                     backdrop_path  genre_ids       id  \\\n",
       "4   False  /417tYZ4XUyJrtyZXj7HpvWf1E8f.jpg         16  1184918   \n",
       "5   False  /417tYZ4XUyJrtyZXj7HpvWf1E8f.jpg         16  1184918   \n",
       "6   False  /417tYZ4XUyJrtyZXj7HpvWf1E8f.jpg         16  1184918   \n",
       "7   False  /417tYZ4XUyJrtyZXj7HpvWf1E8f.jpg        878  1184918   \n",
       "8   False  /417tYZ4XUyJrtyZXj7HpvWf1E8f.jpg        878  1184918   \n",
       "9   False  /417tYZ4XUyJrtyZXj7HpvWf1E8f.jpg        878  1184918   \n",
       "10  False  /417tYZ4XUyJrtyZXj7HpvWf1E8f.jpg      10751  1184918   \n",
       "11  False  /417tYZ4XUyJrtyZXj7HpvWf1E8f.jpg      10751  1184918   \n",
       "12  False  /417tYZ4XUyJrtyZXj7HpvWf1E8f.jpg      10751  1184918   \n",
       "\n",
       "   original_language  original_title  \\\n",
       "4                 en  The Wild Robot   \n",
       "5                 en  The Wild Robot   \n",
       "6                 en  The Wild Robot   \n",
       "7                 en  The Wild Robot   \n",
       "8                 en  The Wild Robot   \n",
       "9                 en  The Wild Robot   \n",
       "10                en  The Wild Robot   \n",
       "11                en  The Wild Robot   \n",
       "12                en  The Wild Robot   \n",
       "\n",
       "                                             overview  popularity  \\\n",
       "4   After a shipwreck, an intelligent robot called...    6191.489   \n",
       "5   After a shipwreck, an intelligent robot called...    6191.489   \n",
       "6   After a shipwreck, an intelligent robot called...    6191.489   \n",
       "7   After a shipwreck, an intelligent robot called...    6191.489   \n",
       "8   After a shipwreck, an intelligent robot called...    6191.489   \n",
       "9   After a shipwreck, an intelligent robot called...    6191.489   \n",
       "10  After a shipwreck, an intelligent robot called...    6191.489   \n",
       "11  After a shipwreck, an intelligent robot called...    6191.489   \n",
       "12  After a shipwreck, an intelligent robot called...    6191.489   \n",
       "\n",
       "                         poster_path release_date           title  video  \\\n",
       "4   /wTnV3PCVW5O92JMrFvvrRcV39RU.jpg   2024-09-12  The Wild Robot  False   \n",
       "5   /wTnV3PCVW5O92JMrFvvrRcV39RU.jpg   2024-09-12  The Wild Robot  False   \n",
       "6   /wTnV3PCVW5O92JMrFvvrRcV39RU.jpg   2024-09-12  The Wild Robot  False   \n",
       "7   /wTnV3PCVW5O92JMrFvvrRcV39RU.jpg   2024-09-12  The Wild Robot  False   \n",
       "8   /wTnV3PCVW5O92JMrFvvrRcV39RU.jpg   2024-09-12  The Wild Robot  False   \n",
       "9   /wTnV3PCVW5O92JMrFvvrRcV39RU.jpg   2024-09-12  The Wild Robot  False   \n",
       "10  /wTnV3PCVW5O92JMrFvvrRcV39RU.jpg   2024-09-12  The Wild Robot  False   \n",
       "11  /wTnV3PCVW5O92JMrFvvrRcV39RU.jpg   2024-09-12  The Wild Robot  False   \n",
       "12  /wTnV3PCVW5O92JMrFvvrRcV39RU.jpg   2024-09-12  The Wild Robot  False   \n",
       "\n",
       "    vote_average  vote_count    budget    revenue  \n",
       "4          8.691        1145  78000000  196822000  \n",
       "5          8.691        1145  78000000  196822000  \n",
       "6          8.691        1145  78000000  196822000  \n",
       "7          8.691        1145  78000000  196822000  \n",
       "8          8.691        1145  78000000  196822000  \n",
       "9          8.691        1145  78000000  196822000  \n",
       "10         8.691        1145  78000000  196822000  \n",
       "11         8.691        1145  78000000  196822000  \n",
       "12         8.691        1145  78000000  196822000  "
      ]
     },
     "execution_count": 6,
     "metadata": {},
     "output_type": "execute_result"
    }
   ],
   "source": [
    "english_movies[english_movies['popularity'] == 6191.489]"
   ]
  },
  {
   "cell_type": "code",
   "execution_count": 8,
   "id": "1bac65d1",
   "metadata": {},
   "outputs": [
    {
     "data": {
      "text/plain": [
       "<AxesSubplot:xlabel='budget', ylabel='popularity'>"
      ]
     },
     "execution_count": 8,
     "metadata": {},
     "output_type": "execute_result"
    },
    {
     "data": {
      "image/png": "[encoded data removed]",
      "text/plain": [
       "<Figure size 640x480 with 1 Axes>"
      ]
     },
     "metadata": {},
     "output_type": "display_data"
    }
   ],
   "source": [
    "sb.scatterplot(data=english_movies, x='budget', y='popularity')"
   ]
  },
  {
   "cell_type": "code",
   "execution_count": 19,
   "id": "2c5f2a57",
   "metadata": {},
   "outputs": [
    {
     "data": {
      "text/plain": [
       "<AxesSubplot:xlabel='budget', ylabel='popularity'>"
      ]
     },
     "execution_count": 19,
     "metadata": {},
     "output_type": "execute_result"
    },
    {
     "data": {
      "image/png": "[encoded data removed]",
      "text/plain": [
       "<Figure size 640x480 with 1 Axes>"
      ]
     },
     "metadata": {},
     "output_type": "display_data"
    }
   ],
   "source": [
    "sb.scatterplot(data=french_movies, x='budget', y='popularity')"
   ]
  },
  {
   "cell_type": "code",
   "execution_count": 30,
   "id": "b698211b",
   "metadata": {},
   "outputs": [
    {
     "data": {
      "text/plain": [
       "<AxesSubplot:xlabel='budget', ylabel='popularity'>"
      ]
     },
     "execution_count": 30,
     "metadata": {},
     "output_type": "execute_result"
    },
    {
     "data": {
      "image/png": "[encoded data removed]",
      "text/plain": [
       "<Figure size 640x480 with 1 Axes>"
      ]
     },
     "metadata": {},
     "output_type": "display_data"
    }
   ],
   "source": [
    "sb.regplot(data=english_movies, x=\"budget\", y=\"popularity\")"
   ]
  },
  {
   "cell_type": "code",
   "execution_count": 31,
   "id": "e5e9d020",
   "metadata": {},
   "outputs": [
    {
     "data": {
      "text/plain": [
       "<AxesSubplot:xlabel='budget', ylabel='popularity'>"
      ]
     },
     "execution_count": 31,
     "metadata": {},
     "output_type": "execute_result"
    },
    {
     "data": {
      "image/png": "[encoded data removed]",
      "text/plain": [
       "<Figure size 640x480 with 1 Axes>"
      ]
     },
     "metadata": {},
     "output_type": "display_data"
    }
   ],
   "source": [
    "sb.regplot(data=french_movies, x=\"budget\", y=\"popularity\")"
   ]
  },
  {
   "cell_type": "code",
   "execution_count": null,
   "id": "10d6d3b6",
   "metadata": {},
   "outputs": [],
   "source": [
    "def line_of_best_fit(df, x_col, y_col):\n",
    "    #Calculate the means\n",
    "    mean_x = df[x_col].mean()\n",
    "    mean_y = df[y_col].mean()\n",
    "    \n",
    "    #Calculate the slope \n",
    "    numerator = ((df[x_col] - mean_x) * (df[y_col] - mean_y)).sum()\n",
    "    denominator = ((df[x_col] - mean_x) ** 2).sum()\n",
    "    \n",
    "    m = numerator/denominator\n",
    "    \n",
    "    b = mean_y - m * mean_x\n",
    "    \n",
    "    # Calculate the predicted y-values\n",
    "    df['predicted_y'] = m * df[x_col] + b\n",
    "    \n",
    "    # Calculate the residuals\n",
    "    df['residuals'] = df[y_col] - df['predicted_y']\n",
    "    \n",
    "    return m,b"
   ]
  },
  {
   "cell_type": "code",
   "execution_count": 27,
   "id": "70c08338",
   "metadata": {},
   "outputs": [
    {
     "data": {
      "text/plain": [
       "(7.824935704562614e-07, 48.16102022608042)"
      ]
     },
     "execution_count": 27,
     "metadata": {},
     "output_type": "execute_result"
    }
   ],
   "source": [
    "english_m, english_b = line_of_best_fit(english_movies, 'budget', 'popularity')\n",
    "\n",
    "english_m, english_b"
   ]
  },
  {
   "cell_type": "code",
   "execution_count": 28,
   "id": "20ab74ae",
   "metadata": {},
   "outputs": [
    {
     "data": {
      "text/plain": [
       "(9.472201569336152e-08, 14.815289289031487)"
      ]
     },
     "execution_count": 28,
     "metadata": {},
     "output_type": "execute_result"
    }
   ],
   "source": [
    "french_m, french_b = line_of_best_fit(french_movies, 'budget', 'popularity')\n",
    "\n",
    "french_m, french_b"
   ]
  },
  {
   "cell_type": "code",
   "execution_count": 32,
   "id": "16bb5df9",
   "metadata": {},
   "outputs": [
    {
     "data": {
      "text/plain": [
       "87.28569874889348"
      ]
     },
     "execution_count": 32,
     "metadata": {},
     "output_type": "execute_result"
    }
   ],
   "source": [
    "(english_m * 50000000) + english_b"
   ]
  },
  {
   "cell_type": "code",
   "execution_count": 33,
   "id": "47fcd47f",
   "metadata": {},
   "outputs": [
    {
     "data": {
      "text/plain": [
       "19.55139007369956"
      ]
     },
     "execution_count": 33,
     "metadata": {},
     "output_type": "execute_result"
    }
   ],
   "source": [
    "(french_m * 50000000) + french_b"
   ]
  },
  {
   "cell_type": "code",
   "execution_count": null,
   "id": "98d17c4d",
   "metadata": {},
   "outputs": [],
   "source": []
  }
 ],
 "metadata": {
  "kernelspec": {
   "display_name": "Python 3 (ipykernel)",
   "language": "python",
   "name": "python3"
  },
  "language_info": {
   "codemirror_mode": {
    "name": "ipython",
    "version": 3
   },
   "file_extension": ".py",
   "mimetype": "text/x-python",
   "name": "python",
   "nbconvert_exporter": "python",
   "pygments_lexer": "ipython3",
   "version": "3.9.13"
  }
 },
 "nbformat": 4,
 "nbformat_minor": 5
}
