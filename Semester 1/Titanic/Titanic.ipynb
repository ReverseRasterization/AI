{
 "cells": [
  {
   "cell_type": "code",
   "execution_count": 27,
   "id": "173eebce",
   "metadata": {},
   "outputs": [],
   "source": [
    "import pandas as pd \n",
    "df = pd.read_csv(\"titanic.csv\")"
   ]
  },
  {
   "cell_type": "code",
   "execution_count": 9,
   "id": "8131b9f3",
   "metadata": {},
   "outputs": [],
   "source": [
    "#ds.iloc[7,5] = 29 #modifies the age column (4th column) for the 6th sample"
   ]
  },
  {
   "cell_type": "code",
   "execution_count": 28,
   "id": "a0e3a7eb",
   "metadata": {},
   "outputs": [
    {
     "data": {
      "text/html": [
       "<div>\n",
       "<style scoped>\n",
       "    .dataframe tbody tr th:only-of-type {\n",
       "        vertical-align: middle;\n",
       "    }\n",
       "\n",
       "    .dataframe tbody tr th {\n",
       "        vertical-align: top;\n",
       "    }\n",
       "\n",
       "    .dataframe thead th {\n",
       "        text-align: right;\n",
       "    }\n",
       "</style>\n",
       "<table border=\"1\" class=\"dataframe\">\n",
       "  <thead>\n",
       "    <tr style=\"text-align: right;\">\n",
       "      <th></th>\n",
       "      <th>PassengerId</th>\n",
       "      <th>Survived</th>\n",
       "      <th>Pclass</th>\n",
       "      <th>Name</th>\n",
       "      <th>Sex</th>\n",
       "      <th>Age</th>\n",
       "      <th>SibSp</th>\n",
       "      <th>Parch</th>\n",
       "      <th>Ticket</th>\n",
       "      <th>Fare</th>\n",
       "      <th>Cabin</th>\n",
       "      <th>Embarked</th>\n",
       "    </tr>\n",
       "  </thead>\n",
       "  <tbody>\n",
       "    <tr>\n",
       "      <th>527</th>\n",
       "      <td>528</td>\n",
       "      <td>0</td>\n",
       "      <td>1</td>\n",
       "      <td>Farthing, Mr. John</td>\n",
       "      <td>male</td>\n",
       "      <td>NaN</td>\n",
       "      <td>0</td>\n",
       "      <td>0</td>\n",
       "      <td>PC 17483</td>\n",
       "      <td>221.7792</td>\n",
       "      <td>C95</td>\n",
       "      <td>S</td>\n",
       "    </tr>\n",
       "  </tbody>\n",
       "</table>\n",
       "</div>"
      ],
      "text/plain": [
       "     PassengerId  Survived  Pclass                Name   Sex  Age  SibSp  \\\n",
       "527          528         0       1  Farthing, Mr. John  male  NaN      0   \n",
       "\n",
       "     Parch    Ticket      Fare Cabin Embarked  \n",
       "527      0  PC 17483  221.7792   C95        S  "
      ]
     },
     "execution_count": 28,
     "metadata": {},
     "output_type": "execute_result"
    }
   ],
   "source": [
    "df[df['PassengerId'] == 528]"
   ]
  },
  {
   "cell_type": "code",
   "execution_count": 29,
   "id": "4eb12abd",
   "metadata": {},
   "outputs": [
    {
     "data": {
      "text/plain": [
       "PassengerId                              707\n",
       "Survived                                   1\n",
       "Pclass                                     2\n",
       "Name           Kelly, Mrs. Florence \"Fannie\"\n",
       "Sex                                   female\n",
       "Age                                     45.0\n",
       "SibSp                                      0\n",
       "Parch                                      0\n",
       "Ticket                                223596\n",
       "Fare                                    13.5\n",
       "Cabin                                    NaN\n",
       "Embarked                                   S\n",
       "Name: 706, dtype: object"
      ]
     },
     "execution_count": 29,
     "metadata": {},
     "output_type": "execute_result"
    }
   ],
   "source": [
    "idx = 0\n",
    "for person in df['Name']:\n",
    "    if 'Fannie' in person:\n",
    "        break\n",
    "    idx += 1\n",
    "ds.loc[idx]"
   ]
  },
  {
   "cell_type": "code",
   "execution_count": 20,
   "id": "042ebdd0",
   "metadata": {},
   "outputs": [
    {
     "data": {
      "text/plain": [
       "'\\nn = 0 # how many are 18+\\nm = 0 # how many are male\\n\\nfor index, row in ds[(ds[\\'Age\\'] > 18) | (ds[\\'Sex\\'] == \"male\")].iterrows():\\n    if row[\\'Age\\'] > 18:\\n        n+=1\\n        \\n    if row[\\'Sex\\'] == \\'male\\':\\n        m+=1\\n        \\nor...\\n\\nprint(ds[ds[\\'Age\\'] > 18].shape[0], \\n      \"passengers were 18+\\n\",\\n      (ds[ds[\\'Sex\\']==\\'male\\'].shape[0]/len(ds))*100, \\n      \"percent of passengers were male\")\\n'"
      ]
     },
     "execution_count": 20,
     "metadata": {},
     "output_type": "execute_result"
    }
   ],
   "source": [
    "'''\n",
    "n = 0 # how many are 18+\n",
    "m = 0 # how many are male\n",
    "\n",
    "for index, row in ds[(ds['Age'] > 18) | (ds['Sex'] == \"male\")].iterrows():\n",
    "    if row['Age'] > 18:\n",
    "        n+=1\n",
    "        \n",
    "    if row['Sex'] == 'male':\n",
    "        m+=1\n",
    "        \n",
    "or...\n",
    "\n",
    "print(ds[ds['Age'] > 18].shape[0], \n",
    "      \"passengers were 18+\\n\",\n",
    "      (ds[ds['Sex']=='male'].shape[0]/len(ds))*100, \n",
    "      \"percent of passengers were male\")\n",
    "'''\n",
    "'''\n",
    "class_table = pd.DataFrame({\n",
    "    'Class' : ['First', 'Second', 'Third', 'Total'],\n",
    "    'Num of Tickets' : [ len( ds[ ds['Pclass'] == 1 ] ), \n",
    "                         len( ds[ ds['Pclass'] == 2 ] ), \n",
    "                         len( ds[ ds['Pclass'] == 3 ] ),\n",
    "                         len( ds['Pclass'])]\n",
    "}) \n",
    "\n",
    "class_table\n",
    "'''\n",
    "'''\n",
    "port_table = pd.DataFrame({\n",
    "    'Port' : ['S', 'C', 'Q'],\n",
    "    'Percentage of Passengers': [ ( len( ds[ ds['Embarked']==\"S\" ] )/len(ds) )*100, \n",
    "                                  ( len( ds[ ds['Embarked']==\"C\" ] )/len(ds) )*100, \n",
    "                                  ( len( ds[ ds['Embarked']==\"Q\" ] )/len(ds) )*100 ],\n",
    "    'Tickets': [len( ds[ ds['Embarked']==\"S\" ] ),\n",
    "                len( ds[ ds['Embarked']==\"C\" ] ),\n",
    "                len( ds[ ds['Embarked']==\"Q\" ] )]\n",
    "})\n",
    "\n",
    "port_table\n",
    "'''"
   ]
  }
 ],
 "metadata": {
  "kernelspec": {
   "display_name": "Python 3 (ipykernel)",
   "language": "python",
   "name": "python3"
  },
  "language_info": {
   "codemirror_mode": {
    "name": "ipython",
    "version": 3
   },
   "file_extension": ".py",
   "mimetype": "text/x-python",
   "name": "python",
   "nbconvert_exporter": "python",
   "pygments_lexer": "ipython3",
   "version": "3.9.13"
  }
 },
 "nbformat": 4,
 "nbformat_minor": 5
}
