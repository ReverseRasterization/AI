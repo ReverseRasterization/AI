{
 "cells": [
  {
   "cell_type": "code",
   "execution_count": 5,
   "id": "ee05b383",
   "metadata": {},
   "outputs": [
    {
     "name": "stdout",
     "output_type": "stream",
     "text": [
      "\n",
      "\n"
     ]
    }
   ],
   "source": [
    "import pandas as pd \n",
    "ds = pd.read_csv(\"titanic.csv\")"
   ]
  },
  {
   "cell_type": "code",
   "execution_count": 9,
   "id": "9c1347c5",
   "metadata": {},
   "outputs": [],
   "source": [
    "ds.iloc[7,5] = 29 #modifies the age column (4th column) for the 6th sample"
   ]
  },
  {
   "cell_type": "code",
   "execution_count": 10,
   "id": "e5ffd671",
   "metadata": {},
   "outputs": [
    {
     "data": {
      "text/plain": [
       "PassengerId                                 8\n",
       "Survived                                    0\n",
       "Pclass                                      3\n",
       "Name           Palsson, Master. Gosta Leonard\n",
       "Sex                                      male\n",
       "Age                                      29.0\n",
       "SibSp                                       3\n",
       "Parch                                       1\n",
       "Ticket                                 349909\n",
       "Fare                                   21.075\n",
       "Cabin                                     NaN\n",
       "Embarked                                    S\n",
       "Name: 7, dtype: object"
      ]
     },
     "execution_count": 10,
     "metadata": {},
     "output_type": "execute_result"
    }
   ],
   "source": [
    "ds.iloc[7]"
   ]
  },
  {
   "cell_type": "code",
   "execution_count": 45,
   "id": "d6af5d59",
   "metadata": {},
   "outputs": [
    {
     "name": "stdout",
     "output_type": "stream",
     "text": [
      "576 passengers were 18+\n",
      " 64.75869809203144 percent of passengers were male\n"
     ]
    }
   ],
   "source": [
    "'''\n",
    "n = 0 # how many are 18+\n",
    "m = 0 # how many are male\n",
    "\n",
    "for index, row in ds[(ds['Age'] > 18) | (ds['Sex'] == \"male\")].iterrows():\n",
    "    if row['Age'] > 18:\n",
    "        n+=1\n",
    "        \n",
    "    if row['Sex'] == 'male':\n",
    "        m+=1\n",
    "'''\n",
    "\n",
    "print(ds[ds['Age'] > 18].shape[0], \"passengers were 18+\\n\",(ds[ds['Sex']=='male'].shape[0]/len(ds))*100, \"percent of passengers were male\")\n"
   ]
  }
 ],
 "metadata": {
  "kernelspec": {
   "display_name": "Python 3 (ipykernel)",
   "language": "python",
   "name": "python3"
  },
  "language_info": {
   "codemirror_mode": {
    "name": "ipython",
    "version": 3
   },
   "file_extension": ".py",
   "mimetype": "text/x-python",
   "name": "python",
   "nbconvert_exporter": "python",
   "pygments_lexer": "ipython3",
   "version": "3.9.13"
  }
 },
 "nbformat": 4,
 "nbformat_minor": 5
}
