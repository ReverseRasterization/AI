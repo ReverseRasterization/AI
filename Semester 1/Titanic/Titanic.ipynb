{
 "cells": [
  {
   "cell_type": "code",
   "execution_count": 27,
   "id": "173eebce",
   "metadata": {},
   "outputs": [],
   "source": [
    "import pandas as pd \n",
    "df = pd.read_csv(\"titanic.csv\")"
   ]
  },
  {
   "cell_type": "code",
   "execution_count": 9,
   "id": "8131b9f3",
   "metadata": {},
   "outputs": [],
   "source": [
    "#ds.iloc[7,5] = 29 #modifies the age column (4th column) for the 6th sample"
   ]
  },
  {
   "cell_type": "code",
   "execution_count": 28,
   "id": "9dde2e4d",
   "metadata": {},
   "outputs": [
    {
     "data": {
      "text/html": [
       "<div>\n",
       "<style scoped>\n",
       "    .dataframe tbody tr th:only-of-type {\n",
       "        vertical-align: middle;\n",
       "    }\n",
       "\n",
       "    .dataframe tbody tr th {\n",
       "        vertical-align: top;\n",
       "    }\n",
       "\n",
       "    .dataframe thead th {\n",
       "        text-align: right;\n",
       "    }\n",
       "</style>\n",
       "<table border=\"1\" class=\"dataframe\">\n",
       "  <thead>\n",
       "    <tr style=\"text-align: right;\">\n",
       "      <th></th>\n",
       "      <th>PassengerId</th>\n",
       "      <th>Survived</th>\n",
       "      <th>Pclass</th>\n",
       "      <th>Name</th>\n",
       "      <th>Sex</th>\n",
       "      <th>Age</th>\n",
       "      <th>SibSp</th>\n",
       "      <th>Parch</th>\n",
       "      <th>Ticket</th>\n",
       "      <th>Fare</th>\n",
       "      <th>Cabin</th>\n",
       "      <th>Embarked</th>\n",
       "    </tr>\n",
       "  </thead>\n",
       "  <tbody>\n",
       "    <tr>\n",
       "      <th>527</th>\n",
       "      <td>528</td>\n",
       "      <td>0</td>\n",
       "      <td>1</td>\n",
       "      <td>Farthing, Mr. John</td>\n",
       "      <td>male</td>\n",
       "      <td>NaN</td>\n",
       "      <td>0</td>\n",
       "      <td>0</td>\n",
       "      <td>PC 17483</td>\n",
       "      <td>221.7792</td>\n",
       "      <td>C95</td>\n",
       "      <td>S</td>\n",
       "    </tr>\n",
       "  </tbody>\n",
       "</table>\n",
       "</div>"
      ],
      "text/plain": [
       "     PassengerId  Survived  Pclass                Name   Sex  Age  SibSp  \\\n",
       "527          528         0       1  Farthing, Mr. John  male  NaN      0   \n",
       "\n",
       "     Parch    Ticket      Fare Cabin Embarked  \n",
       "527      0  PC 17483  221.7792   C95        S  "
      ]
     },
     "execution_count": 28,
     "metadata": {},
     "output_type": "execute_result"
    }
   ],
   "source": [
    "df[df['PassengerId'] == 528]"
   ]
  },
  {
   "cell_type": "code",
   "execution_count": 29,
   "id": "efa67c5a",
   "metadata": {},
   "outputs": [
    {
     "data": {
      "text/plain": [
       "PassengerId                              707\n",
       "Survived                                   1\n",
       "Pclass                                     2\n",
       "Name           Kelly, Mrs. Florence \"Fannie\"\n",
       "Sex                                   female\n",
       "Age                                     45.0\n",
       "SibSp                                      0\n",
       "Parch                                      0\n",
       "Ticket                                223596\n",
       "Fare                                    13.5\n",
       "Cabin                                    NaN\n",
       "Embarked                                   S\n",
       "Name: 706, dtype: object"
      ]
     },
     "execution_count": 29,
     "metadata": {},
     "output_type": "execute_result"
    }
   ],
   "source": [
    "idx = 0\n",
    "for person in df['Name']:\n",
    "    if 'Fannie' in person:\n",
    "        break\n",
    "    idx += 1\n",
    "ds.loc[idx]"
   ]
  },
  {
   "cell_type": "code",
   "execution_count": 32,
   "id": "6d2007fb",
   "metadata": {},
   "outputs": [
    {
     "data": {
      "text/html": [
       "<div>\n",
       "<style scoped>\n",
       "    .dataframe tbody tr th:only-of-type {\n",
       "        vertical-align: middle;\n",
       "    }\n",
       "\n",
       "    .dataframe tbody tr th {\n",
       "        vertical-align: top;\n",
       "    }\n",
       "\n",
       "    .dataframe thead th {\n",
       "        text-align: right;\n",
       "    }\n",
       "</style>\n",
       "<table border=\"1\" class=\"dataframe\">\n",
       "  <thead>\n",
       "    <tr style=\"text-align: right;\">\n",
       "      <th>Survived</th>\n",
       "      <th>0</th>\n",
       "      <th>1</th>\n",
       "    </tr>\n",
       "    <tr>\n",
       "      <th>Sex</th>\n",
       "      <th></th>\n",
       "      <th></th>\n",
       "    </tr>\n",
       "  </thead>\n",
       "  <tbody>\n",
       "    <tr>\n",
       "      <th>female</th>\n",
       "      <td>81</td>\n",
       "      <td>233</td>\n",
       "    </tr>\n",
       "    <tr>\n",
       "      <th>male</th>\n",
       "      <td>468</td>\n",
       "      <td>109</td>\n",
       "    </tr>\n",
       "  </tbody>\n",
       "</table>\n",
       "</div>"
      ],
      "text/plain": [
       "Survived    0    1\n",
       "Sex               \n",
       "female     81  233\n",
       "male      468  109"
      ]
     },
     "execution_count": 32,
     "metadata": {},
     "output_type": "execute_result"
    }
   ],
   "source": [
    "contingency_table = pd.crosstab(index=df['Sex'], columns=df['Survived'])\n",
    "contingency_table"
   ]
  },
  {
   "cell_type": "code",
   "execution_count": 40,
   "id": "fb340a63",
   "metadata": {},
   "outputs": [
    {
     "data": {
      "text/html": [
       "<div>\n",
       "<style scoped>\n",
       "    .dataframe tbody tr th:only-of-type {\n",
       "        vertical-align: middle;\n",
       "    }\n",
       "\n",
       "    .dataframe tbody tr th {\n",
       "        vertical-align: top;\n",
       "    }\n",
       "\n",
       "    .dataframe thead th {\n",
       "        text-align: right;\n",
       "    }\n",
       "</style>\n",
       "<table border=\"1\" class=\"dataframe\">\n",
       "  <thead>\n",
       "    <tr style=\"text-align: right;\">\n",
       "      <th></th>\n",
       "      <th>Male</th>\n",
       "      <th>Female</th>\n",
       "    </tr>\n",
       "  </thead>\n",
       "  <tbody>\n",
       "    <tr>\n",
       "      <th>Survived</th>\n",
       "      <td>109</td>\n",
       "      <td>233</td>\n",
       "    </tr>\n",
       "    <tr>\n",
       "      <th>Died</th>\n",
       "      <td>468</td>\n",
       "      <td>81</td>\n",
       "    </tr>\n",
       "  </tbody>\n",
       "</table>\n",
       "</div>"
      ],
      "text/plain": [
       "          Male  Female\n",
       "Survived   109     233\n",
       "Died       468      81"
      ]
     },
     "execution_count": 40,
     "metadata": {},
     "output_type": "execute_result"
    }
   ],
   "source": [
    "maleSurvive = 0\n",
    "femaleSurvive = 0\n",
    "maleDied = 0\n",
    "femaleDied = 0\n",
    "for idx in range(len(df)):\n",
    "    if df.loc[idx]['Sex'] == 'male' and df.loc[idx]['Survived'] == 0:\n",
    "        maleDied += 1\n",
    "    elif df.loc[idx][\"Sex\"] == \"male\" and df.loc[idx]['Survived'] == 1:\n",
    "        maleSurvive+=1\n",
    "    elif df.loc[idx]['Sex'] == 'female' and df.loc[idx]['Survived'] == 0:\n",
    "        femaleDied += 1\n",
    "    elif df.loc[idx][\"Sex\"] == \"female\" and df.loc[idx]['Survived'] == 1:\n",
    "        femaleSurvive+=1\n",
    "\n",
    "conTable = pd.DataFrame({\n",
    "    \"Male\": [maleSurvive, maleDied],\n",
    "    \"Female\": [femaleSurvive, femaleDied]\n",
    "})\n",
    "\n",
    "conTable.index = [\"Survived\", \"Died\"]\n",
    "conTable"
   ]
  },
  {
   "cell_type": "code",
   "execution_count": 62,
   "id": "b7b0d4ae",
   "metadata": {},
   "outputs": [
    {
     "data": {
      "text/html": [
       "<div>\n",
       "<style scoped>\n",
       "    .dataframe tbody tr th:only-of-type {\n",
       "        vertical-align: middle;\n",
       "    }\n",
       "\n",
       "    .dataframe tbody tr th {\n",
       "        vertical-align: top;\n",
       "    }\n",
       "\n",
       "    .dataframe thead th {\n",
       "        text-align: right;\n",
       "    }\n",
       "</style>\n",
       "<table border=\"1\" class=\"dataframe\">\n",
       "  <thead>\n",
       "    <tr style=\"text-align: right;\">\n",
       "      <th></th>\n",
       "      <th>Child</th>\n",
       "      <th>Adult</th>\n",
       "      <th>Elderly</th>\n",
       "      <th>Total</th>\n",
       "    </tr>\n",
       "  </thead>\n",
       "  <tbody>\n",
       "    <tr>\n",
       "      <th>Survived (%)</th>\n",
       "      <td>54</td>\n",
       "      <td>39</td>\n",
       "      <td>27</td>\n",
       "      <td>41</td>\n",
       "    </tr>\n",
       "    <tr>\n",
       "      <th>Died (%)</th>\n",
       "      <td>46</td>\n",
       "      <td>61</td>\n",
       "      <td>73</td>\n",
       "      <td>59</td>\n",
       "    </tr>\n",
       "  </tbody>\n",
       "</table>\n",
       "</div>"
      ],
      "text/plain": [
       "              Child  Adult  Elderly  Total\n",
       "Survived (%)     54     39       27     41\n",
       "Died (%)         46     61       73     59"
      ]
     },
     "execution_count": 62,
     "metadata": {},
     "output_type": "execute_result"
    }
   ],
   "source": [
    "childSurvived = 0 # 0-17\n",
    "childDied = 0\n",
    "adultSurvived = 0 #18 - 59\n",
    "adultDied = 0\n",
    "elderlySurvived = 0 #60 - 100\n",
    "elderlyDied = 0\n",
    "\n",
    "cc = 0\n",
    "ac = 0\n",
    "ec = 0\n",
    "\n",
    "for _, row in df.iterrows():\n",
    "    if row['Age'] >= 0 and row['Age'] < 18: # Child age group\n",
    "        cc+=1\n",
    "        if row['Survived'] == 1:\n",
    "            childSurvived += 1\n",
    "        else:\n",
    "            childDied += 1\n",
    "    elif row['Age'] >= 18 and row['Age'] < 60: # Adult age group\n",
    "        ac+=1\n",
    "        if row['Survived'] == 1:\n",
    "            adultSurvived += 1\n",
    "        else:\n",
    "            adultDied += 1\n",
    "    elif row['Age'] >= 60: # Elderly age group\n",
    "        ec+=1\n",
    "        if row['Survived'] == 1:\n",
    "            elderlySurvived += 1\n",
    "        else:\n",
    "            elderlyDied += 1\n",
    "\n",
    "con_table = pd.DataFrame({\n",
    "    \"Child\": [round((childSurvived/cc)*100), round((childDied/cc)*100)],\n",
    "    \"Adult\": [round((adultSurvived/ac)*100), round((adultDied/ac)*100)],\n",
    "    \"Elderly\": [round((elderlySurvived/ec)*100), round((elderlyDied/ec)*100)],\n",
    "    \"Total\": [round(((childSurvived + adultSurvived + elderlySurvived)/(cc+ac+ec))*100),round(((childDied + adultDied + elderlyDied)/(cc+ac+ec))*100)]\n",
    "})\n",
    "\n",
    "con_table.index = [\"Survived (%)\", \"Died (%)\"]\n",
    "con_table"
   ]
  },
  {
   "cell_type": "code",
   "execution_count": 20,
   "id": "042ebdd0",
   "metadata": {},
   "outputs": [
    {
     "data": {
      "text/plain": [
       "'\\nn = 0 # how many are 18+\\nm = 0 # how many are male\\n\\nfor index, row in ds[(ds[\\'Age\\'] > 18) | (ds[\\'Sex\\'] == \"male\")].iterrows():\\n    if row[\\'Age\\'] > 18:\\n        n+=1\\n        \\n    if row[\\'Sex\\'] == \\'male\\':\\n        m+=1\\n        \\nor...\\n\\nprint(ds[ds[\\'Age\\'] > 18].shape[0], \\n      \"passengers were 18+\\n\",\\n      (ds[ds[\\'Sex\\']==\\'male\\'].shape[0]/len(ds))*100, \\n      \"percent of passengers were male\")\\n'"
      ]
     },
     "execution_count": 20,
     "metadata": {},
     "output_type": "execute_result"
    }
   ],
   "source": [
    "'''\n",
    "n = 0 # how many are 18+\n",
    "m = 0 # how many are male\n",
    "\n",
    "for index, row in ds[(ds['Age'] > 18) | (ds['Sex'] == \"male\")].iterrows():\n",
    "    if row['Age'] > 18:\n",
    "        n+=1\n",
    "        \n",
    "    if row['Sex'] == 'male':\n",
    "        m+=1\n",
    "        \n",
    "or...\n",
    "\n",
    "print(ds[ds['Age'] > 18].shape[0], \n",
    "      \"passengers were 18+\\n\",\n",
    "      (ds[ds['Sex']=='male'].shape[0]/len(ds))*100, \n",
    "      \"percent of passengers were male\")\n",
    "'''\n",
    "'''\n",
    "class_table = pd.DataFrame({\n",
    "    'Class' : ['First', 'Second', 'Third', 'Total'],\n",
    "    'Num of Tickets' : [ len( ds[ ds['Pclass'] == 1 ] ), \n",
    "                         len( ds[ ds['Pclass'] == 2 ] ), \n",
    "                         len( ds[ ds['Pclass'] == 3 ] ),\n",
    "                         len( ds['Pclass'])]\n",
    "}) \n",
    "\n",
    "class_table\n",
    "'''\n",
    "'''\n",
    "port_table = pd.DataFrame({\n",
    "    'Port' : ['S', 'C', 'Q'],\n",
    "    'Percentage of Passengers': [ ( len( ds[ ds['Embarked']==\"S\" ] )/len(ds) )*100, \n",
    "                                  ( len( ds[ ds['Embarked']==\"C\" ] )/len(ds) )*100, \n",
    "                                  ( len( ds[ ds['Embarked']==\"Q\" ] )/len(ds) )*100 ],\n",
    "    'Tickets': [len( ds[ ds['Embarked']==\"S\" ] ),\n",
    "                len( ds[ ds['Embarked']==\"C\" ] ),\n",
    "                len( ds[ ds['Embarked']==\"Q\" ] )]\n",
    "})\n",
    "\n",
    "port_table\n",
    "'''"
   ]
  }
 ],
 "metadata": {
  "kernelspec": {
   "display_name": "Python 3 (ipykernel)",
   "language": "python",
   "name": "python3"
  },
  "language_info": {
   "codemirror_mode": {
    "name": "ipython",
    "version": 3
   },
   "file_extension": ".py",
   "mimetype": "text/x-python",
   "name": "python",
   "nbconvert_exporter": "python",
   "pygments_lexer": "ipython3",
   "version": "3.9.13"
  }
 },
 "nbformat": 4,
 "nbformat_minor": 5
}
