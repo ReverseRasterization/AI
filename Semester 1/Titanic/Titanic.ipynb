{
 "cells": [
  {
   "cell_type": "code",
   "execution_count": 5,
   "id": "0ca2ec26",
   "metadata": {},
   "outputs": [
    {
     "name": "stdout",
     "output_type": "stream",
     "text": [
      "\n",
      "\n"
     ]
    }
   ],
   "source": [
    "import pandas as pd \n",
    "ds = pd.read_csv(\"titanic.csv\")"
   ]
  },
  {
   "cell_type": "code",
   "execution_count": 9,
   "id": "5ffe7e6c",
   "metadata": {},
   "outputs": [],
   "source": [
    "ds.iloc[7,5] = 29 #modifies the age column (4th column) for the 6th sample"
   ]
  },
  {
   "cell_type": "code",
   "execution_count": 10,
   "id": "a77e58ac",
   "metadata": {},
   "outputs": [
    {
     "data": {
      "text/plain": [
       "PassengerId                                 8\n",
       "Survived                                    0\n",
       "Pclass                                      3\n",
       "Name           Palsson, Master. Gosta Leonard\n",
       "Sex                                      male\n",
       "Age                                      29.0\n",
       "SibSp                                       3\n",
       "Parch                                       1\n",
       "Ticket                                 349909\n",
       "Fare                                   21.075\n",
       "Cabin                                     NaN\n",
       "Embarked                                    S\n",
       "Name: 7, dtype: object"
      ]
     },
     "execution_count": 10,
     "metadata": {},
     "output_type": "execute_result"
    }
   ],
   "source": [
    "ds.iloc[7]"
   ]
  },
  {
   "cell_type": "code",
   "execution_count": 45,
   "id": "eaff4529",
   "metadata": {},
   "outputs": [
    {
     "name": "stdout",
     "output_type": "stream",
     "text": [
      "576 passengers were 18+\n",
      " 64.75869809203144 percent of passengers were male\n"
     ]
    }
   ],
   "source": [
    "'''\n",
    "n = 0 # how many are 18+\n",
    "m = 0 # how many are male\n",
    "\n",
    "for index, row in ds[(ds['Age'] > 18) | (ds['Sex'] == \"male\")].iterrows():\n",
    "    if row['Age'] > 18:\n",
    "        n+=1\n",
    "        \n",
    "    if row['Sex'] == 'male':\n",
    "        m+=1\n",
    "'''\n",
    "\n",
    "print(ds[ds['Age'] > 18].shape[0], \n",
    "      \"passengers were 18+\\n\",\n",
    "      (ds[ds['Sex']=='male'].shape[0]/len(ds))*100, \n",
    "      \"percent of passengers were male\")"
   ]
  },
  {
   "cell_type": "code",
   "execution_count": 53,
   "id": "33daf07b",
   "metadata": {},
   "outputs": [
    {
     "data": {
      "text/html": [
       "<div>\n",
       "<style scoped>\n",
       "    .dataframe tbody tr th:only-of-type {\n",
       "        vertical-align: middle;\n",
       "    }\n",
       "\n",
       "    .dataframe tbody tr th {\n",
       "        vertical-align: top;\n",
       "    }\n",
       "\n",
       "    .dataframe thead th {\n",
       "        text-align: right;\n",
       "    }\n",
       "</style>\n",
       "<table border=\"1\" class=\"dataframe\">\n",
       "  <thead>\n",
       "    <tr style=\"text-align: right;\">\n",
       "      <th></th>\n",
       "      <th>Class</th>\n",
       "      <th>Num of Tickets</th>\n",
       "    </tr>\n",
       "  </thead>\n",
       "  <tbody>\n",
       "    <tr>\n",
       "      <th>0</th>\n",
       "      <td>First</td>\n",
       "      <td>216</td>\n",
       "    </tr>\n",
       "    <tr>\n",
       "      <th>1</th>\n",
       "      <td>Second</td>\n",
       "      <td>184</td>\n",
       "    </tr>\n",
       "    <tr>\n",
       "      <th>2</th>\n",
       "      <td>Third</td>\n",
       "      <td>491</td>\n",
       "    </tr>\n",
       "    <tr>\n",
       "      <th>3</th>\n",
       "      <td>Total</td>\n",
       "      <td>891</td>\n",
       "    </tr>\n",
       "  </tbody>\n",
       "</table>\n",
       "</div>"
      ],
      "text/plain": [
       "    Class  Num of Tickets\n",
       "0   First             216\n",
       "1  Second             184\n",
       "2   Third             491\n",
       "3   Total             891"
      ]
     },
     "execution_count": 53,
     "metadata": {},
     "output_type": "execute_result"
    }
   ],
   "source": [
    "class_table = pd.DataFrame({\n",
    "    'Class' : ['First', 'Second', 'Third', 'Total'],\n",
    "    'Num of Tickets' : [ len( ds[ ds['Pclass'] == 1 ] ), \n",
    "                         len( ds[ ds['Pclass'] == 2 ] ), \n",
    "                         len( ds[ ds['Pclass'] == 3 ] ),\n",
    "                         len( ds['Pclass'])]\n",
    "}) \n",
    "\n",
    "class_table"
   ]
  },
  {
   "cell_type": "code",
   "execution_count": 54,
   "id": "bf9e59c9",
   "metadata": {},
   "outputs": [
    {
     "data": {
      "text/html": [
       "<div>\n",
       "<style scoped>\n",
       "    .dataframe tbody tr th:only-of-type {\n",
       "        vertical-align: middle;\n",
       "    }\n",
       "\n",
       "    .dataframe tbody tr th {\n",
       "        vertical-align: top;\n",
       "    }\n",
       "\n",
       "    .dataframe thead th {\n",
       "        text-align: right;\n",
       "    }\n",
       "</style>\n",
       "<table border=\"1\" class=\"dataframe\">\n",
       "  <thead>\n",
       "    <tr style=\"text-align: right;\">\n",
       "      <th></th>\n",
       "      <th>Port</th>\n",
       "      <th>Percentage of Passengers</th>\n",
       "      <th>Tickets</th>\n",
       "    </tr>\n",
       "  </thead>\n",
       "  <tbody>\n",
       "    <tr>\n",
       "      <th>0</th>\n",
       "      <td>S</td>\n",
       "      <td>72.278339</td>\n",
       "      <td>644</td>\n",
       "    </tr>\n",
       "    <tr>\n",
       "      <th>1</th>\n",
       "      <td>C</td>\n",
       "      <td>18.855219</td>\n",
       "      <td>168</td>\n",
       "    </tr>\n",
       "    <tr>\n",
       "      <th>2</th>\n",
       "      <td>Q</td>\n",
       "      <td>8.641975</td>\n",
       "      <td>77</td>\n",
       "    </tr>\n",
       "  </tbody>\n",
       "</table>\n",
       "</div>"
      ],
      "text/plain": [
       "  Port  Percentage of Passengers  Tickets\n",
       "0    S                 72.278339      644\n",
       "1    C                 18.855219      168\n",
       "2    Q                  8.641975       77"
      ]
     },
     "execution_count": 54,
     "metadata": {},
     "output_type": "execute_result"
    }
   ],
   "source": [
    "port_table = pd.DataFrame({\n",
    "    'Port' : ['S', 'C', 'Q'],\n",
    "    'Percentage of Passengers': [ ( len( ds[ ds['Embarked']==\"S\" ] )/len(ds) )*100, \n",
    "                                  ( len( ds[ ds['Embarked']==\"C\" ] )/len(ds) )*100, \n",
    "                                  ( len( ds[ ds['Embarked']==\"Q\" ] )/len(ds) )*100 ],\n",
    "    'Tickets': [len( ds[ ds['Embarked']==\"S\" ] ),\n",
    "                len( ds[ ds['Embarked']==\"C\" ] ),\n",
    "                len( ds[ ds['Embarked']==\"Q\" ] )]\n",
    "})\n",
    "\n",
    "port_table"
   ]
  },
  {
   "cell_type": "code",
   "execution_count": null,
   "id": "41aecfed",
   "metadata": {},
   "outputs": [],
   "source": []
  }
 ],
 "metadata": {
  "kernelspec": {
   "display_name": "Python 3 (ipykernel)",
   "language": "python",
   "name": "python3"
  },
  "language_info": {
   "codemirror_mode": {
    "name": "ipython",
    "version": 3
   },
   "file_extension": ".py",
   "mimetype": "text/x-python",
   "name": "python",
   "nbconvert_exporter": "python",
   "pygments_lexer": "ipython3",
   "version": "3.9.13"
  }
 },
 "nbformat": 4,
 "nbformat_minor": 5
}
