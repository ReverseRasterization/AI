{
 "cells": [
  {
   "cell_type": "code",
   "execution_count": 14,
   "id": "119c961a",
   "metadata": {},
   "outputs": [
    {
     "data": {
      "text/html": [
       "<div>\n",
       "<style scoped>\n",
       "    .dataframe tbody tr th:only-of-type {\n",
       "        vertical-align: middle;\n",
       "    }\n",
       "\n",
       "    .dataframe tbody tr th {\n",
       "        vertical-align: top;\n",
       "    }\n",
       "\n",
       "    .dataframe thead th {\n",
       "        text-align: right;\n",
       "    }\n",
       "</style>\n",
       "<table border=\"1\" class=\"dataframe\">\n",
       "  <thead>\n",
       "    <tr style=\"text-align: right;\">\n",
       "      <th></th>\n",
       "      <th>Male</th>\n",
       "      <th>Female</th>\n",
       "    </tr>\n",
       "  </thead>\n",
       "  <tbody>\n",
       "    <tr>\n",
       "      <th>Survived</th>\n",
       "      <td>110</td>\n",
       "      <td>27</td>\n",
       "    </tr>\n",
       "    <tr>\n",
       "      <th>Died</th>\n",
       "      <td>393</td>\n",
       "      <td>459</td>\n",
       "    </tr>\n",
       "  </tbody>\n",
       "</table>\n",
       "</div>"
      ],
      "text/plain": [
       "          Male  Female\n",
       "Survived   110      27\n",
       "Died       393     459"
      ]
     },
     "execution_count": 14,
     "metadata": {},
     "output_type": "execute_result"
    }
   ],
   "source": [
    "import pandas as pd\n",
    "df = pd.read_csv('estonia.csv')\n",
    "\n",
    "ft = pd.DataFrame({\n",
    "    'Minors (0-17)': [len(df[df['Age'] < 18])],\n",
    "    'Adults (18-59)': [len(df[(df['Age'] > 17) & (df['Age'] < 60)])],\n",
    "    'Elderly (60+)': [len(df[df['Age'] > 59])]\n",
    "})\n",
    "\n",
    "maleSurvive = 0\n",
    "femaleSurvive = 0\n",
    "maleDied = 0\n",
    "femaleDied = 0\n",
    "for idx in range(len(df)):\n",
    "    if df.loc[idx]['Sex'] == 'M' and df.loc[idx]['Survived'] == 0:\n",
    "        maleDied += 1\n",
    "    elif df.loc[idx][\"Sex\"] == \"M\" and df.loc[idx]['Survived'] == 1:\n",
    "        maleSurvive+=1\n",
    "    elif df.loc[idx]['Sex'] == 'F' and df.loc[idx]['Survived'] == 0:\n",
    "        femaleDied += 1\n",
    "    elif df.loc[idx][\"Sex\"] == \"F\" and df.loc[idx]['Survived'] == 1:\n",
    "        femaleSurvive+=1\n",
    "\n",
    "conTable = pd.DataFrame({\n",
    "    \"Male\": [maleSurvive, maleDied],\n",
    "    \"Female\": [femaleSurvive, femaleDied]\n",
    "})\n",
    "\n",
    "conTable.index = [\"Survived\", \"Died\"]\n",
    "conTable"
   ]
  },
  {
   "cell_type": "code",
   "execution_count": 13,
   "id": "622eaa17",
   "metadata": {},
   "outputs": [
    {
     "data": {
      "text/plain": [
       "'\\nport_table = pd.DataFrame({\\n    \\'Port\\' : [\\'S\\', \\'C\\', \\'Q\\'],\\n    \\'Percentage of Passengers\\': [ ( len( df[ df[\\'Embarked\\']==\"S\" ] )/len(df) )*100, \\n                                  ( len( df[ df[\\'Embarked\\']==\"C\" ] )/len(df) )*100, \\n                                  ( len( df[ df[\\'Embarked\\']==\"Q\" ] )/len(df) )*100 ],\\n    \\'Tickets\\': [len( df[ df[\\'Embarked\\']==\"S\" ] ),\\n                len( df[ df[\\'Embarked\\']==\"C\" ] ),\\n                len( df[ df[\\'Embarked\\']==\"Q\" ] )]\\n})\\n'"
      ]
     },
     "execution_count": 13,
     "metadata": {},
     "output_type": "execute_result"
    }
   ],
   "source": [
    "'''\n",
    "port_table = pd.DataFrame({\n",
    "    'Port' : ['S', 'C', 'Q'],\n",
    "    'Percentage of Passengers': [ ( len( df[ df['Embarked']==\"S\" ] )/len(df) )*100, \n",
    "                                  ( len( df[ df['Embarked']==\"C\" ] )/len(df) )*100, \n",
    "                                  ( len( df[ df['Embarked']==\"Q\" ] )/len(df) )*100 ],\n",
    "    'Tickets': [len( df[ df['Embarked']==\"S\" ] ),\n",
    "                len( df[ df['Embarked']==\"C\" ] ),\n",
    "                len( df[ df['Embarked']==\"Q\" ] )]\n",
    "})\n",
    "'''"
   ]
  },
  {
   "cell_type": "code",
   "execution_count": null,
   "id": "9cec58d4",
   "metadata": {},
   "outputs": [],
   "source": []
  },
  {
   "cell_type": "code",
   "execution_count": null,
   "id": "8e5bbecd",
   "metadata": {},
   "outputs": [],
   "source": []
  }
 ],
 "metadata": {
  "kernelspec": {
   "display_name": "Python 3 (ipykernel)",
   "language": "python",
   "name": "python3"
  },
  "language_info": {
   "codemirror_mode": {
    "name": "ipython",
    "version": 3
   },
   "file_extension": ".py",
   "mimetype": "text/x-python",
   "name": "python",
   "nbconvert_exporter": "python",
   "pygments_lexer": "ipython3",
   "version": "3.9.13"
  }
 },
 "nbformat": 4,
 "nbformat_minor": 5
}
