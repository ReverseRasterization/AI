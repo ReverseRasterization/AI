{
 "cells": [
  {
   "cell_type": "markdown",
   "id": "c80b3b64",
   "metadata": {},
   "source": [
    "# Choose a Data Set\n",
    "Pick one of the following data sets to analyze for your final project. \n",
    "- [Cosmetics](https://drive.google.com/drive/folders/1qvmRfGb7a_pYAtgW6614gxlP-bxl_Ptz?usp=drive_link)\n",
    "- [Mental Health](https://drive.google.com/drive/folders/1YOp1aQVcmqlAkUEGHNPl_TyNXbY-xHwO?usp=drive_link)\n",
    "- [Pokemon](https://drive.google.com/drive/folders/1kDu2oRgm_hUW5hdM0tHnMUqCGSKUYT1v?usp=drive_link)\n",
    "- [Ramen](https://drive.google.com/drive/folders/1Y4_5QHOCy8rHc5EsEwDUuoCfp2WLo-MN?usp=drive_link)\n",
    "- [Student Performance](https://drive.google.com/drive/folders/1fE31Ka38AnGpgfI_Es3z4psuA0phhH0Y?usp=drive_link)"
   ]
  },
  {
   "cell_type": "markdown",
   "id": "8a7e64bc",
   "metadata": {},
   "source": [
    "# My Question"
   ]
  },
  {
   "cell_type": "markdown",
   "id": "b52e166c",
   "metadata": {},
   "source": [
    "How does the amount of physical activity influence mental health and the various factors that affect it?"
   ]
  },
  {
   "cell_type": "markdown",
   "id": "0a574d2e",
   "metadata": {},
   "source": [
    "# My Analysis"
   ]
  },
  {
   "cell_type": "code",
   "execution_count": 24,
   "id": "e9e64518",
   "metadata": {},
   "outputs": [
    {
     "name": "stderr",
     "output_type": "stream",
     "text": [
      "C:\\Users\\Zach\\AppData\\Local\\Temp\\ipykernel_13288\\2149547137.py:12: FutureWarning: Downcasting behavior in `replace` is deprecated and will be removed in a future version. To retain the old behavior, explicitly call `result.infer_objects(copy=False)`. To opt-in to the future behavior, set `pd.set_option('future.no_silent_downcasting', True)`\n",
      "  df['Stress_Level'] = df['Stress_Level'].replace(['Low', 'Medium', 'High'], [1,2,3])\n"
     ]
    }
   ],
   "source": [
    "# Analysis Techniques Used: Bar Charts, Histogram, Mean (Average)\n",
    "\n",
    "# Libraries\n",
    "import pandas as pd\n",
    "import seaborn as sb\n",
    "import numpy as np\n",
    "\n",
    "df = pd.read_csv('mentalhealth.csv')\n",
    "\n",
    "# Data Processing\n",
    "#df['Physical_Activity_Hours'] = np.ceil(df['Physical_Activity_Hours'])\n",
    "df['Stress_Level'] = df['Stress_Level'].replace(['Low', 'Medium', 'High'], [1,2,3])\n",
    "\n",
    "inactive = df[(df['Physical_Activity_Hours'] >= 0) & (df['Physical_Activity_Hours'] <=3)]\n",
    "active = df[(df['Physical_Activity_Hours'] > 3) & (df['Physical_Activity_Hours'] <= 6)]\n",
    "very_active = df[(df['Physical_Activity_Hours'] > 6)]\n"
   ]
  },
  {
   "cell_type": "code",
   "execution_count": 5,
   "id": "7b847dc3-6588-435b-99bb-9c2e65bb9edc",
   "metadata": {
    "collapsed": true,
    "jupyter": {
     "outputs_hidden": true,
     "source_hidden": true
    },
    "scrolled": true
   },
   "outputs": [
    {
     "data": {
      "text/html": [
       "<div>\n",
       "<style scoped>\n",
       "    .dataframe tbody tr th:only-of-type {\n",
       "        vertical-align: middle;\n",
       "    }\n",
       "\n",
       "    .dataframe tbody tr th {\n",
       "        vertical-align: top;\n",
       "    }\n",
       "\n",
       "    .dataframe thead th {\n",
       "        text-align: right;\n",
       "    }\n",
       "</style>\n",
       "<table border=\"1\" class=\"dataframe\">\n",
       "  <thead>\n",
       "    <tr style=\"text-align: right;\">\n",
       "      <th></th>\n",
       "      <th>Semi-Active (0-3 hrs)</th>\n",
       "      <th>Active (4-6 hrs)</th>\n",
       "      <th>Very Active (7-10 hrs)</th>\n",
       "    </tr>\n",
       "  </thead>\n",
       "  <tbody>\n",
       "    <tr>\n",
       "      <th>Excellent (Mental Health)</th>\n",
       "      <td>730.000000</td>\n",
       "      <td>751.000000</td>\n",
       "      <td>1037.000000</td>\n",
       "    </tr>\n",
       "    <tr>\n",
       "      <th>Good</th>\n",
       "      <td>756.000000</td>\n",
       "      <td>786.000000</td>\n",
       "      <td>966.000000</td>\n",
       "    </tr>\n",
       "    <tr>\n",
       "      <th>Fair</th>\n",
       "      <td>783.000000</td>\n",
       "      <td>708.000000</td>\n",
       "      <td>999.000000</td>\n",
       "    </tr>\n",
       "    <tr>\n",
       "      <th>Poor</th>\n",
       "      <td>756.000000</td>\n",
       "      <td>731.000000</td>\n",
       "      <td>997.000000</td>\n",
       "    </tr>\n",
       "    <tr>\n",
       "      <th>Good Mental Health (%) (Excellent-Good)</th>\n",
       "      <td>49.123967</td>\n",
       "      <td>51.646505</td>\n",
       "      <td>50.087522</td>\n",
       "    </tr>\n",
       "    <tr>\n",
       "      <th>Poor Mental Health (%) (Fair-Poor)</th>\n",
       "      <td>50.876033</td>\n",
       "      <td>48.353495</td>\n",
       "      <td>49.912478</td>\n",
       "    </tr>\n",
       "  </tbody>\n",
       "</table>\n",
       "</div>"
      ],
      "text/plain": [
       "                                         Semi-Active (0-3 hrs)  \\\n",
       "Excellent (Mental Health)                           730.000000   \n",
       "Good                                                756.000000   \n",
       "Fair                                                783.000000   \n",
       "Poor                                                756.000000   \n",
       "Good Mental Health (%) (Excellent-Good)              49.123967   \n",
       "Poor Mental Health (%) (Fair-Poor)                   50.876033   \n",
       "\n",
       "                                         Active (4-6 hrs)  \\\n",
       "Excellent (Mental Health)                      751.000000   \n",
       "Good                                           786.000000   \n",
       "Fair                                           708.000000   \n",
       "Poor                                           731.000000   \n",
       "Good Mental Health (%) (Excellent-Good)         51.646505   \n",
       "Poor Mental Health (%) (Fair-Poor)              48.353495   \n",
       "\n",
       "                                         Very Active (7-10 hrs)  \n",
       "Excellent (Mental Health)                           1037.000000  \n",
       "Good                                                 966.000000  \n",
       "Fair                                                 999.000000  \n",
       "Poor                                                 997.000000  \n",
       "Good Mental Health (%) (Excellent-Good)               50.087522  \n",
       "Poor Mental Health (%) (Fair-Poor)                    49.912478  "
      ]
     },
     "execution_count": 5,
     "metadata": {},
     "output_type": "execute_result"
    }
   ],
   "source": [
    "pa_mhCont = pd.DataFrame({ # Excellent, Good, Fair, Poor\n",
    "    \"Semi-Active (0-3 hrs)\": [len(inactive[(inactive['Mental_Health_Status'] == \"Excellent\")]), \n",
    "                              len(inactive[(inactive['Mental_Health_Status'] == \"Good\")]), \n",
    "                              len(inactive[(inactive['Mental_Health_Status'] == \"Fair\")]),\n",
    "                              len(inactive[(inactive['Mental_Health_Status'] == \"Poor\")]),\n",
    "                             (len(inactive[(inactive['Mental_Health_Status'] == \"Excellent\") | (inactive['Mental_Health_Status'] == \"Good\")]) / len(inactive)) * 100,\n",
    "                             (len(inactive[(inactive['Mental_Health_Status'] == \"Fair\") | (inactive['Mental_Health_Status'] == \"Poor\")]) / len(inactive)) * 100],\n",
    "    \"Active (4-6 hrs)\": [len(active[(active['Mental_Health_Status'] == \"Excellent\")]),\n",
    "                    len(active[(active['Mental_Health_Status'] == \"Good\")]),\n",
    "                    len(active[(active['Mental_Health_Status'] == \"Fair\")]),\n",
    "                    len(active[(active['Mental_Health_Status'] == \"Poor\")]),\n",
    "                    (len(active[(active['Mental_Health_Status'] == \"Excellent\") | (active['Mental_Health_Status'] == \"Good\")]) / len(active)) * 100,\n",
    "                    (len(active[(active['Mental_Health_Status'] == \"Fair\") | (active['Mental_Health_Status'] == \"Poor\")]) / len(active)) * 100],\n",
    "    \"Very Active (7-10 hrs)\": [len(very_active[(very_active['Mental_Health_Status'] == \"Excellent\")]),\n",
    "                    len(very_active[(very_active['Mental_Health_Status'] == \"Good\")]),\n",
    "                    len(very_active[(very_active['Mental_Health_Status'] == \"Fair\")]),\n",
    "                    len(very_active[(very_active['Mental_Health_Status'] == \"Poor\")]),\n",
    "                    (len(very_active[(very_active['Mental_Health_Status'] == \"Excellent\") | (very_active['Mental_Health_Status'] == \"Good\")]) / len(very_active)) * 100,\n",
    "                    (len(very_active[(very_active['Mental_Health_Status'] == \"Fair\") | (very_active['Mental_Health_Status'] == \"Poor\")]) / len(very_active)) * 100],\n",
    "\n",
    "})\n",
    "pa_mhCont.index=['Excellent (Mental Health)', 'Good', 'Fair', 'Poor', \"Good Mental Health (%) (Excellent-Good)\", \"Poor Mental Health (%) (Fair-Poor)\"]\n",
    "\n",
    "pa_s = pd.DataFrame({\n",
    "    'Activity Level': ['Semi-Active (0-3 hrs)', 'Active (4-6 hrs)', 'Very Active (7-10 hrs)'],\n",
    "    'Mean Sleep Hours': [inactive['Sleep_Hours'].mean(), active['Sleep_Hours'].mean(), very_active['Sleep_Hours'].mean()]\n",
    "})\n",
    "\n",
    "pa_mhCont"
   ]
  },
  {
   "cell_type": "code",
   "execution_count": 17,
   "id": "26a2220d-4048-4739-93b1-8554f7eccba6",
   "metadata": {},
   "outputs": [
    {
     "data": {
      "text/plain": [
       "<seaborn.axisgrid.FacetGrid at 0x2000e64dc50>"
      ]
     },
     "execution_count": 17,
     "metadata": {},
     "output_type": "execute_result"
    },
    {
     "data": {
      "image/png": "[encoded data removed]",
      "text/plain": [
       "<Figure size 628.25x500 with 1 Axes>"
      ]
     },
     "metadata": {},
     "output_type": "display_data"
    }
   ],
   "source": [
    "data = {\n",
    "    'Sleep_Category': ['Bad', 'Bad', 'Bad', 'Ok', 'Ok', 'Ok', 'Great', 'Great', 'Great'],\n",
    "    'Activity_Level': ['Inactive', 'Active', 'Very Active', 'Inactive', 'Active', 'Very Active', 'Inactive', 'Active', 'Very Active'],\n",
    "    'Num of People': [\n",
    "        len(inactive[inactive['Sleep_Hours'] <= 4]),\n",
    "        len(active[active['Sleep_Hours'] <= 4]),\n",
    "        len(very_active[very_active['Sleep_Hours'] <= 4]),\n",
    "        len(inactive[(inactive['Sleep_Hours'] > 4) & (inactive['Sleep_Hours'] <= 8)]),\n",
    "        len(active[(active['Sleep_Hours'] > 4) & (active['Sleep_Hours'] <= 8)]),\n",
    "        len(very_active[(very_active['Sleep_Hours'] > 4) & (very_active['Sleep_Hours'] <= 8)]),\n",
    "        len(inactive[inactive['Sleep_Hours'] > 8]),\n",
    "        len(active[active['Sleep_Hours'] > 8]),\n",
    "        len(very_active[very_active['Sleep_Hours'] > 8])\n",
    "    ]\n",
    "}\n",
    "\n",
    "\n",
    "\n",
    "dfs = pd.DataFrame(data)\n",
    "\n",
    "sb.catplot(\n",
    "    data=dfs,\n",
    "    x='Sleep_Category',\n",
    "    y='Num of People',\n",
    "    hue='Activity_Level',\n",
    "    kind='bar'\n",
    ")"
   ]
  },
  {
   "cell_type": "code",
   "execution_count": 39,
   "id": "9741fb36-ad9c-48cc-95c2-4db4d57e2ad9",
   "metadata": {},
   "outputs": [
    {
     "name": "stdout",
     "output_type": "stream",
     "text": [
      "The stress level is from 1-3, 1 being low stress, 3 being high stress\n",
      "The average (mean) stress level of those physically inactive (0-3 hours per week) is 1.9867768595041322\n",
      "The average (mean) stress level of those physically active (3-6 hours per week) is 1.9855510752688172\n",
      "The average (mean) stress level of those very physically inactive (>6 hours per week) is 2.0202550637659416\n"
     ]
    }
   ],
   "source": [
    "# Process Data\n",
    "print(\"The stress level is from 1-3, 1 being low stress, 3 being high stress\")\n",
    "print(\"The average (mean) stress level of those physically inactive (0-3 hours per week) is\", inactive['Stress_Level'].mean())\n",
    "print(\"The average (mean) stress level of those physically active (3-6 hours per week) is\",active['Stress_Level'].mean())\n",
    "print(\"The average (mean) stress level of those very physically inactive (>6 hours per week) is\",very_active['Stress_Level'].mean())"
   ]
  },
  {
   "cell_type": "markdown",
   "id": "77e676b2",
   "metadata": {},
   "source": [
    "# My Answer"
   ]
  },
  {
   "cell_type": "markdown",
   "id": "16aec0ac",
   "metadata": {},
   "source": [
    "There is no direct or noticeable correlation between physical activity and mental health, as both good and bad mental health are relatively consistent in making up half of their respective samples (semi-active, active, and very active). Physical activity and stress levels also show no correlation, as the average stress level for each level of physical activity (semi-active, active, and very active) is consistent with level 2 stress (medium stress).\n",
    "\n",
    "However, greater amounts of physical activity (3-10 hours per week) are shown to increase the average hours of sleep over a week compared to less than 3 hours per week, which can improve mental health."
   ]
  }
 ],
 "metadata": {
  "kernelspec": {
   "display_name": "Python 3 (ipykernel)",
   "language": "python",
   "name": "python3"
  },
  "language_info": {
   "codemirror_mode": {
    "name": "ipython",
    "version": 3
   },
   "file_extension": ".py",
   "mimetype": "text/x-python",
   "name": "python",
   "nbconvert_exporter": "python",
   "pygments_lexer": "ipython3",
   "version": "3.11.9"
  }
 },
 "nbformat": 4,
 "nbformat_minor": 5
}
