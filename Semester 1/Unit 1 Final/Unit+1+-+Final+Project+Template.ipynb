{
 "cells": [
  {
   "cell_type": "markdown",
   "id": "c80b3b64",
   "metadata": {},
   "source": [
    "# Choose a Data Set\n",
    "Pick one of the following data sets to analyze for your final project. \n",
    "- [Cosmetics](https://drive.google.com/drive/folders/1qvmRfGb7a_pYAtgW6614gxlP-bxl_Ptz?usp=drive_link)\n",
    "- [Mental Health](https://drive.google.com/drive/folders/1YOp1aQVcmqlAkUEGHNPl_TyNXbY-xHwO?usp=drive_link)\n",
    "- [Pokemon](https://drive.google.com/drive/folders/1kDu2oRgm_hUW5hdM0tHnMUqCGSKUYT1v?usp=drive_link)\n",
    "- [Ramen](https://drive.google.com/drive/folders/1Y4_5QHOCy8rHc5EsEwDUuoCfp2WLo-MN?usp=drive_link)\n",
    "- [Student Performance](https://drive.google.com/drive/folders/1fE31Ka38AnGpgfI_Es3z4psuA0phhH0Y?usp=drive_link)"
   ]
  },
  {
   "cell_type": "markdown",
   "id": "8a7e64bc",
   "metadata": {},
   "source": [
    "# My Question"
   ]
  },
  {
   "cell_type": "markdown",
   "id": "b52e166c",
   "metadata": {},
   "source": [
    "How does the amount of physical activity influence mental health and the various factors that affect it?"
   ]
  },
  {
   "cell_type": "markdown",
   "id": "0a574d2e",
   "metadata": {},
   "source": [
    "# My Analysis"
   ]
  },
  {
   "cell_type": "code",
   "execution_count": 17,
   "id": "e9e64518",
   "metadata": {},
   "outputs": [
    {
     "data": {
      "text/plain": [
       "<seaborn.axisgrid.FacetGrid at 0x158977223d0>"
      ]
     },
     "execution_count": 17,
     "metadata": {},
     "output_type": "execute_result"
    },
    {
     "data": {
      "image/png": "[encoded data removed]",
      "text/plain": [
       "<Figure size 628.25x500 with 1 Axes>"
      ]
     },
     "metadata": {},
     "output_type": "display_data"
    }
   ],
   "source": [
    "# Analysis Techniques Used: Bar Charts, Histogram, Mean (Average)\n",
    "\n",
    "# Libraries\n",
    "import pandas as pd\n",
    "import seaborn as sb\n",
    "import numpy as np\n",
    "\n",
    "df = pd.read_csv('mentalhealth.csv')\n",
    "\n",
    "# Data Processing\n",
    "#df['Physical_Activity_Hours'] = np.ceil(df['Physical_Activity_Hours'])\n",
    "\n",
    "inactive = df[(df['Physical_Activity_Hours'] >= 0) & (df['Physical_Activity_Hours'] <=3)]\n",
    "active = df[(df['Physical_Activity_Hours'] > 3) & (df['Physical_Activity_Hours'] <= 6)]\n",
    "very_active = df[(df['Physical_Activity_Hours'] > 6)]\n",
    "\n",
    "# Analysis\n",
    "pa_mhCont = pd.DataFrame({ # Excellent, Good, Fair, Poor\n",
    "    \"Semi-Active (0-3 hrs)\": [len(inactive[(inactive['Mental_Health_Status'] == \"Excellent\")]), \n",
    "                              len(inactive[(inactive['Mental_Health_Status'] == \"Good\")]), \n",
    "                              len(inactive[(inactive['Mental_Health_Status'] == \"Fair\")]),\n",
    "                              len(inactive[(inactive['Mental_Health_Status'] == \"Poor\")]),\n",
    "                             (len(inactive[(inactive['Mental_Health_Status'] == \"Excellent\") | (inactive['Mental_Health_Status'] == \"Good\")]) / len(inactive)) * 100,\n",
    "                             (len(inactive[(inactive['Mental_Health_Status'] == \"Fair\") | (inactive['Mental_Health_Status'] == \"Poor\")]) / len(inactive)) * 100],\n",
    "    \"Active (4-6 hrs)\": [len(active[(active['Mental_Health_Status'] == \"Excellent\")]),\n",
    "                    len(active[(active['Mental_Health_Status'] == \"Good\")]),\n",
    "                    len(active[(active['Mental_Health_Status'] == \"Fair\")]),\n",
    "                    len(active[(active['Mental_Health_Status'] == \"Poor\")]),\n",
    "                    (len(active[(active['Mental_Health_Status'] == \"Excellent\") | (active['Mental_Health_Status'] == \"Good\")]) / len(active)) * 100,\n",
    "                    (len(active[(active['Mental_Health_Status'] == \"Fair\") | (active['Mental_Health_Status'] == \"Poor\")]) / len(active)) * 100],\n",
    "    \"Very Active (7-10 hrs)\": [len(very_active[(very_active['Mental_Health_Status'] == \"Excellent\")]),\n",
    "                    len(very_active[(very_active['Mental_Health_Status'] == \"Good\")]),\n",
    "                    len(very_active[(very_active['Mental_Health_Status'] == \"Fair\")]),\n",
    "                    len(very_active[(very_active['Mental_Health_Status'] == \"Poor\")]),\n",
    "                    (len(very_active[(very_active['Mental_Health_Status'] == \"Excellent\") | (very_active['Mental_Health_Status'] == \"Good\")]) / len(very_active)) * 100,\n",
    "                    (len(very_active[(very_active['Mental_Health_Status'] == \"Fair\") | (very_active['Mental_Health_Status'] == \"Poor\")]) / len(very_active)) * 100],\n",
    "\n",
    "})\n",
    "pa_mhCont.index=['Excellent (Mental Health)', 'Good', 'Fair', 'Poor', \"Good Mental Health (%) (Excellent-Good)\", \"Poor Mental Health (%) (Fair-Poor)\"]\n",
    "\n",
    "pa_s = pd.DataFrame({\n",
    "    'Activity Level': ['Semi-Active (0-3 hrs)', 'Active (4-6 hrs)', 'Very Active (7-10 hrs)'],\n",
    "    'Mean Sleep Hours': [inactive['Sleep_Hours'].mean(), active['Sleep_Hours'].mean(), very_active['Sleep_Hours'].mean()]\n",
    "})\n",
    "\n",
    "#pa_mhCont\n",
    "#sb.barplot(x='Activity Level', y='Mean Sleep Hours', data=pa_s)\n",
    "data = {\n",
    "    'Sleep_Category': ['Bad', 'Bad', 'Bad', 'Ok', 'Ok', 'Ok', 'Great', 'Great', 'Great'],\n",
    "    'Activity_Level': ['Inactive', 'Active', 'Very Active', 'Inactive', 'Active', 'Very Active', 'Inactive', 'Active', 'Very Active'],\n",
    "    'Sleep_Hours': [5, 6, 7, 6, 7, 8, 7, 8, 9]\n",
    "}\n",
    "\n",
    "dfs = pd.DataFrame(data)\n",
    "\n",
    "sb.catplot(\n",
    "    data=dfs,\n",
    "    x='Sleep_Category',\n",
    "    y='Sleep_Hours',\n",
    "    hue='Activity_Level',\n",
    "    kind='bar'\n",
    ")"
   ]
  },
  {
   "cell_type": "markdown",
   "id": "77e676b2",
   "metadata": {},
   "source": [
    "# My Answer"
   ]
  },
  {
   "cell_type": "markdown",
   "id": "16aec0ac",
   "metadata": {},
   "source": [
    "There is no direct/noticeable correlation between physical activity and one’s mental health, as both good and bad mental health are relatively consistent in making up half of their respective samples (semi-active, active, and very active).\n",
    "\n"
   ]
  }
 ],
 "metadata": {
  "kernelspec": {
   "display_name": "Python 3 (ipykernel)",
   "language": "python",
   "name": "python3"
  },
  "language_info": {
   "codemirror_mode": {
    "name": "ipython",
    "version": 3
   },
   "file_extension": ".py",
   "mimetype": "text/x-python",
   "name": "python",
   "nbconvert_exporter": "python",
   "pygments_lexer": "ipython3",
   "version": "3.9.13"
  }
 },
 "nbformat": 4,
 "nbformat_minor": 5
}
