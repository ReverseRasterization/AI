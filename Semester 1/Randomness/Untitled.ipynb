{
 "cells": [
  {
   "cell_type": "code",
   "execution_count": 4,
   "id": "a949ff09",
   "metadata": {},
   "outputs": [],
   "source": [
    "import random as rand"
   ]
  },
  {
   "cell_type": "markdown",
   "id": "868a6eec",
   "metadata": {},
   "source": [
    "The theoretical probabability to eat a spicy chip on the first round is a 17% chance (1/6)"
   ]
  },
  {
   "cell_type": "code",
   "execution_count": 38,
   "id": "80905d0d",
   "metadata": {},
   "outputs": [
    {
     "name": "stdout",
     "output_type": "stream",
     "text": [
      "There is a 11.07515% chance of eating a spicy dorito on the first try\n"
     ]
    }
   ],
   "source": [
    "trials = 1000000\n",
    "spicyDoritos = 0\n",
    "\n",
    "for _ in range(trials):\n",
    "    for _ in range(6):\n",
    "        if rand.randint(1,6) == 1:\n",
    "            spicyDoritos+=1\n",
    "            break\n",
    "    \n",
    "\n",
    "print(f\"There is a {(spicyDoritos/(trials*6))*100}% chance of eating a spicy dorito on the first try\")\n",
    "        "
   ]
  },
  {
   "cell_type": "code",
   "execution_count": 90,
   "id": "9333afb4",
   "metadata": {},
   "outputs": [
    {
     "name": "stdout",
     "output_type": "stream",
     "text": [
      "The probability for 2 people in a 23 person class to have a shared birthday is 5.0%\n"
     ]
    }
   ],
   "source": [
    "trials = 1000\n",
    "shared = 0\n",
    "\n",
    "def duplicates(array):\n",
    "    for i in range(len(array)):\n",
    "        for j in range(i+1,len(array)):\n",
    "            if array[i] == array[j]:\n",
    "                return True\n",
    "    \n",
    "    return False\n",
    "\n",
    "for _ in range(100):\n",
    "    # generate birthdays for 23 people\n",
    "    birthdays = []\n",
    "    for _ in range(23):\n",
    "        birthdays.append(rand.randint(1, 365))\n",
    "     \n",
    "    # check for common birthdays\n",
    "    if duplicates(birthdays):\n",
    "        shared+=1\n",
    "    \n",
    "print(f\"The probability for 2 people in a 23 person class to have a shared birthday is {(shared/trials)*100}%\")"
   ]
  },
  {
   "cell_type": "code",
   "execution_count": null,
   "id": "03b7aed1",
   "metadata": {},
   "outputs": [],
   "source": []
  },
  {
   "cell_type": "code",
   "execution_count": null,
   "id": "e7f35eef",
   "metadata": {},
   "outputs": [],
   "source": []
  }
 ],
 "metadata": {
  "kernelspec": {
   "display_name": "Python 3 (ipykernel)",
   "language": "python",
   "name": "python3"
  },
  "language_info": {
   "codemirror_mode": {
    "name": "ipython",
    "version": 3
   },
   "file_extension": ".py",
   "mimetype": "text/x-python",
   "name": "python",
   "nbconvert_exporter": "python",
   "pygments_lexer": "ipython3",
   "version": "3.9.13"
  }
 },
 "nbformat": 4,
 "nbformat_minor": 5
}
