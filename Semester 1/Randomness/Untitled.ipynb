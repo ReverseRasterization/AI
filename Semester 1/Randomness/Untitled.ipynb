{
 "cells": [
  {
   "cell_type": "code",
   "execution_count": 4,
   "id": "a949ff09",
   "metadata": {},
   "outputs": [],
   "source": [
    "import random as rand"
   ]
  },
  {
   "cell_type": "markdown",
   "id": "3a5b0c8b",
   "metadata": {},
   "source": [
    "The theoretical probabability to eat a spicy chip on the first round is a 17% chance (1/6)"
   ]
  },
  {
   "cell_type": "code",
   "execution_count": 38,
   "id": "11555975",
   "metadata": {},
   "outputs": [
    {
     "name": "stdout",
     "output_type": "stream",
     "text": [
      "There is a 11.07515% chance of eating a spicy dorito on the first try\n"
     ]
    }
   ],
   "source": [
    "trials = 1000000\n",
    "spicyDoritos = 0\n",
    "\n",
    "for _ in range(trials):\n",
    "    for _ in range(6):\n",
    "        if rand.randint(1,6) == 1:\n",
    "            spicyDoritos+=1\n",
    "            break\n",
    "    \n",
    "\n",
    "print(f\"There is a {(spicyDoritos/(trials*6))*100}% chance of eating a spicy dorito on the first try\")\n",
    "        "
   ]
  },
  {
   "cell_type": "code",
   "execution_count": 90,
   "id": "d7372282",
   "metadata": {},
   "outputs": [
    {
     "name": "stdout",
     "output_type": "stream",
     "text": [
      "The probability for 2 people in a 23 person class to have a shared birthday is 5.0%\n"
     ]
    }
   ],
   "source": [
    "trials = 1000\n",
    "shared = 0\n",
    "\n",
    "def duplicates(array):\n",
    "    for i in range(len(array)):\n",
    "        for j in range(i+1,len(array)):\n",
    "            if array[i] == array[j]:\n",
    "                return True\n",
    "    \n",
    "    return False\n",
    "\n",
    "for _ in range(100):\n",
    "    # generate birthdays for 23 people\n",
    "    birthdays = []\n",
    "    for _ in range(23):\n",
    "        birthdays.append(rand.randint(1, 365))\n",
    "     \n",
    "    # check for common birthdays\n",
    "    if duplicates(birthdays):\n",
    "        shared+=1\n",
    "    \n",
    "print(f\"The probability for 2 people in a 23 person class to have a shared birthday is {(shared/trials)*100}%\")"
   ]
  },
  {
   "cell_type": "code",
   "execution_count": 25,
   "id": "2b674cde",
   "metadata": {},
   "outputs": [
    {
     "name": "stdout",
     "output_type": "stream",
     "text": [
      "The empirical probability of drawing a queen or a king is approximately 0.165\n"
     ]
    }
   ],
   "source": [
    "import random\n",
    "\n",
    "def draw_card(deck):\n",
    "    return random.choice(deck)\n",
    "\n",
    "def simulate_draws(num_simulations):\n",
    "    deck = ['2 of Hearts', '3 of Hearts', '4 of Hearts', '5 of Hearts', '6 of Hearts', '7 of Hearts', '8 of Hearts', '9 of Hearts', '10 of Hearts', \n",
    "            'Jack of Hearts', 'Queen of Hearts', 'King of Hearts', 'Ace of Hearts',\n",
    "            '2 of Diamonds', '3 of Diamonds', '4 of Diamonds', '5 of Diamonds', '6 of Diamonds', '7 of Diamonds', '8 of Diamonds', '9 of Diamonds', \n",
    "            '10 of Diamonds', 'Jack of Diamonds', 'Queen of Diamonds', 'King of Diamonds', 'Ace of Diamonds',\n",
    "            '2 of Clubs', '3 of Clubs', '4 of Clubs', '5 of Clubs', '6 of Clubs', '7 of Clubs', '8 of Clubs', '9 of Clubs', '10 of Clubs', \n",
    "            'Jack of Clubs', 'Queen of Clubs', 'King of Clubs', 'Ace of Clubs',\n",
    "            '2 of Spades', '3 of Spades', '4 of Spades', '5 of Spades', '6 of Spades', '7 of Spades', '8 of Spades', '9 of Spades', '10 of Spades', \n",
    "            'Jack of Spades', 'Queen of Spades', 'King of Spades', 'Ace of Spades']\n",
    "    count = 0\n",
    "\n",
    "    for _ in range(num_simulations):\n",
    "        random.shuffle(deck)\n",
    "        card = draw_card(deck)\n",
    "        if 'Queen' in card or 'King' in card:\n",
    "            count += 1\n",
    "\n",
    "    probability = count / num_simulations\n",
    "    return probability\n",
    "\n",
    "# Run the simulation with a specified number of draws\n",
    "num_simulations = 1000\n",
    "probability = simulate_draws(num_simulations)\n",
    "\n",
    "print(f\"The empirical probability of drawing a queen or a king is approximately {probability}\")\n"
   ]
  },
  {
   "cell_type": "markdown",
   "id": "d9065fe8",
   "metadata": {},
   "source": [
    "The theoretical probability of a person donating O- or AB- blood is 1/15 + 1/167 or 7.27%"
   ]
  },
  {
   "cell_type": "code",
   "execution_count": 8,
   "id": "cc133c44",
   "metadata": {},
   "outputs": [
    {
     "name": "stdout",
     "output_type": "stream",
     "text": [
      "The empirical probability that one has either O- or AB- is 227/1000 or 22.7%\n"
     ]
    }
   ],
   "source": [
    "import random as rand\n",
    "\n",
    "bloodTypes = ['O+', 'O-', 'A+', 'A-', 'B+', 'B-', 'AB+', 'AB-']\n",
    "people = 1000\n",
    "matches = 0\n",
    "\n",
    "for _ in range(people):\n",
    "    blood = rand.choice(bloodTypes)\n",
    "    if blood == 'O-' or blood == 'AB-':\n",
    "        matches+=1\n",
    "\n",
    "print(f\"The empirical probability that one has either O- or AB- is {matches}/{people} or {(matches/people)*100}%\")"
   ]
  },
  {
   "cell_type": "code",
   "execution_count": 23,
   "id": "a1979555",
   "metadata": {},
   "outputs": [
    {
     "ename": "KeyboardInterrupt",
     "evalue": "",
     "output_type": "error",
     "traceback": [
      "\u001b[1;31m---------------------------------------------------------------------------\u001b[0m",
      "\u001b[1;31mKeyboardInterrupt\u001b[0m                         Traceback (most recent call last)",
      "\u001b[1;32m~\\AppData\\Local\\Temp\\ipykernel_23916\\2047152077.py\u001b[0m in \u001b[0;36m<module>\u001b[1;34m\u001b[0m\n\u001b[0;32m     21\u001b[0m     \u001b[1;32mwhile\u001b[0m \u001b[0mguess\u001b[0m \u001b[1;33m!=\u001b[0m \u001b[0mpassword\u001b[0m\u001b[1;33m:\u001b[0m\u001b[1;33m\u001b[0m\u001b[1;33m\u001b[0m\u001b[0m\n\u001b[0;32m     22\u001b[0m         \u001b[0mguess\u001b[0m \u001b[1;33m=\u001b[0m \u001b[0mgeneratePassword\u001b[0m\u001b[1;33m(\u001b[0m\u001b[1;36m15\u001b[0m\u001b[1;33m)\u001b[0m\u001b[1;33m\u001b[0m\u001b[1;33m\u001b[0m\u001b[0m\n\u001b[1;32m---> 23\u001b[1;33m         \u001b[0mattempts\u001b[0m\u001b[1;33m+=\u001b[0m\u001b[1;36m1\u001b[0m\u001b[1;33m\u001b[0m\u001b[1;33m\u001b[0m\u001b[0m\n\u001b[0m\u001b[0;32m     24\u001b[0m \u001b[1;33m\u001b[0m\u001b[0m\n\u001b[0;32m     25\u001b[0m     \u001b[0mprobabilities\u001b[0m\u001b[1;33m.\u001b[0m\u001b[0mappend\u001b[0m\u001b[1;33m(\u001b[0m\u001b[1;36m1\u001b[0m\u001b[1;33m/\u001b[0m\u001b[0mattempts\u001b[0m\u001b[1;33m)\u001b[0m\u001b[1;33m\u001b[0m\u001b[1;33m\u001b[0m\u001b[0m\n",
      "\u001b[1;31mKeyboardInterrupt\u001b[0m: "
     ]
    }
   ],
   "source": [
    "import random as rand\n",
    "import string\n",
    "\n",
    "# List of all characters for a password\n",
    "all_characters = list(string.ascii_letters + string.digits + \"!@#$%^&*()-_=+[]{}|;:',.<>?/~`\")\n",
    "trials = 100\n",
    "probabilities = []\n",
    "\n",
    "def generatePassword(length):\n",
    "    password = \"\"\n",
    "    for _ in range(length):\n",
    "        password += rand.choice(all_characters)\n",
    "        \n",
    "    return password\n",
    "        \n",
    "for i in range(trials):\n",
    "    guess = \"\"\n",
    "    attempts = 0\n",
    "    password = generatePassword(15)\n",
    "    \n",
    "    while guess != password:\n",
    "        guess = generatePassword(15)\n",
    "        attempts+=1\n",
    "    \n",
    "    probabilities.append(1/attempts)\n",
    "    \n",
    "    print(f\"Trial done: {i}/{trials}\")\n",
    "\n",
    "probabilities"
   ]
  },
  {
   "cell_type": "code",
   "execution_count": null,
   "id": "9f247fca",
   "metadata": {},
   "outputs": [],
   "source": []
  },
  {
   "cell_type": "code",
   "execution_count": null,
   "id": "05d350b6",
   "metadata": {},
   "outputs": [],
   "source": []
  }
 ],
 "metadata": {
  "kernelspec": {
   "display_name": "Python 3 (ipykernel)",
   "language": "python",
   "name": "python3"
  },
  "language_info": {
   "codemirror_mode": {
    "name": "ipython",
    "version": 3
   },
   "file_extension": ".py",
   "mimetype": "text/x-python",
   "name": "python",
   "nbconvert_exporter": "python",
   "pygments_lexer": "ipython3",
   "version": "3.9.13"
  }
 },
 "nbformat": 4,
 "nbformat_minor": 5
}
