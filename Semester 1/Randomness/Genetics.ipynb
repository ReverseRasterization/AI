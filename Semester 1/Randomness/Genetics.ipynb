{
 "cells": [
  {
   "cell_type": "code",
   "execution_count": 17,
   "id": "68e44059",
   "metadata": {},
   "outputs": [
    {
     "name": "stdout",
     "output_type": "stream",
     "text": [
      "The chance for a girl to have brown eyes is 24.44%\n"
     ]
    }
   ],
   "source": [
    "import random as rand\n",
    "\n",
    "genes = ['G', 'A']\n",
    "trials = 10000\n",
    "results = 0\n",
    "\n",
    "def haveChild():\n",
    "    gene = rand.choice(genes) + rand.choice(genes)\n",
    "    gender = rand.choice(['M', 'F'])\n",
    "    \n",
    "    return gene, gender\n",
    "\n",
    "for _ in range(trials):\n",
    "    gene, gender = haveChild()\n",
    "    \n",
    "    if (gene == \"GA\" or gene == \"AG\") and gender == \"F\":\n",
    "        results+=1\n",
    "        \n",
    "print(f\"The chance for a girl to have brown eyes is {(results/trials)*100}%\")"
   ]
  },
  {
   "cell_type": "code",
   "execution_count": null,
   "id": "76908116",
   "metadata": {},
   "outputs": [],
   "source": []
  },
  {
   "cell_type": "code",
   "execution_count": null,
   "id": "1a41aa31",
   "metadata": {},
   "outputs": [],
   "source": []
  },
  {
   "cell_type": "code",
   "execution_count": null,
   "id": "dfe222db",
   "metadata": {},
   "outputs": [],
   "source": []
  },
  {
   "cell_type": "code",
   "execution_count": null,
   "id": "a2ac54a9",
   "metadata": {},
   "outputs": [],
   "source": []
  }
 ],
 "metadata": {
  "kernelspec": {
   "display_name": "Python 3 (ipykernel)",
   "language": "python",
   "name": "python3"
  },
  "language_info": {
   "codemirror_mode": {
    "name": "ipython",
    "version": 3
   },
   "file_extension": ".py",
   "mimetype": "text/x-python",
   "name": "python",
   "nbconvert_exporter": "python",
   "pygments_lexer": "ipython3",
   "version": "3.9.13"
  }
 },
 "nbformat": 4,
 "nbformat_minor": 5
}
