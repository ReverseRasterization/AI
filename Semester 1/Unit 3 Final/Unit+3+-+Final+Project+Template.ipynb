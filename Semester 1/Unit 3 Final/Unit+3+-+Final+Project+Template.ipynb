{
 "cells": [
  {
   "cell_type": "markdown",
   "id": "9919c268",
   "metadata": {},
   "source": [
    "# Choose a Data Set\n",
    "\n",
    "Create your own dataset by scraping one of the following websites *(level 5)*:\n",
    "- [Wikipedia](https://www.wikipedia.org/)\n",
    "- [OpenLibrary](https://openlibrary.org/)\n",
    "\n",
    "**OR** \n",
    "\n",
    "Use data gathered from one of the following APIs *(level 4)*: \n",
    "- [TMDB](https://developer.themoviedb.org/reference/intro/getting-started)\n",
    "- [College Scorecard](https://collegescorecard.ed.gov/data/api-documentation/)\n",
    "\n",
    "**OR** \n",
    "\n",
    "Pick a JSON dataset *(level 3)*:\n",
    "- [Food/Restaurant Data](https://drive.google.com/drive/folders/1V94S6WpclvQmbnW88KVMD4EruryA1oma?usp=drive_link)\n",
    "- [Fashion Data](https://drive.google.com/drive/folders/1V8SbFjtRRW8WVf3xBzg0gzLjOtMhHea_?usp=drive_link)\n",
    "\n",
    "**OR** \n",
    "\n",
    "Pick a CSV dataset *(level 2)*:\n",
    "- [LA Parking Tickets](https://drive.google.com/drive/folders/1vaOfwMi6QmZEGsXr8VM0ulPGzvTTBCgm?usp=drive_link)\n",
    "- [Hotels](https://drive.google.com/drive/folders/1IpVFxgwBJvJHKoOuBsk6WK2qYqFYP4hi?usp=drive_link)"
   ]
  },
  {
   "cell_type": "markdown",
   "id": "ae147ea6",
   "metadata": {},
   "source": [
    "# My Question\n",
    "If you select 1000 books from OpenLibrary, what is the probability that exactly 600 of them are from the \"Non-Fiction\" category?"
   ]
  },
  {
   "cell_type": "markdown",
   "id": "149f324f",
   "metadata": {},
   "source": [
    "# My Answer"
   ]
  },
  {
   "cell_type": "code",
   "execution_count": null,
   "id": "b228559e",
   "metadata": {},
   "outputs": [],
   "source": [
    "import requests\n",
    "import pandas as pd\n",
    "import seaborn as sb\n",
    "import numpy as np\n",
    "from bs4 import BeautifulSoup\n",
    "\n",
    "books = 1000"
   ]
  },
  {
   "cell_type": "code",
   "execution_count": 53,
   "id": "ad32da46",
   "metadata": {},
   "outputs": [
    {
     "name": "stdout",
     "output_type": "stream",
     "text": [
      "[<span class=\"clamp\" data-before=\"▸ \">\n",
      "<h3>Subjects</h3>\n",
      "<a data-ol-link-track=\"BookOverview|SubjectClick\" href=\"/subjects/french_language\">French language</a>,\n",
      "    <a data-ol-link-track=\"BookOverview|SubjectClick\" href=\"/subjects/textbooks_for_foreign_speakers\">Textbooks for foreign speakers</a>,\n",
      "    <a data-ol-link-track=\"BookOverview|SubjectClick\" href=\"/subjects/juvenile_literature\">Juvenile literature</a>,\n",
      "    <a data-ol-link-track=\"BookOverview|SubjectClick\" href=\"/subjects/english\">English</a>,\n",
      "    <a data-ol-link-track=\"BookOverview|SubjectClick\" href=\"/subjects/conversation_and_phrase_books\">Conversation and phrase books</a>,\n",
      "    <a data-ol-link-track=\"BookOverview|SubjectClick\" href=\"/subjects/schools\">Schools</a>,\n",
      "    <a data-ol-link-track=\"BookOverview|SubjectClick\" href=\"/subjects/school_children\">School children</a>,\n",
      "    <a data-ol-link-track=\"BookOverview|SubjectClick\" href=\"/subjects/education\">Education</a>\n",
      "</span>, <span class=\"clamp\" data-before=\"▸ \">\n",
      "<h3>Places</h3>\n",
      "<a data-ol-link-track=\"BookOverview|SubjectPlacesClick\" href=\"/subjects/place:france\">France</a>\n",
      "</span>]\n"
     ]
    }
   ],
   "source": [
    "\n",
    "\n",
    "def getBook(): return requests.get('https://openlibrary.org/random')\n",
    "def getSubjects(book):\n",
    "    if book.status_code != 200: return None\n",
    "    soup = BeautifulSoup(book.text)\n",
    "\n",
    "    print(soup.find_all('span', class_='clamp'))\n",
    "\n",
    "    #return [subject.get_text() for subject in soup.find('span', class_='clamp').find_all('a')]\n",
    "\n",
    "getSubjects(getBook())"
   ]
  },
  {
   "cell_type": "code",
   "execution_count": 38,
   "id": "b54c963f",
   "metadata": {},
   "outputs": [
    {
     "data": {
      "text/html": [
       "<div>\n",
       "<style scoped>\n",
       "    .dataframe tbody tr th:only-of-type {\n",
       "        vertical-align: middle;\n",
       "    }\n",
       "\n",
       "    .dataframe tbody tr th {\n",
       "        vertical-align: top;\n",
       "    }\n",
       "\n",
       "    .dataframe thead th {\n",
       "        text-align: right;\n",
       "    }\n",
       "</style>\n",
       "<table border=\"1\" class=\"dataframe\">\n",
       "  <thead>\n",
       "    <tr style=\"text-align: right;\">\n",
       "      <th></th>\n",
       "      <th>Book Name</th>\n",
       "      <th>Stars</th>\n",
       "    </tr>\n",
       "  </thead>\n",
       "  <tbody>\n",
       "    <tr>\n",
       "      <th>0</th>\n",
       "      <td>Phantastes: A Faerie Romance for Men and Women</td>\n",
       "      <td>3.8</td>\n",
       "    </tr>\n",
       "    <tr>\n",
       "      <th>1</th>\n",
       "      <td>The  Road to Oz</td>\n",
       "      <td>3.3</td>\n",
       "    </tr>\n",
       "    <tr>\n",
       "      <th>2</th>\n",
       "      <td>The Silmarillion</td>\n",
       "      <td>4.0</td>\n",
       "    </tr>\n",
       "    <tr>\n",
       "      <th>3</th>\n",
       "      <td>Lilith: A Romance</td>\n",
       "      <td>3.0</td>\n",
       "    </tr>\n",
       "    <tr>\n",
       "      <th>4</th>\n",
       "      <td>The Last Battle</td>\n",
       "      <td>3.8</td>\n",
       "    </tr>\n",
       "    <tr>\n",
       "      <th>...</th>\n",
       "      <td>...</td>\n",
       "      <td>...</td>\n",
       "    </tr>\n",
       "    <tr>\n",
       "      <th>194</th>\n",
       "      <td>Mary poppins</td>\n",
       "      <td>4.1</td>\n",
       "    </tr>\n",
       "    <tr>\n",
       "      <th>195</th>\n",
       "      <td>Mostly Harmless</td>\n",
       "      <td>4.4</td>\n",
       "    </tr>\n",
       "    <tr>\n",
       "      <th>196</th>\n",
       "      <td>Percy Jackson and the Battle of the Labyrinth</td>\n",
       "      <td>4.1</td>\n",
       "    </tr>\n",
       "    <tr>\n",
       "      <th>197</th>\n",
       "      <td>Equal Rites</td>\n",
       "      <td>4.2</td>\n",
       "    </tr>\n",
       "    <tr>\n",
       "      <th>198</th>\n",
       "      <td>Tom's Midnight Garden</td>\n",
       "      <td>4.0</td>\n",
       "    </tr>\n",
       "  </tbody>\n",
       "</table>\n",
       "<p>199 rows × 2 columns</p>\n",
       "</div>"
      ],
      "text/plain": [
       "                                          Book Name  Stars\n",
       "0    Phantastes: A Faerie Romance for Men and Women    3.8\n",
       "1                                   The  Road to Oz    3.3\n",
       "2                                  The Silmarillion    4.0\n",
       "3                                 Lilith: A Romance    3.0\n",
       "4                                   The Last Battle    3.8\n",
       "..                                              ...    ...\n",
       "194                                    Mary poppins    4.1\n",
       "195                                 Mostly Harmless    4.4\n",
       "196   Percy Jackson and the Battle of the Labyrinth    4.1\n",
       "197                                     Equal Rites    4.2\n",
       "198                           Tom's Midnight Garden    4.0\n",
       "\n",
       "[199 rows x 2 columns]"
      ]
     },
     "execution_count": 38,
     "metadata": {},
     "output_type": "execute_result"
    }
   ],
   "source": [
    "data = pd.DataFrame({\n",
    "    'Book Name': [],\n",
    "    'Stars': []\n",
    "})\n",
    "\n",
    "def getReviews(genre, pageNum): # Returns a dataframe (Book Name : Review Count)\n",
    "    req = requests.get(f'https://openlibrary.org/search?subject={genre}&page={pageNum}')\n",
    "    if req.status_code == 200:\n",
    "        soup = BeautifulSoup(req.text)\n",
    "\n",
    "        results = []\n",
    "        for (name, stars) in zip((book.text.strip() for book in soup.find_all('a', class_='results')), (float(book.text.strip().split(' ')[0]) for book in soup.find_all('span', itemprop='ratingValue'))):\n",
    "            results.append({'Book Name': name, 'Stars':stars})\n",
    "\n",
    "        return pd.DataFrame(results)\n",
    "    else:\n",
    "        return None\n",
    "    \n",
    "for currPage in range(pages):\n",
    "    data = pd.concat([data, getReviews(genre,currPage+1)], ignore_index=True)\n",
    "\n",
    "data"
   ]
  },
  {
   "cell_type": "markdown",
   "id": "4d93cfe1",
   "metadata": {},
   "source": [
    "***Describe analysis here.***"
   ]
  },
  {
   "cell_type": "code",
   "execution_count": null,
   "id": "94e3fabf",
   "metadata": {},
   "outputs": [],
   "source": []
  }
 ],
 "metadata": {
  "kernelspec": {
   "display_name": "Python 3",
   "language": "python",
   "name": "python3"
  },
  "language_info": {
   "codemirror_mode": {
    "name": "ipython",
    "version": 3
   },
   "file_extension": ".py",
   "mimetype": "text/x-python",
   "name": "python",
   "nbconvert_exporter": "python",
   "pygments_lexer": "ipython3",
   "version": "3.13.0"
  }
 },
 "nbformat": 4,
 "nbformat_minor": 5
}
