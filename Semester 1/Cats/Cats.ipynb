{
 "cells": [
  {
   "cell_type": "code",
   "execution_count": 4,
   "id": "8e7718eb",
   "metadata": {},
   "outputs": [
    {
     "data": {
      "text/plain": [
       "Unnamed: 0      int64\n",
       "Breed          object\n",
       "Age (Years)     int64\n",
       "Weight (kg)     int64\n",
       "Color          object\n",
       "Gender         object\n",
       "ID              int64\n",
       "dtype: object"
      ]
     },
     "execution_count": 4,
     "metadata": {},
     "output_type": "execute_result"
    }
   ],
   "source": [
    "import pandas as pd\n",
    "cats = pd.read_csv(\"cats.csv\")\n",
    "cats.dtypes"
   ]
  },
  {
   "cell_type": "code",
   "execution_count": 7,
   "id": "27ef781b",
   "metadata": {},
   "outputs": [],
   "source": [
    "cats.drop(['Unnamed: 0'], inplace=True, axis=1) # removes a column\n"
   ]
  }
 ],
 "metadata": {
  "kernelspec": {
   "display_name": "Python 3 (ipykernel)",
   "language": "python",
   "name": "python3"
  },
  "language_info": {
   "codemirror_mode": {
    "name": "ipython",
    "version": 3
   },
   "file_extension": ".py",
   "mimetype": "text/x-python",
   "name": "python",
   "nbconvert_exporter": "python",
   "pygments_lexer": "ipython3",
   "version": "3.9.13"
  }
 },
 "nbformat": 4,
 "nbformat_minor": 5
}
