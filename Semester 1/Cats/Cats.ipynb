{
 "cells": [
  {
   "cell_type": "code",
   "execution_count": 4,
   "id": "8e7718eb",
   "metadata": {},
   "outputs": [
    {
     "data": {
      "text/plain": [
       "Unnamed: 0      int64\n",
       "Breed          object\n",
       "Age (Years)     int64\n",
       "Weight (kg)     int64\n",
       "Color          object\n",
       "Gender         object\n",
       "ID              int64\n",
       "dtype: object"
      ]
     },
     "execution_count": 4,
     "metadata": {},
     "output_type": "execute_result"
    }
   ],
   "source": [
    "import pandas as pd\n",
    "cats = pd.read_csv(\"cats.csv\")\n",
    "cats.dtypes"
   ]
  },
  {
   "cell_type": "code",
   "execution_count": 37,
   "id": "e5449427",
   "metadata": {},
   "outputs": [
    {
     "name": "stdout",
     "output_type": "stream",
     "text": [
      "Breed          Cornish Rex\n",
      "Age (Years)             11\n",
      "Weight (kg)              6\n",
      "Color              Bicolor\n",
      "Gender              Female\n",
      "ID                   527.0\n",
      "Name: 99, dtype: object\n"
     ]
    },
    {
     "data": {
      "text/html": [
       "<div>\n",
       "<style scoped>\n",
       "    .dataframe tbody tr th:only-of-type {\n",
       "        vertical-align: middle;\n",
       "    }\n",
       "\n",
       "    .dataframe tbody tr th {\n",
       "        vertical-align: top;\n",
       "    }\n",
       "\n",
       "    .dataframe thead th {\n",
       "        text-align: right;\n",
       "    }\n",
       "</style>\n",
       "<table border=\"1\" class=\"dataframe\">\n",
       "  <thead>\n",
       "    <tr style=\"text-align: right;\">\n",
       "      <th></th>\n",
       "      <th>Breed</th>\n",
       "      <th>Age (Years)</th>\n",
       "      <th>Weight (kg)</th>\n",
       "      <th>Color</th>\n",
       "      <th>Gender</th>\n",
       "      <th>ID</th>\n",
       "      <th>Weigh (lbs)</th>\n",
       "    </tr>\n",
       "  </thead>\n",
       "  <tbody>\n",
       "    <tr>\n",
       "      <th>997</th>\n",
       "      <td>Persian</td>\n",
       "      <td>19</td>\n",
       "      <td>9</td>\n",
       "      <td>Cream</td>\n",
       "      <td>Male</td>\n",
       "      <td>659.0</td>\n",
       "      <td>19.845</td>\n",
       "    </tr>\n",
       "    <tr>\n",
       "      <th>998</th>\n",
       "      <td>Persian</td>\n",
       "      <td>17</td>\n",
       "      <td>3</td>\n",
       "      <td>Bicolor</td>\n",
       "      <td>Female</td>\n",
       "      <td>124.0</td>\n",
       "      <td>6.615</td>\n",
       "    </tr>\n",
       "    <tr>\n",
       "      <th>999</th>\n",
       "      <td>Manx</td>\n",
       "      <td>18</td>\n",
       "      <td>8</td>\n",
       "      <td>Black</td>\n",
       "      <td>Male</td>\n",
       "      <td>226.0</td>\n",
       "      <td>17.640</td>\n",
       "    </tr>\n",
       "    <tr>\n",
       "      <th>1000</th>\n",
       "      <td>Orange Tabby</td>\n",
       "      <td>3</td>\n",
       "      <td>5</td>\n",
       "      <td>Orange</td>\n",
       "      <td>Male</td>\n",
       "      <td>NaN</td>\n",
       "      <td>11.025</td>\n",
       "    </tr>\n",
       "    <tr>\n",
       "      <th>1001</th>\n",
       "      <td>Orange Tabby</td>\n",
       "      <td>3</td>\n",
       "      <td>5</td>\n",
       "      <td>Orange</td>\n",
       "      <td>Male</td>\n",
       "      <td>NaN</td>\n",
       "      <td>11.025</td>\n",
       "    </tr>\n",
       "  </tbody>\n",
       "</table>\n",
       "</div>"
      ],
      "text/plain": [
       "             Breed  Age (Years)  Weight (kg)    Color  Gender     ID  \\\n",
       "997        Persian           19            9    Cream    Male  659.0   \n",
       "998        Persian           17            3  Bicolor  Female  124.0   \n",
       "999           Manx           18            8    Black    Male  226.0   \n",
       "1000  Orange Tabby            3            5   Orange    Male    NaN   \n",
       "1001  Orange Tabby            3            5   Orange    Male    NaN   \n",
       "\n",
       "      Weigh (lbs)  \n",
       "997        19.845  \n",
       "998         6.615  \n",
       "999        17.640  \n",
       "1000       11.025  \n",
       "1001       11.025  "
      ]
     },
     "execution_count": 37,
     "metadata": {},
     "output_type": "execute_result"
    }
   ],
   "source": [
    "#cats.drop(['Unnamed: 0'], inplace=True, axis=1) # removes a column\n",
    "#cats.drop(1004, inplace=True)\n",
    "target = cats.iloc[99] # column, row\n",
    "print(target)\n",
    "\n",
    "cats['Weigh (lbs)'] = cats['Weight (kg)'] * 2.205\n",
    "'''\n",
    "new_row = pd.Series({\n",
    "    'Breed': 'Orange Tabby',\n",
    "    'Age (Years)':3,\n",
    "    'Weight (kg)': 5,\n",
    "    'Color': 'Orange',\n",
    "    'Gender': 'Male'\n",
    "})\n",
    "cats.loc[len(cats.index)] = new_row\n",
    "'''\n",
    "cats.tail()"
   ]
  },
  {
   "cell_type": "code",
   "execution_count": null,
   "id": "2c40e000",
   "metadata": {},
   "outputs": [],
   "source": []
  }
 ],
 "metadata": {
  "kernelspec": {
   "display_name": "Python 3 (ipykernel)",
   "language": "python",
   "name": "python3"
  },
  "language_info": {
   "codemirror_mode": {
    "name": "ipython",
    "version": 3
   },
   "file_extension": ".py",
   "mimetype": "text/x-python",
   "name": "python",
   "nbconvert_exporter": "python",
   "pygments_lexer": "ipython3",
   "version": "3.9.13"
  }
 },
 "nbformat": 4,
 "nbformat_minor": 5
}
